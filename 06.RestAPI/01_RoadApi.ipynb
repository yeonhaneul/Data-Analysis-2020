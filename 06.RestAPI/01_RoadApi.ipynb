{
 "metadata": {
  "language_info": {
   "codemirror_mode": {
    "name": "ipython",
    "version": 3
   },
   "file_extension": ".py",
   "mimetype": "text/x-python",
   "name": "python",
   "nbconvert_exporter": "python",
   "pygments_lexer": "ipython3",
   "version": "3.8.3-final"
  },
  "orig_nbformat": 2,
  "kernelspec": {
   "name": "Python 3.8.3 64-bit ('base': conda)",
   "display_name": "Python 3.8.3 64-bit ('base': conda)",
   "metadata": {
    "interpreter": {
     "hash": "b3ba2566441a7c06988d0923437866b63cedc61552a5af99d1f4fb67d367b25f"
    }
   }
  }
 },
 "nbformat": 4,
 "nbformat_minor": 2,
 "cells": [
  {
   "cell_type": "markdown",
   "metadata": {},
   "source": [
    "# 행정안전부 도로명주소 API\n",
    "### 건물명으로부터 도로명주소 구하기"
   ]
  },
  {
   "cell_type": "code",
   "execution_count": 1,
   "metadata": {},
   "outputs": [],
   "source": [
    "import requests\n",
    "from urllib.parse import urlparse\n",
    "import pandas as pd"
   ]
  },
  {
   "cell_type": "code",
   "execution_count": 2,
   "metadata": {},
   "outputs": [],
   "source": [
    "key_fd = open('roadapikey.txt', mode='r')\n",
    "roadapi_key = key_fd.read(100)\n",
    "key_fd.close()"
   ]
  },
  {
   "cell_type": "code",
   "execution_count": 11,
   "metadata": {},
   "outputs": [
    {
     "output_type": "execute_result",
     "data": {
      "text/plain": [
       "'https://www.juso.go.kr/addrlink/addrLinkApi.do?confmKey=U01TX0FVVEgyMDIwMTExOTEwMjMzNTExMDQzNzg=&currentPage=1&countPerPage=6&keyword=강서구청&resultType=json'"
      ]
     },
     "metadata": {},
     "execution_count": 11
    }
   ],
   "source": [
    "road_url = 'https://www.juso.go.kr/addrlink/addrLinkApi.do'\n",
    "url = f'{road_url}?confmKey={roadapi_key}&currentPage=1&countPerPage=6&keyword=강서구청&resultType=json'\n",
    "# 위의 상태로 쓰면 한글에 인코딩 문제가 생길 수 있어서, 인코딩을 해야한다\n",
    "urlparse(url).geturl()"
   ]
  },
  {
   "cell_type": "code",
   "execution_count": 12,
   "metadata": {},
   "outputs": [
    {
     "output_type": "execute_result",
     "data": {
      "text/plain": [
       "{'results': {'common': {'errorMessage': '정상',\n",
       "   'countPerPage': '6',\n",
       "   'totalCount': '6',\n",
       "   'errorCode': '0',\n",
       "   'currentPage': '1'},\n",
       "  'juso': [{'detBdNmList': '',\n",
       "    'engAddr': '302, Hwagok-ro, Gangseo-gu, Seoul',\n",
       "    'rn': '화곡로',\n",
       "    'emdNm': '화곡동',\n",
       "    'zipNo': '07658',\n",
       "    'roadAddrPart2': ' (화곡동)',\n",
       "    'emdNo': '02',\n",
       "    'sggNm': '강서구',\n",
       "    'jibunAddr': '서울특별시 강서구 화곡동 980-16 강서구청',\n",
       "    'siNm': '서울특별시',\n",
       "    'roadAddrPart1': '서울특별시 강서구 화곡로 302',\n",
       "    'bdNm': '강서구청',\n",
       "    'admCd': '1150010300',\n",
       "    'udrtYn': '0',\n",
       "    'lnbrMnnm': '980',\n",
       "    'roadAddr': '서울특별시 강서구 화곡로 302 (화곡동)',\n",
       "    'lnbrSlno': '16',\n",
       "    'buldMnnm': '302',\n",
       "    'bdKdcd': '0',\n",
       "    'liNm': '',\n",
       "    'rnMgtSn': '115003005069',\n",
       "    'mtYn': '0',\n",
       "    'bdMgtSn': '1150010300109800016015086',\n",
       "    'buldSlno': '0'},\n",
       "   {'detBdNmList': '어린이집',\n",
       "    'engAddr': '72, Hwagok-ro 44na-gil, Gangseo-gu, Seoul',\n",
       "    'rn': '화곡로44나길',\n",
       "    'emdNm': '화곡동',\n",
       "    'zipNo': '07663',\n",
       "    'roadAddrPart2': ' (화곡동)',\n",
       "    'emdNo': '01',\n",
       "    'sggNm': '강서구',\n",
       "    'jibunAddr': '서울특별시 강서구 화곡동 980-29 강서구청',\n",
       "    'siNm': '서울특별시',\n",
       "    'roadAddrPart1': '서울특별시 강서구 화곡로44나길 72',\n",
       "    'bdNm': '강서구청',\n",
       "    'admCd': '1150010300',\n",
       "    'udrtYn': '0',\n",
       "    'lnbrMnnm': '980',\n",
       "    'roadAddr': '서울특별시 강서구 화곡로44나길 72 (화곡동)',\n",
       "    'lnbrSlno': '29',\n",
       "    'buldMnnm': '72',\n",
       "    'bdKdcd': '0',\n",
       "    'liNm': '',\n",
       "    'rnMgtSn': '115004145529',\n",
       "    'mtYn': '0',\n",
       "    'bdMgtSn': '1150010300109800029029351',\n",
       "    'buldSlno': '0'},\n",
       "   {'detBdNmList': '',\n",
       "    'engAddr': '477, Nakdongbuk-ro, Gangseo-gu, Busan',\n",
       "    'rn': '낙동북로',\n",
       "    'emdNm': '대저1동',\n",
       "    'zipNo': '46702',\n",
       "    'roadAddrPart2': ' (대저1동)',\n",
       "    'emdNo': '01',\n",
       "    'sggNm': '강서구',\n",
       "    'jibunAddr': '부산광역시 강서구 대저1동 2300 강서구청',\n",
       "    'siNm': '부산광역시',\n",
       "    'roadAddrPart1': '부산광역시 강서구 낙동북로 477',\n",
       "    'bdNm': '강서구청',\n",
       "    'admCd': '2644010100',\n",
       "    'udrtYn': '0',\n",
       "    'lnbrMnnm': '2300',\n",
       "    'roadAddr': '부산광역시 강서구 낙동북로 477 (대저1동)',\n",
       "    'lnbrSlno': '0',\n",
       "    'buldMnnm': '477',\n",
       "    'bdKdcd': '0',\n",
       "    'liNm': '',\n",
       "    'rnMgtSn': '264403006026',\n",
       "    'mtYn': '0',\n",
       "    'bdMgtSn': '2644010100123000000030979',\n",
       "    'buldSlno': '0'},\n",
       "   {'detBdNmList': '',\n",
       "    'engAddr': '208, Nambusunhwan-ro, Gangseo-gu, Seoul',\n",
       "    'rn': '남부순환로',\n",
       "    'emdNm': '외발산동',\n",
       "    'zipNo': '07506',\n",
       "    'roadAddrPart2': ' (외발산동)',\n",
       "    'emdNo': '02',\n",
       "    'sggNm': '강서구',\n",
       "    'jibunAddr': '서울특별시 강서구 외발산동 268-7 강서구청청소차고',\n",
       "    'siNm': '서울특별시',\n",
       "    'roadAddrPart1': '서울특별시 강서구 남부순환로 208',\n",
       "    'bdNm': '강서구청청소차고',\n",
       "    'admCd': '1150010700',\n",
       "    'udrtYn': '0',\n",
       "    'lnbrMnnm': '268',\n",
       "    'roadAddr': '서울특별시 강서구 남부순환로 208 (외발산동)',\n",
       "    'lnbrSlno': '7',\n",
       "    'buldMnnm': '208',\n",
       "    'bdKdcd': '0',\n",
       "    'liNm': '',\n",
       "    'rnMgtSn': '115002000003',\n",
       "    'mtYn': '0',\n",
       "    'bdMgtSn': '1150010700102680007008925',\n",
       "    'buldSlno': '0'},\n",
       "   {'detBdNmList': '',\n",
       "    'engAddr': '38, Yangcheon-ro 59-gil, Gangseo-gu, Seoul',\n",
       "    'rn': '양천로59길',\n",
       "    'emdNm': '가양동',\n",
       "    'zipNo': '07532',\n",
       "    'roadAddrPart2': ' (가양동)',\n",
       "    'emdNo': '01',\n",
       "    'sggNm': '강서구',\n",
       "    'jibunAddr': '서울특별시 강서구 가양동 1488-9 강서구청가양동별관',\n",
       "    'siNm': '서울특별시',\n",
       "    'roadAddrPart1': '서울특별시 강서구 양천로59길 38',\n",
       "    'bdNm': '강서구청가양동별관',\n",
       "    'admCd': '1150010400',\n",
       "    'udrtYn': '0',\n",
       "    'lnbrMnnm': '1488',\n",
       "    'roadAddr': '서울특별시 강서구 양천로59길 38 (가양동)',\n",
       "    'lnbrSlno': '9',\n",
       "    'buldMnnm': '38',\n",
       "    'bdKdcd': '0',\n",
       "    'liNm': '',\n",
       "    'rnMgtSn': '115004145414',\n",
       "    'mtYn': '0',\n",
       "    'bdMgtSn': '1150010400114880009009516',\n",
       "    'buldSlno': '0'},\n",
       "   {'detBdNmList': '',\n",
       "    'engAddr': '485, Nakdongbuk-ro, Gangseo-gu, Busan',\n",
       "    'rn': '낙동북로',\n",
       "    'emdNm': '대저1동',\n",
       "    'zipNo': '46702',\n",
       "    'roadAddrPart2': ' (대저1동)',\n",
       "    'emdNo': '01',\n",
       "    'sggNm': '강서구',\n",
       "    'jibunAddr': '부산광역시 강서구 대저1동 2300-3 강서구청역',\n",
       "    'siNm': '부산광역시',\n",
       "    'roadAddrPart1': '부산광역시 강서구 낙동북로 485',\n",
       "    'bdNm': '강서구청역',\n",
       "    'admCd': '2644010100',\n",
       "    'udrtYn': '0',\n",
       "    'lnbrMnnm': '2300',\n",
       "    'roadAddr': '부산광역시 강서구 낙동북로 485 (대저1동)',\n",
       "    'lnbrSlno': '3',\n",
       "    'buldMnnm': '485',\n",
       "    'bdKdcd': '0',\n",
       "    'liNm': '',\n",
       "    'rnMgtSn': '264403006026',\n",
       "    'mtYn': '0',\n",
       "    'bdMgtSn': '2644010100123000003000001',\n",
       "    'buldSlno': '0'}]}}"
      ]
     },
     "metadata": {},
     "execution_count": 12
    }
   ],
   "source": [
    "results = requests.get(urlparse(url).geturl()).json()\n",
    "results"
   ]
  },
  {
   "cell_type": "code",
   "execution_count": 13,
   "metadata": {},
   "outputs": [
    {
     "output_type": "execute_result",
     "data": {
      "text/plain": [
       "6"
      ]
     },
     "metadata": {},
     "execution_count": 13
    }
   ],
   "source": [
    "addr_list = results['results']['juso']\n",
    "len(addr_list)"
   ]
  },
  {
   "cell_type": "code",
   "execution_count": 14,
   "metadata": {},
   "outputs": [
    {
     "output_type": "stream",
     "name": "stdout",
     "text": [
      "강서구청 서울특별시 강서구 화곡로 302 (화곡동)\n강서구청 서울특별시 강서구 화곡로44나길 72 (화곡동)\n강서구청 부산광역시 강서구 낙동북로 477 (대저1동)\n강서구청청소차고 서울특별시 강서구 남부순환로 208 (외발산동)\n강서구청가양동별관 서울특별시 강서구 양천로59길 38 (가양동)\n강서구청역 부산광역시 강서구 낙동북로 485 (대저1동)\n"
     ]
    }
   ],
   "source": [
    "for addr in addr_list:\n",
    "    print(addr['bdNm'], addr['roadAddr'])"
   ]
  },
  {
   "cell_type": "markdown",
   "metadata": {},
   "source": [
    "### 강서구청, 양천구청, 부천시청, 영등포구청, 김포시청 도로명주소 뽑기"
   ]
  },
  {
   "cell_type": "code",
   "execution_count": 16,
   "metadata": {},
   "outputs": [],
   "source": [
    "key_fd = open('roadapikey.txt', mode='r')\n",
    "roadapi_key = key_fd.read(100)\n",
    "key_fd.close()"
   ]
  },
  {
   "cell_type": "code",
   "execution_count": 35,
   "metadata": {},
   "outputs": [],
   "source": [
    "offices = ['강서구청', '양천구청', '부천시청', '영등포구청', '김포시청']\n",
    "address_list = []\n",
    "\n",
    "for office in offices:\n",
    "    road_url = 'https://www.juso.go.kr/addrlink/addrLinkApi.do'\n",
    "    url = f'{road_url}?confmKey={roadapi_key}&currentPage=1&countPerPage=1&keyword={office}&resultType=json'\n",
    "\n",
    "    results = requests.get(urlparse(url).geturl()).json()\n",
    "    addr_list = results['results']['juso']\n",
    "\n",
    "    address_list.append(addr_list[0]['roadAddr'])\n",
    "    #for addr in addr_list:\n",
    "        #address_list.append(addr['roadAddr'])"
   ]
  },
  {
   "cell_type": "code",
   "execution_count": 36,
   "metadata": {},
   "outputs": [
    {
     "output_type": "execute_result",
     "data": {
      "text/plain": [
       "['서울특별시 강서구 화곡로 302 (화곡동)',\n",
       " '서울특별시 양천구 목동동로 105 (신정동)',\n",
       " '경기도 부천시 길주로 210-2 (중동)',\n",
       " '서울특별시 영등포구 당산로 123 (당산동3가)',\n",
       " '경기도 김포시 사우중로 1 (사우동)']"
      ]
     },
     "metadata": {},
     "execution_count": 36
    }
   ],
   "source": [
    "address_list"
   ]
  },
  {
   "cell_type": "code",
   "execution_count": 44,
   "metadata": {},
   "outputs": [
    {
     "output_type": "execute_result",
     "data": {
      "text/plain": [
       "    bldg                   road_addr\n",
       "0   강서구청     서울특별시 강서구 화곡로 302 (화곡동)\n",
       "1   양천구청    서울특별시 양천구 목동동로 105 (신정동)\n",
       "2   부천시청      경기도 부천시 길주로 210-2 (중동)\n",
       "3  영등포구청  서울특별시 영등포구 당산로 123 (당산동3가)\n",
       "4   김포시청        경기도 김포시 사우중로 1 (사우동)"
      ],
      "text/html": "<div>\n<style scoped>\n    .dataframe tbody tr th:only-of-type {\n        vertical-align: middle;\n    }\n\n    .dataframe tbody tr th {\n        vertical-align: top;\n    }\n\n    .dataframe thead th {\n        text-align: right;\n    }\n</style>\n<table border=\"1\" class=\"dataframe\">\n  <thead>\n    <tr style=\"text-align: right;\">\n      <th></th>\n      <th>bldg</th>\n      <th>road_addr</th>\n    </tr>\n  </thead>\n  <tbody>\n    <tr>\n      <th>0</th>\n      <td>강서구청</td>\n      <td>서울특별시 강서구 화곡로 302 (화곡동)</td>\n    </tr>\n    <tr>\n      <th>1</th>\n      <td>양천구청</td>\n      <td>서울특별시 양천구 목동동로 105 (신정동)</td>\n    </tr>\n    <tr>\n      <th>2</th>\n      <td>부천시청</td>\n      <td>경기도 부천시 길주로 210-2 (중동)</td>\n    </tr>\n    <tr>\n      <th>3</th>\n      <td>영등포구청</td>\n      <td>서울특별시 영등포구 당산로 123 (당산동3가)</td>\n    </tr>\n    <tr>\n      <th>4</th>\n      <td>김포시청</td>\n      <td>경기도 김포시 사우중로 1 (사우동)</td>\n    </tr>\n  </tbody>\n</table>\n</div>"
     },
     "metadata": {},
     "execution_count": 44
    }
   ],
   "source": [
    "df = pd.DataFrame({\n",
    "    'bldg' : offices,\n",
    "    'road_addr' : address_list\n",
    "})\n",
    "df"
   ]
  },
  {
   "cell_type": "code",
   "execution_count": 45,
   "metadata": {},
   "outputs": [
    {
     "output_type": "execute_result",
     "data": {
      "text/plain": [
       "     시설명                       도로명주소\n",
       "0   강서구청     서울특별시 강서구 화곡로 302 (화곡동)\n",
       "1   양천구청    서울특별시 양천구 목동동로 105 (신정동)\n",
       "2   부천시청      경기도 부천시 길주로 210-2 (중동)\n",
       "3  영등포구청  서울특별시 영등포구 당산로 123 (당산동3가)\n",
       "4   김포시청        경기도 김포시 사우중로 1 (사우동)"
      ],
      "text/html": "<div>\n<style scoped>\n    .dataframe tbody tr th:only-of-type {\n        vertical-align: middle;\n    }\n\n    .dataframe tbody tr th {\n        vertical-align: top;\n    }\n\n    .dataframe thead th {\n        text-align: right;\n    }\n</style>\n<table border=\"1\" class=\"dataframe\">\n  <thead>\n    <tr style=\"text-align: right;\">\n      <th></th>\n      <th>시설명</th>\n      <th>도로명주소</th>\n    </tr>\n  </thead>\n  <tbody>\n    <tr>\n      <th>0</th>\n      <td>강서구청</td>\n      <td>서울특별시 강서구 화곡로 302 (화곡동)</td>\n    </tr>\n    <tr>\n      <th>1</th>\n      <td>양천구청</td>\n      <td>서울특별시 양천구 목동동로 105 (신정동)</td>\n    </tr>\n    <tr>\n      <th>2</th>\n      <td>부천시청</td>\n      <td>경기도 부천시 길주로 210-2 (중동)</td>\n    </tr>\n    <tr>\n      <th>3</th>\n      <td>영등포구청</td>\n      <td>서울특별시 영등포구 당산로 123 (당산동3가)</td>\n    </tr>\n    <tr>\n      <th>4</th>\n      <td>김포시청</td>\n      <td>경기도 김포시 사우중로 1 (사우동)</td>\n    </tr>\n  </tbody>\n</table>\n</div>"
     },
     "metadata": {},
     "execution_count": 45
    }
   ],
   "source": [
    "address = pd.DataFrame({\n",
    "    '시설명' : offices,\n",
    "    '도로명주소' : address_list\n",
    "})\n",
    "address"
   ]
  },
  {
   "cell_type": "code",
   "execution_count": 46,
   "metadata": {},
   "outputs": [],
   "source": [
    "address.to_csv('my_address.csv', encoding='utf8', sep=',')\n",
    "df.to_csv('address.csv', encoding='utf8', sep=',', index=False)"
   ]
  },
  {
   "cell_type": "code",
   "execution_count": null,
   "metadata": {},
   "outputs": [],
   "source": []
  }
 ]
}