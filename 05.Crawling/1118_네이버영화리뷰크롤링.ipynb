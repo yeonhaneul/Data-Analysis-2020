{
 "metadata": {
  "language_info": {
   "codemirror_mode": {
    "name": "ipython",
    "version": 3
   },
   "file_extension": ".py",
   "mimetype": "text/x-python",
   "name": "python",
   "nbconvert_exporter": "python",
   "pygments_lexer": "ipython3",
   "version": "3.8.3-final"
  },
  "orig_nbformat": 2,
  "kernelspec": {
   "name": "Python 3.8.3 64-bit ('base': conda)",
   "display_name": "Python 3.8.3 64-bit ('base': conda)",
   "metadata": {
    "interpreter": {
     "hash": "b3ba2566441a7c06988d0923437866b63cedc61552a5af99d1f4fb67d367b25f"
    }
   }
  }
 },
 "nbformat": 4,
 "nbformat_minor": 2,
 "cells": [
  {
   "cell_type": "code",
   "execution_count": 2,
   "metadata": {},
   "outputs": [],
   "source": [
    "from bs4 import BeautifulSoup\n",
    "import urllib.request\n",
    "import pandas as pd\n",
    "from tqdm import tqdm_notebook"
   ]
  },
  {
   "cell_type": "code",
   "execution_count": 3,
   "metadata": {},
   "outputs": [],
   "source": [
    "import requests\n",
    "base_url = 'https://movie.naver.com/movie/point/af/list.nhn?st=mcode&sword=129860&target=after&page='\n",
    "page_url = '1'\n",
    "web_url = base_url+page_url\n",
    "with urllib.request.urlopen(web_url) as response:\n",
    "    html = response.read()\n",
    "    soup = BeautifulSoup(html, 'html.parser')"
   ]
  },
  {
   "cell_type": "code",
   "execution_count": 4,
   "metadata": {},
   "outputs": [],
   "source": [
    "oc = soup.select_one('#old_content')"
   ]
  },
  {
   "cell_type": "code",
   "execution_count": 5,
   "metadata": {},
   "outputs": [
    {
     "output_type": "execute_result",
     "data": {
      "text/plain": [
       "'걸후드'"
      ]
     },
     "metadata": {},
     "execution_count": 5
    }
   ],
   "source": [
    "movie_info = oc.select_one('.choice_movie_info')\n",
    "title = movie_info.select_one('a').get_text()\n",
    "title"
   ]
  },
  {
   "cell_type": "code",
   "execution_count": 6,
   "metadata": {},
   "outputs": [
    {
     "output_type": "execute_result",
     "data": {
      "text/plain": [
       "('드라마', '113', '2020.11.12', '8.34')"
      ]
     },
     "metadata": {},
     "execution_count": 6
    }
   ],
   "source": [
    "tds = movie_info.select('td')\n",
    "tds[0].get_text().split('|')\n",
    "\n",
    "genre = tds[0].get_text().split('|')[0].strip()\n",
    "r_time = tds[0].get_text().split('|')[1].strip()[:-1]\n",
    "release = tds[0].get_text().split('|')[2].strip()[3:]\n",
    "star = tds[6].get_text().strip()\n",
    "s_index = star.find('.')\n",
    "star = star[:s_index+3]\n",
    "\n",
    "genre, r_time, release, star"
   ]
  },
  {
   "cell_type": "code",
   "execution_count": 7,
   "metadata": {},
   "outputs": [
    {
     "output_type": "execute_result",
     "data": {
      "text/plain": [
       "'\\n17251507\\n\\n걸후드\\n\\n별점 - 총 10점 중9\\n\\n뜻대로 풀리지 않는 학교생활, 편견과 폭력에도 삶을 자신의 의지대로 살고자하는 마리엔의 삶을 응원하고 싶습니다. \\n\\t\\t\\t\\n\\t\\t\\t\\n\\t\\t\\t\\n\\t\\t\\t\\t\\n\\t\\t\\t\\t\\n\\t\\t\\t\\t\\n\\t\\t\\t\\t신고\\n\\narca****20.11.19\\n'"
      ]
     },
     "metadata": {},
     "execution_count": 7
    }
   ],
   "source": [
    "table = oc.select_one('.list_netizen')\n",
    "r_trs = table.select('tr')\n",
    "r_trs[1].get_text()"
   ]
  },
  {
   "cell_type": "code",
   "execution_count": 8,
   "metadata": {},
   "outputs": [
    {
     "output_type": "execute_result",
     "data": {
      "text/plain": [
       "['',\n",
       " '17251507',\n",
       " '',\n",
       " '걸후드',\n",
       " '',\n",
       " '별점 - 총 10점 중9',\n",
       " '',\n",
       " '뜻대로 풀리지 않는 학교생활, 편견과 폭력에도 삶을 자신의 의지대로 살고자하는 마리엔의 삶을 응원하고 싶습니다. ',\n",
       " '\\t\\t\\t',\n",
       " '\\t\\t\\t',\n",
       " '\\t\\t\\t',\n",
       " '\\t\\t\\t\\t',\n",
       " '\\t\\t\\t\\t',\n",
       " '\\t\\t\\t\\t',\n",
       " '\\t\\t\\t\\t신고',\n",
       " '',\n",
       " 'arca****20.11.19',\n",
       " '']"
      ]
     },
     "metadata": {},
     "execution_count": 8
    }
   ],
   "source": [
    "r_table = r_trs[1].get_text().split('\\n')\n",
    "r_table"
   ]
  },
  {
   "cell_type": "code",
   "execution_count": 9,
   "metadata": {},
   "outputs": [
    {
     "output_type": "execute_result",
     "data": {
      "text/plain": [
       "('9',\n",
       " '뜻대로 풀리지 않는 학교생활, 편견과 폭력에도 삶을 자신의 의지대로 살고자하는 마리엔의 삶을 응원하고 싶습니다. ',\n",
       " 'arca****',\n",
       " '20.11.19')"
      ]
     },
     "metadata": {},
     "execution_count": 9
    }
   ],
   "source": [
    "r_index = r_table[5].find('중')\n",
    "r_star = r_table[5][r_index+1:]\n",
    "review = r_table[7]\n",
    "r_split = r_table[-2].split('*')\n",
    "r_name = r_split[0]+'****'\n",
    "r_date = r_split[-1]\n",
    "r_star, review, r_name, r_date"
   ]
  },
  {
   "cell_type": "code",
   "execution_count": 11,
   "metadata": {},
   "outputs": [],
   "source": [
    "titles=[]; r_stars=[]; reviews=[]; r_names=[]; r_dates=[]\n",
    "\n",
    "\"\"\"for page in range(25):\n",
    "    base_url = 'https://movie.naver.com/movie/point/af/list.nhn?st=mcode&sword=129860&target=after&page='\n",
    "    page_url = str(page+1)\n",
    "    web_url = base_url+page_url\n",
    "    with urllib.request.urlopen(web_url) as response:\n",
    "        html = response.read()\n",
    "        soup = BeautifulSoup(html, 'html.parser')\"\"\"\n",
    "\n",
    "oc = soup.select_one('#old_content')\n",
    "\n",
    "movie_info = oc.select_one('.choice_movie_info')\n",
    "title = movie_info.select_one('a').get_text()\n",
    "\n",
    "table = oc.select_one('.list_netizen')\n",
    "r_trs = table.select('tr')[1:]\n",
    "\n",
    "for r_tr in r_trs:\n",
    "    r_t = r_tr.get_text().split('\\n')\n",
    "    \n",
    "    r_index = r_t[5].find('중')\n",
    "    r_split = r_t[-2].split('*')\n",
    "    \n",
    "    r_star = r_t[5][r_index+1:]\n",
    "    review = r_t[7]\n",
    "    r_name = r_split[0]+'****'\n",
    "    r_date = r_split[-1]\n",
    "\n",
    "    titles.append(title)\n",
    "    r_stars.append(r_star)\n",
    "    reviews.append(reviews)\n",
    "    r_names.append(r_name)\n",
    "    r_dates.append(r_date)"
   ]
  },
  {
   "cell_type": "code",
   "execution_count": 1,
   "metadata": {},
   "outputs": [
    {
     "output_type": "error",
     "ename": "NameError",
     "evalue": "name 'pd' is not defined",
     "traceback": [
      "\u001b[1;31m---------------------------------------------------------------------------\u001b[0m",
      "\u001b[1;31mNameError\u001b[0m                                 Traceback (most recent call last)",
      "\u001b[1;32m<ipython-input-1-574f22f721b8>\u001b[0m in \u001b[0;36m<module>\u001b[1;34m\u001b[0m\n\u001b[1;32m----> 1\u001b[1;33m n_movie_review = pd.DataFrame({\n\u001b[0m\u001b[0;32m      2\u001b[0m     \u001b[1;34m'영화제목'\u001b[0m\u001b[1;33m:\u001b[0m\u001b[0mtitles\u001b[0m\u001b[1;33m,\u001b[0m\u001b[1;33m\u001b[0m\u001b[1;33m\u001b[0m\u001b[0m\n\u001b[0;32m      3\u001b[0m     \u001b[1;34m'별점'\u001b[0m\u001b[1;33m:\u001b[0m\u001b[0mr_stars\u001b[0m\u001b[1;33m,\u001b[0m\u001b[1;33m\u001b[0m\u001b[1;33m\u001b[0m\u001b[0m\n\u001b[0;32m      4\u001b[0m     \u001b[1;34m'리뷰'\u001b[0m\u001b[1;33m:\u001b[0m\u001b[0mreviews\u001b[0m\u001b[1;33m,\u001b[0m\u001b[1;33m\u001b[0m\u001b[1;33m\u001b[0m\u001b[0m\n\u001b[0;32m      5\u001b[0m     \u001b[1;34m'ID'\u001b[0m\u001b[1;33m:\u001b[0m\u001b[0mr_names\u001b[0m\u001b[1;33m,\u001b[0m\u001b[1;33m\u001b[0m\u001b[1;33m\u001b[0m\u001b[0m\n",
      "\u001b[1;31mNameError\u001b[0m: name 'pd' is not defined"
     ]
    }
   ],
   "source": [
    "n_movie_review = pd.DataFrame({\n",
    "    '영화제목':titles,\n",
    "    '별점':r_stars,\n",
    "    '리뷰':reviews,\n",
    "    'ID':r_names,\n",
    "    '작성일':r_dates\n",
    "})\n",
    "n_movie_review.head()"
   ]
  },
  {
   "cell_type": "code",
   "execution_count": null,
   "metadata": {},
   "outputs": [],
   "source": []
  }
 ]
}