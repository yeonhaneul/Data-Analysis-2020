{
 "metadata": {
  "language_info": {
   "codemirror_mode": {
    "name": "ipython",
    "version": 3
   },
   "file_extension": ".py",
   "mimetype": "text/x-python",
   "name": "python",
   "nbconvert_exporter": "python",
   "pygments_lexer": "ipython3",
   "version": "3.8.3-final"
  },
  "orig_nbformat": 2,
  "kernelspec": {
   "name": "Python 3.8.3 64-bit ('base': conda)",
   "display_name": "Python 3.8.3 64-bit ('base': conda)",
   "metadata": {
    "interpreter": {
     "hash": "b3ba2566441a7c06988d0923437866b63cedc61552a5af99d1f4fb67d367b25f"
    }
   }
  }
 },
 "nbformat": 4,
 "nbformat_minor": 2,
 "cells": [
  {
   "cell_type": "code",
   "execution_count": 1,
   "metadata": {},
   "outputs": [],
   "source": [
    "from bs4 import BeautifulSoup\n",
    "import urllib.request\n",
    "import pandas as pd"
   ]
  },
  {
   "cell_type": "code",
   "execution_count": 2,
   "metadata": {},
   "outputs": [],
   "source": [
    "web_url = 'https://www.hanbit.co.kr/academy/books/book_view.html?p_code=B4797877052'\n",
    "with urllib.request.urlopen(web_url) as response:\n",
    "    html = response.read()\n",
    "    soup = BeautifulSoup(html, 'html.parser')"
   ]
  },
  {
   "cell_type": "code",
   "execution_count": 3,
   "metadata": {},
   "outputs": [
    {
     "output_type": "stream",
     "name": "stdout",
     "text": [
      "<div class=\"store_product_info_box\">\n<h3>포르잔 C++ 에센셜</h3>\n<p class=\"stit\"></p>\n<div class=\"info_area\">\n<div class=\"info_ico\">\n<p class=\"ico_a\">한빛아카데미</p>\n<p class=\"ico_book2\">번역서</p>\n<p class=\"ico_shopping1\">판매중</p>\n</div>\n<div class=\"sns_ico\">\n<span class=\"ico_facebook\"><a href=\"https://www.facebook.com/share.php?u=https://www.hanbit.co.kr/academy/books/book_view.html?p_code=B4797877052\" target=\"_blank\">페이스북 퍼가기</a></span>\n<!-- <span class=\"ico_google\"><a href=\"https://plus.google.com/share?url=https://www.hanbit.co.kr/academy/books/book_view.html?p_code=B4797877052\" target=\"_blank\">구글+ 퍼가기</a></span> -->\n<span class=\"ico_twitter\"><a href=\"https://twitter.com/share?text=%ED%8F%AC%EB%A5%B4%EC%9E%94+C%2B%2B+%EC%97%90%EC%84%BC%EC%85%9C&amp;url=https://www.hanbit.co.kr/academy/books/book_view.html?p_code=B4797877052\" target=\"_blank\">트위터 퍼가기</a></span>\n</div>\n</div>\n<ul class=\"info_list\">\n<li><strong>저자 : </strong><span>Behrouz A. Forouzan , Richard F. Gilberg </span></li>\n<li><strong>번역 : </strong><span>윤인성 </span></li>\n<li><strong>출간 : </strong><span>2020-11-10</span></li>\n<li><strong>페이지 : </strong><span>756 쪽</span></li>\n<li><strong>ISBN : </strong><span>9791156645061</span></li>\n<li><strong>물류코드 :</strong><span>4506</span></li>\n</ul>\n<div style=\"border:1px solid #dddddd;background-color:#f9f9f9;line-height:130%;padding:6px;margin-bottom:10px;color:#a01025;font-size:12px;letter-spacing:-1px;\">\n                        본 도서는 대학 강의용 교재로 개발되었으므로 연습문제 해답은 제공하지 않습니다.\n                    </div>\n<div class=\"tag_area\"><span>TAG : </span><a href=\"/search/search_list.html?ptype=B&amp;keyword=C++\">C++</a> ,<a href=\"/search/search_list.html?ptype=B&amp;keyword=C++프로그래밍\">C++프로그래밍</a> ,<a href=\"/search/search_list.html?ptype=B&amp;keyword=C++언어\">C++언어</a> ,<a href=\"/search/search_list.html?ptype=B&amp;keyword=객체지향\">객체지향</a> ,<a href=\"/search/search_list.html?ptype=B&amp;keyword=객체지향프로그래밍\">객체지향프로그래밍</a> ,<a href=\"/search/search_list.html?ptype=B&amp;keyword=고급프로그래밍\">고급프로그래밍</a> </div>\n<div class=\"step_area ico_step5\">\n<span> 초급 </span>\n<span> 초중급 </span>\n<span> 중급 </span>\n<span> 중고급 </span>\n<span><strong>고급</strong></span>\n</div>\n</div>\n"
     ]
    }
   ],
   "source": [
    "sp_info = soup.select_one('.store_product_info_box')\n",
    "print(sp_info)"
   ]
  },
  {
   "cell_type": "code",
   "execution_count": 4,
   "metadata": {},
   "outputs": [
    {
     "output_type": "execute_result",
     "data": {
      "text/plain": [
       "'포르잔 C++ 에센셜'"
      ]
     },
     "metadata": {},
     "execution_count": 4
    }
   ],
   "source": [
    "title = sp_info.find('h3').get_text()\n",
    "title"
   ]
  },
  {
   "cell_type": "code",
   "execution_count": 5,
   "metadata": {},
   "outputs": [
    {
     "output_type": "execute_result",
     "data": {
      "text/plain": [
       "[<li><strong>저자 : </strong><span>Behrouz A. Forouzan , Richard F. Gilberg </span></li>,\n",
       " <li><strong>번역 : </strong><span>윤인성 </span></li>,\n",
       " <li><strong>출간 : </strong><span>2020-11-10</span></li>,\n",
       " <li><strong>페이지 : </strong><span>756 쪽</span></li>,\n",
       " <li><strong>ISBN : </strong><span>9791156645061</span></li>,\n",
       " <li><strong>물류코드 :</strong><span>4506</span></li>]"
      ]
     },
     "metadata": {},
     "execution_count": 5
    }
   ],
   "source": [
    "li = sp_info.select('li')\n",
    "li"
   ]
  },
  {
   "cell_type": "code",
   "execution_count": 6,
   "metadata": {},
   "outputs": [
    {
     "output_type": "execute_result",
     "data": {
      "text/plain": [
       "('Behrouz A. Forouzan , Richard F. Gilberg ',\n",
       " '윤인성 ',\n",
       " '2020-11-10',\n",
       " '756 ',\n",
       " '9791156645061')"
      ]
     },
     "metadata": {},
     "execution_count": 6
    }
   ],
   "source": [
    "total_page_index = li[4].get_text().find('쪽')\n",
    "\n",
    "writer = li[0].get_text()[5:]\n",
    "translation = li[1].get_text()[5:]\n",
    "published = li[2].get_text()[5:]\n",
    "total_page = li[3].get_text()[6:total_page_index]\n",
    "isbn = li[4].get_text()[7:]\n",
    "writer, translation, published, total_page, isbn"
   ]
  },
  {
   "cell_type": "code",
   "execution_count": 7,
   "metadata": {},
   "outputs": [
    {
     "output_type": "execute_result",
     "data": {
      "text/plain": [
       "[<p><span class=\"pbl\">정가 : </span><span class=\"pbr\"><del>32,000원</del></span></p>,\n",
       " <p><span class=\"pbl\"><strong>판매가 : </strong></span><span class=\"pbr\"><strong>32,000</strong>원<span>(0% off)</span></span></p>,\n",
       " <p><span class=\"pbl\">마일리지 : </span><span class=\"pbr\">960점 (3%)</span></p>]"
      ]
     },
     "metadata": {},
     "execution_count": 7
    }
   ],
   "source": [
    "sp_area = soup.select_one('.store_payment_area')\n",
    "labels = sp_area.select('label')\n",
    "ps = labels[0].select('p')\n",
    "ps"
   ]
  },
  {
   "cell_type": "code",
   "execution_count": 8,
   "metadata": {},
   "outputs": [
    {
     "output_type": "execute_result",
     "data": {
      "text/plain": [
       "('32,000', '32,000', '960')"
      ]
     },
     "metadata": {},
     "execution_count": 8
    }
   ],
   "source": [
    "price_index = ps[0].get_text().find('원')\n",
    "sale_price_index = ps[1].get_text().find('원')\n",
    "mile_index = ps[2].get_text().find('점')\n",
    "\n",
    "price = ps[0].get_text()[5:price_index]\n",
    "sale_price = ps[1].get_text()[6:sale_price_index]\n",
    "mile = ps[2].get_text()[7:mile_index]\n",
    "price, sale_price, mile"
   ]
  },
  {
   "cell_type": "code",
   "execution_count": 29,
   "metadata": {},
   "outputs": [],
   "source": []
  },
  {
   "cell_type": "code",
   "execution_count": 30,
   "metadata": {},
   "outputs": [],
   "source": []
  },
  {
   "cell_type": "code",
   "execution_count": 31,
   "metadata": {},
   "outputs": [],
   "source": [
    "writer=[]; translation=[]; published=[]\n",
    "total_page=[]; isbn=[]; price=[]; sale_price=[]; mile=[]"
   ]
  },
  {
   "cell_type": "code",
   "execution_count": 38,
   "metadata": {
    "tags": []
   },
   "outputs": [
    {
     "output_type": "stream",
     "name": "stdout",
     "text": [
      "<span class=\"pop_quick_bg\" onclick=\"location='/academy/books/book_view.html?p_code=B4797877052'\"></span>\n",
      "<span class=\"pop_quick_bg\" onclick=\"location='/academy/books/book_view.html?p_code=B6503201303'\"></span>\n",
      "<span class=\"pop_quick_bg\" onclick=\"location='/academy/books/book_view.html?p_code=B1851418066'\"></span>\n",
      "<span class=\"pop_quick_bg\" onclick=\"location='/academy/books/book_view.html?p_code=B9479195027'\"></span>\n",
      "<span class=\"pop_quick_bg\" onclick=\"location='/academy/books/book_view.html?p_code=B2082711299'\"></span>\n",
      "<span class=\"pop_quick_bg\" onclick=\"location='/academy/books/book_view.html?p_code=B1825116777'\"></span>\n",
      "<span class=\"pop_quick_bg\" onclick=\"location='/academy/books/book_view.html?p_code=B5937482728'\"></span>\n",
      "<span class=\"pop_quick_bg\" onclick=\"location='/academy/books/book_view.html?p_code=B8404138031'\"></span>\n",
      "<span class=\"pop_quick_bg\" onclick=\"location='/academy/books/book_view.html?p_code=B8573612142'\"></span>\n",
      "<span class=\"pop_quick_bg\" onclick=\"location='/academy/books/book_view.html?p_code=B8658821149'\"></span>\n",
      "<span class=\"pop_quick_bg\" onclick=\"location='/academy/books/book_view.html?p_code=B7926921440'\"></span>\n",
      "<span class=\"pop_quick_bg\" onclick=\"location='/academy/books/book_view.html?p_code=B4295361584'\"></span>\n",
      "<span class=\"pop_quick_bg\" onclick=\"location='/academy/books/book_view.html?p_code=B3126325886'\"></span>\n",
      "<span class=\"pop_quick_bg\" onclick=\"location='/academy/books/book_view.html?p_code=B3715221949'\"></span>\n",
      "<span class=\"pop_quick_bg\" onclick=\"location='/academy/books/book_view.html?p_code=B3055805288'\"></span>\n",
      "<span class=\"pop_quick_bg\" onclick=\"location='/academy/books/book_view.html?p_code=B4872546419'\"></span>\n",
      "<span class=\"pop_quick_bg\" onclick=\"location='/academy/books/book_view.html?p_code=B1710834745'\"></span>\n",
      "<span class=\"pop_quick_bg\" onclick=\"location='/academy/books/book_view.html?p_code=B8200129293'\"></span>\n",
      "<span class=\"pop_quick_bg\" onclick=\"location='/academy/books/book_view.html?p_code=B8983481859'\"></span>\n",
      "<span class=\"pop_quick_bg\" onclick=\"location='/academy/books/book_view.html?p_code=B2049588591'\"></span>\n"
     ]
    }
   ],
   "source": [
    "base_url = 'https://www.hanbit.co.kr'\n",
    "page_url = '/academy/books/new_book_list.html'\n",
    "web_url = base_url+page_url\n",
    "with urllib.request.urlopen(web_url) as response:\n",
    "    html = response.read()\n",
    "    soup = BeautifulSoup(html, 'html.parser')\n",
    "    urls = soup.select('.pop_quick_bg')\n",
    "    for url in urls:\n",
    "        print(url)\n",
    "        url_text = url.attrs['onclick']\n",
    "        page_url = url_text[9:]\n",
    "        base_url = 'https://www.hanbit.co.kr'\n",
    "        page_url = '/academy/books/new_book_list.html'\n",
    "        web_url = base_url+page_url\n",
    "        with urllib.request.urlopen(web_url) as response:\n",
    "            html = response.read()\n",
    "            soup = BeautifulSoup(html, 'html.parser')\n",
    "            sp_area = soup.select_one('.store_payment_area')\n",
    "            \"\"\"labels = sp_area.select('label')\n",
    "            ps = label.select('p')\n",
    "            index = ps[1].get_text().find('(')\n",
    "            index2 = ps[2].get_text().find('(')\n",
    "            price = ps[0].get_text()[5:]\n",
    "            sale_price = ps[1].get_text()[6:index]\n",
    "            mile = ps[2].get_text()[7:index2]\n",
    "            prices.append(price)\n",
    "            translations.append(translation)\n",
    "            miles.append(mile)\n",
    "            sp_info = soup.select_one('.store_product_info_box')\n",
    "            title = sp_info.find('h3').get_text()\n",
    "            writer = li.get_text()[5:]\n",
    "            translation = li.get_text()[5:]\n",
    "            published = li.get_text()[5:]\n",
    "            total_page = li.get_text()[6:]\n",
    "            isbn = li.get_text()[7:]\n",
    "\n",
    "            writers.append(writer)\n",
    "            translations.append(translation)\n",
    "            publisheds.append(published)\n",
    "            total_pages.append(total_page)\n",
    "            isbns.append(isbn)\n",
    "    \"\"\""
   ]
  },
  {
   "cell_type": "code",
   "execution_count": null,
   "metadata": {},
   "outputs": [],
   "source": []
  },
  {
   "cell_type": "code",
   "execution_count": null,
   "metadata": {},
   "outputs": [],
   "source": []
  }
 ]
}