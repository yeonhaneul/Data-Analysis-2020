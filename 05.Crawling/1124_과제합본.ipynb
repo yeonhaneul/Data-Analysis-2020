{
 "metadata": {
  "language_info": {
   "codemirror_mode": {
    "name": "ipython",
    "version": 3
   },
   "file_extension": ".py",
   "mimetype": "text/x-python",
   "name": "python",
   "nbconvert_exporter": "python",
   "pygments_lexer": "ipython3",
   "version": "3.8.3-final"
  },
  "orig_nbformat": 2,
  "kernelspec": {
   "name": "python3",
   "display_name": "Python 3"
  }
 },
 "nbformat": 4,
 "nbformat_minor": 2,
 "cells": [
  {
   "source": [
    "# 11.24과제"
   ],
   "cell_type": "markdown",
   "metadata": {}
  },
  {
   "source": [
    "### 1. 사이트에서 동이름까지 크롤링해서 갖고오기"
   ],
   "cell_type": "markdown",
   "metadata": {}
  },
  {
   "cell_type": "code",
   "execution_count": 1,
   "metadata": {},
   "outputs": [],
   "source": [
    "import time\n",
    "from selenium import webdriver\n",
    "from selenium.webdriver.common.keys import Keys"
   ]
  },
  {
   "cell_type": "code",
   "execution_count": 2,
   "metadata": {},
   "outputs": [],
   "source": [
    "driver = webdriver.Chrome('./chromedriver')\n",
    "driver.maximize_window()\n",
    "driver.get('http://www.opinet.co.kr/searRgSelect.do')\n",
    "time.sleep(3)\n",
    "\n",
    "driver.find_element_by_css_selector('.ic_m1').click()\n",
    "time.sleep(2)\n",
    "\n",
    "region = driver.find_element_by_xpath('//*[@id=\"SIGUNGU_NM0\"]/option[5]')\n",
    "dong_1 = driver.find_element_by_xpath('//*[@id=\"DONG_NM\"]/option[9]').text\n",
    "dong_2 = driver.find_element_by_xpath('//*[@id=\"DONG_NM\"]/option[14]').text\n",
    "dong_3 = driver.find_element_by_xpath('//*[@id=\"DONG_NM\"]/option[25]').text\n",
    "\n",
    "dong_list = [dong_1, dong_2, dong_3]\n",
    "\n",
    "for dong in dong_list:\n",
    "    region = driver.find_element_by_xpath('//*[@id=\"SIGUNGU_NM0\"]/option[5]').click()\n",
    "    dongs = driver.find_element_by_id('DONG_NM')\n",
    "    dongs.send_keys(dong)\n",
    "    time.sleep(1)\n",
    "\n",
    "    driver.find_element_by_xpath('//*[@id=\"glopopd_excel\"]/span').click()\n",
    "    time.sleep(2)\n",
    "\n",
    "driver.quit()"
   ]
  },
  {
   "cell_type": "code",
   "execution_count": 3,
   "metadata": {},
   "outputs": [],
   "source": [
    "import pandas as pd\n",
    "from glob import glob"
   ]
  },
  {
   "cell_type": "code",
   "execution_count": 4,
   "metadata": {},
   "outputs": [
    {
     "output_type": "execute_result",
     "data": {
      "text/plain": [
       "['./station_dong_data\\\\지역_위치별(주유소) (1).xls',\n",
       " './station_dong_data\\\\지역_위치별(주유소) (2).xls',\n",
       " './station_dong_data\\\\지역_위치별(주유소).xls']"
      ]
     },
     "metadata": {},
     "execution_count": 4
    }
   ],
   "source": [
    "glob('./station_dong_data/지역*.xls')"
   ]
  },
  {
   "cell_type": "code",
   "execution_count": 5,
   "metadata": {},
   "outputs": [
    {
     "output_type": "execute_result",
     "data": {
      "text/plain": [
       "      지역              상호                     주소     상표          전화번호 셀프여부  \\\n",
       "0  서울특별시  대성석유(주)직영관문주유소        서울 강서구 공항대로 314  GS칼텍스  02-3665-2051    N   \n",
       "1  서울특별시          우장산주유소  서울 강서구 강서로 292 (내발산동)  SK에너지  02-3664-7163    N   \n",
       "\n",
       "  고급휘발유   휘발유    경유  실내등유  \n",
       "0  1599  1358  1187  1000  \n",
       "1     -  1358  1187  1000  "
      ],
      "text/html": "<div>\n<style scoped>\n    .dataframe tbody tr th:only-of-type {\n        vertical-align: middle;\n    }\n\n    .dataframe tbody tr th {\n        vertical-align: top;\n    }\n\n    .dataframe thead th {\n        text-align: right;\n    }\n</style>\n<table border=\"1\" class=\"dataframe\">\n  <thead>\n    <tr style=\"text-align: right;\">\n      <th></th>\n      <th>지역</th>\n      <th>상호</th>\n      <th>주소</th>\n      <th>상표</th>\n      <th>전화번호</th>\n      <th>셀프여부</th>\n      <th>고급휘발유</th>\n      <th>휘발유</th>\n      <th>경유</th>\n      <th>실내등유</th>\n    </tr>\n  </thead>\n  <tbody>\n    <tr>\n      <th>0</th>\n      <td>서울특별시</td>\n      <td>대성석유(주)직영관문주유소</td>\n      <td>서울 강서구 공항대로 314</td>\n      <td>GS칼텍스</td>\n      <td>02-3665-2051</td>\n      <td>N</td>\n      <td>1599</td>\n      <td>1358</td>\n      <td>1187</td>\n      <td>1000</td>\n    </tr>\n    <tr>\n      <th>1</th>\n      <td>서울특별시</td>\n      <td>우장산주유소</td>\n      <td>서울 강서구 강서로 292 (내발산동)</td>\n      <td>SK에너지</td>\n      <td>02-3664-7163</td>\n      <td>N</td>\n      <td>-</td>\n      <td>1358</td>\n      <td>1187</td>\n      <td>1000</td>\n    </tr>\n  </tbody>\n</table>\n</div>"
     },
     "metadata": {},
     "execution_count": 5
    }
   ],
   "source": [
    "df = pd.read_excel('./station_dong_data/지역_위치별(주유소).xls', header=2)\n",
    "df.head()"
   ]
  },
  {
   "cell_type": "code",
   "execution_count": 6,
   "metadata": {},
   "outputs": [
    {
     "output_type": "execute_result",
     "data": {
      "text/plain": [
       "      지역               상호                        주소     상표          전화번호 셀프여부  \\\n",
       "0  서울특별시   대성석유(주)방화대성주유소            서울 강서구 양천로 176  GS칼텍스  02-3663-7781    Y   \n",
       "1  서울특별시  대성석유(주) 마곡대성주유소            서울 강서구 강서로 457  GS칼텍스  02-3664-7781    Y   \n",
       "2  서울특별시           화곡역주유소  서울특별시 강서구  강서로 154 (화곡동)  알뜰주유소  02-2691-5151    Y   \n",
       "3  서울특별시           뉴신정주유소      서울 강서구 곰달래로 207(화곡동)  알뜰주유소  02-2601-0077    N   \n",
       "4  서울특별시            목화주유소     서울 강서구 국회대로 251 (화곡동)  SK에너지  02-2654-4564    Y   \n",
       "5  서울특별시  지에스칼텍스㈜ 경인고속주유소     서울 강서구 국회대로 225 (화곡동)  GS칼텍스  02-2608-5151    Y   \n",
       "6  서울특별시           신화곡주유소            서울 강서구 국회대로 71  S-OIL  02-2611-3161    Y   \n",
       "7  서울특별시          화곡현대주유소      서울 강서구 강서로 151 (화곡동)  SK에너지  02-2607-1942    Y   \n",
       "8  서울특별시   대성석유(주)직영관문주유소           서울 강서구 공항대로 314  GS칼텍스  02-3665-2051    N   \n",
       "9  서울특별시           우장산주유소     서울 강서구 강서로 292 (내발산동)  SK에너지  02-3664-7163    N   \n",
       "\n",
       "  고급휘발유   휘발유    경유  실내등유  \n",
       "0  1599  1365  1175     -  \n",
       "1  1599  1365  1185     -  \n",
       "2     -  1243  1043     -  \n",
       "3     -  1243  1043     -  \n",
       "4     -  1266  1072     -  \n",
       "5  1416  1266  1072  1100  \n",
       "6     -  1315  1115     -  \n",
       "7  1455  1326  1126     -  \n",
       "8  1599  1358  1187  1000  \n",
       "9     -  1358  1187  1000  "
      ],
      "text/html": "<div>\n<style scoped>\n    .dataframe tbody tr th:only-of-type {\n        vertical-align: middle;\n    }\n\n    .dataframe tbody tr th {\n        vertical-align: top;\n    }\n\n    .dataframe thead th {\n        text-align: right;\n    }\n</style>\n<table border=\"1\" class=\"dataframe\">\n  <thead>\n    <tr style=\"text-align: right;\">\n      <th></th>\n      <th>지역</th>\n      <th>상호</th>\n      <th>주소</th>\n      <th>상표</th>\n      <th>전화번호</th>\n      <th>셀프여부</th>\n      <th>고급휘발유</th>\n      <th>휘발유</th>\n      <th>경유</th>\n      <th>실내등유</th>\n    </tr>\n  </thead>\n  <tbody>\n    <tr>\n      <th>0</th>\n      <td>서울특별시</td>\n      <td>대성석유(주)방화대성주유소</td>\n      <td>서울 강서구 양천로 176</td>\n      <td>GS칼텍스</td>\n      <td>02-3663-7781</td>\n      <td>Y</td>\n      <td>1599</td>\n      <td>1365</td>\n      <td>1175</td>\n      <td>-</td>\n    </tr>\n    <tr>\n      <th>1</th>\n      <td>서울특별시</td>\n      <td>대성석유(주) 마곡대성주유소</td>\n      <td>서울 강서구 강서로 457</td>\n      <td>GS칼텍스</td>\n      <td>02-3664-7781</td>\n      <td>Y</td>\n      <td>1599</td>\n      <td>1365</td>\n      <td>1185</td>\n      <td>-</td>\n    </tr>\n    <tr>\n      <th>2</th>\n      <td>서울특별시</td>\n      <td>화곡역주유소</td>\n      <td>서울특별시 강서구  강서로 154 (화곡동)</td>\n      <td>알뜰주유소</td>\n      <td>02-2691-5151</td>\n      <td>Y</td>\n      <td>-</td>\n      <td>1243</td>\n      <td>1043</td>\n      <td>-</td>\n    </tr>\n    <tr>\n      <th>3</th>\n      <td>서울특별시</td>\n      <td>뉴신정주유소</td>\n      <td>서울 강서구 곰달래로 207(화곡동)</td>\n      <td>알뜰주유소</td>\n      <td>02-2601-0077</td>\n      <td>N</td>\n      <td>-</td>\n      <td>1243</td>\n      <td>1043</td>\n      <td>-</td>\n    </tr>\n    <tr>\n      <th>4</th>\n      <td>서울특별시</td>\n      <td>목화주유소</td>\n      <td>서울 강서구 국회대로 251 (화곡동)</td>\n      <td>SK에너지</td>\n      <td>02-2654-4564</td>\n      <td>Y</td>\n      <td>-</td>\n      <td>1266</td>\n      <td>1072</td>\n      <td>-</td>\n    </tr>\n    <tr>\n      <th>5</th>\n      <td>서울특별시</td>\n      <td>지에스칼텍스㈜ 경인고속주유소</td>\n      <td>서울 강서구 국회대로 225 (화곡동)</td>\n      <td>GS칼텍스</td>\n      <td>02-2608-5151</td>\n      <td>Y</td>\n      <td>1416</td>\n      <td>1266</td>\n      <td>1072</td>\n      <td>1100</td>\n    </tr>\n    <tr>\n      <th>6</th>\n      <td>서울특별시</td>\n      <td>신화곡주유소</td>\n      <td>서울 강서구 국회대로 71</td>\n      <td>S-OIL</td>\n      <td>02-2611-3161</td>\n      <td>Y</td>\n      <td>-</td>\n      <td>1315</td>\n      <td>1115</td>\n      <td>-</td>\n    </tr>\n    <tr>\n      <th>7</th>\n      <td>서울특별시</td>\n      <td>화곡현대주유소</td>\n      <td>서울 강서구 강서로 151 (화곡동)</td>\n      <td>SK에너지</td>\n      <td>02-2607-1942</td>\n      <td>Y</td>\n      <td>1455</td>\n      <td>1326</td>\n      <td>1126</td>\n      <td>-</td>\n    </tr>\n    <tr>\n      <th>8</th>\n      <td>서울특별시</td>\n      <td>대성석유(주)직영관문주유소</td>\n      <td>서울 강서구 공항대로 314</td>\n      <td>GS칼텍스</td>\n      <td>02-3665-2051</td>\n      <td>N</td>\n      <td>1599</td>\n      <td>1358</td>\n      <td>1187</td>\n      <td>1000</td>\n    </tr>\n    <tr>\n      <th>9</th>\n      <td>서울특별시</td>\n      <td>우장산주유소</td>\n      <td>서울 강서구 강서로 292 (내발산동)</td>\n      <td>SK에너지</td>\n      <td>02-3664-7163</td>\n      <td>N</td>\n      <td>-</td>\n      <td>1358</td>\n      <td>1187</td>\n      <td>1000</td>\n    </tr>\n  </tbody>\n</table>\n</div>"
     },
     "metadata": {},
     "execution_count": 6
    }
   ],
   "source": [
    "station_files = glob('./station_dong_data/지역*.xls')\n",
    "xls_raw = []\n",
    "\n",
    "for file_name in station_files:\n",
    "    xls = pd.read_excel(file_name, header=2) #header=2라면 위의 2줄은 건너뛰고 3번째줄부터 데이터를 읽는다.\n",
    "    xls_raw.append(xls)\n",
    "\n",
    "dong_station = pd.concat(xls_raw, ignore_index=True)\n",
    "dong_station"
   ]
  },
  {
   "cell_type": "code",
   "execution_count": 7,
   "metadata": {},
   "outputs": [],
   "source": [
    "import requests\n",
    "from urllib.parse import urlparse, quote\n",
    "import folium"
   ]
  },
  {
   "cell_type": "code",
   "execution_count": 8,
   "metadata": {},
   "outputs": [],
   "source": [
    "key_fd = open('kakaomapkey.txt', mode='r')\n",
    "kmap_key = key_fd.read(100)\n",
    "key_fd.close()"
   ]
  },
  {
   "cell_type": "code",
   "execution_count": 9,
   "metadata": {},
   "outputs": [
    {
     "output_type": "display_data",
     "data": {
      "text/plain": "HBox(children=(FloatProgress(value=0.0, max=10.0), HTML(value='')))",
      "application/vnd.jupyter.widget-view+json": {
       "version_major": 2,
       "version_minor": 0,
       "model_id": "ae691f4ac9ad4560a315683bad76de96"
      }
     },
     "metadata": {}
    },
    {
     "output_type": "stream",
     "name": "stdout",
     "text": [
      "\n"
     ]
    }
   ],
   "source": [
    "from tqdm import tqdm_notebook\n",
    "\n",
    "lat_list=[]; lng_list=[]\n",
    "\n",
    "for i in tqdm_notebook(dong_station.index):\n",
    "    url = 'https://dapi.kakao.com/v2/local/search/address.json?query=' + quote(dong_station['주소'][i])\n",
    "    result = requests.get(url, headers={\"Authorization\": \"KakaoAK \"+ kmap_key}).json()\n",
    "    \n",
    "    lat = float(result['documents'][0]['y'])\n",
    "    lng = float(result['documents'][0]['x'])\n",
    "    lat_list.append(lat)\n",
    "    lng_list.append(lng)"
   ]
  },
  {
   "cell_type": "code",
   "execution_count": 10,
   "metadata": {},
   "outputs": [
    {
     "output_type": "execute_result",
     "data": {
      "text/plain": [
       "      지역               상호                        주소     상표          전화번호 셀프여부  \\\n",
       "0  서울특별시   대성석유(주)방화대성주유소            서울 강서구 양천로 176  GS칼텍스  02-3663-7781    Y   \n",
       "1  서울특별시  대성석유(주) 마곡대성주유소            서울 강서구 강서로 457  GS칼텍스  02-3664-7781    Y   \n",
       "2  서울특별시           화곡역주유소  서울특별시 강서구  강서로 154 (화곡동)  알뜰주유소  02-2691-5151    Y   \n",
       "3  서울특별시           뉴신정주유소      서울 강서구 곰달래로 207(화곡동)  알뜰주유소  02-2601-0077    N   \n",
       "4  서울특별시            목화주유소     서울 강서구 국회대로 251 (화곡동)  SK에너지  02-2654-4564    Y   \n",
       "5  서울특별시  지에스칼텍스㈜ 경인고속주유소     서울 강서구 국회대로 225 (화곡동)  GS칼텍스  02-2608-5151    Y   \n",
       "6  서울특별시           신화곡주유소            서울 강서구 국회대로 71  S-OIL  02-2611-3161    Y   \n",
       "7  서울특별시          화곡현대주유소      서울 강서구 강서로 151 (화곡동)  SK에너지  02-2607-1942    Y   \n",
       "8  서울특별시   대성석유(주)직영관문주유소           서울 강서구 공항대로 314  GS칼텍스  02-3665-2051    N   \n",
       "9  서울특별시           우장산주유소     서울 강서구 강서로 292 (내발산동)  SK에너지  02-3664-7163    N   \n",
       "\n",
       "  고급휘발유   휘발유    경유  실내등유        lat         lng  \n",
       "0  1599  1365  1175     -  37.572898  126.823440  \n",
       "1  1599  1365  1185     -  37.566243  126.840421  \n",
       "2     -  1243  1043     -  37.540768  126.841472  \n",
       "3     -  1243  1043     -  37.531562  126.856035  \n",
       "4     -  1266  1072     -  37.530055  126.862834  \n",
       "5  1416  1266  1072  1100  37.529645  126.859835  \n",
       "6     -  1315  1115     -  37.527320  126.842879  \n",
       "7  1455  1326  1126     -  37.540242  126.841164  \n",
       "8  1599  1358  1187  1000  37.557842  126.842395  \n",
       "9     -  1358  1187  1000  37.551803  126.836681  "
      ],
      "text/html": "<div>\n<style scoped>\n    .dataframe tbody tr th:only-of-type {\n        vertical-align: middle;\n    }\n\n    .dataframe tbody tr th {\n        vertical-align: top;\n    }\n\n    .dataframe thead th {\n        text-align: right;\n    }\n</style>\n<table border=\"1\" class=\"dataframe\">\n  <thead>\n    <tr style=\"text-align: right;\">\n      <th></th>\n      <th>지역</th>\n      <th>상호</th>\n      <th>주소</th>\n      <th>상표</th>\n      <th>전화번호</th>\n      <th>셀프여부</th>\n      <th>고급휘발유</th>\n      <th>휘발유</th>\n      <th>경유</th>\n      <th>실내등유</th>\n      <th>lat</th>\n      <th>lng</th>\n    </tr>\n  </thead>\n  <tbody>\n    <tr>\n      <th>0</th>\n      <td>서울특별시</td>\n      <td>대성석유(주)방화대성주유소</td>\n      <td>서울 강서구 양천로 176</td>\n      <td>GS칼텍스</td>\n      <td>02-3663-7781</td>\n      <td>Y</td>\n      <td>1599</td>\n      <td>1365</td>\n      <td>1175</td>\n      <td>-</td>\n      <td>37.572898</td>\n      <td>126.823440</td>\n    </tr>\n    <tr>\n      <th>1</th>\n      <td>서울특별시</td>\n      <td>대성석유(주) 마곡대성주유소</td>\n      <td>서울 강서구 강서로 457</td>\n      <td>GS칼텍스</td>\n      <td>02-3664-7781</td>\n      <td>Y</td>\n      <td>1599</td>\n      <td>1365</td>\n      <td>1185</td>\n      <td>-</td>\n      <td>37.566243</td>\n      <td>126.840421</td>\n    </tr>\n    <tr>\n      <th>2</th>\n      <td>서울특별시</td>\n      <td>화곡역주유소</td>\n      <td>서울특별시 강서구  강서로 154 (화곡동)</td>\n      <td>알뜰주유소</td>\n      <td>02-2691-5151</td>\n      <td>Y</td>\n      <td>-</td>\n      <td>1243</td>\n      <td>1043</td>\n      <td>-</td>\n      <td>37.540768</td>\n      <td>126.841472</td>\n    </tr>\n    <tr>\n      <th>3</th>\n      <td>서울특별시</td>\n      <td>뉴신정주유소</td>\n      <td>서울 강서구 곰달래로 207(화곡동)</td>\n      <td>알뜰주유소</td>\n      <td>02-2601-0077</td>\n      <td>N</td>\n      <td>-</td>\n      <td>1243</td>\n      <td>1043</td>\n      <td>-</td>\n      <td>37.531562</td>\n      <td>126.856035</td>\n    </tr>\n    <tr>\n      <th>4</th>\n      <td>서울특별시</td>\n      <td>목화주유소</td>\n      <td>서울 강서구 국회대로 251 (화곡동)</td>\n      <td>SK에너지</td>\n      <td>02-2654-4564</td>\n      <td>Y</td>\n      <td>-</td>\n      <td>1266</td>\n      <td>1072</td>\n      <td>-</td>\n      <td>37.530055</td>\n      <td>126.862834</td>\n    </tr>\n    <tr>\n      <th>5</th>\n      <td>서울특별시</td>\n      <td>지에스칼텍스㈜ 경인고속주유소</td>\n      <td>서울 강서구 국회대로 225 (화곡동)</td>\n      <td>GS칼텍스</td>\n      <td>02-2608-5151</td>\n      <td>Y</td>\n      <td>1416</td>\n      <td>1266</td>\n      <td>1072</td>\n      <td>1100</td>\n      <td>37.529645</td>\n      <td>126.859835</td>\n    </tr>\n    <tr>\n      <th>6</th>\n      <td>서울특별시</td>\n      <td>신화곡주유소</td>\n      <td>서울 강서구 국회대로 71</td>\n      <td>S-OIL</td>\n      <td>02-2611-3161</td>\n      <td>Y</td>\n      <td>-</td>\n      <td>1315</td>\n      <td>1115</td>\n      <td>-</td>\n      <td>37.527320</td>\n      <td>126.842879</td>\n    </tr>\n    <tr>\n      <th>7</th>\n      <td>서울특별시</td>\n      <td>화곡현대주유소</td>\n      <td>서울 강서구 강서로 151 (화곡동)</td>\n      <td>SK에너지</td>\n      <td>02-2607-1942</td>\n      <td>Y</td>\n      <td>1455</td>\n      <td>1326</td>\n      <td>1126</td>\n      <td>-</td>\n      <td>37.540242</td>\n      <td>126.841164</td>\n    </tr>\n    <tr>\n      <th>8</th>\n      <td>서울특별시</td>\n      <td>대성석유(주)직영관문주유소</td>\n      <td>서울 강서구 공항대로 314</td>\n      <td>GS칼텍스</td>\n      <td>02-3665-2051</td>\n      <td>N</td>\n      <td>1599</td>\n      <td>1358</td>\n      <td>1187</td>\n      <td>1000</td>\n      <td>37.557842</td>\n      <td>126.842395</td>\n    </tr>\n    <tr>\n      <th>9</th>\n      <td>서울특별시</td>\n      <td>우장산주유소</td>\n      <td>서울 강서구 강서로 292 (내발산동)</td>\n      <td>SK에너지</td>\n      <td>02-3664-7163</td>\n      <td>N</td>\n      <td>-</td>\n      <td>1358</td>\n      <td>1187</td>\n      <td>1000</td>\n      <td>37.551803</td>\n      <td>126.836681</td>\n    </tr>\n  </tbody>\n</table>\n</div>"
     },
     "metadata": {},
     "execution_count": 10
    }
   ],
   "source": [
    "dong_station['lat'] = lat_list\n",
    "dong_station['lng'] = lng_list\n",
    "dong_station"
   ]
  },
  {
   "cell_type": "code",
   "execution_count": 11,
   "metadata": {},
   "outputs": [
    {
     "output_type": "execute_result",
     "data": {
      "text/plain": [
       "      지역               상호                        주소     상표          전화번호 셀프여부  \\\n",
       "2  서울특별시           화곡역주유소  서울특별시 강서구  강서로 154 (화곡동)  알뜰주유소  02-2691-5151    Y   \n",
       "3  서울특별시           뉴신정주유소      서울 강서구 곰달래로 207(화곡동)  알뜰주유소  02-2601-0077    N   \n",
       "4  서울특별시            목화주유소     서울 강서구 국회대로 251 (화곡동)  SK에너지  02-2654-4564    Y   \n",
       "5  서울특별시  지에스칼텍스㈜ 경인고속주유소     서울 강서구 국회대로 225 (화곡동)  GS칼텍스  02-2608-5151    Y   \n",
       "6  서울특별시           신화곡주유소            서울 강서구 국회대로 71  S-OIL  02-2611-3161    Y   \n",
       "7  서울특별시          화곡현대주유소      서울 강서구 강서로 151 (화곡동)  SK에너지  02-2607-1942    Y   \n",
       "8  서울특별시   대성석유(주)직영관문주유소           서울 강서구 공항대로 314  GS칼텍스  02-3665-2051    N   \n",
       "9  서울특별시           우장산주유소     서울 강서구 강서로 292 (내발산동)  SK에너지  02-3664-7163    N   \n",
       "0  서울특별시   대성석유(주)방화대성주유소            서울 강서구 양천로 176  GS칼텍스  02-3663-7781    Y   \n",
       "1  서울특별시  대성석유(주) 마곡대성주유소            서울 강서구 강서로 457  GS칼텍스  02-3664-7781    Y   \n",
       "\n",
       "  고급휘발유   휘발유    경유  실내등유        lat         lng  \n",
       "2     -  1243  1043     -  37.540768  126.841472  \n",
       "3     -  1243  1043     -  37.531562  126.856035  \n",
       "4     -  1266  1072     -  37.530055  126.862834  \n",
       "5  1416  1266  1072  1100  37.529645  126.859835  \n",
       "6     -  1315  1115     -  37.527320  126.842879  \n",
       "7  1455  1326  1126     -  37.540242  126.841164  \n",
       "8  1599  1358  1187  1000  37.557842  126.842395  \n",
       "9     -  1358  1187  1000  37.551803  126.836681  \n",
       "0  1599  1365  1175     -  37.572898  126.823440  \n",
       "1  1599  1365  1185     -  37.566243  126.840421  "
      ],
      "text/html": "<div>\n<style scoped>\n    .dataframe tbody tr th:only-of-type {\n        vertical-align: middle;\n    }\n\n    .dataframe tbody tr th {\n        vertical-align: top;\n    }\n\n    .dataframe thead th {\n        text-align: right;\n    }\n</style>\n<table border=\"1\" class=\"dataframe\">\n  <thead>\n    <tr style=\"text-align: right;\">\n      <th></th>\n      <th>지역</th>\n      <th>상호</th>\n      <th>주소</th>\n      <th>상표</th>\n      <th>전화번호</th>\n      <th>셀프여부</th>\n      <th>고급휘발유</th>\n      <th>휘발유</th>\n      <th>경유</th>\n      <th>실내등유</th>\n      <th>lat</th>\n      <th>lng</th>\n    </tr>\n  </thead>\n  <tbody>\n    <tr>\n      <th>2</th>\n      <td>서울특별시</td>\n      <td>화곡역주유소</td>\n      <td>서울특별시 강서구  강서로 154 (화곡동)</td>\n      <td>알뜰주유소</td>\n      <td>02-2691-5151</td>\n      <td>Y</td>\n      <td>-</td>\n      <td>1243</td>\n      <td>1043</td>\n      <td>-</td>\n      <td>37.540768</td>\n      <td>126.841472</td>\n    </tr>\n    <tr>\n      <th>3</th>\n      <td>서울특별시</td>\n      <td>뉴신정주유소</td>\n      <td>서울 강서구 곰달래로 207(화곡동)</td>\n      <td>알뜰주유소</td>\n      <td>02-2601-0077</td>\n      <td>N</td>\n      <td>-</td>\n      <td>1243</td>\n      <td>1043</td>\n      <td>-</td>\n      <td>37.531562</td>\n      <td>126.856035</td>\n    </tr>\n    <tr>\n      <th>4</th>\n      <td>서울특별시</td>\n      <td>목화주유소</td>\n      <td>서울 강서구 국회대로 251 (화곡동)</td>\n      <td>SK에너지</td>\n      <td>02-2654-4564</td>\n      <td>Y</td>\n      <td>-</td>\n      <td>1266</td>\n      <td>1072</td>\n      <td>-</td>\n      <td>37.530055</td>\n      <td>126.862834</td>\n    </tr>\n    <tr>\n      <th>5</th>\n      <td>서울특별시</td>\n      <td>지에스칼텍스㈜ 경인고속주유소</td>\n      <td>서울 강서구 국회대로 225 (화곡동)</td>\n      <td>GS칼텍스</td>\n      <td>02-2608-5151</td>\n      <td>Y</td>\n      <td>1416</td>\n      <td>1266</td>\n      <td>1072</td>\n      <td>1100</td>\n      <td>37.529645</td>\n      <td>126.859835</td>\n    </tr>\n    <tr>\n      <th>6</th>\n      <td>서울특별시</td>\n      <td>신화곡주유소</td>\n      <td>서울 강서구 국회대로 71</td>\n      <td>S-OIL</td>\n      <td>02-2611-3161</td>\n      <td>Y</td>\n      <td>-</td>\n      <td>1315</td>\n      <td>1115</td>\n      <td>-</td>\n      <td>37.527320</td>\n      <td>126.842879</td>\n    </tr>\n    <tr>\n      <th>7</th>\n      <td>서울특별시</td>\n      <td>화곡현대주유소</td>\n      <td>서울 강서구 강서로 151 (화곡동)</td>\n      <td>SK에너지</td>\n      <td>02-2607-1942</td>\n      <td>Y</td>\n      <td>1455</td>\n      <td>1326</td>\n      <td>1126</td>\n      <td>-</td>\n      <td>37.540242</td>\n      <td>126.841164</td>\n    </tr>\n    <tr>\n      <th>8</th>\n      <td>서울특별시</td>\n      <td>대성석유(주)직영관문주유소</td>\n      <td>서울 강서구 공항대로 314</td>\n      <td>GS칼텍스</td>\n      <td>02-3665-2051</td>\n      <td>N</td>\n      <td>1599</td>\n      <td>1358</td>\n      <td>1187</td>\n      <td>1000</td>\n      <td>37.557842</td>\n      <td>126.842395</td>\n    </tr>\n    <tr>\n      <th>9</th>\n      <td>서울특별시</td>\n      <td>우장산주유소</td>\n      <td>서울 강서구 강서로 292 (내발산동)</td>\n      <td>SK에너지</td>\n      <td>02-3664-7163</td>\n      <td>N</td>\n      <td>-</td>\n      <td>1358</td>\n      <td>1187</td>\n      <td>1000</td>\n      <td>37.551803</td>\n      <td>126.836681</td>\n    </tr>\n    <tr>\n      <th>0</th>\n      <td>서울특별시</td>\n      <td>대성석유(주)방화대성주유소</td>\n      <td>서울 강서구 양천로 176</td>\n      <td>GS칼텍스</td>\n      <td>02-3663-7781</td>\n      <td>Y</td>\n      <td>1599</td>\n      <td>1365</td>\n      <td>1175</td>\n      <td>-</td>\n      <td>37.572898</td>\n      <td>126.823440</td>\n    </tr>\n    <tr>\n      <th>1</th>\n      <td>서울특별시</td>\n      <td>대성석유(주) 마곡대성주유소</td>\n      <td>서울 강서구 강서로 457</td>\n      <td>GS칼텍스</td>\n      <td>02-3664-7781</td>\n      <td>Y</td>\n      <td>1599</td>\n      <td>1365</td>\n      <td>1185</td>\n      <td>-</td>\n      <td>37.566243</td>\n      <td>126.840421</td>\n    </tr>\n  </tbody>\n</table>\n</div>"
     },
     "metadata": {},
     "execution_count": 11
    }
   ],
   "source": [
    "dong_station = dong_station.sort_values(by='휘발유')\n",
    "dong_station"
   ]
  },
  {
   "cell_type": "code",
   "execution_count": 12,
   "metadata": {},
   "outputs": [
    {
     "output_type": "execute_result",
     "data": {
      "text/plain": [
       "      지역               상호                        주소     상표          전화번호 셀프여부  \\\n",
       "2  서울특별시           화곡역주유소  서울특별시 강서구  강서로 154 (화곡동)  알뜰주유소  02-2691-5151    Y   \n",
       "3  서울특별시           뉴신정주유소      서울 강서구 곰달래로 207(화곡동)  알뜰주유소  02-2601-0077    N   \n",
       "4  서울특별시            목화주유소     서울 강서구 국회대로 251 (화곡동)  SK에너지  02-2654-4564    Y   \n",
       "5  서울특별시  지에스칼텍스㈜ 경인고속주유소     서울 강서구 국회대로 225 (화곡동)  GS칼텍스  02-2608-5151    Y   \n",
       "6  서울특별시           신화곡주유소            서울 강서구 국회대로 71  S-OIL  02-2611-3161    Y   \n",
       "7  서울특별시          화곡현대주유소      서울 강서구 강서로 151 (화곡동)  SK에너지  02-2607-1942    Y   \n",
       "8  서울특별시   대성석유(주)직영관문주유소           서울 강서구 공항대로 314  GS칼텍스  02-3665-2051    N   \n",
       "9  서울특별시           우장산주유소     서울 강서구 강서로 292 (내발산동)  SK에너지  02-3664-7163    N   \n",
       "0  서울특별시   대성석유(주)방화대성주유소            서울 강서구 양천로 176  GS칼텍스  02-3663-7781    Y   \n",
       "1  서울특별시  대성석유(주) 마곡대성주유소            서울 강서구 강서로 457  GS칼텍스  02-3664-7781    Y   \n",
       "\n",
       "  고급휘발유   휘발유    경유  실내등유        lat         lng  \n",
       "2     -  1243  1043     -  37.540768  126.841472  \n",
       "3     -  1243  1043     -  37.531562  126.856035  \n",
       "4     -  1266  1072     -  37.530055  126.862834  \n",
       "5  1416  1266  1072  1100  37.529645  126.859835  \n",
       "6     -  1315  1115     -  37.527320  126.842879  \n",
       "7  1455  1326  1126     -  37.540242  126.841164  \n",
       "8  1599  1358  1187  1000  37.557842  126.842395  \n",
       "9     -  1358  1187  1000  37.551803  126.836681  \n",
       "0  1599  1365  1175     -  37.572898  126.823440  \n",
       "1  1599  1365  1185     -  37.566243  126.840421  "
      ],
      "text/html": "<div>\n<style scoped>\n    .dataframe tbody tr th:only-of-type {\n        vertical-align: middle;\n    }\n\n    .dataframe tbody tr th {\n        vertical-align: top;\n    }\n\n    .dataframe thead th {\n        text-align: right;\n    }\n</style>\n<table border=\"1\" class=\"dataframe\">\n  <thead>\n    <tr style=\"text-align: right;\">\n      <th></th>\n      <th>지역</th>\n      <th>상호</th>\n      <th>주소</th>\n      <th>상표</th>\n      <th>전화번호</th>\n      <th>셀프여부</th>\n      <th>고급휘발유</th>\n      <th>휘발유</th>\n      <th>경유</th>\n      <th>실내등유</th>\n      <th>lat</th>\n      <th>lng</th>\n    </tr>\n  </thead>\n  <tbody>\n    <tr>\n      <th>2</th>\n      <td>서울특별시</td>\n      <td>화곡역주유소</td>\n      <td>서울특별시 강서구  강서로 154 (화곡동)</td>\n      <td>알뜰주유소</td>\n      <td>02-2691-5151</td>\n      <td>Y</td>\n      <td>-</td>\n      <td>1243</td>\n      <td>1043</td>\n      <td>-</td>\n      <td>37.540768</td>\n      <td>126.841472</td>\n    </tr>\n    <tr>\n      <th>3</th>\n      <td>서울특별시</td>\n      <td>뉴신정주유소</td>\n      <td>서울 강서구 곰달래로 207(화곡동)</td>\n      <td>알뜰주유소</td>\n      <td>02-2601-0077</td>\n      <td>N</td>\n      <td>-</td>\n      <td>1243</td>\n      <td>1043</td>\n      <td>-</td>\n      <td>37.531562</td>\n      <td>126.856035</td>\n    </tr>\n    <tr>\n      <th>4</th>\n      <td>서울특별시</td>\n      <td>목화주유소</td>\n      <td>서울 강서구 국회대로 251 (화곡동)</td>\n      <td>SK에너지</td>\n      <td>02-2654-4564</td>\n      <td>Y</td>\n      <td>-</td>\n      <td>1266</td>\n      <td>1072</td>\n      <td>-</td>\n      <td>37.530055</td>\n      <td>126.862834</td>\n    </tr>\n    <tr>\n      <th>5</th>\n      <td>서울특별시</td>\n      <td>지에스칼텍스㈜ 경인고속주유소</td>\n      <td>서울 강서구 국회대로 225 (화곡동)</td>\n      <td>GS칼텍스</td>\n      <td>02-2608-5151</td>\n      <td>Y</td>\n      <td>1416</td>\n      <td>1266</td>\n      <td>1072</td>\n      <td>1100</td>\n      <td>37.529645</td>\n      <td>126.859835</td>\n    </tr>\n    <tr>\n      <th>6</th>\n      <td>서울특별시</td>\n      <td>신화곡주유소</td>\n      <td>서울 강서구 국회대로 71</td>\n      <td>S-OIL</td>\n      <td>02-2611-3161</td>\n      <td>Y</td>\n      <td>-</td>\n      <td>1315</td>\n      <td>1115</td>\n      <td>-</td>\n      <td>37.527320</td>\n      <td>126.842879</td>\n    </tr>\n    <tr>\n      <th>7</th>\n      <td>서울특별시</td>\n      <td>화곡현대주유소</td>\n      <td>서울 강서구 강서로 151 (화곡동)</td>\n      <td>SK에너지</td>\n      <td>02-2607-1942</td>\n      <td>Y</td>\n      <td>1455</td>\n      <td>1326</td>\n      <td>1126</td>\n      <td>-</td>\n      <td>37.540242</td>\n      <td>126.841164</td>\n    </tr>\n    <tr>\n      <th>8</th>\n      <td>서울특별시</td>\n      <td>대성석유(주)직영관문주유소</td>\n      <td>서울 강서구 공항대로 314</td>\n      <td>GS칼텍스</td>\n      <td>02-3665-2051</td>\n      <td>N</td>\n      <td>1599</td>\n      <td>1358</td>\n      <td>1187</td>\n      <td>1000</td>\n      <td>37.557842</td>\n      <td>126.842395</td>\n    </tr>\n    <tr>\n      <th>9</th>\n      <td>서울특별시</td>\n      <td>우장산주유소</td>\n      <td>서울 강서구 강서로 292 (내발산동)</td>\n      <td>SK에너지</td>\n      <td>02-3664-7163</td>\n      <td>N</td>\n      <td>-</td>\n      <td>1358</td>\n      <td>1187</td>\n      <td>1000</td>\n      <td>37.551803</td>\n      <td>126.836681</td>\n    </tr>\n    <tr>\n      <th>0</th>\n      <td>서울특별시</td>\n      <td>대성석유(주)방화대성주유소</td>\n      <td>서울 강서구 양천로 176</td>\n      <td>GS칼텍스</td>\n      <td>02-3663-7781</td>\n      <td>Y</td>\n      <td>1599</td>\n      <td>1365</td>\n      <td>1175</td>\n      <td>-</td>\n      <td>37.572898</td>\n      <td>126.823440</td>\n    </tr>\n    <tr>\n      <th>1</th>\n      <td>서울특별시</td>\n      <td>대성석유(주) 마곡대성주유소</td>\n      <td>서울 강서구 강서로 457</td>\n      <td>GS칼텍스</td>\n      <td>02-3664-7781</td>\n      <td>Y</td>\n      <td>1599</td>\n      <td>1365</td>\n      <td>1185</td>\n      <td>-</td>\n      <td>37.566243</td>\n      <td>126.840421</td>\n    </tr>\n  </tbody>\n</table>\n</div>"
     },
     "metadata": {},
     "execution_count": 12
    }
   ],
   "source": [
    "dong_station['휘발유'] = pd.to_numeric(dong_station['휘발유'])\n",
    "dong_station"
   ]
  },
  {
   "cell_type": "code",
   "execution_count": 13,
   "metadata": {},
   "outputs": [
    {
     "output_type": "execute_result",
     "data": {
      "text/plain": [
       "<folium.folium.Map at 0x21b43868af0>"
      ],
      "text/html": "<div style=\"width:100%;\"><div style=\"position:relative;width:100%;height:0;padding-bottom:60%;\"><span style=\"color:#565656\">Make this Notebook Trusted to load map: File -> Trust Notebook</span><iframe src=\"about:blank\" style=\"position:absolute;width:100%;height:100%;left:0;top:0;border:none !important;\" data-html=%3C%21DOCTYPE%20html%3E%0A%3Chead%3E%20%20%20%20%0A%20%20%20%20%3Cmeta%20http-equiv%3D%22content-type%22%20content%3D%22text/html%3B%20charset%3DUTF-8%22%20/%3E%0A%20%20%20%20%0A%20%20%20%20%20%20%20%20%3Cscript%3E%0A%20%20%20%20%20%20%20%20%20%20%20%20L_NO_TOUCH%20%3D%20false%3B%0A%20%20%20%20%20%20%20%20%20%20%20%20L_DISABLE_3D%20%3D%20false%3B%0A%20%20%20%20%20%20%20%20%3C/script%3E%0A%20%20%20%20%0A%20%20%20%20%3Cscript%20src%3D%22https%3A//cdn.jsdelivr.net/npm/leaflet%401.6.0/dist/leaflet.js%22%3E%3C/script%3E%0A%20%20%20%20%3Cscript%20src%3D%22https%3A//code.jquery.com/jquery-1.12.4.min.js%22%3E%3C/script%3E%0A%20%20%20%20%3Cscript%20src%3D%22https%3A//maxcdn.bootstrapcdn.com/bootstrap/3.2.0/js/bootstrap.min.js%22%3E%3C/script%3E%0A%20%20%20%20%3Cscript%20src%3D%22https%3A//cdnjs.cloudflare.com/ajax/libs/Leaflet.awesome-markers/2.0.2/leaflet.awesome-markers.js%22%3E%3C/script%3E%0A%20%20%20%20%3Clink%20rel%3D%22stylesheet%22%20href%3D%22https%3A//cdn.jsdelivr.net/npm/leaflet%401.6.0/dist/leaflet.css%22/%3E%0A%20%20%20%20%3Clink%20rel%3D%22stylesheet%22%20href%3D%22https%3A//maxcdn.bootstrapcdn.com/bootstrap/3.2.0/css/bootstrap.min.css%22/%3E%0A%20%20%20%20%3Clink%20rel%3D%22stylesheet%22%20href%3D%22https%3A//maxcdn.bootstrapcdn.com/bootstrap/3.2.0/css/bootstrap-theme.min.css%22/%3E%0A%20%20%20%20%3Clink%20rel%3D%22stylesheet%22%20href%3D%22https%3A//maxcdn.bootstrapcdn.com/font-awesome/4.6.3/css/font-awesome.min.css%22/%3E%0A%20%20%20%20%3Clink%20rel%3D%22stylesheet%22%20href%3D%22https%3A//cdnjs.cloudflare.com/ajax/libs/Leaflet.awesome-markers/2.0.2/leaflet.awesome-markers.css%22/%3E%0A%20%20%20%20%3Clink%20rel%3D%22stylesheet%22%20href%3D%22https%3A//rawcdn.githack.com/python-visualization/folium/master/folium/templates/leaflet.awesome.rotate.css%22/%3E%0A%20%20%20%20%3Cstyle%3Ehtml%2C%20body%20%7Bwidth%3A%20100%25%3Bheight%3A%20100%25%3Bmargin%3A%200%3Bpadding%3A%200%3B%7D%3C/style%3E%0A%20%20%20%20%3Cstyle%3E%23map%20%7Bposition%3Aabsolute%3Btop%3A0%3Bbottom%3A0%3Bright%3A0%3Bleft%3A0%3B%7D%3C/style%3E%0A%20%20%20%20%0A%20%20%20%20%20%20%20%20%20%20%20%20%3Cmeta%20name%3D%22viewport%22%20content%3D%22width%3Ddevice-width%2C%0A%20%20%20%20%20%20%20%20%20%20%20%20%20%20%20%20initial-scale%3D1.0%2C%20maximum-scale%3D1.0%2C%20user-scalable%3Dno%22%20/%3E%0A%20%20%20%20%20%20%20%20%20%20%20%20%3Cstyle%3E%0A%20%20%20%20%20%20%20%20%20%20%20%20%20%20%20%20%23map_89a598d3548d4dc7a254bf3a3c86ccc9%20%7B%0A%20%20%20%20%20%20%20%20%20%20%20%20%20%20%20%20%20%20%20%20position%3A%20relative%3B%0A%20%20%20%20%20%20%20%20%20%20%20%20%20%20%20%20%20%20%20%20width%3A%20100.0%25%3B%0A%20%20%20%20%20%20%20%20%20%20%20%20%20%20%20%20%20%20%20%20height%3A%20100.0%25%3B%0A%20%20%20%20%20%20%20%20%20%20%20%20%20%20%20%20%20%20%20%20left%3A%200.0%25%3B%0A%20%20%20%20%20%20%20%20%20%20%20%20%20%20%20%20%20%20%20%20top%3A%200.0%25%3B%0A%20%20%20%20%20%20%20%20%20%20%20%20%20%20%20%20%7D%0A%20%20%20%20%20%20%20%20%20%20%20%20%3C/style%3E%0A%20%20%20%20%20%20%20%20%0A%3C/head%3E%0A%3Cbody%3E%20%20%20%20%0A%20%20%20%20%0A%20%20%20%20%20%20%20%20%20%20%20%20%3Cdiv%20class%3D%22folium-map%22%20id%3D%22map_89a598d3548d4dc7a254bf3a3c86ccc9%22%20%3E%3C/div%3E%0A%20%20%20%20%20%20%20%20%0A%3C/body%3E%0A%3Cscript%3E%20%20%20%20%0A%20%20%20%20%0A%20%20%20%20%20%20%20%20%20%20%20%20var%20map_89a598d3548d4dc7a254bf3a3c86ccc9%20%3D%20L.map%28%0A%20%20%20%20%20%20%20%20%20%20%20%20%20%20%20%20%22map_89a598d3548d4dc7a254bf3a3c86ccc9%22%2C%0A%20%20%20%20%20%20%20%20%20%20%20%20%20%20%20%20%7B%0A%20%20%20%20%20%20%20%20%20%20%20%20%20%20%20%20%20%20%20%20center%3A%20%5B37.54483792231178%2C%20126.84471564010433%5D%2C%0A%20%20%20%20%20%20%20%20%20%20%20%20%20%20%20%20%20%20%20%20crs%3A%20L.CRS.EPSG3857%2C%0A%20%20%20%20%20%20%20%20%20%20%20%20%20%20%20%20%20%20%20%20zoom%3A%2013%2C%0A%20%20%20%20%20%20%20%20%20%20%20%20%20%20%20%20%20%20%20%20zoomControl%3A%20true%2C%0A%20%20%20%20%20%20%20%20%20%20%20%20%20%20%20%20%20%20%20%20preferCanvas%3A%20false%2C%0A%20%20%20%20%20%20%20%20%20%20%20%20%20%20%20%20%7D%0A%20%20%20%20%20%20%20%20%20%20%20%20%29%3B%0A%0A%20%20%20%20%20%20%20%20%20%20%20%20%0A%0A%20%20%20%20%20%20%20%20%0A%20%20%20%20%0A%20%20%20%20%20%20%20%20%20%20%20%20var%20tile_layer_295e22f7a84d4888a543b9e297b00d27%20%3D%20L.tileLayer%28%0A%20%20%20%20%20%20%20%20%20%20%20%20%20%20%20%20%22https%3A//%7Bs%7D.tile.openstreetmap.org/%7Bz%7D/%7Bx%7D/%7By%7D.png%22%2C%0A%20%20%20%20%20%20%20%20%20%20%20%20%20%20%20%20%7B%22attribution%22%3A%20%22Data%20by%20%5Cu0026copy%3B%20%5Cu003ca%20href%3D%5C%22http%3A//openstreetmap.org%5C%22%5Cu003eOpenStreetMap%5Cu003c/a%5Cu003e%2C%20under%20%5Cu003ca%20href%3D%5C%22http%3A//www.openstreetmap.org/copyright%5C%22%5Cu003eODbL%5Cu003c/a%5Cu003e.%22%2C%20%22detectRetina%22%3A%20false%2C%20%22maxNativeZoom%22%3A%2018%2C%20%22maxZoom%22%3A%2018%2C%20%22minZoom%22%3A%200%2C%20%22noWrap%22%3A%20false%2C%20%22opacity%22%3A%201%2C%20%22subdomains%22%3A%20%22abc%22%2C%20%22tms%22%3A%20false%7D%0A%20%20%20%20%20%20%20%20%20%20%20%20%29.addTo%28map_89a598d3548d4dc7a254bf3a3c86ccc9%29%3B%0A%20%20%20%20%20%20%20%20%0A%20%20%20%20%0A%20%20%20%20%20%20%20%20%20%20%20%20var%20circle_marker_51c96c51d5864491844fcbf34e805d31%20%3D%20L.circleMarker%28%0A%20%20%20%20%20%20%20%20%20%20%20%20%20%20%20%20%5B37.5407680113225%2C%20126.8414715329%5D%2C%0A%20%20%20%20%20%20%20%20%20%20%20%20%20%20%20%20%7B%22bubblingMouseEvents%22%3A%20true%2C%20%22color%22%3A%20%22%23CD3181%22%2C%20%22dashArray%22%3A%20null%2C%20%22dashOffset%22%3A%20null%2C%20%22fill%22%3A%20true%2C%20%22fillColor%22%3A%20%22%23CD3181%22%2C%20%22fillOpacity%22%3A%200.2%2C%20%22fillRule%22%3A%20%22evenodd%22%2C%20%22lineCap%22%3A%20%22round%22%2C%20%22lineJoin%22%3A%20%22round%22%2C%20%22opacity%22%3A%201.0%2C%20%22radius%22%3A%2015%2C%20%22stroke%22%3A%20true%2C%20%22weight%22%3A%203%7D%0A%20%20%20%20%20%20%20%20%20%20%20%20%29.addTo%28map_89a598d3548d4dc7a254bf3a3c86ccc9%29%3B%0A%20%20%20%20%20%20%20%20%0A%20%20%20%20%0A%20%20%20%20%20%20%20%20var%20popup_4cf35ed00448487e820ab29226b6c3bf%20%3D%20L.popup%28%7B%22maxWidth%22%3A%20150%7D%29%3B%0A%0A%20%20%20%20%20%20%20%20%0A%20%20%20%20%20%20%20%20%20%20%20%20var%20html_441a993484f34a9b809c3fa6f3dec83e%20%3D%20%24%28%60%3Cdiv%20id%3D%22html_441a993484f34a9b809c3fa6f3dec83e%22%20style%3D%22width%3A%20100.0%25%3B%20height%3A%20100.0%25%3B%22%3E%ED%99%94%EA%B3%A1%EC%97%AD%EC%A3%BC%EC%9C%A0%EC%86%8C%3C/div%3E%60%29%5B0%5D%3B%0A%20%20%20%20%20%20%20%20%20%20%20%20popup_4cf35ed00448487e820ab29226b6c3bf.setContent%28html_441a993484f34a9b809c3fa6f3dec83e%29%3B%0A%20%20%20%20%20%20%20%20%0A%0A%20%20%20%20%20%20%20%20circle_marker_51c96c51d5864491844fcbf34e805d31.bindPopup%28popup_4cf35ed00448487e820ab29226b6c3bf%29%0A%20%20%20%20%20%20%20%20%3B%0A%0A%20%20%20%20%20%20%20%20%0A%20%20%20%20%0A%20%20%20%20%0A%20%20%20%20%20%20%20%20%20%20%20%20circle_marker_51c96c51d5864491844fcbf34e805d31.bindTooltip%28%0A%20%20%20%20%20%20%20%20%20%20%20%20%20%20%20%20%60%3Cdiv%3E%0A%20%20%20%20%20%20%20%20%20%20%20%20%20%20%20%20%20%20%20%20%201243%EC%9B%90%0A%20%20%20%20%20%20%20%20%20%20%20%20%20%20%20%20%20%3C/div%3E%60%2C%0A%20%20%20%20%20%20%20%20%20%20%20%20%20%20%20%20%7B%22sticky%22%3A%20true%7D%0A%20%20%20%20%20%20%20%20%20%20%20%20%29%3B%0A%20%20%20%20%20%20%20%20%0A%20%20%20%20%0A%20%20%20%20%20%20%20%20%20%20%20%20var%20circle_marker_4058cfa9e91141bfa31f916696832978%20%3D%20L.circleMarker%28%0A%20%20%20%20%20%20%20%20%20%20%20%20%20%20%20%20%5B37.5315624983884%2C%20126.856035365887%5D%2C%0A%20%20%20%20%20%20%20%20%20%20%20%20%20%20%20%20%7B%22bubblingMouseEvents%22%3A%20true%2C%20%22color%22%3A%20%22%23CD3181%22%2C%20%22dashArray%22%3A%20null%2C%20%22dashOffset%22%3A%20null%2C%20%22fill%22%3A%20true%2C%20%22fillColor%22%3A%20%22%23CD3181%22%2C%20%22fillOpacity%22%3A%200.2%2C%20%22fillRule%22%3A%20%22evenodd%22%2C%20%22lineCap%22%3A%20%22round%22%2C%20%22lineJoin%22%3A%20%22round%22%2C%20%22opacity%22%3A%201.0%2C%20%22radius%22%3A%2015%2C%20%22stroke%22%3A%20true%2C%20%22weight%22%3A%203%7D%0A%20%20%20%20%20%20%20%20%20%20%20%20%29.addTo%28map_89a598d3548d4dc7a254bf3a3c86ccc9%29%3B%0A%20%20%20%20%20%20%20%20%0A%20%20%20%20%0A%20%20%20%20%20%20%20%20var%20popup_01a084573ceb40c4aadc596a88373f1f%20%3D%20L.popup%28%7B%22maxWidth%22%3A%20150%7D%29%3B%0A%0A%20%20%20%20%20%20%20%20%0A%20%20%20%20%20%20%20%20%20%20%20%20var%20html_e6b88993d00944289c40cd1ef89ca8d6%20%3D%20%24%28%60%3Cdiv%20id%3D%22html_e6b88993d00944289c40cd1ef89ca8d6%22%20style%3D%22width%3A%20100.0%25%3B%20height%3A%20100.0%25%3B%22%3E%EB%89%B4%EC%8B%A0%EC%A0%95%EC%A3%BC%EC%9C%A0%EC%86%8C%3C/div%3E%60%29%5B0%5D%3B%0A%20%20%20%20%20%20%20%20%20%20%20%20popup_01a084573ceb40c4aadc596a88373f1f.setContent%28html_e6b88993d00944289c40cd1ef89ca8d6%29%3B%0A%20%20%20%20%20%20%20%20%0A%0A%20%20%20%20%20%20%20%20circle_marker_4058cfa9e91141bfa31f916696832978.bindPopup%28popup_01a084573ceb40c4aadc596a88373f1f%29%0A%20%20%20%20%20%20%20%20%3B%0A%0A%20%20%20%20%20%20%20%20%0A%20%20%20%20%0A%20%20%20%20%0A%20%20%20%20%20%20%20%20%20%20%20%20circle_marker_4058cfa9e91141bfa31f916696832978.bindTooltip%28%0A%20%20%20%20%20%20%20%20%20%20%20%20%20%20%20%20%60%3Cdiv%3E%0A%20%20%20%20%20%20%20%20%20%20%20%20%20%20%20%20%20%20%20%20%201243%EC%9B%90%0A%20%20%20%20%20%20%20%20%20%20%20%20%20%20%20%20%20%3C/div%3E%60%2C%0A%20%20%20%20%20%20%20%20%20%20%20%20%20%20%20%20%7B%22sticky%22%3A%20true%7D%0A%20%20%20%20%20%20%20%20%20%20%20%20%29%3B%0A%20%20%20%20%20%20%20%20%0A%20%20%20%20%0A%20%20%20%20%20%20%20%20%20%20%20%20var%20circle_marker_e2dfce8addb3481ca9d66099fd171fb0%20%3D%20L.circleMarker%28%0A%20%20%20%20%20%20%20%20%20%20%20%20%20%20%20%20%5B37.5300548363879%2C%20126.862833597877%5D%2C%0A%20%20%20%20%20%20%20%20%20%20%20%20%20%20%20%20%7B%22bubblingMouseEvents%22%3A%20true%2C%20%22color%22%3A%20%22%234B89DC%22%2C%20%22dashArray%22%3A%20null%2C%20%22dashOffset%22%3A%20null%2C%20%22fill%22%3A%20true%2C%20%22fillColor%22%3A%20%22%234B89DC%22%2C%20%22fillOpacity%22%3A%200.2%2C%20%22fillRule%22%3A%20%22evenodd%22%2C%20%22lineCap%22%3A%20%22round%22%2C%20%22lineJoin%22%3A%20%22round%22%2C%20%22opacity%22%3A%201.0%2C%20%22radius%22%3A%2015%2C%20%22stroke%22%3A%20true%2C%20%22weight%22%3A%203%7D%0A%20%20%20%20%20%20%20%20%20%20%20%20%29.addTo%28map_89a598d3548d4dc7a254bf3a3c86ccc9%29%3B%0A%20%20%20%20%20%20%20%20%0A%20%20%20%20%0A%20%20%20%20%20%20%20%20var%20popup_7256da8d0d5147af919328863dcc4691%20%3D%20L.popup%28%7B%22maxWidth%22%3A%20150%7D%29%3B%0A%0A%20%20%20%20%20%20%20%20%0A%20%20%20%20%20%20%20%20%20%20%20%20var%20html_c5345155d70749208e1b431c8fed13b4%20%3D%20%24%28%60%3Cdiv%20id%3D%22html_c5345155d70749208e1b431c8fed13b4%22%20style%3D%22width%3A%20100.0%25%3B%20height%3A%20100.0%25%3B%22%3E%EB%AA%A9%ED%99%94%EC%A3%BC%EC%9C%A0%EC%86%8C%3C/div%3E%60%29%5B0%5D%3B%0A%20%20%20%20%20%20%20%20%20%20%20%20popup_7256da8d0d5147af919328863dcc4691.setContent%28html_c5345155d70749208e1b431c8fed13b4%29%3B%0A%20%20%20%20%20%20%20%20%0A%0A%20%20%20%20%20%20%20%20circle_marker_e2dfce8addb3481ca9d66099fd171fb0.bindPopup%28popup_7256da8d0d5147af919328863dcc4691%29%0A%20%20%20%20%20%20%20%20%3B%0A%0A%20%20%20%20%20%20%20%20%0A%20%20%20%20%0A%20%20%20%20%0A%20%20%20%20%20%20%20%20%20%20%20%20circle_marker_e2dfce8addb3481ca9d66099fd171fb0.bindTooltip%28%0A%20%20%20%20%20%20%20%20%20%20%20%20%20%20%20%20%60%3Cdiv%3E%0A%20%20%20%20%20%20%20%20%20%20%20%20%20%20%20%20%20%20%20%20%201266%EC%9B%90%0A%20%20%20%20%20%20%20%20%20%20%20%20%20%20%20%20%20%3C/div%3E%60%2C%0A%20%20%20%20%20%20%20%20%20%20%20%20%20%20%20%20%7B%22sticky%22%3A%20true%7D%0A%20%20%20%20%20%20%20%20%20%20%20%20%29%3B%0A%20%20%20%20%20%20%20%20%0A%20%20%20%20%0A%20%20%20%20%20%20%20%20%20%20%20%20var%20circle_marker_023fc6110a914a17b9fbcbefdd42989c%20%3D%20L.circleMarker%28%0A%20%20%20%20%20%20%20%20%20%20%20%20%20%20%20%20%5B37.5296452344476%2C%20126.859834931985%5D%2C%0A%20%20%20%20%20%20%20%20%20%20%20%20%20%20%20%20%7B%22bubblingMouseEvents%22%3A%20true%2C%20%22color%22%3A%20%22%234B89DC%22%2C%20%22dashArray%22%3A%20null%2C%20%22dashOffset%22%3A%20null%2C%20%22fill%22%3A%20true%2C%20%22fillColor%22%3A%20%22%234B89DC%22%2C%20%22fillOpacity%22%3A%200.2%2C%20%22fillRule%22%3A%20%22evenodd%22%2C%20%22lineCap%22%3A%20%22round%22%2C%20%22lineJoin%22%3A%20%22round%22%2C%20%22opacity%22%3A%201.0%2C%20%22radius%22%3A%2015%2C%20%22stroke%22%3A%20true%2C%20%22weight%22%3A%203%7D%0A%20%20%20%20%20%20%20%20%20%20%20%20%29.addTo%28map_89a598d3548d4dc7a254bf3a3c86ccc9%29%3B%0A%20%20%20%20%20%20%20%20%0A%20%20%20%20%0A%20%20%20%20%20%20%20%20var%20popup_4c005022a8c647f89bb99798c0b8be29%20%3D%20L.popup%28%7B%22maxWidth%22%3A%20150%7D%29%3B%0A%0A%20%20%20%20%20%20%20%20%0A%20%20%20%20%20%20%20%20%20%20%20%20var%20html_70774c4b988e4b2784431eab910d3702%20%3D%20%24%28%60%3Cdiv%20id%3D%22html_70774c4b988e4b2784431eab910d3702%22%20style%3D%22width%3A%20100.0%25%3B%20height%3A%20100.0%25%3B%22%3E%EC%A7%80%EC%97%90%EC%8A%A4%EC%B9%BC%ED%85%8D%EC%8A%A4%E3%88%9C%20%EA%B2%BD%EC%9D%B8%EA%B3%A0%EC%86%8D%EC%A3%BC%EC%9C%A0%EC%86%8C%3C/div%3E%60%29%5B0%5D%3B%0A%20%20%20%20%20%20%20%20%20%20%20%20popup_4c005022a8c647f89bb99798c0b8be29.setContent%28html_70774c4b988e4b2784431eab910d3702%29%3B%0A%20%20%20%20%20%20%20%20%0A%0A%20%20%20%20%20%20%20%20circle_marker_023fc6110a914a17b9fbcbefdd42989c.bindPopup%28popup_4c005022a8c647f89bb99798c0b8be29%29%0A%20%20%20%20%20%20%20%20%3B%0A%0A%20%20%20%20%20%20%20%20%0A%20%20%20%20%0A%20%20%20%20%0A%20%20%20%20%20%20%20%20%20%20%20%20circle_marker_023fc6110a914a17b9fbcbefdd42989c.bindTooltip%28%0A%20%20%20%20%20%20%20%20%20%20%20%20%20%20%20%20%60%3Cdiv%3E%0A%20%20%20%20%20%20%20%20%20%20%20%20%20%20%20%20%20%20%20%20%201266%EC%9B%90%0A%20%20%20%20%20%20%20%20%20%20%20%20%20%20%20%20%20%3C/div%3E%60%2C%0A%20%20%20%20%20%20%20%20%20%20%20%20%20%20%20%20%7B%22sticky%22%3A%20true%7D%0A%20%20%20%20%20%20%20%20%20%20%20%20%29%3B%0A%20%20%20%20%20%20%20%20%0A%20%20%20%20%0A%20%20%20%20%20%20%20%20%20%20%20%20var%20circle_marker_799495bdead74003a1b7ae09e0e72ebc%20%3D%20L.circleMarker%28%0A%20%20%20%20%20%20%20%20%20%20%20%20%20%20%20%20%5B37.5273198541745%2C%20126.8428791732%5D%2C%0A%20%20%20%20%20%20%20%20%20%20%20%20%20%20%20%20%7B%22bubblingMouseEvents%22%3A%20true%2C%20%22color%22%3A%20%22%234B89DC%22%2C%20%22dashArray%22%3A%20null%2C%20%22dashOffset%22%3A%20null%2C%20%22fill%22%3A%20true%2C%20%22fillColor%22%3A%20%22%234B89DC%22%2C%20%22fillOpacity%22%3A%200.2%2C%20%22fillRule%22%3A%20%22evenodd%22%2C%20%22lineCap%22%3A%20%22round%22%2C%20%22lineJoin%22%3A%20%22round%22%2C%20%22opacity%22%3A%201.0%2C%20%22radius%22%3A%2015%2C%20%22stroke%22%3A%20true%2C%20%22weight%22%3A%203%7D%0A%20%20%20%20%20%20%20%20%20%20%20%20%29.addTo%28map_89a598d3548d4dc7a254bf3a3c86ccc9%29%3B%0A%20%20%20%20%20%20%20%20%0A%20%20%20%20%0A%20%20%20%20%20%20%20%20var%20popup_8832051a39e740ab830f8b4f70b383b8%20%3D%20L.popup%28%7B%22maxWidth%22%3A%20150%7D%29%3B%0A%0A%20%20%20%20%20%20%20%20%0A%20%20%20%20%20%20%20%20%20%20%20%20var%20html_1d80251d3c1547878aefc23afa1e5c94%20%3D%20%24%28%60%3Cdiv%20id%3D%22html_1d80251d3c1547878aefc23afa1e5c94%22%20style%3D%22width%3A%20100.0%25%3B%20height%3A%20100.0%25%3B%22%3E%EC%8B%A0%ED%99%94%EA%B3%A1%EC%A3%BC%EC%9C%A0%EC%86%8C%3C/div%3E%60%29%5B0%5D%3B%0A%20%20%20%20%20%20%20%20%20%20%20%20popup_8832051a39e740ab830f8b4f70b383b8.setContent%28html_1d80251d3c1547878aefc23afa1e5c94%29%3B%0A%20%20%20%20%20%20%20%20%0A%0A%20%20%20%20%20%20%20%20circle_marker_799495bdead74003a1b7ae09e0e72ebc.bindPopup%28popup_8832051a39e740ab830f8b4f70b383b8%29%0A%20%20%20%20%20%20%20%20%3B%0A%0A%20%20%20%20%20%20%20%20%0A%20%20%20%20%0A%20%20%20%20%0A%20%20%20%20%20%20%20%20%20%20%20%20circle_marker_799495bdead74003a1b7ae09e0e72ebc.bindTooltip%28%0A%20%20%20%20%20%20%20%20%20%20%20%20%20%20%20%20%60%3Cdiv%3E%0A%20%20%20%20%20%20%20%20%20%20%20%20%20%20%20%20%20%20%20%20%201315%EC%9B%90%0A%20%20%20%20%20%20%20%20%20%20%20%20%20%20%20%20%20%3C/div%3E%60%2C%0A%20%20%20%20%20%20%20%20%20%20%20%20%20%20%20%20%7B%22sticky%22%3A%20true%7D%0A%20%20%20%20%20%20%20%20%20%20%20%20%29%3B%0A%20%20%20%20%20%20%20%20%0A%20%20%20%20%0A%20%20%20%20%20%20%20%20%20%20%20%20var%20circle_marker_9140b24ea2fd4da99cecb8d5ebd30e29%20%3D%20L.circleMarker%28%0A%20%20%20%20%20%20%20%20%20%20%20%20%20%20%20%20%5B37.5402424056989%2C%20126.841163971808%5D%2C%0A%20%20%20%20%20%20%20%20%20%20%20%20%20%20%20%20%7B%22bubblingMouseEvents%22%3A%20true%2C%20%22color%22%3A%20%22%234B89DC%22%2C%20%22dashArray%22%3A%20null%2C%20%22dashOffset%22%3A%20null%2C%20%22fill%22%3A%20true%2C%20%22fillColor%22%3A%20%22%234B89DC%22%2C%20%22fillOpacity%22%3A%200.2%2C%20%22fillRule%22%3A%20%22evenodd%22%2C%20%22lineCap%22%3A%20%22round%22%2C%20%22lineJoin%22%3A%20%22round%22%2C%20%22opacity%22%3A%201.0%2C%20%22radius%22%3A%2015%2C%20%22stroke%22%3A%20true%2C%20%22weight%22%3A%203%7D%0A%20%20%20%20%20%20%20%20%20%20%20%20%29.addTo%28map_89a598d3548d4dc7a254bf3a3c86ccc9%29%3B%0A%20%20%20%20%20%20%20%20%0A%20%20%20%20%0A%20%20%20%20%20%20%20%20var%20popup_aacedbe2157d4b35aaffd9ba5d8b0c96%20%3D%20L.popup%28%7B%22maxWidth%22%3A%20150%7D%29%3B%0A%0A%20%20%20%20%20%20%20%20%0A%20%20%20%20%20%20%20%20%20%20%20%20var%20html_7ed36fcc8d514565b4c28995aca1ca1d%20%3D%20%24%28%60%3Cdiv%20id%3D%22html_7ed36fcc8d514565b4c28995aca1ca1d%22%20style%3D%22width%3A%20100.0%25%3B%20height%3A%20100.0%25%3B%22%3E%ED%99%94%EA%B3%A1%ED%98%84%EB%8C%80%EC%A3%BC%EC%9C%A0%EC%86%8C%3C/div%3E%60%29%5B0%5D%3B%0A%20%20%20%20%20%20%20%20%20%20%20%20popup_aacedbe2157d4b35aaffd9ba5d8b0c96.setContent%28html_7ed36fcc8d514565b4c28995aca1ca1d%29%3B%0A%20%20%20%20%20%20%20%20%0A%0A%20%20%20%20%20%20%20%20circle_marker_9140b24ea2fd4da99cecb8d5ebd30e29.bindPopup%28popup_aacedbe2157d4b35aaffd9ba5d8b0c96%29%0A%20%20%20%20%20%20%20%20%3B%0A%0A%20%20%20%20%20%20%20%20%0A%20%20%20%20%0A%20%20%20%20%0A%20%20%20%20%20%20%20%20%20%20%20%20circle_marker_9140b24ea2fd4da99cecb8d5ebd30e29.bindTooltip%28%0A%20%20%20%20%20%20%20%20%20%20%20%20%20%20%20%20%60%3Cdiv%3E%0A%20%20%20%20%20%20%20%20%20%20%20%20%20%20%20%20%20%20%20%20%201326%EC%9B%90%0A%20%20%20%20%20%20%20%20%20%20%20%20%20%20%20%20%20%3C/div%3E%60%2C%0A%20%20%20%20%20%20%20%20%20%20%20%20%20%20%20%20%7B%22sticky%22%3A%20true%7D%0A%20%20%20%20%20%20%20%20%20%20%20%20%29%3B%0A%20%20%20%20%20%20%20%20%0A%20%20%20%20%0A%20%20%20%20%20%20%20%20%20%20%20%20var%20circle_marker_8b3f49a99c02432da6735db52013aad1%20%3D%20L.circleMarker%28%0A%20%20%20%20%20%20%20%20%20%20%20%20%20%20%20%20%5B37.5578424333244%2C%20126.842395220012%5D%2C%0A%20%20%20%20%20%20%20%20%20%20%20%20%20%20%20%20%7B%22bubblingMouseEvents%22%3A%20true%2C%20%22color%22%3A%20%22%234B89DC%22%2C%20%22dashArray%22%3A%20null%2C%20%22dashOffset%22%3A%20null%2C%20%22fill%22%3A%20true%2C%20%22fillColor%22%3A%20%22%234B89DC%22%2C%20%22fillOpacity%22%3A%200.2%2C%20%22fillRule%22%3A%20%22evenodd%22%2C%20%22lineCap%22%3A%20%22round%22%2C%20%22lineJoin%22%3A%20%22round%22%2C%20%22opacity%22%3A%201.0%2C%20%22radius%22%3A%2015%2C%20%22stroke%22%3A%20true%2C%20%22weight%22%3A%203%7D%0A%20%20%20%20%20%20%20%20%20%20%20%20%29.addTo%28map_89a598d3548d4dc7a254bf3a3c86ccc9%29%3B%0A%20%20%20%20%20%20%20%20%0A%20%20%20%20%0A%20%20%20%20%20%20%20%20var%20popup_d890c64fb33b4f15b9ace407901eb583%20%3D%20L.popup%28%7B%22maxWidth%22%3A%20150%7D%29%3B%0A%0A%20%20%20%20%20%20%20%20%0A%20%20%20%20%20%20%20%20%20%20%20%20var%20html_91700f2870df4c59a50f5ed82c373bca%20%3D%20%24%28%60%3Cdiv%20id%3D%22html_91700f2870df4c59a50f5ed82c373bca%22%20style%3D%22width%3A%20100.0%25%3B%20height%3A%20100.0%25%3B%22%3E%EB%8C%80%EC%84%B1%EC%84%9D%EC%9C%A0%28%EC%A3%BC%29%EC%A7%81%EC%98%81%EA%B4%80%EB%AC%B8%EC%A3%BC%EC%9C%A0%EC%86%8C%3C/div%3E%60%29%5B0%5D%3B%0A%20%20%20%20%20%20%20%20%20%20%20%20popup_d890c64fb33b4f15b9ace407901eb583.setContent%28html_91700f2870df4c59a50f5ed82c373bca%29%3B%0A%20%20%20%20%20%20%20%20%0A%0A%20%20%20%20%20%20%20%20circle_marker_8b3f49a99c02432da6735db52013aad1.bindPopup%28popup_d890c64fb33b4f15b9ace407901eb583%29%0A%20%20%20%20%20%20%20%20%3B%0A%0A%20%20%20%20%20%20%20%20%0A%20%20%20%20%0A%20%20%20%20%0A%20%20%20%20%20%20%20%20%20%20%20%20circle_marker_8b3f49a99c02432da6735db52013aad1.bindTooltip%28%0A%20%20%20%20%20%20%20%20%20%20%20%20%20%20%20%20%60%3Cdiv%3E%0A%20%20%20%20%20%20%20%20%20%20%20%20%20%20%20%20%20%20%20%20%201358%EC%9B%90%0A%20%20%20%20%20%20%20%20%20%20%20%20%20%20%20%20%20%3C/div%3E%60%2C%0A%20%20%20%20%20%20%20%20%20%20%20%20%20%20%20%20%7B%22sticky%22%3A%20true%7D%0A%20%20%20%20%20%20%20%20%20%20%20%20%29%3B%0A%20%20%20%20%20%20%20%20%0A%20%20%20%20%0A%20%20%20%20%20%20%20%20%20%20%20%20var%20circle_marker_56891109fa32480496eca2d0fa8ce564%20%3D%20L.circleMarker%28%0A%20%20%20%20%20%20%20%20%20%20%20%20%20%20%20%20%5B37.5518027646586%2C%20126.836681312113%5D%2C%0A%20%20%20%20%20%20%20%20%20%20%20%20%20%20%20%20%7B%22bubblingMouseEvents%22%3A%20true%2C%20%22color%22%3A%20%22%234B89DC%22%2C%20%22dashArray%22%3A%20null%2C%20%22dashOffset%22%3A%20null%2C%20%22fill%22%3A%20true%2C%20%22fillColor%22%3A%20%22%234B89DC%22%2C%20%22fillOpacity%22%3A%200.2%2C%20%22fillRule%22%3A%20%22evenodd%22%2C%20%22lineCap%22%3A%20%22round%22%2C%20%22lineJoin%22%3A%20%22round%22%2C%20%22opacity%22%3A%201.0%2C%20%22radius%22%3A%2015%2C%20%22stroke%22%3A%20true%2C%20%22weight%22%3A%203%7D%0A%20%20%20%20%20%20%20%20%20%20%20%20%29.addTo%28map_89a598d3548d4dc7a254bf3a3c86ccc9%29%3B%0A%20%20%20%20%20%20%20%20%0A%20%20%20%20%0A%20%20%20%20%20%20%20%20var%20popup_bb805a2a52e349ddafdd3bce0e17f827%20%3D%20L.popup%28%7B%22maxWidth%22%3A%20150%7D%29%3B%0A%0A%20%20%20%20%20%20%20%20%0A%20%20%20%20%20%20%20%20%20%20%20%20var%20html_b3bd1dfa9f21453493da0bb955e6130f%20%3D%20%24%28%60%3Cdiv%20id%3D%22html_b3bd1dfa9f21453493da0bb955e6130f%22%20style%3D%22width%3A%20100.0%25%3B%20height%3A%20100.0%25%3B%22%3E%EC%9A%B0%EC%9E%A5%EC%82%B0%EC%A3%BC%EC%9C%A0%EC%86%8C%3C/div%3E%60%29%5B0%5D%3B%0A%20%20%20%20%20%20%20%20%20%20%20%20popup_bb805a2a52e349ddafdd3bce0e17f827.setContent%28html_b3bd1dfa9f21453493da0bb955e6130f%29%3B%0A%20%20%20%20%20%20%20%20%0A%0A%20%20%20%20%20%20%20%20circle_marker_56891109fa32480496eca2d0fa8ce564.bindPopup%28popup_bb805a2a52e349ddafdd3bce0e17f827%29%0A%20%20%20%20%20%20%20%20%3B%0A%0A%20%20%20%20%20%20%20%20%0A%20%20%20%20%0A%20%20%20%20%0A%20%20%20%20%20%20%20%20%20%20%20%20circle_marker_56891109fa32480496eca2d0fa8ce564.bindTooltip%28%0A%20%20%20%20%20%20%20%20%20%20%20%20%20%20%20%20%60%3Cdiv%3E%0A%20%20%20%20%20%20%20%20%20%20%20%20%20%20%20%20%20%20%20%20%201358%EC%9B%90%0A%20%20%20%20%20%20%20%20%20%20%20%20%20%20%20%20%20%3C/div%3E%60%2C%0A%20%20%20%20%20%20%20%20%20%20%20%20%20%20%20%20%7B%22sticky%22%3A%20true%7D%0A%20%20%20%20%20%20%20%20%20%20%20%20%29%3B%0A%20%20%20%20%20%20%20%20%0A%20%20%20%20%0A%20%20%20%20%20%20%20%20%20%20%20%20var%20circle_marker_1236459ae398471e974017693f542d7d%20%3D%20L.circleMarker%28%0A%20%20%20%20%20%20%20%20%20%20%20%20%20%20%20%20%5B37.5728980859386%2C%20126.823440027913%5D%2C%0A%20%20%20%20%20%20%20%20%20%20%20%20%20%20%20%20%7B%22bubblingMouseEvents%22%3A%20true%2C%20%22color%22%3A%20%22%234B89DC%22%2C%20%22dashArray%22%3A%20null%2C%20%22dashOffset%22%3A%20null%2C%20%22fill%22%3A%20true%2C%20%22fillColor%22%3A%20%22%234B89DC%22%2C%20%22fillOpacity%22%3A%200.2%2C%20%22fillRule%22%3A%20%22evenodd%22%2C%20%22lineCap%22%3A%20%22round%22%2C%20%22lineJoin%22%3A%20%22round%22%2C%20%22opacity%22%3A%201.0%2C%20%22radius%22%3A%2015%2C%20%22stroke%22%3A%20true%2C%20%22weight%22%3A%203%7D%0A%20%20%20%20%20%20%20%20%20%20%20%20%29.addTo%28map_89a598d3548d4dc7a254bf3a3c86ccc9%29%3B%0A%20%20%20%20%20%20%20%20%0A%20%20%20%20%0A%20%20%20%20%20%20%20%20var%20popup_675e4fc9a87549999bd213e20c74833a%20%3D%20L.popup%28%7B%22maxWidth%22%3A%20150%7D%29%3B%0A%0A%20%20%20%20%20%20%20%20%0A%20%20%20%20%20%20%20%20%20%20%20%20var%20html_0780c682c60a45f6a3a59fdf9b42e9ec%20%3D%20%24%28%60%3Cdiv%20id%3D%22html_0780c682c60a45f6a3a59fdf9b42e9ec%22%20style%3D%22width%3A%20100.0%25%3B%20height%3A%20100.0%25%3B%22%3E%EB%8C%80%EC%84%B1%EC%84%9D%EC%9C%A0%28%EC%A3%BC%29%EB%B0%A9%ED%99%94%EB%8C%80%EC%84%B1%EC%A3%BC%EC%9C%A0%EC%86%8C%3C/div%3E%60%29%5B0%5D%3B%0A%20%20%20%20%20%20%20%20%20%20%20%20popup_675e4fc9a87549999bd213e20c74833a.setContent%28html_0780c682c60a45f6a3a59fdf9b42e9ec%29%3B%0A%20%20%20%20%20%20%20%20%0A%0A%20%20%20%20%20%20%20%20circle_marker_1236459ae398471e974017693f542d7d.bindPopup%28popup_675e4fc9a87549999bd213e20c74833a%29%0A%20%20%20%20%20%20%20%20%3B%0A%0A%20%20%20%20%20%20%20%20%0A%20%20%20%20%0A%20%20%20%20%0A%20%20%20%20%20%20%20%20%20%20%20%20circle_marker_1236459ae398471e974017693f542d7d.bindTooltip%28%0A%20%20%20%20%20%20%20%20%20%20%20%20%20%20%20%20%60%3Cdiv%3E%0A%20%20%20%20%20%20%20%20%20%20%20%20%20%20%20%20%20%20%20%20%201365%EC%9B%90%0A%20%20%20%20%20%20%20%20%20%20%20%20%20%20%20%20%20%3C/div%3E%60%2C%0A%20%20%20%20%20%20%20%20%20%20%20%20%20%20%20%20%7B%22sticky%22%3A%20true%7D%0A%20%20%20%20%20%20%20%20%20%20%20%20%29%3B%0A%20%20%20%20%20%20%20%20%0A%20%20%20%20%0A%20%20%20%20%20%20%20%20%20%20%20%20var%20circle_marker_461ad2d4c9064133b86b7d9b86a35ed0%20%3D%20L.circleMarker%28%0A%20%20%20%20%20%20%20%20%20%20%20%20%20%20%20%20%5B37.5662430987764%2C%20126.840421267348%5D%2C%0A%20%20%20%20%20%20%20%20%20%20%20%20%20%20%20%20%7B%22bubblingMouseEvents%22%3A%20true%2C%20%22color%22%3A%20%22%234B89DC%22%2C%20%22dashArray%22%3A%20null%2C%20%22dashOffset%22%3A%20null%2C%20%22fill%22%3A%20true%2C%20%22fillColor%22%3A%20%22%234B89DC%22%2C%20%22fillOpacity%22%3A%200.2%2C%20%22fillRule%22%3A%20%22evenodd%22%2C%20%22lineCap%22%3A%20%22round%22%2C%20%22lineJoin%22%3A%20%22round%22%2C%20%22opacity%22%3A%201.0%2C%20%22radius%22%3A%2015%2C%20%22stroke%22%3A%20true%2C%20%22weight%22%3A%203%7D%0A%20%20%20%20%20%20%20%20%20%20%20%20%29.addTo%28map_89a598d3548d4dc7a254bf3a3c86ccc9%29%3B%0A%20%20%20%20%20%20%20%20%0A%20%20%20%20%0A%20%20%20%20%20%20%20%20var%20popup_854d46fac92844bfb0805a513bfbc37f%20%3D%20L.popup%28%7B%22maxWidth%22%3A%20150%7D%29%3B%0A%0A%20%20%20%20%20%20%20%20%0A%20%20%20%20%20%20%20%20%20%20%20%20var%20html_c9ec63cbc7de4b04bec9de0fa834f7e9%20%3D%20%24%28%60%3Cdiv%20id%3D%22html_c9ec63cbc7de4b04bec9de0fa834f7e9%22%20style%3D%22width%3A%20100.0%25%3B%20height%3A%20100.0%25%3B%22%3E%EB%8C%80%EC%84%B1%EC%84%9D%EC%9C%A0%28%EC%A3%BC%29%20%EB%A7%88%EA%B3%A1%EB%8C%80%EC%84%B1%EC%A3%BC%EC%9C%A0%EC%86%8C%3C/div%3E%60%29%5B0%5D%3B%0A%20%20%20%20%20%20%20%20%20%20%20%20popup_854d46fac92844bfb0805a513bfbc37f.setContent%28html_c9ec63cbc7de4b04bec9de0fa834f7e9%29%3B%0A%20%20%20%20%20%20%20%20%0A%0A%20%20%20%20%20%20%20%20circle_marker_461ad2d4c9064133b86b7d9b86a35ed0.bindPopup%28popup_854d46fac92844bfb0805a513bfbc37f%29%0A%20%20%20%20%20%20%20%20%3B%0A%0A%20%20%20%20%20%20%20%20%0A%20%20%20%20%0A%20%20%20%20%0A%20%20%20%20%20%20%20%20%20%20%20%20circle_marker_461ad2d4c9064133b86b7d9b86a35ed0.bindTooltip%28%0A%20%20%20%20%20%20%20%20%20%20%20%20%20%20%20%20%60%3Cdiv%3E%0A%20%20%20%20%20%20%20%20%20%20%20%20%20%20%20%20%20%20%20%20%201365%EC%9B%90%0A%20%20%20%20%20%20%20%20%20%20%20%20%20%20%20%20%20%3C/div%3E%60%2C%0A%20%20%20%20%20%20%20%20%20%20%20%20%20%20%20%20%7B%22sticky%22%3A%20true%7D%0A%20%20%20%20%20%20%20%20%20%20%20%20%29%3B%0A%20%20%20%20%20%20%20%20%0A%3C/script%3E onload=\"this.contentDocument.open();this.contentDocument.write(    decodeURIComponent(this.getAttribute('data-html')));this.contentDocument.close();\" allowfullscreen webkitallowfullscreen mozallowfullscreen></iframe></div></div>"
     },
     "metadata": {},
     "execution_count": 13
    }
   ],
   "source": [
    "map = folium.Map(location=[dong_station['lat'].mean(), dong_station['lng'].mean()], zoom_start=13)\n",
    "\n",
    "for i in dong_station.index:\n",
    "    frame = f\"{dong_station['상호'][i]}\"\n",
    "    popup = folium.Popup(frame, max_width=150)\n",
    "    if dong_station['휘발유'][i] == min(dong_station['휘발유']):\n",
    "        folium.CircleMarker([dong_station['lat'][i], dong_station['lng'][i]],\n",
    "                            radius=15,\n",
    "                            color='#CD3181',\n",
    "                            fill_color='#CD3181',\n",
    "                            tooltip=(f\"{dong_station['휘발유'][i]}원\"),\n",
    "                            popup=popup\n",
    "                            ).add_to(map)\n",
    "    else:\n",
    "        folium.CircleMarker([dong_station['lat'][i], dong_station['lng'][i]],\n",
    "                            radius=15,\n",
    "                            color='#4B89DC',\n",
    "                            fill_color='#4B89DC',\n",
    "                            tooltip=(f\"{dong_station['휘발유'][i]}원\"),\n",
    "                            popup=popup\n",
    "                            ).add_to(map)\n",
    "map"
   ]
  },
  {
   "source": [
    "### 2. 이름을 키워드로 카카오맵에서 검색 후, 서울 전체엑셀에서 inner join하기"
   ],
   "cell_type": "markdown",
   "metadata": {}
  },
  {
   "cell_type": "code",
   "execution_count": 14,
   "metadata": {},
   "outputs": [],
   "source": [
    "import time\n",
    "from selenium import webdriver\n",
    "from selenium.webdriver.common.keys import Keys\n",
    "import requests\n",
    "from urllib.parse import urlparse, quote\n",
    "import folium\n",
    "import pandas as pd\n",
    "from glob import glob"
   ]
  },
  {
   "cell_type": "code",
   "execution_count": 15,
   "metadata": {},
   "outputs": [],
   "source": [
    "station_list = ['우장산주유소', '대성석유(주)직영관문주유소\t', '화곡현대주유소', '신화곡주유소', '지에스칼텍스㈜ 경인고속주유소', '목화주유소', '뉴신정주유소', '화곡역주유소', '대성석유(주) 마곡대성주유소', '대성석유(주)방화대성주유소']"
   ]
  },
  {
   "cell_type": "code",
   "execution_count": 16,
   "metadata": {},
   "outputs": [],
   "source": [
    "key_fd = open('kakaomapkey.txt', mode='r')\n",
    "kmap_key = key_fd.read(100)\n",
    "key_fd.close()"
   ]
  },
  {
   "cell_type": "code",
   "execution_count": 17,
   "metadata": {},
   "outputs": [
    {
     "output_type": "execute_result",
     "data": {
      "text/plain": [
       "{'address_name': '서울 강서구 내발산동 702-9',\n",
       " 'category_group_code': 'OL7',\n",
       " 'category_group_name': '주유소,충전소',\n",
       " 'category_name': '교통,수송 > 자동차 > 주유,가스 > 주유소 > SK주유소',\n",
       " 'distance': '',\n",
       " 'id': '27163582',\n",
       " 'phone': '02-3664-7163',\n",
       " 'place_name': '우장산주유소',\n",
       " 'place_url': 'http://place.map.kakao.com/27163582',\n",
       " 'road_address_name': '서울 강서구 강서로 292',\n",
       " 'x': '126.836581578392',\n",
       " 'y': '37.5516105340577'}"
      ]
     },
     "metadata": {},
     "execution_count": 17
    }
   ],
   "source": [
    "addr = '우장산주유소'\n",
    "url = 'https://dapi.kakao.com/v2/local/search/keyword.json?query=' + quote(addr)\n",
    "result = requests.get(url,headers={'Authorization': \"KakaoAK \"+kmap_key}).json()\n",
    "result['documents'][0]"
   ]
  },
  {
   "cell_type": "code",
   "execution_count": 18,
   "metadata": {},
   "outputs": [],
   "source": [
    "name_list=[]; tel_list=[]; addr_list=[]; lat_list=[]; lng_list=[]\n",
    "\n",
    "for station in station_list:\n",
    "    url = 'https://dapi.kakao.com/v2/local/search/keyword.json?query=' + quote(station)\n",
    "    result = requests.get(url,headers={'Authorization': \"KakaoAK \"+kmap_key}).json()\n",
    "    name_list.append(result['documents'][0]['place_name'])\n",
    "    tel_list.append(result['documents'][0]['phone'])\n",
    "    addr_list.append(result['documents'][0]['road_address_name'])\n",
    "    lat_list.append(float(result['documents'][0]['y']))\n",
    "    lng_list.append(float(result['documents'][0]['x']))"
   ]
  },
  {
   "cell_type": "code",
   "execution_count": 19,
   "metadata": {},
   "outputs": [
    {
     "output_type": "execute_result",
     "data": {
      "text/plain": [
       "      place_name           tel          address        lat         lng\n",
       "0         우장산주유소  02-3664-7163   서울 강서구 강서로 292  37.551611  126.836582\n",
       "1   대성석유직영 관문주유소  02-3665-2051  서울 강서구 공항대로 314  37.557875  126.842367\n",
       "2        화곡현대주유소  02-2607-1942   서울 강서구 강서로 151  37.540264  126.841200\n",
       "3         신화곡주유소  02-2611-3161   서울 강서구 국회대로 71  37.527260  126.842889\n",
       "4  GS칼텍스 경인고속주유소  02-2608-5151  서울 강서구 국회대로 225  37.529624  126.859795\n",
       "5          목화주유소  02-2654-4564  서울 강서구 국회대로 251  37.530020  126.863062\n",
       "6         뉴신정주유소  02-2601-0077  서울 강서구 곰달래로 207  37.531550  126.856042\n",
       "7         화곡역주유소  02-2691-5151   서울 강서구 강서로 154  37.540625  126.841525\n",
       "8   대성석유 마곡대성주유소  02-3664-7781   서울 강서구 강서로 457  37.566279  126.840412\n",
       "9    대성석유방화대성주유소  02-3663-7781   서울 강서구 양천로 176  37.572898  126.823436"
      ],
      "text/html": "<div>\n<style scoped>\n    .dataframe tbody tr th:only-of-type {\n        vertical-align: middle;\n    }\n\n    .dataframe tbody tr th {\n        vertical-align: top;\n    }\n\n    .dataframe thead th {\n        text-align: right;\n    }\n</style>\n<table border=\"1\" class=\"dataframe\">\n  <thead>\n    <tr style=\"text-align: right;\">\n      <th></th>\n      <th>place_name</th>\n      <th>tel</th>\n      <th>address</th>\n      <th>lat</th>\n      <th>lng</th>\n    </tr>\n  </thead>\n  <tbody>\n    <tr>\n      <th>0</th>\n      <td>우장산주유소</td>\n      <td>02-3664-7163</td>\n      <td>서울 강서구 강서로 292</td>\n      <td>37.551611</td>\n      <td>126.836582</td>\n    </tr>\n    <tr>\n      <th>1</th>\n      <td>대성석유직영 관문주유소</td>\n      <td>02-3665-2051</td>\n      <td>서울 강서구 공항대로 314</td>\n      <td>37.557875</td>\n      <td>126.842367</td>\n    </tr>\n    <tr>\n      <th>2</th>\n      <td>화곡현대주유소</td>\n      <td>02-2607-1942</td>\n      <td>서울 강서구 강서로 151</td>\n      <td>37.540264</td>\n      <td>126.841200</td>\n    </tr>\n    <tr>\n      <th>3</th>\n      <td>신화곡주유소</td>\n      <td>02-2611-3161</td>\n      <td>서울 강서구 국회대로 71</td>\n      <td>37.527260</td>\n      <td>126.842889</td>\n    </tr>\n    <tr>\n      <th>4</th>\n      <td>GS칼텍스 경인고속주유소</td>\n      <td>02-2608-5151</td>\n      <td>서울 강서구 국회대로 225</td>\n      <td>37.529624</td>\n      <td>126.859795</td>\n    </tr>\n    <tr>\n      <th>5</th>\n      <td>목화주유소</td>\n      <td>02-2654-4564</td>\n      <td>서울 강서구 국회대로 251</td>\n      <td>37.530020</td>\n      <td>126.863062</td>\n    </tr>\n    <tr>\n      <th>6</th>\n      <td>뉴신정주유소</td>\n      <td>02-2601-0077</td>\n      <td>서울 강서구 곰달래로 207</td>\n      <td>37.531550</td>\n      <td>126.856042</td>\n    </tr>\n    <tr>\n      <th>7</th>\n      <td>화곡역주유소</td>\n      <td>02-2691-5151</td>\n      <td>서울 강서구 강서로 154</td>\n      <td>37.540625</td>\n      <td>126.841525</td>\n    </tr>\n    <tr>\n      <th>8</th>\n      <td>대성석유 마곡대성주유소</td>\n      <td>02-3664-7781</td>\n      <td>서울 강서구 강서로 457</td>\n      <td>37.566279</td>\n      <td>126.840412</td>\n    </tr>\n    <tr>\n      <th>9</th>\n      <td>대성석유방화대성주유소</td>\n      <td>02-3663-7781</td>\n      <td>서울 강서구 양천로 176</td>\n      <td>37.572898</td>\n      <td>126.823436</td>\n    </tr>\n  </tbody>\n</table>\n</div>"
     },
     "metadata": {},
     "execution_count": 19
    }
   ],
   "source": [
    "station_data = pd.DataFrame({\n",
    "    'place_name':name_list,\n",
    "    'tel':tel_list,\n",
    "    'address':addr_list,\n",
    "    'lat':lat_list,\n",
    "    'lng':lng_list\n",
    "})\n",
    "station_data"
   ]
  },
  {
   "cell_type": "code",
   "execution_count": 20,
   "metadata": {},
   "outputs": [],
   "source": [
    "driver = webdriver.Chrome('./chromedriver')\n",
    "driver.maximize_window()\n",
    "driver.get('http://www.opinet.co.kr/searRgSelect.do')\n",
    "time.sleep(3)\n",
    "\n",
    "driver.find_element_by_css_selector('.ic_m1').click()\n",
    "time.sleep(2)\n",
    "\n",
    "region = driver.find_element_by_xpath('//*[@id=\"SIGUNGU_NM0\"]')\n",
    "gu_list = region.find_elements_by_tag_name('option')\n",
    "\n",
    "gu_names = [gu.get_attribute('value') for gu in gu_list] # 파이썬다운코드\n",
    "del gu_names[0]\n",
    "\n",
    "for gu in gu_names:\n",
    "    region = driver.find_element_by_id('SIGUNGU_NM0')\n",
    "    region.send_keys(gu)\n",
    "    time.sleep(1)\n",
    "\n",
    "    driver.find_element_by_xpath('//*[@id=\"glopopd_excel\"]/span').click()\n",
    "    time.sleep(2)\n",
    "\n",
    "driver.quit()"
   ]
  },
  {
   "cell_type": "code",
   "execution_count": 21,
   "metadata": {},
   "outputs": [
    {
     "output_type": "execute_result",
     "data": {
      "text/plain": [
       "       지역                     상호                         주소      상표  \\\n",
       "0   서울특별시                 구천면주유소      서울 강동구 구천면로 357 (암사동)  현대오일뱅크   \n",
       "1   서울특별시          지에스칼텍스㈜ 신월주유소     서울 강동구 양재대로 1323 (성내동)   GS칼텍스   \n",
       "2   서울특별시      현대오일뱅크㈜직영 고속셀프주유소           서울 강동구 천호대로 1246  현대오일뱅크   \n",
       "3   서울특별시                방아다리주유소       서울 강동구 동남로 811 (명일동)   SK에너지   \n",
       "4   서울특별시      현대오일뱅크㈜직영 명일셀프주유소       서울 강동구 고덕로 168 (명일동)  현대오일뱅크   \n",
       "..    ...                    ...                        ...     ...   \n",
       "35  서울특별시  (주)소모에너지엔테크놀러지 쎈트럴주유소             서울 강남구 삼성로 335   GS칼텍스   \n",
       "36  서울특별시               (주)만정에너지      서울 강남구 봉은사로 433 (삼성동)   GS칼텍스   \n",
       "37  서울특별시                뉴서울(강남)       서울 강남구 언주로 716 (논현동)   SK에너지   \n",
       "38  서울특별시                  동우주유소  서울특별시 강남구  봉은사로 311 (논현동)   SK에너지   \n",
       "39  서울특별시                  삼성주유소       서울 강남구 삼성로 521 (삼성동)   SK에너지   \n",
       "\n",
       "            전화번호 셀프여부 고급휘발유   휘발유    경유  실내등유  \n",
       "0    02-441-0536    N     -  1374  1187     -  \n",
       "1    02-475-2600    N  1585  1385  1188  1000  \n",
       "2    02-487-2030    Y  1598  1386  1188   895  \n",
       "3    02-442-5145    Y     -  1395  1195   975  \n",
       "4   02-3428-1739    Y  1625  1395  1198     -  \n",
       "..           ...  ...   ...   ...   ...   ...  \n",
       "35   02-565-0267    N  2037  1883  1659  1100  \n",
       "36   02-518-5141    N  2079  1913  1689  1359  \n",
       "37   02-518-5631    N  2330  2025  1865  1260  \n",
       "38   02-542-6726    N     -     -     -     -  \n",
       "39   02-538-0809    N     -     -     -     -  \n",
       "\n",
       "[498 rows x 10 columns]"
      ],
      "text/html": "<div>\n<style scoped>\n    .dataframe tbody tr th:only-of-type {\n        vertical-align: middle;\n    }\n\n    .dataframe tbody tr th {\n        vertical-align: top;\n    }\n\n    .dataframe thead th {\n        text-align: right;\n    }\n</style>\n<table border=\"1\" class=\"dataframe\">\n  <thead>\n    <tr style=\"text-align: right;\">\n      <th></th>\n      <th>지역</th>\n      <th>상호</th>\n      <th>주소</th>\n      <th>상표</th>\n      <th>전화번호</th>\n      <th>셀프여부</th>\n      <th>고급휘발유</th>\n      <th>휘발유</th>\n      <th>경유</th>\n      <th>실내등유</th>\n    </tr>\n  </thead>\n  <tbody>\n    <tr>\n      <th>0</th>\n      <td>서울특별시</td>\n      <td>구천면주유소</td>\n      <td>서울 강동구 구천면로 357 (암사동)</td>\n      <td>현대오일뱅크</td>\n      <td>02-441-0536</td>\n      <td>N</td>\n      <td>-</td>\n      <td>1374</td>\n      <td>1187</td>\n      <td>-</td>\n    </tr>\n    <tr>\n      <th>1</th>\n      <td>서울특별시</td>\n      <td>지에스칼텍스㈜ 신월주유소</td>\n      <td>서울 강동구 양재대로 1323 (성내동)</td>\n      <td>GS칼텍스</td>\n      <td>02-475-2600</td>\n      <td>N</td>\n      <td>1585</td>\n      <td>1385</td>\n      <td>1188</td>\n      <td>1000</td>\n    </tr>\n    <tr>\n      <th>2</th>\n      <td>서울특별시</td>\n      <td>현대오일뱅크㈜직영 고속셀프주유소</td>\n      <td>서울 강동구 천호대로 1246</td>\n      <td>현대오일뱅크</td>\n      <td>02-487-2030</td>\n      <td>Y</td>\n      <td>1598</td>\n      <td>1386</td>\n      <td>1188</td>\n      <td>895</td>\n    </tr>\n    <tr>\n      <th>3</th>\n      <td>서울특별시</td>\n      <td>방아다리주유소</td>\n      <td>서울 강동구 동남로 811 (명일동)</td>\n      <td>SK에너지</td>\n      <td>02-442-5145</td>\n      <td>Y</td>\n      <td>-</td>\n      <td>1395</td>\n      <td>1195</td>\n      <td>975</td>\n    </tr>\n    <tr>\n      <th>4</th>\n      <td>서울특별시</td>\n      <td>현대오일뱅크㈜직영 명일셀프주유소</td>\n      <td>서울 강동구 고덕로 168 (명일동)</td>\n      <td>현대오일뱅크</td>\n      <td>02-3428-1739</td>\n      <td>Y</td>\n      <td>1625</td>\n      <td>1395</td>\n      <td>1198</td>\n      <td>-</td>\n    </tr>\n    <tr>\n      <th>...</th>\n      <td>...</td>\n      <td>...</td>\n      <td>...</td>\n      <td>...</td>\n      <td>...</td>\n      <td>...</td>\n      <td>...</td>\n      <td>...</td>\n      <td>...</td>\n      <td>...</td>\n    </tr>\n    <tr>\n      <th>35</th>\n      <td>서울특별시</td>\n      <td>(주)소모에너지엔테크놀러지 쎈트럴주유소</td>\n      <td>서울 강남구 삼성로 335</td>\n      <td>GS칼텍스</td>\n      <td>02-565-0267</td>\n      <td>N</td>\n      <td>2037</td>\n      <td>1883</td>\n      <td>1659</td>\n      <td>1100</td>\n    </tr>\n    <tr>\n      <th>36</th>\n      <td>서울특별시</td>\n      <td>(주)만정에너지</td>\n      <td>서울 강남구 봉은사로 433 (삼성동)</td>\n      <td>GS칼텍스</td>\n      <td>02-518-5141</td>\n      <td>N</td>\n      <td>2079</td>\n      <td>1913</td>\n      <td>1689</td>\n      <td>1359</td>\n    </tr>\n    <tr>\n      <th>37</th>\n      <td>서울특별시</td>\n      <td>뉴서울(강남)</td>\n      <td>서울 강남구 언주로 716 (논현동)</td>\n      <td>SK에너지</td>\n      <td>02-518-5631</td>\n      <td>N</td>\n      <td>2330</td>\n      <td>2025</td>\n      <td>1865</td>\n      <td>1260</td>\n    </tr>\n    <tr>\n      <th>38</th>\n      <td>서울특별시</td>\n      <td>동우주유소</td>\n      <td>서울특별시 강남구  봉은사로 311 (논현동)</td>\n      <td>SK에너지</td>\n      <td>02-542-6726</td>\n      <td>N</td>\n      <td>-</td>\n      <td>-</td>\n      <td>-</td>\n      <td>-</td>\n    </tr>\n    <tr>\n      <th>39</th>\n      <td>서울특별시</td>\n      <td>삼성주유소</td>\n      <td>서울 강남구 삼성로 521 (삼성동)</td>\n      <td>SK에너지</td>\n      <td>02-538-0809</td>\n      <td>N</td>\n      <td>-</td>\n      <td>-</td>\n      <td>-</td>\n      <td>-</td>\n    </tr>\n  </tbody>\n</table>\n<p>498 rows × 10 columns</p>\n</div>"
     },
     "metadata": {},
     "execution_count": 21
    }
   ],
   "source": [
    "station_files = glob('./1124_station_data/지역*.xls')\n",
    "tmp_raw = []\n",
    "\n",
    "for file_name in station_files:\n",
    "    tmp = pd.read_excel(file_name, header=2)\n",
    "    tmp_raw.append(tmp)\n",
    "\n",
    "station_raw = pd.concat(tmp_raw)\n",
    "station_raw"
   ]
  },
  {
   "cell_type": "code",
   "execution_count": 22,
   "metadata": {},
   "outputs": [
    {
     "output_type": "execute_result",
     "data": {
      "text/plain": [
       "      place_name          address           tel     상표   휘발유        lat  \\\n",
       "6         뉴신정주유소  서울 강서구 곰달래로 207  02-2601-0077  알뜰주유소  1243  37.531550   \n",
       "7         화곡역주유소   서울 강서구 강서로 154  02-2691-5151  알뜰주유소  1243  37.540625   \n",
       "4  GS칼텍스 경인고속주유소  서울 강서구 국회대로 225  02-2608-5151  GS칼텍스  1266  37.529624   \n",
       "5          목화주유소  서울 강서구 국회대로 251  02-2654-4564  SK에너지  1266  37.530020   \n",
       "3         신화곡주유소   서울 강서구 국회대로 71  02-2611-3161  S-OIL  1315  37.527260   \n",
       "2        화곡현대주유소   서울 강서구 강서로 151  02-2607-1942  SK에너지  1326  37.540264   \n",
       "0         우장산주유소   서울 강서구 강서로 292  02-3664-7163  SK에너지  1358  37.551611   \n",
       "1   대성석유직영 관문주유소  서울 강서구 공항대로 314  02-3665-2051  GS칼텍스  1358  37.557875   \n",
       "8   대성석유 마곡대성주유소   서울 강서구 강서로 457  02-3664-7781  GS칼텍스  1365  37.566279   \n",
       "9    대성석유방화대성주유소   서울 강서구 양천로 176  02-3663-7781  GS칼텍스  1365  37.572898   \n",
       "\n",
       "          lng  \n",
       "6  126.856042  \n",
       "7  126.841525  \n",
       "4  126.859795  \n",
       "5  126.863062  \n",
       "3  126.842889  \n",
       "2  126.841200  \n",
       "0  126.836582  \n",
       "1  126.842367  \n",
       "8  126.840412  \n",
       "9  126.823436  "
      ],
      "text/html": "<div>\n<style scoped>\n    .dataframe tbody tr th:only-of-type {\n        vertical-align: middle;\n    }\n\n    .dataframe tbody tr th {\n        vertical-align: top;\n    }\n\n    .dataframe thead th {\n        text-align: right;\n    }\n</style>\n<table border=\"1\" class=\"dataframe\">\n  <thead>\n    <tr style=\"text-align: right;\">\n      <th></th>\n      <th>place_name</th>\n      <th>address</th>\n      <th>tel</th>\n      <th>상표</th>\n      <th>휘발유</th>\n      <th>lat</th>\n      <th>lng</th>\n    </tr>\n  </thead>\n  <tbody>\n    <tr>\n      <th>6</th>\n      <td>뉴신정주유소</td>\n      <td>서울 강서구 곰달래로 207</td>\n      <td>02-2601-0077</td>\n      <td>알뜰주유소</td>\n      <td>1243</td>\n      <td>37.531550</td>\n      <td>126.856042</td>\n    </tr>\n    <tr>\n      <th>7</th>\n      <td>화곡역주유소</td>\n      <td>서울 강서구 강서로 154</td>\n      <td>02-2691-5151</td>\n      <td>알뜰주유소</td>\n      <td>1243</td>\n      <td>37.540625</td>\n      <td>126.841525</td>\n    </tr>\n    <tr>\n      <th>4</th>\n      <td>GS칼텍스 경인고속주유소</td>\n      <td>서울 강서구 국회대로 225</td>\n      <td>02-2608-5151</td>\n      <td>GS칼텍스</td>\n      <td>1266</td>\n      <td>37.529624</td>\n      <td>126.859795</td>\n    </tr>\n    <tr>\n      <th>5</th>\n      <td>목화주유소</td>\n      <td>서울 강서구 국회대로 251</td>\n      <td>02-2654-4564</td>\n      <td>SK에너지</td>\n      <td>1266</td>\n      <td>37.530020</td>\n      <td>126.863062</td>\n    </tr>\n    <tr>\n      <th>3</th>\n      <td>신화곡주유소</td>\n      <td>서울 강서구 국회대로 71</td>\n      <td>02-2611-3161</td>\n      <td>S-OIL</td>\n      <td>1315</td>\n      <td>37.527260</td>\n      <td>126.842889</td>\n    </tr>\n    <tr>\n      <th>2</th>\n      <td>화곡현대주유소</td>\n      <td>서울 강서구 강서로 151</td>\n      <td>02-2607-1942</td>\n      <td>SK에너지</td>\n      <td>1326</td>\n      <td>37.540264</td>\n      <td>126.841200</td>\n    </tr>\n    <tr>\n      <th>0</th>\n      <td>우장산주유소</td>\n      <td>서울 강서구 강서로 292</td>\n      <td>02-3664-7163</td>\n      <td>SK에너지</td>\n      <td>1358</td>\n      <td>37.551611</td>\n      <td>126.836582</td>\n    </tr>\n    <tr>\n      <th>1</th>\n      <td>대성석유직영 관문주유소</td>\n      <td>서울 강서구 공항대로 314</td>\n      <td>02-3665-2051</td>\n      <td>GS칼텍스</td>\n      <td>1358</td>\n      <td>37.557875</td>\n      <td>126.842367</td>\n    </tr>\n    <tr>\n      <th>8</th>\n      <td>대성석유 마곡대성주유소</td>\n      <td>서울 강서구 강서로 457</td>\n      <td>02-3664-7781</td>\n      <td>GS칼텍스</td>\n      <td>1365</td>\n      <td>37.566279</td>\n      <td>126.840412</td>\n    </tr>\n    <tr>\n      <th>9</th>\n      <td>대성석유방화대성주유소</td>\n      <td>서울 강서구 양천로 176</td>\n      <td>02-3663-7781</td>\n      <td>GS칼텍스</td>\n      <td>1365</td>\n      <td>37.572898</td>\n      <td>126.823436</td>\n    </tr>\n  </tbody>\n</table>\n</div>"
     },
     "metadata": {},
     "execution_count": 22
    }
   ],
   "source": [
    "df = pd.merge(station_data, station_raw, left_on='tel', right_on='전화번호', how='inner')\n",
    "df = df[['place_name', 'address', 'tel', '상표', '휘발유', 'lat', 'lng']]\n",
    "df = df.sort_values(by='휘발유')\n",
    "df"
   ]
  },
  {
   "cell_type": "code",
   "execution_count": 23,
   "metadata": {},
   "outputs": [
    {
     "output_type": "execute_result",
     "data": {
      "text/plain": [
       "<folium.folium.Map at 0x21b43904940>"
      ],
      "text/html": "<div style=\"width:100%;\"><div style=\"position:relative;width:100%;height:0;padding-bottom:60%;\"><span style=\"color:#565656\">Make this Notebook Trusted to load map: File -> Trust Notebook</span><iframe src=\"about:blank\" style=\"position:absolute;width:100%;height:100%;left:0;top:0;border:none !important;\" data-html=%3C%21DOCTYPE%20html%3E%0A%3Chead%3E%20%20%20%20%0A%20%20%20%20%3Cmeta%20http-equiv%3D%22content-type%22%20content%3D%22text/html%3B%20charset%3DUTF-8%22%20/%3E%0A%20%20%20%20%0A%20%20%20%20%20%20%20%20%3Cscript%3E%0A%20%20%20%20%20%20%20%20%20%20%20%20L_NO_TOUCH%20%3D%20false%3B%0A%20%20%20%20%20%20%20%20%20%20%20%20L_DISABLE_3D%20%3D%20false%3B%0A%20%20%20%20%20%20%20%20%3C/script%3E%0A%20%20%20%20%0A%20%20%20%20%3Cscript%20src%3D%22https%3A//cdn.jsdelivr.net/npm/leaflet%401.6.0/dist/leaflet.js%22%3E%3C/script%3E%0A%20%20%20%20%3Cscript%20src%3D%22https%3A//code.jquery.com/jquery-1.12.4.min.js%22%3E%3C/script%3E%0A%20%20%20%20%3Cscript%20src%3D%22https%3A//maxcdn.bootstrapcdn.com/bootstrap/3.2.0/js/bootstrap.min.js%22%3E%3C/script%3E%0A%20%20%20%20%3Cscript%20src%3D%22https%3A//cdnjs.cloudflare.com/ajax/libs/Leaflet.awesome-markers/2.0.2/leaflet.awesome-markers.js%22%3E%3C/script%3E%0A%20%20%20%20%3Clink%20rel%3D%22stylesheet%22%20href%3D%22https%3A//cdn.jsdelivr.net/npm/leaflet%401.6.0/dist/leaflet.css%22/%3E%0A%20%20%20%20%3Clink%20rel%3D%22stylesheet%22%20href%3D%22https%3A//maxcdn.bootstrapcdn.com/bootstrap/3.2.0/css/bootstrap.min.css%22/%3E%0A%20%20%20%20%3Clink%20rel%3D%22stylesheet%22%20href%3D%22https%3A//maxcdn.bootstrapcdn.com/bootstrap/3.2.0/css/bootstrap-theme.min.css%22/%3E%0A%20%20%20%20%3Clink%20rel%3D%22stylesheet%22%20href%3D%22https%3A//maxcdn.bootstrapcdn.com/font-awesome/4.6.3/css/font-awesome.min.css%22/%3E%0A%20%20%20%20%3Clink%20rel%3D%22stylesheet%22%20href%3D%22https%3A//cdnjs.cloudflare.com/ajax/libs/Leaflet.awesome-markers/2.0.2/leaflet.awesome-markers.css%22/%3E%0A%20%20%20%20%3Clink%20rel%3D%22stylesheet%22%20href%3D%22https%3A//rawcdn.githack.com/python-visualization/folium/master/folium/templates/leaflet.awesome.rotate.css%22/%3E%0A%20%20%20%20%3Cstyle%3Ehtml%2C%20body%20%7Bwidth%3A%20100%25%3Bheight%3A%20100%25%3Bmargin%3A%200%3Bpadding%3A%200%3B%7D%3C/style%3E%0A%20%20%20%20%3Cstyle%3E%23map%20%7Bposition%3Aabsolute%3Btop%3A0%3Bbottom%3A0%3Bright%3A0%3Bleft%3A0%3B%7D%3C/style%3E%0A%20%20%20%20%0A%20%20%20%20%20%20%20%20%20%20%20%20%3Cmeta%20name%3D%22viewport%22%20content%3D%22width%3Ddevice-width%2C%0A%20%20%20%20%20%20%20%20%20%20%20%20%20%20%20%20initial-scale%3D1.0%2C%20maximum-scale%3D1.0%2C%20user-scalable%3Dno%22%20/%3E%0A%20%20%20%20%20%20%20%20%20%20%20%20%3Cstyle%3E%0A%20%20%20%20%20%20%20%20%20%20%20%20%20%20%20%20%23map_056e06f065d04baf95e5b04853798ec6%20%7B%0A%20%20%20%20%20%20%20%20%20%20%20%20%20%20%20%20%20%20%20%20position%3A%20relative%3B%0A%20%20%20%20%20%20%20%20%20%20%20%20%20%20%20%20%20%20%20%20width%3A%20100.0%25%3B%0A%20%20%20%20%20%20%20%20%20%20%20%20%20%20%20%20%20%20%20%20height%3A%20100.0%25%3B%0A%20%20%20%20%20%20%20%20%20%20%20%20%20%20%20%20%20%20%20%20left%3A%200.0%25%3B%0A%20%20%20%20%20%20%20%20%20%20%20%20%20%20%20%20%20%20%20%20top%3A%200.0%25%3B%0A%20%20%20%20%20%20%20%20%20%20%20%20%20%20%20%20%7D%0A%20%20%20%20%20%20%20%20%20%20%20%20%3C/style%3E%0A%20%20%20%20%20%20%20%20%0A%3C/head%3E%0A%3Cbody%3E%20%20%20%20%0A%20%20%20%20%0A%20%20%20%20%20%20%20%20%20%20%20%20%3Cdiv%20class%3D%22folium-map%22%20id%3D%22map_056e06f065d04baf95e5b04853798ec6%22%20%3E%3C/div%3E%0A%20%20%20%20%20%20%20%20%0A%3C/body%3E%0A%3Cscript%3E%20%20%20%20%0A%20%20%20%20%0A%20%20%20%20%20%20%20%20%20%20%20%20var%20map_056e06f065d04baf95e5b04853798ec6%20%3D%20L.map%28%0A%20%20%20%20%20%20%20%20%20%20%20%20%20%20%20%20%22map_056e06f065d04baf95e5b04853798ec6%22%2C%0A%20%20%20%20%20%20%20%20%20%20%20%20%20%20%20%20%7B%0A%20%20%20%20%20%20%20%20%20%20%20%20%20%20%20%20%20%20%20%20center%3A%20%5B37.544800601234%2C%20126.84473084117664%5D%2C%0A%20%20%20%20%20%20%20%20%20%20%20%20%20%20%20%20%20%20%20%20crs%3A%20L.CRS.EPSG3857%2C%0A%20%20%20%20%20%20%20%20%20%20%20%20%20%20%20%20%20%20%20%20zoom%3A%2013%2C%0A%20%20%20%20%20%20%20%20%20%20%20%20%20%20%20%20%20%20%20%20zoomControl%3A%20true%2C%0A%20%20%20%20%20%20%20%20%20%20%20%20%20%20%20%20%20%20%20%20preferCanvas%3A%20false%2C%0A%20%20%20%20%20%20%20%20%20%20%20%20%20%20%20%20%7D%0A%20%20%20%20%20%20%20%20%20%20%20%20%29%3B%0A%0A%20%20%20%20%20%20%20%20%20%20%20%20%0A%0A%20%20%20%20%20%20%20%20%0A%20%20%20%20%0A%20%20%20%20%20%20%20%20%20%20%20%20var%20tile_layer_7b39f93a1f5f4270914c317cd6777806%20%3D%20L.tileLayer%28%0A%20%20%20%20%20%20%20%20%20%20%20%20%20%20%20%20%22https%3A//%7Bs%7D.tile.openstreetmap.org/%7Bz%7D/%7Bx%7D/%7By%7D.png%22%2C%0A%20%20%20%20%20%20%20%20%20%20%20%20%20%20%20%20%7B%22attribution%22%3A%20%22Data%20by%20%5Cu0026copy%3B%20%5Cu003ca%20href%3D%5C%22http%3A//openstreetmap.org%5C%22%5Cu003eOpenStreetMap%5Cu003c/a%5Cu003e%2C%20under%20%5Cu003ca%20href%3D%5C%22http%3A//www.openstreetmap.org/copyright%5C%22%5Cu003eODbL%5Cu003c/a%5Cu003e.%22%2C%20%22detectRetina%22%3A%20false%2C%20%22maxNativeZoom%22%3A%2018%2C%20%22maxZoom%22%3A%2018%2C%20%22minZoom%22%3A%200%2C%20%22noWrap%22%3A%20false%2C%20%22opacity%22%3A%201%2C%20%22subdomains%22%3A%20%22abc%22%2C%20%22tms%22%3A%20false%7D%0A%20%20%20%20%20%20%20%20%20%20%20%20%29.addTo%28map_056e06f065d04baf95e5b04853798ec6%29%3B%0A%20%20%20%20%20%20%20%20%0A%20%20%20%20%0A%20%20%20%20%20%20%20%20%20%20%20%20var%20marker_ac85bc7325f14c7ba9c377c019aa0af3%20%3D%20L.marker%28%0A%20%20%20%20%20%20%20%20%20%20%20%20%20%20%20%20%5B37.53154989241573%2C%20126.85604195207029%5D%2C%0A%20%20%20%20%20%20%20%20%20%20%20%20%20%20%20%20%7B%7D%0A%20%20%20%20%20%20%20%20%20%20%20%20%29.addTo%28map_056e06f065d04baf95e5b04853798ec6%29%3B%0A%20%20%20%20%20%20%20%20%0A%20%20%20%20%0A%20%20%20%20%20%20%20%20%20%20%20%20var%20icon_75d34f1eb0304271b5950c5f0d702ecf%20%3D%20L.AwesomeMarkers.icon%28%0A%20%20%20%20%20%20%20%20%20%20%20%20%20%20%20%20%7B%22extraClasses%22%3A%20%22fa-rotate-0%22%2C%20%22icon%22%3A%20%22thumbs-up%22%2C%20%22iconColor%22%3A%20%22white%22%2C%20%22markerColor%22%3A%20%22red%22%2C%20%22prefix%22%3A%20%22glyphicon%22%7D%0A%20%20%20%20%20%20%20%20%20%20%20%20%29%3B%0A%20%20%20%20%20%20%20%20%20%20%20%20marker_ac85bc7325f14c7ba9c377c019aa0af3.setIcon%28icon_75d34f1eb0304271b5950c5f0d702ecf%29%3B%0A%20%20%20%20%20%20%20%20%0A%20%20%20%20%0A%20%20%20%20%20%20%20%20var%20popup_d53cb9cc51c4412fa342e3312b36af42%20%3D%20L.popup%28%7B%22maxWidth%22%3A%20150%7D%29%3B%0A%0A%20%20%20%20%20%20%20%20%0A%20%20%20%20%20%20%20%20%20%20%20%20var%20html_57692ed70d0349adb9c3e862ad64908b%20%3D%20%24%28%60%3Cdiv%20id%3D%22html_57692ed70d0349adb9c3e862ad64908b%22%20style%3D%22width%3A%20100.0%25%3B%20height%3A%20100.0%25%3B%22%3E%EB%89%B4%EC%8B%A0%EC%A0%95%EC%A3%BC%EC%9C%A0%EC%86%8C%3C/div%3E%60%29%5B0%5D%3B%0A%20%20%20%20%20%20%20%20%20%20%20%20popup_d53cb9cc51c4412fa342e3312b36af42.setContent%28html_57692ed70d0349adb9c3e862ad64908b%29%3B%0A%20%20%20%20%20%20%20%20%0A%0A%20%20%20%20%20%20%20%20marker_ac85bc7325f14c7ba9c377c019aa0af3.bindPopup%28popup_d53cb9cc51c4412fa342e3312b36af42%29%0A%20%20%20%20%20%20%20%20%3B%0A%0A%20%20%20%20%20%20%20%20%0A%20%20%20%20%0A%20%20%20%20%0A%20%20%20%20%20%20%20%20%20%20%20%20marker_ac85bc7325f14c7ba9c377c019aa0af3.bindTooltip%28%0A%20%20%20%20%20%20%20%20%20%20%20%20%20%20%20%20%60%3Cdiv%3E%0A%20%20%20%20%20%20%20%20%20%20%20%20%20%20%20%20%20%20%20%20%201243%20%EC%9B%90%0A%20%20%20%20%20%20%20%20%20%20%20%20%20%20%20%20%20%3C/div%3E%60%2C%0A%20%20%20%20%20%20%20%20%20%20%20%20%20%20%20%20%7B%22sticky%22%3A%20true%7D%0A%20%20%20%20%20%20%20%20%20%20%20%20%29%3B%0A%20%20%20%20%20%20%20%20%0A%20%20%20%20%0A%20%20%20%20%20%20%20%20%20%20%20%20var%20marker_87e04da307a44ed4a4d180a15165106d%20%3D%20L.marker%28%0A%20%20%20%20%20%20%20%20%20%20%20%20%20%20%20%20%5B37.5406250950297%2C%20126.841525355833%5D%2C%0A%20%20%20%20%20%20%20%20%20%20%20%20%20%20%20%20%7B%7D%0A%20%20%20%20%20%20%20%20%20%20%20%20%29.addTo%28map_056e06f065d04baf95e5b04853798ec6%29%3B%0A%20%20%20%20%20%20%20%20%0A%20%20%20%20%0A%20%20%20%20%20%20%20%20%20%20%20%20var%20icon_0e423567e3c049a3be5931cad40b34b9%20%3D%20L.AwesomeMarkers.icon%28%0A%20%20%20%20%20%20%20%20%20%20%20%20%20%20%20%20%7B%22extraClasses%22%3A%20%22fa-rotate-0%22%2C%20%22icon%22%3A%20%22thumbs-up%22%2C%20%22iconColor%22%3A%20%22white%22%2C%20%22markerColor%22%3A%20%22red%22%2C%20%22prefix%22%3A%20%22glyphicon%22%7D%0A%20%20%20%20%20%20%20%20%20%20%20%20%29%3B%0A%20%20%20%20%20%20%20%20%20%20%20%20marker_87e04da307a44ed4a4d180a15165106d.setIcon%28icon_0e423567e3c049a3be5931cad40b34b9%29%3B%0A%20%20%20%20%20%20%20%20%0A%20%20%20%20%0A%20%20%20%20%20%20%20%20var%20popup_e5c7246d6a17443f96d6a3bfb1b80072%20%3D%20L.popup%28%7B%22maxWidth%22%3A%20150%7D%29%3B%0A%0A%20%20%20%20%20%20%20%20%0A%20%20%20%20%20%20%20%20%20%20%20%20var%20html_4668c262af624242b0df999f9a6d0991%20%3D%20%24%28%60%3Cdiv%20id%3D%22html_4668c262af624242b0df999f9a6d0991%22%20style%3D%22width%3A%20100.0%25%3B%20height%3A%20100.0%25%3B%22%3E%ED%99%94%EA%B3%A1%EC%97%AD%EC%A3%BC%EC%9C%A0%EC%86%8C%3C/div%3E%60%29%5B0%5D%3B%0A%20%20%20%20%20%20%20%20%20%20%20%20popup_e5c7246d6a17443f96d6a3bfb1b80072.setContent%28html_4668c262af624242b0df999f9a6d0991%29%3B%0A%20%20%20%20%20%20%20%20%0A%0A%20%20%20%20%20%20%20%20marker_87e04da307a44ed4a4d180a15165106d.bindPopup%28popup_e5c7246d6a17443f96d6a3bfb1b80072%29%0A%20%20%20%20%20%20%20%20%3B%0A%0A%20%20%20%20%20%20%20%20%0A%20%20%20%20%0A%20%20%20%20%0A%20%20%20%20%20%20%20%20%20%20%20%20marker_87e04da307a44ed4a4d180a15165106d.bindTooltip%28%0A%20%20%20%20%20%20%20%20%20%20%20%20%20%20%20%20%60%3Cdiv%3E%0A%20%20%20%20%20%20%20%20%20%20%20%20%20%20%20%20%20%20%20%20%201243%20%EC%9B%90%0A%20%20%20%20%20%20%20%20%20%20%20%20%20%20%20%20%20%3C/div%3E%60%2C%0A%20%20%20%20%20%20%20%20%20%20%20%20%20%20%20%20%7B%22sticky%22%3A%20true%7D%0A%20%20%20%20%20%20%20%20%20%20%20%20%29%3B%0A%20%20%20%20%20%20%20%20%0A%20%20%20%20%0A%20%20%20%20%20%20%20%20%20%20%20%20var%20marker_7f561edd9e0a406d974643eb7824ee98%20%3D%20L.marker%28%0A%20%20%20%20%20%20%20%20%20%20%20%20%20%20%20%20%5B37.5296235629422%2C%20126.859794923014%5D%2C%0A%20%20%20%20%20%20%20%20%20%20%20%20%20%20%20%20%7B%7D%0A%20%20%20%20%20%20%20%20%20%20%20%20%29.addTo%28map_056e06f065d04baf95e5b04853798ec6%29%3B%0A%20%20%20%20%20%20%20%20%0A%20%20%20%20%0A%20%20%20%20%20%20%20%20%20%20%20%20var%20icon_ec37c6c9341342678219b9b1e60fbf54%20%3D%20L.AwesomeMarkers.icon%28%0A%20%20%20%20%20%20%20%20%20%20%20%20%20%20%20%20%7B%22extraClasses%22%3A%20%22fa-rotate-0%22%2C%20%22icon%22%3A%20%22tint%22%2C%20%22iconColor%22%3A%20%22white%22%2C%20%22markerColor%22%3A%20%22blue%22%2C%20%22prefix%22%3A%20%22glyphicon%22%7D%0A%20%20%20%20%20%20%20%20%20%20%20%20%29%3B%0A%20%20%20%20%20%20%20%20%20%20%20%20marker_7f561edd9e0a406d974643eb7824ee98.setIcon%28icon_ec37c6c9341342678219b9b1e60fbf54%29%3B%0A%20%20%20%20%20%20%20%20%0A%20%20%20%20%0A%20%20%20%20%20%20%20%20var%20popup_2bbb298830a34fcc8a1cdba7ef429f86%20%3D%20L.popup%28%7B%22maxWidth%22%3A%20150%7D%29%3B%0A%0A%20%20%20%20%20%20%20%20%0A%20%20%20%20%20%20%20%20%20%20%20%20var%20html_37017f6e80ed4c55b24312380847a3af%20%3D%20%24%28%60%3Cdiv%20id%3D%22html_37017f6e80ed4c55b24312380847a3af%22%20style%3D%22width%3A%20100.0%25%3B%20height%3A%20100.0%25%3B%22%3EGS%EC%B9%BC%ED%85%8D%EC%8A%A4%20%EA%B2%BD%EC%9D%B8%EA%B3%A0%EC%86%8D%EC%A3%BC%EC%9C%A0%EC%86%8C%3C/div%3E%60%29%5B0%5D%3B%0A%20%20%20%20%20%20%20%20%20%20%20%20popup_2bbb298830a34fcc8a1cdba7ef429f86.setContent%28html_37017f6e80ed4c55b24312380847a3af%29%3B%0A%20%20%20%20%20%20%20%20%0A%0A%20%20%20%20%20%20%20%20marker_7f561edd9e0a406d974643eb7824ee98.bindPopup%28popup_2bbb298830a34fcc8a1cdba7ef429f86%29%0A%20%20%20%20%20%20%20%20%3B%0A%0A%20%20%20%20%20%20%20%20%0A%20%20%20%20%0A%20%20%20%20%0A%20%20%20%20%20%20%20%20%20%20%20%20marker_7f561edd9e0a406d974643eb7824ee98.bindTooltip%28%0A%20%20%20%20%20%20%20%20%20%20%20%20%20%20%20%20%60%3Cdiv%3E%0A%20%20%20%20%20%20%20%20%20%20%20%20%20%20%20%20%20%20%20%20%201266%20%EC%9B%90%0A%20%20%20%20%20%20%20%20%20%20%20%20%20%20%20%20%20%3C/div%3E%60%2C%0A%20%20%20%20%20%20%20%20%20%20%20%20%20%20%20%20%7B%22sticky%22%3A%20true%7D%0A%20%20%20%20%20%20%20%20%20%20%20%20%29%3B%0A%20%20%20%20%20%20%20%20%0A%20%20%20%20%0A%20%20%20%20%20%20%20%20%20%20%20%20var%20marker_e328340b51d44c838620383c5cdc0fa0%20%3D%20L.marker%28%0A%20%20%20%20%20%20%20%20%20%20%20%20%20%20%20%20%5B37.5300202321542%2C%20126.863061514823%5D%2C%0A%20%20%20%20%20%20%20%20%20%20%20%20%20%20%20%20%7B%7D%0A%20%20%20%20%20%20%20%20%20%20%20%20%29.addTo%28map_056e06f065d04baf95e5b04853798ec6%29%3B%0A%20%20%20%20%20%20%20%20%0A%20%20%20%20%0A%20%20%20%20%20%20%20%20%20%20%20%20var%20icon_84b2e0dfb63d4504a66554ca030bfe83%20%3D%20L.AwesomeMarkers.icon%28%0A%20%20%20%20%20%20%20%20%20%20%20%20%20%20%20%20%7B%22extraClasses%22%3A%20%22fa-rotate-0%22%2C%20%22icon%22%3A%20%22tint%22%2C%20%22iconColor%22%3A%20%22white%22%2C%20%22markerColor%22%3A%20%22blue%22%2C%20%22prefix%22%3A%20%22glyphicon%22%7D%0A%20%20%20%20%20%20%20%20%20%20%20%20%29%3B%0A%20%20%20%20%20%20%20%20%20%20%20%20marker_e328340b51d44c838620383c5cdc0fa0.setIcon%28icon_84b2e0dfb63d4504a66554ca030bfe83%29%3B%0A%20%20%20%20%20%20%20%20%0A%20%20%20%20%0A%20%20%20%20%20%20%20%20var%20popup_03910a44b2f54b80bf26dcd2dc0656cb%20%3D%20L.popup%28%7B%22maxWidth%22%3A%20150%7D%29%3B%0A%0A%20%20%20%20%20%20%20%20%0A%20%20%20%20%20%20%20%20%20%20%20%20var%20html_6ca9558fba374153a096281e18edd530%20%3D%20%24%28%60%3Cdiv%20id%3D%22html_6ca9558fba374153a096281e18edd530%22%20style%3D%22width%3A%20100.0%25%3B%20height%3A%20100.0%25%3B%22%3E%EB%AA%A9%ED%99%94%EC%A3%BC%EC%9C%A0%EC%86%8C%3C/div%3E%60%29%5B0%5D%3B%0A%20%20%20%20%20%20%20%20%20%20%20%20popup_03910a44b2f54b80bf26dcd2dc0656cb.setContent%28html_6ca9558fba374153a096281e18edd530%29%3B%0A%20%20%20%20%20%20%20%20%0A%0A%20%20%20%20%20%20%20%20marker_e328340b51d44c838620383c5cdc0fa0.bindPopup%28popup_03910a44b2f54b80bf26dcd2dc0656cb%29%0A%20%20%20%20%20%20%20%20%3B%0A%0A%20%20%20%20%20%20%20%20%0A%20%20%20%20%0A%20%20%20%20%0A%20%20%20%20%20%20%20%20%20%20%20%20marker_e328340b51d44c838620383c5cdc0fa0.bindTooltip%28%0A%20%20%20%20%20%20%20%20%20%20%20%20%20%20%20%20%60%3Cdiv%3E%0A%20%20%20%20%20%20%20%20%20%20%20%20%20%20%20%20%20%20%20%20%201266%20%EC%9B%90%0A%20%20%20%20%20%20%20%20%20%20%20%20%20%20%20%20%20%3C/div%3E%60%2C%0A%20%20%20%20%20%20%20%20%20%20%20%20%20%20%20%20%7B%22sticky%22%3A%20true%7D%0A%20%20%20%20%20%20%20%20%20%20%20%20%29%3B%0A%20%20%20%20%20%20%20%20%0A%20%20%20%20%0A%20%20%20%20%20%20%20%20%20%20%20%20var%20marker_fe1fce2d50b7439fb0fd2a79ff48dcb7%20%3D%20L.marker%28%0A%20%20%20%20%20%20%20%20%20%20%20%20%20%20%20%20%5B37.5272596798188%2C%20126.842888576122%5D%2C%0A%20%20%20%20%20%20%20%20%20%20%20%20%20%20%20%20%7B%7D%0A%20%20%20%20%20%20%20%20%20%20%20%20%29.addTo%28map_056e06f065d04baf95e5b04853798ec6%29%3B%0A%20%20%20%20%20%20%20%20%0A%20%20%20%20%0A%20%20%20%20%20%20%20%20%20%20%20%20var%20icon_4a7c2703c4ee43aa9a2ac8fdfe007277%20%3D%20L.AwesomeMarkers.icon%28%0A%20%20%20%20%20%20%20%20%20%20%20%20%20%20%20%20%7B%22extraClasses%22%3A%20%22fa-rotate-0%22%2C%20%22icon%22%3A%20%22tint%22%2C%20%22iconColor%22%3A%20%22white%22%2C%20%22markerColor%22%3A%20%22blue%22%2C%20%22prefix%22%3A%20%22glyphicon%22%7D%0A%20%20%20%20%20%20%20%20%20%20%20%20%29%3B%0A%20%20%20%20%20%20%20%20%20%20%20%20marker_fe1fce2d50b7439fb0fd2a79ff48dcb7.setIcon%28icon_4a7c2703c4ee43aa9a2ac8fdfe007277%29%3B%0A%20%20%20%20%20%20%20%20%0A%20%20%20%20%0A%20%20%20%20%20%20%20%20var%20popup_c541758bee8947c68ff5e6b6f7609726%20%3D%20L.popup%28%7B%22maxWidth%22%3A%20150%7D%29%3B%0A%0A%20%20%20%20%20%20%20%20%0A%20%20%20%20%20%20%20%20%20%20%20%20var%20html_8a8b5b4892884cd2aa28f65ad2d72345%20%3D%20%24%28%60%3Cdiv%20id%3D%22html_8a8b5b4892884cd2aa28f65ad2d72345%22%20style%3D%22width%3A%20100.0%25%3B%20height%3A%20100.0%25%3B%22%3E%EC%8B%A0%ED%99%94%EA%B3%A1%EC%A3%BC%EC%9C%A0%EC%86%8C%3C/div%3E%60%29%5B0%5D%3B%0A%20%20%20%20%20%20%20%20%20%20%20%20popup_c541758bee8947c68ff5e6b6f7609726.setContent%28html_8a8b5b4892884cd2aa28f65ad2d72345%29%3B%0A%20%20%20%20%20%20%20%20%0A%0A%20%20%20%20%20%20%20%20marker_fe1fce2d50b7439fb0fd2a79ff48dcb7.bindPopup%28popup_c541758bee8947c68ff5e6b6f7609726%29%0A%20%20%20%20%20%20%20%20%3B%0A%0A%20%20%20%20%20%20%20%20%0A%20%20%20%20%0A%20%20%20%20%0A%20%20%20%20%20%20%20%20%20%20%20%20marker_fe1fce2d50b7439fb0fd2a79ff48dcb7.bindTooltip%28%0A%20%20%20%20%20%20%20%20%20%20%20%20%20%20%20%20%60%3Cdiv%3E%0A%20%20%20%20%20%20%20%20%20%20%20%20%20%20%20%20%20%20%20%20%201315%20%EC%9B%90%0A%20%20%20%20%20%20%20%20%20%20%20%20%20%20%20%20%20%3C/div%3E%60%2C%0A%20%20%20%20%20%20%20%20%20%20%20%20%20%20%20%20%7B%22sticky%22%3A%20true%7D%0A%20%20%20%20%20%20%20%20%20%20%20%20%29%3B%0A%20%20%20%20%20%20%20%20%0A%20%20%20%20%0A%20%20%20%20%20%20%20%20%20%20%20%20var%20marker_e4b1254f730048f9b720f8b5dcd5e225%20%3D%20L.marker%28%0A%20%20%20%20%20%20%20%20%20%20%20%20%20%20%20%20%5B37.5402642586691%2C%20126.841200246694%5D%2C%0A%20%20%20%20%20%20%20%20%20%20%20%20%20%20%20%20%7B%7D%0A%20%20%20%20%20%20%20%20%20%20%20%20%29.addTo%28map_056e06f065d04baf95e5b04853798ec6%29%3B%0A%20%20%20%20%20%20%20%20%0A%20%20%20%20%0A%20%20%20%20%20%20%20%20%20%20%20%20var%20icon_8eb4899571ba42df9c7d9ee9fe61c443%20%3D%20L.AwesomeMarkers.icon%28%0A%20%20%20%20%20%20%20%20%20%20%20%20%20%20%20%20%7B%22extraClasses%22%3A%20%22fa-rotate-0%22%2C%20%22icon%22%3A%20%22tint%22%2C%20%22iconColor%22%3A%20%22white%22%2C%20%22markerColor%22%3A%20%22blue%22%2C%20%22prefix%22%3A%20%22glyphicon%22%7D%0A%20%20%20%20%20%20%20%20%20%20%20%20%29%3B%0A%20%20%20%20%20%20%20%20%20%20%20%20marker_e4b1254f730048f9b720f8b5dcd5e225.setIcon%28icon_8eb4899571ba42df9c7d9ee9fe61c443%29%3B%0A%20%20%20%20%20%20%20%20%0A%20%20%20%20%0A%20%20%20%20%20%20%20%20var%20popup_c076a92c1e274b48a0e590931666bde1%20%3D%20L.popup%28%7B%22maxWidth%22%3A%20150%7D%29%3B%0A%0A%20%20%20%20%20%20%20%20%0A%20%20%20%20%20%20%20%20%20%20%20%20var%20html_28e6467d5e954f5da183937b96715daf%20%3D%20%24%28%60%3Cdiv%20id%3D%22html_28e6467d5e954f5da183937b96715daf%22%20style%3D%22width%3A%20100.0%25%3B%20height%3A%20100.0%25%3B%22%3E%ED%99%94%EA%B3%A1%ED%98%84%EB%8C%80%EC%A3%BC%EC%9C%A0%EC%86%8C%3C/div%3E%60%29%5B0%5D%3B%0A%20%20%20%20%20%20%20%20%20%20%20%20popup_c076a92c1e274b48a0e590931666bde1.setContent%28html_28e6467d5e954f5da183937b96715daf%29%3B%0A%20%20%20%20%20%20%20%20%0A%0A%20%20%20%20%20%20%20%20marker_e4b1254f730048f9b720f8b5dcd5e225.bindPopup%28popup_c076a92c1e274b48a0e590931666bde1%29%0A%20%20%20%20%20%20%20%20%3B%0A%0A%20%20%20%20%20%20%20%20%0A%20%20%20%20%0A%20%20%20%20%0A%20%20%20%20%20%20%20%20%20%20%20%20marker_e4b1254f730048f9b720f8b5dcd5e225.bindTooltip%28%0A%20%20%20%20%20%20%20%20%20%20%20%20%20%20%20%20%60%3Cdiv%3E%0A%20%20%20%20%20%20%20%20%20%20%20%20%20%20%20%20%20%20%20%20%201326%20%EC%9B%90%0A%20%20%20%20%20%20%20%20%20%20%20%20%20%20%20%20%20%3C/div%3E%60%2C%0A%20%20%20%20%20%20%20%20%20%20%20%20%20%20%20%20%7B%22sticky%22%3A%20true%7D%0A%20%20%20%20%20%20%20%20%20%20%20%20%29%3B%0A%20%20%20%20%20%20%20%20%0A%20%20%20%20%0A%20%20%20%20%20%20%20%20%20%20%20%20var%20marker_c68e1fe3e68b4ca1bc76de37169f393d%20%3D%20L.marker%28%0A%20%20%20%20%20%20%20%20%20%20%20%20%20%20%20%20%5B37.5516105340577%2C%20126.836581578392%5D%2C%0A%20%20%20%20%20%20%20%20%20%20%20%20%20%20%20%20%7B%7D%0A%20%20%20%20%20%20%20%20%20%20%20%20%29.addTo%28map_056e06f065d04baf95e5b04853798ec6%29%3B%0A%20%20%20%20%20%20%20%20%0A%20%20%20%20%0A%20%20%20%20%20%20%20%20%20%20%20%20var%20icon_34e691d844134971a6599076c178cea6%20%3D%20L.AwesomeMarkers.icon%28%0A%20%20%20%20%20%20%20%20%20%20%20%20%20%20%20%20%7B%22extraClasses%22%3A%20%22fa-rotate-0%22%2C%20%22icon%22%3A%20%22tint%22%2C%20%22iconColor%22%3A%20%22white%22%2C%20%22markerColor%22%3A%20%22blue%22%2C%20%22prefix%22%3A%20%22glyphicon%22%7D%0A%20%20%20%20%20%20%20%20%20%20%20%20%29%3B%0A%20%20%20%20%20%20%20%20%20%20%20%20marker_c68e1fe3e68b4ca1bc76de37169f393d.setIcon%28icon_34e691d844134971a6599076c178cea6%29%3B%0A%20%20%20%20%20%20%20%20%0A%20%20%20%20%0A%20%20%20%20%20%20%20%20var%20popup_a0650362a40944b385323d1832802768%20%3D%20L.popup%28%7B%22maxWidth%22%3A%20150%7D%29%3B%0A%0A%20%20%20%20%20%20%20%20%0A%20%20%20%20%20%20%20%20%20%20%20%20var%20html_db7dc936ecd647e6bd08e2ed5a183c9d%20%3D%20%24%28%60%3Cdiv%20id%3D%22html_db7dc936ecd647e6bd08e2ed5a183c9d%22%20style%3D%22width%3A%20100.0%25%3B%20height%3A%20100.0%25%3B%22%3E%EC%9A%B0%EC%9E%A5%EC%82%B0%EC%A3%BC%EC%9C%A0%EC%86%8C%3C/div%3E%60%29%5B0%5D%3B%0A%20%20%20%20%20%20%20%20%20%20%20%20popup_a0650362a40944b385323d1832802768.setContent%28html_db7dc936ecd647e6bd08e2ed5a183c9d%29%3B%0A%20%20%20%20%20%20%20%20%0A%0A%20%20%20%20%20%20%20%20marker_c68e1fe3e68b4ca1bc76de37169f393d.bindPopup%28popup_a0650362a40944b385323d1832802768%29%0A%20%20%20%20%20%20%20%20%3B%0A%0A%20%20%20%20%20%20%20%20%0A%20%20%20%20%0A%20%20%20%20%0A%20%20%20%20%20%20%20%20%20%20%20%20marker_c68e1fe3e68b4ca1bc76de37169f393d.bindTooltip%28%0A%20%20%20%20%20%20%20%20%20%20%20%20%20%20%20%20%60%3Cdiv%3E%0A%20%20%20%20%20%20%20%20%20%20%20%20%20%20%20%20%20%20%20%20%201358%20%EC%9B%90%0A%20%20%20%20%20%20%20%20%20%20%20%20%20%20%20%20%20%3C/div%3E%60%2C%0A%20%20%20%20%20%20%20%20%20%20%20%20%20%20%20%20%7B%22sticky%22%3A%20true%7D%0A%20%20%20%20%20%20%20%20%20%20%20%20%29%3B%0A%20%20%20%20%20%20%20%20%0A%20%20%20%20%0A%20%20%20%20%20%20%20%20%20%20%20%20var%20marker_a94937f348e74504ba5b0c2c42b04923%20%3D%20L.marker%28%0A%20%20%20%20%20%20%20%20%20%20%20%20%20%20%20%20%5B37.5578749217394%2C%20126.842367083708%5D%2C%0A%20%20%20%20%20%20%20%20%20%20%20%20%20%20%20%20%7B%7D%0A%20%20%20%20%20%20%20%20%20%20%20%20%29.addTo%28map_056e06f065d04baf95e5b04853798ec6%29%3B%0A%20%20%20%20%20%20%20%20%0A%20%20%20%20%0A%20%20%20%20%20%20%20%20%20%20%20%20var%20icon_687e2d30e5e44c4ba8f8c61bd71ef402%20%3D%20L.AwesomeMarkers.icon%28%0A%20%20%20%20%20%20%20%20%20%20%20%20%20%20%20%20%7B%22extraClasses%22%3A%20%22fa-rotate-0%22%2C%20%22icon%22%3A%20%22tint%22%2C%20%22iconColor%22%3A%20%22white%22%2C%20%22markerColor%22%3A%20%22blue%22%2C%20%22prefix%22%3A%20%22glyphicon%22%7D%0A%20%20%20%20%20%20%20%20%20%20%20%20%29%3B%0A%20%20%20%20%20%20%20%20%20%20%20%20marker_a94937f348e74504ba5b0c2c42b04923.setIcon%28icon_687e2d30e5e44c4ba8f8c61bd71ef402%29%3B%0A%20%20%20%20%20%20%20%20%0A%20%20%20%20%0A%20%20%20%20%20%20%20%20var%20popup_c0161cd5d2154aaf9ae74d63467b709a%20%3D%20L.popup%28%7B%22maxWidth%22%3A%20150%7D%29%3B%0A%0A%20%20%20%20%20%20%20%20%0A%20%20%20%20%20%20%20%20%20%20%20%20var%20html_3cefc66d4f974704bfc20133597abc9d%20%3D%20%24%28%60%3Cdiv%20id%3D%22html_3cefc66d4f974704bfc20133597abc9d%22%20style%3D%22width%3A%20100.0%25%3B%20height%3A%20100.0%25%3B%22%3E%EB%8C%80%EC%84%B1%EC%84%9D%EC%9C%A0%EC%A7%81%EC%98%81%20%EA%B4%80%EB%AC%B8%EC%A3%BC%EC%9C%A0%EC%86%8C%3C/div%3E%60%29%5B0%5D%3B%0A%20%20%20%20%20%20%20%20%20%20%20%20popup_c0161cd5d2154aaf9ae74d63467b709a.setContent%28html_3cefc66d4f974704bfc20133597abc9d%29%3B%0A%20%20%20%20%20%20%20%20%0A%0A%20%20%20%20%20%20%20%20marker_a94937f348e74504ba5b0c2c42b04923.bindPopup%28popup_c0161cd5d2154aaf9ae74d63467b709a%29%0A%20%20%20%20%20%20%20%20%3B%0A%0A%20%20%20%20%20%20%20%20%0A%20%20%20%20%0A%20%20%20%20%0A%20%20%20%20%20%20%20%20%20%20%20%20marker_a94937f348e74504ba5b0c2c42b04923.bindTooltip%28%0A%20%20%20%20%20%20%20%20%20%20%20%20%20%20%20%20%60%3Cdiv%3E%0A%20%20%20%20%20%20%20%20%20%20%20%20%20%20%20%20%20%20%20%20%201358%20%EC%9B%90%0A%20%20%20%20%20%20%20%20%20%20%20%20%20%20%20%20%20%3C/div%3E%60%2C%0A%20%20%20%20%20%20%20%20%20%20%20%20%20%20%20%20%7B%22sticky%22%3A%20true%7D%0A%20%20%20%20%20%20%20%20%20%20%20%20%29%3B%0A%20%20%20%20%20%20%20%20%0A%20%20%20%20%0A%20%20%20%20%20%20%20%20%20%20%20%20var%20marker_f0094346ec554a6191faa4fc6405bf7c%20%3D%20L.marker%28%0A%20%20%20%20%20%20%20%20%20%20%20%20%20%20%20%20%5B37.566279485874084%2C%20126.8404115686062%5D%2C%0A%20%20%20%20%20%20%20%20%20%20%20%20%20%20%20%20%7B%7D%0A%20%20%20%20%20%20%20%20%20%20%20%20%29.addTo%28map_056e06f065d04baf95e5b04853798ec6%29%3B%0A%20%20%20%20%20%20%20%20%0A%20%20%20%20%0A%20%20%20%20%20%20%20%20%20%20%20%20var%20icon_3a1ff0ac1762481294fa4a1f82a02846%20%3D%20L.AwesomeMarkers.icon%28%0A%20%20%20%20%20%20%20%20%20%20%20%20%20%20%20%20%7B%22extraClasses%22%3A%20%22fa-rotate-0%22%2C%20%22icon%22%3A%20%22tint%22%2C%20%22iconColor%22%3A%20%22white%22%2C%20%22markerColor%22%3A%20%22blue%22%2C%20%22prefix%22%3A%20%22glyphicon%22%7D%0A%20%20%20%20%20%20%20%20%20%20%20%20%29%3B%0A%20%20%20%20%20%20%20%20%20%20%20%20marker_f0094346ec554a6191faa4fc6405bf7c.setIcon%28icon_3a1ff0ac1762481294fa4a1f82a02846%29%3B%0A%20%20%20%20%20%20%20%20%0A%20%20%20%20%0A%20%20%20%20%20%20%20%20var%20popup_e8c1e82bd2104af7ab8a3fdb7229bb87%20%3D%20L.popup%28%7B%22maxWidth%22%3A%20150%7D%29%3B%0A%0A%20%20%20%20%20%20%20%20%0A%20%20%20%20%20%20%20%20%20%20%20%20var%20html_fc160c9ea865435dbb9fb199a925389d%20%3D%20%24%28%60%3Cdiv%20id%3D%22html_fc160c9ea865435dbb9fb199a925389d%22%20style%3D%22width%3A%20100.0%25%3B%20height%3A%20100.0%25%3B%22%3E%EB%8C%80%EC%84%B1%EC%84%9D%EC%9C%A0%20%EB%A7%88%EA%B3%A1%EB%8C%80%EC%84%B1%EC%A3%BC%EC%9C%A0%EC%86%8C%3C/div%3E%60%29%5B0%5D%3B%0A%20%20%20%20%20%20%20%20%20%20%20%20popup_e8c1e82bd2104af7ab8a3fdb7229bb87.setContent%28html_fc160c9ea865435dbb9fb199a925389d%29%3B%0A%20%20%20%20%20%20%20%20%0A%0A%20%20%20%20%20%20%20%20marker_f0094346ec554a6191faa4fc6405bf7c.bindPopup%28popup_e8c1e82bd2104af7ab8a3fdb7229bb87%29%0A%20%20%20%20%20%20%20%20%3B%0A%0A%20%20%20%20%20%20%20%20%0A%20%20%20%20%0A%20%20%20%20%0A%20%20%20%20%20%20%20%20%20%20%20%20marker_f0094346ec554a6191faa4fc6405bf7c.bindTooltip%28%0A%20%20%20%20%20%20%20%20%20%20%20%20%20%20%20%20%60%3Cdiv%3E%0A%20%20%20%20%20%20%20%20%20%20%20%20%20%20%20%20%20%20%20%20%201365%20%EC%9B%90%0A%20%20%20%20%20%20%20%20%20%20%20%20%20%20%20%20%20%3C/div%3E%60%2C%0A%20%20%20%20%20%20%20%20%20%20%20%20%20%20%20%20%7B%22sticky%22%3A%20true%7D%0A%20%20%20%20%20%20%20%20%20%20%20%20%29%3B%0A%20%20%20%20%20%20%20%20%0A%20%20%20%20%0A%20%20%20%20%20%20%20%20%20%20%20%20var%20marker_20ee506b9815497fac79837740e6d707%20%3D%20L.marker%28%0A%20%20%20%20%20%20%20%20%20%20%20%20%20%20%20%20%5B37.5728983496391%2C%20126.823435612504%5D%2C%0A%20%20%20%20%20%20%20%20%20%20%20%20%20%20%20%20%7B%7D%0A%20%20%20%20%20%20%20%20%20%20%20%20%29.addTo%28map_056e06f065d04baf95e5b04853798ec6%29%3B%0A%20%20%20%20%20%20%20%20%0A%20%20%20%20%0A%20%20%20%20%20%20%20%20%20%20%20%20var%20icon_aadceb329ccd44018f709782265fdc11%20%3D%20L.AwesomeMarkers.icon%28%0A%20%20%20%20%20%20%20%20%20%20%20%20%20%20%20%20%7B%22extraClasses%22%3A%20%22fa-rotate-0%22%2C%20%22icon%22%3A%20%22tint%22%2C%20%22iconColor%22%3A%20%22white%22%2C%20%22markerColor%22%3A%20%22blue%22%2C%20%22prefix%22%3A%20%22glyphicon%22%7D%0A%20%20%20%20%20%20%20%20%20%20%20%20%29%3B%0A%20%20%20%20%20%20%20%20%20%20%20%20marker_20ee506b9815497fac79837740e6d707.setIcon%28icon_aadceb329ccd44018f709782265fdc11%29%3B%0A%20%20%20%20%20%20%20%20%0A%20%20%20%20%0A%20%20%20%20%20%20%20%20var%20popup_ba680d4655b74d9e85c01028578d885a%20%3D%20L.popup%28%7B%22maxWidth%22%3A%20150%7D%29%3B%0A%0A%20%20%20%20%20%20%20%20%0A%20%20%20%20%20%20%20%20%20%20%20%20var%20html_9f41d07518894b4295e7588f353c7808%20%3D%20%24%28%60%3Cdiv%20id%3D%22html_9f41d07518894b4295e7588f353c7808%22%20style%3D%22width%3A%20100.0%25%3B%20height%3A%20100.0%25%3B%22%3E%EB%8C%80%EC%84%B1%EC%84%9D%EC%9C%A0%EB%B0%A9%ED%99%94%EB%8C%80%EC%84%B1%EC%A3%BC%EC%9C%A0%EC%86%8C%3C/div%3E%60%29%5B0%5D%3B%0A%20%20%20%20%20%20%20%20%20%20%20%20popup_ba680d4655b74d9e85c01028578d885a.setContent%28html_9f41d07518894b4295e7588f353c7808%29%3B%0A%20%20%20%20%20%20%20%20%0A%0A%20%20%20%20%20%20%20%20marker_20ee506b9815497fac79837740e6d707.bindPopup%28popup_ba680d4655b74d9e85c01028578d885a%29%0A%20%20%20%20%20%20%20%20%3B%0A%0A%20%20%20%20%20%20%20%20%0A%20%20%20%20%0A%20%20%20%20%0A%20%20%20%20%20%20%20%20%20%20%20%20marker_20ee506b9815497fac79837740e6d707.bindTooltip%28%0A%20%20%20%20%20%20%20%20%20%20%20%20%20%20%20%20%60%3Cdiv%3E%0A%20%20%20%20%20%20%20%20%20%20%20%20%20%20%20%20%20%20%20%20%201365%20%EC%9B%90%0A%20%20%20%20%20%20%20%20%20%20%20%20%20%20%20%20%20%3C/div%3E%60%2C%0A%20%20%20%20%20%20%20%20%20%20%20%20%20%20%20%20%7B%22sticky%22%3A%20true%7D%0A%20%20%20%20%20%20%20%20%20%20%20%20%29%3B%0A%20%20%20%20%20%20%20%20%0A%3C/script%3E onload=\"this.contentDocument.open();this.contentDocument.write(    decodeURIComponent(this.getAttribute('data-html')));this.contentDocument.close();\" allowfullscreen webkitallowfullscreen mozallowfullscreen></iframe></div></div>"
     },
     "metadata": {},
     "execution_count": 23
    }
   ],
   "source": [
    "map = folium.Map(location=[df['lat'].mean(), df['lng'].mean()], zoom_start=13)\n",
    "\n",
    "for i in df.index:\n",
    "    frame = f\"{df['place_name'][i]}\"\n",
    "    popup = folium.Popup(frame, max_width=150)\n",
    "    if df['휘발유'][i] == min(df['휘발유']):\n",
    "        folium.Marker(\n",
    "            location = [df['lat'][i], df['lng'][i]],\n",
    "            tooltip=(f\"{df['휘발유'][i]} 원\"),\n",
    "            popup=popup,\n",
    "            icon=folium.Icon(color='red', icon='thumbs-up')\n",
    "            ).add_to(map)\n",
    "    else:\n",
    "        folium.Marker(\n",
    "            location = [df['lat'][i], df['lng'][i]],\n",
    "            tooltip=(f\"{df['휘발유'][i]} 원\"),\n",
    "            popup=popup,\n",
    "            icon=folium.Icon(color='blue', icon='tint')\n",
    "            ).add_to(map)\n",
    "map"
   ]
  },
  {
   "source": [
    "### 3. 사이트에서 키워드(주유소명)으로 검색하기"
   ],
   "cell_type": "markdown",
   "metadata": {}
  },
  {
   "cell_type": "code",
   "execution_count": 24,
   "metadata": {},
   "outputs": [],
   "source": [
    "import time\n",
    "from selenium import webdriver\n",
    "from selenium.webdriver.common.keys import Keys\n",
    "import requests\n",
    "from urllib.parse import urlparse, quote\n",
    "import folium\n",
    "import pandas as pd\n",
    "from glob import glob"
   ]
  },
  {
   "cell_type": "code",
   "execution_count": 25,
   "metadata": {},
   "outputs": [
    {
     "output_type": "error",
     "ename": "NoSuchElementException",
     "evalue": "Message: no such element: Unable to locate element: {\"method\":\"xpath\",\"selector\":\"//*[@id=\"SEARCH_MOD4\"]\"}\n  (Session info: chrome=87.0.4280.66)\n",
     "traceback": [
      "\u001b[1;31m---------------------------------------------------------------------------\u001b[0m",
      "\u001b[1;31mNoSuchElementException\u001b[0m                    Traceback (most recent call last)",
      "\u001b[1;32m<ipython-input-25-ac141b4c5d62>\u001b[0m in \u001b[0;36m<module>\u001b[1;34m\u001b[0m\n\u001b[0;32m      6\u001b[0m \u001b[0mdriver\u001b[0m\u001b[1;33m.\u001b[0m\u001b[0mfind_element_by_css_selector\u001b[0m\u001b[1;33m(\u001b[0m\u001b[1;34m'.ic_m1'\u001b[0m\u001b[1;33m)\u001b[0m\u001b[1;33m.\u001b[0m\u001b[0mclick\u001b[0m\u001b[1;33m(\u001b[0m\u001b[1;33m)\u001b[0m\u001b[1;33m\u001b[0m\u001b[1;33m\u001b[0m\u001b[0m\n\u001b[0;32m      7\u001b[0m \u001b[0mtime\u001b[0m\u001b[1;33m.\u001b[0m\u001b[0msleep\u001b[0m\u001b[1;33m(\u001b[0m\u001b[1;36m2\u001b[0m\u001b[1;33m)\u001b[0m\u001b[1;33m\u001b[0m\u001b[1;33m\u001b[0m\u001b[0m\n\u001b[1;32m----> 8\u001b[1;33m \u001b[0mdriver\u001b[0m\u001b[1;33m.\u001b[0m\u001b[0mfind_element_by_xpath\u001b[0m\u001b[1;33m(\u001b[0m\u001b[1;34m'//*[@id=\"SEARCH_MOD4\"]'\u001b[0m\u001b[1;33m)\u001b[0m\u001b[1;33m.\u001b[0m\u001b[0mclick\u001b[0m\u001b[1;33m(\u001b[0m\u001b[1;33m)\u001b[0m\u001b[1;33m\u001b[0m\u001b[1;33m\u001b[0m\u001b[0m\n\u001b[0m\u001b[0;32m      9\u001b[0m \u001b[1;33m\u001b[0m\u001b[0m\n\u001b[0;32m     10\u001b[0m \u001b[0mstation_list\u001b[0m \u001b[1;33m=\u001b[0m \u001b[1;33m[\u001b[0m\u001b[1;34m'우장산주유소'\u001b[0m\u001b[1;33m,\u001b[0m \u001b[1;34m'직영관문주유소'\u001b[0m\u001b[1;33m,\u001b[0m \u001b[1;34m'화곡현대주유소'\u001b[0m\u001b[1;33m,\u001b[0m \u001b[1;34m'신화곡주유소'\u001b[0m\u001b[1;33m,\u001b[0m \u001b[1;34m'경인고속주유소'\u001b[0m\u001b[1;33m,\u001b[0m \u001b[1;34m'목화주유소'\u001b[0m\u001b[1;33m,\u001b[0m \u001b[1;34m'뉴신정주유소'\u001b[0m\u001b[1;33m,\u001b[0m \u001b[1;34m'화곡역주유소'\u001b[0m\u001b[1;33m,\u001b[0m \u001b[1;34m'마곡대성주유소'\u001b[0m\u001b[1;33m,\u001b[0m \u001b[1;34m'방화대성주유소'\u001b[0m\u001b[1;33m]\u001b[0m\u001b[1;33m\u001b[0m\u001b[1;33m\u001b[0m\u001b[0m\n",
      "\u001b[1;32mC:\\ProgramData\\Anaconda3\\lib\\site-packages\\selenium\\webdriver\\remote\\webdriver.py\u001b[0m in \u001b[0;36mfind_element_by_xpath\u001b[1;34m(self, xpath)\u001b[0m\n\u001b[0;32m    392\u001b[0m             \u001b[0melement\u001b[0m \u001b[1;33m=\u001b[0m \u001b[0mdriver\u001b[0m\u001b[1;33m.\u001b[0m\u001b[0mfind_element_by_xpath\u001b[0m\u001b[1;33m(\u001b[0m\u001b[1;34m'//div/td[1]'\u001b[0m\u001b[1;33m)\u001b[0m\u001b[1;33m\u001b[0m\u001b[1;33m\u001b[0m\u001b[0m\n\u001b[0;32m    393\u001b[0m         \"\"\"\n\u001b[1;32m--> 394\u001b[1;33m         \u001b[1;32mreturn\u001b[0m \u001b[0mself\u001b[0m\u001b[1;33m.\u001b[0m\u001b[0mfind_element\u001b[0m\u001b[1;33m(\u001b[0m\u001b[0mby\u001b[0m\u001b[1;33m=\u001b[0m\u001b[0mBy\u001b[0m\u001b[1;33m.\u001b[0m\u001b[0mXPATH\u001b[0m\u001b[1;33m,\u001b[0m \u001b[0mvalue\u001b[0m\u001b[1;33m=\u001b[0m\u001b[0mxpath\u001b[0m\u001b[1;33m)\u001b[0m\u001b[1;33m\u001b[0m\u001b[1;33m\u001b[0m\u001b[0m\n\u001b[0m\u001b[0;32m    395\u001b[0m \u001b[1;33m\u001b[0m\u001b[0m\n\u001b[0;32m    396\u001b[0m     \u001b[1;32mdef\u001b[0m \u001b[0mfind_elements_by_xpath\u001b[0m\u001b[1;33m(\u001b[0m\u001b[0mself\u001b[0m\u001b[1;33m,\u001b[0m \u001b[0mxpath\u001b[0m\u001b[1;33m)\u001b[0m\u001b[1;33m:\u001b[0m\u001b[1;33m\u001b[0m\u001b[1;33m\u001b[0m\u001b[0m\n",
      "\u001b[1;32mC:\\ProgramData\\Anaconda3\\lib\\site-packages\\selenium\\webdriver\\remote\\webdriver.py\u001b[0m in \u001b[0;36mfind_element\u001b[1;34m(self, by, value)\u001b[0m\n\u001b[0;32m    974\u001b[0m                 \u001b[0mby\u001b[0m \u001b[1;33m=\u001b[0m \u001b[0mBy\u001b[0m\u001b[1;33m.\u001b[0m\u001b[0mCSS_SELECTOR\u001b[0m\u001b[1;33m\u001b[0m\u001b[1;33m\u001b[0m\u001b[0m\n\u001b[0;32m    975\u001b[0m                 \u001b[0mvalue\u001b[0m \u001b[1;33m=\u001b[0m \u001b[1;34m'[name=\"%s\"]'\u001b[0m \u001b[1;33m%\u001b[0m \u001b[0mvalue\u001b[0m\u001b[1;33m\u001b[0m\u001b[1;33m\u001b[0m\u001b[0m\n\u001b[1;32m--> 976\u001b[1;33m         return self.execute(Command.FIND_ELEMENT, {\n\u001b[0m\u001b[0;32m    977\u001b[0m             \u001b[1;34m'using'\u001b[0m\u001b[1;33m:\u001b[0m \u001b[0mby\u001b[0m\u001b[1;33m,\u001b[0m\u001b[1;33m\u001b[0m\u001b[1;33m\u001b[0m\u001b[0m\n\u001b[0;32m    978\u001b[0m             'value': value})['value']\n",
      "\u001b[1;32mC:\\ProgramData\\Anaconda3\\lib\\site-packages\\selenium\\webdriver\\remote\\webdriver.py\u001b[0m in \u001b[0;36mexecute\u001b[1;34m(self, driver_command, params)\u001b[0m\n\u001b[0;32m    319\u001b[0m         \u001b[0mresponse\u001b[0m \u001b[1;33m=\u001b[0m \u001b[0mself\u001b[0m\u001b[1;33m.\u001b[0m\u001b[0mcommand_executor\u001b[0m\u001b[1;33m.\u001b[0m\u001b[0mexecute\u001b[0m\u001b[1;33m(\u001b[0m\u001b[0mdriver_command\u001b[0m\u001b[1;33m,\u001b[0m \u001b[0mparams\u001b[0m\u001b[1;33m)\u001b[0m\u001b[1;33m\u001b[0m\u001b[1;33m\u001b[0m\u001b[0m\n\u001b[0;32m    320\u001b[0m         \u001b[1;32mif\u001b[0m \u001b[0mresponse\u001b[0m\u001b[1;33m:\u001b[0m\u001b[1;33m\u001b[0m\u001b[1;33m\u001b[0m\u001b[0m\n\u001b[1;32m--> 321\u001b[1;33m             \u001b[0mself\u001b[0m\u001b[1;33m.\u001b[0m\u001b[0merror_handler\u001b[0m\u001b[1;33m.\u001b[0m\u001b[0mcheck_response\u001b[0m\u001b[1;33m(\u001b[0m\u001b[0mresponse\u001b[0m\u001b[1;33m)\u001b[0m\u001b[1;33m\u001b[0m\u001b[1;33m\u001b[0m\u001b[0m\n\u001b[0m\u001b[0;32m    322\u001b[0m             response['value'] = self._unwrap_value(\n\u001b[0;32m    323\u001b[0m                 response.get('value', None))\n",
      "\u001b[1;32mC:\\ProgramData\\Anaconda3\\lib\\site-packages\\selenium\\webdriver\\remote\\errorhandler.py\u001b[0m in \u001b[0;36mcheck_response\u001b[1;34m(self, response)\u001b[0m\n\u001b[0;32m    240\u001b[0m                 \u001b[0malert_text\u001b[0m \u001b[1;33m=\u001b[0m \u001b[0mvalue\u001b[0m\u001b[1;33m[\u001b[0m\u001b[1;34m'alert'\u001b[0m\u001b[1;33m]\u001b[0m\u001b[1;33m.\u001b[0m\u001b[0mget\u001b[0m\u001b[1;33m(\u001b[0m\u001b[1;34m'text'\u001b[0m\u001b[1;33m)\u001b[0m\u001b[1;33m\u001b[0m\u001b[1;33m\u001b[0m\u001b[0m\n\u001b[0;32m    241\u001b[0m             \u001b[1;32mraise\u001b[0m \u001b[0mexception_class\u001b[0m\u001b[1;33m(\u001b[0m\u001b[0mmessage\u001b[0m\u001b[1;33m,\u001b[0m \u001b[0mscreen\u001b[0m\u001b[1;33m,\u001b[0m \u001b[0mstacktrace\u001b[0m\u001b[1;33m,\u001b[0m \u001b[0malert_text\u001b[0m\u001b[1;33m)\u001b[0m\u001b[1;33m\u001b[0m\u001b[1;33m\u001b[0m\u001b[0m\n\u001b[1;32m--> 242\u001b[1;33m         \u001b[1;32mraise\u001b[0m \u001b[0mexception_class\u001b[0m\u001b[1;33m(\u001b[0m\u001b[0mmessage\u001b[0m\u001b[1;33m,\u001b[0m \u001b[0mscreen\u001b[0m\u001b[1;33m,\u001b[0m \u001b[0mstacktrace\u001b[0m\u001b[1;33m)\u001b[0m\u001b[1;33m\u001b[0m\u001b[1;33m\u001b[0m\u001b[0m\n\u001b[0m\u001b[0;32m    243\u001b[0m \u001b[1;33m\u001b[0m\u001b[0m\n\u001b[0;32m    244\u001b[0m     \u001b[1;32mdef\u001b[0m \u001b[0m_value_or_default\u001b[0m\u001b[1;33m(\u001b[0m\u001b[0mself\u001b[0m\u001b[1;33m,\u001b[0m \u001b[0mobj\u001b[0m\u001b[1;33m,\u001b[0m \u001b[0mkey\u001b[0m\u001b[1;33m,\u001b[0m \u001b[0mdefault\u001b[0m\u001b[1;33m)\u001b[0m\u001b[1;33m:\u001b[0m\u001b[1;33m\u001b[0m\u001b[1;33m\u001b[0m\u001b[0m\n",
      "\u001b[1;31mNoSuchElementException\u001b[0m: Message: no such element: Unable to locate element: {\"method\":\"xpath\",\"selector\":\"//*[@id=\"SEARCH_MOD4\"]\"}\n  (Session info: chrome=87.0.4280.66)\n"
     ]
    }
   ],
   "source": [
    "driver = webdriver.Chrome('./chromedriver')\n",
    "driver.maximize_window()\n",
    "driver.get('http://www.opinet.co.kr/searRgSelect.do')\n",
    "time.sleep(3)\n",
    "\n",
    "driver.find_element_by_css_selector('.ic_m1').click()\n",
    "time.sleep(2)\n",
    "driver.find_element_by_xpath('//*[@id=\"SEARCH_MOD4\"]').click()\n",
    "\n",
    "station_list = ['우장산주유소', '직영관문주유소', '화곡현대주유소', '신화곡주유소', '경인고속주유소', '목화주유소', '뉴신정주유소', '화곡역주유소', '마곡대성주유소', '방화대성주유소']\n",
    "gasoline_list = []; diesel_list = []\n",
    "for station in station_list:\n",
    "    search = driver.find_element_by_xpath('//*[@id=\"OS_NM\"]')\n",
    "    time.sleep(1)\n",
    "    search.clear()\n",
    "    time.sleep(1)\n",
    "    search.send_keys(station)\n",
    "    search.submit()\n",
    "    time.sleep(1)\n",
    "    gasoline = driver.find_element_by_xpath('//*[@id=\"body1\"]/tr/td[2]').text\n",
    "    diesel = driver.find_element_by_xpath('//*[@id=\"body1\"]/tr/td[3]/font').text\n",
    "    time.sleep(1)\n",
    "    gasoline_list.append(int(gasoline))\n",
    "    diesel_list.append(int(diesel))\n",
    "\n",
    "driver.quit()"
   ]
  },
  {
   "cell_type": "code",
   "execution_count": 28,
   "metadata": {},
   "outputs": [],
   "source": [
    "key_fd = open('kakaomapkey.txt', mode='r')\n",
    "kmap_key = key_fd.read(100)\n",
    "key_fd.close()"
   ]
  },
  {
   "cell_type": "code",
   "execution_count": 29,
   "metadata": {},
   "outputs": [],
   "source": [
    "name_list=[]; tel_list=[]; addr_list=[]; lat_list=[]; lng_list=[]\n",
    "\n",
    "for station in station_list:\n",
    "    url = 'https://dapi.kakao.com/v2/local/search/keyword.json?query=' + quote(station)\n",
    "    result = requests.get(url,headers={'Authorization': \"KakaoAK \"+kmap_key}).json()\n",
    "    name_list.append(result['documents'][0]['place_name'])\n",
    "    tel_list.append(result['documents'][0]['phone'])\n",
    "    addr_list.append(result['documents'][0]['road_address_name'])\n",
    "    lat_list.append(float(result['documents'][0]['y']))\n",
    "    lng_list.append(float(result['documents'][0]['x']))"
   ]
  },
  {
   "cell_type": "code",
   "execution_count": 30,
   "metadata": {},
   "outputs": [
    {
     "output_type": "execute_result",
     "data": {
      "text/plain": [
       "  station_name           tel          address  gasoline_price  diesel_price  \\\n",
       "0       우장산주유소  02-3664-7163   서울 강서구 강서로 292            1358          1187   \n",
       "1      직영관문주유소  02-3665-2051  서울 강서구 공항대로 314            1358          1187   \n",
       "2      화곡현대주유소  02-2607-1942   서울 강서구 강서로 151            1326          1126   \n",
       "3       신화곡주유소  02-2611-3161   서울 강서구 국회대로 71            1315          1115   \n",
       "4      경인고속주유소  02-2608-5151  서울 강서구 국회대로 225            1266          1072   \n",
       "5        목화주유소  02-2654-4564  서울 강서구 국회대로 251            1266          1072   \n",
       "6       뉴신정주유소  02-2601-0077  서울 강서구 곰달래로 207            1243          1043   \n",
       "7       화곡역주유소  02-2691-5151   서울 강서구 강서로 154            1243          1043   \n",
       "8      마곡대성주유소  02-3664-7781   서울 강서구 강서로 457            1365          1185   \n",
       "9      방화대성주유소  02-3663-7781   서울 강서구 양천로 176            1365          1175   \n",
       "\n",
       "         lat         lng  \n",
       "0  37.551611  126.836582  \n",
       "1  37.557875  126.842367  \n",
       "2  37.540264  126.841200  \n",
       "3  37.527260  126.842889  \n",
       "4  37.529624  126.859795  \n",
       "5  37.530020  126.863062  \n",
       "6  37.531550  126.856042  \n",
       "7  37.540625  126.841525  \n",
       "8  37.566279  126.840412  \n",
       "9  37.572898  126.823436  "
      ],
      "text/html": "<div>\n<style scoped>\n    .dataframe tbody tr th:only-of-type {\n        vertical-align: middle;\n    }\n\n    .dataframe tbody tr th {\n        vertical-align: top;\n    }\n\n    .dataframe thead th {\n        text-align: right;\n    }\n</style>\n<table border=\"1\" class=\"dataframe\">\n  <thead>\n    <tr style=\"text-align: right;\">\n      <th></th>\n      <th>station_name</th>\n      <th>tel</th>\n      <th>address</th>\n      <th>gasoline_price</th>\n      <th>diesel_price</th>\n      <th>lat</th>\n      <th>lng</th>\n    </tr>\n  </thead>\n  <tbody>\n    <tr>\n      <th>0</th>\n      <td>우장산주유소</td>\n      <td>02-3664-7163</td>\n      <td>서울 강서구 강서로 292</td>\n      <td>1358</td>\n      <td>1187</td>\n      <td>37.551611</td>\n      <td>126.836582</td>\n    </tr>\n    <tr>\n      <th>1</th>\n      <td>직영관문주유소</td>\n      <td>02-3665-2051</td>\n      <td>서울 강서구 공항대로 314</td>\n      <td>1358</td>\n      <td>1187</td>\n      <td>37.557875</td>\n      <td>126.842367</td>\n    </tr>\n    <tr>\n      <th>2</th>\n      <td>화곡현대주유소</td>\n      <td>02-2607-1942</td>\n      <td>서울 강서구 강서로 151</td>\n      <td>1326</td>\n      <td>1126</td>\n      <td>37.540264</td>\n      <td>126.841200</td>\n    </tr>\n    <tr>\n      <th>3</th>\n      <td>신화곡주유소</td>\n      <td>02-2611-3161</td>\n      <td>서울 강서구 국회대로 71</td>\n      <td>1315</td>\n      <td>1115</td>\n      <td>37.527260</td>\n      <td>126.842889</td>\n    </tr>\n    <tr>\n      <th>4</th>\n      <td>경인고속주유소</td>\n      <td>02-2608-5151</td>\n      <td>서울 강서구 국회대로 225</td>\n      <td>1266</td>\n      <td>1072</td>\n      <td>37.529624</td>\n      <td>126.859795</td>\n    </tr>\n    <tr>\n      <th>5</th>\n      <td>목화주유소</td>\n      <td>02-2654-4564</td>\n      <td>서울 강서구 국회대로 251</td>\n      <td>1266</td>\n      <td>1072</td>\n      <td>37.530020</td>\n      <td>126.863062</td>\n    </tr>\n    <tr>\n      <th>6</th>\n      <td>뉴신정주유소</td>\n      <td>02-2601-0077</td>\n      <td>서울 강서구 곰달래로 207</td>\n      <td>1243</td>\n      <td>1043</td>\n      <td>37.531550</td>\n      <td>126.856042</td>\n    </tr>\n    <tr>\n      <th>7</th>\n      <td>화곡역주유소</td>\n      <td>02-2691-5151</td>\n      <td>서울 강서구 강서로 154</td>\n      <td>1243</td>\n      <td>1043</td>\n      <td>37.540625</td>\n      <td>126.841525</td>\n    </tr>\n    <tr>\n      <th>8</th>\n      <td>마곡대성주유소</td>\n      <td>02-3664-7781</td>\n      <td>서울 강서구 강서로 457</td>\n      <td>1365</td>\n      <td>1185</td>\n      <td>37.566279</td>\n      <td>126.840412</td>\n    </tr>\n    <tr>\n      <th>9</th>\n      <td>방화대성주유소</td>\n      <td>02-3663-7781</td>\n      <td>서울 강서구 양천로 176</td>\n      <td>1365</td>\n      <td>1175</td>\n      <td>37.572898</td>\n      <td>126.823436</td>\n    </tr>\n  </tbody>\n</table>\n</div>"
     },
     "metadata": {},
     "execution_count": 30
    }
   ],
   "source": [
    "station_data = pd.DataFrame({\n",
    "    'station_name':station_list,\n",
    "    'tel':tel_list,\n",
    "    'address':addr_list,\n",
    "    'gasoline_price':gasoline_list,\n",
    "    'diesel_price':diesel_list,\n",
    "    'lat':lat_list,\n",
    "    'lng':lng_list\n",
    "})\n",
    "station_data"
   ]
  },
  {
   "cell_type": "code",
   "execution_count": 31,
   "metadata": {},
   "outputs": [
    {
     "output_type": "execute_result",
     "data": {
      "text/plain": [
       "<folium.folium.Map at 0x22871baaeb0>"
      ],
      "text/html": "<div style=\"width:100%;\"><div style=\"position:relative;width:100%;height:0;padding-bottom:60%;\"><span style=\"color:#565656\">Make this Notebook Trusted to load map: File -> Trust Notebook</span><iframe src=\"about:blank\" style=\"position:absolute;width:100%;height:100%;left:0;top:0;border:none !important;\" data-html=%3C%21DOCTYPE%20html%3E%0A%3Chead%3E%20%20%20%20%0A%20%20%20%20%3Cmeta%20http-equiv%3D%22content-type%22%20content%3D%22text/html%3B%20charset%3DUTF-8%22%20/%3E%0A%20%20%20%20%0A%20%20%20%20%20%20%20%20%3Cscript%3E%0A%20%20%20%20%20%20%20%20%20%20%20%20L_NO_TOUCH%20%3D%20false%3B%0A%20%20%20%20%20%20%20%20%20%20%20%20L_DISABLE_3D%20%3D%20false%3B%0A%20%20%20%20%20%20%20%20%3C/script%3E%0A%20%20%20%20%0A%20%20%20%20%3Cscript%20src%3D%22https%3A//cdn.jsdelivr.net/npm/leaflet%401.6.0/dist/leaflet.js%22%3E%3C/script%3E%0A%20%20%20%20%3Cscript%20src%3D%22https%3A//code.jquery.com/jquery-1.12.4.min.js%22%3E%3C/script%3E%0A%20%20%20%20%3Cscript%20src%3D%22https%3A//maxcdn.bootstrapcdn.com/bootstrap/3.2.0/js/bootstrap.min.js%22%3E%3C/script%3E%0A%20%20%20%20%3Cscript%20src%3D%22https%3A//cdnjs.cloudflare.com/ajax/libs/Leaflet.awesome-markers/2.0.2/leaflet.awesome-markers.js%22%3E%3C/script%3E%0A%20%20%20%20%3Clink%20rel%3D%22stylesheet%22%20href%3D%22https%3A//cdn.jsdelivr.net/npm/leaflet%401.6.0/dist/leaflet.css%22/%3E%0A%20%20%20%20%3Clink%20rel%3D%22stylesheet%22%20href%3D%22https%3A//maxcdn.bootstrapcdn.com/bootstrap/3.2.0/css/bootstrap.min.css%22/%3E%0A%20%20%20%20%3Clink%20rel%3D%22stylesheet%22%20href%3D%22https%3A//maxcdn.bootstrapcdn.com/bootstrap/3.2.0/css/bootstrap-theme.min.css%22/%3E%0A%20%20%20%20%3Clink%20rel%3D%22stylesheet%22%20href%3D%22https%3A//maxcdn.bootstrapcdn.com/font-awesome/4.6.3/css/font-awesome.min.css%22/%3E%0A%20%20%20%20%3Clink%20rel%3D%22stylesheet%22%20href%3D%22https%3A//cdnjs.cloudflare.com/ajax/libs/Leaflet.awesome-markers/2.0.2/leaflet.awesome-markers.css%22/%3E%0A%20%20%20%20%3Clink%20rel%3D%22stylesheet%22%20href%3D%22https%3A//rawcdn.githack.com/python-visualization/folium/master/folium/templates/leaflet.awesome.rotate.css%22/%3E%0A%20%20%20%20%3Cstyle%3Ehtml%2C%20body%20%7Bwidth%3A%20100%25%3Bheight%3A%20100%25%3Bmargin%3A%200%3Bpadding%3A%200%3B%7D%3C/style%3E%0A%20%20%20%20%3Cstyle%3E%23map%20%7Bposition%3Aabsolute%3Btop%3A0%3Bbottom%3A0%3Bright%3A0%3Bleft%3A0%3B%7D%3C/style%3E%0A%20%20%20%20%0A%20%20%20%20%20%20%20%20%20%20%20%20%3Cmeta%20name%3D%22viewport%22%20content%3D%22width%3Ddevice-width%2C%0A%20%20%20%20%20%20%20%20%20%20%20%20%20%20%20%20initial-scale%3D1.0%2C%20maximum-scale%3D1.0%2C%20user-scalable%3Dno%22%20/%3E%0A%20%20%20%20%20%20%20%20%20%20%20%20%3Cstyle%3E%0A%20%20%20%20%20%20%20%20%20%20%20%20%20%20%20%20%23map_5b8e5b32bccc493083f177e0167e71a2%20%7B%0A%20%20%20%20%20%20%20%20%20%20%20%20%20%20%20%20%20%20%20%20position%3A%20relative%3B%0A%20%20%20%20%20%20%20%20%20%20%20%20%20%20%20%20%20%20%20%20width%3A%20100.0%25%3B%0A%20%20%20%20%20%20%20%20%20%20%20%20%20%20%20%20%20%20%20%20height%3A%20100.0%25%3B%0A%20%20%20%20%20%20%20%20%20%20%20%20%20%20%20%20%20%20%20%20left%3A%200.0%25%3B%0A%20%20%20%20%20%20%20%20%20%20%20%20%20%20%20%20%20%20%20%20top%3A%200.0%25%3B%0A%20%20%20%20%20%20%20%20%20%20%20%20%20%20%20%20%7D%0A%20%20%20%20%20%20%20%20%20%20%20%20%3C/style%3E%0A%20%20%20%20%20%20%20%20%0A%3C/head%3E%0A%3Cbody%3E%20%20%20%20%0A%20%20%20%20%0A%20%20%20%20%20%20%20%20%20%20%20%20%3Cdiv%20class%3D%22folium-map%22%20id%3D%22map_5b8e5b32bccc493083f177e0167e71a2%22%20%3E%3C/div%3E%0A%20%20%20%20%20%20%20%20%0A%3C/body%3E%0A%3Cscript%3E%20%20%20%20%0A%20%20%20%20%0A%20%20%20%20%20%20%20%20%20%20%20%20var%20map_5b8e5b32bccc493083f177e0167e71a2%20%3D%20L.map%28%0A%20%20%20%20%20%20%20%20%20%20%20%20%20%20%20%20%22map_5b8e5b32bccc493083f177e0167e71a2%22%2C%0A%20%20%20%20%20%20%20%20%20%20%20%20%20%20%20%20%7B%0A%20%20%20%20%20%20%20%20%20%20%20%20%20%20%20%20%20%20%20%20center%3A%20%5B37.544800601234%2C%20126.84473084117664%5D%2C%0A%20%20%20%20%20%20%20%20%20%20%20%20%20%20%20%20%20%20%20%20crs%3A%20L.CRS.EPSG3857%2C%0A%20%20%20%20%20%20%20%20%20%20%20%20%20%20%20%20%20%20%20%20zoom%3A%2013%2C%0A%20%20%20%20%20%20%20%20%20%20%20%20%20%20%20%20%20%20%20%20zoomControl%3A%20true%2C%0A%20%20%20%20%20%20%20%20%20%20%20%20%20%20%20%20%20%20%20%20preferCanvas%3A%20false%2C%0A%20%20%20%20%20%20%20%20%20%20%20%20%20%20%20%20%7D%0A%20%20%20%20%20%20%20%20%20%20%20%20%29%3B%0A%0A%20%20%20%20%20%20%20%20%20%20%20%20%0A%0A%20%20%20%20%20%20%20%20%0A%20%20%20%20%0A%20%20%20%20%20%20%20%20%20%20%20%20var%20tile_layer_a039d091db4d4c83b731ff383b1cf111%20%3D%20L.tileLayer%28%0A%20%20%20%20%20%20%20%20%20%20%20%20%20%20%20%20%22https%3A//%7Bs%7D.tile.openstreetmap.org/%7Bz%7D/%7Bx%7D/%7By%7D.png%22%2C%0A%20%20%20%20%20%20%20%20%20%20%20%20%20%20%20%20%7B%22attribution%22%3A%20%22Data%20by%20%5Cu0026copy%3B%20%5Cu003ca%20href%3D%5C%22http%3A//openstreetmap.org%5C%22%5Cu003eOpenStreetMap%5Cu003c/a%5Cu003e%2C%20under%20%5Cu003ca%20href%3D%5C%22http%3A//www.openstreetmap.org/copyright%5C%22%5Cu003eODbL%5Cu003c/a%5Cu003e.%22%2C%20%22detectRetina%22%3A%20false%2C%20%22maxNativeZoom%22%3A%2018%2C%20%22maxZoom%22%3A%2018%2C%20%22minZoom%22%3A%200%2C%20%22noWrap%22%3A%20false%2C%20%22opacity%22%3A%201%2C%20%22subdomains%22%3A%20%22abc%22%2C%20%22tms%22%3A%20false%7D%0A%20%20%20%20%20%20%20%20%20%20%20%20%29.addTo%28map_5b8e5b32bccc493083f177e0167e71a2%29%3B%0A%20%20%20%20%20%20%20%20%0A%20%20%20%20%0A%20%20%20%20%20%20%20%20%20%20%20%20var%20marker_aca2b2635b7940d1a8c4e9f36aa040ae%20%3D%20L.marker%28%0A%20%20%20%20%20%20%20%20%20%20%20%20%20%20%20%20%5B37.5516105340577%2C%20126.836581578392%5D%2C%0A%20%20%20%20%20%20%20%20%20%20%20%20%20%20%20%20%7B%7D%0A%20%20%20%20%20%20%20%20%20%20%20%20%29.addTo%28map_5b8e5b32bccc493083f177e0167e71a2%29%3B%0A%20%20%20%20%20%20%20%20%0A%20%20%20%20%0A%20%20%20%20%20%20%20%20%20%20%20%20var%20icon_af34c3b3b3314f3bbc1a0203865bf92b%20%3D%20L.AwesomeMarkers.icon%28%0A%20%20%20%20%20%20%20%20%20%20%20%20%20%20%20%20%7B%22extraClasses%22%3A%20%22fa-rotate-0%22%2C%20%22icon%22%3A%20%22tint%22%2C%20%22iconColor%22%3A%20%22white%22%2C%20%22markerColor%22%3A%20%22blue%22%2C%20%22prefix%22%3A%20%22glyphicon%22%7D%0A%20%20%20%20%20%20%20%20%20%20%20%20%29%3B%0A%20%20%20%20%20%20%20%20%20%20%20%20marker_aca2b2635b7940d1a8c4e9f36aa040ae.setIcon%28icon_af34c3b3b3314f3bbc1a0203865bf92b%29%3B%0A%20%20%20%20%20%20%20%20%0A%20%20%20%20%0A%20%20%20%20%20%20%20%20var%20popup_1755ae6acb61435d8c6b80d4de7105ee%20%3D%20L.popup%28%7B%22maxWidth%22%3A%20150%7D%29%3B%0A%0A%20%20%20%20%20%20%20%20%0A%20%20%20%20%20%20%20%20%20%20%20%20var%20html_905cdbb24b5348cda6853b44dbc5de19%20%3D%20%24%28%60%3Cdiv%20id%3D%22html_905cdbb24b5348cda6853b44dbc5de19%22%20style%3D%22width%3A%20100.0%25%3B%20height%3A%20100.0%25%3B%22%3E%EC%9A%B0%EC%9E%A5%EC%82%B0%EC%A3%BC%EC%9C%A0%EC%86%8C%3C/div%3E%60%29%5B0%5D%3B%0A%20%20%20%20%20%20%20%20%20%20%20%20popup_1755ae6acb61435d8c6b80d4de7105ee.setContent%28html_905cdbb24b5348cda6853b44dbc5de19%29%3B%0A%20%20%20%20%20%20%20%20%0A%0A%20%20%20%20%20%20%20%20marker_aca2b2635b7940d1a8c4e9f36aa040ae.bindPopup%28popup_1755ae6acb61435d8c6b80d4de7105ee%29%0A%20%20%20%20%20%20%20%20%3B%0A%0A%20%20%20%20%20%20%20%20%0A%20%20%20%20%0A%20%20%20%20%0A%20%20%20%20%20%20%20%20%20%20%20%20marker_aca2b2635b7940d1a8c4e9f36aa040ae.bindTooltip%28%0A%20%20%20%20%20%20%20%20%20%20%20%20%20%20%20%20%60%3Cdiv%3E%0A%20%20%20%20%20%20%20%20%20%20%20%20%20%20%20%20%20%20%20%20%20%ED%9C%98%EB%B0%9C%EC%9C%A0%3A1358%EC%9B%90%2C%20%EA%B0%80%EC%86%94%EB%A6%B0%3A1187%EC%9B%90%0A%20%20%20%20%20%20%20%20%20%20%20%20%20%20%20%20%20%3C/div%3E%60%2C%0A%20%20%20%20%20%20%20%20%20%20%20%20%20%20%20%20%7B%22sticky%22%3A%20true%7D%0A%20%20%20%20%20%20%20%20%20%20%20%20%29%3B%0A%20%20%20%20%20%20%20%20%0A%20%20%20%20%0A%20%20%20%20%20%20%20%20%20%20%20%20var%20marker_b1c3585b15174f85a15bee2e9b5556d6%20%3D%20L.marker%28%0A%20%20%20%20%20%20%20%20%20%20%20%20%20%20%20%20%5B37.5578749217394%2C%20126.842367083708%5D%2C%0A%20%20%20%20%20%20%20%20%20%20%20%20%20%20%20%20%7B%7D%0A%20%20%20%20%20%20%20%20%20%20%20%20%29.addTo%28map_5b8e5b32bccc493083f177e0167e71a2%29%3B%0A%20%20%20%20%20%20%20%20%0A%20%20%20%20%0A%20%20%20%20%20%20%20%20%20%20%20%20var%20icon_55e2264e24d2472fb65d7e19aea57af8%20%3D%20L.AwesomeMarkers.icon%28%0A%20%20%20%20%20%20%20%20%20%20%20%20%20%20%20%20%7B%22extraClasses%22%3A%20%22fa-rotate-0%22%2C%20%22icon%22%3A%20%22tint%22%2C%20%22iconColor%22%3A%20%22white%22%2C%20%22markerColor%22%3A%20%22blue%22%2C%20%22prefix%22%3A%20%22glyphicon%22%7D%0A%20%20%20%20%20%20%20%20%20%20%20%20%29%3B%0A%20%20%20%20%20%20%20%20%20%20%20%20marker_b1c3585b15174f85a15bee2e9b5556d6.setIcon%28icon_55e2264e24d2472fb65d7e19aea57af8%29%3B%0A%20%20%20%20%20%20%20%20%0A%20%20%20%20%0A%20%20%20%20%20%20%20%20var%20popup_9e663757766f44d594bf182842e3de78%20%3D%20L.popup%28%7B%22maxWidth%22%3A%20150%7D%29%3B%0A%0A%20%20%20%20%20%20%20%20%0A%20%20%20%20%20%20%20%20%20%20%20%20var%20html_ac5f7ed4222f4236ac5b0d3b2da1ed77%20%3D%20%24%28%60%3Cdiv%20id%3D%22html_ac5f7ed4222f4236ac5b0d3b2da1ed77%22%20style%3D%22width%3A%20100.0%25%3B%20height%3A%20100.0%25%3B%22%3E%EC%A7%81%EC%98%81%EA%B4%80%EB%AC%B8%EC%A3%BC%EC%9C%A0%EC%86%8C%3C/div%3E%60%29%5B0%5D%3B%0A%20%20%20%20%20%20%20%20%20%20%20%20popup_9e663757766f44d594bf182842e3de78.setContent%28html_ac5f7ed4222f4236ac5b0d3b2da1ed77%29%3B%0A%20%20%20%20%20%20%20%20%0A%0A%20%20%20%20%20%20%20%20marker_b1c3585b15174f85a15bee2e9b5556d6.bindPopup%28popup_9e663757766f44d594bf182842e3de78%29%0A%20%20%20%20%20%20%20%20%3B%0A%0A%20%20%20%20%20%20%20%20%0A%20%20%20%20%0A%20%20%20%20%0A%20%20%20%20%20%20%20%20%20%20%20%20marker_b1c3585b15174f85a15bee2e9b5556d6.bindTooltip%28%0A%20%20%20%20%20%20%20%20%20%20%20%20%20%20%20%20%60%3Cdiv%3E%0A%20%20%20%20%20%20%20%20%20%20%20%20%20%20%20%20%20%20%20%20%20%ED%9C%98%EB%B0%9C%EC%9C%A0%3A1358%EC%9B%90%2C%20%EA%B0%80%EC%86%94%EB%A6%B0%3A1187%EC%9B%90%0A%20%20%20%20%20%20%20%20%20%20%20%20%20%20%20%20%20%3C/div%3E%60%2C%0A%20%20%20%20%20%20%20%20%20%20%20%20%20%20%20%20%7B%22sticky%22%3A%20true%7D%0A%20%20%20%20%20%20%20%20%20%20%20%20%29%3B%0A%20%20%20%20%20%20%20%20%0A%20%20%20%20%0A%20%20%20%20%20%20%20%20%20%20%20%20var%20marker_319fe78fa88f4aec9f3ae388a7e0eb20%20%3D%20L.marker%28%0A%20%20%20%20%20%20%20%20%20%20%20%20%20%20%20%20%5B37.5402642586691%2C%20126.841200246694%5D%2C%0A%20%20%20%20%20%20%20%20%20%20%20%20%20%20%20%20%7B%7D%0A%20%20%20%20%20%20%20%20%20%20%20%20%29.addTo%28map_5b8e5b32bccc493083f177e0167e71a2%29%3B%0A%20%20%20%20%20%20%20%20%0A%20%20%20%20%0A%20%20%20%20%20%20%20%20%20%20%20%20var%20icon_6e074bad58f64511b4d3f5fccff60ca6%20%3D%20L.AwesomeMarkers.icon%28%0A%20%20%20%20%20%20%20%20%20%20%20%20%20%20%20%20%7B%22extraClasses%22%3A%20%22fa-rotate-0%22%2C%20%22icon%22%3A%20%22tint%22%2C%20%22iconColor%22%3A%20%22white%22%2C%20%22markerColor%22%3A%20%22blue%22%2C%20%22prefix%22%3A%20%22glyphicon%22%7D%0A%20%20%20%20%20%20%20%20%20%20%20%20%29%3B%0A%20%20%20%20%20%20%20%20%20%20%20%20marker_319fe78fa88f4aec9f3ae388a7e0eb20.setIcon%28icon_6e074bad58f64511b4d3f5fccff60ca6%29%3B%0A%20%20%20%20%20%20%20%20%0A%20%20%20%20%0A%20%20%20%20%20%20%20%20var%20popup_d9f281ccaa954f009ee38a4732e83318%20%3D%20L.popup%28%7B%22maxWidth%22%3A%20150%7D%29%3B%0A%0A%20%20%20%20%20%20%20%20%0A%20%20%20%20%20%20%20%20%20%20%20%20var%20html_5b8cae5a9c65468c90a8492dfebeeeae%20%3D%20%24%28%60%3Cdiv%20id%3D%22html_5b8cae5a9c65468c90a8492dfebeeeae%22%20style%3D%22width%3A%20100.0%25%3B%20height%3A%20100.0%25%3B%22%3E%ED%99%94%EA%B3%A1%ED%98%84%EB%8C%80%EC%A3%BC%EC%9C%A0%EC%86%8C%3C/div%3E%60%29%5B0%5D%3B%0A%20%20%20%20%20%20%20%20%20%20%20%20popup_d9f281ccaa954f009ee38a4732e83318.setContent%28html_5b8cae5a9c65468c90a8492dfebeeeae%29%3B%0A%20%20%20%20%20%20%20%20%0A%0A%20%20%20%20%20%20%20%20marker_319fe78fa88f4aec9f3ae388a7e0eb20.bindPopup%28popup_d9f281ccaa954f009ee38a4732e83318%29%0A%20%20%20%20%20%20%20%20%3B%0A%0A%20%20%20%20%20%20%20%20%0A%20%20%20%20%0A%20%20%20%20%0A%20%20%20%20%20%20%20%20%20%20%20%20marker_319fe78fa88f4aec9f3ae388a7e0eb20.bindTooltip%28%0A%20%20%20%20%20%20%20%20%20%20%20%20%20%20%20%20%60%3Cdiv%3E%0A%20%20%20%20%20%20%20%20%20%20%20%20%20%20%20%20%20%20%20%20%20%ED%9C%98%EB%B0%9C%EC%9C%A0%3A1326%EC%9B%90%2C%20%EA%B0%80%EC%86%94%EB%A6%B0%3A1126%EC%9B%90%0A%20%20%20%20%20%20%20%20%20%20%20%20%20%20%20%20%20%3C/div%3E%60%2C%0A%20%20%20%20%20%20%20%20%20%20%20%20%20%20%20%20%7B%22sticky%22%3A%20true%7D%0A%20%20%20%20%20%20%20%20%20%20%20%20%29%3B%0A%20%20%20%20%20%20%20%20%0A%20%20%20%20%0A%20%20%20%20%20%20%20%20%20%20%20%20var%20marker_2e387d04f67c4dda8c8a6e7dca0b0bc0%20%3D%20L.marker%28%0A%20%20%20%20%20%20%20%20%20%20%20%20%20%20%20%20%5B37.5272596798188%2C%20126.842888576122%5D%2C%0A%20%20%20%20%20%20%20%20%20%20%20%20%20%20%20%20%7B%7D%0A%20%20%20%20%20%20%20%20%20%20%20%20%29.addTo%28map_5b8e5b32bccc493083f177e0167e71a2%29%3B%0A%20%20%20%20%20%20%20%20%0A%20%20%20%20%0A%20%20%20%20%20%20%20%20%20%20%20%20var%20icon_c8a156e2c2054faea71adea70dd97aca%20%3D%20L.AwesomeMarkers.icon%28%0A%20%20%20%20%20%20%20%20%20%20%20%20%20%20%20%20%7B%22extraClasses%22%3A%20%22fa-rotate-0%22%2C%20%22icon%22%3A%20%22tint%22%2C%20%22iconColor%22%3A%20%22white%22%2C%20%22markerColor%22%3A%20%22blue%22%2C%20%22prefix%22%3A%20%22glyphicon%22%7D%0A%20%20%20%20%20%20%20%20%20%20%20%20%29%3B%0A%20%20%20%20%20%20%20%20%20%20%20%20marker_2e387d04f67c4dda8c8a6e7dca0b0bc0.setIcon%28icon_c8a156e2c2054faea71adea70dd97aca%29%3B%0A%20%20%20%20%20%20%20%20%0A%20%20%20%20%0A%20%20%20%20%20%20%20%20var%20popup_fb50b3b68c454e0db0e87ede52970a65%20%3D%20L.popup%28%7B%22maxWidth%22%3A%20150%7D%29%3B%0A%0A%20%20%20%20%20%20%20%20%0A%20%20%20%20%20%20%20%20%20%20%20%20var%20html_050dc8ca55f640ffa1b5e07b05c123df%20%3D%20%24%28%60%3Cdiv%20id%3D%22html_050dc8ca55f640ffa1b5e07b05c123df%22%20style%3D%22width%3A%20100.0%25%3B%20height%3A%20100.0%25%3B%22%3E%EC%8B%A0%ED%99%94%EA%B3%A1%EC%A3%BC%EC%9C%A0%EC%86%8C%3C/div%3E%60%29%5B0%5D%3B%0A%20%20%20%20%20%20%20%20%20%20%20%20popup_fb50b3b68c454e0db0e87ede52970a65.setContent%28html_050dc8ca55f640ffa1b5e07b05c123df%29%3B%0A%20%20%20%20%20%20%20%20%0A%0A%20%20%20%20%20%20%20%20marker_2e387d04f67c4dda8c8a6e7dca0b0bc0.bindPopup%28popup_fb50b3b68c454e0db0e87ede52970a65%29%0A%20%20%20%20%20%20%20%20%3B%0A%0A%20%20%20%20%20%20%20%20%0A%20%20%20%20%0A%20%20%20%20%0A%20%20%20%20%20%20%20%20%20%20%20%20marker_2e387d04f67c4dda8c8a6e7dca0b0bc0.bindTooltip%28%0A%20%20%20%20%20%20%20%20%20%20%20%20%20%20%20%20%60%3Cdiv%3E%0A%20%20%20%20%20%20%20%20%20%20%20%20%20%20%20%20%20%20%20%20%20%ED%9C%98%EB%B0%9C%EC%9C%A0%3A1315%EC%9B%90%2C%20%EA%B0%80%EC%86%94%EB%A6%B0%3A1115%EC%9B%90%0A%20%20%20%20%20%20%20%20%20%20%20%20%20%20%20%20%20%3C/div%3E%60%2C%0A%20%20%20%20%20%20%20%20%20%20%20%20%20%20%20%20%7B%22sticky%22%3A%20true%7D%0A%20%20%20%20%20%20%20%20%20%20%20%20%29%3B%0A%20%20%20%20%20%20%20%20%0A%20%20%20%20%0A%20%20%20%20%20%20%20%20%20%20%20%20var%20marker_d4b15da505cd4e968760a2c8f41e04dc%20%3D%20L.marker%28%0A%20%20%20%20%20%20%20%20%20%20%20%20%20%20%20%20%5B37.5296235629422%2C%20126.859794923014%5D%2C%0A%20%20%20%20%20%20%20%20%20%20%20%20%20%20%20%20%7B%7D%0A%20%20%20%20%20%20%20%20%20%20%20%20%29.addTo%28map_5b8e5b32bccc493083f177e0167e71a2%29%3B%0A%20%20%20%20%20%20%20%20%0A%20%20%20%20%0A%20%20%20%20%20%20%20%20%20%20%20%20var%20icon_d81fa3fca12d46da9d16286a25bf8d23%20%3D%20L.AwesomeMarkers.icon%28%0A%20%20%20%20%20%20%20%20%20%20%20%20%20%20%20%20%7B%22extraClasses%22%3A%20%22fa-rotate-0%22%2C%20%22icon%22%3A%20%22tint%22%2C%20%22iconColor%22%3A%20%22white%22%2C%20%22markerColor%22%3A%20%22blue%22%2C%20%22prefix%22%3A%20%22glyphicon%22%7D%0A%20%20%20%20%20%20%20%20%20%20%20%20%29%3B%0A%20%20%20%20%20%20%20%20%20%20%20%20marker_d4b15da505cd4e968760a2c8f41e04dc.setIcon%28icon_d81fa3fca12d46da9d16286a25bf8d23%29%3B%0A%20%20%20%20%20%20%20%20%0A%20%20%20%20%0A%20%20%20%20%20%20%20%20var%20popup_60722f862cfa4029bcba608ce1483ca2%20%3D%20L.popup%28%7B%22maxWidth%22%3A%20150%7D%29%3B%0A%0A%20%20%20%20%20%20%20%20%0A%20%20%20%20%20%20%20%20%20%20%20%20var%20html_d295abfb241d46a0ab62c8fcbbc4fdd1%20%3D%20%24%28%60%3Cdiv%20id%3D%22html_d295abfb241d46a0ab62c8fcbbc4fdd1%22%20style%3D%22width%3A%20100.0%25%3B%20height%3A%20100.0%25%3B%22%3E%EA%B2%BD%EC%9D%B8%EA%B3%A0%EC%86%8D%EC%A3%BC%EC%9C%A0%EC%86%8C%3C/div%3E%60%29%5B0%5D%3B%0A%20%20%20%20%20%20%20%20%20%20%20%20popup_60722f862cfa4029bcba608ce1483ca2.setContent%28html_d295abfb241d46a0ab62c8fcbbc4fdd1%29%3B%0A%20%20%20%20%20%20%20%20%0A%0A%20%20%20%20%20%20%20%20marker_d4b15da505cd4e968760a2c8f41e04dc.bindPopup%28popup_60722f862cfa4029bcba608ce1483ca2%29%0A%20%20%20%20%20%20%20%20%3B%0A%0A%20%20%20%20%20%20%20%20%0A%20%20%20%20%0A%20%20%20%20%0A%20%20%20%20%20%20%20%20%20%20%20%20marker_d4b15da505cd4e968760a2c8f41e04dc.bindTooltip%28%0A%20%20%20%20%20%20%20%20%20%20%20%20%20%20%20%20%60%3Cdiv%3E%0A%20%20%20%20%20%20%20%20%20%20%20%20%20%20%20%20%20%20%20%20%20%ED%9C%98%EB%B0%9C%EC%9C%A0%3A1266%EC%9B%90%2C%20%EA%B0%80%EC%86%94%EB%A6%B0%3A1072%EC%9B%90%0A%20%20%20%20%20%20%20%20%20%20%20%20%20%20%20%20%20%3C/div%3E%60%2C%0A%20%20%20%20%20%20%20%20%20%20%20%20%20%20%20%20%7B%22sticky%22%3A%20true%7D%0A%20%20%20%20%20%20%20%20%20%20%20%20%29%3B%0A%20%20%20%20%20%20%20%20%0A%20%20%20%20%0A%20%20%20%20%20%20%20%20%20%20%20%20var%20marker_e9a7a7204c854d7badd42be06ab8466c%20%3D%20L.marker%28%0A%20%20%20%20%20%20%20%20%20%20%20%20%20%20%20%20%5B37.5300202321542%2C%20126.863061514823%5D%2C%0A%20%20%20%20%20%20%20%20%20%20%20%20%20%20%20%20%7B%7D%0A%20%20%20%20%20%20%20%20%20%20%20%20%29.addTo%28map_5b8e5b32bccc493083f177e0167e71a2%29%3B%0A%20%20%20%20%20%20%20%20%0A%20%20%20%20%0A%20%20%20%20%20%20%20%20%20%20%20%20var%20icon_76094d62aac34652a042dbdf88bf8a29%20%3D%20L.AwesomeMarkers.icon%28%0A%20%20%20%20%20%20%20%20%20%20%20%20%20%20%20%20%7B%22extraClasses%22%3A%20%22fa-rotate-0%22%2C%20%22icon%22%3A%20%22tint%22%2C%20%22iconColor%22%3A%20%22white%22%2C%20%22markerColor%22%3A%20%22blue%22%2C%20%22prefix%22%3A%20%22glyphicon%22%7D%0A%20%20%20%20%20%20%20%20%20%20%20%20%29%3B%0A%20%20%20%20%20%20%20%20%20%20%20%20marker_e9a7a7204c854d7badd42be06ab8466c.setIcon%28icon_76094d62aac34652a042dbdf88bf8a29%29%3B%0A%20%20%20%20%20%20%20%20%0A%20%20%20%20%0A%20%20%20%20%20%20%20%20var%20popup_2a50dcb31c414377ab6c3b5a0f9509e3%20%3D%20L.popup%28%7B%22maxWidth%22%3A%20150%7D%29%3B%0A%0A%20%20%20%20%20%20%20%20%0A%20%20%20%20%20%20%20%20%20%20%20%20var%20html_4d3d47e0f28546de878b711d9cdcce65%20%3D%20%24%28%60%3Cdiv%20id%3D%22html_4d3d47e0f28546de878b711d9cdcce65%22%20style%3D%22width%3A%20100.0%25%3B%20height%3A%20100.0%25%3B%22%3E%EB%AA%A9%ED%99%94%EC%A3%BC%EC%9C%A0%EC%86%8C%3C/div%3E%60%29%5B0%5D%3B%0A%20%20%20%20%20%20%20%20%20%20%20%20popup_2a50dcb31c414377ab6c3b5a0f9509e3.setContent%28html_4d3d47e0f28546de878b711d9cdcce65%29%3B%0A%20%20%20%20%20%20%20%20%0A%0A%20%20%20%20%20%20%20%20marker_e9a7a7204c854d7badd42be06ab8466c.bindPopup%28popup_2a50dcb31c414377ab6c3b5a0f9509e3%29%0A%20%20%20%20%20%20%20%20%3B%0A%0A%20%20%20%20%20%20%20%20%0A%20%20%20%20%0A%20%20%20%20%0A%20%20%20%20%20%20%20%20%20%20%20%20marker_e9a7a7204c854d7badd42be06ab8466c.bindTooltip%28%0A%20%20%20%20%20%20%20%20%20%20%20%20%20%20%20%20%60%3Cdiv%3E%0A%20%20%20%20%20%20%20%20%20%20%20%20%20%20%20%20%20%20%20%20%20%ED%9C%98%EB%B0%9C%EC%9C%A0%3A1266%EC%9B%90%2C%20%EA%B0%80%EC%86%94%EB%A6%B0%3A1072%EC%9B%90%0A%20%20%20%20%20%20%20%20%20%20%20%20%20%20%20%20%20%3C/div%3E%60%2C%0A%20%20%20%20%20%20%20%20%20%20%20%20%20%20%20%20%7B%22sticky%22%3A%20true%7D%0A%20%20%20%20%20%20%20%20%20%20%20%20%29%3B%0A%20%20%20%20%20%20%20%20%0A%20%20%20%20%0A%20%20%20%20%20%20%20%20%20%20%20%20var%20marker_a3342bc26b324459825387c5e282e505%20%3D%20L.marker%28%0A%20%20%20%20%20%20%20%20%20%20%20%20%20%20%20%20%5B37.53154989241573%2C%20126.85604195207029%5D%2C%0A%20%20%20%20%20%20%20%20%20%20%20%20%20%20%20%20%7B%7D%0A%20%20%20%20%20%20%20%20%20%20%20%20%29.addTo%28map_5b8e5b32bccc493083f177e0167e71a2%29%3B%0A%20%20%20%20%20%20%20%20%0A%20%20%20%20%0A%20%20%20%20%20%20%20%20%20%20%20%20var%20icon_ffe5408044de41a7917e455775808680%20%3D%20L.AwesomeMarkers.icon%28%0A%20%20%20%20%20%20%20%20%20%20%20%20%20%20%20%20%7B%22extraClasses%22%3A%20%22fa-rotate-0%22%2C%20%22icon%22%3A%20%22thumbs-up%22%2C%20%22iconColor%22%3A%20%22white%22%2C%20%22markerColor%22%3A%20%22red%22%2C%20%22prefix%22%3A%20%22glyphicon%22%7D%0A%20%20%20%20%20%20%20%20%20%20%20%20%29%3B%0A%20%20%20%20%20%20%20%20%20%20%20%20marker_a3342bc26b324459825387c5e282e505.setIcon%28icon_ffe5408044de41a7917e455775808680%29%3B%0A%20%20%20%20%20%20%20%20%0A%20%20%20%20%0A%20%20%20%20%20%20%20%20var%20popup_0f96e9d6569740ae9f0be4ff289bf22f%20%3D%20L.popup%28%7B%22maxWidth%22%3A%20150%7D%29%3B%0A%0A%20%20%20%20%20%20%20%20%0A%20%20%20%20%20%20%20%20%20%20%20%20var%20html_ae4bb4e4f20a41b1b839233beaa79b91%20%3D%20%24%28%60%3Cdiv%20id%3D%22html_ae4bb4e4f20a41b1b839233beaa79b91%22%20style%3D%22width%3A%20100.0%25%3B%20height%3A%20100.0%25%3B%22%3E%EB%89%B4%EC%8B%A0%EC%A0%95%EC%A3%BC%EC%9C%A0%EC%86%8C%3C/div%3E%60%29%5B0%5D%3B%0A%20%20%20%20%20%20%20%20%20%20%20%20popup_0f96e9d6569740ae9f0be4ff289bf22f.setContent%28html_ae4bb4e4f20a41b1b839233beaa79b91%29%3B%0A%20%20%20%20%20%20%20%20%0A%0A%20%20%20%20%20%20%20%20marker_a3342bc26b324459825387c5e282e505.bindPopup%28popup_0f96e9d6569740ae9f0be4ff289bf22f%29%0A%20%20%20%20%20%20%20%20%3B%0A%0A%20%20%20%20%20%20%20%20%0A%20%20%20%20%0A%20%20%20%20%0A%20%20%20%20%20%20%20%20%20%20%20%20marker_a3342bc26b324459825387c5e282e505.bindTooltip%28%0A%20%20%20%20%20%20%20%20%20%20%20%20%20%20%20%20%60%3Cdiv%3E%0A%20%20%20%20%20%20%20%20%20%20%20%20%20%20%20%20%20%20%20%20%20%ED%9C%98%EB%B0%9C%EC%9C%A0%3A1243%EC%9B%90%2C%20%EA%B0%80%EC%86%94%EB%A6%B0%3A1043%EC%9B%90%0A%20%20%20%20%20%20%20%20%20%20%20%20%20%20%20%20%20%3C/div%3E%60%2C%0A%20%20%20%20%20%20%20%20%20%20%20%20%20%20%20%20%7B%22sticky%22%3A%20true%7D%0A%20%20%20%20%20%20%20%20%20%20%20%20%29%3B%0A%20%20%20%20%20%20%20%20%0A%20%20%20%20%0A%20%20%20%20%20%20%20%20%20%20%20%20var%20marker_9258d18c13144a40a0680ad1862b8449%20%3D%20L.marker%28%0A%20%20%20%20%20%20%20%20%20%20%20%20%20%20%20%20%5B37.5406250950297%2C%20126.841525355833%5D%2C%0A%20%20%20%20%20%20%20%20%20%20%20%20%20%20%20%20%7B%7D%0A%20%20%20%20%20%20%20%20%20%20%20%20%29.addTo%28map_5b8e5b32bccc493083f177e0167e71a2%29%3B%0A%20%20%20%20%20%20%20%20%0A%20%20%20%20%0A%20%20%20%20%20%20%20%20%20%20%20%20var%20icon_ff6c69c857974ee49b277618869a1421%20%3D%20L.AwesomeMarkers.icon%28%0A%20%20%20%20%20%20%20%20%20%20%20%20%20%20%20%20%7B%22extraClasses%22%3A%20%22fa-rotate-0%22%2C%20%22icon%22%3A%20%22thumbs-up%22%2C%20%22iconColor%22%3A%20%22white%22%2C%20%22markerColor%22%3A%20%22red%22%2C%20%22prefix%22%3A%20%22glyphicon%22%7D%0A%20%20%20%20%20%20%20%20%20%20%20%20%29%3B%0A%20%20%20%20%20%20%20%20%20%20%20%20marker_9258d18c13144a40a0680ad1862b8449.setIcon%28icon_ff6c69c857974ee49b277618869a1421%29%3B%0A%20%20%20%20%20%20%20%20%0A%20%20%20%20%0A%20%20%20%20%20%20%20%20var%20popup_c313da39330b4d6eb4eefc89653ca533%20%3D%20L.popup%28%7B%22maxWidth%22%3A%20150%7D%29%3B%0A%0A%20%20%20%20%20%20%20%20%0A%20%20%20%20%20%20%20%20%20%20%20%20var%20html_4fdb9e4ea8ca4a9891c1abf2c87185aa%20%3D%20%24%28%60%3Cdiv%20id%3D%22html_4fdb9e4ea8ca4a9891c1abf2c87185aa%22%20style%3D%22width%3A%20100.0%25%3B%20height%3A%20100.0%25%3B%22%3E%ED%99%94%EA%B3%A1%EC%97%AD%EC%A3%BC%EC%9C%A0%EC%86%8C%3C/div%3E%60%29%5B0%5D%3B%0A%20%20%20%20%20%20%20%20%20%20%20%20popup_c313da39330b4d6eb4eefc89653ca533.setContent%28html_4fdb9e4ea8ca4a9891c1abf2c87185aa%29%3B%0A%20%20%20%20%20%20%20%20%0A%0A%20%20%20%20%20%20%20%20marker_9258d18c13144a40a0680ad1862b8449.bindPopup%28popup_c313da39330b4d6eb4eefc89653ca533%29%0A%20%20%20%20%20%20%20%20%3B%0A%0A%20%20%20%20%20%20%20%20%0A%20%20%20%20%0A%20%20%20%20%0A%20%20%20%20%20%20%20%20%20%20%20%20marker_9258d18c13144a40a0680ad1862b8449.bindTooltip%28%0A%20%20%20%20%20%20%20%20%20%20%20%20%20%20%20%20%60%3Cdiv%3E%0A%20%20%20%20%20%20%20%20%20%20%20%20%20%20%20%20%20%20%20%20%20%ED%9C%98%EB%B0%9C%EC%9C%A0%3A1243%EC%9B%90%2C%20%EA%B0%80%EC%86%94%EB%A6%B0%3A1043%EC%9B%90%0A%20%20%20%20%20%20%20%20%20%20%20%20%20%20%20%20%20%3C/div%3E%60%2C%0A%20%20%20%20%20%20%20%20%20%20%20%20%20%20%20%20%7B%22sticky%22%3A%20true%7D%0A%20%20%20%20%20%20%20%20%20%20%20%20%29%3B%0A%20%20%20%20%20%20%20%20%0A%20%20%20%20%0A%20%20%20%20%20%20%20%20%20%20%20%20var%20marker_19ef4bbdacfd40cf94c3489393dd1401%20%3D%20L.marker%28%0A%20%20%20%20%20%20%20%20%20%20%20%20%20%20%20%20%5B37.566279485874084%2C%20126.8404115686062%5D%2C%0A%20%20%20%20%20%20%20%20%20%20%20%20%20%20%20%20%7B%7D%0A%20%20%20%20%20%20%20%20%20%20%20%20%29.addTo%28map_5b8e5b32bccc493083f177e0167e71a2%29%3B%0A%20%20%20%20%20%20%20%20%0A%20%20%20%20%0A%20%20%20%20%20%20%20%20%20%20%20%20var%20icon_1e96f429dd4c4ae3b731d7760b1bb9aa%20%3D%20L.AwesomeMarkers.icon%28%0A%20%20%20%20%20%20%20%20%20%20%20%20%20%20%20%20%7B%22extraClasses%22%3A%20%22fa-rotate-0%22%2C%20%22icon%22%3A%20%22tint%22%2C%20%22iconColor%22%3A%20%22white%22%2C%20%22markerColor%22%3A%20%22blue%22%2C%20%22prefix%22%3A%20%22glyphicon%22%7D%0A%20%20%20%20%20%20%20%20%20%20%20%20%29%3B%0A%20%20%20%20%20%20%20%20%20%20%20%20marker_19ef4bbdacfd40cf94c3489393dd1401.setIcon%28icon_1e96f429dd4c4ae3b731d7760b1bb9aa%29%3B%0A%20%20%20%20%20%20%20%20%0A%20%20%20%20%0A%20%20%20%20%20%20%20%20var%20popup_3118cd2d55f64b3eaebed0f60430109c%20%3D%20L.popup%28%7B%22maxWidth%22%3A%20150%7D%29%3B%0A%0A%20%20%20%20%20%20%20%20%0A%20%20%20%20%20%20%20%20%20%20%20%20var%20html_a8cc805887fc44f897c13e15c5e7abfb%20%3D%20%24%28%60%3Cdiv%20id%3D%22html_a8cc805887fc44f897c13e15c5e7abfb%22%20style%3D%22width%3A%20100.0%25%3B%20height%3A%20100.0%25%3B%22%3E%EB%A7%88%EA%B3%A1%EB%8C%80%EC%84%B1%EC%A3%BC%EC%9C%A0%EC%86%8C%3C/div%3E%60%29%5B0%5D%3B%0A%20%20%20%20%20%20%20%20%20%20%20%20popup_3118cd2d55f64b3eaebed0f60430109c.setContent%28html_a8cc805887fc44f897c13e15c5e7abfb%29%3B%0A%20%20%20%20%20%20%20%20%0A%0A%20%20%20%20%20%20%20%20marker_19ef4bbdacfd40cf94c3489393dd1401.bindPopup%28popup_3118cd2d55f64b3eaebed0f60430109c%29%0A%20%20%20%20%20%20%20%20%3B%0A%0A%20%20%20%20%20%20%20%20%0A%20%20%20%20%0A%20%20%20%20%0A%20%20%20%20%20%20%20%20%20%20%20%20marker_19ef4bbdacfd40cf94c3489393dd1401.bindTooltip%28%0A%20%20%20%20%20%20%20%20%20%20%20%20%20%20%20%20%60%3Cdiv%3E%0A%20%20%20%20%20%20%20%20%20%20%20%20%20%20%20%20%20%20%20%20%20%ED%9C%98%EB%B0%9C%EC%9C%A0%3A1365%EC%9B%90%2C%20%EA%B0%80%EC%86%94%EB%A6%B0%3A1185%EC%9B%90%0A%20%20%20%20%20%20%20%20%20%20%20%20%20%20%20%20%20%3C/div%3E%60%2C%0A%20%20%20%20%20%20%20%20%20%20%20%20%20%20%20%20%7B%22sticky%22%3A%20true%7D%0A%20%20%20%20%20%20%20%20%20%20%20%20%29%3B%0A%20%20%20%20%20%20%20%20%0A%20%20%20%20%0A%20%20%20%20%20%20%20%20%20%20%20%20var%20marker_3f014c424674418cb56a9a481203f05d%20%3D%20L.marker%28%0A%20%20%20%20%20%20%20%20%20%20%20%20%20%20%20%20%5B37.5728983496391%2C%20126.823435612504%5D%2C%0A%20%20%20%20%20%20%20%20%20%20%20%20%20%20%20%20%7B%7D%0A%20%20%20%20%20%20%20%20%20%20%20%20%29.addTo%28map_5b8e5b32bccc493083f177e0167e71a2%29%3B%0A%20%20%20%20%20%20%20%20%0A%20%20%20%20%0A%20%20%20%20%20%20%20%20%20%20%20%20var%20icon_e20b29add3ae4d26adfeca08c7988fac%20%3D%20L.AwesomeMarkers.icon%28%0A%20%20%20%20%20%20%20%20%20%20%20%20%20%20%20%20%7B%22extraClasses%22%3A%20%22fa-rotate-0%22%2C%20%22icon%22%3A%20%22tint%22%2C%20%22iconColor%22%3A%20%22white%22%2C%20%22markerColor%22%3A%20%22blue%22%2C%20%22prefix%22%3A%20%22glyphicon%22%7D%0A%20%20%20%20%20%20%20%20%20%20%20%20%29%3B%0A%20%20%20%20%20%20%20%20%20%20%20%20marker_3f014c424674418cb56a9a481203f05d.setIcon%28icon_e20b29add3ae4d26adfeca08c7988fac%29%3B%0A%20%20%20%20%20%20%20%20%0A%20%20%20%20%0A%20%20%20%20%20%20%20%20var%20popup_abce2f4585c740f48d73a151b2c08e47%20%3D%20L.popup%28%7B%22maxWidth%22%3A%20150%7D%29%3B%0A%0A%20%20%20%20%20%20%20%20%0A%20%20%20%20%20%20%20%20%20%20%20%20var%20html_85a2f141047343dbb64147fb8526c1c4%20%3D%20%24%28%60%3Cdiv%20id%3D%22html_85a2f141047343dbb64147fb8526c1c4%22%20style%3D%22width%3A%20100.0%25%3B%20height%3A%20100.0%25%3B%22%3E%EB%B0%A9%ED%99%94%EB%8C%80%EC%84%B1%EC%A3%BC%EC%9C%A0%EC%86%8C%3C/div%3E%60%29%5B0%5D%3B%0A%20%20%20%20%20%20%20%20%20%20%20%20popup_abce2f4585c740f48d73a151b2c08e47.setContent%28html_85a2f141047343dbb64147fb8526c1c4%29%3B%0A%20%20%20%20%20%20%20%20%0A%0A%20%20%20%20%20%20%20%20marker_3f014c424674418cb56a9a481203f05d.bindPopup%28popup_abce2f4585c740f48d73a151b2c08e47%29%0A%20%20%20%20%20%20%20%20%3B%0A%0A%20%20%20%20%20%20%20%20%0A%20%20%20%20%0A%20%20%20%20%0A%20%20%20%20%20%20%20%20%20%20%20%20marker_3f014c424674418cb56a9a481203f05d.bindTooltip%28%0A%20%20%20%20%20%20%20%20%20%20%20%20%20%20%20%20%60%3Cdiv%3E%0A%20%20%20%20%20%20%20%20%20%20%20%20%20%20%20%20%20%20%20%20%20%ED%9C%98%EB%B0%9C%EC%9C%A0%3A1365%EC%9B%90%2C%20%EA%B0%80%EC%86%94%EB%A6%B0%3A1175%EC%9B%90%0A%20%20%20%20%20%20%20%20%20%20%20%20%20%20%20%20%20%3C/div%3E%60%2C%0A%20%20%20%20%20%20%20%20%20%20%20%20%20%20%20%20%7B%22sticky%22%3A%20true%7D%0A%20%20%20%20%20%20%20%20%20%20%20%20%29%3B%0A%20%20%20%20%20%20%20%20%0A%3C/script%3E onload=\"this.contentDocument.open();this.contentDocument.write(    decodeURIComponent(this.getAttribute('data-html')));this.contentDocument.close();\" allowfullscreen webkitallowfullscreen mozallowfullscreen></iframe></div></div>"
     },
     "metadata": {},
     "execution_count": 31
    }
   ],
   "source": [
    "map = folium.Map(location=[station_data['lat'].mean(), station_data['lng'].mean()], zoom_start=13)\n",
    "\n",
    "for i in station_data.index:\n",
    "    frame = f\"{station_data['station_name'][i]}\"\n",
    "    popup = folium.Popup(frame, max_width=150)\n",
    "    if station_data['gasoline_price'][i] == min(station_data['gasoline_price']):\n",
    "        folium.Marker(\n",
    "            location = [station_data['lat'][i], station_data['lng'][i]],\n",
    "            tooltip=(f\"휘발유:{station_data['gasoline_price'][i]}원, 가솔린:{station_data['diesel_price'][i]}원\"),\n",
    "            popup=popup,\n",
    "            icon=folium.Icon(color='red', icon='thumbs-up')\n",
    "            ).add_to(map)\n",
    "    else:\n",
    "        folium.Marker(\n",
    "            location = [station_data['lat'][i], station_data['lng'][i]],\n",
    "            tooltip=(f\"휘발유:{station_data['gasoline_price'][i]}원, 가솔린:{station_data['diesel_price'][i]}원\"),\n",
    "            popup=popup,\n",
    "            icon=folium.Icon(color='blue', icon='tint')\n",
    "            ).add_to(map)\n",
    "map"
   ]
  },
  {
   "source": [
    "### 4. opinet에서 도로명주소까지 갖고와서 카카오맵에서 주소로 위도,경도 갖고오기"
   ],
   "cell_type": "markdown",
   "metadata": {}
  },
  {
   "cell_type": "code",
   "execution_count": 35,
   "metadata": {},
   "outputs": [],
   "source": [
    "driver = webdriver.Chrome('./chromedriver')\n",
    "driver.maximize_window()\n",
    "driver.get('http://www.opinet.co.kr/searRgSelect.do')\n",
    "time.sleep(2)\n",
    "\n",
    "driver.find_element_by_css_selector('.ic_m1').click()\n",
    "time.sleep(2)\n",
    "driver.find_element_by_xpath('//*[@id=\"SEARCH_MOD4\"]').click()\n",
    "time.sleep(1)\n",
    "\n",
    "station_list = ['우장산주유소', '직영관문주유소', '화곡현대주유소', '신화곡주유소', '경인고속주유소', '목화주유소', '뉴신정주유소', '화곡역주유소', '마곡대성주유소', '방화대성주유소']\n",
    "gasoline_list = []; diesel_list = []; addr_list=[]; tel_list=[]\n",
    "for station in station_list:\n",
    "    search = driver.find_element_by_xpath('//*[@id=\"OS_NM\"]')\n",
    "    time.sleep(1)\n",
    "    search.clear()\n",
    "    time.sleep(2)\n",
    "    search.send_keys(station)\n",
    "    time.sleep(1)\n",
    "    search.submit()\n",
    "    time.sleep(1)\n",
    "    driver.find_element_by_xpath('//*[@id=\"body1\"]/tr/td[1]/a').click()\n",
    "    map_move = driver.find_element_by_xpath('//*[@id=\"map_div\"]/div[4]/div[2]/div[2]/div/div[3]').click()\n",
    "    time.sleep(1)\n",
    "    tel = driver.find_element_by_xpath('//*[@id=\"phn_no\"]').text\n",
    "    addr = driver.find_element_by_xpath('//*[@id=\"rd_addr\"]').text\n",
    "    gasoline = driver.find_element_by_xpath('//*[@id=\"body1\"]/tr/td[2]').text\n",
    "    diesel = driver.find_element_by_xpath('//*[@id=\"body1\"]/tr/td[3]/font').text\n",
    "    time.sleep(10)\n",
    "\n",
    "    addr_list.append(addr)\n",
    "    tel_list.append(tel)\n",
    "    gasoline_list.append(int(gasoline))\n",
    "    diesel_list.append(int(diesel))\n",
    "\n",
    "driver.quit()"
   ]
  },
  {
   "cell_type": "code",
   "execution_count": 36,
   "metadata": {},
   "outputs": [
    {
     "output_type": "execute_result",
     "data": {
      "text/plain": [
       "  station_name                  address           tel  gasoline  diesel\n",
       "0       우장산주유소    서울 강서구 강서로 292 (내발산동)  02-3664-7163      1358    1187\n",
       "1      직영관문주유소          서울 강서구 공항대로 314  02-3665-2051      1358    1187\n",
       "2      화곡현대주유소     서울 강서구 강서로 151 (화곡동)  02-2607-1942      1326    1126\n",
       "3       신화곡주유소           서울 강서구 국회대로 71  02-2611-3161      1315    1115\n",
       "4      경인고속주유소    서울 강서구 국회대로 225 (화곡동)  02-2608-5151      1266    1072\n",
       "5        목화주유소    서울 강서구 국회대로 251 (화곡동)  02-2654-4564      1266    1072\n",
       "6       뉴신정주유소     서울 강서구 곰달래로 207(화곡동)  02-2601-0077      1243    1043\n",
       "7       화곡역주유소  서울특별시 강서구 강서로 154 (화곡동)  02-2691-5151      1243    1043\n",
       "8      마곡대성주유소           서울 강서구 강서로 457  02-3664-7781      1365    1185\n",
       "9      방화대성주유소           서울 강서구 양천로 176  02-3663-7781      1365    1175"
      ],
      "text/html": "<div>\n<style scoped>\n    .dataframe tbody tr th:only-of-type {\n        vertical-align: middle;\n    }\n\n    .dataframe tbody tr th {\n        vertical-align: top;\n    }\n\n    .dataframe thead th {\n        text-align: right;\n    }\n</style>\n<table border=\"1\" class=\"dataframe\">\n  <thead>\n    <tr style=\"text-align: right;\">\n      <th></th>\n      <th>station_name</th>\n      <th>address</th>\n      <th>tel</th>\n      <th>gasoline</th>\n      <th>diesel</th>\n    </tr>\n  </thead>\n  <tbody>\n    <tr>\n      <th>0</th>\n      <td>우장산주유소</td>\n      <td>서울 강서구 강서로 292 (내발산동)</td>\n      <td>02-3664-7163</td>\n      <td>1358</td>\n      <td>1187</td>\n    </tr>\n    <tr>\n      <th>1</th>\n      <td>직영관문주유소</td>\n      <td>서울 강서구 공항대로 314</td>\n      <td>02-3665-2051</td>\n      <td>1358</td>\n      <td>1187</td>\n    </tr>\n    <tr>\n      <th>2</th>\n      <td>화곡현대주유소</td>\n      <td>서울 강서구 강서로 151 (화곡동)</td>\n      <td>02-2607-1942</td>\n      <td>1326</td>\n      <td>1126</td>\n    </tr>\n    <tr>\n      <th>3</th>\n      <td>신화곡주유소</td>\n      <td>서울 강서구 국회대로 71</td>\n      <td>02-2611-3161</td>\n      <td>1315</td>\n      <td>1115</td>\n    </tr>\n    <tr>\n      <th>4</th>\n      <td>경인고속주유소</td>\n      <td>서울 강서구 국회대로 225 (화곡동)</td>\n      <td>02-2608-5151</td>\n      <td>1266</td>\n      <td>1072</td>\n    </tr>\n    <tr>\n      <th>5</th>\n      <td>목화주유소</td>\n      <td>서울 강서구 국회대로 251 (화곡동)</td>\n      <td>02-2654-4564</td>\n      <td>1266</td>\n      <td>1072</td>\n    </tr>\n    <tr>\n      <th>6</th>\n      <td>뉴신정주유소</td>\n      <td>서울 강서구 곰달래로 207(화곡동)</td>\n      <td>02-2601-0077</td>\n      <td>1243</td>\n      <td>1043</td>\n    </tr>\n    <tr>\n      <th>7</th>\n      <td>화곡역주유소</td>\n      <td>서울특별시 강서구 강서로 154 (화곡동)</td>\n      <td>02-2691-5151</td>\n      <td>1243</td>\n      <td>1043</td>\n    </tr>\n    <tr>\n      <th>8</th>\n      <td>마곡대성주유소</td>\n      <td>서울 강서구 강서로 457</td>\n      <td>02-3664-7781</td>\n      <td>1365</td>\n      <td>1185</td>\n    </tr>\n    <tr>\n      <th>9</th>\n      <td>방화대성주유소</td>\n      <td>서울 강서구 양천로 176</td>\n      <td>02-3663-7781</td>\n      <td>1365</td>\n      <td>1175</td>\n    </tr>\n  </tbody>\n</table>\n</div>"
     },
     "metadata": {},
     "execution_count": 36
    }
   ],
   "source": [
    "df2 = pd.DataFrame({\n",
    "    'station_name':station_list,\n",
    "    'address':addr_list,\n",
    "    'tel':tel_list,\n",
    "    'gasoline':gasoline_list,\n",
    "    'diesel':diesel_list\n",
    "})\n",
    "df2"
   ]
  },
  {
   "cell_type": "code",
   "execution_count": 37,
   "metadata": {},
   "outputs": [],
   "source": [
    "lat_list = []; lng_list = []\n",
    "for i in df.index:\n",
    "    url = 'https://dapi.kakao.com/v2/local/search/address.json?query=' + quote(df['address'][i])\n",
    "    result = requests.get(url,\n",
    "            headers={\"Authorization\": \"KakaoAK \"+kmap_key}).json()\n",
    "    lat = float(result['documents'][0]['y'])\n",
    "    lng = float(result['documents'][0]['x'])\n",
    "    lat_list.append(lat)\n",
    "    lng_list.append(lng)"
   ]
  },
  {
   "cell_type": "code",
   "execution_count": 40,
   "metadata": {},
   "outputs": [
    {
     "output_type": "execute_result",
     "data": {
      "text/plain": [
       "  station_name                  address           tel  gasoline  diesel  \\\n",
       "0       우장산주유소    서울 강서구 강서로 292 (내발산동)  02-3664-7163      1358    1187   \n",
       "1      직영관문주유소          서울 강서구 공항대로 314  02-3665-2051      1358    1187   \n",
       "2      화곡현대주유소     서울 강서구 강서로 151 (화곡동)  02-2607-1942      1326    1126   \n",
       "3       신화곡주유소           서울 강서구 국회대로 71  02-2611-3161      1315    1115   \n",
       "4      경인고속주유소    서울 강서구 국회대로 225 (화곡동)  02-2608-5151      1266    1072   \n",
       "5        목화주유소    서울 강서구 국회대로 251 (화곡동)  02-2654-4564      1266    1072   \n",
       "6       뉴신정주유소     서울 강서구 곰달래로 207(화곡동)  02-2601-0077      1243    1043   \n",
       "7       화곡역주유소  서울특별시 강서구 강서로 154 (화곡동)  02-2691-5151      1243    1043   \n",
       "8      마곡대성주유소           서울 강서구 강서로 457  02-3664-7781      1365    1185   \n",
       "9      방화대성주유소           서울 강서구 양천로 176  02-3663-7781      1365    1175   \n",
       "\n",
       "         lat         lng  \n",
       "0  37.531562  126.856035  \n",
       "1  37.540768  126.841472  \n",
       "2  37.529645  126.859835  \n",
       "3  37.530055  126.862834  \n",
       "4  37.527320  126.842879  \n",
       "5  37.540242  126.841164  \n",
       "6  37.551803  126.836681  \n",
       "7  37.557842  126.842395  \n",
       "8  37.566243  126.840421  \n",
       "9  37.572898  126.823440  "
      ],
      "text/html": "<div>\n<style scoped>\n    .dataframe tbody tr th:only-of-type {\n        vertical-align: middle;\n    }\n\n    .dataframe tbody tr th {\n        vertical-align: top;\n    }\n\n    .dataframe thead th {\n        text-align: right;\n    }\n</style>\n<table border=\"1\" class=\"dataframe\">\n  <thead>\n    <tr style=\"text-align: right;\">\n      <th></th>\n      <th>station_name</th>\n      <th>address</th>\n      <th>tel</th>\n      <th>gasoline</th>\n      <th>diesel</th>\n      <th>lat</th>\n      <th>lng</th>\n    </tr>\n  </thead>\n  <tbody>\n    <tr>\n      <th>0</th>\n      <td>우장산주유소</td>\n      <td>서울 강서구 강서로 292 (내발산동)</td>\n      <td>02-3664-7163</td>\n      <td>1358</td>\n      <td>1187</td>\n      <td>37.531562</td>\n      <td>126.856035</td>\n    </tr>\n    <tr>\n      <th>1</th>\n      <td>직영관문주유소</td>\n      <td>서울 강서구 공항대로 314</td>\n      <td>02-3665-2051</td>\n      <td>1358</td>\n      <td>1187</td>\n      <td>37.540768</td>\n      <td>126.841472</td>\n    </tr>\n    <tr>\n      <th>2</th>\n      <td>화곡현대주유소</td>\n      <td>서울 강서구 강서로 151 (화곡동)</td>\n      <td>02-2607-1942</td>\n      <td>1326</td>\n      <td>1126</td>\n      <td>37.529645</td>\n      <td>126.859835</td>\n    </tr>\n    <tr>\n      <th>3</th>\n      <td>신화곡주유소</td>\n      <td>서울 강서구 국회대로 71</td>\n      <td>02-2611-3161</td>\n      <td>1315</td>\n      <td>1115</td>\n      <td>37.530055</td>\n      <td>126.862834</td>\n    </tr>\n    <tr>\n      <th>4</th>\n      <td>경인고속주유소</td>\n      <td>서울 강서구 국회대로 225 (화곡동)</td>\n      <td>02-2608-5151</td>\n      <td>1266</td>\n      <td>1072</td>\n      <td>37.527320</td>\n      <td>126.842879</td>\n    </tr>\n    <tr>\n      <th>5</th>\n      <td>목화주유소</td>\n      <td>서울 강서구 국회대로 251 (화곡동)</td>\n      <td>02-2654-4564</td>\n      <td>1266</td>\n      <td>1072</td>\n      <td>37.540242</td>\n      <td>126.841164</td>\n    </tr>\n    <tr>\n      <th>6</th>\n      <td>뉴신정주유소</td>\n      <td>서울 강서구 곰달래로 207(화곡동)</td>\n      <td>02-2601-0077</td>\n      <td>1243</td>\n      <td>1043</td>\n      <td>37.551803</td>\n      <td>126.836681</td>\n    </tr>\n    <tr>\n      <th>7</th>\n      <td>화곡역주유소</td>\n      <td>서울특별시 강서구 강서로 154 (화곡동)</td>\n      <td>02-2691-5151</td>\n      <td>1243</td>\n      <td>1043</td>\n      <td>37.557842</td>\n      <td>126.842395</td>\n    </tr>\n    <tr>\n      <th>8</th>\n      <td>마곡대성주유소</td>\n      <td>서울 강서구 강서로 457</td>\n      <td>02-3664-7781</td>\n      <td>1365</td>\n      <td>1185</td>\n      <td>37.566243</td>\n      <td>126.840421</td>\n    </tr>\n    <tr>\n      <th>9</th>\n      <td>방화대성주유소</td>\n      <td>서울 강서구 양천로 176</td>\n      <td>02-3663-7781</td>\n      <td>1365</td>\n      <td>1175</td>\n      <td>37.572898</td>\n      <td>126.823440</td>\n    </tr>\n  </tbody>\n</table>\n</div>"
     },
     "metadata": {},
     "execution_count": 40
    }
   ],
   "source": [
    "df2['lat'] = lat_list; df2['lng'] = lng_list\n",
    "df2"
   ]
  },
  {
   "cell_type": "code",
   "execution_count": 41,
   "metadata": {},
   "outputs": [
    {
     "output_type": "execute_result",
     "data": {
      "text/plain": [
       "<folium.folium.Map at 0x21b45a5c550>"
      ],
      "text/html": "<div style=\"width:100%;\"><div style=\"position:relative;width:100%;height:0;padding-bottom:60%;\"><span style=\"color:#565656\">Make this Notebook Trusted to load map: File -> Trust Notebook</span><iframe src=\"about:blank\" style=\"position:absolute;width:100%;height:100%;left:0;top:0;border:none !important;\" data-html=%3C%21DOCTYPE%20html%3E%0A%3Chead%3E%20%20%20%20%0A%20%20%20%20%3Cmeta%20http-equiv%3D%22content-type%22%20content%3D%22text/html%3B%20charset%3DUTF-8%22%20/%3E%0A%20%20%20%20%0A%20%20%20%20%20%20%20%20%3Cscript%3E%0A%20%20%20%20%20%20%20%20%20%20%20%20L_NO_TOUCH%20%3D%20false%3B%0A%20%20%20%20%20%20%20%20%20%20%20%20L_DISABLE_3D%20%3D%20false%3B%0A%20%20%20%20%20%20%20%20%3C/script%3E%0A%20%20%20%20%0A%20%20%20%20%3Cscript%20src%3D%22https%3A//cdn.jsdelivr.net/npm/leaflet%401.6.0/dist/leaflet.js%22%3E%3C/script%3E%0A%20%20%20%20%3Cscript%20src%3D%22https%3A//code.jquery.com/jquery-1.12.4.min.js%22%3E%3C/script%3E%0A%20%20%20%20%3Cscript%20src%3D%22https%3A//maxcdn.bootstrapcdn.com/bootstrap/3.2.0/js/bootstrap.min.js%22%3E%3C/script%3E%0A%20%20%20%20%3Cscript%20src%3D%22https%3A//cdnjs.cloudflare.com/ajax/libs/Leaflet.awesome-markers/2.0.2/leaflet.awesome-markers.js%22%3E%3C/script%3E%0A%20%20%20%20%3Clink%20rel%3D%22stylesheet%22%20href%3D%22https%3A//cdn.jsdelivr.net/npm/leaflet%401.6.0/dist/leaflet.css%22/%3E%0A%20%20%20%20%3Clink%20rel%3D%22stylesheet%22%20href%3D%22https%3A//maxcdn.bootstrapcdn.com/bootstrap/3.2.0/css/bootstrap.min.css%22/%3E%0A%20%20%20%20%3Clink%20rel%3D%22stylesheet%22%20href%3D%22https%3A//maxcdn.bootstrapcdn.com/bootstrap/3.2.0/css/bootstrap-theme.min.css%22/%3E%0A%20%20%20%20%3Clink%20rel%3D%22stylesheet%22%20href%3D%22https%3A//maxcdn.bootstrapcdn.com/font-awesome/4.6.3/css/font-awesome.min.css%22/%3E%0A%20%20%20%20%3Clink%20rel%3D%22stylesheet%22%20href%3D%22https%3A//cdnjs.cloudflare.com/ajax/libs/Leaflet.awesome-markers/2.0.2/leaflet.awesome-markers.css%22/%3E%0A%20%20%20%20%3Clink%20rel%3D%22stylesheet%22%20href%3D%22https%3A//rawcdn.githack.com/python-visualization/folium/master/folium/templates/leaflet.awesome.rotate.css%22/%3E%0A%20%20%20%20%3Cstyle%3Ehtml%2C%20body%20%7Bwidth%3A%20100%25%3Bheight%3A%20100%25%3Bmargin%3A%200%3Bpadding%3A%200%3B%7D%3C/style%3E%0A%20%20%20%20%3Cstyle%3E%23map%20%7Bposition%3Aabsolute%3Btop%3A0%3Bbottom%3A0%3Bright%3A0%3Bleft%3A0%3B%7D%3C/style%3E%0A%20%20%20%20%0A%20%20%20%20%20%20%20%20%20%20%20%20%3Cmeta%20name%3D%22viewport%22%20content%3D%22width%3Ddevice-width%2C%0A%20%20%20%20%20%20%20%20%20%20%20%20%20%20%20%20initial-scale%3D1.0%2C%20maximum-scale%3D1.0%2C%20user-scalable%3Dno%22%20/%3E%0A%20%20%20%20%20%20%20%20%20%20%20%20%3Cstyle%3E%0A%20%20%20%20%20%20%20%20%20%20%20%20%20%20%20%20%23map_26c5eff21f3843cfa0b3a84ae0970439%20%7B%0A%20%20%20%20%20%20%20%20%20%20%20%20%20%20%20%20%20%20%20%20position%3A%20relative%3B%0A%20%20%20%20%20%20%20%20%20%20%20%20%20%20%20%20%20%20%20%20width%3A%20100.0%25%3B%0A%20%20%20%20%20%20%20%20%20%20%20%20%20%20%20%20%20%20%20%20height%3A%20100.0%25%3B%0A%20%20%20%20%20%20%20%20%20%20%20%20%20%20%20%20%20%20%20%20left%3A%200.0%25%3B%0A%20%20%20%20%20%20%20%20%20%20%20%20%20%20%20%20%20%20%20%20top%3A%200.0%25%3B%0A%20%20%20%20%20%20%20%20%20%20%20%20%20%20%20%20%7D%0A%20%20%20%20%20%20%20%20%20%20%20%20%3C/style%3E%0A%20%20%20%20%20%20%20%20%0A%3C/head%3E%0A%3Cbody%3E%20%20%20%20%0A%20%20%20%20%0A%20%20%20%20%20%20%20%20%20%20%20%20%3Cdiv%20class%3D%22folium-map%22%20id%3D%22map_26c5eff21f3843cfa0b3a84ae0970439%22%20%3E%3C/div%3E%0A%20%20%20%20%20%20%20%20%0A%3C/body%3E%0A%3Cscript%3E%20%20%20%20%0A%20%20%20%20%0A%20%20%20%20%20%20%20%20%20%20%20%20var%20map_26c5eff21f3843cfa0b3a84ae0970439%20%3D%20L.map%28%0A%20%20%20%20%20%20%20%20%20%20%20%20%20%20%20%20%22map_26c5eff21f3843cfa0b3a84ae0970439%22%2C%0A%20%20%20%20%20%20%20%20%20%20%20%20%20%20%20%20%7B%0A%20%20%20%20%20%20%20%20%20%20%20%20%20%20%20%20%20%20%20%20center%3A%20%5B37.544837922311785%2C%20126.8447156401043%5D%2C%0A%20%20%20%20%20%20%20%20%20%20%20%20%20%20%20%20%20%20%20%20crs%3A%20L.CRS.EPSG3857%2C%0A%20%20%20%20%20%20%20%20%20%20%20%20%20%20%20%20%20%20%20%20zoom%3A%2013%2C%0A%20%20%20%20%20%20%20%20%20%20%20%20%20%20%20%20%20%20%20%20zoomControl%3A%20true%2C%0A%20%20%20%20%20%20%20%20%20%20%20%20%20%20%20%20%20%20%20%20preferCanvas%3A%20false%2C%0A%20%20%20%20%20%20%20%20%20%20%20%20%20%20%20%20%7D%0A%20%20%20%20%20%20%20%20%20%20%20%20%29%3B%0A%0A%20%20%20%20%20%20%20%20%20%20%20%20%0A%0A%20%20%20%20%20%20%20%20%0A%20%20%20%20%0A%20%20%20%20%20%20%20%20%20%20%20%20var%20tile_layer_efe66592f7754b8a9a52f4bc7fa0d9ce%20%3D%20L.tileLayer%28%0A%20%20%20%20%20%20%20%20%20%20%20%20%20%20%20%20%22https%3A//%7Bs%7D.tile.openstreetmap.org/%7Bz%7D/%7Bx%7D/%7By%7D.png%22%2C%0A%20%20%20%20%20%20%20%20%20%20%20%20%20%20%20%20%7B%22attribution%22%3A%20%22Data%20by%20%5Cu0026copy%3B%20%5Cu003ca%20href%3D%5C%22http%3A//openstreetmap.org%5C%22%5Cu003eOpenStreetMap%5Cu003c/a%5Cu003e%2C%20under%20%5Cu003ca%20href%3D%5C%22http%3A//www.openstreetmap.org/copyright%5C%22%5Cu003eODbL%5Cu003c/a%5Cu003e.%22%2C%20%22detectRetina%22%3A%20false%2C%20%22maxNativeZoom%22%3A%2018%2C%20%22maxZoom%22%3A%2018%2C%20%22minZoom%22%3A%200%2C%20%22noWrap%22%3A%20false%2C%20%22opacity%22%3A%201%2C%20%22subdomains%22%3A%20%22abc%22%2C%20%22tms%22%3A%20false%7D%0A%20%20%20%20%20%20%20%20%20%20%20%20%29.addTo%28map_26c5eff21f3843cfa0b3a84ae0970439%29%3B%0A%20%20%20%20%20%20%20%20%0A%20%20%20%20%0A%20%20%20%20%20%20%20%20%20%20%20%20var%20marker_dab7f3901b724bf5b877759b26abbb26%20%3D%20L.marker%28%0A%20%20%20%20%20%20%20%20%20%20%20%20%20%20%20%20%5B37.5315624983884%2C%20126.856035365887%5D%2C%0A%20%20%20%20%20%20%20%20%20%20%20%20%20%20%20%20%7B%7D%0A%20%20%20%20%20%20%20%20%20%20%20%20%29.addTo%28map_26c5eff21f3843cfa0b3a84ae0970439%29%3B%0A%20%20%20%20%20%20%20%20%0A%20%20%20%20%0A%20%20%20%20%20%20%20%20%20%20%20%20var%20icon_68e0005c2edf4e188bb1086a6589145d%20%3D%20L.AwesomeMarkers.icon%28%0A%20%20%20%20%20%20%20%20%20%20%20%20%20%20%20%20%7B%22extraClasses%22%3A%20%22fa-rotate-0%22%2C%20%22icon%22%3A%20%22tint%22%2C%20%22iconColor%22%3A%20%22white%22%2C%20%22markerColor%22%3A%20%22blue%22%2C%20%22prefix%22%3A%20%22glyphicon%22%7D%0A%20%20%20%20%20%20%20%20%20%20%20%20%29%3B%0A%20%20%20%20%20%20%20%20%20%20%20%20marker_dab7f3901b724bf5b877759b26abbb26.setIcon%28icon_68e0005c2edf4e188bb1086a6589145d%29%3B%0A%20%20%20%20%20%20%20%20%0A%20%20%20%20%0A%20%20%20%20%20%20%20%20var%20popup_e0d1cc2fd907488fbb420b86115063b0%20%3D%20L.popup%28%7B%22maxWidth%22%3A%20130%7D%29%3B%0A%0A%20%20%20%20%20%20%20%20%0A%20%20%20%20%20%20%20%20%20%20%20%20var%20html_8d492f7adac94c5b9b16b69ef0edce68%20%3D%20%24%28%60%3Cdiv%20id%3D%22html_8d492f7adac94c5b9b16b69ef0edce68%22%20style%3D%22width%3A%20100.0%25%3B%20height%3A%20100.0%25%3B%22%3E%EC%9A%B0%EC%9E%A5%EC%82%B0%EC%A3%BC%EC%9C%A0%EC%86%8C%3C/div%3E%60%29%5B0%5D%3B%0A%20%20%20%20%20%20%20%20%20%20%20%20popup_e0d1cc2fd907488fbb420b86115063b0.setContent%28html_8d492f7adac94c5b9b16b69ef0edce68%29%3B%0A%20%20%20%20%20%20%20%20%0A%0A%20%20%20%20%20%20%20%20marker_dab7f3901b724bf5b877759b26abbb26.bindPopup%28popup_e0d1cc2fd907488fbb420b86115063b0%29%0A%20%20%20%20%20%20%20%20%3B%0A%0A%20%20%20%20%20%20%20%20%0A%20%20%20%20%0A%20%20%20%20%0A%20%20%20%20%20%20%20%20%20%20%20%20marker_dab7f3901b724bf5b877759b26abbb26.bindTooltip%28%0A%20%20%20%20%20%20%20%20%20%20%20%20%20%20%20%20%60%3Cdiv%3E%0A%20%20%20%20%20%20%20%20%20%20%20%20%20%20%20%20%20%20%20%20%20%ED%9C%98%EB%B0%9C%EC%9C%A0%3A1358%EC%9B%90%2C%20%EA%B0%80%EC%86%94%EB%A6%B0%3A1187%EC%9B%90%0A%20%20%20%20%20%20%20%20%20%20%20%20%20%20%20%20%20%3C/div%3E%60%2C%0A%20%20%20%20%20%20%20%20%20%20%20%20%20%20%20%20%7B%22sticky%22%3A%20true%7D%0A%20%20%20%20%20%20%20%20%20%20%20%20%29%3B%0A%20%20%20%20%20%20%20%20%0A%20%20%20%20%0A%20%20%20%20%20%20%20%20%20%20%20%20var%20marker_2ef644a754a44486adff13618cf96f31%20%3D%20L.marker%28%0A%20%20%20%20%20%20%20%20%20%20%20%20%20%20%20%20%5B37.5407680113225%2C%20126.8414715329%5D%2C%0A%20%20%20%20%20%20%20%20%20%20%20%20%20%20%20%20%7B%7D%0A%20%20%20%20%20%20%20%20%20%20%20%20%29.addTo%28map_26c5eff21f3843cfa0b3a84ae0970439%29%3B%0A%20%20%20%20%20%20%20%20%0A%20%20%20%20%0A%20%20%20%20%20%20%20%20%20%20%20%20var%20icon_c3019b8efc524514b6da349439c8340e%20%3D%20L.AwesomeMarkers.icon%28%0A%20%20%20%20%20%20%20%20%20%20%20%20%20%20%20%20%7B%22extraClasses%22%3A%20%22fa-rotate-0%22%2C%20%22icon%22%3A%20%22tint%22%2C%20%22iconColor%22%3A%20%22white%22%2C%20%22markerColor%22%3A%20%22blue%22%2C%20%22prefix%22%3A%20%22glyphicon%22%7D%0A%20%20%20%20%20%20%20%20%20%20%20%20%29%3B%0A%20%20%20%20%20%20%20%20%20%20%20%20marker_2ef644a754a44486adff13618cf96f31.setIcon%28icon_c3019b8efc524514b6da349439c8340e%29%3B%0A%20%20%20%20%20%20%20%20%0A%20%20%20%20%0A%20%20%20%20%20%20%20%20var%20popup_b383a66ba8e34d80bd873c0e2e3aef44%20%3D%20L.popup%28%7B%22maxWidth%22%3A%20130%7D%29%3B%0A%0A%20%20%20%20%20%20%20%20%0A%20%20%20%20%20%20%20%20%20%20%20%20var%20html_29d971a8059842e0ab997374965ae68d%20%3D%20%24%28%60%3Cdiv%20id%3D%22html_29d971a8059842e0ab997374965ae68d%22%20style%3D%22width%3A%20100.0%25%3B%20height%3A%20100.0%25%3B%22%3E%EC%A7%81%EC%98%81%EA%B4%80%EB%AC%B8%EC%A3%BC%EC%9C%A0%EC%86%8C%3C/div%3E%60%29%5B0%5D%3B%0A%20%20%20%20%20%20%20%20%20%20%20%20popup_b383a66ba8e34d80bd873c0e2e3aef44.setContent%28html_29d971a8059842e0ab997374965ae68d%29%3B%0A%20%20%20%20%20%20%20%20%0A%0A%20%20%20%20%20%20%20%20marker_2ef644a754a44486adff13618cf96f31.bindPopup%28popup_b383a66ba8e34d80bd873c0e2e3aef44%29%0A%20%20%20%20%20%20%20%20%3B%0A%0A%20%20%20%20%20%20%20%20%0A%20%20%20%20%0A%20%20%20%20%0A%20%20%20%20%20%20%20%20%20%20%20%20marker_2ef644a754a44486adff13618cf96f31.bindTooltip%28%0A%20%20%20%20%20%20%20%20%20%20%20%20%20%20%20%20%60%3Cdiv%3E%0A%20%20%20%20%20%20%20%20%20%20%20%20%20%20%20%20%20%20%20%20%20%ED%9C%98%EB%B0%9C%EC%9C%A0%3A1358%EC%9B%90%2C%20%EA%B0%80%EC%86%94%EB%A6%B0%3A1187%EC%9B%90%0A%20%20%20%20%20%20%20%20%20%20%20%20%20%20%20%20%20%3C/div%3E%60%2C%0A%20%20%20%20%20%20%20%20%20%20%20%20%20%20%20%20%7B%22sticky%22%3A%20true%7D%0A%20%20%20%20%20%20%20%20%20%20%20%20%29%3B%0A%20%20%20%20%20%20%20%20%0A%20%20%20%20%0A%20%20%20%20%20%20%20%20%20%20%20%20var%20marker_33741dce8d4940e8a8e3d52e93853b39%20%3D%20L.marker%28%0A%20%20%20%20%20%20%20%20%20%20%20%20%20%20%20%20%5B37.5296452344476%2C%20126.859834931985%5D%2C%0A%20%20%20%20%20%20%20%20%20%20%20%20%20%20%20%20%7B%7D%0A%20%20%20%20%20%20%20%20%20%20%20%20%29.addTo%28map_26c5eff21f3843cfa0b3a84ae0970439%29%3B%0A%20%20%20%20%20%20%20%20%0A%20%20%20%20%0A%20%20%20%20%20%20%20%20%20%20%20%20var%20icon_ac4c2e09bd814ac7b3d2ed79f873fdde%20%3D%20L.AwesomeMarkers.icon%28%0A%20%20%20%20%20%20%20%20%20%20%20%20%20%20%20%20%7B%22extraClasses%22%3A%20%22fa-rotate-0%22%2C%20%22icon%22%3A%20%22tint%22%2C%20%22iconColor%22%3A%20%22white%22%2C%20%22markerColor%22%3A%20%22blue%22%2C%20%22prefix%22%3A%20%22glyphicon%22%7D%0A%20%20%20%20%20%20%20%20%20%20%20%20%29%3B%0A%20%20%20%20%20%20%20%20%20%20%20%20marker_33741dce8d4940e8a8e3d52e93853b39.setIcon%28icon_ac4c2e09bd814ac7b3d2ed79f873fdde%29%3B%0A%20%20%20%20%20%20%20%20%0A%20%20%20%20%0A%20%20%20%20%20%20%20%20var%20popup_6121a673b9844665b54789e611e99138%20%3D%20L.popup%28%7B%22maxWidth%22%3A%20130%7D%29%3B%0A%0A%20%20%20%20%20%20%20%20%0A%20%20%20%20%20%20%20%20%20%20%20%20var%20html_329b308557344f699c444663b4f265da%20%3D%20%24%28%60%3Cdiv%20id%3D%22html_329b308557344f699c444663b4f265da%22%20style%3D%22width%3A%20100.0%25%3B%20height%3A%20100.0%25%3B%22%3E%ED%99%94%EA%B3%A1%ED%98%84%EB%8C%80%EC%A3%BC%EC%9C%A0%EC%86%8C%3C/div%3E%60%29%5B0%5D%3B%0A%20%20%20%20%20%20%20%20%20%20%20%20popup_6121a673b9844665b54789e611e99138.setContent%28html_329b308557344f699c444663b4f265da%29%3B%0A%20%20%20%20%20%20%20%20%0A%0A%20%20%20%20%20%20%20%20marker_33741dce8d4940e8a8e3d52e93853b39.bindPopup%28popup_6121a673b9844665b54789e611e99138%29%0A%20%20%20%20%20%20%20%20%3B%0A%0A%20%20%20%20%20%20%20%20%0A%20%20%20%20%0A%20%20%20%20%0A%20%20%20%20%20%20%20%20%20%20%20%20marker_33741dce8d4940e8a8e3d52e93853b39.bindTooltip%28%0A%20%20%20%20%20%20%20%20%20%20%20%20%20%20%20%20%60%3Cdiv%3E%0A%20%20%20%20%20%20%20%20%20%20%20%20%20%20%20%20%20%20%20%20%20%ED%9C%98%EB%B0%9C%EC%9C%A0%3A1326%EC%9B%90%2C%20%EA%B0%80%EC%86%94%EB%A6%B0%3A1126%EC%9B%90%0A%20%20%20%20%20%20%20%20%20%20%20%20%20%20%20%20%20%3C/div%3E%60%2C%0A%20%20%20%20%20%20%20%20%20%20%20%20%20%20%20%20%7B%22sticky%22%3A%20true%7D%0A%20%20%20%20%20%20%20%20%20%20%20%20%29%3B%0A%20%20%20%20%20%20%20%20%0A%20%20%20%20%0A%20%20%20%20%20%20%20%20%20%20%20%20var%20marker_d097bbd3bb17485c903d9e8d03aa83bf%20%3D%20L.marker%28%0A%20%20%20%20%20%20%20%20%20%20%20%20%20%20%20%20%5B37.5300548363879%2C%20126.862833597877%5D%2C%0A%20%20%20%20%20%20%20%20%20%20%20%20%20%20%20%20%7B%7D%0A%20%20%20%20%20%20%20%20%20%20%20%20%29.addTo%28map_26c5eff21f3843cfa0b3a84ae0970439%29%3B%0A%20%20%20%20%20%20%20%20%0A%20%20%20%20%0A%20%20%20%20%20%20%20%20%20%20%20%20var%20icon_a1a9fd11003c44d780a62a79ba6b81b1%20%3D%20L.AwesomeMarkers.icon%28%0A%20%20%20%20%20%20%20%20%20%20%20%20%20%20%20%20%7B%22extraClasses%22%3A%20%22fa-rotate-0%22%2C%20%22icon%22%3A%20%22tint%22%2C%20%22iconColor%22%3A%20%22white%22%2C%20%22markerColor%22%3A%20%22blue%22%2C%20%22prefix%22%3A%20%22glyphicon%22%7D%0A%20%20%20%20%20%20%20%20%20%20%20%20%29%3B%0A%20%20%20%20%20%20%20%20%20%20%20%20marker_d097bbd3bb17485c903d9e8d03aa83bf.setIcon%28icon_a1a9fd11003c44d780a62a79ba6b81b1%29%3B%0A%20%20%20%20%20%20%20%20%0A%20%20%20%20%0A%20%20%20%20%20%20%20%20var%20popup_bf43eb8e0db84348846ace5e80b2b34a%20%3D%20L.popup%28%7B%22maxWidth%22%3A%20130%7D%29%3B%0A%0A%20%20%20%20%20%20%20%20%0A%20%20%20%20%20%20%20%20%20%20%20%20var%20html_f6a7e33179e148e6963cedd648ba63a6%20%3D%20%24%28%60%3Cdiv%20id%3D%22html_f6a7e33179e148e6963cedd648ba63a6%22%20style%3D%22width%3A%20100.0%25%3B%20height%3A%20100.0%25%3B%22%3E%EC%8B%A0%ED%99%94%EA%B3%A1%EC%A3%BC%EC%9C%A0%EC%86%8C%3C/div%3E%60%29%5B0%5D%3B%0A%20%20%20%20%20%20%20%20%20%20%20%20popup_bf43eb8e0db84348846ace5e80b2b34a.setContent%28html_f6a7e33179e148e6963cedd648ba63a6%29%3B%0A%20%20%20%20%20%20%20%20%0A%0A%20%20%20%20%20%20%20%20marker_d097bbd3bb17485c903d9e8d03aa83bf.bindPopup%28popup_bf43eb8e0db84348846ace5e80b2b34a%29%0A%20%20%20%20%20%20%20%20%3B%0A%0A%20%20%20%20%20%20%20%20%0A%20%20%20%20%0A%20%20%20%20%0A%20%20%20%20%20%20%20%20%20%20%20%20marker_d097bbd3bb17485c903d9e8d03aa83bf.bindTooltip%28%0A%20%20%20%20%20%20%20%20%20%20%20%20%20%20%20%20%60%3Cdiv%3E%0A%20%20%20%20%20%20%20%20%20%20%20%20%20%20%20%20%20%20%20%20%20%ED%9C%98%EB%B0%9C%EC%9C%A0%3A1315%EC%9B%90%2C%20%EA%B0%80%EC%86%94%EB%A6%B0%3A1115%EC%9B%90%0A%20%20%20%20%20%20%20%20%20%20%20%20%20%20%20%20%20%3C/div%3E%60%2C%0A%20%20%20%20%20%20%20%20%20%20%20%20%20%20%20%20%7B%22sticky%22%3A%20true%7D%0A%20%20%20%20%20%20%20%20%20%20%20%20%29%3B%0A%20%20%20%20%20%20%20%20%0A%20%20%20%20%0A%20%20%20%20%20%20%20%20%20%20%20%20var%20marker_b76efc2ada0d41dc9296992a09a8659d%20%3D%20L.marker%28%0A%20%20%20%20%20%20%20%20%20%20%20%20%20%20%20%20%5B37.5273198541745%2C%20126.8428791732%5D%2C%0A%20%20%20%20%20%20%20%20%20%20%20%20%20%20%20%20%7B%7D%0A%20%20%20%20%20%20%20%20%20%20%20%20%29.addTo%28map_26c5eff21f3843cfa0b3a84ae0970439%29%3B%0A%20%20%20%20%20%20%20%20%0A%20%20%20%20%0A%20%20%20%20%20%20%20%20%20%20%20%20var%20icon_8ab5beaf2ffe4f068e490f0332ee8d37%20%3D%20L.AwesomeMarkers.icon%28%0A%20%20%20%20%20%20%20%20%20%20%20%20%20%20%20%20%7B%22extraClasses%22%3A%20%22fa-rotate-0%22%2C%20%22icon%22%3A%20%22tint%22%2C%20%22iconColor%22%3A%20%22white%22%2C%20%22markerColor%22%3A%20%22blue%22%2C%20%22prefix%22%3A%20%22glyphicon%22%7D%0A%20%20%20%20%20%20%20%20%20%20%20%20%29%3B%0A%20%20%20%20%20%20%20%20%20%20%20%20marker_b76efc2ada0d41dc9296992a09a8659d.setIcon%28icon_8ab5beaf2ffe4f068e490f0332ee8d37%29%3B%0A%20%20%20%20%20%20%20%20%0A%20%20%20%20%0A%20%20%20%20%20%20%20%20var%20popup_57484f9c8ab94f028043199aef4add59%20%3D%20L.popup%28%7B%22maxWidth%22%3A%20130%7D%29%3B%0A%0A%20%20%20%20%20%20%20%20%0A%20%20%20%20%20%20%20%20%20%20%20%20var%20html_fc69699853ed4ff38206f43227b2e1c0%20%3D%20%24%28%60%3Cdiv%20id%3D%22html_fc69699853ed4ff38206f43227b2e1c0%22%20style%3D%22width%3A%20100.0%25%3B%20height%3A%20100.0%25%3B%22%3E%EA%B2%BD%EC%9D%B8%EA%B3%A0%EC%86%8D%EC%A3%BC%EC%9C%A0%EC%86%8C%3C/div%3E%60%29%5B0%5D%3B%0A%20%20%20%20%20%20%20%20%20%20%20%20popup_57484f9c8ab94f028043199aef4add59.setContent%28html_fc69699853ed4ff38206f43227b2e1c0%29%3B%0A%20%20%20%20%20%20%20%20%0A%0A%20%20%20%20%20%20%20%20marker_b76efc2ada0d41dc9296992a09a8659d.bindPopup%28popup_57484f9c8ab94f028043199aef4add59%29%0A%20%20%20%20%20%20%20%20%3B%0A%0A%20%20%20%20%20%20%20%20%0A%20%20%20%20%0A%20%20%20%20%0A%20%20%20%20%20%20%20%20%20%20%20%20marker_b76efc2ada0d41dc9296992a09a8659d.bindTooltip%28%0A%20%20%20%20%20%20%20%20%20%20%20%20%20%20%20%20%60%3Cdiv%3E%0A%20%20%20%20%20%20%20%20%20%20%20%20%20%20%20%20%20%20%20%20%20%ED%9C%98%EB%B0%9C%EC%9C%A0%3A1266%EC%9B%90%2C%20%EA%B0%80%EC%86%94%EB%A6%B0%3A1072%EC%9B%90%0A%20%20%20%20%20%20%20%20%20%20%20%20%20%20%20%20%20%3C/div%3E%60%2C%0A%20%20%20%20%20%20%20%20%20%20%20%20%20%20%20%20%7B%22sticky%22%3A%20true%7D%0A%20%20%20%20%20%20%20%20%20%20%20%20%29%3B%0A%20%20%20%20%20%20%20%20%0A%20%20%20%20%0A%20%20%20%20%20%20%20%20%20%20%20%20var%20marker_0da8d709865841e5b102ca0a2c44567c%20%3D%20L.marker%28%0A%20%20%20%20%20%20%20%20%20%20%20%20%20%20%20%20%5B37.5402424056989%2C%20126.841163971808%5D%2C%0A%20%20%20%20%20%20%20%20%20%20%20%20%20%20%20%20%7B%7D%0A%20%20%20%20%20%20%20%20%20%20%20%20%29.addTo%28map_26c5eff21f3843cfa0b3a84ae0970439%29%3B%0A%20%20%20%20%20%20%20%20%0A%20%20%20%20%0A%20%20%20%20%20%20%20%20%20%20%20%20var%20icon_6cc52721b8e849b18867f8333e88a5e9%20%3D%20L.AwesomeMarkers.icon%28%0A%20%20%20%20%20%20%20%20%20%20%20%20%20%20%20%20%7B%22extraClasses%22%3A%20%22fa-rotate-0%22%2C%20%22icon%22%3A%20%22tint%22%2C%20%22iconColor%22%3A%20%22white%22%2C%20%22markerColor%22%3A%20%22blue%22%2C%20%22prefix%22%3A%20%22glyphicon%22%7D%0A%20%20%20%20%20%20%20%20%20%20%20%20%29%3B%0A%20%20%20%20%20%20%20%20%20%20%20%20marker_0da8d709865841e5b102ca0a2c44567c.setIcon%28icon_6cc52721b8e849b18867f8333e88a5e9%29%3B%0A%20%20%20%20%20%20%20%20%0A%20%20%20%20%0A%20%20%20%20%20%20%20%20var%20popup_fbfd680da3044c9e9827aa1493c314b8%20%3D%20L.popup%28%7B%22maxWidth%22%3A%20130%7D%29%3B%0A%0A%20%20%20%20%20%20%20%20%0A%20%20%20%20%20%20%20%20%20%20%20%20var%20html_ecce17dab984442191fadd8227a68113%20%3D%20%24%28%60%3Cdiv%20id%3D%22html_ecce17dab984442191fadd8227a68113%22%20style%3D%22width%3A%20100.0%25%3B%20height%3A%20100.0%25%3B%22%3E%EB%AA%A9%ED%99%94%EC%A3%BC%EC%9C%A0%EC%86%8C%3C/div%3E%60%29%5B0%5D%3B%0A%20%20%20%20%20%20%20%20%20%20%20%20popup_fbfd680da3044c9e9827aa1493c314b8.setContent%28html_ecce17dab984442191fadd8227a68113%29%3B%0A%20%20%20%20%20%20%20%20%0A%0A%20%20%20%20%20%20%20%20marker_0da8d709865841e5b102ca0a2c44567c.bindPopup%28popup_fbfd680da3044c9e9827aa1493c314b8%29%0A%20%20%20%20%20%20%20%20%3B%0A%0A%20%20%20%20%20%20%20%20%0A%20%20%20%20%0A%20%20%20%20%0A%20%20%20%20%20%20%20%20%20%20%20%20marker_0da8d709865841e5b102ca0a2c44567c.bindTooltip%28%0A%20%20%20%20%20%20%20%20%20%20%20%20%20%20%20%20%60%3Cdiv%3E%0A%20%20%20%20%20%20%20%20%20%20%20%20%20%20%20%20%20%20%20%20%20%ED%9C%98%EB%B0%9C%EC%9C%A0%3A1266%EC%9B%90%2C%20%EA%B0%80%EC%86%94%EB%A6%B0%3A1072%EC%9B%90%0A%20%20%20%20%20%20%20%20%20%20%20%20%20%20%20%20%20%3C/div%3E%60%2C%0A%20%20%20%20%20%20%20%20%20%20%20%20%20%20%20%20%7B%22sticky%22%3A%20true%7D%0A%20%20%20%20%20%20%20%20%20%20%20%20%29%3B%0A%20%20%20%20%20%20%20%20%0A%20%20%20%20%0A%20%20%20%20%20%20%20%20%20%20%20%20var%20marker_f345718c8a884426aa862d4f4530c4a3%20%3D%20L.marker%28%0A%20%20%20%20%20%20%20%20%20%20%20%20%20%20%20%20%5B37.5518027646586%2C%20126.836681312113%5D%2C%0A%20%20%20%20%20%20%20%20%20%20%20%20%20%20%20%20%7B%7D%0A%20%20%20%20%20%20%20%20%20%20%20%20%29.addTo%28map_26c5eff21f3843cfa0b3a84ae0970439%29%3B%0A%20%20%20%20%20%20%20%20%0A%20%20%20%20%0A%20%20%20%20%20%20%20%20%20%20%20%20var%20icon_5c70b269502a449584884958018a424e%20%3D%20L.AwesomeMarkers.icon%28%0A%20%20%20%20%20%20%20%20%20%20%20%20%20%20%20%20%7B%22extraClasses%22%3A%20%22fa-rotate-0%22%2C%20%22icon%22%3A%20%22thumbs-up%22%2C%20%22iconColor%22%3A%20%22white%22%2C%20%22markerColor%22%3A%20%22red%22%2C%20%22prefix%22%3A%20%22glyphicon%22%7D%0A%20%20%20%20%20%20%20%20%20%20%20%20%29%3B%0A%20%20%20%20%20%20%20%20%20%20%20%20marker_f345718c8a884426aa862d4f4530c4a3.setIcon%28icon_5c70b269502a449584884958018a424e%29%3B%0A%20%20%20%20%20%20%20%20%0A%20%20%20%20%0A%20%20%20%20%20%20%20%20var%20popup_db65f647ded740b984225ef300e1fcd8%20%3D%20L.popup%28%7B%22maxWidth%22%3A%20130%7D%29%3B%0A%0A%20%20%20%20%20%20%20%20%0A%20%20%20%20%20%20%20%20%20%20%20%20var%20html_777797bccc8f48169f444c1cc5f82501%20%3D%20%24%28%60%3Cdiv%20id%3D%22html_777797bccc8f48169f444c1cc5f82501%22%20style%3D%22width%3A%20100.0%25%3B%20height%3A%20100.0%25%3B%22%3E%EB%89%B4%EC%8B%A0%EC%A0%95%EC%A3%BC%EC%9C%A0%EC%86%8C%3C/div%3E%60%29%5B0%5D%3B%0A%20%20%20%20%20%20%20%20%20%20%20%20popup_db65f647ded740b984225ef300e1fcd8.setContent%28html_777797bccc8f48169f444c1cc5f82501%29%3B%0A%20%20%20%20%20%20%20%20%0A%0A%20%20%20%20%20%20%20%20marker_f345718c8a884426aa862d4f4530c4a3.bindPopup%28popup_db65f647ded740b984225ef300e1fcd8%29%0A%20%20%20%20%20%20%20%20%3B%0A%0A%20%20%20%20%20%20%20%20%0A%20%20%20%20%0A%20%20%20%20%0A%20%20%20%20%20%20%20%20%20%20%20%20marker_f345718c8a884426aa862d4f4530c4a3.bindTooltip%28%0A%20%20%20%20%20%20%20%20%20%20%20%20%20%20%20%20%60%3Cdiv%3E%0A%20%20%20%20%20%20%20%20%20%20%20%20%20%20%20%20%20%20%20%20%20%ED%9C%98%EB%B0%9C%EC%9C%A0%3A1243%EC%9B%90%2C%20%EA%B0%80%EC%86%94%EB%A6%B0%3A1043%EC%9B%90%0A%20%20%20%20%20%20%20%20%20%20%20%20%20%20%20%20%20%3C/div%3E%60%2C%0A%20%20%20%20%20%20%20%20%20%20%20%20%20%20%20%20%7B%22sticky%22%3A%20true%7D%0A%20%20%20%20%20%20%20%20%20%20%20%20%29%3B%0A%20%20%20%20%20%20%20%20%0A%20%20%20%20%0A%20%20%20%20%20%20%20%20%20%20%20%20var%20marker_49dd8faae6ca4ab18847d1430890725f%20%3D%20L.marker%28%0A%20%20%20%20%20%20%20%20%20%20%20%20%20%20%20%20%5B37.5578424333244%2C%20126.842395220012%5D%2C%0A%20%20%20%20%20%20%20%20%20%20%20%20%20%20%20%20%7B%7D%0A%20%20%20%20%20%20%20%20%20%20%20%20%29.addTo%28map_26c5eff21f3843cfa0b3a84ae0970439%29%3B%0A%20%20%20%20%20%20%20%20%0A%20%20%20%20%0A%20%20%20%20%20%20%20%20%20%20%20%20var%20icon_a18108bd7fdc43dfa48b25dd6292678d%20%3D%20L.AwesomeMarkers.icon%28%0A%20%20%20%20%20%20%20%20%20%20%20%20%20%20%20%20%7B%22extraClasses%22%3A%20%22fa-rotate-0%22%2C%20%22icon%22%3A%20%22thumbs-up%22%2C%20%22iconColor%22%3A%20%22white%22%2C%20%22markerColor%22%3A%20%22red%22%2C%20%22prefix%22%3A%20%22glyphicon%22%7D%0A%20%20%20%20%20%20%20%20%20%20%20%20%29%3B%0A%20%20%20%20%20%20%20%20%20%20%20%20marker_49dd8faae6ca4ab18847d1430890725f.setIcon%28icon_a18108bd7fdc43dfa48b25dd6292678d%29%3B%0A%20%20%20%20%20%20%20%20%0A%20%20%20%20%0A%20%20%20%20%20%20%20%20var%20popup_051347936f7b4c2ab740d8c072a029c4%20%3D%20L.popup%28%7B%22maxWidth%22%3A%20130%7D%29%3B%0A%0A%20%20%20%20%20%20%20%20%0A%20%20%20%20%20%20%20%20%20%20%20%20var%20html_2192e78a49734353a4d3a218038a3d50%20%3D%20%24%28%60%3Cdiv%20id%3D%22html_2192e78a49734353a4d3a218038a3d50%22%20style%3D%22width%3A%20100.0%25%3B%20height%3A%20100.0%25%3B%22%3E%ED%99%94%EA%B3%A1%EC%97%AD%EC%A3%BC%EC%9C%A0%EC%86%8C%3C/div%3E%60%29%5B0%5D%3B%0A%20%20%20%20%20%20%20%20%20%20%20%20popup_051347936f7b4c2ab740d8c072a029c4.setContent%28html_2192e78a49734353a4d3a218038a3d50%29%3B%0A%20%20%20%20%20%20%20%20%0A%0A%20%20%20%20%20%20%20%20marker_49dd8faae6ca4ab18847d1430890725f.bindPopup%28popup_051347936f7b4c2ab740d8c072a029c4%29%0A%20%20%20%20%20%20%20%20%3B%0A%0A%20%20%20%20%20%20%20%20%0A%20%20%20%20%0A%20%20%20%20%0A%20%20%20%20%20%20%20%20%20%20%20%20marker_49dd8faae6ca4ab18847d1430890725f.bindTooltip%28%0A%20%20%20%20%20%20%20%20%20%20%20%20%20%20%20%20%60%3Cdiv%3E%0A%20%20%20%20%20%20%20%20%20%20%20%20%20%20%20%20%20%20%20%20%20%ED%9C%98%EB%B0%9C%EC%9C%A0%3A1243%EC%9B%90%2C%20%EA%B0%80%EC%86%94%EB%A6%B0%3A1043%EC%9B%90%0A%20%20%20%20%20%20%20%20%20%20%20%20%20%20%20%20%20%3C/div%3E%60%2C%0A%20%20%20%20%20%20%20%20%20%20%20%20%20%20%20%20%7B%22sticky%22%3A%20true%7D%0A%20%20%20%20%20%20%20%20%20%20%20%20%29%3B%0A%20%20%20%20%20%20%20%20%0A%20%20%20%20%0A%20%20%20%20%20%20%20%20%20%20%20%20var%20marker_4398ec3ad39f43dbac701e78676dfb4a%20%3D%20L.marker%28%0A%20%20%20%20%20%20%20%20%20%20%20%20%20%20%20%20%5B37.5662430987764%2C%20126.840421267348%5D%2C%0A%20%20%20%20%20%20%20%20%20%20%20%20%20%20%20%20%7B%7D%0A%20%20%20%20%20%20%20%20%20%20%20%20%29.addTo%28map_26c5eff21f3843cfa0b3a84ae0970439%29%3B%0A%20%20%20%20%20%20%20%20%0A%20%20%20%20%0A%20%20%20%20%20%20%20%20%20%20%20%20var%20icon_5db39167cd3648e0a748c4fdc22f385b%20%3D%20L.AwesomeMarkers.icon%28%0A%20%20%20%20%20%20%20%20%20%20%20%20%20%20%20%20%7B%22extraClasses%22%3A%20%22fa-rotate-0%22%2C%20%22icon%22%3A%20%22tint%22%2C%20%22iconColor%22%3A%20%22white%22%2C%20%22markerColor%22%3A%20%22blue%22%2C%20%22prefix%22%3A%20%22glyphicon%22%7D%0A%20%20%20%20%20%20%20%20%20%20%20%20%29%3B%0A%20%20%20%20%20%20%20%20%20%20%20%20marker_4398ec3ad39f43dbac701e78676dfb4a.setIcon%28icon_5db39167cd3648e0a748c4fdc22f385b%29%3B%0A%20%20%20%20%20%20%20%20%0A%20%20%20%20%0A%20%20%20%20%20%20%20%20var%20popup_cdd3bab2c7514d48b0d817787996269f%20%3D%20L.popup%28%7B%22maxWidth%22%3A%20130%7D%29%3B%0A%0A%20%20%20%20%20%20%20%20%0A%20%20%20%20%20%20%20%20%20%20%20%20var%20html_6f4dfe31644b48e494e2c198b3da3573%20%3D%20%24%28%60%3Cdiv%20id%3D%22html_6f4dfe31644b48e494e2c198b3da3573%22%20style%3D%22width%3A%20100.0%25%3B%20height%3A%20100.0%25%3B%22%3E%EB%A7%88%EA%B3%A1%EB%8C%80%EC%84%B1%EC%A3%BC%EC%9C%A0%EC%86%8C%3C/div%3E%60%29%5B0%5D%3B%0A%20%20%20%20%20%20%20%20%20%20%20%20popup_cdd3bab2c7514d48b0d817787996269f.setContent%28html_6f4dfe31644b48e494e2c198b3da3573%29%3B%0A%20%20%20%20%20%20%20%20%0A%0A%20%20%20%20%20%20%20%20marker_4398ec3ad39f43dbac701e78676dfb4a.bindPopup%28popup_cdd3bab2c7514d48b0d817787996269f%29%0A%20%20%20%20%20%20%20%20%3B%0A%0A%20%20%20%20%20%20%20%20%0A%20%20%20%20%0A%20%20%20%20%0A%20%20%20%20%20%20%20%20%20%20%20%20marker_4398ec3ad39f43dbac701e78676dfb4a.bindTooltip%28%0A%20%20%20%20%20%20%20%20%20%20%20%20%20%20%20%20%60%3Cdiv%3E%0A%20%20%20%20%20%20%20%20%20%20%20%20%20%20%20%20%20%20%20%20%20%ED%9C%98%EB%B0%9C%EC%9C%A0%3A1365%EC%9B%90%2C%20%EA%B0%80%EC%86%94%EB%A6%B0%3A1185%EC%9B%90%0A%20%20%20%20%20%20%20%20%20%20%20%20%20%20%20%20%20%3C/div%3E%60%2C%0A%20%20%20%20%20%20%20%20%20%20%20%20%20%20%20%20%7B%22sticky%22%3A%20true%7D%0A%20%20%20%20%20%20%20%20%20%20%20%20%29%3B%0A%20%20%20%20%20%20%20%20%0A%20%20%20%20%0A%20%20%20%20%20%20%20%20%20%20%20%20var%20marker_98445a793fdc44b8a885f30c0393dff5%20%3D%20L.marker%28%0A%20%20%20%20%20%20%20%20%20%20%20%20%20%20%20%20%5B37.5728980859386%2C%20126.823440027913%5D%2C%0A%20%20%20%20%20%20%20%20%20%20%20%20%20%20%20%20%7B%7D%0A%20%20%20%20%20%20%20%20%20%20%20%20%29.addTo%28map_26c5eff21f3843cfa0b3a84ae0970439%29%3B%0A%20%20%20%20%20%20%20%20%0A%20%20%20%20%0A%20%20%20%20%20%20%20%20%20%20%20%20var%20icon_1ce65a3c1448447c9a7469dbe389be79%20%3D%20L.AwesomeMarkers.icon%28%0A%20%20%20%20%20%20%20%20%20%20%20%20%20%20%20%20%7B%22extraClasses%22%3A%20%22fa-rotate-0%22%2C%20%22icon%22%3A%20%22tint%22%2C%20%22iconColor%22%3A%20%22white%22%2C%20%22markerColor%22%3A%20%22blue%22%2C%20%22prefix%22%3A%20%22glyphicon%22%7D%0A%20%20%20%20%20%20%20%20%20%20%20%20%29%3B%0A%20%20%20%20%20%20%20%20%20%20%20%20marker_98445a793fdc44b8a885f30c0393dff5.setIcon%28icon_1ce65a3c1448447c9a7469dbe389be79%29%3B%0A%20%20%20%20%20%20%20%20%0A%20%20%20%20%0A%20%20%20%20%20%20%20%20var%20popup_e3d5b8003fe5493d832882a31a06b8d5%20%3D%20L.popup%28%7B%22maxWidth%22%3A%20130%7D%29%3B%0A%0A%20%20%20%20%20%20%20%20%0A%20%20%20%20%20%20%20%20%20%20%20%20var%20html_9ae293a331624c64adcfe2a1f7125651%20%3D%20%24%28%60%3Cdiv%20id%3D%22html_9ae293a331624c64adcfe2a1f7125651%22%20style%3D%22width%3A%20100.0%25%3B%20height%3A%20100.0%25%3B%22%3E%EB%B0%A9%ED%99%94%EB%8C%80%EC%84%B1%EC%A3%BC%EC%9C%A0%EC%86%8C%3C/div%3E%60%29%5B0%5D%3B%0A%20%20%20%20%20%20%20%20%20%20%20%20popup_e3d5b8003fe5493d832882a31a06b8d5.setContent%28html_9ae293a331624c64adcfe2a1f7125651%29%3B%0A%20%20%20%20%20%20%20%20%0A%0A%20%20%20%20%20%20%20%20marker_98445a793fdc44b8a885f30c0393dff5.bindPopup%28popup_e3d5b8003fe5493d832882a31a06b8d5%29%0A%20%20%20%20%20%20%20%20%3B%0A%0A%20%20%20%20%20%20%20%20%0A%20%20%20%20%0A%20%20%20%20%0A%20%20%20%20%20%20%20%20%20%20%20%20marker_98445a793fdc44b8a885f30c0393dff5.bindTooltip%28%0A%20%20%20%20%20%20%20%20%20%20%20%20%20%20%20%20%60%3Cdiv%3E%0A%20%20%20%20%20%20%20%20%20%20%20%20%20%20%20%20%20%20%20%20%20%ED%9C%98%EB%B0%9C%EC%9C%A0%3A1365%EC%9B%90%2C%20%EA%B0%80%EC%86%94%EB%A6%B0%3A1175%EC%9B%90%0A%20%20%20%20%20%20%20%20%20%20%20%20%20%20%20%20%20%3C/div%3E%60%2C%0A%20%20%20%20%20%20%20%20%20%20%20%20%20%20%20%20%7B%22sticky%22%3A%20true%7D%0A%20%20%20%20%20%20%20%20%20%20%20%20%29%3B%0A%20%20%20%20%20%20%20%20%0A%3C/script%3E onload=\"this.contentDocument.open();this.contentDocument.write(    decodeURIComponent(this.getAttribute('data-html')));this.contentDocument.close();\" allowfullscreen webkitallowfullscreen mozallowfullscreen></iframe></div></div>"
     },
     "metadata": {},
     "execution_count": 41
    }
   ],
   "source": [
    "map = folium.Map(location=[df2['lat'].mean(), df2['lng'].mean()], zoom_start=13)\n",
    "\n",
    "for i in df2.index:\n",
    "    frame = f\"{df2['station_name'][i]}\"\n",
    "    popup = folium.Popup(frame, max_width=130)\n",
    "    if df2['gasoline'][i] == min(df2['gasoline']):\n",
    "        folium.Marker(\n",
    "            location = [df2['lat'][i], df2['lng'][i]],\n",
    "            tooltip=(f\"휘발유:{df2['gasoline'][i]}원, 가솔린:{df2['diesel'][i]}원\"),\n",
    "            popup=popup,\n",
    "            icon=folium.Icon(color='red', icon='thumbs-up')\n",
    "            ).add_to(map)\n",
    "    else:\n",
    "        folium.Marker(\n",
    "            location = [df2['lat'][i], df2['lng'][i]],\n",
    "            tooltip=(f\"휘발유:{df2['gasoline'][i]}원, 가솔린:{df2['diesel'][i]}원\"),\n",
    "            popup=popup,\n",
    "            icon=folium.Icon(color='blue', icon='tint')\n",
    "            ).add_to(map)\n",
    "map"
   ]
  },
  {
   "cell_type": "code",
   "execution_count": null,
   "metadata": {},
   "outputs": [],
   "source": []
  }
 ]
}