{
 "metadata": {
  "language_info": {
   "codemirror_mode": {
    "name": "ipython",
    "version": 3
   },
   "file_extension": ".py",
   "mimetype": "text/x-python",
   "name": "python",
   "nbconvert_exporter": "python",
   "pygments_lexer": "ipython3",
   "version": "3.8.3-final"
  },
  "orig_nbformat": 2,
  "kernelspec": {
   "name": "python3",
   "display_name": "Python 3"
  }
 },
 "nbformat": 4,
 "nbformat_minor": 2,
 "cells": [
  {
   "cell_type": "code",
   "execution_count": 1,
   "metadata": {},
   "outputs": [],
   "source": [
    "import time\n",
    "from selenium import webdriver\n",
    "from selenium.webdriver.common.keys import Keys\n",
    "import requests\n",
    "from urllib.parse import urlparse, quote\n",
    "import folium\n",
    "import pandas as pd\n",
    "from glob import glob"
   ]
  },
  {
   "cell_type": "code",
   "execution_count": 2,
   "metadata": {},
   "outputs": [],
   "source": [
    "station_list = ['우장산주유소', '대성석유(주)직영관문주유소\t', '화곡현대주유소', '신화곡주유소', '지에스칼텍스㈜ 경인고속주유소', '목화주유소', '뉴신정주유소', '화곡역주유소', '대성석유(주) 마곡대성주유소', '대성석유(주)방화대성주유소']"
   ]
  },
  {
   "cell_type": "code",
   "execution_count": 3,
   "metadata": {},
   "outputs": [],
   "source": [
    "key_fd = open('kakaomapkey.txt', mode='r')\n",
    "kmap_key = key_fd.read(100)\n",
    "key_fd.close()"
   ]
  },
  {
   "cell_type": "code",
   "execution_count": 4,
   "metadata": {},
   "outputs": [
    {
     "output_type": "execute_result",
     "data": {
      "text/plain": [
       "{'address_name': '서울 강서구 내발산동 702-9',\n",
       " 'category_group_code': 'OL7',\n",
       " 'category_group_name': '주유소,충전소',\n",
       " 'category_name': '교통,수송 > 자동차 > 주유,가스 > 주유소 > SK주유소',\n",
       " 'distance': '',\n",
       " 'id': '27163582',\n",
       " 'phone': '02-3664-7163',\n",
       " 'place_name': '우장산주유소',\n",
       " 'place_url': 'http://place.map.kakao.com/27163582',\n",
       " 'road_address_name': '서울 강서구 강서로 292',\n",
       " 'x': '126.836581578392',\n",
       " 'y': '37.5516105340577'}"
      ]
     },
     "metadata": {},
     "execution_count": 4
    }
   ],
   "source": [
    "addr = '우장산주유소'\n",
    "url = 'https://dapi.kakao.com/v2/local/search/keyword.json?query=' + quote(addr)\n",
    "result = requests.get(url,headers={'Authorization': \"KakaoAK \"+kmap_key}).json()\n",
    "result['documents'][0]"
   ]
  },
  {
   "cell_type": "code",
   "execution_count": 5,
   "metadata": {},
   "outputs": [],
   "source": [
    "name_list=[]; tel_list=[]; addr_list=[]; lat_list=[]; lng_list=[]\n",
    "\n",
    "for station in station_list:\n",
    "    url = 'https://dapi.kakao.com/v2/local/search/keyword.json?query=' + quote(station)\n",
    "    result = requests.get(url,headers={'Authorization': \"KakaoAK \"+kmap_key}).json()\n",
    "    name_list.append(result['documents'][0]['place_name'])\n",
    "    tel_list.append(result['documents'][0]['phone'])\n",
    "    addr_list.append(result['documents'][0]['road_address_name'])\n",
    "    lat_list.append(float(result['documents'][0]['y']))\n",
    "    lng_list.append(float(result['documents'][0]['x']))"
   ]
  },
  {
   "cell_type": "code",
   "execution_count": 6,
   "metadata": {},
   "outputs": [
    {
     "output_type": "execute_result",
     "data": {
      "text/plain": [
       "[126.836581578392,\n",
       " 126.842367083708,\n",
       " 126.841200246694,\n",
       " 126.842888576122,\n",
       " 126.859794923014,\n",
       " 126.863061514823,\n",
       " 126.85604195207029,\n",
       " 126.841525355833,\n",
       " 126.8404115686062,\n",
       " 126.823435612504]"
      ]
     },
     "metadata": {},
     "execution_count": 6
    }
   ],
   "source": [
    "lng_list"
   ]
  },
  {
   "cell_type": "code",
   "execution_count": 7,
   "metadata": {},
   "outputs": [
    {
     "output_type": "execute_result",
     "data": {
      "text/plain": [
       "      place_name           tel          address        lat         lng\n",
       "0         우장산주유소  02-3664-7163   서울 강서구 강서로 292  37.551611  126.836582\n",
       "1   대성석유직영 관문주유소  02-3665-2051  서울 강서구 공항대로 314  37.557875  126.842367\n",
       "2        화곡현대주유소  02-2607-1942   서울 강서구 강서로 151  37.540264  126.841200\n",
       "3         신화곡주유소  02-2611-3161   서울 강서구 국회대로 71  37.527260  126.842889\n",
       "4  GS칼텍스 경인고속주유소  02-2608-5151  서울 강서구 국회대로 225  37.529624  126.859795\n",
       "5          목화주유소  02-2654-4564  서울 강서구 국회대로 251  37.530020  126.863062\n",
       "6         뉴신정주유소  02-2601-0077  서울 강서구 곰달래로 207  37.531550  126.856042\n",
       "7         화곡역주유소  02-2691-5151   서울 강서구 강서로 154  37.540625  126.841525\n",
       "8   대성석유 마곡대성주유소  02-3664-7781   서울 강서구 강서로 457  37.566279  126.840412\n",
       "9    대성석유방화대성주유소  02-3663-7781   서울 강서구 양천로 176  37.572898  126.823436"
      ],
      "text/html": "<div>\n<style scoped>\n    .dataframe tbody tr th:only-of-type {\n        vertical-align: middle;\n    }\n\n    .dataframe tbody tr th {\n        vertical-align: top;\n    }\n\n    .dataframe thead th {\n        text-align: right;\n    }\n</style>\n<table border=\"1\" class=\"dataframe\">\n  <thead>\n    <tr style=\"text-align: right;\">\n      <th></th>\n      <th>place_name</th>\n      <th>tel</th>\n      <th>address</th>\n      <th>lat</th>\n      <th>lng</th>\n    </tr>\n  </thead>\n  <tbody>\n    <tr>\n      <th>0</th>\n      <td>우장산주유소</td>\n      <td>02-3664-7163</td>\n      <td>서울 강서구 강서로 292</td>\n      <td>37.551611</td>\n      <td>126.836582</td>\n    </tr>\n    <tr>\n      <th>1</th>\n      <td>대성석유직영 관문주유소</td>\n      <td>02-3665-2051</td>\n      <td>서울 강서구 공항대로 314</td>\n      <td>37.557875</td>\n      <td>126.842367</td>\n    </tr>\n    <tr>\n      <th>2</th>\n      <td>화곡현대주유소</td>\n      <td>02-2607-1942</td>\n      <td>서울 강서구 강서로 151</td>\n      <td>37.540264</td>\n      <td>126.841200</td>\n    </tr>\n    <tr>\n      <th>3</th>\n      <td>신화곡주유소</td>\n      <td>02-2611-3161</td>\n      <td>서울 강서구 국회대로 71</td>\n      <td>37.527260</td>\n      <td>126.842889</td>\n    </tr>\n    <tr>\n      <th>4</th>\n      <td>GS칼텍스 경인고속주유소</td>\n      <td>02-2608-5151</td>\n      <td>서울 강서구 국회대로 225</td>\n      <td>37.529624</td>\n      <td>126.859795</td>\n    </tr>\n    <tr>\n      <th>5</th>\n      <td>목화주유소</td>\n      <td>02-2654-4564</td>\n      <td>서울 강서구 국회대로 251</td>\n      <td>37.530020</td>\n      <td>126.863062</td>\n    </tr>\n    <tr>\n      <th>6</th>\n      <td>뉴신정주유소</td>\n      <td>02-2601-0077</td>\n      <td>서울 강서구 곰달래로 207</td>\n      <td>37.531550</td>\n      <td>126.856042</td>\n    </tr>\n    <tr>\n      <th>7</th>\n      <td>화곡역주유소</td>\n      <td>02-2691-5151</td>\n      <td>서울 강서구 강서로 154</td>\n      <td>37.540625</td>\n      <td>126.841525</td>\n    </tr>\n    <tr>\n      <th>8</th>\n      <td>대성석유 마곡대성주유소</td>\n      <td>02-3664-7781</td>\n      <td>서울 강서구 강서로 457</td>\n      <td>37.566279</td>\n      <td>126.840412</td>\n    </tr>\n    <tr>\n      <th>9</th>\n      <td>대성석유방화대성주유소</td>\n      <td>02-3663-7781</td>\n      <td>서울 강서구 양천로 176</td>\n      <td>37.572898</td>\n      <td>126.823436</td>\n    </tr>\n  </tbody>\n</table>\n</div>"
     },
     "metadata": {},
     "execution_count": 7
    }
   ],
   "source": [
    "station_data = pd.DataFrame({\n",
    "    'place_name':name_list,\n",
    "    'tel':tel_list,\n",
    "    'address':addr_list,\n",
    "    'lat':lat_list,\n",
    "    'lng':lng_list\n",
    "})\n",
    "station_data"
   ]
  },
  {
   "cell_type": "code",
   "execution_count": 8,
   "metadata": {},
   "outputs": [],
   "source": [
    "driver = webdriver.Chrome('./chromedriver')\n",
    "driver.maximize_window()\n",
    "driver.get('http://www.opinet.co.kr/searRgSelect.do')\n",
    "time.sleep(1)\n",
    "\n",
    "driver.find_element_by_css_selector('.ic_m1').click()\n",
    "time.sleep(2)\n",
    "\n",
    "region = driver.find_element_by_xpath('//*[@id=\"SIGUNGU_NM0\"]')\n",
    "gu_list = region.find_elements_by_tag_name('option')\n",
    "\n",
    "gu_names = [gu.get_attribute('value') for gu in gu_list] # 파이썬다운코드\n",
    "del gu_names[0]\n",
    "\n",
    "for gu in gu_names:\n",
    "    region = driver.find_element_by_id('SIGUNGU_NM0')\n",
    "    region.send_keys(gu)\n",
    "    time.sleep(1)\n",
    "\n",
    "    driver.find_element_by_xpath('//*[@id=\"glopopd_excel\"]/span').click()\n",
    "    time.sleep(2)\n",
    "\n",
    "driver.quit()"
   ]
  },
  {
   "cell_type": "code",
   "execution_count": 9,
   "metadata": {},
   "outputs": [
    {
     "output_type": "execute_result",
     "data": {
      "text/plain": [
       "       지역                     상호                         주소      상표  \\\n",
       "0   서울특별시                 구천면주유소      서울 강동구 구천면로 357 (암사동)  현대오일뱅크   \n",
       "1   서울특별시          지에스칼텍스㈜ 신월주유소     서울 강동구 양재대로 1323 (성내동)   GS칼텍스   \n",
       "2   서울특별시      현대오일뱅크㈜직영 고속셀프주유소           서울 강동구 천호대로 1246  현대오일뱅크   \n",
       "3   서울특별시                방아다리주유소       서울 강동구 동남로 811 (명일동)   SK에너지   \n",
       "4   서울특별시      현대오일뱅크㈜직영 명일셀프주유소       서울 강동구 고덕로 168 (명일동)  현대오일뱅크   \n",
       "..    ...                    ...                        ...     ...   \n",
       "35  서울특별시  (주)소모에너지엔테크놀러지 쎈트럴주유소             서울 강남구 삼성로 335   GS칼텍스   \n",
       "36  서울특별시               (주)만정에너지      서울 강남구 봉은사로 433 (삼성동)   GS칼텍스   \n",
       "37  서울특별시                뉴서울(강남)       서울 강남구 언주로 716 (논현동)   SK에너지   \n",
       "38  서울특별시                  동우주유소  서울특별시 강남구  봉은사로 311 (논현동)   SK에너지   \n",
       "39  서울특별시                  삼성주유소       서울 강남구 삼성로 521 (삼성동)   SK에너지   \n",
       "\n",
       "            전화번호 셀프여부 고급휘발유   휘발유    경유  실내등유  \n",
       "0    02-441-0536    N     -  1374  1187     -  \n",
       "1    02-475-2600    N  1585  1385  1188  1000  \n",
       "2    02-487-2030    Y  1598  1386  1188   895  \n",
       "3    02-442-5145    Y     -  1395  1195   975  \n",
       "4   02-3428-1739    Y  1625  1395  1198     -  \n",
       "..           ...  ...   ...   ...   ...   ...  \n",
       "35   02-565-0267    N  2037  1883  1659  1100  \n",
       "36   02-518-5141    N  2079  1913  1689  1359  \n",
       "37   02-518-5631    N  2330  2025  1865  1260  \n",
       "38   02-542-6726    N     -     -     -     -  \n",
       "39   02-538-0809    N     -     -     -     -  \n",
       "\n",
       "[498 rows x 10 columns]"
      ],
      "text/html": "<div>\n<style scoped>\n    .dataframe tbody tr th:only-of-type {\n        vertical-align: middle;\n    }\n\n    .dataframe tbody tr th {\n        vertical-align: top;\n    }\n\n    .dataframe thead th {\n        text-align: right;\n    }\n</style>\n<table border=\"1\" class=\"dataframe\">\n  <thead>\n    <tr style=\"text-align: right;\">\n      <th></th>\n      <th>지역</th>\n      <th>상호</th>\n      <th>주소</th>\n      <th>상표</th>\n      <th>전화번호</th>\n      <th>셀프여부</th>\n      <th>고급휘발유</th>\n      <th>휘발유</th>\n      <th>경유</th>\n      <th>실내등유</th>\n    </tr>\n  </thead>\n  <tbody>\n    <tr>\n      <th>0</th>\n      <td>서울특별시</td>\n      <td>구천면주유소</td>\n      <td>서울 강동구 구천면로 357 (암사동)</td>\n      <td>현대오일뱅크</td>\n      <td>02-441-0536</td>\n      <td>N</td>\n      <td>-</td>\n      <td>1374</td>\n      <td>1187</td>\n      <td>-</td>\n    </tr>\n    <tr>\n      <th>1</th>\n      <td>서울특별시</td>\n      <td>지에스칼텍스㈜ 신월주유소</td>\n      <td>서울 강동구 양재대로 1323 (성내동)</td>\n      <td>GS칼텍스</td>\n      <td>02-475-2600</td>\n      <td>N</td>\n      <td>1585</td>\n      <td>1385</td>\n      <td>1188</td>\n      <td>1000</td>\n    </tr>\n    <tr>\n      <th>2</th>\n      <td>서울특별시</td>\n      <td>현대오일뱅크㈜직영 고속셀프주유소</td>\n      <td>서울 강동구 천호대로 1246</td>\n      <td>현대오일뱅크</td>\n      <td>02-487-2030</td>\n      <td>Y</td>\n      <td>1598</td>\n      <td>1386</td>\n      <td>1188</td>\n      <td>895</td>\n    </tr>\n    <tr>\n      <th>3</th>\n      <td>서울특별시</td>\n      <td>방아다리주유소</td>\n      <td>서울 강동구 동남로 811 (명일동)</td>\n      <td>SK에너지</td>\n      <td>02-442-5145</td>\n      <td>Y</td>\n      <td>-</td>\n      <td>1395</td>\n      <td>1195</td>\n      <td>975</td>\n    </tr>\n    <tr>\n      <th>4</th>\n      <td>서울특별시</td>\n      <td>현대오일뱅크㈜직영 명일셀프주유소</td>\n      <td>서울 강동구 고덕로 168 (명일동)</td>\n      <td>현대오일뱅크</td>\n      <td>02-3428-1739</td>\n      <td>Y</td>\n      <td>1625</td>\n      <td>1395</td>\n      <td>1198</td>\n      <td>-</td>\n    </tr>\n    <tr>\n      <th>...</th>\n      <td>...</td>\n      <td>...</td>\n      <td>...</td>\n      <td>...</td>\n      <td>...</td>\n      <td>...</td>\n      <td>...</td>\n      <td>...</td>\n      <td>...</td>\n      <td>...</td>\n    </tr>\n    <tr>\n      <th>35</th>\n      <td>서울특별시</td>\n      <td>(주)소모에너지엔테크놀러지 쎈트럴주유소</td>\n      <td>서울 강남구 삼성로 335</td>\n      <td>GS칼텍스</td>\n      <td>02-565-0267</td>\n      <td>N</td>\n      <td>2037</td>\n      <td>1883</td>\n      <td>1659</td>\n      <td>1100</td>\n    </tr>\n    <tr>\n      <th>36</th>\n      <td>서울특별시</td>\n      <td>(주)만정에너지</td>\n      <td>서울 강남구 봉은사로 433 (삼성동)</td>\n      <td>GS칼텍스</td>\n      <td>02-518-5141</td>\n      <td>N</td>\n      <td>2079</td>\n      <td>1913</td>\n      <td>1689</td>\n      <td>1359</td>\n    </tr>\n    <tr>\n      <th>37</th>\n      <td>서울특별시</td>\n      <td>뉴서울(강남)</td>\n      <td>서울 강남구 언주로 716 (논현동)</td>\n      <td>SK에너지</td>\n      <td>02-518-5631</td>\n      <td>N</td>\n      <td>2330</td>\n      <td>2025</td>\n      <td>1865</td>\n      <td>1260</td>\n    </tr>\n    <tr>\n      <th>38</th>\n      <td>서울특별시</td>\n      <td>동우주유소</td>\n      <td>서울특별시 강남구  봉은사로 311 (논현동)</td>\n      <td>SK에너지</td>\n      <td>02-542-6726</td>\n      <td>N</td>\n      <td>-</td>\n      <td>-</td>\n      <td>-</td>\n      <td>-</td>\n    </tr>\n    <tr>\n      <th>39</th>\n      <td>서울특별시</td>\n      <td>삼성주유소</td>\n      <td>서울 강남구 삼성로 521 (삼성동)</td>\n      <td>SK에너지</td>\n      <td>02-538-0809</td>\n      <td>N</td>\n      <td>-</td>\n      <td>-</td>\n      <td>-</td>\n      <td>-</td>\n    </tr>\n  </tbody>\n</table>\n<p>498 rows × 10 columns</p>\n</div>"
     },
     "metadata": {},
     "execution_count": 9
    }
   ],
   "source": [
    "station_files = glob('./1124_station_data/지역*.xls')\n",
    "tmp_raw = []\n",
    "\n",
    "for file_name in station_files:\n",
    "    tmp = pd.read_excel(file_name, header=2)\n",
    "    tmp_raw.append(tmp)\n",
    "\n",
    "station_raw = pd.concat(tmp_raw)\n",
    "station_raw"
   ]
  },
  {
   "cell_type": "code",
   "execution_count": 10,
   "metadata": {},
   "outputs": [
    {
     "output_type": "execute_result",
     "data": {
      "text/plain": [
       "      place_name           tel          address        lat         lng     지역  \\\n",
       "0         우장산주유소  02-3664-7163   서울 강서구 강서로 292  37.551611  126.836582  서울특별시   \n",
       "1   대성석유직영 관문주유소  02-3665-2051  서울 강서구 공항대로 314  37.557875  126.842367  서울특별시   \n",
       "2        화곡현대주유소  02-2607-1942   서울 강서구 강서로 151  37.540264  126.841200  서울특별시   \n",
       "3         신화곡주유소  02-2611-3161   서울 강서구 국회대로 71  37.527260  126.842889  서울특별시   \n",
       "4  GS칼텍스 경인고속주유소  02-2608-5151  서울 강서구 국회대로 225  37.529624  126.859795  서울특별시   \n",
       "5          목화주유소  02-2654-4564  서울 강서구 국회대로 251  37.530020  126.863062  서울특별시   \n",
       "6         뉴신정주유소  02-2601-0077  서울 강서구 곰달래로 207  37.531550  126.856042  서울특별시   \n",
       "7         화곡역주유소  02-2691-5151   서울 강서구 강서로 154  37.540625  126.841525  서울특별시   \n",
       "8   대성석유 마곡대성주유소  02-3664-7781   서울 강서구 강서로 457  37.566279  126.840412  서울특별시   \n",
       "9    대성석유방화대성주유소  02-3663-7781   서울 강서구 양천로 176  37.572898  126.823436  서울특별시   \n",
       "\n",
       "                상호                        주소     상표          전화번호 셀프여부 고급휘발유  \\\n",
       "0           우장산주유소     서울 강서구 강서로 292 (내발산동)  SK에너지  02-3664-7163    N     -   \n",
       "1   대성석유(주)직영관문주유소           서울 강서구 공항대로 314  GS칼텍스  02-3665-2051    N  1599   \n",
       "2          화곡현대주유소      서울 강서구 강서로 151 (화곡동)  SK에너지  02-2607-1942    Y  1455   \n",
       "3           신화곡주유소            서울 강서구 국회대로 71  S-OIL  02-2611-3161    Y     -   \n",
       "4  지에스칼텍스㈜ 경인고속주유소     서울 강서구 국회대로 225 (화곡동)  GS칼텍스  02-2608-5151    Y  1416   \n",
       "5            목화주유소     서울 강서구 국회대로 251 (화곡동)  SK에너지  02-2654-4564    Y     -   \n",
       "6           뉴신정주유소      서울 강서구 곰달래로 207(화곡동)  알뜰주유소  02-2601-0077    N     -   \n",
       "7           화곡역주유소  서울특별시 강서구  강서로 154 (화곡동)  알뜰주유소  02-2691-5151    Y     -   \n",
       "8  대성석유(주) 마곡대성주유소            서울 강서구 강서로 457  GS칼텍스  02-3664-7781    Y  1599   \n",
       "9   대성석유(주)방화대성주유소            서울 강서구 양천로 176  GS칼텍스  02-3663-7781    Y  1599   \n",
       "\n",
       "    휘발유    경유  실내등유  \n",
       "0  1358  1187  1000  \n",
       "1  1358  1187  1000  \n",
       "2  1326  1126     -  \n",
       "3  1315  1115     -  \n",
       "4  1266  1072  1100  \n",
       "5  1266  1072     -  \n",
       "6  1243  1043     -  \n",
       "7  1243  1043     -  \n",
       "8  1365  1185     -  \n",
       "9  1365  1175     -  "
      ],
      "text/html": "<div>\n<style scoped>\n    .dataframe tbody tr th:only-of-type {\n        vertical-align: middle;\n    }\n\n    .dataframe tbody tr th {\n        vertical-align: top;\n    }\n\n    .dataframe thead th {\n        text-align: right;\n    }\n</style>\n<table border=\"1\" class=\"dataframe\">\n  <thead>\n    <tr style=\"text-align: right;\">\n      <th></th>\n      <th>place_name</th>\n      <th>tel</th>\n      <th>address</th>\n      <th>lat</th>\n      <th>lng</th>\n      <th>지역</th>\n      <th>상호</th>\n      <th>주소</th>\n      <th>상표</th>\n      <th>전화번호</th>\n      <th>셀프여부</th>\n      <th>고급휘발유</th>\n      <th>휘발유</th>\n      <th>경유</th>\n      <th>실내등유</th>\n    </tr>\n  </thead>\n  <tbody>\n    <tr>\n      <th>0</th>\n      <td>우장산주유소</td>\n      <td>02-3664-7163</td>\n      <td>서울 강서구 강서로 292</td>\n      <td>37.551611</td>\n      <td>126.836582</td>\n      <td>서울특별시</td>\n      <td>우장산주유소</td>\n      <td>서울 강서구 강서로 292 (내발산동)</td>\n      <td>SK에너지</td>\n      <td>02-3664-7163</td>\n      <td>N</td>\n      <td>-</td>\n      <td>1358</td>\n      <td>1187</td>\n      <td>1000</td>\n    </tr>\n    <tr>\n      <th>1</th>\n      <td>대성석유직영 관문주유소</td>\n      <td>02-3665-2051</td>\n      <td>서울 강서구 공항대로 314</td>\n      <td>37.557875</td>\n      <td>126.842367</td>\n      <td>서울특별시</td>\n      <td>대성석유(주)직영관문주유소</td>\n      <td>서울 강서구 공항대로 314</td>\n      <td>GS칼텍스</td>\n      <td>02-3665-2051</td>\n      <td>N</td>\n      <td>1599</td>\n      <td>1358</td>\n      <td>1187</td>\n      <td>1000</td>\n    </tr>\n    <tr>\n      <th>2</th>\n      <td>화곡현대주유소</td>\n      <td>02-2607-1942</td>\n      <td>서울 강서구 강서로 151</td>\n      <td>37.540264</td>\n      <td>126.841200</td>\n      <td>서울특별시</td>\n      <td>화곡현대주유소</td>\n      <td>서울 강서구 강서로 151 (화곡동)</td>\n      <td>SK에너지</td>\n      <td>02-2607-1942</td>\n      <td>Y</td>\n      <td>1455</td>\n      <td>1326</td>\n      <td>1126</td>\n      <td>-</td>\n    </tr>\n    <tr>\n      <th>3</th>\n      <td>신화곡주유소</td>\n      <td>02-2611-3161</td>\n      <td>서울 강서구 국회대로 71</td>\n      <td>37.527260</td>\n      <td>126.842889</td>\n      <td>서울특별시</td>\n      <td>신화곡주유소</td>\n      <td>서울 강서구 국회대로 71</td>\n      <td>S-OIL</td>\n      <td>02-2611-3161</td>\n      <td>Y</td>\n      <td>-</td>\n      <td>1315</td>\n      <td>1115</td>\n      <td>-</td>\n    </tr>\n    <tr>\n      <th>4</th>\n      <td>GS칼텍스 경인고속주유소</td>\n      <td>02-2608-5151</td>\n      <td>서울 강서구 국회대로 225</td>\n      <td>37.529624</td>\n      <td>126.859795</td>\n      <td>서울특별시</td>\n      <td>지에스칼텍스㈜ 경인고속주유소</td>\n      <td>서울 강서구 국회대로 225 (화곡동)</td>\n      <td>GS칼텍스</td>\n      <td>02-2608-5151</td>\n      <td>Y</td>\n      <td>1416</td>\n      <td>1266</td>\n      <td>1072</td>\n      <td>1100</td>\n    </tr>\n    <tr>\n      <th>5</th>\n      <td>목화주유소</td>\n      <td>02-2654-4564</td>\n      <td>서울 강서구 국회대로 251</td>\n      <td>37.530020</td>\n      <td>126.863062</td>\n      <td>서울특별시</td>\n      <td>목화주유소</td>\n      <td>서울 강서구 국회대로 251 (화곡동)</td>\n      <td>SK에너지</td>\n      <td>02-2654-4564</td>\n      <td>Y</td>\n      <td>-</td>\n      <td>1266</td>\n      <td>1072</td>\n      <td>-</td>\n    </tr>\n    <tr>\n      <th>6</th>\n      <td>뉴신정주유소</td>\n      <td>02-2601-0077</td>\n      <td>서울 강서구 곰달래로 207</td>\n      <td>37.531550</td>\n      <td>126.856042</td>\n      <td>서울특별시</td>\n      <td>뉴신정주유소</td>\n      <td>서울 강서구 곰달래로 207(화곡동)</td>\n      <td>알뜰주유소</td>\n      <td>02-2601-0077</td>\n      <td>N</td>\n      <td>-</td>\n      <td>1243</td>\n      <td>1043</td>\n      <td>-</td>\n    </tr>\n    <tr>\n      <th>7</th>\n      <td>화곡역주유소</td>\n      <td>02-2691-5151</td>\n      <td>서울 강서구 강서로 154</td>\n      <td>37.540625</td>\n      <td>126.841525</td>\n      <td>서울특별시</td>\n      <td>화곡역주유소</td>\n      <td>서울특별시 강서구  강서로 154 (화곡동)</td>\n      <td>알뜰주유소</td>\n      <td>02-2691-5151</td>\n      <td>Y</td>\n      <td>-</td>\n      <td>1243</td>\n      <td>1043</td>\n      <td>-</td>\n    </tr>\n    <tr>\n      <th>8</th>\n      <td>대성석유 마곡대성주유소</td>\n      <td>02-3664-7781</td>\n      <td>서울 강서구 강서로 457</td>\n      <td>37.566279</td>\n      <td>126.840412</td>\n      <td>서울특별시</td>\n      <td>대성석유(주) 마곡대성주유소</td>\n      <td>서울 강서구 강서로 457</td>\n      <td>GS칼텍스</td>\n      <td>02-3664-7781</td>\n      <td>Y</td>\n      <td>1599</td>\n      <td>1365</td>\n      <td>1185</td>\n      <td>-</td>\n    </tr>\n    <tr>\n      <th>9</th>\n      <td>대성석유방화대성주유소</td>\n      <td>02-3663-7781</td>\n      <td>서울 강서구 양천로 176</td>\n      <td>37.572898</td>\n      <td>126.823436</td>\n      <td>서울특별시</td>\n      <td>대성석유(주)방화대성주유소</td>\n      <td>서울 강서구 양천로 176</td>\n      <td>GS칼텍스</td>\n      <td>02-3663-7781</td>\n      <td>Y</td>\n      <td>1599</td>\n      <td>1365</td>\n      <td>1175</td>\n      <td>-</td>\n    </tr>\n  </tbody>\n</table>\n</div>"
     },
     "metadata": {},
     "execution_count": 10
    }
   ],
   "source": [
    "df = pd.merge(station_data, station_raw, left_on='tel', right_on='전화번호', how='inner')\n",
    "df"
   ]
  },
  {
   "cell_type": "code",
   "execution_count": 11,
   "metadata": {},
   "outputs": [
    {
     "output_type": "execute_result",
     "data": {
      "text/plain": [
       "      place_name          address           tel     상표   휘발유        lat  \\\n",
       "0         우장산주유소   서울 강서구 강서로 292  02-3664-7163  SK에너지  1358  37.551611   \n",
       "1   대성석유직영 관문주유소  서울 강서구 공항대로 314  02-3665-2051  GS칼텍스  1358  37.557875   \n",
       "2        화곡현대주유소   서울 강서구 강서로 151  02-2607-1942  SK에너지  1326  37.540264   \n",
       "3         신화곡주유소   서울 강서구 국회대로 71  02-2611-3161  S-OIL  1315  37.527260   \n",
       "4  GS칼텍스 경인고속주유소  서울 강서구 국회대로 225  02-2608-5151  GS칼텍스  1266  37.529624   \n",
       "5          목화주유소  서울 강서구 국회대로 251  02-2654-4564  SK에너지  1266  37.530020   \n",
       "6         뉴신정주유소  서울 강서구 곰달래로 207  02-2601-0077  알뜰주유소  1243  37.531550   \n",
       "7         화곡역주유소   서울 강서구 강서로 154  02-2691-5151  알뜰주유소  1243  37.540625   \n",
       "8   대성석유 마곡대성주유소   서울 강서구 강서로 457  02-3664-7781  GS칼텍스  1365  37.566279   \n",
       "9    대성석유방화대성주유소   서울 강서구 양천로 176  02-3663-7781  GS칼텍스  1365  37.572898   \n",
       "\n",
       "          lng  \n",
       "0  126.836582  \n",
       "1  126.842367  \n",
       "2  126.841200  \n",
       "3  126.842889  \n",
       "4  126.859795  \n",
       "5  126.863062  \n",
       "6  126.856042  \n",
       "7  126.841525  \n",
       "8  126.840412  \n",
       "9  126.823436  "
      ],
      "text/html": "<div>\n<style scoped>\n    .dataframe tbody tr th:only-of-type {\n        vertical-align: middle;\n    }\n\n    .dataframe tbody tr th {\n        vertical-align: top;\n    }\n\n    .dataframe thead th {\n        text-align: right;\n    }\n</style>\n<table border=\"1\" class=\"dataframe\">\n  <thead>\n    <tr style=\"text-align: right;\">\n      <th></th>\n      <th>place_name</th>\n      <th>address</th>\n      <th>tel</th>\n      <th>상표</th>\n      <th>휘발유</th>\n      <th>lat</th>\n      <th>lng</th>\n    </tr>\n  </thead>\n  <tbody>\n    <tr>\n      <th>0</th>\n      <td>우장산주유소</td>\n      <td>서울 강서구 강서로 292</td>\n      <td>02-3664-7163</td>\n      <td>SK에너지</td>\n      <td>1358</td>\n      <td>37.551611</td>\n      <td>126.836582</td>\n    </tr>\n    <tr>\n      <th>1</th>\n      <td>대성석유직영 관문주유소</td>\n      <td>서울 강서구 공항대로 314</td>\n      <td>02-3665-2051</td>\n      <td>GS칼텍스</td>\n      <td>1358</td>\n      <td>37.557875</td>\n      <td>126.842367</td>\n    </tr>\n    <tr>\n      <th>2</th>\n      <td>화곡현대주유소</td>\n      <td>서울 강서구 강서로 151</td>\n      <td>02-2607-1942</td>\n      <td>SK에너지</td>\n      <td>1326</td>\n      <td>37.540264</td>\n      <td>126.841200</td>\n    </tr>\n    <tr>\n      <th>3</th>\n      <td>신화곡주유소</td>\n      <td>서울 강서구 국회대로 71</td>\n      <td>02-2611-3161</td>\n      <td>S-OIL</td>\n      <td>1315</td>\n      <td>37.527260</td>\n      <td>126.842889</td>\n    </tr>\n    <tr>\n      <th>4</th>\n      <td>GS칼텍스 경인고속주유소</td>\n      <td>서울 강서구 국회대로 225</td>\n      <td>02-2608-5151</td>\n      <td>GS칼텍스</td>\n      <td>1266</td>\n      <td>37.529624</td>\n      <td>126.859795</td>\n    </tr>\n    <tr>\n      <th>5</th>\n      <td>목화주유소</td>\n      <td>서울 강서구 국회대로 251</td>\n      <td>02-2654-4564</td>\n      <td>SK에너지</td>\n      <td>1266</td>\n      <td>37.530020</td>\n      <td>126.863062</td>\n    </tr>\n    <tr>\n      <th>6</th>\n      <td>뉴신정주유소</td>\n      <td>서울 강서구 곰달래로 207</td>\n      <td>02-2601-0077</td>\n      <td>알뜰주유소</td>\n      <td>1243</td>\n      <td>37.531550</td>\n      <td>126.856042</td>\n    </tr>\n    <tr>\n      <th>7</th>\n      <td>화곡역주유소</td>\n      <td>서울 강서구 강서로 154</td>\n      <td>02-2691-5151</td>\n      <td>알뜰주유소</td>\n      <td>1243</td>\n      <td>37.540625</td>\n      <td>126.841525</td>\n    </tr>\n    <tr>\n      <th>8</th>\n      <td>대성석유 마곡대성주유소</td>\n      <td>서울 강서구 강서로 457</td>\n      <td>02-3664-7781</td>\n      <td>GS칼텍스</td>\n      <td>1365</td>\n      <td>37.566279</td>\n      <td>126.840412</td>\n    </tr>\n    <tr>\n      <th>9</th>\n      <td>대성석유방화대성주유소</td>\n      <td>서울 강서구 양천로 176</td>\n      <td>02-3663-7781</td>\n      <td>GS칼텍스</td>\n      <td>1365</td>\n      <td>37.572898</td>\n      <td>126.823436</td>\n    </tr>\n  </tbody>\n</table>\n</div>"
     },
     "metadata": {},
     "execution_count": 11
    }
   ],
   "source": [
    "df = df[['place_name', 'address', 'tel', '상표', '휘발유', 'lat', 'lng']]\n",
    "df"
   ]
  },
  {
   "cell_type": "code",
   "execution_count": 12,
   "metadata": {},
   "outputs": [
    {
     "output_type": "execute_result",
     "data": {
      "text/plain": [
       "      place_name          address           tel     상표   휘발유        lat  \\\n",
       "6         뉴신정주유소  서울 강서구 곰달래로 207  02-2601-0077  알뜰주유소  1243  37.531550   \n",
       "7         화곡역주유소   서울 강서구 강서로 154  02-2691-5151  알뜰주유소  1243  37.540625   \n",
       "4  GS칼텍스 경인고속주유소  서울 강서구 국회대로 225  02-2608-5151  GS칼텍스  1266  37.529624   \n",
       "5          목화주유소  서울 강서구 국회대로 251  02-2654-4564  SK에너지  1266  37.530020   \n",
       "3         신화곡주유소   서울 강서구 국회대로 71  02-2611-3161  S-OIL  1315  37.527260   \n",
       "2        화곡현대주유소   서울 강서구 강서로 151  02-2607-1942  SK에너지  1326  37.540264   \n",
       "0         우장산주유소   서울 강서구 강서로 292  02-3664-7163  SK에너지  1358  37.551611   \n",
       "1   대성석유직영 관문주유소  서울 강서구 공항대로 314  02-3665-2051  GS칼텍스  1358  37.557875   \n",
       "8   대성석유 마곡대성주유소   서울 강서구 강서로 457  02-3664-7781  GS칼텍스  1365  37.566279   \n",
       "9    대성석유방화대성주유소   서울 강서구 양천로 176  02-3663-7781  GS칼텍스  1365  37.572898   \n",
       "\n",
       "          lng  \n",
       "6  126.856042  \n",
       "7  126.841525  \n",
       "4  126.859795  \n",
       "5  126.863062  \n",
       "3  126.842889  \n",
       "2  126.841200  \n",
       "0  126.836582  \n",
       "1  126.842367  \n",
       "8  126.840412  \n",
       "9  126.823436  "
      ],
      "text/html": "<div>\n<style scoped>\n    .dataframe tbody tr th:only-of-type {\n        vertical-align: middle;\n    }\n\n    .dataframe tbody tr th {\n        vertical-align: top;\n    }\n\n    .dataframe thead th {\n        text-align: right;\n    }\n</style>\n<table border=\"1\" class=\"dataframe\">\n  <thead>\n    <tr style=\"text-align: right;\">\n      <th></th>\n      <th>place_name</th>\n      <th>address</th>\n      <th>tel</th>\n      <th>상표</th>\n      <th>휘발유</th>\n      <th>lat</th>\n      <th>lng</th>\n    </tr>\n  </thead>\n  <tbody>\n    <tr>\n      <th>6</th>\n      <td>뉴신정주유소</td>\n      <td>서울 강서구 곰달래로 207</td>\n      <td>02-2601-0077</td>\n      <td>알뜰주유소</td>\n      <td>1243</td>\n      <td>37.531550</td>\n      <td>126.856042</td>\n    </tr>\n    <tr>\n      <th>7</th>\n      <td>화곡역주유소</td>\n      <td>서울 강서구 강서로 154</td>\n      <td>02-2691-5151</td>\n      <td>알뜰주유소</td>\n      <td>1243</td>\n      <td>37.540625</td>\n      <td>126.841525</td>\n    </tr>\n    <tr>\n      <th>4</th>\n      <td>GS칼텍스 경인고속주유소</td>\n      <td>서울 강서구 국회대로 225</td>\n      <td>02-2608-5151</td>\n      <td>GS칼텍스</td>\n      <td>1266</td>\n      <td>37.529624</td>\n      <td>126.859795</td>\n    </tr>\n    <tr>\n      <th>5</th>\n      <td>목화주유소</td>\n      <td>서울 강서구 국회대로 251</td>\n      <td>02-2654-4564</td>\n      <td>SK에너지</td>\n      <td>1266</td>\n      <td>37.530020</td>\n      <td>126.863062</td>\n    </tr>\n    <tr>\n      <th>3</th>\n      <td>신화곡주유소</td>\n      <td>서울 강서구 국회대로 71</td>\n      <td>02-2611-3161</td>\n      <td>S-OIL</td>\n      <td>1315</td>\n      <td>37.527260</td>\n      <td>126.842889</td>\n    </tr>\n    <tr>\n      <th>2</th>\n      <td>화곡현대주유소</td>\n      <td>서울 강서구 강서로 151</td>\n      <td>02-2607-1942</td>\n      <td>SK에너지</td>\n      <td>1326</td>\n      <td>37.540264</td>\n      <td>126.841200</td>\n    </tr>\n    <tr>\n      <th>0</th>\n      <td>우장산주유소</td>\n      <td>서울 강서구 강서로 292</td>\n      <td>02-3664-7163</td>\n      <td>SK에너지</td>\n      <td>1358</td>\n      <td>37.551611</td>\n      <td>126.836582</td>\n    </tr>\n    <tr>\n      <th>1</th>\n      <td>대성석유직영 관문주유소</td>\n      <td>서울 강서구 공항대로 314</td>\n      <td>02-3665-2051</td>\n      <td>GS칼텍스</td>\n      <td>1358</td>\n      <td>37.557875</td>\n      <td>126.842367</td>\n    </tr>\n    <tr>\n      <th>8</th>\n      <td>대성석유 마곡대성주유소</td>\n      <td>서울 강서구 강서로 457</td>\n      <td>02-3664-7781</td>\n      <td>GS칼텍스</td>\n      <td>1365</td>\n      <td>37.566279</td>\n      <td>126.840412</td>\n    </tr>\n    <tr>\n      <th>9</th>\n      <td>대성석유방화대성주유소</td>\n      <td>서울 강서구 양천로 176</td>\n      <td>02-3663-7781</td>\n      <td>GS칼텍스</td>\n      <td>1365</td>\n      <td>37.572898</td>\n      <td>126.823436</td>\n    </tr>\n  </tbody>\n</table>\n</div>"
     },
     "metadata": {},
     "execution_count": 12
    }
   ],
   "source": [
    "df = df.sort_values(by='휘발유')\n",
    "df"
   ]
  },
  {
   "cell_type": "code",
   "execution_count": 19,
   "metadata": {},
   "outputs": [
    {
     "output_type": "execute_result",
     "data": {
      "text/plain": [
       "<folium.folium.Map at 0x285e6286c70>"
      ],
      "text/html": "<div style=\"width:100%;\"><div style=\"position:relative;width:100%;height:0;padding-bottom:60%;\"><span style=\"color:#565656\">Make this Notebook Trusted to load map: File -> Trust Notebook</span><iframe src=\"about:blank\" style=\"position:absolute;width:100%;height:100%;left:0;top:0;border:none !important;\" data-html=%3C%21DOCTYPE%20html%3E%0A%3Chead%3E%20%20%20%20%0A%20%20%20%20%3Cmeta%20http-equiv%3D%22content-type%22%20content%3D%22text/html%3B%20charset%3DUTF-8%22%20/%3E%0A%20%20%20%20%0A%20%20%20%20%20%20%20%20%3Cscript%3E%0A%20%20%20%20%20%20%20%20%20%20%20%20L_NO_TOUCH%20%3D%20false%3B%0A%20%20%20%20%20%20%20%20%20%20%20%20L_DISABLE_3D%20%3D%20false%3B%0A%20%20%20%20%20%20%20%20%3C/script%3E%0A%20%20%20%20%0A%20%20%20%20%3Cscript%20src%3D%22https%3A//cdn.jsdelivr.net/npm/leaflet%401.6.0/dist/leaflet.js%22%3E%3C/script%3E%0A%20%20%20%20%3Cscript%20src%3D%22https%3A//code.jquery.com/jquery-1.12.4.min.js%22%3E%3C/script%3E%0A%20%20%20%20%3Cscript%20src%3D%22https%3A//maxcdn.bootstrapcdn.com/bootstrap/3.2.0/js/bootstrap.min.js%22%3E%3C/script%3E%0A%20%20%20%20%3Cscript%20src%3D%22https%3A//cdnjs.cloudflare.com/ajax/libs/Leaflet.awesome-markers/2.0.2/leaflet.awesome-markers.js%22%3E%3C/script%3E%0A%20%20%20%20%3Clink%20rel%3D%22stylesheet%22%20href%3D%22https%3A//cdn.jsdelivr.net/npm/leaflet%401.6.0/dist/leaflet.css%22/%3E%0A%20%20%20%20%3Clink%20rel%3D%22stylesheet%22%20href%3D%22https%3A//maxcdn.bootstrapcdn.com/bootstrap/3.2.0/css/bootstrap.min.css%22/%3E%0A%20%20%20%20%3Clink%20rel%3D%22stylesheet%22%20href%3D%22https%3A//maxcdn.bootstrapcdn.com/bootstrap/3.2.0/css/bootstrap-theme.min.css%22/%3E%0A%20%20%20%20%3Clink%20rel%3D%22stylesheet%22%20href%3D%22https%3A//maxcdn.bootstrapcdn.com/font-awesome/4.6.3/css/font-awesome.min.css%22/%3E%0A%20%20%20%20%3Clink%20rel%3D%22stylesheet%22%20href%3D%22https%3A//cdnjs.cloudflare.com/ajax/libs/Leaflet.awesome-markers/2.0.2/leaflet.awesome-markers.css%22/%3E%0A%20%20%20%20%3Clink%20rel%3D%22stylesheet%22%20href%3D%22https%3A//rawcdn.githack.com/python-visualization/folium/master/folium/templates/leaflet.awesome.rotate.css%22/%3E%0A%20%20%20%20%3Cstyle%3Ehtml%2C%20body%20%7Bwidth%3A%20100%25%3Bheight%3A%20100%25%3Bmargin%3A%200%3Bpadding%3A%200%3B%7D%3C/style%3E%0A%20%20%20%20%3Cstyle%3E%23map%20%7Bposition%3Aabsolute%3Btop%3A0%3Bbottom%3A0%3Bright%3A0%3Bleft%3A0%3B%7D%3C/style%3E%0A%20%20%20%20%0A%20%20%20%20%20%20%20%20%20%20%20%20%3Cmeta%20name%3D%22viewport%22%20content%3D%22width%3Ddevice-width%2C%0A%20%20%20%20%20%20%20%20%20%20%20%20%20%20%20%20initial-scale%3D1.0%2C%20maximum-scale%3D1.0%2C%20user-scalable%3Dno%22%20/%3E%0A%20%20%20%20%20%20%20%20%20%20%20%20%3Cstyle%3E%0A%20%20%20%20%20%20%20%20%20%20%20%20%20%20%20%20%23map_3b5039054b6746e397ce7cd5cfbe9f28%20%7B%0A%20%20%20%20%20%20%20%20%20%20%20%20%20%20%20%20%20%20%20%20position%3A%20relative%3B%0A%20%20%20%20%20%20%20%20%20%20%20%20%20%20%20%20%20%20%20%20width%3A%20100.0%25%3B%0A%20%20%20%20%20%20%20%20%20%20%20%20%20%20%20%20%20%20%20%20height%3A%20100.0%25%3B%0A%20%20%20%20%20%20%20%20%20%20%20%20%20%20%20%20%20%20%20%20left%3A%200.0%25%3B%0A%20%20%20%20%20%20%20%20%20%20%20%20%20%20%20%20%20%20%20%20top%3A%200.0%25%3B%0A%20%20%20%20%20%20%20%20%20%20%20%20%20%20%20%20%7D%0A%20%20%20%20%20%20%20%20%20%20%20%20%3C/style%3E%0A%20%20%20%20%20%20%20%20%0A%3C/head%3E%0A%3Cbody%3E%20%20%20%20%0A%20%20%20%20%0A%20%20%20%20%20%20%20%20%20%20%20%20%3Cdiv%20class%3D%22folium-map%22%20id%3D%22map_3b5039054b6746e397ce7cd5cfbe9f28%22%20%3E%3C/div%3E%0A%20%20%20%20%20%20%20%20%0A%3C/body%3E%0A%3Cscript%3E%20%20%20%20%0A%20%20%20%20%0A%20%20%20%20%20%20%20%20%20%20%20%20var%20map_3b5039054b6746e397ce7cd5cfbe9f28%20%3D%20L.map%28%0A%20%20%20%20%20%20%20%20%20%20%20%20%20%20%20%20%22map_3b5039054b6746e397ce7cd5cfbe9f28%22%2C%0A%20%20%20%20%20%20%20%20%20%20%20%20%20%20%20%20%7B%0A%20%20%20%20%20%20%20%20%20%20%20%20%20%20%20%20%20%20%20%20center%3A%20%5B37.544800601234%2C%20126.84473084117664%5D%2C%0A%20%20%20%20%20%20%20%20%20%20%20%20%20%20%20%20%20%20%20%20crs%3A%20L.CRS.EPSG3857%2C%0A%20%20%20%20%20%20%20%20%20%20%20%20%20%20%20%20%20%20%20%20zoom%3A%2013%2C%0A%20%20%20%20%20%20%20%20%20%20%20%20%20%20%20%20%20%20%20%20zoomControl%3A%20true%2C%0A%20%20%20%20%20%20%20%20%20%20%20%20%20%20%20%20%20%20%20%20preferCanvas%3A%20false%2C%0A%20%20%20%20%20%20%20%20%20%20%20%20%20%20%20%20%7D%0A%20%20%20%20%20%20%20%20%20%20%20%20%29%3B%0A%0A%20%20%20%20%20%20%20%20%20%20%20%20%0A%0A%20%20%20%20%20%20%20%20%0A%20%20%20%20%0A%20%20%20%20%20%20%20%20%20%20%20%20var%20tile_layer_f4c759aec4054b34b81f075084fd4043%20%3D%20L.tileLayer%28%0A%20%20%20%20%20%20%20%20%20%20%20%20%20%20%20%20%22https%3A//%7Bs%7D.tile.openstreetmap.org/%7Bz%7D/%7Bx%7D/%7By%7D.png%22%2C%0A%20%20%20%20%20%20%20%20%20%20%20%20%20%20%20%20%7B%22attribution%22%3A%20%22Data%20by%20%5Cu0026copy%3B%20%5Cu003ca%20href%3D%5C%22http%3A//openstreetmap.org%5C%22%5Cu003eOpenStreetMap%5Cu003c/a%5Cu003e%2C%20under%20%5Cu003ca%20href%3D%5C%22http%3A//www.openstreetmap.org/copyright%5C%22%5Cu003eODbL%5Cu003c/a%5Cu003e.%22%2C%20%22detectRetina%22%3A%20false%2C%20%22maxNativeZoom%22%3A%2018%2C%20%22maxZoom%22%3A%2018%2C%20%22minZoom%22%3A%200%2C%20%22noWrap%22%3A%20false%2C%20%22opacity%22%3A%201%2C%20%22subdomains%22%3A%20%22abc%22%2C%20%22tms%22%3A%20false%7D%0A%20%20%20%20%20%20%20%20%20%20%20%20%29.addTo%28map_3b5039054b6746e397ce7cd5cfbe9f28%29%3B%0A%20%20%20%20%20%20%20%20%0A%20%20%20%20%0A%20%20%20%20%20%20%20%20%20%20%20%20var%20marker_82a3edd8df2f4569960ecbf5eb07bbd4%20%3D%20L.marker%28%0A%20%20%20%20%20%20%20%20%20%20%20%20%20%20%20%20%5B37.53154989241573%2C%20126.85604195207029%5D%2C%0A%20%20%20%20%20%20%20%20%20%20%20%20%20%20%20%20%7B%7D%0A%20%20%20%20%20%20%20%20%20%20%20%20%29.addTo%28map_3b5039054b6746e397ce7cd5cfbe9f28%29%3B%0A%20%20%20%20%20%20%20%20%0A%20%20%20%20%0A%20%20%20%20%20%20%20%20%20%20%20%20var%20icon_7997d0c2156a44ba8f7e7028905041bf%20%3D%20L.AwesomeMarkers.icon%28%0A%20%20%20%20%20%20%20%20%20%20%20%20%20%20%20%20%7B%22extraClasses%22%3A%20%22fa-rotate-0%22%2C%20%22icon%22%3A%20%22tint%22%2C%20%22iconColor%22%3A%20%22white%22%2C%20%22markerColor%22%3A%20%22blue%22%2C%20%22prefix%22%3A%20%22glyphicon%22%7D%0A%20%20%20%20%20%20%20%20%20%20%20%20%29%3B%0A%20%20%20%20%20%20%20%20%20%20%20%20marker_82a3edd8df2f4569960ecbf5eb07bbd4.setIcon%28icon_7997d0c2156a44ba8f7e7028905041bf%29%3B%0A%20%20%20%20%20%20%20%20%0A%20%20%20%20%0A%20%20%20%20%20%20%20%20var%20popup_1dd74a3e81fa49eabc0072f1c57c3829%20%3D%20L.popup%28%7B%22maxWidth%22%3A%20%22100%25%22%7D%29%3B%0A%0A%20%20%20%20%20%20%20%20%0A%20%20%20%20%20%20%20%20%20%20%20%20var%20html_02a52ee017e7446bb79cf027288d652a%20%3D%20%24%28%60%3Cdiv%20id%3D%22html_02a52ee017e7446bb79cf027288d652a%22%20style%3D%22width%3A%20100.0%25%3B%20height%3A%20100.0%25%3B%22%3E%EB%89%B4%EC%8B%A0%EC%A0%95%EC%A3%BC%EC%9C%A0%EC%86%8C%3C/div%3E%60%29%5B0%5D%3B%0A%20%20%20%20%20%20%20%20%20%20%20%20popup_1dd74a3e81fa49eabc0072f1c57c3829.setContent%28html_02a52ee017e7446bb79cf027288d652a%29%3B%0A%20%20%20%20%20%20%20%20%0A%0A%20%20%20%20%20%20%20%20marker_82a3edd8df2f4569960ecbf5eb07bbd4.bindPopup%28popup_1dd74a3e81fa49eabc0072f1c57c3829%29%0A%20%20%20%20%20%20%20%20%3B%0A%0A%20%20%20%20%20%20%20%20%0A%20%20%20%20%0A%20%20%20%20%0A%20%20%20%20%20%20%20%20%20%20%20%20marker_82a3edd8df2f4569960ecbf5eb07bbd4.bindTooltip%28%0A%20%20%20%20%20%20%20%20%20%20%20%20%20%20%20%20%60%3Cdiv%3E%0A%20%20%20%20%20%20%20%20%20%20%20%20%20%20%20%20%20%20%20%20%201243%20%EC%9B%90%0A%20%20%20%20%20%20%20%20%20%20%20%20%20%20%20%20%20%3C/div%3E%60%2C%0A%20%20%20%20%20%20%20%20%20%20%20%20%20%20%20%20%7B%22sticky%22%3A%20true%7D%0A%20%20%20%20%20%20%20%20%20%20%20%20%29%3B%0A%20%20%20%20%20%20%20%20%0A%20%20%20%20%0A%20%20%20%20%20%20%20%20%20%20%20%20var%20marker_11c875a14652408986fa632c4c0e8280%20%3D%20L.marker%28%0A%20%20%20%20%20%20%20%20%20%20%20%20%20%20%20%20%5B37.5406250950297%2C%20126.841525355833%5D%2C%0A%20%20%20%20%20%20%20%20%20%20%20%20%20%20%20%20%7B%7D%0A%20%20%20%20%20%20%20%20%20%20%20%20%29.addTo%28map_3b5039054b6746e397ce7cd5cfbe9f28%29%3B%0A%20%20%20%20%20%20%20%20%0A%20%20%20%20%0A%20%20%20%20%20%20%20%20%20%20%20%20var%20icon_2ba5f8823b104f338d169940eb94b36a%20%3D%20L.AwesomeMarkers.icon%28%0A%20%20%20%20%20%20%20%20%20%20%20%20%20%20%20%20%7B%22extraClasses%22%3A%20%22fa-rotate-0%22%2C%20%22icon%22%3A%20%22tint%22%2C%20%22iconColor%22%3A%20%22white%22%2C%20%22markerColor%22%3A%20%22blue%22%2C%20%22prefix%22%3A%20%22glyphicon%22%7D%0A%20%20%20%20%20%20%20%20%20%20%20%20%29%3B%0A%20%20%20%20%20%20%20%20%20%20%20%20marker_11c875a14652408986fa632c4c0e8280.setIcon%28icon_2ba5f8823b104f338d169940eb94b36a%29%3B%0A%20%20%20%20%20%20%20%20%0A%20%20%20%20%0A%20%20%20%20%20%20%20%20var%20popup_57afbd9dbdfd4ddc9142647a6a168dab%20%3D%20L.popup%28%7B%22maxWidth%22%3A%20%22100%25%22%7D%29%3B%0A%0A%20%20%20%20%20%20%20%20%0A%20%20%20%20%20%20%20%20%20%20%20%20var%20html_a4674c2ab23a4badbce99d77d88b5b51%20%3D%20%24%28%60%3Cdiv%20id%3D%22html_a4674c2ab23a4badbce99d77d88b5b51%22%20style%3D%22width%3A%20100.0%25%3B%20height%3A%20100.0%25%3B%22%3E%ED%99%94%EA%B3%A1%EC%97%AD%EC%A3%BC%EC%9C%A0%EC%86%8C%3C/div%3E%60%29%5B0%5D%3B%0A%20%20%20%20%20%20%20%20%20%20%20%20popup_57afbd9dbdfd4ddc9142647a6a168dab.setContent%28html_a4674c2ab23a4badbce99d77d88b5b51%29%3B%0A%20%20%20%20%20%20%20%20%0A%0A%20%20%20%20%20%20%20%20marker_11c875a14652408986fa632c4c0e8280.bindPopup%28popup_57afbd9dbdfd4ddc9142647a6a168dab%29%0A%20%20%20%20%20%20%20%20%3B%0A%0A%20%20%20%20%20%20%20%20%0A%20%20%20%20%0A%20%20%20%20%0A%20%20%20%20%20%20%20%20%20%20%20%20marker_11c875a14652408986fa632c4c0e8280.bindTooltip%28%0A%20%20%20%20%20%20%20%20%20%20%20%20%20%20%20%20%60%3Cdiv%3E%0A%20%20%20%20%20%20%20%20%20%20%20%20%20%20%20%20%20%20%20%20%201243%20%EC%9B%90%0A%20%20%20%20%20%20%20%20%20%20%20%20%20%20%20%20%20%3C/div%3E%60%2C%0A%20%20%20%20%20%20%20%20%20%20%20%20%20%20%20%20%7B%22sticky%22%3A%20true%7D%0A%20%20%20%20%20%20%20%20%20%20%20%20%29%3B%0A%20%20%20%20%20%20%20%20%0A%20%20%20%20%0A%20%20%20%20%20%20%20%20%20%20%20%20var%20marker_21228116d26d438892caee4dc5d186f7%20%3D%20L.marker%28%0A%20%20%20%20%20%20%20%20%20%20%20%20%20%20%20%20%5B37.5296235629422%2C%20126.859794923014%5D%2C%0A%20%20%20%20%20%20%20%20%20%20%20%20%20%20%20%20%7B%7D%0A%20%20%20%20%20%20%20%20%20%20%20%20%29.addTo%28map_3b5039054b6746e397ce7cd5cfbe9f28%29%3B%0A%20%20%20%20%20%20%20%20%0A%20%20%20%20%0A%20%20%20%20%20%20%20%20%20%20%20%20var%20icon_6691c56ffd8d40359ca1526087cd2ef4%20%3D%20L.AwesomeMarkers.icon%28%0A%20%20%20%20%20%20%20%20%20%20%20%20%20%20%20%20%7B%22extraClasses%22%3A%20%22fa-rotate-0%22%2C%20%22icon%22%3A%20%22tint%22%2C%20%22iconColor%22%3A%20%22white%22%2C%20%22markerColor%22%3A%20%22blue%22%2C%20%22prefix%22%3A%20%22glyphicon%22%7D%0A%20%20%20%20%20%20%20%20%20%20%20%20%29%3B%0A%20%20%20%20%20%20%20%20%20%20%20%20marker_21228116d26d438892caee4dc5d186f7.setIcon%28icon_6691c56ffd8d40359ca1526087cd2ef4%29%3B%0A%20%20%20%20%20%20%20%20%0A%20%20%20%20%0A%20%20%20%20%20%20%20%20var%20popup_aaee7cfc84f24eb5ac036b3bb21c9fd7%20%3D%20L.popup%28%7B%22maxWidth%22%3A%20%22100%25%22%7D%29%3B%0A%0A%20%20%20%20%20%20%20%20%0A%20%20%20%20%20%20%20%20%20%20%20%20var%20html_70190ce2e76b44ba8a1b326043d0931f%20%3D%20%24%28%60%3Cdiv%20id%3D%22html_70190ce2e76b44ba8a1b326043d0931f%22%20style%3D%22width%3A%20100.0%25%3B%20height%3A%20100.0%25%3B%22%3EGS%EC%B9%BC%ED%85%8D%EC%8A%A4%20%EA%B2%BD%EC%9D%B8%EA%B3%A0%EC%86%8D%EC%A3%BC%EC%9C%A0%EC%86%8C%3C/div%3E%60%29%5B0%5D%3B%0A%20%20%20%20%20%20%20%20%20%20%20%20popup_aaee7cfc84f24eb5ac036b3bb21c9fd7.setContent%28html_70190ce2e76b44ba8a1b326043d0931f%29%3B%0A%20%20%20%20%20%20%20%20%0A%0A%20%20%20%20%20%20%20%20marker_21228116d26d438892caee4dc5d186f7.bindPopup%28popup_aaee7cfc84f24eb5ac036b3bb21c9fd7%29%0A%20%20%20%20%20%20%20%20%3B%0A%0A%20%20%20%20%20%20%20%20%0A%20%20%20%20%0A%20%20%20%20%0A%20%20%20%20%20%20%20%20%20%20%20%20marker_21228116d26d438892caee4dc5d186f7.bindTooltip%28%0A%20%20%20%20%20%20%20%20%20%20%20%20%20%20%20%20%60%3Cdiv%3E%0A%20%20%20%20%20%20%20%20%20%20%20%20%20%20%20%20%20%20%20%20%201266%20%EC%9B%90%0A%20%20%20%20%20%20%20%20%20%20%20%20%20%20%20%20%20%3C/div%3E%60%2C%0A%20%20%20%20%20%20%20%20%20%20%20%20%20%20%20%20%7B%22sticky%22%3A%20true%7D%0A%20%20%20%20%20%20%20%20%20%20%20%20%29%3B%0A%20%20%20%20%20%20%20%20%0A%20%20%20%20%0A%20%20%20%20%20%20%20%20%20%20%20%20var%20marker_25ba752ddacf4bb4845e4906a75703b5%20%3D%20L.marker%28%0A%20%20%20%20%20%20%20%20%20%20%20%20%20%20%20%20%5B37.5300202321542%2C%20126.863061514823%5D%2C%0A%20%20%20%20%20%20%20%20%20%20%20%20%20%20%20%20%7B%7D%0A%20%20%20%20%20%20%20%20%20%20%20%20%29.addTo%28map_3b5039054b6746e397ce7cd5cfbe9f28%29%3B%0A%20%20%20%20%20%20%20%20%0A%20%20%20%20%0A%20%20%20%20%20%20%20%20%20%20%20%20var%20icon_4c7d422294bc41408bf69116313f5d34%20%3D%20L.AwesomeMarkers.icon%28%0A%20%20%20%20%20%20%20%20%20%20%20%20%20%20%20%20%7B%22extraClasses%22%3A%20%22fa-rotate-0%22%2C%20%22icon%22%3A%20%22tint%22%2C%20%22iconColor%22%3A%20%22white%22%2C%20%22markerColor%22%3A%20%22blue%22%2C%20%22prefix%22%3A%20%22glyphicon%22%7D%0A%20%20%20%20%20%20%20%20%20%20%20%20%29%3B%0A%20%20%20%20%20%20%20%20%20%20%20%20marker_25ba752ddacf4bb4845e4906a75703b5.setIcon%28icon_4c7d422294bc41408bf69116313f5d34%29%3B%0A%20%20%20%20%20%20%20%20%0A%20%20%20%20%0A%20%20%20%20%20%20%20%20var%20popup_25e30f25a0c64a4a859c36b3cf80e282%20%3D%20L.popup%28%7B%22maxWidth%22%3A%20%22100%25%22%7D%29%3B%0A%0A%20%20%20%20%20%20%20%20%0A%20%20%20%20%20%20%20%20%20%20%20%20var%20html_4d6fa26d34604f61a13685162ec66bcf%20%3D%20%24%28%60%3Cdiv%20id%3D%22html_4d6fa26d34604f61a13685162ec66bcf%22%20style%3D%22width%3A%20100.0%25%3B%20height%3A%20100.0%25%3B%22%3E%EB%AA%A9%ED%99%94%EC%A3%BC%EC%9C%A0%EC%86%8C%3C/div%3E%60%29%5B0%5D%3B%0A%20%20%20%20%20%20%20%20%20%20%20%20popup_25e30f25a0c64a4a859c36b3cf80e282.setContent%28html_4d6fa26d34604f61a13685162ec66bcf%29%3B%0A%20%20%20%20%20%20%20%20%0A%0A%20%20%20%20%20%20%20%20marker_25ba752ddacf4bb4845e4906a75703b5.bindPopup%28popup_25e30f25a0c64a4a859c36b3cf80e282%29%0A%20%20%20%20%20%20%20%20%3B%0A%0A%20%20%20%20%20%20%20%20%0A%20%20%20%20%0A%20%20%20%20%0A%20%20%20%20%20%20%20%20%20%20%20%20marker_25ba752ddacf4bb4845e4906a75703b5.bindTooltip%28%0A%20%20%20%20%20%20%20%20%20%20%20%20%20%20%20%20%60%3Cdiv%3E%0A%20%20%20%20%20%20%20%20%20%20%20%20%20%20%20%20%20%20%20%20%201266%20%EC%9B%90%0A%20%20%20%20%20%20%20%20%20%20%20%20%20%20%20%20%20%3C/div%3E%60%2C%0A%20%20%20%20%20%20%20%20%20%20%20%20%20%20%20%20%7B%22sticky%22%3A%20true%7D%0A%20%20%20%20%20%20%20%20%20%20%20%20%29%3B%0A%20%20%20%20%20%20%20%20%0A%20%20%20%20%0A%20%20%20%20%20%20%20%20%20%20%20%20var%20marker_e733ae2af8284526978526af3a027368%20%3D%20L.marker%28%0A%20%20%20%20%20%20%20%20%20%20%20%20%20%20%20%20%5B37.5272596798188%2C%20126.842888576122%5D%2C%0A%20%20%20%20%20%20%20%20%20%20%20%20%20%20%20%20%7B%7D%0A%20%20%20%20%20%20%20%20%20%20%20%20%29.addTo%28map_3b5039054b6746e397ce7cd5cfbe9f28%29%3B%0A%20%20%20%20%20%20%20%20%0A%20%20%20%20%0A%20%20%20%20%20%20%20%20%20%20%20%20var%20icon_08a033dc9b24443f9f0c296d51a45d02%20%3D%20L.AwesomeMarkers.icon%28%0A%20%20%20%20%20%20%20%20%20%20%20%20%20%20%20%20%7B%22extraClasses%22%3A%20%22fa-rotate-0%22%2C%20%22icon%22%3A%20%22tint%22%2C%20%22iconColor%22%3A%20%22white%22%2C%20%22markerColor%22%3A%20%22blue%22%2C%20%22prefix%22%3A%20%22glyphicon%22%7D%0A%20%20%20%20%20%20%20%20%20%20%20%20%29%3B%0A%20%20%20%20%20%20%20%20%20%20%20%20marker_e733ae2af8284526978526af3a027368.setIcon%28icon_08a033dc9b24443f9f0c296d51a45d02%29%3B%0A%20%20%20%20%20%20%20%20%0A%20%20%20%20%0A%20%20%20%20%20%20%20%20var%20popup_cdce127c75f84778a28e89434281a5fe%20%3D%20L.popup%28%7B%22maxWidth%22%3A%20%22100%25%22%7D%29%3B%0A%0A%20%20%20%20%20%20%20%20%0A%20%20%20%20%20%20%20%20%20%20%20%20var%20html_bfea8a7c4ec64941ac836fba323083e7%20%3D%20%24%28%60%3Cdiv%20id%3D%22html_bfea8a7c4ec64941ac836fba323083e7%22%20style%3D%22width%3A%20100.0%25%3B%20height%3A%20100.0%25%3B%22%3E%EC%8B%A0%ED%99%94%EA%B3%A1%EC%A3%BC%EC%9C%A0%EC%86%8C%3C/div%3E%60%29%5B0%5D%3B%0A%20%20%20%20%20%20%20%20%20%20%20%20popup_cdce127c75f84778a28e89434281a5fe.setContent%28html_bfea8a7c4ec64941ac836fba323083e7%29%3B%0A%20%20%20%20%20%20%20%20%0A%0A%20%20%20%20%20%20%20%20marker_e733ae2af8284526978526af3a027368.bindPopup%28popup_cdce127c75f84778a28e89434281a5fe%29%0A%20%20%20%20%20%20%20%20%3B%0A%0A%20%20%20%20%20%20%20%20%0A%20%20%20%20%0A%20%20%20%20%0A%20%20%20%20%20%20%20%20%20%20%20%20marker_e733ae2af8284526978526af3a027368.bindTooltip%28%0A%20%20%20%20%20%20%20%20%20%20%20%20%20%20%20%20%60%3Cdiv%3E%0A%20%20%20%20%20%20%20%20%20%20%20%20%20%20%20%20%20%20%20%20%201315%20%EC%9B%90%0A%20%20%20%20%20%20%20%20%20%20%20%20%20%20%20%20%20%3C/div%3E%60%2C%0A%20%20%20%20%20%20%20%20%20%20%20%20%20%20%20%20%7B%22sticky%22%3A%20true%7D%0A%20%20%20%20%20%20%20%20%20%20%20%20%29%3B%0A%20%20%20%20%20%20%20%20%0A%20%20%20%20%0A%20%20%20%20%20%20%20%20%20%20%20%20var%20marker_330f9a37b19f45dabbe137b77bb99b35%20%3D%20L.marker%28%0A%20%20%20%20%20%20%20%20%20%20%20%20%20%20%20%20%5B37.5402642586691%2C%20126.841200246694%5D%2C%0A%20%20%20%20%20%20%20%20%20%20%20%20%20%20%20%20%7B%7D%0A%20%20%20%20%20%20%20%20%20%20%20%20%29.addTo%28map_3b5039054b6746e397ce7cd5cfbe9f28%29%3B%0A%20%20%20%20%20%20%20%20%0A%20%20%20%20%0A%20%20%20%20%20%20%20%20%20%20%20%20var%20icon_3d5e36cf20764c719920f6966ce60921%20%3D%20L.AwesomeMarkers.icon%28%0A%20%20%20%20%20%20%20%20%20%20%20%20%20%20%20%20%7B%22extraClasses%22%3A%20%22fa-rotate-0%22%2C%20%22icon%22%3A%20%22tint%22%2C%20%22iconColor%22%3A%20%22white%22%2C%20%22markerColor%22%3A%20%22blue%22%2C%20%22prefix%22%3A%20%22glyphicon%22%7D%0A%20%20%20%20%20%20%20%20%20%20%20%20%29%3B%0A%20%20%20%20%20%20%20%20%20%20%20%20marker_330f9a37b19f45dabbe137b77bb99b35.setIcon%28icon_3d5e36cf20764c719920f6966ce60921%29%3B%0A%20%20%20%20%20%20%20%20%0A%20%20%20%20%0A%20%20%20%20%20%20%20%20var%20popup_94a974e05bee4b59a7b3d5963d8ade73%20%3D%20L.popup%28%7B%22maxWidth%22%3A%20%22100%25%22%7D%29%3B%0A%0A%20%20%20%20%20%20%20%20%0A%20%20%20%20%20%20%20%20%20%20%20%20var%20html_28900209df9b4867a107a602c3cedd6c%20%3D%20%24%28%60%3Cdiv%20id%3D%22html_28900209df9b4867a107a602c3cedd6c%22%20style%3D%22width%3A%20100.0%25%3B%20height%3A%20100.0%25%3B%22%3E%ED%99%94%EA%B3%A1%ED%98%84%EB%8C%80%EC%A3%BC%EC%9C%A0%EC%86%8C%3C/div%3E%60%29%5B0%5D%3B%0A%20%20%20%20%20%20%20%20%20%20%20%20popup_94a974e05bee4b59a7b3d5963d8ade73.setContent%28html_28900209df9b4867a107a602c3cedd6c%29%3B%0A%20%20%20%20%20%20%20%20%0A%0A%20%20%20%20%20%20%20%20marker_330f9a37b19f45dabbe137b77bb99b35.bindPopup%28popup_94a974e05bee4b59a7b3d5963d8ade73%29%0A%20%20%20%20%20%20%20%20%3B%0A%0A%20%20%20%20%20%20%20%20%0A%20%20%20%20%0A%20%20%20%20%0A%20%20%20%20%20%20%20%20%20%20%20%20marker_330f9a37b19f45dabbe137b77bb99b35.bindTooltip%28%0A%20%20%20%20%20%20%20%20%20%20%20%20%20%20%20%20%60%3Cdiv%3E%0A%20%20%20%20%20%20%20%20%20%20%20%20%20%20%20%20%20%20%20%20%201326%20%EC%9B%90%0A%20%20%20%20%20%20%20%20%20%20%20%20%20%20%20%20%20%3C/div%3E%60%2C%0A%20%20%20%20%20%20%20%20%20%20%20%20%20%20%20%20%7B%22sticky%22%3A%20true%7D%0A%20%20%20%20%20%20%20%20%20%20%20%20%29%3B%0A%20%20%20%20%20%20%20%20%0A%20%20%20%20%0A%20%20%20%20%20%20%20%20%20%20%20%20var%20marker_bb48c12d4e02493f8a0c02ecd8b81fe9%20%3D%20L.marker%28%0A%20%20%20%20%20%20%20%20%20%20%20%20%20%20%20%20%5B37.5516105340577%2C%20126.836581578392%5D%2C%0A%20%20%20%20%20%20%20%20%20%20%20%20%20%20%20%20%7B%7D%0A%20%20%20%20%20%20%20%20%20%20%20%20%29.addTo%28map_3b5039054b6746e397ce7cd5cfbe9f28%29%3B%0A%20%20%20%20%20%20%20%20%0A%20%20%20%20%0A%20%20%20%20%20%20%20%20%20%20%20%20var%20icon_5fbd4ad835fa4349af219d4d823d53c3%20%3D%20L.AwesomeMarkers.icon%28%0A%20%20%20%20%20%20%20%20%20%20%20%20%20%20%20%20%7B%22extraClasses%22%3A%20%22fa-rotate-0%22%2C%20%22icon%22%3A%20%22thumbs-up%22%2C%20%22iconColor%22%3A%20%22white%22%2C%20%22markerColor%22%3A%20%22red%22%2C%20%22prefix%22%3A%20%22glyphicon%22%7D%0A%20%20%20%20%20%20%20%20%20%20%20%20%29%3B%0A%20%20%20%20%20%20%20%20%20%20%20%20marker_bb48c12d4e02493f8a0c02ecd8b81fe9.setIcon%28icon_5fbd4ad835fa4349af219d4d823d53c3%29%3B%0A%20%20%20%20%20%20%20%20%0A%20%20%20%20%0A%20%20%20%20%20%20%20%20var%20popup_10778d4bad2642af9c2c4c3ec06acee5%20%3D%20L.popup%28%7B%22maxWidth%22%3A%20%22100%25%22%7D%29%3B%0A%0A%20%20%20%20%20%20%20%20%0A%20%20%20%20%20%20%20%20%20%20%20%20var%20html_7e84d77dab6e4eeb82a2facef4815f82%20%3D%20%24%28%60%3Cdiv%20id%3D%22html_7e84d77dab6e4eeb82a2facef4815f82%22%20style%3D%22width%3A%20100.0%25%3B%20height%3A%20100.0%25%3B%22%3E%EC%9A%B0%EC%9E%A5%EC%82%B0%EC%A3%BC%EC%9C%A0%EC%86%8C%3C/div%3E%60%29%5B0%5D%3B%0A%20%20%20%20%20%20%20%20%20%20%20%20popup_10778d4bad2642af9c2c4c3ec06acee5.setContent%28html_7e84d77dab6e4eeb82a2facef4815f82%29%3B%0A%20%20%20%20%20%20%20%20%0A%0A%20%20%20%20%20%20%20%20marker_bb48c12d4e02493f8a0c02ecd8b81fe9.bindPopup%28popup_10778d4bad2642af9c2c4c3ec06acee5%29%0A%20%20%20%20%20%20%20%20%3B%0A%0A%20%20%20%20%20%20%20%20%0A%20%20%20%20%0A%20%20%20%20%0A%20%20%20%20%20%20%20%20%20%20%20%20marker_bb48c12d4e02493f8a0c02ecd8b81fe9.bindTooltip%28%0A%20%20%20%20%20%20%20%20%20%20%20%20%20%20%20%20%60%3Cdiv%3E%0A%20%20%20%20%20%20%20%20%20%20%20%20%20%20%20%20%20%20%20%20%201358%20%EC%9B%90%0A%20%20%20%20%20%20%20%20%20%20%20%20%20%20%20%20%20%3C/div%3E%60%2C%0A%20%20%20%20%20%20%20%20%20%20%20%20%20%20%20%20%7B%22sticky%22%3A%20true%7D%0A%20%20%20%20%20%20%20%20%20%20%20%20%29%3B%0A%20%20%20%20%20%20%20%20%0A%20%20%20%20%0A%20%20%20%20%20%20%20%20%20%20%20%20var%20marker_0a52a108f03f417682e21f3bb4d5a4bc%20%3D%20L.marker%28%0A%20%20%20%20%20%20%20%20%20%20%20%20%20%20%20%20%5B37.5578749217394%2C%20126.842367083708%5D%2C%0A%20%20%20%20%20%20%20%20%20%20%20%20%20%20%20%20%7B%7D%0A%20%20%20%20%20%20%20%20%20%20%20%20%29.addTo%28map_3b5039054b6746e397ce7cd5cfbe9f28%29%3B%0A%20%20%20%20%20%20%20%20%0A%20%20%20%20%0A%20%20%20%20%20%20%20%20%20%20%20%20var%20icon_fd01c07795d846d48e3a75f2106e0356%20%3D%20L.AwesomeMarkers.icon%28%0A%20%20%20%20%20%20%20%20%20%20%20%20%20%20%20%20%7B%22extraClasses%22%3A%20%22fa-rotate-0%22%2C%20%22icon%22%3A%20%22tint%22%2C%20%22iconColor%22%3A%20%22white%22%2C%20%22markerColor%22%3A%20%22blue%22%2C%20%22prefix%22%3A%20%22glyphicon%22%7D%0A%20%20%20%20%20%20%20%20%20%20%20%20%29%3B%0A%20%20%20%20%20%20%20%20%20%20%20%20marker_0a52a108f03f417682e21f3bb4d5a4bc.setIcon%28icon_fd01c07795d846d48e3a75f2106e0356%29%3B%0A%20%20%20%20%20%20%20%20%0A%20%20%20%20%0A%20%20%20%20%20%20%20%20var%20popup_e8ac846812c4437995d4f134c66a2411%20%3D%20L.popup%28%7B%22maxWidth%22%3A%20%22100%25%22%7D%29%3B%0A%0A%20%20%20%20%20%20%20%20%0A%20%20%20%20%20%20%20%20%20%20%20%20var%20html_46252c7aa9bd44a99d78132145570151%20%3D%20%24%28%60%3Cdiv%20id%3D%22html_46252c7aa9bd44a99d78132145570151%22%20style%3D%22width%3A%20100.0%25%3B%20height%3A%20100.0%25%3B%22%3E%EB%8C%80%EC%84%B1%EC%84%9D%EC%9C%A0%EC%A7%81%EC%98%81%20%EA%B4%80%EB%AC%B8%EC%A3%BC%EC%9C%A0%EC%86%8C%3C/div%3E%60%29%5B0%5D%3B%0A%20%20%20%20%20%20%20%20%20%20%20%20popup_e8ac846812c4437995d4f134c66a2411.setContent%28html_46252c7aa9bd44a99d78132145570151%29%3B%0A%20%20%20%20%20%20%20%20%0A%0A%20%20%20%20%20%20%20%20marker_0a52a108f03f417682e21f3bb4d5a4bc.bindPopup%28popup_e8ac846812c4437995d4f134c66a2411%29%0A%20%20%20%20%20%20%20%20%3B%0A%0A%20%20%20%20%20%20%20%20%0A%20%20%20%20%0A%20%20%20%20%0A%20%20%20%20%20%20%20%20%20%20%20%20marker_0a52a108f03f417682e21f3bb4d5a4bc.bindTooltip%28%0A%20%20%20%20%20%20%20%20%20%20%20%20%20%20%20%20%60%3Cdiv%3E%0A%20%20%20%20%20%20%20%20%20%20%20%20%20%20%20%20%20%20%20%20%201358%20%EC%9B%90%0A%20%20%20%20%20%20%20%20%20%20%20%20%20%20%20%20%20%3C/div%3E%60%2C%0A%20%20%20%20%20%20%20%20%20%20%20%20%20%20%20%20%7B%22sticky%22%3A%20true%7D%0A%20%20%20%20%20%20%20%20%20%20%20%20%29%3B%0A%20%20%20%20%20%20%20%20%0A%20%20%20%20%0A%20%20%20%20%20%20%20%20%20%20%20%20var%20marker_16caac109af94d4ab17490e58941ceaa%20%3D%20L.marker%28%0A%20%20%20%20%20%20%20%20%20%20%20%20%20%20%20%20%5B37.566279485874084%2C%20126.8404115686062%5D%2C%0A%20%20%20%20%20%20%20%20%20%20%20%20%20%20%20%20%7B%7D%0A%20%20%20%20%20%20%20%20%20%20%20%20%29.addTo%28map_3b5039054b6746e397ce7cd5cfbe9f28%29%3B%0A%20%20%20%20%20%20%20%20%0A%20%20%20%20%0A%20%20%20%20%20%20%20%20%20%20%20%20var%20icon_46588c20ce984e2184ba94d2e4ece959%20%3D%20L.AwesomeMarkers.icon%28%0A%20%20%20%20%20%20%20%20%20%20%20%20%20%20%20%20%7B%22extraClasses%22%3A%20%22fa-rotate-0%22%2C%20%22icon%22%3A%20%22tint%22%2C%20%22iconColor%22%3A%20%22white%22%2C%20%22markerColor%22%3A%20%22blue%22%2C%20%22prefix%22%3A%20%22glyphicon%22%7D%0A%20%20%20%20%20%20%20%20%20%20%20%20%29%3B%0A%20%20%20%20%20%20%20%20%20%20%20%20marker_16caac109af94d4ab17490e58941ceaa.setIcon%28icon_46588c20ce984e2184ba94d2e4ece959%29%3B%0A%20%20%20%20%20%20%20%20%0A%20%20%20%20%0A%20%20%20%20%20%20%20%20var%20popup_71913f64c85545ae98d1435eeecf3544%20%3D%20L.popup%28%7B%22maxWidth%22%3A%20%22100%25%22%7D%29%3B%0A%0A%20%20%20%20%20%20%20%20%0A%20%20%20%20%20%20%20%20%20%20%20%20var%20html_9a7c150b51f24bad81c557fcc96b37fd%20%3D%20%24%28%60%3Cdiv%20id%3D%22html_9a7c150b51f24bad81c557fcc96b37fd%22%20style%3D%22width%3A%20100.0%25%3B%20height%3A%20100.0%25%3B%22%3E%EB%8C%80%EC%84%B1%EC%84%9D%EC%9C%A0%20%EB%A7%88%EA%B3%A1%EB%8C%80%EC%84%B1%EC%A3%BC%EC%9C%A0%EC%86%8C%3C/div%3E%60%29%5B0%5D%3B%0A%20%20%20%20%20%20%20%20%20%20%20%20popup_71913f64c85545ae98d1435eeecf3544.setContent%28html_9a7c150b51f24bad81c557fcc96b37fd%29%3B%0A%20%20%20%20%20%20%20%20%0A%0A%20%20%20%20%20%20%20%20marker_16caac109af94d4ab17490e58941ceaa.bindPopup%28popup_71913f64c85545ae98d1435eeecf3544%29%0A%20%20%20%20%20%20%20%20%3B%0A%0A%20%20%20%20%20%20%20%20%0A%20%20%20%20%0A%20%20%20%20%0A%20%20%20%20%20%20%20%20%20%20%20%20marker_16caac109af94d4ab17490e58941ceaa.bindTooltip%28%0A%20%20%20%20%20%20%20%20%20%20%20%20%20%20%20%20%60%3Cdiv%3E%0A%20%20%20%20%20%20%20%20%20%20%20%20%20%20%20%20%20%20%20%20%201365%20%EC%9B%90%0A%20%20%20%20%20%20%20%20%20%20%20%20%20%20%20%20%20%3C/div%3E%60%2C%0A%20%20%20%20%20%20%20%20%20%20%20%20%20%20%20%20%7B%22sticky%22%3A%20true%7D%0A%20%20%20%20%20%20%20%20%20%20%20%20%29%3B%0A%20%20%20%20%20%20%20%20%0A%20%20%20%20%0A%20%20%20%20%20%20%20%20%20%20%20%20var%20marker_8c489bef3bfa49749d7b4db49dd308e6%20%3D%20L.marker%28%0A%20%20%20%20%20%20%20%20%20%20%20%20%20%20%20%20%5B37.5728983496391%2C%20126.823435612504%5D%2C%0A%20%20%20%20%20%20%20%20%20%20%20%20%20%20%20%20%7B%7D%0A%20%20%20%20%20%20%20%20%20%20%20%20%29.addTo%28map_3b5039054b6746e397ce7cd5cfbe9f28%29%3B%0A%20%20%20%20%20%20%20%20%0A%20%20%20%20%0A%20%20%20%20%20%20%20%20%20%20%20%20var%20icon_2ebe2e37654944e6a1e1d8f1f367a2ba%20%3D%20L.AwesomeMarkers.icon%28%0A%20%20%20%20%20%20%20%20%20%20%20%20%20%20%20%20%7B%22extraClasses%22%3A%20%22fa-rotate-0%22%2C%20%22icon%22%3A%20%22tint%22%2C%20%22iconColor%22%3A%20%22white%22%2C%20%22markerColor%22%3A%20%22blue%22%2C%20%22prefix%22%3A%20%22glyphicon%22%7D%0A%20%20%20%20%20%20%20%20%20%20%20%20%29%3B%0A%20%20%20%20%20%20%20%20%20%20%20%20marker_8c489bef3bfa49749d7b4db49dd308e6.setIcon%28icon_2ebe2e37654944e6a1e1d8f1f367a2ba%29%3B%0A%20%20%20%20%20%20%20%20%0A%20%20%20%20%0A%20%20%20%20%20%20%20%20var%20popup_0e272f28febb43e29612bca7dabff445%20%3D%20L.popup%28%7B%22maxWidth%22%3A%20%22100%25%22%7D%29%3B%0A%0A%20%20%20%20%20%20%20%20%0A%20%20%20%20%20%20%20%20%20%20%20%20var%20html_db5e5c76a0564340a4da31b43b31cf66%20%3D%20%24%28%60%3Cdiv%20id%3D%22html_db5e5c76a0564340a4da31b43b31cf66%22%20style%3D%22width%3A%20100.0%25%3B%20height%3A%20100.0%25%3B%22%3E%EB%8C%80%EC%84%B1%EC%84%9D%EC%9C%A0%EB%B0%A9%ED%99%94%EB%8C%80%EC%84%B1%EC%A3%BC%EC%9C%A0%EC%86%8C%3C/div%3E%60%29%5B0%5D%3B%0A%20%20%20%20%20%20%20%20%20%20%20%20popup_0e272f28febb43e29612bca7dabff445.setContent%28html_db5e5c76a0564340a4da31b43b31cf66%29%3B%0A%20%20%20%20%20%20%20%20%0A%0A%20%20%20%20%20%20%20%20marker_8c489bef3bfa49749d7b4db49dd308e6.bindPopup%28popup_0e272f28febb43e29612bca7dabff445%29%0A%20%20%20%20%20%20%20%20%3B%0A%0A%20%20%20%20%20%20%20%20%0A%20%20%20%20%0A%20%20%20%20%0A%20%20%20%20%20%20%20%20%20%20%20%20marker_8c489bef3bfa49749d7b4db49dd308e6.bindTooltip%28%0A%20%20%20%20%20%20%20%20%20%20%20%20%20%20%20%20%60%3Cdiv%3E%0A%20%20%20%20%20%20%20%20%20%20%20%20%20%20%20%20%20%20%20%20%201365%20%EC%9B%90%0A%20%20%20%20%20%20%20%20%20%20%20%20%20%20%20%20%20%3C/div%3E%60%2C%0A%20%20%20%20%20%20%20%20%20%20%20%20%20%20%20%20%7B%22sticky%22%3A%20true%7D%0A%20%20%20%20%20%20%20%20%20%20%20%20%29%3B%0A%20%20%20%20%20%20%20%20%0A%3C/script%3E onload=\"this.contentDocument.open();this.contentDocument.write(    decodeURIComponent(this.getAttribute('data-html')));this.contentDocument.close();\" allowfullscreen webkitallowfullscreen mozallowfullscreen></iframe></div></div>"
     },
     "metadata": {},
     "execution_count": 19
    }
   ],
   "source": [
    "map = folium.Map(location=[df['lat'].mean(), df['lng'].mean()], zoom_start=13)\n",
    "\n",
    "for i in df.index:\n",
    "    if i == 0:\n",
    "        folium.Marker(\n",
    "            location = [df['lat'][i], df['lng'][i]],\n",
    "            tooltip=(f\"{df['휘발유'][i]} 원\"),\n",
    "            popup=f\"{df['place_name'][i]}\",\n",
    "            icon=folium.Icon(color='red', icon='thumbs-up')\n",
    "            ).add_to(map)\n",
    "    else:\n",
    "        folium.Marker(\n",
    "            location = [df['lat'][i], df['lng'][i]],\n",
    "            tooltip=(f\"{df['휘발유'][i]} 원\"),\n",
    "            popup=f\"{df['place_name'][i]}\",\n",
    "            icon=folium.Icon(color='blue', icon='tint')\n",
    "            ).add_to(map)\n",
    "map"
   ]
  },
  {
   "cell_type": "code",
   "execution_count": null,
   "metadata": {},
   "outputs": [],
   "source": []
  },
  {
   "cell_type": "code",
   "execution_count": null,
   "metadata": {},
   "outputs": [],
   "source": []
  }
 ]
}