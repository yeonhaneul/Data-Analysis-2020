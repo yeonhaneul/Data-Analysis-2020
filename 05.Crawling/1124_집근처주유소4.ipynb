{
 "metadata": {
  "language_info": {
   "codemirror_mode": {
    "name": "ipython",
    "version": 3
   },
   "file_extension": ".py",
   "mimetype": "text/x-python",
   "name": "python",
   "nbconvert_exporter": "python",
   "pygments_lexer": "ipython3",
   "version": "3.8.3-final"
  },
  "orig_nbformat": 2,
  "kernelspec": {
   "name": "python3",
   "display_name": "Python 3"
  }
 },
 "nbformat": 4,
 "nbformat_minor": 2,
 "cells": [
  {
   "cell_type": "code",
   "execution_count": 1,
   "metadata": {},
   "outputs": [],
   "source": [
    "import time\n",
    "from selenium import webdriver\n",
    "from selenium.webdriver.common.keys import Keys\n",
    "import requests\n",
    "from urllib.parse import urlparse, quote\n",
    "import folium\n",
    "import pandas as pd\n",
    "from glob import glob"
   ]
  },
  {
   "cell_type": "code",
   "execution_count": 2,
   "metadata": {},
   "outputs": [],
   "source": [
    "driver = webdriver.Chrome('./chromedriver')\n",
    "driver.maximize_window()\n",
    "driver.get('http://www.opinet.co.kr/searRgSelect.do')\n",
    "time.sleep(2)\n",
    "\n",
    "driver.find_element_by_css_selector('.ic_m1').click()\n",
    "time.sleep(2)\n",
    "driver.find_element_by_xpath('//*[@id=\"SEARCH_MOD4\"]').click()\n",
    "time.sleep(1)\n",
    "\n",
    "station_list = ['우장산주유소', '직영관문주유소', '화곡현대주유소', '신화곡주유소', '경인고속주유소', '목화주유소', '뉴신정주유소', '화곡역주유소', '마곡대성주유소', '방화대성주유소']\n",
    "gasoline_list = []; diesel_list = []; addr_list=[]; tel_list=[]\n",
    "for station in station_list:\n",
    "    search = driver.find_element_by_xpath('//*[@id=\"OS_NM\"]')\n",
    "    time.sleep(1)\n",
    "    search.clear()\n",
    "    time.sleep(2)\n",
    "    search.send_keys(station)\n",
    "    time.sleep(1)\n",
    "    search.submit()\n",
    "    time.sleep(1)\n",
    "    driver.find_element_by_xpath('//*[@id=\"body1\"]/tr/td[1]/a').click()\n",
    "    map_move = driver.find_element_by_xpath('//*[@id=\"map_div\"]/div[4]/div[2]/div[2]/div/div[3]').click()\n",
    "    time.sleep(1)\n",
    "    tel = driver.find_element_by_xpath('//*[@id=\"phn_no\"]').text\n",
    "    addr = driver.find_element_by_xpath('//*[@id=\"rd_addr\"]').text\n",
    "    gasoline = driver.find_element_by_xpath('//*[@id=\"body1\"]/tr/td[2]').text\n",
    "    diesel = driver.find_element_by_xpath('//*[@id=\"body1\"]/tr/td[3]/font').text\n",
    "    time.sleep(10)\n",
    "\n",
    "    addr_list.append(addr)\n",
    "    tel_list.append(tel)\n",
    "    gasoline_list.append(int(gasoline))\n",
    "    diesel_list.append(int(diesel))\n",
    "\n",
    "driver.quit()"
   ]
  },
  {
   "cell_type": "code",
   "execution_count": 3,
   "metadata": {},
   "outputs": [
    {
     "output_type": "execute_result",
     "data": {
      "text/plain": [
       "['서울 강서구 강서로 292 (내발산동)',\n",
       " '서울 강서구 공항대로 314',\n",
       " '서울 강서구 강서로 151 (화곡동)',\n",
       " '서울 강서구 국회대로 71',\n",
       " '서울 강서구 국회대로 225 (화곡동)',\n",
       " '서울 강서구 국회대로 251 (화곡동)',\n",
       " '서울 강서구 곰달래로 207(화곡동)',\n",
       " '서울특별시 강서구 강서로 154 (화곡동)',\n",
       " '서울 강서구 강서로 457',\n",
       " '서울 강서구 양천로 176']"
      ]
     },
     "metadata": {},
     "execution_count": 3
    }
   ],
   "source": [
    "addr_list"
   ]
  },
  {
   "cell_type": "code",
   "execution_count": 4,
   "metadata": {},
   "outputs": [
    {
     "output_type": "execute_result",
     "data": {
      "text/plain": [
       "['02-3664-7163',\n",
       " '02-3665-2051',\n",
       " '02-2607-1942',\n",
       " '02-2611-3161',\n",
       " '02-2608-5151',\n",
       " '02-2654-4564',\n",
       " '02-2601-0077',\n",
       " '02-2691-5151',\n",
       " '02-3664-7781',\n",
       " '02-3663-7781']"
      ]
     },
     "metadata": {},
     "execution_count": 4
    }
   ],
   "source": [
    "tel_list"
   ]
  },
  {
   "cell_type": "code",
   "execution_count": 5,
   "metadata": {},
   "outputs": [
    {
     "output_type": "execute_result",
     "data": {
      "text/plain": [
       "  station_name                  address           tel  gasoline  diesel\n",
       "0       우장산주유소    서울 강서구 강서로 292 (내발산동)  02-3664-7163      1358    1187\n",
       "1      직영관문주유소          서울 강서구 공항대로 314  02-3665-2051      1358    1187\n",
       "2      화곡현대주유소     서울 강서구 강서로 151 (화곡동)  02-2607-1942      1326    1126\n",
       "3       신화곡주유소           서울 강서구 국회대로 71  02-2611-3161      1315    1115\n",
       "4      경인고속주유소    서울 강서구 국회대로 225 (화곡동)  02-2608-5151      1266    1072\n",
       "5        목화주유소    서울 강서구 국회대로 251 (화곡동)  02-2654-4564      1266    1072\n",
       "6       뉴신정주유소     서울 강서구 곰달래로 207(화곡동)  02-2601-0077      1243    1043\n",
       "7       화곡역주유소  서울특별시 강서구 강서로 154 (화곡동)  02-2691-5151      1243    1043\n",
       "8      마곡대성주유소           서울 강서구 강서로 457  02-3664-7781      1365    1185\n",
       "9      방화대성주유소           서울 강서구 양천로 176  02-3663-7781      1365    1175"
      ],
      "text/html": "<div>\n<style scoped>\n    .dataframe tbody tr th:only-of-type {\n        vertical-align: middle;\n    }\n\n    .dataframe tbody tr th {\n        vertical-align: top;\n    }\n\n    .dataframe thead th {\n        text-align: right;\n    }\n</style>\n<table border=\"1\" class=\"dataframe\">\n  <thead>\n    <tr style=\"text-align: right;\">\n      <th></th>\n      <th>station_name</th>\n      <th>address</th>\n      <th>tel</th>\n      <th>gasoline</th>\n      <th>diesel</th>\n    </tr>\n  </thead>\n  <tbody>\n    <tr>\n      <th>0</th>\n      <td>우장산주유소</td>\n      <td>서울 강서구 강서로 292 (내발산동)</td>\n      <td>02-3664-7163</td>\n      <td>1358</td>\n      <td>1187</td>\n    </tr>\n    <tr>\n      <th>1</th>\n      <td>직영관문주유소</td>\n      <td>서울 강서구 공항대로 314</td>\n      <td>02-3665-2051</td>\n      <td>1358</td>\n      <td>1187</td>\n    </tr>\n    <tr>\n      <th>2</th>\n      <td>화곡현대주유소</td>\n      <td>서울 강서구 강서로 151 (화곡동)</td>\n      <td>02-2607-1942</td>\n      <td>1326</td>\n      <td>1126</td>\n    </tr>\n    <tr>\n      <th>3</th>\n      <td>신화곡주유소</td>\n      <td>서울 강서구 국회대로 71</td>\n      <td>02-2611-3161</td>\n      <td>1315</td>\n      <td>1115</td>\n    </tr>\n    <tr>\n      <th>4</th>\n      <td>경인고속주유소</td>\n      <td>서울 강서구 국회대로 225 (화곡동)</td>\n      <td>02-2608-5151</td>\n      <td>1266</td>\n      <td>1072</td>\n    </tr>\n    <tr>\n      <th>5</th>\n      <td>목화주유소</td>\n      <td>서울 강서구 국회대로 251 (화곡동)</td>\n      <td>02-2654-4564</td>\n      <td>1266</td>\n      <td>1072</td>\n    </tr>\n    <tr>\n      <th>6</th>\n      <td>뉴신정주유소</td>\n      <td>서울 강서구 곰달래로 207(화곡동)</td>\n      <td>02-2601-0077</td>\n      <td>1243</td>\n      <td>1043</td>\n    </tr>\n    <tr>\n      <th>7</th>\n      <td>화곡역주유소</td>\n      <td>서울특별시 강서구 강서로 154 (화곡동)</td>\n      <td>02-2691-5151</td>\n      <td>1243</td>\n      <td>1043</td>\n    </tr>\n    <tr>\n      <th>8</th>\n      <td>마곡대성주유소</td>\n      <td>서울 강서구 강서로 457</td>\n      <td>02-3664-7781</td>\n      <td>1365</td>\n      <td>1185</td>\n    </tr>\n    <tr>\n      <th>9</th>\n      <td>방화대성주유소</td>\n      <td>서울 강서구 양천로 176</td>\n      <td>02-3663-7781</td>\n      <td>1365</td>\n      <td>1175</td>\n    </tr>\n  </tbody>\n</table>\n</div>"
     },
     "metadata": {},
     "execution_count": 5
    }
   ],
   "source": [
    "df = pd.DataFrame({\n",
    "    'station_name':station_list,\n",
    "    'address':addr_list,\n",
    "    'tel':tel_list,\n",
    "    'gasoline':gasoline_list,\n",
    "    'diesel':diesel_list\n",
    "})\n",
    "df"
   ]
  },
  {
   "cell_type": "code",
   "execution_count": 6,
   "metadata": {},
   "outputs": [],
   "source": [
    "key_fd = open('kakaomapkey.txt', mode='r')\n",
    "kmap_key = key_fd.read(100)\n",
    "key_fd.close()"
   ]
  },
  {
   "cell_type": "code",
   "execution_count": 7,
   "metadata": {},
   "outputs": [],
   "source": [
    "lat_list = []; lng_list = []\n",
    "for i in df.index:\n",
    "    url = 'https://dapi.kakao.com/v2/local/search/address.json?query=' + quote(df['address'][i])\n",
    "    result = requests.get(url,\n",
    "            headers={\"Authorization\": \"KakaoAK \"+kmap_key}).json()\n",
    "    lat = float(result['documents'][0]['y'])\n",
    "    lng = float(result['documents'][0]['x'])\n",
    "    lat_list.append(lat)\n",
    "    lng_list.append(lng)"
   ]
  },
  {
   "cell_type": "code",
   "execution_count": 8,
   "metadata": {},
   "outputs": [
    {
     "output_type": "execute_result",
     "data": {
      "text/plain": [
       "  station_name                  address           tel  gasoline  diesel  \\\n",
       "0       우장산주유소    서울 강서구 강서로 292 (내발산동)  02-3664-7163      1358    1187   \n",
       "1      직영관문주유소          서울 강서구 공항대로 314  02-3665-2051      1358    1187   \n",
       "2      화곡현대주유소     서울 강서구 강서로 151 (화곡동)  02-2607-1942      1326    1126   \n",
       "3       신화곡주유소           서울 강서구 국회대로 71  02-2611-3161      1315    1115   \n",
       "4      경인고속주유소    서울 강서구 국회대로 225 (화곡동)  02-2608-5151      1266    1072   \n",
       "5        목화주유소    서울 강서구 국회대로 251 (화곡동)  02-2654-4564      1266    1072   \n",
       "6       뉴신정주유소     서울 강서구 곰달래로 207(화곡동)  02-2601-0077      1243    1043   \n",
       "7       화곡역주유소  서울특별시 강서구 강서로 154 (화곡동)  02-2691-5151      1243    1043   \n",
       "8      마곡대성주유소           서울 강서구 강서로 457  02-3664-7781      1365    1185   \n",
       "9      방화대성주유소           서울 강서구 양천로 176  02-3663-7781      1365    1175   \n",
       "\n",
       "         lat         lng  \n",
       "0  37.551803  126.836681  \n",
       "1  37.557842  126.842395  \n",
       "2  37.540242  126.841164  \n",
       "3  37.527320  126.842879  \n",
       "4  37.529645  126.859835  \n",
       "5  37.530055  126.862834  \n",
       "6  37.531562  126.856035  \n",
       "7  37.540768  126.841472  \n",
       "8  37.566243  126.840421  \n",
       "9  37.572898  126.823440  "
      ],
      "text/html": "<div>\n<style scoped>\n    .dataframe tbody tr th:only-of-type {\n        vertical-align: middle;\n    }\n\n    .dataframe tbody tr th {\n        vertical-align: top;\n    }\n\n    .dataframe thead th {\n        text-align: right;\n    }\n</style>\n<table border=\"1\" class=\"dataframe\">\n  <thead>\n    <tr style=\"text-align: right;\">\n      <th></th>\n      <th>station_name</th>\n      <th>address</th>\n      <th>tel</th>\n      <th>gasoline</th>\n      <th>diesel</th>\n      <th>lat</th>\n      <th>lng</th>\n    </tr>\n  </thead>\n  <tbody>\n    <tr>\n      <th>0</th>\n      <td>우장산주유소</td>\n      <td>서울 강서구 강서로 292 (내발산동)</td>\n      <td>02-3664-7163</td>\n      <td>1358</td>\n      <td>1187</td>\n      <td>37.551803</td>\n      <td>126.836681</td>\n    </tr>\n    <tr>\n      <th>1</th>\n      <td>직영관문주유소</td>\n      <td>서울 강서구 공항대로 314</td>\n      <td>02-3665-2051</td>\n      <td>1358</td>\n      <td>1187</td>\n      <td>37.557842</td>\n      <td>126.842395</td>\n    </tr>\n    <tr>\n      <th>2</th>\n      <td>화곡현대주유소</td>\n      <td>서울 강서구 강서로 151 (화곡동)</td>\n      <td>02-2607-1942</td>\n      <td>1326</td>\n      <td>1126</td>\n      <td>37.540242</td>\n      <td>126.841164</td>\n    </tr>\n    <tr>\n      <th>3</th>\n      <td>신화곡주유소</td>\n      <td>서울 강서구 국회대로 71</td>\n      <td>02-2611-3161</td>\n      <td>1315</td>\n      <td>1115</td>\n      <td>37.527320</td>\n      <td>126.842879</td>\n    </tr>\n    <tr>\n      <th>4</th>\n      <td>경인고속주유소</td>\n      <td>서울 강서구 국회대로 225 (화곡동)</td>\n      <td>02-2608-5151</td>\n      <td>1266</td>\n      <td>1072</td>\n      <td>37.529645</td>\n      <td>126.859835</td>\n    </tr>\n    <tr>\n      <th>5</th>\n      <td>목화주유소</td>\n      <td>서울 강서구 국회대로 251 (화곡동)</td>\n      <td>02-2654-4564</td>\n      <td>1266</td>\n      <td>1072</td>\n      <td>37.530055</td>\n      <td>126.862834</td>\n    </tr>\n    <tr>\n      <th>6</th>\n      <td>뉴신정주유소</td>\n      <td>서울 강서구 곰달래로 207(화곡동)</td>\n      <td>02-2601-0077</td>\n      <td>1243</td>\n      <td>1043</td>\n      <td>37.531562</td>\n      <td>126.856035</td>\n    </tr>\n    <tr>\n      <th>7</th>\n      <td>화곡역주유소</td>\n      <td>서울특별시 강서구 강서로 154 (화곡동)</td>\n      <td>02-2691-5151</td>\n      <td>1243</td>\n      <td>1043</td>\n      <td>37.540768</td>\n      <td>126.841472</td>\n    </tr>\n    <tr>\n      <th>8</th>\n      <td>마곡대성주유소</td>\n      <td>서울 강서구 강서로 457</td>\n      <td>02-3664-7781</td>\n      <td>1365</td>\n      <td>1185</td>\n      <td>37.566243</td>\n      <td>126.840421</td>\n    </tr>\n    <tr>\n      <th>9</th>\n      <td>방화대성주유소</td>\n      <td>서울 강서구 양천로 176</td>\n      <td>02-3663-7781</td>\n      <td>1365</td>\n      <td>1175</td>\n      <td>37.572898</td>\n      <td>126.823440</td>\n    </tr>\n  </tbody>\n</table>\n</div>"
     },
     "metadata": {},
     "execution_count": 8
    }
   ],
   "source": [
    "df['lat'] = lat_list; df['lng'] = lng_list\n",
    "df"
   ]
  },
  {
   "cell_type": "code",
   "execution_count": 9,
   "metadata": {},
   "outputs": [
    {
     "output_type": "execute_result",
     "data": {
      "text/plain": [
       "<folium.folium.Map at 0x1edc23178e0>"
      ],
      "text/html": "<div style=\"width:100%;\"><div style=\"position:relative;width:100%;height:0;padding-bottom:60%;\"><span style=\"color:#565656\">Make this Notebook Trusted to load map: File -> Trust Notebook</span><iframe src=\"about:blank\" style=\"position:absolute;width:100%;height:100%;left:0;top:0;border:none !important;\" data-html=%3C%21DOCTYPE%20html%3E%0A%3Chead%3E%20%20%20%20%0A%20%20%20%20%3Cmeta%20http-equiv%3D%22content-type%22%20content%3D%22text/html%3B%20charset%3DUTF-8%22%20/%3E%0A%20%20%20%20%0A%20%20%20%20%20%20%20%20%3Cscript%3E%0A%20%20%20%20%20%20%20%20%20%20%20%20L_NO_TOUCH%20%3D%20false%3B%0A%20%20%20%20%20%20%20%20%20%20%20%20L_DISABLE_3D%20%3D%20false%3B%0A%20%20%20%20%20%20%20%20%3C/script%3E%0A%20%20%20%20%0A%20%20%20%20%3Cscript%20src%3D%22https%3A//cdn.jsdelivr.net/npm/leaflet%401.6.0/dist/leaflet.js%22%3E%3C/script%3E%0A%20%20%20%20%3Cscript%20src%3D%22https%3A//code.jquery.com/jquery-1.12.4.min.js%22%3E%3C/script%3E%0A%20%20%20%20%3Cscript%20src%3D%22https%3A//maxcdn.bootstrapcdn.com/bootstrap/3.2.0/js/bootstrap.min.js%22%3E%3C/script%3E%0A%20%20%20%20%3Cscript%20src%3D%22https%3A//cdnjs.cloudflare.com/ajax/libs/Leaflet.awesome-markers/2.0.2/leaflet.awesome-markers.js%22%3E%3C/script%3E%0A%20%20%20%20%3Clink%20rel%3D%22stylesheet%22%20href%3D%22https%3A//cdn.jsdelivr.net/npm/leaflet%401.6.0/dist/leaflet.css%22/%3E%0A%20%20%20%20%3Clink%20rel%3D%22stylesheet%22%20href%3D%22https%3A//maxcdn.bootstrapcdn.com/bootstrap/3.2.0/css/bootstrap.min.css%22/%3E%0A%20%20%20%20%3Clink%20rel%3D%22stylesheet%22%20href%3D%22https%3A//maxcdn.bootstrapcdn.com/bootstrap/3.2.0/css/bootstrap-theme.min.css%22/%3E%0A%20%20%20%20%3Clink%20rel%3D%22stylesheet%22%20href%3D%22https%3A//maxcdn.bootstrapcdn.com/font-awesome/4.6.3/css/font-awesome.min.css%22/%3E%0A%20%20%20%20%3Clink%20rel%3D%22stylesheet%22%20href%3D%22https%3A//cdnjs.cloudflare.com/ajax/libs/Leaflet.awesome-markers/2.0.2/leaflet.awesome-markers.css%22/%3E%0A%20%20%20%20%3Clink%20rel%3D%22stylesheet%22%20href%3D%22https%3A//rawcdn.githack.com/python-visualization/folium/master/folium/templates/leaflet.awesome.rotate.css%22/%3E%0A%20%20%20%20%3Cstyle%3Ehtml%2C%20body%20%7Bwidth%3A%20100%25%3Bheight%3A%20100%25%3Bmargin%3A%200%3Bpadding%3A%200%3B%7D%3C/style%3E%0A%20%20%20%20%3Cstyle%3E%23map%20%7Bposition%3Aabsolute%3Btop%3A0%3Bbottom%3A0%3Bright%3A0%3Bleft%3A0%3B%7D%3C/style%3E%0A%20%20%20%20%0A%20%20%20%20%20%20%20%20%20%20%20%20%3Cmeta%20name%3D%22viewport%22%20content%3D%22width%3Ddevice-width%2C%0A%20%20%20%20%20%20%20%20%20%20%20%20%20%20%20%20initial-scale%3D1.0%2C%20maximum-scale%3D1.0%2C%20user-scalable%3Dno%22%20/%3E%0A%20%20%20%20%20%20%20%20%20%20%20%20%3Cstyle%3E%0A%20%20%20%20%20%20%20%20%20%20%20%20%20%20%20%20%23map_38fe7f6156e541a0ba7c024a1a91cc84%20%7B%0A%20%20%20%20%20%20%20%20%20%20%20%20%20%20%20%20%20%20%20%20position%3A%20relative%3B%0A%20%20%20%20%20%20%20%20%20%20%20%20%20%20%20%20%20%20%20%20width%3A%20100.0%25%3B%0A%20%20%20%20%20%20%20%20%20%20%20%20%20%20%20%20%20%20%20%20height%3A%20100.0%25%3B%0A%20%20%20%20%20%20%20%20%20%20%20%20%20%20%20%20%20%20%20%20left%3A%200.0%25%3B%0A%20%20%20%20%20%20%20%20%20%20%20%20%20%20%20%20%20%20%20%20top%3A%200.0%25%3B%0A%20%20%20%20%20%20%20%20%20%20%20%20%20%20%20%20%7D%0A%20%20%20%20%20%20%20%20%20%20%20%20%3C/style%3E%0A%20%20%20%20%20%20%20%20%0A%3C/head%3E%0A%3Cbody%3E%20%20%20%20%0A%20%20%20%20%0A%20%20%20%20%20%20%20%20%20%20%20%20%3Cdiv%20class%3D%22folium-map%22%20id%3D%22map_38fe7f6156e541a0ba7c024a1a91cc84%22%20%3E%3C/div%3E%0A%20%20%20%20%20%20%20%20%0A%3C/body%3E%0A%3Cscript%3E%20%20%20%20%0A%20%20%20%20%0A%20%20%20%20%20%20%20%20%20%20%20%20var%20map_38fe7f6156e541a0ba7c024a1a91cc84%20%3D%20L.map%28%0A%20%20%20%20%20%20%20%20%20%20%20%20%20%20%20%20%22map_38fe7f6156e541a0ba7c024a1a91cc84%22%2C%0A%20%20%20%20%20%20%20%20%20%20%20%20%20%20%20%20%7B%0A%20%20%20%20%20%20%20%20%20%20%20%20%20%20%20%20%20%20%20%20center%3A%20%5B37.54483792231178%2C%20126.84471564010428%5D%2C%0A%20%20%20%20%20%20%20%20%20%20%20%20%20%20%20%20%20%20%20%20crs%3A%20L.CRS.EPSG3857%2C%0A%20%20%20%20%20%20%20%20%20%20%20%20%20%20%20%20%20%20%20%20zoom%3A%2013%2C%0A%20%20%20%20%20%20%20%20%20%20%20%20%20%20%20%20%20%20%20%20zoomControl%3A%20true%2C%0A%20%20%20%20%20%20%20%20%20%20%20%20%20%20%20%20%20%20%20%20preferCanvas%3A%20false%2C%0A%20%20%20%20%20%20%20%20%20%20%20%20%20%20%20%20%7D%0A%20%20%20%20%20%20%20%20%20%20%20%20%29%3B%0A%0A%20%20%20%20%20%20%20%20%20%20%20%20%0A%0A%20%20%20%20%20%20%20%20%0A%20%20%20%20%0A%20%20%20%20%20%20%20%20%20%20%20%20var%20tile_layer_3e0e7645d60744faa853a26d80a34250%20%3D%20L.tileLayer%28%0A%20%20%20%20%20%20%20%20%20%20%20%20%20%20%20%20%22https%3A//%7Bs%7D.tile.openstreetmap.org/%7Bz%7D/%7Bx%7D/%7By%7D.png%22%2C%0A%20%20%20%20%20%20%20%20%20%20%20%20%20%20%20%20%7B%22attribution%22%3A%20%22Data%20by%20%5Cu0026copy%3B%20%5Cu003ca%20href%3D%5C%22http%3A//openstreetmap.org%5C%22%5Cu003eOpenStreetMap%5Cu003c/a%5Cu003e%2C%20under%20%5Cu003ca%20href%3D%5C%22http%3A//www.openstreetmap.org/copyright%5C%22%5Cu003eODbL%5Cu003c/a%5Cu003e.%22%2C%20%22detectRetina%22%3A%20false%2C%20%22maxNativeZoom%22%3A%2018%2C%20%22maxZoom%22%3A%2018%2C%20%22minZoom%22%3A%200%2C%20%22noWrap%22%3A%20false%2C%20%22opacity%22%3A%201%2C%20%22subdomains%22%3A%20%22abc%22%2C%20%22tms%22%3A%20false%7D%0A%20%20%20%20%20%20%20%20%20%20%20%20%29.addTo%28map_38fe7f6156e541a0ba7c024a1a91cc84%29%3B%0A%20%20%20%20%20%20%20%20%0A%20%20%20%20%0A%20%20%20%20%20%20%20%20%20%20%20%20var%20marker_fc9967729c86424abf42e6ba2f8a980c%20%3D%20L.marker%28%0A%20%20%20%20%20%20%20%20%20%20%20%20%20%20%20%20%5B37.5518027646586%2C%20126.836681312113%5D%2C%0A%20%20%20%20%20%20%20%20%20%20%20%20%20%20%20%20%7B%7D%0A%20%20%20%20%20%20%20%20%20%20%20%20%29.addTo%28map_38fe7f6156e541a0ba7c024a1a91cc84%29%3B%0A%20%20%20%20%20%20%20%20%0A%20%20%20%20%0A%20%20%20%20%20%20%20%20%20%20%20%20var%20icon_653421e1796841ff97a16f7224b9ebdc%20%3D%20L.AwesomeMarkers.icon%28%0A%20%20%20%20%20%20%20%20%20%20%20%20%20%20%20%20%7B%22extraClasses%22%3A%20%22fa-rotate-0%22%2C%20%22icon%22%3A%20%22tint%22%2C%20%22iconColor%22%3A%20%22white%22%2C%20%22markerColor%22%3A%20%22blue%22%2C%20%22prefix%22%3A%20%22glyphicon%22%7D%0A%20%20%20%20%20%20%20%20%20%20%20%20%29%3B%0A%20%20%20%20%20%20%20%20%20%20%20%20marker_fc9967729c86424abf42e6ba2f8a980c.setIcon%28icon_653421e1796841ff97a16f7224b9ebdc%29%3B%0A%20%20%20%20%20%20%20%20%0A%20%20%20%20%0A%20%20%20%20%20%20%20%20var%20popup_e62647d364aa40d89b6c6079430a6246%20%3D%20L.popup%28%7B%22maxWidth%22%3A%20130%7D%29%3B%0A%0A%20%20%20%20%20%20%20%20%0A%20%20%20%20%20%20%20%20%20%20%20%20var%20html_7abf2b63a9a643e79ca6321b8daed0cf%20%3D%20%24%28%60%3Cdiv%20id%3D%22html_7abf2b63a9a643e79ca6321b8daed0cf%22%20style%3D%22width%3A%20100.0%25%3B%20height%3A%20100.0%25%3B%22%3E%EC%9A%B0%EC%9E%A5%EC%82%B0%EC%A3%BC%EC%9C%A0%EC%86%8C%3C/div%3E%60%29%5B0%5D%3B%0A%20%20%20%20%20%20%20%20%20%20%20%20popup_e62647d364aa40d89b6c6079430a6246.setContent%28html_7abf2b63a9a643e79ca6321b8daed0cf%29%3B%0A%20%20%20%20%20%20%20%20%0A%0A%20%20%20%20%20%20%20%20marker_fc9967729c86424abf42e6ba2f8a980c.bindPopup%28popup_e62647d364aa40d89b6c6079430a6246%29%0A%20%20%20%20%20%20%20%20%3B%0A%0A%20%20%20%20%20%20%20%20%0A%20%20%20%20%0A%20%20%20%20%0A%20%20%20%20%20%20%20%20%20%20%20%20marker_fc9967729c86424abf42e6ba2f8a980c.bindTooltip%28%0A%20%20%20%20%20%20%20%20%20%20%20%20%20%20%20%20%60%3Cdiv%3E%0A%20%20%20%20%20%20%20%20%20%20%20%20%20%20%20%20%20%20%20%20%20%ED%9C%98%EB%B0%9C%EC%9C%A0%3A1358%EC%9B%90%2C%20%EA%B0%80%EC%86%94%EB%A6%B0%3A1187%EC%9B%90%0A%20%20%20%20%20%20%20%20%20%20%20%20%20%20%20%20%20%3C/div%3E%60%2C%0A%20%20%20%20%20%20%20%20%20%20%20%20%20%20%20%20%7B%22sticky%22%3A%20true%7D%0A%20%20%20%20%20%20%20%20%20%20%20%20%29%3B%0A%20%20%20%20%20%20%20%20%0A%20%20%20%20%0A%20%20%20%20%20%20%20%20%20%20%20%20var%20marker_7e2fa6f6fe5d4a4696f850c17902f5c9%20%3D%20L.marker%28%0A%20%20%20%20%20%20%20%20%20%20%20%20%20%20%20%20%5B37.5578424333244%2C%20126.842395220012%5D%2C%0A%20%20%20%20%20%20%20%20%20%20%20%20%20%20%20%20%7B%7D%0A%20%20%20%20%20%20%20%20%20%20%20%20%29.addTo%28map_38fe7f6156e541a0ba7c024a1a91cc84%29%3B%0A%20%20%20%20%20%20%20%20%0A%20%20%20%20%0A%20%20%20%20%20%20%20%20%20%20%20%20var%20icon_d8f0092075354c52b0ab57caccc23b9d%20%3D%20L.AwesomeMarkers.icon%28%0A%20%20%20%20%20%20%20%20%20%20%20%20%20%20%20%20%7B%22extraClasses%22%3A%20%22fa-rotate-0%22%2C%20%22icon%22%3A%20%22tint%22%2C%20%22iconColor%22%3A%20%22white%22%2C%20%22markerColor%22%3A%20%22blue%22%2C%20%22prefix%22%3A%20%22glyphicon%22%7D%0A%20%20%20%20%20%20%20%20%20%20%20%20%29%3B%0A%20%20%20%20%20%20%20%20%20%20%20%20marker_7e2fa6f6fe5d4a4696f850c17902f5c9.setIcon%28icon_d8f0092075354c52b0ab57caccc23b9d%29%3B%0A%20%20%20%20%20%20%20%20%0A%20%20%20%20%0A%20%20%20%20%20%20%20%20var%20popup_0850d4005cc74d8ba0fefd289b0f8405%20%3D%20L.popup%28%7B%22maxWidth%22%3A%20130%7D%29%3B%0A%0A%20%20%20%20%20%20%20%20%0A%20%20%20%20%20%20%20%20%20%20%20%20var%20html_cbeb6db0cc2a4148a4d592e0a6767714%20%3D%20%24%28%60%3Cdiv%20id%3D%22html_cbeb6db0cc2a4148a4d592e0a6767714%22%20style%3D%22width%3A%20100.0%25%3B%20height%3A%20100.0%25%3B%22%3E%EC%A7%81%EC%98%81%EA%B4%80%EB%AC%B8%EC%A3%BC%EC%9C%A0%EC%86%8C%3C/div%3E%60%29%5B0%5D%3B%0A%20%20%20%20%20%20%20%20%20%20%20%20popup_0850d4005cc74d8ba0fefd289b0f8405.setContent%28html_cbeb6db0cc2a4148a4d592e0a6767714%29%3B%0A%20%20%20%20%20%20%20%20%0A%0A%20%20%20%20%20%20%20%20marker_7e2fa6f6fe5d4a4696f850c17902f5c9.bindPopup%28popup_0850d4005cc74d8ba0fefd289b0f8405%29%0A%20%20%20%20%20%20%20%20%3B%0A%0A%20%20%20%20%20%20%20%20%0A%20%20%20%20%0A%20%20%20%20%0A%20%20%20%20%20%20%20%20%20%20%20%20marker_7e2fa6f6fe5d4a4696f850c17902f5c9.bindTooltip%28%0A%20%20%20%20%20%20%20%20%20%20%20%20%20%20%20%20%60%3Cdiv%3E%0A%20%20%20%20%20%20%20%20%20%20%20%20%20%20%20%20%20%20%20%20%20%ED%9C%98%EB%B0%9C%EC%9C%A0%3A1358%EC%9B%90%2C%20%EA%B0%80%EC%86%94%EB%A6%B0%3A1187%EC%9B%90%0A%20%20%20%20%20%20%20%20%20%20%20%20%20%20%20%20%20%3C/div%3E%60%2C%0A%20%20%20%20%20%20%20%20%20%20%20%20%20%20%20%20%7B%22sticky%22%3A%20true%7D%0A%20%20%20%20%20%20%20%20%20%20%20%20%29%3B%0A%20%20%20%20%20%20%20%20%0A%20%20%20%20%0A%20%20%20%20%20%20%20%20%20%20%20%20var%20marker_3e2eb96c33dc4215b6e15bbef6397106%20%3D%20L.marker%28%0A%20%20%20%20%20%20%20%20%20%20%20%20%20%20%20%20%5B37.5402424056989%2C%20126.841163971808%5D%2C%0A%20%20%20%20%20%20%20%20%20%20%20%20%20%20%20%20%7B%7D%0A%20%20%20%20%20%20%20%20%20%20%20%20%29.addTo%28map_38fe7f6156e541a0ba7c024a1a91cc84%29%3B%0A%20%20%20%20%20%20%20%20%0A%20%20%20%20%0A%20%20%20%20%20%20%20%20%20%20%20%20var%20icon_a7afed80a73446189d1891c3e4e939f8%20%3D%20L.AwesomeMarkers.icon%28%0A%20%20%20%20%20%20%20%20%20%20%20%20%20%20%20%20%7B%22extraClasses%22%3A%20%22fa-rotate-0%22%2C%20%22icon%22%3A%20%22tint%22%2C%20%22iconColor%22%3A%20%22white%22%2C%20%22markerColor%22%3A%20%22blue%22%2C%20%22prefix%22%3A%20%22glyphicon%22%7D%0A%20%20%20%20%20%20%20%20%20%20%20%20%29%3B%0A%20%20%20%20%20%20%20%20%20%20%20%20marker_3e2eb96c33dc4215b6e15bbef6397106.setIcon%28icon_a7afed80a73446189d1891c3e4e939f8%29%3B%0A%20%20%20%20%20%20%20%20%0A%20%20%20%20%0A%20%20%20%20%20%20%20%20var%20popup_f8027fd903444e1da440b06dac2818ee%20%3D%20L.popup%28%7B%22maxWidth%22%3A%20130%7D%29%3B%0A%0A%20%20%20%20%20%20%20%20%0A%20%20%20%20%20%20%20%20%20%20%20%20var%20html_2535835f85c84f1fa7220b4e4d41a93d%20%3D%20%24%28%60%3Cdiv%20id%3D%22html_2535835f85c84f1fa7220b4e4d41a93d%22%20style%3D%22width%3A%20100.0%25%3B%20height%3A%20100.0%25%3B%22%3E%ED%99%94%EA%B3%A1%ED%98%84%EB%8C%80%EC%A3%BC%EC%9C%A0%EC%86%8C%3C/div%3E%60%29%5B0%5D%3B%0A%20%20%20%20%20%20%20%20%20%20%20%20popup_f8027fd903444e1da440b06dac2818ee.setContent%28html_2535835f85c84f1fa7220b4e4d41a93d%29%3B%0A%20%20%20%20%20%20%20%20%0A%0A%20%20%20%20%20%20%20%20marker_3e2eb96c33dc4215b6e15bbef6397106.bindPopup%28popup_f8027fd903444e1da440b06dac2818ee%29%0A%20%20%20%20%20%20%20%20%3B%0A%0A%20%20%20%20%20%20%20%20%0A%20%20%20%20%0A%20%20%20%20%0A%20%20%20%20%20%20%20%20%20%20%20%20marker_3e2eb96c33dc4215b6e15bbef6397106.bindTooltip%28%0A%20%20%20%20%20%20%20%20%20%20%20%20%20%20%20%20%60%3Cdiv%3E%0A%20%20%20%20%20%20%20%20%20%20%20%20%20%20%20%20%20%20%20%20%20%ED%9C%98%EB%B0%9C%EC%9C%A0%3A1326%EC%9B%90%2C%20%EA%B0%80%EC%86%94%EB%A6%B0%3A1126%EC%9B%90%0A%20%20%20%20%20%20%20%20%20%20%20%20%20%20%20%20%20%3C/div%3E%60%2C%0A%20%20%20%20%20%20%20%20%20%20%20%20%20%20%20%20%7B%22sticky%22%3A%20true%7D%0A%20%20%20%20%20%20%20%20%20%20%20%20%29%3B%0A%20%20%20%20%20%20%20%20%0A%20%20%20%20%0A%20%20%20%20%20%20%20%20%20%20%20%20var%20marker_ee53410861eb4a2dbeb6e88ac0b21b27%20%3D%20L.marker%28%0A%20%20%20%20%20%20%20%20%20%20%20%20%20%20%20%20%5B37.5273198541745%2C%20126.8428791732%5D%2C%0A%20%20%20%20%20%20%20%20%20%20%20%20%20%20%20%20%7B%7D%0A%20%20%20%20%20%20%20%20%20%20%20%20%29.addTo%28map_38fe7f6156e541a0ba7c024a1a91cc84%29%3B%0A%20%20%20%20%20%20%20%20%0A%20%20%20%20%0A%20%20%20%20%20%20%20%20%20%20%20%20var%20icon_ec9cabdef545446bb3d97bcbba5595f6%20%3D%20L.AwesomeMarkers.icon%28%0A%20%20%20%20%20%20%20%20%20%20%20%20%20%20%20%20%7B%22extraClasses%22%3A%20%22fa-rotate-0%22%2C%20%22icon%22%3A%20%22tint%22%2C%20%22iconColor%22%3A%20%22white%22%2C%20%22markerColor%22%3A%20%22blue%22%2C%20%22prefix%22%3A%20%22glyphicon%22%7D%0A%20%20%20%20%20%20%20%20%20%20%20%20%29%3B%0A%20%20%20%20%20%20%20%20%20%20%20%20marker_ee53410861eb4a2dbeb6e88ac0b21b27.setIcon%28icon_ec9cabdef545446bb3d97bcbba5595f6%29%3B%0A%20%20%20%20%20%20%20%20%0A%20%20%20%20%0A%20%20%20%20%20%20%20%20var%20popup_15ea40a5da544093a46b1638bb9aa52d%20%3D%20L.popup%28%7B%22maxWidth%22%3A%20130%7D%29%3B%0A%0A%20%20%20%20%20%20%20%20%0A%20%20%20%20%20%20%20%20%20%20%20%20var%20html_9a54e2741c6344288cd23e2b9c086861%20%3D%20%24%28%60%3Cdiv%20id%3D%22html_9a54e2741c6344288cd23e2b9c086861%22%20style%3D%22width%3A%20100.0%25%3B%20height%3A%20100.0%25%3B%22%3E%EC%8B%A0%ED%99%94%EA%B3%A1%EC%A3%BC%EC%9C%A0%EC%86%8C%3C/div%3E%60%29%5B0%5D%3B%0A%20%20%20%20%20%20%20%20%20%20%20%20popup_15ea40a5da544093a46b1638bb9aa52d.setContent%28html_9a54e2741c6344288cd23e2b9c086861%29%3B%0A%20%20%20%20%20%20%20%20%0A%0A%20%20%20%20%20%20%20%20marker_ee53410861eb4a2dbeb6e88ac0b21b27.bindPopup%28popup_15ea40a5da544093a46b1638bb9aa52d%29%0A%20%20%20%20%20%20%20%20%3B%0A%0A%20%20%20%20%20%20%20%20%0A%20%20%20%20%0A%20%20%20%20%0A%20%20%20%20%20%20%20%20%20%20%20%20marker_ee53410861eb4a2dbeb6e88ac0b21b27.bindTooltip%28%0A%20%20%20%20%20%20%20%20%20%20%20%20%20%20%20%20%60%3Cdiv%3E%0A%20%20%20%20%20%20%20%20%20%20%20%20%20%20%20%20%20%20%20%20%20%ED%9C%98%EB%B0%9C%EC%9C%A0%3A1315%EC%9B%90%2C%20%EA%B0%80%EC%86%94%EB%A6%B0%3A1115%EC%9B%90%0A%20%20%20%20%20%20%20%20%20%20%20%20%20%20%20%20%20%3C/div%3E%60%2C%0A%20%20%20%20%20%20%20%20%20%20%20%20%20%20%20%20%7B%22sticky%22%3A%20true%7D%0A%20%20%20%20%20%20%20%20%20%20%20%20%29%3B%0A%20%20%20%20%20%20%20%20%0A%20%20%20%20%0A%20%20%20%20%20%20%20%20%20%20%20%20var%20marker_231a997a046b4b8abe7c7949f39b0598%20%3D%20L.marker%28%0A%20%20%20%20%20%20%20%20%20%20%20%20%20%20%20%20%5B37.5296452344476%2C%20126.859834931985%5D%2C%0A%20%20%20%20%20%20%20%20%20%20%20%20%20%20%20%20%7B%7D%0A%20%20%20%20%20%20%20%20%20%20%20%20%29.addTo%28map_38fe7f6156e541a0ba7c024a1a91cc84%29%3B%0A%20%20%20%20%20%20%20%20%0A%20%20%20%20%0A%20%20%20%20%20%20%20%20%20%20%20%20var%20icon_27a4f716a5b14dd5905ce2295fb75f6e%20%3D%20L.AwesomeMarkers.icon%28%0A%20%20%20%20%20%20%20%20%20%20%20%20%20%20%20%20%7B%22extraClasses%22%3A%20%22fa-rotate-0%22%2C%20%22icon%22%3A%20%22tint%22%2C%20%22iconColor%22%3A%20%22white%22%2C%20%22markerColor%22%3A%20%22blue%22%2C%20%22prefix%22%3A%20%22glyphicon%22%7D%0A%20%20%20%20%20%20%20%20%20%20%20%20%29%3B%0A%20%20%20%20%20%20%20%20%20%20%20%20marker_231a997a046b4b8abe7c7949f39b0598.setIcon%28icon_27a4f716a5b14dd5905ce2295fb75f6e%29%3B%0A%20%20%20%20%20%20%20%20%0A%20%20%20%20%0A%20%20%20%20%20%20%20%20var%20popup_fdf57e33b436434fa763e275c70f8b1a%20%3D%20L.popup%28%7B%22maxWidth%22%3A%20130%7D%29%3B%0A%0A%20%20%20%20%20%20%20%20%0A%20%20%20%20%20%20%20%20%20%20%20%20var%20html_f5a063df44d64ef4815fd5425737dfd8%20%3D%20%24%28%60%3Cdiv%20id%3D%22html_f5a063df44d64ef4815fd5425737dfd8%22%20style%3D%22width%3A%20100.0%25%3B%20height%3A%20100.0%25%3B%22%3E%EA%B2%BD%EC%9D%B8%EA%B3%A0%EC%86%8D%EC%A3%BC%EC%9C%A0%EC%86%8C%3C/div%3E%60%29%5B0%5D%3B%0A%20%20%20%20%20%20%20%20%20%20%20%20popup_fdf57e33b436434fa763e275c70f8b1a.setContent%28html_f5a063df44d64ef4815fd5425737dfd8%29%3B%0A%20%20%20%20%20%20%20%20%0A%0A%20%20%20%20%20%20%20%20marker_231a997a046b4b8abe7c7949f39b0598.bindPopup%28popup_fdf57e33b436434fa763e275c70f8b1a%29%0A%20%20%20%20%20%20%20%20%3B%0A%0A%20%20%20%20%20%20%20%20%0A%20%20%20%20%0A%20%20%20%20%0A%20%20%20%20%20%20%20%20%20%20%20%20marker_231a997a046b4b8abe7c7949f39b0598.bindTooltip%28%0A%20%20%20%20%20%20%20%20%20%20%20%20%20%20%20%20%60%3Cdiv%3E%0A%20%20%20%20%20%20%20%20%20%20%20%20%20%20%20%20%20%20%20%20%20%ED%9C%98%EB%B0%9C%EC%9C%A0%3A1266%EC%9B%90%2C%20%EA%B0%80%EC%86%94%EB%A6%B0%3A1072%EC%9B%90%0A%20%20%20%20%20%20%20%20%20%20%20%20%20%20%20%20%20%3C/div%3E%60%2C%0A%20%20%20%20%20%20%20%20%20%20%20%20%20%20%20%20%7B%22sticky%22%3A%20true%7D%0A%20%20%20%20%20%20%20%20%20%20%20%20%29%3B%0A%20%20%20%20%20%20%20%20%0A%20%20%20%20%0A%20%20%20%20%20%20%20%20%20%20%20%20var%20marker_046dc3a2ae1949008f571adb24640b38%20%3D%20L.marker%28%0A%20%20%20%20%20%20%20%20%20%20%20%20%20%20%20%20%5B37.5300548363879%2C%20126.862833597877%5D%2C%0A%20%20%20%20%20%20%20%20%20%20%20%20%20%20%20%20%7B%7D%0A%20%20%20%20%20%20%20%20%20%20%20%20%29.addTo%28map_38fe7f6156e541a0ba7c024a1a91cc84%29%3B%0A%20%20%20%20%20%20%20%20%0A%20%20%20%20%0A%20%20%20%20%20%20%20%20%20%20%20%20var%20icon_794f7dd255cf45cbb6c7b5dae7d6f945%20%3D%20L.AwesomeMarkers.icon%28%0A%20%20%20%20%20%20%20%20%20%20%20%20%20%20%20%20%7B%22extraClasses%22%3A%20%22fa-rotate-0%22%2C%20%22icon%22%3A%20%22tint%22%2C%20%22iconColor%22%3A%20%22white%22%2C%20%22markerColor%22%3A%20%22blue%22%2C%20%22prefix%22%3A%20%22glyphicon%22%7D%0A%20%20%20%20%20%20%20%20%20%20%20%20%29%3B%0A%20%20%20%20%20%20%20%20%20%20%20%20marker_046dc3a2ae1949008f571adb24640b38.setIcon%28icon_794f7dd255cf45cbb6c7b5dae7d6f945%29%3B%0A%20%20%20%20%20%20%20%20%0A%20%20%20%20%0A%20%20%20%20%20%20%20%20var%20popup_2012cb0ee0a1484db292f806e8e87012%20%3D%20L.popup%28%7B%22maxWidth%22%3A%20130%7D%29%3B%0A%0A%20%20%20%20%20%20%20%20%0A%20%20%20%20%20%20%20%20%20%20%20%20var%20html_551adedff3be4c69af45301d244b9c06%20%3D%20%24%28%60%3Cdiv%20id%3D%22html_551adedff3be4c69af45301d244b9c06%22%20style%3D%22width%3A%20100.0%25%3B%20height%3A%20100.0%25%3B%22%3E%EB%AA%A9%ED%99%94%EC%A3%BC%EC%9C%A0%EC%86%8C%3C/div%3E%60%29%5B0%5D%3B%0A%20%20%20%20%20%20%20%20%20%20%20%20popup_2012cb0ee0a1484db292f806e8e87012.setContent%28html_551adedff3be4c69af45301d244b9c06%29%3B%0A%20%20%20%20%20%20%20%20%0A%0A%20%20%20%20%20%20%20%20marker_046dc3a2ae1949008f571adb24640b38.bindPopup%28popup_2012cb0ee0a1484db292f806e8e87012%29%0A%20%20%20%20%20%20%20%20%3B%0A%0A%20%20%20%20%20%20%20%20%0A%20%20%20%20%0A%20%20%20%20%0A%20%20%20%20%20%20%20%20%20%20%20%20marker_046dc3a2ae1949008f571adb24640b38.bindTooltip%28%0A%20%20%20%20%20%20%20%20%20%20%20%20%20%20%20%20%60%3Cdiv%3E%0A%20%20%20%20%20%20%20%20%20%20%20%20%20%20%20%20%20%20%20%20%20%ED%9C%98%EB%B0%9C%EC%9C%A0%3A1266%EC%9B%90%2C%20%EA%B0%80%EC%86%94%EB%A6%B0%3A1072%EC%9B%90%0A%20%20%20%20%20%20%20%20%20%20%20%20%20%20%20%20%20%3C/div%3E%60%2C%0A%20%20%20%20%20%20%20%20%20%20%20%20%20%20%20%20%7B%22sticky%22%3A%20true%7D%0A%20%20%20%20%20%20%20%20%20%20%20%20%29%3B%0A%20%20%20%20%20%20%20%20%0A%20%20%20%20%0A%20%20%20%20%20%20%20%20%20%20%20%20var%20marker_e7c8cf0eebf841cd9a726daefe035eda%20%3D%20L.marker%28%0A%20%20%20%20%20%20%20%20%20%20%20%20%20%20%20%20%5B37.5315624983884%2C%20126.856035365887%5D%2C%0A%20%20%20%20%20%20%20%20%20%20%20%20%20%20%20%20%7B%7D%0A%20%20%20%20%20%20%20%20%20%20%20%20%29.addTo%28map_38fe7f6156e541a0ba7c024a1a91cc84%29%3B%0A%20%20%20%20%20%20%20%20%0A%20%20%20%20%0A%20%20%20%20%20%20%20%20%20%20%20%20var%20icon_e53933a5a49243089d0ab282ac9d069d%20%3D%20L.AwesomeMarkers.icon%28%0A%20%20%20%20%20%20%20%20%20%20%20%20%20%20%20%20%7B%22extraClasses%22%3A%20%22fa-rotate-0%22%2C%20%22icon%22%3A%20%22thumbs-up%22%2C%20%22iconColor%22%3A%20%22white%22%2C%20%22markerColor%22%3A%20%22red%22%2C%20%22prefix%22%3A%20%22glyphicon%22%7D%0A%20%20%20%20%20%20%20%20%20%20%20%20%29%3B%0A%20%20%20%20%20%20%20%20%20%20%20%20marker_e7c8cf0eebf841cd9a726daefe035eda.setIcon%28icon_e53933a5a49243089d0ab282ac9d069d%29%3B%0A%20%20%20%20%20%20%20%20%0A%20%20%20%20%0A%20%20%20%20%20%20%20%20var%20popup_3302580d70134c968fea2db8c111f971%20%3D%20L.popup%28%7B%22maxWidth%22%3A%20130%7D%29%3B%0A%0A%20%20%20%20%20%20%20%20%0A%20%20%20%20%20%20%20%20%20%20%20%20var%20html_c84185d0f3064eca8e8830606763bca8%20%3D%20%24%28%60%3Cdiv%20id%3D%22html_c84185d0f3064eca8e8830606763bca8%22%20style%3D%22width%3A%20100.0%25%3B%20height%3A%20100.0%25%3B%22%3E%EB%89%B4%EC%8B%A0%EC%A0%95%EC%A3%BC%EC%9C%A0%EC%86%8C%3C/div%3E%60%29%5B0%5D%3B%0A%20%20%20%20%20%20%20%20%20%20%20%20popup_3302580d70134c968fea2db8c111f971.setContent%28html_c84185d0f3064eca8e8830606763bca8%29%3B%0A%20%20%20%20%20%20%20%20%0A%0A%20%20%20%20%20%20%20%20marker_e7c8cf0eebf841cd9a726daefe035eda.bindPopup%28popup_3302580d70134c968fea2db8c111f971%29%0A%20%20%20%20%20%20%20%20%3B%0A%0A%20%20%20%20%20%20%20%20%0A%20%20%20%20%0A%20%20%20%20%0A%20%20%20%20%20%20%20%20%20%20%20%20marker_e7c8cf0eebf841cd9a726daefe035eda.bindTooltip%28%0A%20%20%20%20%20%20%20%20%20%20%20%20%20%20%20%20%60%3Cdiv%3E%0A%20%20%20%20%20%20%20%20%20%20%20%20%20%20%20%20%20%20%20%20%20%ED%9C%98%EB%B0%9C%EC%9C%A0%3A1243%EC%9B%90%2C%20%EA%B0%80%EC%86%94%EB%A6%B0%3A1043%EC%9B%90%0A%20%20%20%20%20%20%20%20%20%20%20%20%20%20%20%20%20%3C/div%3E%60%2C%0A%20%20%20%20%20%20%20%20%20%20%20%20%20%20%20%20%7B%22sticky%22%3A%20true%7D%0A%20%20%20%20%20%20%20%20%20%20%20%20%29%3B%0A%20%20%20%20%20%20%20%20%0A%20%20%20%20%0A%20%20%20%20%20%20%20%20%20%20%20%20var%20marker_7c4ab54be95047619e152f584d8835d5%20%3D%20L.marker%28%0A%20%20%20%20%20%20%20%20%20%20%20%20%20%20%20%20%5B37.5407680113225%2C%20126.8414715329%5D%2C%0A%20%20%20%20%20%20%20%20%20%20%20%20%20%20%20%20%7B%7D%0A%20%20%20%20%20%20%20%20%20%20%20%20%29.addTo%28map_38fe7f6156e541a0ba7c024a1a91cc84%29%3B%0A%20%20%20%20%20%20%20%20%0A%20%20%20%20%0A%20%20%20%20%20%20%20%20%20%20%20%20var%20icon_3981fb82b74a4900b254ff22ce1d9dd1%20%3D%20L.AwesomeMarkers.icon%28%0A%20%20%20%20%20%20%20%20%20%20%20%20%20%20%20%20%7B%22extraClasses%22%3A%20%22fa-rotate-0%22%2C%20%22icon%22%3A%20%22thumbs-up%22%2C%20%22iconColor%22%3A%20%22white%22%2C%20%22markerColor%22%3A%20%22red%22%2C%20%22prefix%22%3A%20%22glyphicon%22%7D%0A%20%20%20%20%20%20%20%20%20%20%20%20%29%3B%0A%20%20%20%20%20%20%20%20%20%20%20%20marker_7c4ab54be95047619e152f584d8835d5.setIcon%28icon_3981fb82b74a4900b254ff22ce1d9dd1%29%3B%0A%20%20%20%20%20%20%20%20%0A%20%20%20%20%0A%20%20%20%20%20%20%20%20var%20popup_9763cddf87744de4b89ecb9a02abe677%20%3D%20L.popup%28%7B%22maxWidth%22%3A%20130%7D%29%3B%0A%0A%20%20%20%20%20%20%20%20%0A%20%20%20%20%20%20%20%20%20%20%20%20var%20html_67be64c5b7194061a145aff3dcc634f7%20%3D%20%24%28%60%3Cdiv%20id%3D%22html_67be64c5b7194061a145aff3dcc634f7%22%20style%3D%22width%3A%20100.0%25%3B%20height%3A%20100.0%25%3B%22%3E%ED%99%94%EA%B3%A1%EC%97%AD%EC%A3%BC%EC%9C%A0%EC%86%8C%3C/div%3E%60%29%5B0%5D%3B%0A%20%20%20%20%20%20%20%20%20%20%20%20popup_9763cddf87744de4b89ecb9a02abe677.setContent%28html_67be64c5b7194061a145aff3dcc634f7%29%3B%0A%20%20%20%20%20%20%20%20%0A%0A%20%20%20%20%20%20%20%20marker_7c4ab54be95047619e152f584d8835d5.bindPopup%28popup_9763cddf87744de4b89ecb9a02abe677%29%0A%20%20%20%20%20%20%20%20%3B%0A%0A%20%20%20%20%20%20%20%20%0A%20%20%20%20%0A%20%20%20%20%0A%20%20%20%20%20%20%20%20%20%20%20%20marker_7c4ab54be95047619e152f584d8835d5.bindTooltip%28%0A%20%20%20%20%20%20%20%20%20%20%20%20%20%20%20%20%60%3Cdiv%3E%0A%20%20%20%20%20%20%20%20%20%20%20%20%20%20%20%20%20%20%20%20%20%ED%9C%98%EB%B0%9C%EC%9C%A0%3A1243%EC%9B%90%2C%20%EA%B0%80%EC%86%94%EB%A6%B0%3A1043%EC%9B%90%0A%20%20%20%20%20%20%20%20%20%20%20%20%20%20%20%20%20%3C/div%3E%60%2C%0A%20%20%20%20%20%20%20%20%20%20%20%20%20%20%20%20%7B%22sticky%22%3A%20true%7D%0A%20%20%20%20%20%20%20%20%20%20%20%20%29%3B%0A%20%20%20%20%20%20%20%20%0A%20%20%20%20%0A%20%20%20%20%20%20%20%20%20%20%20%20var%20marker_64418d26cf674ccd94a14f8c54fb5855%20%3D%20L.marker%28%0A%20%20%20%20%20%20%20%20%20%20%20%20%20%20%20%20%5B37.5662430987764%2C%20126.840421267348%5D%2C%0A%20%20%20%20%20%20%20%20%20%20%20%20%20%20%20%20%7B%7D%0A%20%20%20%20%20%20%20%20%20%20%20%20%29.addTo%28map_38fe7f6156e541a0ba7c024a1a91cc84%29%3B%0A%20%20%20%20%20%20%20%20%0A%20%20%20%20%0A%20%20%20%20%20%20%20%20%20%20%20%20var%20icon_37f1c0df58544b44b1147415cd0a7152%20%3D%20L.AwesomeMarkers.icon%28%0A%20%20%20%20%20%20%20%20%20%20%20%20%20%20%20%20%7B%22extraClasses%22%3A%20%22fa-rotate-0%22%2C%20%22icon%22%3A%20%22tint%22%2C%20%22iconColor%22%3A%20%22white%22%2C%20%22markerColor%22%3A%20%22blue%22%2C%20%22prefix%22%3A%20%22glyphicon%22%7D%0A%20%20%20%20%20%20%20%20%20%20%20%20%29%3B%0A%20%20%20%20%20%20%20%20%20%20%20%20marker_64418d26cf674ccd94a14f8c54fb5855.setIcon%28icon_37f1c0df58544b44b1147415cd0a7152%29%3B%0A%20%20%20%20%20%20%20%20%0A%20%20%20%20%0A%20%20%20%20%20%20%20%20var%20popup_3180106954744195bd959ea25410565a%20%3D%20L.popup%28%7B%22maxWidth%22%3A%20130%7D%29%3B%0A%0A%20%20%20%20%20%20%20%20%0A%20%20%20%20%20%20%20%20%20%20%20%20var%20html_89676ea1a1e04116a3c038950d60ea3c%20%3D%20%24%28%60%3Cdiv%20id%3D%22html_89676ea1a1e04116a3c038950d60ea3c%22%20style%3D%22width%3A%20100.0%25%3B%20height%3A%20100.0%25%3B%22%3E%EB%A7%88%EA%B3%A1%EB%8C%80%EC%84%B1%EC%A3%BC%EC%9C%A0%EC%86%8C%3C/div%3E%60%29%5B0%5D%3B%0A%20%20%20%20%20%20%20%20%20%20%20%20popup_3180106954744195bd959ea25410565a.setContent%28html_89676ea1a1e04116a3c038950d60ea3c%29%3B%0A%20%20%20%20%20%20%20%20%0A%0A%20%20%20%20%20%20%20%20marker_64418d26cf674ccd94a14f8c54fb5855.bindPopup%28popup_3180106954744195bd959ea25410565a%29%0A%20%20%20%20%20%20%20%20%3B%0A%0A%20%20%20%20%20%20%20%20%0A%20%20%20%20%0A%20%20%20%20%0A%20%20%20%20%20%20%20%20%20%20%20%20marker_64418d26cf674ccd94a14f8c54fb5855.bindTooltip%28%0A%20%20%20%20%20%20%20%20%20%20%20%20%20%20%20%20%60%3Cdiv%3E%0A%20%20%20%20%20%20%20%20%20%20%20%20%20%20%20%20%20%20%20%20%20%ED%9C%98%EB%B0%9C%EC%9C%A0%3A1365%EC%9B%90%2C%20%EA%B0%80%EC%86%94%EB%A6%B0%3A1185%EC%9B%90%0A%20%20%20%20%20%20%20%20%20%20%20%20%20%20%20%20%20%3C/div%3E%60%2C%0A%20%20%20%20%20%20%20%20%20%20%20%20%20%20%20%20%7B%22sticky%22%3A%20true%7D%0A%20%20%20%20%20%20%20%20%20%20%20%20%29%3B%0A%20%20%20%20%20%20%20%20%0A%20%20%20%20%0A%20%20%20%20%20%20%20%20%20%20%20%20var%20marker_20fff97ed1ba496f9cc71772b9086eea%20%3D%20L.marker%28%0A%20%20%20%20%20%20%20%20%20%20%20%20%20%20%20%20%5B37.5728980859386%2C%20126.823440027913%5D%2C%0A%20%20%20%20%20%20%20%20%20%20%20%20%20%20%20%20%7B%7D%0A%20%20%20%20%20%20%20%20%20%20%20%20%29.addTo%28map_38fe7f6156e541a0ba7c024a1a91cc84%29%3B%0A%20%20%20%20%20%20%20%20%0A%20%20%20%20%0A%20%20%20%20%20%20%20%20%20%20%20%20var%20icon_7ccd2a15250a4fb69faaeea5e0464576%20%3D%20L.AwesomeMarkers.icon%28%0A%20%20%20%20%20%20%20%20%20%20%20%20%20%20%20%20%7B%22extraClasses%22%3A%20%22fa-rotate-0%22%2C%20%22icon%22%3A%20%22tint%22%2C%20%22iconColor%22%3A%20%22white%22%2C%20%22markerColor%22%3A%20%22blue%22%2C%20%22prefix%22%3A%20%22glyphicon%22%7D%0A%20%20%20%20%20%20%20%20%20%20%20%20%29%3B%0A%20%20%20%20%20%20%20%20%20%20%20%20marker_20fff97ed1ba496f9cc71772b9086eea.setIcon%28icon_7ccd2a15250a4fb69faaeea5e0464576%29%3B%0A%20%20%20%20%20%20%20%20%0A%20%20%20%20%0A%20%20%20%20%20%20%20%20var%20popup_1adcba4b987a42b39353ad0cdf223aff%20%3D%20L.popup%28%7B%22maxWidth%22%3A%20130%7D%29%3B%0A%0A%20%20%20%20%20%20%20%20%0A%20%20%20%20%20%20%20%20%20%20%20%20var%20html_3f8a5ac5de264deca9459145e0718c2b%20%3D%20%24%28%60%3Cdiv%20id%3D%22html_3f8a5ac5de264deca9459145e0718c2b%22%20style%3D%22width%3A%20100.0%25%3B%20height%3A%20100.0%25%3B%22%3E%EB%B0%A9%ED%99%94%EB%8C%80%EC%84%B1%EC%A3%BC%EC%9C%A0%EC%86%8C%3C/div%3E%60%29%5B0%5D%3B%0A%20%20%20%20%20%20%20%20%20%20%20%20popup_1adcba4b987a42b39353ad0cdf223aff.setContent%28html_3f8a5ac5de264deca9459145e0718c2b%29%3B%0A%20%20%20%20%20%20%20%20%0A%0A%20%20%20%20%20%20%20%20marker_20fff97ed1ba496f9cc71772b9086eea.bindPopup%28popup_1adcba4b987a42b39353ad0cdf223aff%29%0A%20%20%20%20%20%20%20%20%3B%0A%0A%20%20%20%20%20%20%20%20%0A%20%20%20%20%0A%20%20%20%20%0A%20%20%20%20%20%20%20%20%20%20%20%20marker_20fff97ed1ba496f9cc71772b9086eea.bindTooltip%28%0A%20%20%20%20%20%20%20%20%20%20%20%20%20%20%20%20%60%3Cdiv%3E%0A%20%20%20%20%20%20%20%20%20%20%20%20%20%20%20%20%20%20%20%20%20%ED%9C%98%EB%B0%9C%EC%9C%A0%3A1365%EC%9B%90%2C%20%EA%B0%80%EC%86%94%EB%A6%B0%3A1175%EC%9B%90%0A%20%20%20%20%20%20%20%20%20%20%20%20%20%20%20%20%20%3C/div%3E%60%2C%0A%20%20%20%20%20%20%20%20%20%20%20%20%20%20%20%20%7B%22sticky%22%3A%20true%7D%0A%20%20%20%20%20%20%20%20%20%20%20%20%29%3B%0A%20%20%20%20%20%20%20%20%0A%3C/script%3E onload=\"this.contentDocument.open();this.contentDocument.write(    decodeURIComponent(this.getAttribute('data-html')));this.contentDocument.close();\" allowfullscreen webkitallowfullscreen mozallowfullscreen></iframe></div></div>"
     },
     "metadata": {},
     "execution_count": 9
    }
   ],
   "source": [
    "map = folium.Map(location=[df['lat'].mean(), df['lng'].mean()], zoom_start=13)\n",
    "\n",
    "for i in df.index:\n",
    "    frame = f\"{df['station_name'][i]}\"\n",
    "    popup = folium.Popup(frame, max_width=130)\n",
    "    if df['gasoline'][i] == min(df['gasoline']):\n",
    "        folium.Marker(\n",
    "            location = [df['lat'][i], df['lng'][i]],\n",
    "            tooltip=(f\"휘발유:{df['gasoline'][i]}원, 가솔린:{df['diesel'][i]}원\"),\n",
    "            popup=popup,\n",
    "            icon=folium.Icon(color='red', icon='thumbs-up')\n",
    "            ).add_to(map)\n",
    "    else:\n",
    "        folium.Marker(\n",
    "            location = [df['lat'][i], df['lng'][i]],\n",
    "            tooltip=(f\"휘발유:{df['gasoline'][i]}원, 가솔린:{df['diesel'][i]}원\"),\n",
    "            popup=popup,\n",
    "            icon=folium.Icon(color='blue', icon='tint')\n",
    "            ).add_to(map)\n",
    "map"
   ]
  },
  {
   "cell_type": "code",
   "execution_count": null,
   "metadata": {},
   "outputs": [],
   "source": []
  }
 ]
}