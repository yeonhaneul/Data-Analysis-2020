{
 "metadata": {
  "language_info": {
   "codemirror_mode": {
    "name": "ipython",
    "version": 3
   },
   "file_extension": ".py",
   "mimetype": "text/x-python",
   "name": "python",
   "nbconvert_exporter": "python",
   "pygments_lexer": "ipython3",
   "version": "3.8.3-final"
  },
  "orig_nbformat": 2,
  "kernelspec": {
   "name": "Python 3.8.3 64-bit ('base': conda)",
   "display_name": "Python 3.8.3 64-bit ('base': conda)",
   "metadata": {
    "interpreter": {
     "hash": "b3ba2566441a7c06988d0923437866b63cedc61552a5af99d1f4fb67d367b25f"
    }
   }
  }
 },
 "nbformat": 4,
 "nbformat_minor": 2,
 "cells": [
  {
   "cell_type": "markdown",
   "metadata": {},
   "source": [
    "# Beautiful Soup Crawling"
   ]
  },
  {
   "cell_type": "code",
   "execution_count": 2,
   "metadata": {},
   "outputs": [],
   "source": [
    "# BeatifulSoup import 하는법\n",
    "from bs4 import BeautifulSoup"
   ]
  },
  {
   "cell_type": "markdown",
   "metadata": {},
   "source": [
    "### 파일로부터 읽기"
   ]
  },
  {
   "cell_type": "code",
   "execution_count": 3,
   "metadata": {},
   "outputs": [],
   "source": [
    "# soup은 BeautifulSoup(읽은파일명, 'html.parser')을 적어준다.\n",
    "# html.parser는 파일에 따라 앞부분이 달라진다.\n",
    "# cp949(코드에러)가 난 경우, open쪽에 encoding을 적어 에러를 해결한다.\n",
    "with open('00_Example.html', encoding='UTF-8') as html:\n",
    "    soup = BeautifulSoup(html, 'html.parser')"
   ]
  },
  {
   "cell_type": "code",
   "execution_count": 4,
   "metadata": {},
   "outputs": [
    {
     "output_type": "stream",
     "name": "stdout",
     "text": [
      "<!DOCTYPE html>\n\n<html lang=\"en\">\n<head>\n<meta charset=\"utf-8\"/>\n<meta content=\"width=device-width, initial-scale=1.0\" name=\"viewport\"/>\n<title>Web Crawling Example</title>\n</head>\n<body>\n<div>\n<p>a</p>\n<p>b</p>\n<p>c</p>\n</div>\n<div class=\"ex_class sample\">\n<p>1</p>\n<p>2</p>\n<p>3</p>\n</div>\n<div id=\"ex_id\">\n<p>X</p>\n<p>Y</p>\n<p>Z</p>\n</div>\n<h1>This is a heading.</h1>\n<p>This is a paragraph.</p>\n<p>This is another paragraph.</p>\n<a class=\"a sample\" href=\"www.naver.com\">Naver</a>\n</body>\n</html>\n"
     ]
    }
   ],
   "source": [
    "print(soup)"
   ]
  },
  {
   "cell_type": "markdown",
   "metadata": {},
   "source": [
    "### 인터넷에서 가져오기"
   ]
  },
  {
   "cell_type": "code",
   "execution_count": 5,
   "metadata": {},
   "outputs": [],
   "source": [
    "import urllib.request\n",
    "import urllib.parse"
   ]
  },
  {
   "cell_type": "code",
   "execution_count": 6,
   "metadata": {},
   "outputs": [],
   "source": [
    "web_url = 'http://200.1.220.217:3000/bbs/list/1'\n",
    "with urllib.request.urlopen(web_url) as response:\n",
    "    html = response.read()\n",
    "    soup = BeautifulSoup(html, 'html.parser')"
   ]
  },
  {
   "cell_type": "code",
   "execution_count": 7,
   "metadata": {},
   "outputs": [
    {
     "output_type": "stream",
     "name": "stdout",
     "text": [
      "<!DOCTYPE html>\n\n<html lang=\"ko\">\n<head>\n<title>My BBS</title>\n<meta charset=\"utf-8\"/>\n<meta content=\"width=device-width, initial-scale=1\" name=\"viewport\"/>\n<link href=\"/bootstrap/css/bootstrap.min.css\" rel=\"stylesheet\"/>\n<link href=\"/fontawesome/css/all.min.css\" rel=\"stylesheet\"/>\n<script src=\"/jquery/jquery.min.js\"></script>\n<script src=\"/popper/popper.min.js\"></script>\n<script src=\"/bootstrap/js/bootstrap.min.js\"></script>\n</head>\n<body>\n<nav class=\"navbar navbar-expand-lg bg-dark navbar-dark fixed-top\">\n<a class=\"navbar-brand\" href=\"#\">\n<img alt=\"호서직업능력개발원\" src=\"/img/hoseo.png\" style=\"height: 40px; margin-left: 50px; margin-right: 80px;\"/>\n</a>\n<ul class=\"nav mr-auto\">\n<li class=\"nav-item nav-light\">\n<a class=\"nav-link\" href=\"/\"><i class=\"fas fa-home\"></i>홈</a>\n</li>\n<li class=\"nav-item\">\n<a class=\"nav-link\" href=\"/bbs/write\"><i class=\"far fa-edit\"></i>글쓰기</a>\n</li>\n<li class=\"nav-item\">\n<a class=\"nav-link\" href=\"/user/dispatch\"><i class=\"far fa-user\"></i>사용자</a>\n</li>\n<li class=\"nav-item\">\n<a class=\"nav-link\" href=\"/admin/viewChart\"><i class=\"fas fa-chart-bar\"></i></a>\n</li>\n<li class=\"nav-item ml-5\">\n<a class=\"nav-link\" href=\"/logout\"><i class=\"fas fa-sign-out-alt\"></i>로그아웃</a>\n</li>\n</ul>\n<nav class=\"navbar navbar-light mr-4\">\n<form action=\"/bbs/search\" class=\"form-inline\" method=\"post\">\n<input aria-label=\"Search\" class=\"form-control mr-sm-2\" name=\"keyword\" placeholder=\"검색\" type=\"search\"/>\n<button class=\"btn btn-outline-light my-2 my-sm-0\" type=\"submit\"><i class=\"fas fa-search\"></i></button>\n</form>\n</nav>\n<div class=\"navbar-text fixed-right mr-3\">\n                undefined님 반갑습니다.\n            </div>\n</nav>\n<div class=\"container\" style=\"margin-top: 90px;\">\n<div class=\"row\">\n<div class=\"col-12\">\n<h3>게시판 글 목록</h3>\n<hr/>\n</div>\n<div class=\"col-1\"></div>\n<div class=\"col-10\">\n<table class=\"table table-condensed table-hover\">\n<tr class=\"table-secondary d-flex\">\n<td class=\"col-1\" style=\"text-align: center;\"><strong>번호</strong></td>\n<td class=\"col-6\" style=\"text-align: center;\"><strong>제목</strong></td>\n<td class=\"col-2\" style=\"text-align: center;\"><strong>글쓴이</strong></td>\n<td class=\"col-2\" style=\"text-align: center;\"><strong>날짜/시간</strong></td>\n<td class=\"col-1\" style=\"text-align: center;\"><strong>조회수</strong></td>\n</tr>\n<tr class=\"d-flex\">\n<td class=\"col-1\" style=\"text-align: center;\">1013</td>\n<td class=\"col-6\"><a href=\"/bbs/bid/1013/inc/1\"><strong>리눅스 글쓰기</strong></a></td>\n<td class=\"col-2\" style=\"text-align: center;\">홍길동</td>\n<td class=\"col-2\" style=\"text-align: center;\">2020-10-27</td>\n<td class=\"col-1\" style=\"text-align: center;\">3</td>\n</tr>\n<tr class=\"d-flex\">\n<td class=\"col-1\" style=\"text-align: center;\">1012</td>\n<td class=\"col-6\"><a href=\"/bbs/bid/1012/inc/1\"><strong>마이크로소프트 엣지에서의 동작<span class=\"text-danger\">[2]</span></strong></a></td>\n<td class=\"col-2\" style=\"text-align: center;\">김은숙</td>\n<td class=\"col-2\" style=\"text-align: center;\">2020-10-23</td>\n<td class=\"col-1\" style=\"text-align: center;\">14</td>\n</tr>\n<tr class=\"d-flex\">\n<td class=\"col-1\" style=\"text-align: center;\">1011</td>\n<td class=\"col-6\"><a href=\"/bbs/bid/1011/inc/1\"><strong>역적 - 백성을 훔친 도적<span class=\"text-danger\">[1]</span></strong></a></td>\n<td class=\"col-2\" style=\"text-align: center;\">홍길동</td>\n<td class=\"col-2\" style=\"text-align: center;\">2020-10-23</td>\n<td class=\"col-1\" style=\"text-align: center;\">4</td>\n</tr>\n<tr class=\"d-flex\">\n<td class=\"col-1\" style=\"text-align: center;\">1010</td>\n<td class=\"col-6\"><a href=\"/bbs/bid/1010/inc/1\"><strong>홍길동전</strong></a></td>\n<td class=\"col-2\" style=\"text-align: center;\">홍길동</td>\n<td class=\"col-2\" style=\"text-align: center;\">2020-10-23</td>\n<td class=\"col-1\" style=\"text-align: center;\">3</td>\n</tr>\n<tr class=\"d-flex\">\n<td class=\"col-1\" style=\"text-align: center;\">1009</td>\n<td class=\"col-6\"><a href=\"/bbs/bid/1009/inc/1\"><strong>대조영<span class=\"text-danger\">[2]</span></strong></a></td>\n<td class=\"col-2\" style=\"text-align: center;\">대조영</td>\n<td class=\"col-2\" style=\"text-align: center;\">2020-10-23</td>\n<td class=\"col-1\" style=\"text-align: center;\">9</td>\n</tr>\n<tr class=\"d-flex\">\n<td class=\"col-1\" style=\"text-align: center;\">1008</td>\n<td class=\"col-6\"><a href=\"/bbs/bid/1008/inc/1\"><strong>Linux server를 원격 Windows에서 접속하여 글쓰기<span class=\"text-danger\">[3]</span></strong></a></td>\n<td class=\"col-2\" style=\"text-align: center;\">관리자</td>\n<td class=\"col-2\" style=\"text-align: center;\">2020-10-23</td>\n<td class=\"col-1\" style=\"text-align: center;\">7</td>\n</tr>\n<tr class=\"d-flex\">\n<td class=\"col-1\" style=\"text-align: center;\">1007</td>\n<td class=\"col-6\"><a href=\"/bbs/bid/1007/inc/1\"><strong>ubuntu에서 글쓰기<span class=\"text-danger\">[1]</span></strong></a></td>\n<td class=\"col-2\" style=\"text-align: center;\">관리자</td>\n<td class=\"col-2\" style=\"text-align: center;\">2020-10-22</td>\n<td class=\"col-1\" style=\"text-align: center;\">5</td>\n</tr>\n<tr class=\"d-flex\">\n<td class=\"col-1\" style=\"text-align: center;\">1006</td>\n<td class=\"col-6\"><a href=\"/bbs/bid/1006/inc/1\"><strong>슬기로운 의사생활<span class=\"text-danger\">[3]</span></strong></a></td>\n<td class=\"col-2\" style=\"text-align: center;\">이우정</td>\n<td class=\"col-2\" style=\"text-align: center;\">2020-10-22</td>\n<td class=\"col-1\" style=\"text-align: center;\">12</td>\n</tr>\n<tr class=\"d-flex\">\n<td class=\"col-1\" style=\"text-align: center;\">1005</td>\n<td class=\"col-6\"><a href=\"/bbs/bid/1005/inc/1\"><strong>파리의 연인<span class=\"text-danger\">[4]</span></strong></a></td>\n<td class=\"col-2\" style=\"text-align: center;\">김은숙</td>\n<td class=\"col-2\" style=\"text-align: center;\">2020-10-22</td>\n<td class=\"col-1\" style=\"text-align: center;\">9</td>\n</tr>\n<tr class=\"d-flex\">\n<td class=\"col-1\" style=\"text-align: center;\">1004</td>\n<td class=\"col-6\"><a href=\"/bbs/bid/1004/inc/1\"><strong>시크릿 가든</strong></a></td>\n<td class=\"col-2\" style=\"text-align: center;\">김은숙</td>\n<td class=\"col-2\" style=\"text-align: center;\">2020-10-22</td>\n<td class=\"col-1\" style=\"text-align: center;\">4</td>\n</tr>\n</table>\n<ul class=\"pagination justify-content-center\">\n<li class=\"page-item\">\n<a aria-label=\"Previous\" class=\"page-link active\" href=\"#\">\n<span aria-hidden=\"true\">«</span></a>\n</li><li aria-current=\"page\" class=\"page-item active\">\n<span class=\"page-link\">\n                                1<span class=\"sr-only\">(current)</span>\n</span>\n</li><li class=\"page-item\"><a class=\"page-link\" href=\"/bbs/list/2\">2</a></li><li class=\"page-item\">\n<a aria-label=\"Next\" class=\"page-link\" href=\"#\">\n<span aria-hidden=\"true\">»</span></a>\n</li>\n</ul>\n</div>\n<div class=\"col-1\"></div>\n</div>\n</div>\n<nav class=\"navbar navbar-expand-lg navbar-light bg-light justify-content-center fixed-bottom\">\n<span class=\"navbar-text\">\n        Copyright © 2020 Hoseo Institute of Big Data\n    </span>\n</nav>\n</body>\n</html> \n"
     ]
    }
   ],
   "source": [
    "print(soup)"
   ]
  },
  {
   "cell_type": "markdown",
   "metadata": {},
   "source": [
    "### Beautiful Soup 사용법"
   ]
  },
  {
   "cell_type": "code",
   "execution_count": 8,
   "metadata": {},
   "outputs": [],
   "source": [
    "with open('00_Example.html', encoding='UTF-8') as html:\n",
    "    soup = BeautifulSoup(html, 'html.parser')"
   ]
  },
  {
   "cell_type": "markdown",
   "metadata": {},
   "source": [
    "### 태그를 이용해서 찾기"
   ]
  },
  {
   "cell_type": "code",
   "execution_count": 9,
   "metadata": {},
   "outputs": [
    {
     "output_type": "execute_result",
     "data": {
      "text/plain": [
       "<div>\n",
       "<p>a</p>\n",
       "<p>b</p>\n",
       "<p>c</p>\n",
       "</div>"
      ]
     },
     "metadata": {},
     "execution_count": 9
    }
   ],
   "source": [
    "# open한 데이터에 들어가있는 데이터를 찾는다.\n",
    "# find(단건찾기), find_all(모두찾기/리스트)로 들어간것은 모두 객체로 들어간다.\n",
    "first_div = soup.find('div')\n",
    "first_div"
   ]
  },
  {
   "cell_type": "code",
   "execution_count": 10,
   "metadata": {},
   "outputs": [
    {
     "output_type": "execute_result",
     "data": {
      "text/plain": [
       "[<div>\n",
       " <p>a</p>\n",
       " <p>b</p>\n",
       " <p>c</p>\n",
       " </div>,\n",
       " <div class=\"ex_class sample\">\n",
       " <p>1</p>\n",
       " <p>2</p>\n",
       " <p>3</p>\n",
       " </div>,\n",
       " <div id=\"ex_id\">\n",
       " <p>X</p>\n",
       " <p>Y</p>\n",
       " <p>Z</p>\n",
       " </div>]"
      ]
     },
     "metadata": {},
     "execution_count": 10
    }
   ],
   "source": [
    "all_divs = soup.find_all('div')\n",
    "all_divs"
   ]
  },
  {
   "cell_type": "code",
   "execution_count": 11,
   "metadata": {},
   "outputs": [
    {
     "output_type": "execute_result",
     "data": {
      "text/plain": [
       "[<p>a</p>,\n",
       " <p>b</p>,\n",
       " <p>c</p>,\n",
       " <p>1</p>,\n",
       " <p>2</p>,\n",
       " <p>3</p>,\n",
       " <p>X</p>,\n",
       " <p>Y</p>,\n",
       " <p>Z</p>,\n",
       " <p>This is a paragraph.</p>,\n",
       " <p>This is another paragraph.</p>]"
      ]
     },
     "metadata": {},
     "execution_count": 11
    }
   ],
   "source": [
    "all_ps = soup.find_all('p')\n",
    "all_ps"
   ]
  },
  {
   "cell_type": "code",
   "execution_count": 12,
   "metadata": {},
   "outputs": [
    {
     "output_type": "execute_result",
     "data": {
      "text/plain": [
       "[<p>a</p>, <p>b</p>, <p>c</p>]"
      ]
     },
     "metadata": {},
     "execution_count": 12
    }
   ],
   "source": [
    "some_ps = first_div.find_all('p')\n",
    "some_ps"
   ]
  },
  {
   "cell_type": "markdown",
   "metadata": {},
   "source": [
    "### 태그와 속성을 이용해서 찾기\n",
    "- find_all('태그명', {'속성명':'값1', '값2'...})\n",
    "- find('태그명', {'속성명':'값1', '값2'...})"
   ]
  },
  {
   "cell_type": "code",
   "execution_count": 13,
   "metadata": {},
   "outputs": [
    {
     "output_type": "execute_result",
     "data": {
      "text/plain": [
       "<div id=\"ex_id\">\n",
       "<p>X</p>\n",
       "<p>Y</p>\n",
       "<p>Z</p>\n",
       "</div>"
      ]
     },
     "metadata": {},
     "execution_count": 13
    }
   ],
   "source": [
    "ex_id = soup.find('div', {'id': 'ex_id'})\n",
    "ex_id"
   ]
  },
  {
   "cell_type": "code",
   "execution_count": 14,
   "metadata": {},
   "outputs": [
    {
     "output_type": "execute_result",
     "data": {
      "text/plain": [
       "<div id=\"ex_id\">\n",
       "<p>X</p>\n",
       "<p>Y</p>\n",
       "<p>Z</p>\n",
       "</div>"
      ]
     },
     "metadata": {},
     "execution_count": 14
    }
   ],
   "source": [
    "ex_id = soup.find('div', id='ex_id')\n",
    "ex_id"
   ]
  },
  {
   "cell_type": "code",
   "execution_count": 15,
   "metadata": {},
   "outputs": [
    {
     "output_type": "execute_result",
     "data": {
      "text/plain": [
       "<div class=\"ex_class sample\">\n",
       "<p>1</p>\n",
       "<p>2</p>\n",
       "<p>3</p>\n",
       "</div>"
      ]
     },
     "metadata": {},
     "execution_count": 15
    }
   ],
   "source": [
    "ex_class = soup.find('div', {'class':'ex_class'})\n",
    "ex_class"
   ]
  },
  {
   "cell_type": "code",
   "execution_count": 16,
   "metadata": {},
   "outputs": [
    {
     "output_type": "execute_result",
     "data": {
      "text/plain": [
       "<div class=\"ex_class sample\">\n",
       "<p>1</p>\n",
       "<p>2</p>\n",
       "<p>3</p>\n",
       "</div>"
      ]
     },
     "metadata": {},
     "execution_count": 16
    }
   ],
   "source": [
    "ex_class = soup.find('div', 'ex_class')\n",
    "ex_class"
   ]
  },
  {
   "cell_type": "code",
   "execution_count": 17,
   "metadata": {},
   "outputs": [
    {
     "output_type": "execute_result",
     "data": {
      "text/plain": [
       "<div class=\"ex_class sample\">\n",
       "<p>1</p>\n",
       "<p>2</p>\n",
       "<p>3</p>\n",
       "</div>"
      ]
     },
     "metadata": {},
     "execution_count": 17
    }
   ],
   "source": [
    "# class는 키워드기이때문에, class_로 검색해야한다.\n",
    "ex_class = soup.find(class_ = 'ex_class')\n",
    "ex_class"
   ]
  },
  {
   "cell_type": "markdown",
   "metadata": {},
   "source": [
    "### CSS Selector를 이용해서 가져오기\n",
    "- select_one('#id') == 해당하는것중 처음 하나만 갖고옴\n",
    "- select('.class1.class2')  == 해당값 모두 갖고옴"
   ]
  },
  {
   "cell_type": "code",
   "execution_count": 18,
   "metadata": {},
   "outputs": [
    {
     "output_type": "execute_result",
     "data": {
      "text/plain": [
       "[<div id=\"ex_id\">\n",
       " <p>X</p>\n",
       " <p>Y</p>\n",
       " <p>Z</p>\n",
       " </div>]"
      ]
     },
     "metadata": {},
     "execution_count": 18
    }
   ],
   "source": [
    "# CSS Selector (id)\n",
    "# list 형태로 찾은 결과를 갖고온다.\n",
    "ex_id = soup.select('#ex_id')\n",
    "ex_id"
   ]
  },
  {
   "cell_type": "code",
   "execution_count": 19,
   "metadata": {},
   "outputs": [
    {
     "output_type": "execute_result",
     "data": {
      "text/plain": [
       "[<div class=\"ex_class sample\">\n",
       " <p>1</p>\n",
       " <p>2</p>\n",
       " <p>3</p>\n",
       " </div>]"
      ]
     },
     "metadata": {},
     "execution_count": 19
    }
   ],
   "source": [
    "# CSS Selector (class)\n",
    "ex_class = soup.select('.ex_class')\n",
    "ex_class"
   ]
  },
  {
   "cell_type": "code",
   "execution_count": 20,
   "metadata": {},
   "outputs": [
    {
     "output_type": "execute_result",
     "data": {
      "text/plain": [
       "[<div class=\"ex_class sample\">\n",
       " <p>1</p>\n",
       " <p>2</p>\n",
       " <p>3</p>\n",
       " </div>,\n",
       " <a class=\"a sample\" href=\"www.naver.com\">Naver</a>]"
      ]
     },
     "metadata": {},
     "execution_count": 20
    }
   ],
   "source": [
    "# sample이라는 단어가 적힌 클래스 찾기\n",
    "soup.select('.sample')"
   ]
  },
  {
   "cell_type": "code",
   "execution_count": 21,
   "metadata": {},
   "outputs": [
    {
     "output_type": "execute_result",
     "data": {
      "text/plain": [
       "[<a class=\"a sample\" href=\"www.naver.com\">Naver</a>]"
      ]
     },
     "metadata": {},
     "execution_count": 21
    }
   ],
   "source": [
    "# sample이라는 단어가 적힌 클래스 중 앞이 a인것 찾기\n",
    "soup.select('.a.sample')"
   ]
  },
  {
   "cell_type": "code",
   "execution_count": 22,
   "metadata": {},
   "outputs": [
    {
     "output_type": "execute_result",
     "data": {
      "text/plain": [
       "<a class=\"a sample\" href=\"www.naver.com\">Naver</a>"
      ]
     },
     "metadata": {},
     "execution_count": 22
    }
   ],
   "source": [
    "# 리스트가 아닌 객체 하나만 갖고온다.\n",
    "soup.select_one('.a.sample')"
   ]
  },
  {
   "cell_type": "markdown",
   "metadata": {},
   "source": [
    "### 결과 가져오기"
   ]
  },
  {
   "cell_type": "code",
   "execution_count": 23,
   "metadata": {},
   "outputs": [
    {
     "output_type": "execute_result",
     "data": {
      "text/plain": [
       "[<div id=\"ex_id\">\n",
       " <p>X</p>\n",
       " <p>Y</p>\n",
       " <p>Z</p>\n",
       " </div>]"
      ]
     },
     "metadata": {},
     "execution_count": 23
    }
   ],
   "source": [
    "ex_id"
   ]
  },
  {
   "cell_type": "code",
   "execution_count": 24,
   "metadata": {},
   "outputs": [
    {
     "output_type": "execute_result",
     "data": {
      "text/plain": [
       "'X'"
      ]
     },
     "metadata": {},
     "execution_count": 24
    }
   ],
   "source": [
    "# ex_id의 p태그 안의 첫번째 값 갖고오기\n",
    "first_p = ex_id[0].find('p')\n",
    "first_p.get_text()"
   ]
  },
  {
   "cell_type": "code",
   "execution_count": 25,
   "metadata": {},
   "outputs": [
    {
     "output_type": "execute_result",
     "data": {
      "text/plain": [
       "'X'"
      ]
     },
     "metadata": {},
     "execution_count": 25
    }
   ],
   "source": [
    "# 첫번째 값 갖고오기2\n",
    "first_p.string"
   ]
  },
  {
   "cell_type": "code",
   "execution_count": 26,
   "metadata": {},
   "outputs": [
    {
     "output_type": "execute_result",
     "data": {
      "text/plain": [
       "[<div class=\"ex_class sample\">\n",
       " <p>1</p>\n",
       " <p>2</p>\n",
       " <p>3</p>\n",
       " </div>]"
      ]
     },
     "metadata": {},
     "execution_count": 26
    }
   ],
   "source": [
    "ex_class"
   ]
  },
  {
   "cell_type": "code",
   "execution_count": 27,
   "metadata": {},
   "outputs": [
    {
     "output_type": "stream",
     "name": "stdout",
     "text": [
      "1\n2\n3\n"
     ]
    }
   ],
   "source": [
    "class_ps = ex_class[0].find_all('p')\n",
    "for one_p in class_ps:\n",
    "    print(one_p.string)"
   ]
  },
  {
   "cell_type": "markdown",
   "metadata": {},
   "source": [
    "#### 속성값 가져오기"
   ]
  },
  {
   "cell_type": "code",
   "execution_count": 28,
   "metadata": {},
   "outputs": [
    {
     "output_type": "execute_result",
     "data": {
      "text/plain": [
       "<a class=\"a sample\" href=\"www.naver.com\">Naver</a>"
      ]
     },
     "metadata": {},
     "execution_count": 28
    }
   ],
   "source": [
    "a_tag = soup.find('a')\n",
    "a_tag"
   ]
  },
  {
   "cell_type": "code",
   "execution_count": 29,
   "metadata": {},
   "outputs": [
    {
     "output_type": "execute_result",
     "data": {
      "text/plain": [
       "'Naver'"
      ]
     },
     "metadata": {},
     "execution_count": 29
    }
   ],
   "source": [
    "a_tag.get_text()"
   ]
  },
  {
   "cell_type": "code",
   "execution_count": 30,
   "metadata": {},
   "outputs": [
    {
     "output_type": "execute_result",
     "data": {
      "text/plain": [
       "'www.naver.com'"
      ]
     },
     "metadata": {},
     "execution_count": 30
    }
   ],
   "source": [
    "# a태그 내의 속성값 (href)를 찾기\n",
    "a_tag.attrs['href']"
   ]
  },
  {
   "cell_type": "markdown",
   "metadata": {},
   "source": [
    "### BBS 사이트 크롤링하기"
   ]
  },
  {
   "cell_type": "code",
   "execution_count": 31,
   "metadata": {},
   "outputs": [],
   "source": [
    "web_url = 'http://200.1.220.217:3000/bbs/list/1'\n",
    "with urllib.request.urlopen(web_url) as response:\n",
    "    html = response.read()\n",
    "    soup = BeautifulSoup(html, 'html.parser')"
   ]
  },
  {
   "cell_type": "code",
   "execution_count": 32,
   "metadata": {},
   "outputs": [
    {
     "output_type": "execute_result",
     "data": {
      "text/plain": [
       "<tr class=\"d-flex\">\n",
       "<td class=\"col-1\" style=\"text-align: center;\">1013</td>\n",
       "<td class=\"col-6\"><a href=\"/bbs/bid/1013/inc/1\"><strong>리눅스 글쓰기</strong></a></td>\n",
       "<td class=\"col-2\" style=\"text-align: center;\">홍길동</td>\n",
       "<td class=\"col-2\" style=\"text-align: center;\">2020-10-27</td>\n",
       "<td class=\"col-1\" style=\"text-align: center;\">3</td>\n",
       "</tr>"
      ]
     },
     "metadata": {},
     "execution_count": 32
    }
   ],
   "source": [
    "table = soup.find('table')\n",
    "rows = table.select('.d-flex')\n",
    "first_row = rows[1]\n",
    "first_row"
   ]
  },
  {
   "cell_type": "code",
   "execution_count": 33,
   "metadata": {},
   "outputs": [
    {
     "output_type": "execute_result",
     "data": {
      "text/plain": [
       "[<td class=\"col-1\" style=\"text-align: center;\">1013</td>,\n",
       " <td class=\"col-6\"><a href=\"/bbs/bid/1013/inc/1\"><strong>리눅스 글쓰기</strong></a></td>,\n",
       " <td class=\"col-2\" style=\"text-align: center;\">홍길동</td>,\n",
       " <td class=\"col-2\" style=\"text-align: center;\">2020-10-27</td>,\n",
       " <td class=\"col-1\" style=\"text-align: center;\">3</td>]"
      ]
     },
     "metadata": {},
     "execution_count": 33
    }
   ],
   "source": [
    "tds = first_row.find_all('td')\n",
    "tds"
   ]
  },
  {
   "cell_type": "code",
   "execution_count": 34,
   "metadata": {},
   "outputs": [
    {
     "output_type": "stream",
     "name": "stdout",
     "text": [
      "1013\n리눅스 글쓰기\n홍길동\n2020-10-27\n3\n"
     ]
    }
   ],
   "source": [
    "for td in tds:\n",
    "    print(td.string)"
   ]
  },
  {
   "cell_type": "markdown",
   "metadata": {},
   "source": [
    "#### 데이터를 갖고와 Data Frame으로 만들기"
   ]
  },
  {
   "cell_type": "code",
   "execution_count": 35,
   "metadata": {},
   "outputs": [],
   "source": [
    "trs = soup.find_all('tr')\n",
    "bids = []; titles = []; names = []\n",
    "times = []; view_counts = []; reply_counts=[]"
   ]
  },
  {
   "cell_type": "code",
   "execution_count": 36,
   "metadata": {},
   "outputs": [],
   "source": [
    "for tr in trs[1:]:\n",
    "    tds = tr.find_all('td')\n",
    "    span = tds[1].find('span')\n",
    "    index = tds[1].get_text().find('[')\n",
    "    title = tds[1].get_text()[:index] if span else tds[1].get_text()\n",
    "    reply_count = span.string[1:-1] if span else '0'\n",
    "    bids.append(tds[0].string)\n",
    "    titles.append(title)\n",
    "    reply_counts.append(reply_count)\n",
    "    names.append(tds[2].string)\n",
    "    times.append(tds[3].string)\n",
    "    view_counts.append(tds[4].string)"
   ]
  },
  {
   "cell_type": "code",
   "execution_count": 37,
   "metadata": {},
   "outputs": [
    {
     "output_type": "execute_result",
     "data": {
      "text/plain": [
       "['리눅스 글쓰기',\n",
       " '마이크로소프트 엣지에서의 동작',\n",
       " '역적 - 백성을 훔친 도적',\n",
       " '홍길동전',\n",
       " '대조영',\n",
       " 'Linux server를 원격 Windows에서 접속하여 글쓰기',\n",
       " 'ubuntu에서 글쓰기',\n",
       " '슬기로운 의사생활',\n",
       " '파리의 연인',\n",
       " '시크릿 가든']"
      ]
     },
     "metadata": {},
     "execution_count": 37
    }
   ],
   "source": [
    "titles"
   ]
  },
  {
   "cell_type": "code",
   "execution_count": 38,
   "metadata": {},
   "outputs": [],
   "source": [
    "import pandas as pd"
   ]
  },
  {
   "cell_type": "code",
   "execution_count": 39,
   "metadata": {},
   "outputs": [
    {
     "output_type": "execute_result",
     "data": {
      "text/plain": [
       "                                    title name        time view_count  \\\n",
       "bid                                                                     \n",
       "1013                              리눅스 글쓰기  홍길동  2020-10-27          3   \n",
       "1012                     마이크로소프트 엣지에서의 동작  김은숙  2020-10-23         14   \n",
       "1011                       역적 - 백성을 훔친 도적  홍길동  2020-10-23          4   \n",
       "1010                                 홍길동전  홍길동  2020-10-23          3   \n",
       "1009                                  대조영  대조영  2020-10-23          9   \n",
       "1008  Linux server를 원격 Windows에서 접속하여 글쓰기  관리자  2020-10-23          7   \n",
       "1007                         ubuntu에서 글쓰기  관리자  2020-10-22          5   \n",
       "1006                            슬기로운 의사생활  이우정  2020-10-22         12   \n",
       "1005                               파리의 연인  김은숙  2020-10-22          9   \n",
       "1004                               시크릿 가든  김은숙  2020-10-22          4   \n",
       "\n",
       "     reply_count  \n",
       "bid               \n",
       "1013           0  \n",
       "1012           2  \n",
       "1011           1  \n",
       "1010           0  \n",
       "1009           2  \n",
       "1008           3  \n",
       "1007           1  \n",
       "1006           3  \n",
       "1005           4  \n",
       "1004           0  "
      ],
      "text/html": "<div>\n<style scoped>\n    .dataframe tbody tr th:only-of-type {\n        vertical-align: middle;\n    }\n\n    .dataframe tbody tr th {\n        vertical-align: top;\n    }\n\n    .dataframe thead th {\n        text-align: right;\n    }\n</style>\n<table border=\"1\" class=\"dataframe\">\n  <thead>\n    <tr style=\"text-align: right;\">\n      <th></th>\n      <th>title</th>\n      <th>name</th>\n      <th>time</th>\n      <th>view_count</th>\n      <th>reply_count</th>\n    </tr>\n    <tr>\n      <th>bid</th>\n      <th></th>\n      <th></th>\n      <th></th>\n      <th></th>\n      <th></th>\n    </tr>\n  </thead>\n  <tbody>\n    <tr>\n      <th>1013</th>\n      <td>리눅스 글쓰기</td>\n      <td>홍길동</td>\n      <td>2020-10-27</td>\n      <td>3</td>\n      <td>0</td>\n    </tr>\n    <tr>\n      <th>1012</th>\n      <td>마이크로소프트 엣지에서의 동작</td>\n      <td>김은숙</td>\n      <td>2020-10-23</td>\n      <td>14</td>\n      <td>2</td>\n    </tr>\n    <tr>\n      <th>1011</th>\n      <td>역적 - 백성을 훔친 도적</td>\n      <td>홍길동</td>\n      <td>2020-10-23</td>\n      <td>4</td>\n      <td>1</td>\n    </tr>\n    <tr>\n      <th>1010</th>\n      <td>홍길동전</td>\n      <td>홍길동</td>\n      <td>2020-10-23</td>\n      <td>3</td>\n      <td>0</td>\n    </tr>\n    <tr>\n      <th>1009</th>\n      <td>대조영</td>\n      <td>대조영</td>\n      <td>2020-10-23</td>\n      <td>9</td>\n      <td>2</td>\n    </tr>\n    <tr>\n      <th>1008</th>\n      <td>Linux server를 원격 Windows에서 접속하여 글쓰기</td>\n      <td>관리자</td>\n      <td>2020-10-23</td>\n      <td>7</td>\n      <td>3</td>\n    </tr>\n    <tr>\n      <th>1007</th>\n      <td>ubuntu에서 글쓰기</td>\n      <td>관리자</td>\n      <td>2020-10-22</td>\n      <td>5</td>\n      <td>1</td>\n    </tr>\n    <tr>\n      <th>1006</th>\n      <td>슬기로운 의사생활</td>\n      <td>이우정</td>\n      <td>2020-10-22</td>\n      <td>12</td>\n      <td>3</td>\n    </tr>\n    <tr>\n      <th>1005</th>\n      <td>파리의 연인</td>\n      <td>김은숙</td>\n      <td>2020-10-22</td>\n      <td>9</td>\n      <td>4</td>\n    </tr>\n    <tr>\n      <th>1004</th>\n      <td>시크릿 가든</td>\n      <td>김은숙</td>\n      <td>2020-10-22</td>\n      <td>4</td>\n      <td>0</td>\n    </tr>\n  </tbody>\n</table>\n</div>"
     },
     "metadata": {},
     "execution_count": 39
    }
   ],
   "source": [
    "bbs = pd.DataFrame({\n",
    "    'bid' : bids,\n",
    "    'title' : titles,\n",
    "    'name' : names,\n",
    "    'time' : times,\n",
    "    'view_count' : view_counts,\n",
    "    'reply_count' : reply_counts\n",
    "})\n",
    "bbs = bbs.set_index('bid')\n",
    "bbs"
   ]
  },
  {
   "cell_type": "markdown",
   "metadata": {},
   "source": [
    "### 여러 페이지가 있는 크롤링"
   ]
  },
  {
   "cell_type": "code",
   "execution_count": 40,
   "metadata": {},
   "outputs": [],
   "source": [
    "base_url = 'http://200.1.220.217:3000/bbs/list/'\n",
    "page_url = '1'\n",
    "web_url = base_url + page_url\n",
    "with urllib.request.urlopen(web_url) as response:\n",
    "    html = response.read()\n",
    "    soup = BeautifulSoup(html, 'html.parser')"
   ]
  },
  {
   "cell_type": "code",
   "execution_count": 46,
   "metadata": {},
   "outputs": [
    {
     "output_type": "execute_result",
     "data": {
      "text/plain": [
       "[<li class=\"page-item\">\n",
       " <a aria-label=\"Previous\" class=\"page-link active\" href=\"#\">\n",
       " <span aria-hidden=\"true\">«</span></a>\n",
       " </li>,\n",
       " <li class=\"page-item\"><a class=\"page-link\" href=\"/bbs/list/1\">1</a></li>,\n",
       " <li aria-current=\"page\" class=\"page-item active\">\n",
       " <span class=\"page-link\">\n",
       "                                 2<span class=\"sr-only\">(current)</span>\n",
       " </span>\n",
       " </li>,\n",
       " <li class=\"page-item\">\n",
       " <a aria-label=\"Next\" class=\"page-link\" href=\"#\">\n",
       " <span aria-hidden=\"true\">»</span></a>\n",
       " </li>]"
      ]
     },
     "metadata": {},
     "execution_count": 46
    }
   ],
   "source": [
    "lis = soup.select('.page-item') #soup.fine_all('li')와 동일\n",
    "lis"
   ]
  },
  {
   "cell_type": "code",
   "execution_count": 42,
   "metadata": {},
   "outputs": [
    {
     "output_type": "execute_result",
     "data": {
      "text/plain": [
       "2"
      ]
     },
     "metadata": {},
     "execution_count": 42
    }
   ],
   "source": [
    "# 루핑을 돌리기 편하게하기위해, int로 바꾼다.\n",
    "page = int(lis[-2].string)\n",
    "page"
   ]
  },
  {
   "cell_type": "code",
   "execution_count": 43,
   "metadata": {},
   "outputs": [],
   "source": [
    "bids = []; titles = []; names = []\n",
    "times = []; view_counts = []; reply_counts=[]"
   ]
  },
  {
   "cell_type": "code",
   "execution_count": 44,
   "metadata": {},
   "outputs": [],
   "source": [
    "for i in range(page):\n",
    "    page_url = str(i+1)\n",
    "    web_url = base_url + page_url\n",
    "    with urllib.request.urlopen(web_url) as response:\n",
    "        html = response.read()\n",
    "        soup = BeautifulSoup(html, 'html.parser')\n",
    "        trs = soup.find_all('tr')\n",
    "        for tr in trs[1:]:\n",
    "            tds = tr.find_all('td')\n",
    "            span = tds[1].find('span')\n",
    "            index = tds[1].get_text().find('[')\n",
    "            title = tds[1].get_text()[:index] if span else tds[1].get_text()\n",
    "            reply_count = span.string[1:-1] if span else '0'\n",
    "            bids.append(tds[0].string)\n",
    "            titles.append(title)\n",
    "            reply_counts.append(reply_count)\n",
    "            names.append(tds[2].string)\n",
    "            times.append(tds[3].string)\n",
    "            view_counts.append(tds[4].string)"
   ]
  },
  {
   "cell_type": "code",
   "execution_count": 45,
   "metadata": {},
   "outputs": [
    {
     "output_type": "execute_result",
     "data": {
      "text/plain": [
       "                                    title name        time view_count  \\\n",
       "bid                                                                     \n",
       "1013                              리눅스 글쓰기  홍길동  2020-10-27          3   \n",
       "1012                     마이크로소프트 엣지에서의 동작  김은숙  2020-10-23         14   \n",
       "1011                       역적 - 백성을 훔친 도적  홍길동  2020-10-23          4   \n",
       "1010                                 홍길동전  홍길동  2020-10-23          3   \n",
       "1009                                  대조영  대조영  2020-10-23          9   \n",
       "1008  Linux server를 원격 Windows에서 접속하여 글쓰기  관리자  2020-10-23          7   \n",
       "1007                         ubuntu에서 글쓰기  관리자  2020-10-22          5   \n",
       "1006                            슬기로운 의사생활  이우정  2020-10-22         12   \n",
       "1005                               파리의 연인  김은숙  2020-10-22          9   \n",
       "1004                               시크릿 가든  김은숙  2020-10-22          4   \n",
       "1003                               태양의 후예  김은숙  2020-10-23         11   \n",
       "1002                                  도깨비  김은숙  2020-10-22          4   \n",
       "1001                              미스터 션샤인  김은숙  2020-10-23          6   \n",
       "\n",
       "     reply_count  \n",
       "bid               \n",
       "1013           0  \n",
       "1012           2  \n",
       "1011           1  \n",
       "1010           0  \n",
       "1009           2  \n",
       "1008           3  \n",
       "1007           1  \n",
       "1006           3  \n",
       "1005           4  \n",
       "1004           0  \n",
       "1003           2  \n",
       "1002           1  \n",
       "1001           1  "
      ],
      "text/html": "<div>\n<style scoped>\n    .dataframe tbody tr th:only-of-type {\n        vertical-align: middle;\n    }\n\n    .dataframe tbody tr th {\n        vertical-align: top;\n    }\n\n    .dataframe thead th {\n        text-align: right;\n    }\n</style>\n<table border=\"1\" class=\"dataframe\">\n  <thead>\n    <tr style=\"text-align: right;\">\n      <th></th>\n      <th>title</th>\n      <th>name</th>\n      <th>time</th>\n      <th>view_count</th>\n      <th>reply_count</th>\n    </tr>\n    <tr>\n      <th>bid</th>\n      <th></th>\n      <th></th>\n      <th></th>\n      <th></th>\n      <th></th>\n    </tr>\n  </thead>\n  <tbody>\n    <tr>\n      <th>1013</th>\n      <td>리눅스 글쓰기</td>\n      <td>홍길동</td>\n      <td>2020-10-27</td>\n      <td>3</td>\n      <td>0</td>\n    </tr>\n    <tr>\n      <th>1012</th>\n      <td>마이크로소프트 엣지에서의 동작</td>\n      <td>김은숙</td>\n      <td>2020-10-23</td>\n      <td>14</td>\n      <td>2</td>\n    </tr>\n    <tr>\n      <th>1011</th>\n      <td>역적 - 백성을 훔친 도적</td>\n      <td>홍길동</td>\n      <td>2020-10-23</td>\n      <td>4</td>\n      <td>1</td>\n    </tr>\n    <tr>\n      <th>1010</th>\n      <td>홍길동전</td>\n      <td>홍길동</td>\n      <td>2020-10-23</td>\n      <td>3</td>\n      <td>0</td>\n    </tr>\n    <tr>\n      <th>1009</th>\n      <td>대조영</td>\n      <td>대조영</td>\n      <td>2020-10-23</td>\n      <td>9</td>\n      <td>2</td>\n    </tr>\n    <tr>\n      <th>1008</th>\n      <td>Linux server를 원격 Windows에서 접속하여 글쓰기</td>\n      <td>관리자</td>\n      <td>2020-10-23</td>\n      <td>7</td>\n      <td>3</td>\n    </tr>\n    <tr>\n      <th>1007</th>\n      <td>ubuntu에서 글쓰기</td>\n      <td>관리자</td>\n      <td>2020-10-22</td>\n      <td>5</td>\n      <td>1</td>\n    </tr>\n    <tr>\n      <th>1006</th>\n      <td>슬기로운 의사생활</td>\n      <td>이우정</td>\n      <td>2020-10-22</td>\n      <td>12</td>\n      <td>3</td>\n    </tr>\n    <tr>\n      <th>1005</th>\n      <td>파리의 연인</td>\n      <td>김은숙</td>\n      <td>2020-10-22</td>\n      <td>9</td>\n      <td>4</td>\n    </tr>\n    <tr>\n      <th>1004</th>\n      <td>시크릿 가든</td>\n      <td>김은숙</td>\n      <td>2020-10-22</td>\n      <td>4</td>\n      <td>0</td>\n    </tr>\n    <tr>\n      <th>1003</th>\n      <td>태양의 후예</td>\n      <td>김은숙</td>\n      <td>2020-10-23</td>\n      <td>11</td>\n      <td>2</td>\n    </tr>\n    <tr>\n      <th>1002</th>\n      <td>도깨비</td>\n      <td>김은숙</td>\n      <td>2020-10-22</td>\n      <td>4</td>\n      <td>1</td>\n    </tr>\n    <tr>\n      <th>1001</th>\n      <td>미스터 션샤인</td>\n      <td>김은숙</td>\n      <td>2020-10-23</td>\n      <td>6</td>\n      <td>1</td>\n    </tr>\n  </tbody>\n</table>\n</div>"
     },
     "metadata": {},
     "execution_count": 45
    }
   ],
   "source": [
    "bbs = pd.DataFrame({\n",
    "    'bid' : bids,\n",
    "    'title' : titles,\n",
    "    'name' : names,\n",
    "    'time' : times,\n",
    "    'view_count' : view_counts,\n",
    "    'reply_count' : reply_counts\n",
    "})\n",
    "bbs = bbs.set_index('bid')\n",
    "bbs"
   ]
  },
  {
   "cell_type": "markdown",
   "metadata": {},
   "source": []
  },
  {
   "cell_type": "code",
   "execution_count": null,
   "metadata": {},
   "outputs": [],
   "source": []
  }
 ]
}