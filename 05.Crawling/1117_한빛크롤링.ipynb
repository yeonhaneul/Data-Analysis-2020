{
 "metadata": {
  "language_info": {
   "codemirror_mode": {
    "name": "ipython",
    "version": 3
   },
   "file_extension": ".py",
   "mimetype": "text/x-python",
   "name": "python",
   "nbconvert_exporter": "python",
   "pygments_lexer": "ipython3",
   "version": "3.8.3-final"
  },
  "orig_nbformat": 2,
  "kernelspec": {
   "name": "Python 3.8.3 64-bit ('base': conda)",
   "display_name": "Python 3.8.3 64-bit ('base': conda)",
   "metadata": {
    "interpreter": {
     "hash": "b3ba2566441a7c06988d0923437866b63cedc61552a5af99d1f4fb67d367b25f"
    }
   }
  }
 },
 "nbformat": 4,
 "nbformat_minor": 2,
 "cells": [
  {
   "cell_type": "code",
   "execution_count": 1,
   "metadata": {},
   "outputs": [],
   "source": [
    "from bs4 import BeautifulSoup\n",
    "import urllib.request\n",
    "import pandas as pd"
   ]
  },
  {
   "cell_type": "code",
   "execution_count": 2,
   "metadata": {},
   "outputs": [],
   "source": [
    "web_url = 'https://www.hanbit.co.kr/academy/books/new_book_list.html?page=1&cate_cd=&srt=&searchKey=&keyWord='\n",
    "with urllib.request.urlopen(web_url) as response:\n",
    "    html = response.read()\n",
    "    soup = BeautifulSoup(html, 'html.parser')"
   ]
  },
  {
   "cell_type": "markdown",
   "metadata": {},
   "source": [
    "### 페이지 하나 크롤링"
   ]
  },
  {
   "cell_type": "code",
   "execution_count": 3,
   "metadata": {},
   "outputs": [
    {
     "output_type": "execute_result",
     "data": {
      "text/plain": [
       "<li class=\"sub_book_list\">\n",
       "<div class=\"view_box\">\n",
       "<span class=\"view_box_block\">\n",
       "<span class=\"img_hidden_a\">\n",
       "<span class=\"pop_quick_menu\">\n",
       "<a href=\"/academy/books/book_view.html?p_code=B4797877052\"><img alt=\"상세보기\" src=\"https://www.hanbit.co.kr/images/common/icon_view_detail.png\"/></a>\n",
       "<a href=\"javascript:;\" onclick=\"addCart('B4797877052','','1','');\">\n",
       "<img alt=\"장바구니 담기\" src=\"https://www.hanbit.co.kr/images/common/icon_add_cart.png\"/>\n",
       "</a>\n",
       "</span>\n",
       "<span class=\"price\">32,000<span>원</span></span>\n",
       "<span class=\"pop_quick_bg\" onclick=\"location='/academy/books/book_view.html?p_code=B4797877052'\"></span>\n",
       "</span>\n",
       "<!-- 예약도서인 경우 -->\n",
       "<!-- ebook이 도서인 경우 -->\n",
       "<img alt=\"\" class=\"thumb\" src=\"/data/books/B4797877052_m.jpg\"/>\n",
       "</span>\n",
       "<div class=\"info\">\n",
       "<p class=\"book_tit\"><a href=\"/academy/books/book_view.html?p_code=B4797877052\">포르잔 C++ 에센셜</a></p>\n",
       "<p class=\"book_writer\">Behrouz A. Forouzan , Richard F. Gilberg </p>\n",
       "</div>\n",
       "</div>\n",
       "</li>"
      ]
     },
     "metadata": {},
     "execution_count": 3
    }
   ],
   "source": [
    "lis = soup.select('.sub_book_list')\n",
    "lis[0]"
   ]
  },
  {
   "cell_type": "code",
   "execution_count": 4,
   "metadata": {},
   "outputs": [
    {
     "output_type": "execute_result",
     "data": {
      "text/plain": [
       "'32,000'"
      ]
     },
     "metadata": {},
     "execution_count": 4
    }
   ],
   "source": [
    "# 가격구하기\n",
    "spans = lis[0].find_all('span')\n",
    "price_end_index = index2 = spans[3].get_text().find('원')\n",
    "price = spans[3].get_text()[:price_end_index]\n",
    "price"
   ]
  },
  {
   "cell_type": "code",
   "execution_count": 5,
   "metadata": {},
   "outputs": [
    {
     "output_type": "execute_result",
     "data": {
      "text/plain": [
       "('포르잔 C++ 에센셜', 'Behrouz A. Forouzan , Richard F. Gilberg ')"
      ]
     },
     "metadata": {},
     "execution_count": 5
    }
   ],
   "source": [
    "# 제목, 저자구하기\n",
    "divs = lis[0].find_all('div')\n",
    "info = divs[1]\n",
    "ps = info.select('p')\n",
    "title = ps[0].string\n",
    "writer = ps[1].string\n",
    "title, writer"
   ]
  },
  {
   "cell_type": "code",
   "execution_count": 6,
   "metadata": {},
   "outputs": [],
   "source": [
    "prices=[]; titles=[]; writers=[]"
   ]
  },
  {
   "cell_type": "code",
   "execution_count": 7,
   "metadata": {},
   "outputs": [],
   "source": [
    "for li in lis:\n",
    "    spans = li.find_all('span')\n",
    "    price_end_index = index2 = spans[3].get_text().find('원')\n",
    "    price = spans[3].get_text()[:price_end_index]\n",
    "\n",
    "    divs = li.find_all('div')\n",
    "    info = divs[1]\n",
    "    ps = info.select('p')\n",
    "    title = ps[0].string\n",
    "    writer = ps[1].string\n",
    "\n",
    "    prices.append(price)\n",
    "    titles.append(title)\n",
    "    writers.append(writer)"
   ]
  },
  {
   "cell_type": "code",
   "execution_count": 8,
   "metadata": {},
   "outputs": [
    {
     "output_type": "execute_result",
     "data": {
      "text/plain": [
       "                                                                                 저자  \\\n",
       "제목                                                                                    \n",
       "포르잔 C++ 에센셜                               Behrouz A. Forouzan , Richard F. Gilberg    \n",
       "IT CookBook, 액세스 2019로 배우는 데이터베이스 기초와 실습                                       김지연    \n",
       "포르잔 C++ 바이블                               Behrouz A. Forouzan , Richard F. Gilberg    \n",
       "딥러닝을 위한 선형대수학                                                       Gilbert Strang    \n",
       "IT CookBook, 오라클로 배우는 데이터베이스 개론과 실습(2판)                            박우창 , 남송휘 , 이현룡    \n",
       "\n",
       "                                              가격  \n",
       "제목                                                \n",
       "포르잔 C++ 에센셜                               32,000  \n",
       "IT CookBook, 액세스 2019로 배우는 데이터베이스 기초와 실습  28,000  \n",
       "포르잔 C++ 바이블                               45,000  \n",
       "딥러닝을 위한 선형대수학                             38,000  \n",
       "IT CookBook, 오라클로 배우는 데이터베이스 개론과 실습(2판)   29,000  "
      ],
      "text/html": "<div>\n<style scoped>\n    .dataframe tbody tr th:only-of-type {\n        vertical-align: middle;\n    }\n\n    .dataframe tbody tr th {\n        vertical-align: top;\n    }\n\n    .dataframe thead th {\n        text-align: right;\n    }\n</style>\n<table border=\"1\" class=\"dataframe\">\n  <thead>\n    <tr style=\"text-align: right;\">\n      <th></th>\n      <th>저자</th>\n      <th>가격</th>\n    </tr>\n    <tr>\n      <th>제목</th>\n      <th></th>\n      <th></th>\n    </tr>\n  </thead>\n  <tbody>\n    <tr>\n      <th>포르잔 C++ 에센셜</th>\n      <td>Behrouz A. Forouzan , Richard F. Gilberg</td>\n      <td>32,000</td>\n    </tr>\n    <tr>\n      <th>IT CookBook, 액세스 2019로 배우는 데이터베이스 기초와 실습</th>\n      <td>김지연</td>\n      <td>28,000</td>\n    </tr>\n    <tr>\n      <th>포르잔 C++ 바이블</th>\n      <td>Behrouz A. Forouzan , Richard F. Gilberg</td>\n      <td>45,000</td>\n    </tr>\n    <tr>\n      <th>딥러닝을 위한 선형대수학</th>\n      <td>Gilbert Strang</td>\n      <td>38,000</td>\n    </tr>\n    <tr>\n      <th>IT CookBook, 오라클로 배우는 데이터베이스 개론과 실습(2판)</th>\n      <td>박우창 , 남송휘 , 이현룡</td>\n      <td>29,000</td>\n    </tr>\n  </tbody>\n</table>\n</div>"
     },
     "metadata": {},
     "execution_count": 8
    }
   ],
   "source": [
    "books = pd.DataFrame({\n",
    "    '제목':titles,\n",
    "    '저자':writers,\n",
    "    '가격':prices\n",
    "    \n",
    "})\n",
    "oks = pd.DataFrame({\n",
    "    '제목':titles,\n",
    "    '저자':writers,\n",
    "    '가격':prices\n",
    "    \n",
    "})\n",
    "books = books.set_index('제목')\n",
    "books.head()"
   ]
  }
 ]
}