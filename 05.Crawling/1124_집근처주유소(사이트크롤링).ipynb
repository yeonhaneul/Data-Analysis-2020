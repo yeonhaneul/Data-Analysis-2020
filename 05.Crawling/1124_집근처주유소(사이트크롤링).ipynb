{
 "metadata": {
  "language_info": {
   "codemirror_mode": {
    "name": "ipython",
    "version": 3
   },
   "file_extension": ".py",
   "mimetype": "text/x-python",
   "name": "python",
   "nbconvert_exporter": "python",
   "pygments_lexer": "ipython3",
   "version": "3.8.3-final"
  },
  "orig_nbformat": 2,
  "kernelspec": {
   "name": "python3",
   "display_name": "Python 3"
  }
 },
 "nbformat": 4,
 "nbformat_minor": 2,
 "cells": [
  {
   "cell_type": "code",
   "execution_count": 1,
   "metadata": {},
   "outputs": [],
   "source": [
    "import time\n",
    "from selenium import webdriver\n",
    "from selenium.webdriver.common.keys import Keys"
   ]
  },
  {
   "cell_type": "code",
   "execution_count": 2,
   "metadata": {},
   "outputs": [],
   "source": [
    "driver = webdriver.Chrome('./chromedriver')\n",
    "driver.maximize_window()\n",
    "driver.get('http://www.opinet.co.kr/searRgSelect.do')\n",
    "time.sleep(1)\n",
    "\n",
    "driver.find_element_by_css_selector('.ic_m1').click()\n",
    "time.sleep(2)\n",
    "\n",
    "region = driver.find_element_by_xpath('//*[@id=\"SIGUNGU_NM0\"]/option[5]')\n",
    "dong_1 = driver.find_element_by_xpath('//*[@id=\"DONG_NM\"]/option[9]').text\n",
    "dong_2 = driver.find_element_by_xpath('//*[@id=\"DONG_NM\"]/option[14]').text\n",
    "dong_3 = driver.find_element_by_xpath('//*[@id=\"DONG_NM\"]/option[25]').text\n",
    "\n",
    "dong_list = [dong_1, dong_2, dong_3]\n",
    "\n",
    "for dong in dong_list:\n",
    "    region = driver.find_element_by_xpath('//*[@id=\"SIGUNGU_NM0\"]/option[5]').click()\n",
    "    dongs = driver.find_element_by_id('DONG_NM')\n",
    "    dongs.send_keys(dong)\n",
    "    time.sleep(1)\n",
    "\n",
    "    driver.find_element_by_xpath('//*[@id=\"glopopd_excel\"]/span').click()\n",
    "    time.sleep(2)\n",
    "\n",
    "driver.quit()"
   ]
  },
  {
   "cell_type": "code",
   "execution_count": 3,
   "metadata": {},
   "outputs": [],
   "source": [
    "import pandas as pd\n",
    "from glob import glob"
   ]
  },
  {
   "cell_type": "code",
   "execution_count": 4,
   "metadata": {},
   "outputs": [
    {
     "output_type": "execute_result",
     "data": {
      "text/plain": [
       "['./station_dong_data\\\\지역_위치별(주유소) (1).xls',\n",
       " './station_dong_data\\\\지역_위치별(주유소) (2).xls',\n",
       " './station_dong_data\\\\지역_위치별(주유소).xls']"
      ]
     },
     "metadata": {},
     "execution_count": 4
    }
   ],
   "source": [
    "glob('./station_dong_data/지역*.xls')"
   ]
  },
  {
   "cell_type": "code",
   "execution_count": 5,
   "metadata": {},
   "outputs": [
    {
     "output_type": "execute_result",
     "data": {
      "text/plain": [
       "      지역              상호                     주소     상표          전화번호 셀프여부  \\\n",
       "0  서울특별시  대성석유(주)직영관문주유소        서울 강서구 공항대로 314  GS칼텍스  02-3665-2051    N   \n",
       "1  서울특별시          우장산주유소  서울 강서구 강서로 292 (내발산동)  SK에너지  02-3664-7163    N   \n",
       "\n",
       "  고급휘발유   휘발유    경유  실내등유  \n",
       "0  1599  1358  1187  1000  \n",
       "1     -  1358  1187  1000  "
      ],
      "text/html": "<div>\n<style scoped>\n    .dataframe tbody tr th:only-of-type {\n        vertical-align: middle;\n    }\n\n    .dataframe tbody tr th {\n        vertical-align: top;\n    }\n\n    .dataframe thead th {\n        text-align: right;\n    }\n</style>\n<table border=\"1\" class=\"dataframe\">\n  <thead>\n    <tr style=\"text-align: right;\">\n      <th></th>\n      <th>지역</th>\n      <th>상호</th>\n      <th>주소</th>\n      <th>상표</th>\n      <th>전화번호</th>\n      <th>셀프여부</th>\n      <th>고급휘발유</th>\n      <th>휘발유</th>\n      <th>경유</th>\n      <th>실내등유</th>\n    </tr>\n  </thead>\n  <tbody>\n    <tr>\n      <th>0</th>\n      <td>서울특별시</td>\n      <td>대성석유(주)직영관문주유소</td>\n      <td>서울 강서구 공항대로 314</td>\n      <td>GS칼텍스</td>\n      <td>02-3665-2051</td>\n      <td>N</td>\n      <td>1599</td>\n      <td>1358</td>\n      <td>1187</td>\n      <td>1000</td>\n    </tr>\n    <tr>\n      <th>1</th>\n      <td>서울특별시</td>\n      <td>우장산주유소</td>\n      <td>서울 강서구 강서로 292 (내발산동)</td>\n      <td>SK에너지</td>\n      <td>02-3664-7163</td>\n      <td>N</td>\n      <td>-</td>\n      <td>1358</td>\n      <td>1187</td>\n      <td>1000</td>\n    </tr>\n  </tbody>\n</table>\n</div>"
     },
     "metadata": {},
     "execution_count": 5
    }
   ],
   "source": [
    "df = pd.read_excel('./station_dong_data/지역_위치별(주유소).xls', header=2)\n",
    "df.head()"
   ]
  },
  {
   "cell_type": "code",
   "execution_count": 6,
   "metadata": {},
   "outputs": [
    {
     "output_type": "execute_result",
     "data": {
      "text/plain": [
       "      지역               상호                        주소     상표          전화번호 셀프여부  \\\n",
       "0  서울특별시   대성석유(주)방화대성주유소            서울 강서구 양천로 176  GS칼텍스  02-3663-7781    Y   \n",
       "1  서울특별시  대성석유(주) 마곡대성주유소            서울 강서구 강서로 457  GS칼텍스  02-3664-7781    Y   \n",
       "2  서울특별시           화곡역주유소  서울특별시 강서구  강서로 154 (화곡동)  알뜰주유소  02-2691-5151    Y   \n",
       "3  서울특별시           뉴신정주유소      서울 강서구 곰달래로 207(화곡동)  알뜰주유소  02-2601-0077    N   \n",
       "4  서울특별시            목화주유소     서울 강서구 국회대로 251 (화곡동)  SK에너지  02-2654-4564    Y   \n",
       "5  서울특별시  지에스칼텍스㈜ 경인고속주유소     서울 강서구 국회대로 225 (화곡동)  GS칼텍스  02-2608-5151    Y   \n",
       "6  서울특별시           신화곡주유소            서울 강서구 국회대로 71  S-OIL  02-2611-3161    Y   \n",
       "7  서울특별시          화곡현대주유소      서울 강서구 강서로 151 (화곡동)  SK에너지  02-2607-1942    Y   \n",
       "8  서울특별시   대성석유(주)직영관문주유소           서울 강서구 공항대로 314  GS칼텍스  02-3665-2051    N   \n",
       "9  서울특별시           우장산주유소     서울 강서구 강서로 292 (내발산동)  SK에너지  02-3664-7163    N   \n",
       "\n",
       "  고급휘발유   휘발유    경유  실내등유  \n",
       "0  1599  1365  1175     -  \n",
       "1  1599  1365  1185     -  \n",
       "2     -  1243  1043     -  \n",
       "3     -  1243  1043     -  \n",
       "4     -  1266  1072     -  \n",
       "5  1416  1266  1072  1100  \n",
       "6     -  1315  1115     -  \n",
       "7  1455  1326  1126     -  \n",
       "8  1599  1358  1187  1000  \n",
       "9     -  1358  1187  1000  "
      ],
      "text/html": "<div>\n<style scoped>\n    .dataframe tbody tr th:only-of-type {\n        vertical-align: middle;\n    }\n\n    .dataframe tbody tr th {\n        vertical-align: top;\n    }\n\n    .dataframe thead th {\n        text-align: right;\n    }\n</style>\n<table border=\"1\" class=\"dataframe\">\n  <thead>\n    <tr style=\"text-align: right;\">\n      <th></th>\n      <th>지역</th>\n      <th>상호</th>\n      <th>주소</th>\n      <th>상표</th>\n      <th>전화번호</th>\n      <th>셀프여부</th>\n      <th>고급휘발유</th>\n      <th>휘발유</th>\n      <th>경유</th>\n      <th>실내등유</th>\n    </tr>\n  </thead>\n  <tbody>\n    <tr>\n      <th>0</th>\n      <td>서울특별시</td>\n      <td>대성석유(주)방화대성주유소</td>\n      <td>서울 강서구 양천로 176</td>\n      <td>GS칼텍스</td>\n      <td>02-3663-7781</td>\n      <td>Y</td>\n      <td>1599</td>\n      <td>1365</td>\n      <td>1175</td>\n      <td>-</td>\n    </tr>\n    <tr>\n      <th>1</th>\n      <td>서울특별시</td>\n      <td>대성석유(주) 마곡대성주유소</td>\n      <td>서울 강서구 강서로 457</td>\n      <td>GS칼텍스</td>\n      <td>02-3664-7781</td>\n      <td>Y</td>\n      <td>1599</td>\n      <td>1365</td>\n      <td>1185</td>\n      <td>-</td>\n    </tr>\n    <tr>\n      <th>2</th>\n      <td>서울특별시</td>\n      <td>화곡역주유소</td>\n      <td>서울특별시 강서구  강서로 154 (화곡동)</td>\n      <td>알뜰주유소</td>\n      <td>02-2691-5151</td>\n      <td>Y</td>\n      <td>-</td>\n      <td>1243</td>\n      <td>1043</td>\n      <td>-</td>\n    </tr>\n    <tr>\n      <th>3</th>\n      <td>서울특별시</td>\n      <td>뉴신정주유소</td>\n      <td>서울 강서구 곰달래로 207(화곡동)</td>\n      <td>알뜰주유소</td>\n      <td>02-2601-0077</td>\n      <td>N</td>\n      <td>-</td>\n      <td>1243</td>\n      <td>1043</td>\n      <td>-</td>\n    </tr>\n    <tr>\n      <th>4</th>\n      <td>서울특별시</td>\n      <td>목화주유소</td>\n      <td>서울 강서구 국회대로 251 (화곡동)</td>\n      <td>SK에너지</td>\n      <td>02-2654-4564</td>\n      <td>Y</td>\n      <td>-</td>\n      <td>1266</td>\n      <td>1072</td>\n      <td>-</td>\n    </tr>\n    <tr>\n      <th>5</th>\n      <td>서울특별시</td>\n      <td>지에스칼텍스㈜ 경인고속주유소</td>\n      <td>서울 강서구 국회대로 225 (화곡동)</td>\n      <td>GS칼텍스</td>\n      <td>02-2608-5151</td>\n      <td>Y</td>\n      <td>1416</td>\n      <td>1266</td>\n      <td>1072</td>\n      <td>1100</td>\n    </tr>\n    <tr>\n      <th>6</th>\n      <td>서울특별시</td>\n      <td>신화곡주유소</td>\n      <td>서울 강서구 국회대로 71</td>\n      <td>S-OIL</td>\n      <td>02-2611-3161</td>\n      <td>Y</td>\n      <td>-</td>\n      <td>1315</td>\n      <td>1115</td>\n      <td>-</td>\n    </tr>\n    <tr>\n      <th>7</th>\n      <td>서울특별시</td>\n      <td>화곡현대주유소</td>\n      <td>서울 강서구 강서로 151 (화곡동)</td>\n      <td>SK에너지</td>\n      <td>02-2607-1942</td>\n      <td>Y</td>\n      <td>1455</td>\n      <td>1326</td>\n      <td>1126</td>\n      <td>-</td>\n    </tr>\n    <tr>\n      <th>8</th>\n      <td>서울특별시</td>\n      <td>대성석유(주)직영관문주유소</td>\n      <td>서울 강서구 공항대로 314</td>\n      <td>GS칼텍스</td>\n      <td>02-3665-2051</td>\n      <td>N</td>\n      <td>1599</td>\n      <td>1358</td>\n      <td>1187</td>\n      <td>1000</td>\n    </tr>\n    <tr>\n      <th>9</th>\n      <td>서울특별시</td>\n      <td>우장산주유소</td>\n      <td>서울 강서구 강서로 292 (내발산동)</td>\n      <td>SK에너지</td>\n      <td>02-3664-7163</td>\n      <td>N</td>\n      <td>-</td>\n      <td>1358</td>\n      <td>1187</td>\n      <td>1000</td>\n    </tr>\n  </tbody>\n</table>\n</div>"
     },
     "metadata": {},
     "execution_count": 6
    }
   ],
   "source": [
    "station_files = glob('./station_dong_data/지역*.xls')\n",
    "xls_raw = []\n",
    "\n",
    "for file_name in station_files:\n",
    "    xls = pd.read_excel(file_name, header=2) #header=2라면 위의 2줄은 건너뛰고 3번째줄부터 데이터를 읽는다.\n",
    "    xls_raw.append(xls)\n",
    "\n",
    "dong_station = pd.concat(xls_raw, ignore_index=True)\n",
    "dong_station"
   ]
  },
  {
   "cell_type": "code",
   "execution_count": 7,
   "metadata": {},
   "outputs": [],
   "source": [
    "import requests\n",
    "from urllib.parse import urlparse, quote\n",
    "import folium"
   ]
  },
  {
   "cell_type": "code",
   "execution_count": 8,
   "metadata": {},
   "outputs": [],
   "source": [
    "key_fd = open('kakaomapkey.txt', mode='r')\n",
    "kmap_key = key_fd.read(100)\n",
    "key_fd.close()"
   ]
  },
  {
   "cell_type": "code",
   "execution_count": 9,
   "metadata": {},
   "outputs": [
    {
     "output_type": "display_data",
     "data": {
      "text/plain": "HBox(children=(FloatProgress(value=0.0, max=10.0), HTML(value='')))",
      "application/vnd.jupyter.widget-view+json": {
       "version_major": 2,
       "version_minor": 0,
       "model_id": "883a3236eecd40fba2cc170cf4095322"
      }
     },
     "metadata": {}
    },
    {
     "output_type": "stream",
     "name": "stdout",
     "text": [
      "\n"
     ]
    }
   ],
   "source": [
    "from tqdm import tqdm_notebook\n",
    "\n",
    "lat_list=[]; lng_list=[]\n",
    "\n",
    "for i in tqdm_notebook(dong_station.index):\n",
    "    url = 'https://dapi.kakao.com/v2/local/search/address.json?query=' + quote(dong_station['주소'][i])\n",
    "    result = requests.get(url, headers={\"Authorization\": \"KakaoAK \"+ kmap_key}).json()\n",
    "    \n",
    "    lat = float(result['documents'][0]['y'])\n",
    "    lng = float(result['documents'][0]['x'])\n",
    "    lat_list.append(lat)\n",
    "    lng_list.append(lng)"
   ]
  },
  {
   "cell_type": "code",
   "execution_count": 10,
   "metadata": {},
   "outputs": [
    {
     "output_type": "execute_result",
     "data": {
      "text/plain": [
       "      지역               상호                        주소     상표          전화번호 셀프여부  \\\n",
       "0  서울특별시   대성석유(주)방화대성주유소            서울 강서구 양천로 176  GS칼텍스  02-3663-7781    Y   \n",
       "1  서울특별시  대성석유(주) 마곡대성주유소            서울 강서구 강서로 457  GS칼텍스  02-3664-7781    Y   \n",
       "2  서울특별시           화곡역주유소  서울특별시 강서구  강서로 154 (화곡동)  알뜰주유소  02-2691-5151    Y   \n",
       "3  서울특별시           뉴신정주유소      서울 강서구 곰달래로 207(화곡동)  알뜰주유소  02-2601-0077    N   \n",
       "4  서울특별시            목화주유소     서울 강서구 국회대로 251 (화곡동)  SK에너지  02-2654-4564    Y   \n",
       "5  서울특별시  지에스칼텍스㈜ 경인고속주유소     서울 강서구 국회대로 225 (화곡동)  GS칼텍스  02-2608-5151    Y   \n",
       "6  서울특별시           신화곡주유소            서울 강서구 국회대로 71  S-OIL  02-2611-3161    Y   \n",
       "7  서울특별시          화곡현대주유소      서울 강서구 강서로 151 (화곡동)  SK에너지  02-2607-1942    Y   \n",
       "8  서울특별시   대성석유(주)직영관문주유소           서울 강서구 공항대로 314  GS칼텍스  02-3665-2051    N   \n",
       "9  서울특별시           우장산주유소     서울 강서구 강서로 292 (내발산동)  SK에너지  02-3664-7163    N   \n",
       "\n",
       "  고급휘발유   휘발유    경유  실내등유        lat         lng  \n",
       "0  1599  1365  1175     -  37.572898  126.823440  \n",
       "1  1599  1365  1185     -  37.566243  126.840421  \n",
       "2     -  1243  1043     -  37.540768  126.841472  \n",
       "3     -  1243  1043     -  37.531562  126.856035  \n",
       "4     -  1266  1072     -  37.530055  126.862834  \n",
       "5  1416  1266  1072  1100  37.529645  126.859835  \n",
       "6     -  1315  1115     -  37.527320  126.842879  \n",
       "7  1455  1326  1126     -  37.540242  126.841164  \n",
       "8  1599  1358  1187  1000  37.557842  126.842395  \n",
       "9     -  1358  1187  1000  37.551803  126.836681  "
      ],
      "text/html": "<div>\n<style scoped>\n    .dataframe tbody tr th:only-of-type {\n        vertical-align: middle;\n    }\n\n    .dataframe tbody tr th {\n        vertical-align: top;\n    }\n\n    .dataframe thead th {\n        text-align: right;\n    }\n</style>\n<table border=\"1\" class=\"dataframe\">\n  <thead>\n    <tr style=\"text-align: right;\">\n      <th></th>\n      <th>지역</th>\n      <th>상호</th>\n      <th>주소</th>\n      <th>상표</th>\n      <th>전화번호</th>\n      <th>셀프여부</th>\n      <th>고급휘발유</th>\n      <th>휘발유</th>\n      <th>경유</th>\n      <th>실내등유</th>\n      <th>lat</th>\n      <th>lng</th>\n    </tr>\n  </thead>\n  <tbody>\n    <tr>\n      <th>0</th>\n      <td>서울특별시</td>\n      <td>대성석유(주)방화대성주유소</td>\n      <td>서울 강서구 양천로 176</td>\n      <td>GS칼텍스</td>\n      <td>02-3663-7781</td>\n      <td>Y</td>\n      <td>1599</td>\n      <td>1365</td>\n      <td>1175</td>\n      <td>-</td>\n      <td>37.572898</td>\n      <td>126.823440</td>\n    </tr>\n    <tr>\n      <th>1</th>\n      <td>서울특별시</td>\n      <td>대성석유(주) 마곡대성주유소</td>\n      <td>서울 강서구 강서로 457</td>\n      <td>GS칼텍스</td>\n      <td>02-3664-7781</td>\n      <td>Y</td>\n      <td>1599</td>\n      <td>1365</td>\n      <td>1185</td>\n      <td>-</td>\n      <td>37.566243</td>\n      <td>126.840421</td>\n    </tr>\n    <tr>\n      <th>2</th>\n      <td>서울특별시</td>\n      <td>화곡역주유소</td>\n      <td>서울특별시 강서구  강서로 154 (화곡동)</td>\n      <td>알뜰주유소</td>\n      <td>02-2691-5151</td>\n      <td>Y</td>\n      <td>-</td>\n      <td>1243</td>\n      <td>1043</td>\n      <td>-</td>\n      <td>37.540768</td>\n      <td>126.841472</td>\n    </tr>\n    <tr>\n      <th>3</th>\n      <td>서울특별시</td>\n      <td>뉴신정주유소</td>\n      <td>서울 강서구 곰달래로 207(화곡동)</td>\n      <td>알뜰주유소</td>\n      <td>02-2601-0077</td>\n      <td>N</td>\n      <td>-</td>\n      <td>1243</td>\n      <td>1043</td>\n      <td>-</td>\n      <td>37.531562</td>\n      <td>126.856035</td>\n    </tr>\n    <tr>\n      <th>4</th>\n      <td>서울특별시</td>\n      <td>목화주유소</td>\n      <td>서울 강서구 국회대로 251 (화곡동)</td>\n      <td>SK에너지</td>\n      <td>02-2654-4564</td>\n      <td>Y</td>\n      <td>-</td>\n      <td>1266</td>\n      <td>1072</td>\n      <td>-</td>\n      <td>37.530055</td>\n      <td>126.862834</td>\n    </tr>\n    <tr>\n      <th>5</th>\n      <td>서울특별시</td>\n      <td>지에스칼텍스㈜ 경인고속주유소</td>\n      <td>서울 강서구 국회대로 225 (화곡동)</td>\n      <td>GS칼텍스</td>\n      <td>02-2608-5151</td>\n      <td>Y</td>\n      <td>1416</td>\n      <td>1266</td>\n      <td>1072</td>\n      <td>1100</td>\n      <td>37.529645</td>\n      <td>126.859835</td>\n    </tr>\n    <tr>\n      <th>6</th>\n      <td>서울특별시</td>\n      <td>신화곡주유소</td>\n      <td>서울 강서구 국회대로 71</td>\n      <td>S-OIL</td>\n      <td>02-2611-3161</td>\n      <td>Y</td>\n      <td>-</td>\n      <td>1315</td>\n      <td>1115</td>\n      <td>-</td>\n      <td>37.527320</td>\n      <td>126.842879</td>\n    </tr>\n    <tr>\n      <th>7</th>\n      <td>서울특별시</td>\n      <td>화곡현대주유소</td>\n      <td>서울 강서구 강서로 151 (화곡동)</td>\n      <td>SK에너지</td>\n      <td>02-2607-1942</td>\n      <td>Y</td>\n      <td>1455</td>\n      <td>1326</td>\n      <td>1126</td>\n      <td>-</td>\n      <td>37.540242</td>\n      <td>126.841164</td>\n    </tr>\n    <tr>\n      <th>8</th>\n      <td>서울특별시</td>\n      <td>대성석유(주)직영관문주유소</td>\n      <td>서울 강서구 공항대로 314</td>\n      <td>GS칼텍스</td>\n      <td>02-3665-2051</td>\n      <td>N</td>\n      <td>1599</td>\n      <td>1358</td>\n      <td>1187</td>\n      <td>1000</td>\n      <td>37.557842</td>\n      <td>126.842395</td>\n    </tr>\n    <tr>\n      <th>9</th>\n      <td>서울특별시</td>\n      <td>우장산주유소</td>\n      <td>서울 강서구 강서로 292 (내발산동)</td>\n      <td>SK에너지</td>\n      <td>02-3664-7163</td>\n      <td>N</td>\n      <td>-</td>\n      <td>1358</td>\n      <td>1187</td>\n      <td>1000</td>\n      <td>37.551803</td>\n      <td>126.836681</td>\n    </tr>\n  </tbody>\n</table>\n</div>"
     },
     "metadata": {},
     "execution_count": 10
    }
   ],
   "source": [
    "dong_station['lat'] = lat_list\n",
    "dong_station['lng'] = lng_list\n",
    "dong_station"
   ]
  },
  {
   "cell_type": "code",
   "execution_count": 11,
   "metadata": {},
   "outputs": [
    {
     "output_type": "execute_result",
     "data": {
      "text/plain": [
       "      지역               상호                        주소     상표          전화번호 셀프여부  \\\n",
       "2  서울특별시           화곡역주유소  서울특별시 강서구  강서로 154 (화곡동)  알뜰주유소  02-2691-5151    Y   \n",
       "3  서울특별시           뉴신정주유소      서울 강서구 곰달래로 207(화곡동)  알뜰주유소  02-2601-0077    N   \n",
       "4  서울특별시            목화주유소     서울 강서구 국회대로 251 (화곡동)  SK에너지  02-2654-4564    Y   \n",
       "5  서울특별시  지에스칼텍스㈜ 경인고속주유소     서울 강서구 국회대로 225 (화곡동)  GS칼텍스  02-2608-5151    Y   \n",
       "6  서울특별시           신화곡주유소            서울 강서구 국회대로 71  S-OIL  02-2611-3161    Y   \n",
       "7  서울특별시          화곡현대주유소      서울 강서구 강서로 151 (화곡동)  SK에너지  02-2607-1942    Y   \n",
       "8  서울특별시   대성석유(주)직영관문주유소           서울 강서구 공항대로 314  GS칼텍스  02-3665-2051    N   \n",
       "9  서울특별시           우장산주유소     서울 강서구 강서로 292 (내발산동)  SK에너지  02-3664-7163    N   \n",
       "0  서울특별시   대성석유(주)방화대성주유소            서울 강서구 양천로 176  GS칼텍스  02-3663-7781    Y   \n",
       "1  서울특별시  대성석유(주) 마곡대성주유소            서울 강서구 강서로 457  GS칼텍스  02-3664-7781    Y   \n",
       "\n",
       "  고급휘발유   휘발유    경유  실내등유        lat         lng  \n",
       "2     -  1243  1043     -  37.540768  126.841472  \n",
       "3     -  1243  1043     -  37.531562  126.856035  \n",
       "4     -  1266  1072     -  37.530055  126.862834  \n",
       "5  1416  1266  1072  1100  37.529645  126.859835  \n",
       "6     -  1315  1115     -  37.527320  126.842879  \n",
       "7  1455  1326  1126     -  37.540242  126.841164  \n",
       "8  1599  1358  1187  1000  37.557842  126.842395  \n",
       "9     -  1358  1187  1000  37.551803  126.836681  \n",
       "0  1599  1365  1175     -  37.572898  126.823440  \n",
       "1  1599  1365  1185     -  37.566243  126.840421  "
      ],
      "text/html": "<div>\n<style scoped>\n    .dataframe tbody tr th:only-of-type {\n        vertical-align: middle;\n    }\n\n    .dataframe tbody tr th {\n        vertical-align: top;\n    }\n\n    .dataframe thead th {\n        text-align: right;\n    }\n</style>\n<table border=\"1\" class=\"dataframe\">\n  <thead>\n    <tr style=\"text-align: right;\">\n      <th></th>\n      <th>지역</th>\n      <th>상호</th>\n      <th>주소</th>\n      <th>상표</th>\n      <th>전화번호</th>\n      <th>셀프여부</th>\n      <th>고급휘발유</th>\n      <th>휘발유</th>\n      <th>경유</th>\n      <th>실내등유</th>\n      <th>lat</th>\n      <th>lng</th>\n    </tr>\n  </thead>\n  <tbody>\n    <tr>\n      <th>2</th>\n      <td>서울특별시</td>\n      <td>화곡역주유소</td>\n      <td>서울특별시 강서구  강서로 154 (화곡동)</td>\n      <td>알뜰주유소</td>\n      <td>02-2691-5151</td>\n      <td>Y</td>\n      <td>-</td>\n      <td>1243</td>\n      <td>1043</td>\n      <td>-</td>\n      <td>37.540768</td>\n      <td>126.841472</td>\n    </tr>\n    <tr>\n      <th>3</th>\n      <td>서울특별시</td>\n      <td>뉴신정주유소</td>\n      <td>서울 강서구 곰달래로 207(화곡동)</td>\n      <td>알뜰주유소</td>\n      <td>02-2601-0077</td>\n      <td>N</td>\n      <td>-</td>\n      <td>1243</td>\n      <td>1043</td>\n      <td>-</td>\n      <td>37.531562</td>\n      <td>126.856035</td>\n    </tr>\n    <tr>\n      <th>4</th>\n      <td>서울특별시</td>\n      <td>목화주유소</td>\n      <td>서울 강서구 국회대로 251 (화곡동)</td>\n      <td>SK에너지</td>\n      <td>02-2654-4564</td>\n      <td>Y</td>\n      <td>-</td>\n      <td>1266</td>\n      <td>1072</td>\n      <td>-</td>\n      <td>37.530055</td>\n      <td>126.862834</td>\n    </tr>\n    <tr>\n      <th>5</th>\n      <td>서울특별시</td>\n      <td>지에스칼텍스㈜ 경인고속주유소</td>\n      <td>서울 강서구 국회대로 225 (화곡동)</td>\n      <td>GS칼텍스</td>\n      <td>02-2608-5151</td>\n      <td>Y</td>\n      <td>1416</td>\n      <td>1266</td>\n      <td>1072</td>\n      <td>1100</td>\n      <td>37.529645</td>\n      <td>126.859835</td>\n    </tr>\n    <tr>\n      <th>6</th>\n      <td>서울특별시</td>\n      <td>신화곡주유소</td>\n      <td>서울 강서구 국회대로 71</td>\n      <td>S-OIL</td>\n      <td>02-2611-3161</td>\n      <td>Y</td>\n      <td>-</td>\n      <td>1315</td>\n      <td>1115</td>\n      <td>-</td>\n      <td>37.527320</td>\n      <td>126.842879</td>\n    </tr>\n    <tr>\n      <th>7</th>\n      <td>서울특별시</td>\n      <td>화곡현대주유소</td>\n      <td>서울 강서구 강서로 151 (화곡동)</td>\n      <td>SK에너지</td>\n      <td>02-2607-1942</td>\n      <td>Y</td>\n      <td>1455</td>\n      <td>1326</td>\n      <td>1126</td>\n      <td>-</td>\n      <td>37.540242</td>\n      <td>126.841164</td>\n    </tr>\n    <tr>\n      <th>8</th>\n      <td>서울특별시</td>\n      <td>대성석유(주)직영관문주유소</td>\n      <td>서울 강서구 공항대로 314</td>\n      <td>GS칼텍스</td>\n      <td>02-3665-2051</td>\n      <td>N</td>\n      <td>1599</td>\n      <td>1358</td>\n      <td>1187</td>\n      <td>1000</td>\n      <td>37.557842</td>\n      <td>126.842395</td>\n    </tr>\n    <tr>\n      <th>9</th>\n      <td>서울특별시</td>\n      <td>우장산주유소</td>\n      <td>서울 강서구 강서로 292 (내발산동)</td>\n      <td>SK에너지</td>\n      <td>02-3664-7163</td>\n      <td>N</td>\n      <td>-</td>\n      <td>1358</td>\n      <td>1187</td>\n      <td>1000</td>\n      <td>37.551803</td>\n      <td>126.836681</td>\n    </tr>\n    <tr>\n      <th>0</th>\n      <td>서울특별시</td>\n      <td>대성석유(주)방화대성주유소</td>\n      <td>서울 강서구 양천로 176</td>\n      <td>GS칼텍스</td>\n      <td>02-3663-7781</td>\n      <td>Y</td>\n      <td>1599</td>\n      <td>1365</td>\n      <td>1175</td>\n      <td>-</td>\n      <td>37.572898</td>\n      <td>126.823440</td>\n    </tr>\n    <tr>\n      <th>1</th>\n      <td>서울특별시</td>\n      <td>대성석유(주) 마곡대성주유소</td>\n      <td>서울 강서구 강서로 457</td>\n      <td>GS칼텍스</td>\n      <td>02-3664-7781</td>\n      <td>Y</td>\n      <td>1599</td>\n      <td>1365</td>\n      <td>1185</td>\n      <td>-</td>\n      <td>37.566243</td>\n      <td>126.840421</td>\n    </tr>\n  </tbody>\n</table>\n</div>"
     },
     "metadata": {},
     "execution_count": 11
    }
   ],
   "source": [
    "dong_station = dong_station.sort_values(by='휘발유')\n",
    "dong_station"
   ]
  },
  {
   "cell_type": "code",
   "execution_count": 1,
   "metadata": {},
   "outputs": [
    {
     "output_type": "error",
     "ename": "NameError",
     "evalue": "name 'folium' is not defined",
     "traceback": [
      "\u001b[1;31m---------------------------------------------------------------------------\u001b[0m",
      "\u001b[1;31mNameError\u001b[0m                                 Traceback (most recent call last)",
      "\u001b[1;32m<ipython-input-1-2c3aa26d56a5>\u001b[0m in \u001b[0;36m<module>\u001b[1;34m\u001b[0m\n\u001b[1;32m----> 1\u001b[1;33m \u001b[0mmap\u001b[0m \u001b[1;33m=\u001b[0m \u001b[0mfolium\u001b[0m\u001b[1;33m.\u001b[0m\u001b[0mMap\u001b[0m\u001b[1;33m(\u001b[0m\u001b[0mlocation\u001b[0m\u001b[1;33m=\u001b[0m\u001b[1;33m[\u001b[0m\u001b[0mdong_station\u001b[0m\u001b[1;33m[\u001b[0m\u001b[1;34m'lat'\u001b[0m\u001b[1;33m]\u001b[0m\u001b[1;33m.\u001b[0m\u001b[0mmean\u001b[0m\u001b[1;33m(\u001b[0m\u001b[1;33m)\u001b[0m\u001b[1;33m,\u001b[0m \u001b[0mdong_station\u001b[0m\u001b[1;33m[\u001b[0m\u001b[1;34m'lng'\u001b[0m\u001b[1;33m]\u001b[0m\u001b[1;33m.\u001b[0m\u001b[0mmean\u001b[0m\u001b[1;33m(\u001b[0m\u001b[1;33m)\u001b[0m\u001b[1;33m]\u001b[0m\u001b[1;33m,\u001b[0m \u001b[0mzoom_start\u001b[0m\u001b[1;33m=\u001b[0m\u001b[1;36m13\u001b[0m\u001b[1;33m)\u001b[0m\u001b[1;33m\u001b[0m\u001b[1;33m\u001b[0m\u001b[0m\n\u001b[0m\u001b[0;32m      2\u001b[0m \u001b[1;33m\u001b[0m\u001b[0m\n\u001b[0;32m      3\u001b[0m \u001b[1;32mfor\u001b[0m \u001b[0mi\u001b[0m \u001b[1;32min\u001b[0m \u001b[0mdong_station\u001b[0m\u001b[1;33m.\u001b[0m\u001b[0mindex\u001b[0m\u001b[1;33m:\u001b[0m\u001b[1;33m\u001b[0m\u001b[1;33m\u001b[0m\u001b[0m\n\u001b[0;32m      4\u001b[0m     \u001b[1;32mif\u001b[0m \u001b[0mi\u001b[0m \u001b[1;33m==\u001b[0m \u001b[1;36m0\u001b[0m\u001b[1;33m:\u001b[0m\u001b[1;33m\u001b[0m\u001b[1;33m\u001b[0m\u001b[0m\n\u001b[0;32m      5\u001b[0m         folium.CircleMarker([dong_station['lat'][i], dong_station['lng'][i]],\n",
      "\u001b[1;31mNameError\u001b[0m: name 'folium' is not defined"
     ]
    }
   ],
   "source": [
    "map = folium.Map(location=[dong_station['lat'].mean(), dong_station['lng'].mean()], zoom_start=13)\n",
    "\n",
    "for i in dong_station.index:\n",
    "    if i == 0:\n",
    "        folium.CircleMarker([dong_station['lat'][i], dong_station['lng'][i]],\n",
    "                            radius=15,\n",
    "                            color='#CD3181',\n",
    "                            fill_color='#CD3181',\n",
    "                            tooltip=(f\"{dong_station['휘발유'][i]}\"),\n",
    "                            popup=f\"{dong_station['상호'][i]}\"\n",
    "                            ).add_to(map)\n",
    "    else:\n",
    "        folium.CircleMarker([dong_station['lat'][i], dong_station['lng'][i]],\n",
    "                            radius=15,\n",
    "                            color='#4B89DC',\n",
    "                            fill_color='#4B89DC',\n",
    "                            tooltip=(f\"{dong_station['휘발유'][i]}\"),\n",
    "                            popup=f\"{dong_station['상호'][i]}\"\n",
    "                            ).add_to(map)\n",
    "map"
   ]
  },
  {
   "cell_type": "code",
   "execution_count": null,
   "metadata": {},
   "outputs": [],
   "source": []
  }
 ]
}