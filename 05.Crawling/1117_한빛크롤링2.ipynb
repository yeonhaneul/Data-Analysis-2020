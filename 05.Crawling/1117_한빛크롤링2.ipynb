{
 "metadata": {
  "language_info": {
   "codemirror_mode": {
    "name": "ipython",
    "version": 3
   },
   "file_extension": ".py",
   "mimetype": "text/x-python",
   "name": "python",
   "nbconvert_exporter": "python",
   "pygments_lexer": "ipython3",
   "version": "3.8.3-final"
  },
  "orig_nbformat": 2,
  "kernelspec": {
   "name": "Python 3.8.3 64-bit ('base': conda)",
   "display_name": "Python 3.8.3 64-bit ('base': conda)",
   "metadata": {
    "interpreter": {
     "hash": "b3ba2566441a7c06988d0923437866b63cedc61552a5af99d1f4fb67d367b25f"
    }
   }
  }
 },
 "nbformat": 4,
 "nbformat_minor": 2,
 "cells": [
  {
   "cell_type": "code",
   "execution_count": 7,
   "metadata": {},
   "outputs": [],
   "source": [
    "from bs4 import BeautifulSoup\n",
    "import urllib.request\n",
    "import pandas as pd\n",
    "from tqdm import tqdm_notebook"
   ]
  },
  {
   "cell_type": "code",
   "execution_count": 2,
   "metadata": {},
   "outputs": [],
   "source": [
    "base_url = 'https://www.hanbit.co.kr/academy/books/new_book_list.html?page='\n",
    "page_url = '1'\n",
    "web_url = base_url + page_url\n",
    "with urllib.request.urlopen(web_url) as response:\n",
    "    html = response.read()\n",
    "    soup = BeautifulSoup(html, 'html.parser')"
   ]
  },
  {
   "cell_type": "code",
   "execution_count": 11,
   "metadata": {},
   "outputs": [],
   "source": [
    "prices=[]; titles=[]; writers=[]"
   ]
  },
  {
   "cell_type": "code",
   "execution_count": 12,
   "metadata": {},
   "outputs": [
    {
     "output_type": "display_data",
     "data": {
      "text/plain": "HBox(children=(FloatProgress(value=0.0, max=20.0), HTML(value='')))",
      "application/vnd.jupyter.widget-view+json": {
       "version_major": 2,
       "version_minor": 0,
       "model_id": "86cde6248b5f4ff29203b4475347f201"
      }
     },
     "metadata": {}
    },
    {
     "output_type": "stream",
     "name": "stdout",
     "text": [
      "\n"
     ]
    }
   ],
   "source": [
    "for i in tqdm_notebook(range(20)):\n",
    "    page_url = str(i+1)\n",
    "    web_url = base_url + page_url\n",
    "    with urllib.request.urlopen(web_url) as response:\n",
    "        html = response.read()\n",
    "        soup = BeautifulSoup(html, 'html.parser')\n",
    "        lis = soup.select('.sub_book_list')\n",
    "        for li in lis:\n",
    "            spans = li.find_all('span')\n",
    "            price_end_index = index2 = spans[3].get_text().find('원')\n",
    "            pri = spans[3].get_text()[:price_end_index]\n",
    "            price = pri.replace(',','')\n",
    "\n",
    "            divs = li.find_all('div')\n",
    "            info = divs[1]\n",
    "            ps = info.select('p')\n",
    "            title = ps[0].string\n",
    "            writer = ps[1].string\n",
    "\n",
    "            prices.append(price)\n",
    "            titles.append(title)\n",
    "            writers.append(writer)"
   ]
  },
  {
   "cell_type": "code",
   "execution_count": 13,
   "metadata": {},
   "outputs": [
    {
     "output_type": "execute_result",
     "data": {
      "text/plain": [
       "                                                    제목  \\\n",
       "296                      문제해결력을 키우는 이공계 글쓰기 : 발표와 토론까지   \n",
       "297                진로개발과 직업세계 : 대학생과 청년층을 위한 진로, 취업지침서   \n",
       "298                                 Essential Calculus   \n",
       "299  IT CookBook, 디지털 통신 시스템 : Digital Communicatio...   \n",
       "300     IT CookBook, 운영체제론 : Operating Systems, 3rd Ed   \n",
       "\n",
       "                          저자     가격  \n",
       "296                     한성우   18000  \n",
       "297   서일수 , 김도균 , 김지혜 , 이정배   20000  \n",
       "298           James Stewart   36000  \n",
       "299               정호영 , 임승각   25000  \n",
       "300  하비 디텔 , 폴 디텔 , 데이빗 쇼픈스   32000  "
      ],
      "text/html": "<div>\n<style scoped>\n    .dataframe tbody tr th:only-of-type {\n        vertical-align: middle;\n    }\n\n    .dataframe tbody tr th {\n        vertical-align: top;\n    }\n\n    .dataframe thead th {\n        text-align: right;\n    }\n</style>\n<table border=\"1\" class=\"dataframe\">\n  <thead>\n    <tr style=\"text-align: right;\">\n      <th></th>\n      <th>제목</th>\n      <th>저자</th>\n      <th>가격</th>\n    </tr>\n  </thead>\n  <tbody>\n    <tr>\n      <th>296</th>\n      <td>문제해결력을 키우는 이공계 글쓰기 : 발표와 토론까지</td>\n      <td>한성우</td>\n      <td>18000</td>\n    </tr>\n    <tr>\n      <th>297</th>\n      <td>진로개발과 직업세계 : 대학생과 청년층을 위한 진로, 취업지침서</td>\n      <td>서일수 , 김도균 , 김지혜 , 이정배</td>\n      <td>20000</td>\n    </tr>\n    <tr>\n      <th>298</th>\n      <td>Essential Calculus</td>\n      <td>James Stewart</td>\n      <td>36000</td>\n    </tr>\n    <tr>\n      <th>299</th>\n      <td>IT CookBook, 디지털 통신 시스템 : Digital Communicatio...</td>\n      <td>정호영 , 임승각</td>\n      <td>25000</td>\n    </tr>\n    <tr>\n      <th>300</th>\n      <td>IT CookBook, 운영체제론 : Operating Systems, 3rd Ed</td>\n      <td>하비 디텔 , 폴 디텔 , 데이빗 쇼픈스</td>\n      <td>32000</td>\n    </tr>\n  </tbody>\n</table>\n</div>"
     },
     "metadata": {},
     "execution_count": 13
    }
   ],
   "source": [
    "books = pd.DataFrame({\n",
    "    '제목':titles,\n",
    "    '저자':writers,\n",
    "    '가격':prices\n",
    "})\n",
    "books.tail()"
   ]
  },
  {
   "cell_type": "code",
   "execution_count": 14,
   "metadata": {},
   "outputs": [],
   "source": [
    "books.to_csv('New_Book_List.csv', sep=',', encoding='utf8')"
   ]
  },
  {
   "cell_type": "code",
   "execution_count": null,
   "metadata": {},
   "outputs": [],
   "source": []
  }
 ]
}