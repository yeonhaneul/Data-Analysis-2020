{
 "metadata": {
  "language_info": {
   "codemirror_mode": {
    "name": "ipython",
    "version": 3
   },
   "file_extension": ".py",
   "mimetype": "text/x-python",
   "name": "python",
   "nbconvert_exporter": "python",
   "pygments_lexer": "ipython3",
   "version": "3.8.3-final"
  },
  "orig_nbformat": 2,
  "kernelspec": {
   "name": "Python 3.8.3 64-bit ('base': conda)",
   "display_name": "Python 3.8.3 64-bit ('base': conda)",
   "metadata": {
    "interpreter": {
     "hash": "b3ba2566441a7c06988d0923437866b63cedc61552a5af99d1f4fb67d367b25f"
    }
   }
  }
 },
 "nbformat": 4,
 "nbformat_minor": 2,
 "cells": [
  {
   "cell_type": "markdown",
   "metadata": {},
   "source": [
    "###  연습문제 1"
   ]
  },
  {
   "cell_type": "code",
   "execution_count": 1,
   "metadata": {},
   "outputs": [],
   "source": [
    "import sqlite3\n",
    "conn = sqlite3.connect('./test.db')\n",
    "with conn:\n",
    "    cur = conn.cursor()\n",
    "    cur.execute('create table if not exists Eagles \\\n",
    "                    (back_no int primary key not null, \\\n",
    "                    name text, \\\n",
    "                    position text);')"
   ]
  },
  {
   "cell_type": "code",
   "execution_count": 2,
   "metadata": {},
   "outputs": [
    {
     "output_type": "execute_result",
     "data": {
      "text/plain": [
       "<sqlite3.Cursor at 0x232b5f8bab0>"
      ]
     },
     "metadata": {},
     "execution_count": 2
    }
   ],
   "source": [
    "cur = conn.cursor()\n",
    "cur.execute(\"insert into Eagles values(1, '하주석', '내야수');\")\n",
    "cur.execute(\"insert into Eagles values (57, '정우람', '투수'), (8, '정근우', '내야수');\")"
   ]
  },
  {
   "cell_type": "code",
   "execution_count": 3,
   "metadata": {},
   "outputs": [],
   "source": [
    "conn.commit()"
   ]
  },
  {
   "cell_type": "code",
   "execution_count": 4,
   "metadata": {},
   "outputs": [],
   "source": [
    "back_no = 50\n",
    "name = '이성열'\n",
    "position = '외야수'\n",
    "cur = conn.cursor()\n",
    "sql = 'insert into Eagles values (?, ?, ?);'\n",
    "cur.execute(sql, (back_no, name, position))\n",
    "conn.commit()"
   ]
  },
  {
   "cell_type": "code",
   "execution_count": 5,
   "metadata": {},
   "outputs": [],
   "source": [
    "players = ((22, '이태양', '투수'), (13, '최재훈', '포수'))\n",
    "cur = conn.cursor()\n",
    "sql = 'insert into Eagles values (?, ?, ?);'\n",
    "cur.executemany(sql, players)\n",
    "conn.commit()"
   ]
  },
  {
   "cell_type": "code",
   "execution_count": 6,
   "metadata": {},
   "outputs": [
    {
     "output_type": "execute_result",
     "data": {
      "text/plain": [
       "<sqlite3.Cursor at 0x232b5f8bc00>"
      ]
     },
     "metadata": {},
     "execution_count": 6
    }
   ],
   "source": [
    "cur.execute('alter table Eagles add column birth integer')"
   ]
  },
  {
   "cell_type": "code",
   "execution_count": 7,
   "metadata": {},
   "outputs": [],
   "source": [
    "position = '외야수'\n",
    "back_no = 8\n",
    "cur.execute('update Eagles set position=? where back_no=?', (position, back_no))\n",
    "cur.execute('select*from Eagles where back_no=?', (back_no,))\n",
    "cur.fetchone()\n",
    "conn.commit()"
   ]
  },
  {
   "cell_type": "code",
   "execution_count": 8,
   "metadata": {},
   "outputs": [],
   "source": [
    "data = ((1995,1), (1986,57))\n",
    "sql = 'update Eagles set birth=? where back_no=?'\n",
    "cur.executemany(sql, data)\n",
    "conn.commit()"
   ]
  },
  {
   "cell_type": "code",
   "execution_count": 9,
   "metadata": {},
   "outputs": [],
   "source": [
    "cur = conn.cursor()\n",
    "cur.execute('delete from Eagles where back_no=1;')\n",
    "conn.commit()"
   ]
  },
  {
   "cell_type": "code",
   "execution_count": 10,
   "metadata": {},
   "outputs": [
    {
     "output_type": "execute_result",
     "data": {
      "text/plain": [
       "<sqlite3.Cursor at 0x232b5fb86c0>"
      ]
     },
     "metadata": {},
     "execution_count": 10
    }
   ],
   "source": [
    "# 연습문제 1. 테이블 만들고 join 후 결과 보기\n",
    "cur = conn.cursor()\n",
    "cur.execute('create table if not exists Pitcher_stats \\\n",
    "                (back_no int primary key not null, \\\n",
    "                ERA real, \\\n",
    "                IP int, \\\n",
    "                SO int);')"
   ]
  },
  {
   "cell_type": "code",
   "execution_count": 11,
   "metadata": {},
   "outputs": [],
   "source": [
    "conn.commit()"
   ]
  },
  {
   "cell_type": "code",
   "execution_count": 12,
   "metadata": {},
   "outputs": [],
   "source": [
    "players = ((57, 1.29, 7, 4), (61, 27.00, 1, 0))\n",
    "cur = conn.cursor()\n",
    "sql = 'insert into Pitcher_stats values (?, ?, ?, ?);'\n",
    "cur.executemany(sql, players)\n",
    "conn.commit()"
   ]
  },
  {
   "cell_type": "code",
   "execution_count": 13,
   "metadata": {},
   "outputs": [],
   "source": [
    "## 백넘버 22 빼고 61 넣기\n",
    "cur = conn.cursor()\n",
    "cur.execute('delete from Eagles where back_no=22;')\n",
    "conn.commit()"
   ]
  },
  {
   "cell_type": "code",
   "execution_count": 14,
   "metadata": {},
   "outputs": [],
   "source": [
    "cur = conn.cursor()\n",
    "cur.execute(\"insert into Eagles values(61, '박성원', '투수', 1994);\")\n",
    "conn.commit()"
   ]
  },
  {
   "cell_type": "code",
   "execution_count": 15,
   "metadata": {},
   "outputs": [
    {
     "output_type": "stream",
     "name": "stdout",
     "text": [
      "(57, '정우람', '투수', 1.29, 7, 4)\n(61, '박성원', '투수', 27.0, 1, 0)\n"
     ]
    }
   ],
   "source": [
    "cur.execute('select Ea.back_no, Ea.name, Ea.position, Ps.ERA, Ps.IP, Ps.SO \\\n",
    "    from Eagles as Ea \\\n",
    "    join Pitcher_stats as Ps \\\n",
    "    on Ea.back_no = Ps.Back_no')\n",
    "rows = cur.fetchall()\n",
    "for row in rows:\n",
    "    print(row)"
   ]
  },
  {
   "cell_type": "markdown",
   "metadata": {},
   "source": [
    "### 연습문제 2"
   ]
  },
  {
   "cell_type": "code",
   "execution_count": 16,
   "metadata": {},
   "outputs": [],
   "source": [
    "# 대표적인 걸/보이그룹 5개 이상의 정보를 갖는 테이블 만들기\n",
    "import sqlite3\n",
    "conn = sqlite3.connect('./test.db')\n",
    "with conn:\n",
    "    cur = conn.cursor()\n",
    "    cur.execute('create table if not exists Singer_group \\\n",
    "                    (id integer primary key autoincrement not null, \\\n",
    "                    group_name text not null, \\\n",
    "                    구성원수 int, \\\n",
    "                    데뷔일자 text, \\\n",
    "                    소속사 text);')\n",
    "conn.commit()"
   ]
  },
  {
   "cell_type": "code",
   "execution_count": 17,
   "metadata": {},
   "outputs": [],
   "source": [
    "singer = (('방탄소년단', 7, '2013-06-13', '빅히트'), ('마마무', 4, '2014-06-19', 'RBW'), ('세븐틴', 13, '2015-05-26', '플레디스'), ('트와이스', 9, '2015-10-20', 'JYP'), ('비투비', 7, '2012-03-21', '큐브'), ('블랙핑크', 4, '2016-08-08', 'YG'))\n",
    "cur = conn.cursor()\n",
    "sql = 'insert into Singer_group(group_name, 구성원수, 데뷔일자, 소속사) values (?, ?, ?, ?);'\n",
    "cur.executemany(sql, singer)\n",
    "conn.commit()"
   ]
  },
  {
   "cell_type": "code",
   "execution_count": 18,
   "metadata": {},
   "outputs": [],
   "source": [
    "# 노래 10곡 이상의 정보를 갖는 테이블 만들기\n",
    "import sqlite3\n",
    "conn = sqlite3.connect('./test.db')\n",
    "with conn:\n",
    "    cur = conn.cursor()\n",
    "    cur.execute('create table if not exists Song \\\n",
    "                    (song_id integer primary key autoincrement not null, \\\n",
    "                    song_name text, \\\n",
    "                    그룹id int, \\\n",
    "                    발표년도 text, \\\n",
    "                    작곡가 text, \\\n",
    "                    도입부가사 text);')\n",
    "conn.commit()"
   ]
  },
  {
   "cell_type": "code",
   "execution_count": 19,
   "metadata": {},
   "outputs": [],
   "source": [
    "songs = (\n",
    "    ('Dynamite', 1, '2020', 'David Stewart', 'Cause I-I-I\\'m in the stars tonight So watch me bring the fire and set the night alight'),\n",
    "    ('딩가딩가', 2, '2020', '김도훈', '딩가딩가할래 친구들 모아 한잔 할래 Drink like a like a like a fish'),\n",
    "    ('아주 NICE', 3, '2016', '우지', '아침엔 모닝콜 필수던 내가 오늘은 번쩍 번쩍 눈이 떠지는가'),\n",
    "    ('I CAN\\'T STOP ME', 4, '2020', 'Michel \\'Lindgren\\' Schulz', '알람이 울려대 ring ring a ling 서로의 눈길이 닿을 때마다 알면서 빙빙 도는데'),\n",
    "    ('그리워하다', 5, '2017', '임현식', 'My life is incomplete It\\'s missing you 오늘도 하루를 보내 다를 게 없이'),\n",
    "    ('How You Like That', 6, '2020', '테디', 'BLACKPINK in your area 보란 듯이 무너졌어 바닥을 뚫고 저 지하까지')\n",
    ")\n",
    "cur = conn.cursor()\n",
    "sql = 'insert into Song(song_name, 그룹id, 발표년도, 작곡가, 도입부가사) values (?, ?, ?, ?, ?);'\n",
    "cur.executemany(sql, songs)\n",
    "conn.commit()"
   ]
  },
  {
   "cell_type": "code",
   "execution_count": 20,
   "metadata": {},
   "outputs": [],
   "source": [
    "songs = (\n",
    "    ('힘든 건 사랑이 아니다', '2020', '임창정', '내가 널 떠났어야 했는데 왜 떠나야 하는지도 아는데'),\n",
    "    ('DON\\'T TOUCH ME', '2020', '블랙아이드 필승', 'Trouble 이래 다 그래 세 보인대 어쩔래 난 멋 부리네 더 꾸미네'),\n",
    "    ('취기를 빌려', '2020', '새봄', '언제부턴가 불쑥 내 습관이 돼버린 너 혹시나 이런 맘이 어쩌면 부담일까'),\n",
    "    ('잠이 오질 않네요', '2020', '장범준', '당신은 날 설레게 만들어 조용한 내 마음 자꾸만 춤추게 해')\n",
    ")\n",
    "cur = conn.cursor()\n",
    "sql = 'insert into Song(song_name, 발표년도, 작곡가, 도입부가사) values (?, ?, ?, ?);'\n",
    "cur.executemany(sql, songs)\n",
    "conn.commit()"
   ]
  },
  {
   "cell_type": "code",
   "execution_count": 21,
   "metadata": {},
   "outputs": [
    {
     "output_type": "stream",
     "name": "stdout",
     "text": [
      "('방탄소년단', 7, '2013-06-13', 'Dynamite', '2020')\n('마마무', 4, '2014-06-19', '딩가딩가', '2020')\n('세븐틴', 13, '2015-05-26', '아주 NICE', '2016')\n('트와이스', 9, '2015-10-20', \"I CAN'T STOP ME\", '2020')\n('비투비', 7, '2012-03-21', '그리워하다', '2017')\n('블랙핑크', 4, '2016-08-08', 'How You Like That', '2020')\n"
     ]
    }
   ],
   "source": [
    "# 조인\n",
    "cur.execute('select Sg.group_name, Sg.구성원수, Sg.데뷔일자, So.song_name, So.발표년도 \\\n",
    "    from Singer_group as Sg \\\n",
    "    join Song as So \\\n",
    "    on Sg.id = So.그룹id')\n",
    "rows = cur.fetchall()\n",
    "for row in rows:\n",
    "    print(row)"
   ]
  },
  {
   "cell_type": "markdown",
   "metadata": {},
   "source": [
    "### 연습문제 3"
   ]
  },
  {
   "cell_type": "code",
   "execution_count": 1,
   "metadata": {},
   "outputs": [],
   "source": [
    "# 비밀번호, 이름\n",
    "import sqlite3\n",
    "conn = sqlite3.connect('./test.db')\n",
    "with conn:\n",
    "    cur = conn.cursor()\n",
    "    cur.execute('create table if not exists Users \\\n",
    "                    (name text, \\\n",
    "                    pwd text);')\n",
    "conn.commit()"
   ]
  },
  {
   "cell_type": "code",
   "execution_count": 2,
   "metadata": {},
   "outputs": [],
   "source": [
    "info = (('김민준','1234'), ('이서연','1234'), ('박준서','1234'),('최하은','1234'))\n",
    "cur = conn.cursor()\n",
    "sql = 'insert into Users(name, pwd) values (?, ?);'\n",
    "cur.executemany(sql, info)\n",
    "conn.commit()"
   ]
  },
  {
   "cell_type": "code",
   "execution_count": 3,
   "metadata": {},
   "outputs": [
    {
     "output_type": "stream",
     "name": "stdout",
     "text": [
      "성공\n"
     ]
    }
   ],
   "source": [
    "cur = conn.cursor()\n",
    "name = input('이름을 입력해주세요')\n",
    "pwd = input('비밀번호를 입력해주세요')\n",
    "cur.execute('select * from Users where name like ?;', (name,))\n",
    "result = cur.fetchone()\n",
    "try:\n",
    "    if result[0] == name and result[1] == pwd:\n",
    "        print('성공')\n",
    "    else:\n",
    "        print('실패')\n",
    "except:\n",
    "    print('실패')"
   ]
  },
  {
   "cell_type": "code",
   "execution_count": 4,
   "metadata": {},
   "outputs": [],
   "source": [
    "conn.close()"
   ]
  },
  {
   "cell_type": "code",
   "execution_count": null,
   "metadata": {},
   "outputs": [],
   "source": []
  }
 ]
}