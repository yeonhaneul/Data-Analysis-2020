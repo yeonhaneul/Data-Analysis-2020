{
 "metadata": {
  "language_info": {
   "codemirror_mode": {
    "name": "ipython",
    "version": 3
   },
   "file_extension": ".py",
   "mimetype": "text/x-python",
   "name": "python",
   "nbconvert_exporter": "python",
   "pygments_lexer": "ipython3",
   "version": "3.8.3-final"
  },
  "orig_nbformat": 2,
  "kernelspec": {
   "name": "python3",
   "display_name": "Python 3"
  }
 },
 "nbformat": 4,
 "nbformat_minor": 2,
 "cells": [
  {
   "cell_type": "code",
   "execution_count": 1,
   "metadata": {},
   "outputs": [],
   "source": [
    "import pandas as pd\n",
    "import numpy as np\n",
    "from sklearn import preprocessing\n",
    "import requests\n",
    "from urllib.parse import urlparse, quote\n",
    "import matplotlib as mpl\n",
    "import matplotlib.pyplot as plt\n",
    "import seaborn as sns\n",
    "%matplotlib inline\n",
    "mpl.rc('font', family='Malgun Gothic')\n",
    "mpl.rc('axes', unicode_minus=False)\n",
    "sns.set(font=\"Malgun Gothic\", \n",
    "        rc={\"axes.unicode_minus\":False})"
   ]
  },
  {
   "cell_type": "code",
   "execution_count": 2,
   "metadata": {},
   "outputs": [
    {
     "output_type": "execute_result",
     "data": {
      "text/plain": [
       "           공원명                                               공원개요  \\\n",
       "공원번호                                                                \n",
       "1     남산도시자연공원  남산공원은 도심에 위치하여 서울시민에게 맑은 공기를 제공하는 자연휴식처이며 산책 꽃...   \n",
       "\n",
       "                                                면적        개원일  \\\n",
       "공원번호                                                            \n",
       "1     2896887㎡ 임 야 : 2454140㎡ 녹지대 및 기타시설 : 442747㎡  1968.9.10   \n",
       "\n",
       "                                                   주요시설  \\\n",
       "공원번호                                                      \n",
       "1     기반시설 : 광장 45950㎡ 도로 108530㎡ 산책로 6.7㎞ (북측:3.7㎞/...   \n",
       "\n",
       "                                   주요식물  \\\n",
       "공원번호                                      \n",
       "1     소나무 단풍 아카시아 상수리나무 등 191종 2881870주   \n",
       "\n",
       "                                                    안내도  \\\n",
       "공원번호                                                      \n",
       "1     http://parks.seoul.go.kr/upload/seditorMulti/2...   \n",
       "\n",
       "                                                   오시는길  \\\n",
       "공원번호                                                      \n",
       "1     명동역(남산케이블카 와룡묘 서울애니메이션센터 방면) 도보 명동역 3번출구 → 퍼시픽...   \n",
       "\n",
       "                                                이용시참고사항  \\\n",
       "공원번호                                                      \n",
       "1     남산공원 차량통행 금지안내 2005년 5월 1일부터 남산공원에 일반승용차 택시 통행...   \n",
       "\n",
       "                                                    이미지  지역  \\\n",
       "공원번호                                                          \n",
       "1     http://parks.seoul.go.kr/file/info/view.do?fId...  중구   \n",
       "\n",
       "                        공원주소            관리부서          전화번호  X좌표(GRS80TM)  \\\n",
       "공원번호                                                                       \n",
       "1     서울특별시 중구 삼일대로 231(예장동)  서울특별시중부푸른도시사업소  02-3783-5900    198364.107   \n",
       "\n",
       "      Y좌표(GRS80TM)  X좌표(WGS84)  Y좌표(WGS84)  \\\n",
       "공원번호                                         \n",
       "1       450395.554  126.990377    37.55014   \n",
       "\n",
       "                                                 바로가기  \n",
       "공원번호                                                   \n",
       "1     http://parks.seoul.go.kr/template/sub/namsan.do  "
      ],
      "text/html": "<div>\n<style scoped>\n    .dataframe tbody tr th:only-of-type {\n        vertical-align: middle;\n    }\n\n    .dataframe tbody tr th {\n        vertical-align: top;\n    }\n\n    .dataframe thead th {\n        text-align: right;\n    }\n</style>\n<table border=\"1\" class=\"dataframe\">\n  <thead>\n    <tr style=\"text-align: right;\">\n      <th></th>\n      <th>공원명</th>\n      <th>공원개요</th>\n      <th>면적</th>\n      <th>개원일</th>\n      <th>주요시설</th>\n      <th>주요식물</th>\n      <th>안내도</th>\n      <th>오시는길</th>\n      <th>이용시참고사항</th>\n      <th>이미지</th>\n      <th>지역</th>\n      <th>공원주소</th>\n      <th>관리부서</th>\n      <th>전화번호</th>\n      <th>X좌표(GRS80TM)</th>\n      <th>Y좌표(GRS80TM)</th>\n      <th>X좌표(WGS84)</th>\n      <th>Y좌표(WGS84)</th>\n      <th>바로가기</th>\n    </tr>\n    <tr>\n      <th>공원번호</th>\n      <th></th>\n      <th></th>\n      <th></th>\n      <th></th>\n      <th></th>\n      <th></th>\n      <th></th>\n      <th></th>\n      <th></th>\n      <th></th>\n      <th></th>\n      <th></th>\n      <th></th>\n      <th></th>\n      <th></th>\n      <th></th>\n      <th></th>\n      <th></th>\n      <th></th>\n    </tr>\n  </thead>\n  <tbody>\n    <tr>\n      <th>1</th>\n      <td>남산도시자연공원</td>\n      <td>남산공원은 도심에 위치하여 서울시민에게 맑은 공기를 제공하는 자연휴식처이며 산책 꽃...</td>\n      <td>2896887㎡ 임 야 : 2454140㎡ 녹지대 및 기타시설 : 442747㎡</td>\n      <td>1968.9.10</td>\n      <td>기반시설 : 광장 45950㎡ 도로 108530㎡ 산책로 6.7㎞ (북측:3.7㎞/...</td>\n      <td>소나무 단풍 아카시아 상수리나무 등 191종 2881870주</td>\n      <td>http://parks.seoul.go.kr/upload/seditorMulti/2...</td>\n      <td>명동역(남산케이블카 와룡묘 서울애니메이션센터 방면) 도보 명동역 3번출구 → 퍼시픽...</td>\n      <td>남산공원 차량통행 금지안내 2005년 5월 1일부터 남산공원에 일반승용차 택시 통행...</td>\n      <td>http://parks.seoul.go.kr/file/info/view.do?fId...</td>\n      <td>중구</td>\n      <td>서울특별시 중구 삼일대로 231(예장동)</td>\n      <td>서울특별시중부푸른도시사업소</td>\n      <td>02-3783-5900</td>\n      <td>198364.107</td>\n      <td>450395.554</td>\n      <td>126.990377</td>\n      <td>37.55014</td>\n      <td>http://parks.seoul.go.kr/template/sub/namsan.do</td>\n    </tr>\n  </tbody>\n</table>\n</div>"
     },
     "metadata": {},
     "execution_count": 2
    }
   ],
   "source": [
    "park_seoul = pd.read_csv('./data/서울시 주요 공원현황.csv', sep=',', encoding='cp949', index_col='공원번호')\n",
    "park_seoul.head(1)"
   ]
  },
  {
   "cell_type": "code",
   "execution_count": 3,
   "metadata": {},
   "outputs": [
    {
     "output_type": "execute_result",
     "data": {
      "text/plain": [
       "                  공원명        면적   지역                           공원주소  \\\n",
       "공원번호                                                                  \n",
       "1378  용마도시자연공원(사가정공원)  109635㎡   중랑구            서울특별시 중랑구 면목7동 산50    \n",
       "1379           문화비축기지   140022㎡  마포구               서울특별시 마포구 증산로 87   \n",
       "1380            경춘선숲길   211392㎡  NaN                노원구 공릉2동 산 82-2   \n",
       "1381             율현공원   157535㎡  강남구  서울특별시 강남구 율현동 밤고개로24길(율현동 56)   \n",
       "1382          서울로7017       NaN   중구                        서울로7017   \n",
       "\n",
       "              전화번호  X좌표(WGS84)  Y좌표(WGS84)  \n",
       "공원번호                                        \n",
       "1378  02-2094-2993  127.095997   37.579762  \n",
       "1379   02-376-8410  126.893245   37.571718  \n",
       "1380  02-2289-4012  127.076482   37.627077  \n",
       "1381   02-459-9452  127.115594   37.472332  \n",
       "1382   02-313-7017         NaN         NaN  "
      ],
      "text/html": "<div>\n<style scoped>\n    .dataframe tbody tr th:only-of-type {\n        vertical-align: middle;\n    }\n\n    .dataframe tbody tr th {\n        vertical-align: top;\n    }\n\n    .dataframe thead th {\n        text-align: right;\n    }\n</style>\n<table border=\"1\" class=\"dataframe\">\n  <thead>\n    <tr style=\"text-align: right;\">\n      <th></th>\n      <th>공원명</th>\n      <th>면적</th>\n      <th>지역</th>\n      <th>공원주소</th>\n      <th>전화번호</th>\n      <th>X좌표(WGS84)</th>\n      <th>Y좌표(WGS84)</th>\n    </tr>\n    <tr>\n      <th>공원번호</th>\n      <th></th>\n      <th></th>\n      <th></th>\n      <th></th>\n      <th></th>\n      <th></th>\n      <th></th>\n    </tr>\n  </thead>\n  <tbody>\n    <tr>\n      <th>1378</th>\n      <td>용마도시자연공원(사가정공원)</td>\n      <td>109635㎡</td>\n      <td>중랑구</td>\n      <td>서울특별시 중랑구 면목7동 산50</td>\n      <td>02-2094-2993</td>\n      <td>127.095997</td>\n      <td>37.579762</td>\n    </tr>\n    <tr>\n      <th>1379</th>\n      <td>문화비축기지</td>\n      <td>140022㎡</td>\n      <td>마포구</td>\n      <td>서울특별시 마포구 증산로 87</td>\n      <td>02-376-8410</td>\n      <td>126.893245</td>\n      <td>37.571718</td>\n    </tr>\n    <tr>\n      <th>1380</th>\n      <td>경춘선숲길</td>\n      <td>211392㎡</td>\n      <td>NaN</td>\n      <td>노원구 공릉2동 산 82-2</td>\n      <td>02-2289-4012</td>\n      <td>127.076482</td>\n      <td>37.627077</td>\n    </tr>\n    <tr>\n      <th>1381</th>\n      <td>율현공원</td>\n      <td>157535㎡</td>\n      <td>강남구</td>\n      <td>서울특별시 강남구 율현동 밤고개로24길(율현동 56)</td>\n      <td>02-459-9452</td>\n      <td>127.115594</td>\n      <td>37.472332</td>\n    </tr>\n    <tr>\n      <th>1382</th>\n      <td>서울로7017</td>\n      <td>NaN</td>\n      <td>중구</td>\n      <td>서울로7017</td>\n      <td>02-313-7017</td>\n      <td>NaN</td>\n      <td>NaN</td>\n    </tr>\n  </tbody>\n</table>\n</div>"
     },
     "metadata": {},
     "execution_count": 3
    }
   ],
   "source": [
    "park_seoul = park_seoul[['공원명', '면적', '지역', '공원주소', '전화번호', 'X좌표(WGS84)', 'Y좌표(WGS84)']]\n",
    "park_seoul.tail()"
   ]
  },
  {
   "cell_type": "code",
   "execution_count": 4,
   "metadata": {},
   "outputs": [],
   "source": [
    "key_fd = open('kakaomapkey.txt', mode='r')\n",
    "kmap_key = key_fd.read(100)\n",
    "key_fd.close()"
   ]
  },
  {
   "cell_type": "code",
   "execution_count": 5,
   "metadata": {},
   "outputs": [
    {
     "output_type": "execute_result",
     "data": {
      "text/plain": [
       "'남산도시자연공원'"
      ]
     },
     "metadata": {},
     "execution_count": 5
    }
   ],
   "source": [
    "park_seoul['공원명'][1]"
   ]
  },
  {
   "cell_type": "code",
   "execution_count": 6,
   "metadata": {},
   "outputs": [
    {
     "output_type": "execute_result",
     "data": {
      "text/plain": [
       "'서울 중랑구 면목동 산 50-23'"
      ]
     },
     "metadata": {},
     "execution_count": 6
    }
   ],
   "source": [
    "url = 'https://dapi.kakao.com/v2/local/geo/coord2address.json?' + 'x=127.095997&y=37.579762'\n",
    "result = requests.get(url,\n",
    "        headers={\"Authorization\": \"KakaoAK \"+kmap_key}).json()\n",
    "result['documents'][0]['address']['address_name']"
   ]
  },
  {
   "cell_type": "code",
   "execution_count": 7,
   "metadata": {},
   "outputs": [
    {
     "output_type": "execute_result",
     "data": {
      "text/plain": [
       "{'meta': {'total_count': 0}, 'documents': []}"
      ]
     },
     "metadata": {},
     "execution_count": 7
    }
   ],
   "source": [
    "url = 'https://dapi.kakao.com/v2/local/geo/coord2address.json?' + 'x=37.579762&y=127.095997'\n",
    "result = requests.get(url,\n",
    "        headers={\"Authorization\": \"KakaoAK \"+kmap_key}).json()\n",
    "result"
   ]
  },
  {
   "cell_type": "code",
   "execution_count": 8,
   "metadata": {},
   "outputs": [],
   "source": [
    "# 주소바꾸기\n",
    "new_addr = []\n",
    "for i in park_seoul.index:\n",
    "    try:\n",
    "        # 1차시도 : 주소로검색\n",
    "        url = 'https://dapi.kakao.com/v2/local/search/address.json?query=' + quote(park_seoul[\"공원주소\"][i])\n",
    "        result = requests.get(url,\n",
    "                headers={\"Authorization\": \"KakaoAK \"+kmap_key}).json()\n",
    "        addr = result['documents'][0]['address_name']\n",
    "        new_addr.append(addr)\n",
    "    except:\n",
    "        try:\n",
    "            # 2차시도 : 공원명으로검색\n",
    "            url = 'https://dapi.kakao.com/v2/local/search/keyword.json?query=' + quote(park_seoul['공원명'][i])\n",
    "            result = requests.get(url,\n",
    "                    headers={\"Authorization\": \"KakaoAK \"+kmap_key}).json()\n",
    "            addr = result['documents'][0]['address_name']\n",
    "            new_addr.append(addr)\n",
    "        except:\n",
    "            try:\n",
    "                # 3차시도 : 좌표로 검색\n",
    "                url = \"https://dapi.kakao.com/v2/local/geo/coord2address.json?\" + f'x={park_seoul[\"X좌표(WGS84)\"][i]}&y={park_seoul[\"Y좌표(WGS84)\"][i]}&input_coord=WGS84'\n",
    "                result = requests.get(url,\n",
    "                        headers={\"Authorization\": \"KakaoAK \"+kmap_key}).json()\n",
    "                addr = result['documents'][0]['address']['address_name']\n",
    "                new_addr.append(addr)\n",
    "            except:\n",
    "                print(i, park_seoul['공원명'][i])"
   ]
  },
  {
   "cell_type": "code",
   "execution_count": 9,
   "metadata": {},
   "outputs": [
    {
     "output_type": "execute_result",
     "data": {
      "text/plain": [
       "132"
      ]
     },
     "metadata": {},
     "execution_count": 9
    }
   ],
   "source": [
    "# 구 또는 시로 뽑아내기\n",
    "addr_list = []\n",
    "for i in range(len(new_addr)):\n",
    "    addr = new_addr[i].split(' ')[1]\n",
    "    addr_list.append(addr)\n",
    "len(addr_list)"
   ]
  },
  {
   "cell_type": "code",
   "execution_count": 10,
   "metadata": {},
   "outputs": [
    {
     "output_type": "execute_result",
     "data": {
      "text/plain": [
       "                  공원명        면적   지역                           공원주소  \\\n",
       "공원번호                                                                  \n",
       "1378  용마도시자연공원(사가정공원)  109635㎡   중랑구            서울특별시 중랑구 면목7동 산50    \n",
       "1379           문화비축기지   140022㎡  마포구               서울특별시 마포구 증산로 87   \n",
       "1380            경춘선숲길   211392㎡  노원구                노원구 공릉2동 산 82-2   \n",
       "1381             율현공원   157535㎡  강남구  서울특별시 강남구 율현동 밤고개로24길(율현동 56)   \n",
       "1382          서울로7017       NaN   중구                        서울로7017   \n",
       "\n",
       "              전화번호  X좌표(WGS84)  Y좌표(WGS84)  \n",
       "공원번호                                        \n",
       "1378  02-2094-2993  127.095997   37.579762  \n",
       "1379   02-376-8410  126.893245   37.571718  \n",
       "1380  02-2289-4012  127.076482   37.627077  \n",
       "1381   02-459-9452  127.115594   37.472332  \n",
       "1382   02-313-7017         NaN         NaN  "
      ],
      "text/html": "<div>\n<style scoped>\n    .dataframe tbody tr th:only-of-type {\n        vertical-align: middle;\n    }\n\n    .dataframe tbody tr th {\n        vertical-align: top;\n    }\n\n    .dataframe thead th {\n        text-align: right;\n    }\n</style>\n<table border=\"1\" class=\"dataframe\">\n  <thead>\n    <tr style=\"text-align: right;\">\n      <th></th>\n      <th>공원명</th>\n      <th>면적</th>\n      <th>지역</th>\n      <th>공원주소</th>\n      <th>전화번호</th>\n      <th>X좌표(WGS84)</th>\n      <th>Y좌표(WGS84)</th>\n    </tr>\n    <tr>\n      <th>공원번호</th>\n      <th></th>\n      <th></th>\n      <th></th>\n      <th></th>\n      <th></th>\n      <th></th>\n      <th></th>\n    </tr>\n  </thead>\n  <tbody>\n    <tr>\n      <th>1378</th>\n      <td>용마도시자연공원(사가정공원)</td>\n      <td>109635㎡</td>\n      <td>중랑구</td>\n      <td>서울특별시 중랑구 면목7동 산50</td>\n      <td>02-2094-2993</td>\n      <td>127.095997</td>\n      <td>37.579762</td>\n    </tr>\n    <tr>\n      <th>1379</th>\n      <td>문화비축기지</td>\n      <td>140022㎡</td>\n      <td>마포구</td>\n      <td>서울특별시 마포구 증산로 87</td>\n      <td>02-376-8410</td>\n      <td>126.893245</td>\n      <td>37.571718</td>\n    </tr>\n    <tr>\n      <th>1380</th>\n      <td>경춘선숲길</td>\n      <td>211392㎡</td>\n      <td>노원구</td>\n      <td>노원구 공릉2동 산 82-2</td>\n      <td>02-2289-4012</td>\n      <td>127.076482</td>\n      <td>37.627077</td>\n    </tr>\n    <tr>\n      <th>1381</th>\n      <td>율현공원</td>\n      <td>157535㎡</td>\n      <td>강남구</td>\n      <td>서울특별시 강남구 율현동 밤고개로24길(율현동 56)</td>\n      <td>02-459-9452</td>\n      <td>127.115594</td>\n      <td>37.472332</td>\n    </tr>\n    <tr>\n      <th>1382</th>\n      <td>서울로7017</td>\n      <td>NaN</td>\n      <td>중구</td>\n      <td>서울로7017</td>\n      <td>02-313-7017</td>\n      <td>NaN</td>\n      <td>NaN</td>\n    </tr>\n  </tbody>\n</table>\n</div>"
     },
     "metadata": {},
     "execution_count": 10
    }
   ],
   "source": [
    "# 지역내용 바꾸기\n",
    "park_seoul['지역'] = addr_list\n",
    "park_seoul.tail()"
   ]
  },
  {
   "cell_type": "code",
   "execution_count": 11,
   "metadata": {},
   "outputs": [
    {
     "output_type": "execute_result",
     "data": {
      "text/plain": [
       "                  공원명        면적   지역                공원주소          전화번호  \\\n",
       "공원번호                                                                     \n",
       "1378  용마도시자연공원(사가정공원)  109635㎡   중랑구  서울 중랑구 면목동 산 50-23  02-2094-2993   \n",
       "1379           문화비축기지   140022㎡  마포구       서울 마포구 증산로 87   02-376-8410   \n",
       "1380            경춘선숲길   211392㎡  노원구          서울 노원구 공릉동  02-2289-4012   \n",
       "1381             율현공원   157535㎡  강남구   서울 강남구 밤고개로24길 56   02-459-9452   \n",
       "1382          서울로7017       NaN   중구  서울 중구 봉래동2가 122-16   02-313-7017   \n",
       "\n",
       "      X좌표(WGS84)  Y좌표(WGS84)  \n",
       "공원번호                          \n",
       "1378  127.095997   37.579762  \n",
       "1379  126.893245   37.571718  \n",
       "1380  127.076482   37.627077  \n",
       "1381  127.115594   37.472332  \n",
       "1382         NaN         NaN  "
      ],
      "text/html": "<div>\n<style scoped>\n    .dataframe tbody tr th:only-of-type {\n        vertical-align: middle;\n    }\n\n    .dataframe tbody tr th {\n        vertical-align: top;\n    }\n\n    .dataframe thead th {\n        text-align: right;\n    }\n</style>\n<table border=\"1\" class=\"dataframe\">\n  <thead>\n    <tr style=\"text-align: right;\">\n      <th></th>\n      <th>공원명</th>\n      <th>면적</th>\n      <th>지역</th>\n      <th>공원주소</th>\n      <th>전화번호</th>\n      <th>X좌표(WGS84)</th>\n      <th>Y좌표(WGS84)</th>\n    </tr>\n    <tr>\n      <th>공원번호</th>\n      <th></th>\n      <th></th>\n      <th></th>\n      <th></th>\n      <th></th>\n      <th></th>\n      <th></th>\n    </tr>\n  </thead>\n  <tbody>\n    <tr>\n      <th>1378</th>\n      <td>용마도시자연공원(사가정공원)</td>\n      <td>109635㎡</td>\n      <td>중랑구</td>\n      <td>서울 중랑구 면목동 산 50-23</td>\n      <td>02-2094-2993</td>\n      <td>127.095997</td>\n      <td>37.579762</td>\n    </tr>\n    <tr>\n      <th>1379</th>\n      <td>문화비축기지</td>\n      <td>140022㎡</td>\n      <td>마포구</td>\n      <td>서울 마포구 증산로 87</td>\n      <td>02-376-8410</td>\n      <td>126.893245</td>\n      <td>37.571718</td>\n    </tr>\n    <tr>\n      <th>1380</th>\n      <td>경춘선숲길</td>\n      <td>211392㎡</td>\n      <td>노원구</td>\n      <td>서울 노원구 공릉동</td>\n      <td>02-2289-4012</td>\n      <td>127.076482</td>\n      <td>37.627077</td>\n    </tr>\n    <tr>\n      <th>1381</th>\n      <td>율현공원</td>\n      <td>157535㎡</td>\n      <td>강남구</td>\n      <td>서울 강남구 밤고개로24길 56</td>\n      <td>02-459-9452</td>\n      <td>127.115594</td>\n      <td>37.472332</td>\n    </tr>\n    <tr>\n      <th>1382</th>\n      <td>서울로7017</td>\n      <td>NaN</td>\n      <td>중구</td>\n      <td>서울 중구 봉래동2가 122-16</td>\n      <td>02-313-7017</td>\n      <td>NaN</td>\n      <td>NaN</td>\n    </tr>\n  </tbody>\n</table>\n</div>"
     },
     "metadata": {},
     "execution_count": 11
    }
   ],
   "source": [
    "# 주소 바꾸기\n",
    "park_seoul['공원주소'] = new_addr\n",
    "park_seoul.tail()"
   ]
  },
  {
   "cell_type": "code",
   "execution_count": 13,
   "metadata": {},
   "outputs": [
    {
     "output_type": "execute_result",
     "data": {
      "text/plain": [
       "{'address_name': '서울 광진구 광장동 370',\n",
       " 'category_group_code': '',\n",
       " 'category_group_name': '',\n",
       " 'category_name': '여행 > 공원 > 도시근린공원',\n",
       " 'distance': '',\n",
       " 'id': '12630966',\n",
       " 'phone': '02-450-1192',\n",
       " 'place_name': '아차산생태공원',\n",
       " 'place_url': 'http://place.map.kakao.com/12630966',\n",
       " 'road_address_name': '',\n",
       " 'x': '127.100800735849',\n",
       " 'y': '37.5517166336474'}"
      ]
     },
     "metadata": {},
     "execution_count": 13
    }
   ],
   "source": [
    "url = 'https://dapi.kakao.com/v2/local/search/keyword.json?query=' + quote('아차산생태공원')\n",
    "result = requests.get(url,\n",
    "        headers={\"Authorization\": \"KakaoAK \"+kmap_key}).json()\n",
    "result['documents'][0]"
   ]
  },
  {
   "cell_type": "code",
   "execution_count": 14,
   "metadata": {},
   "outputs": [],
   "source": [
    "# 좌표바꾸기\n",
    "lat_list = []; lng_list = []\n",
    "for i in park_seoul.index:\n",
    "    try:\n",
    "        url = 'https://dapi.kakao.com/v2/local/search/keyword.json?query=' + quote(park_seoul['공원명'][i])\n",
    "        result = requests.get(url,\n",
    "                headers={\"Authorization\": \"KakaoAK \"+kmap_key}).json()\n",
    "        addr = result['documents'][0]['address_name']\n",
    "        lat = float(result['documents'][0]['y'])\n",
    "        lng = float(result['documents'][0]['x'])\n",
    "        lat_list.append(lat)\n",
    "        lng_list.append(lng)\n",
    "    except:\n",
    "        url = 'https://dapi.kakao.com/v2/local/search/address.json?query=' + quote(park_seoul['공원주소'][i])\n",
    "        result = requests.get(url,\n",
    "                headers={\"Authorization\": \"KakaoAK \"+kmap_key}).json()\n",
    "        lat = float(result['documents'][0]['y'])\n",
    "        lng = float(result['documents'][0]['x'])\n",
    "        lat_list.append(lat)\n",
    "        lng_list.append(lng)"
   ]
  },
  {
   "cell_type": "code",
   "execution_count": 15,
   "metadata": {},
   "outputs": [
    {
     "output_type": "execute_result",
     "data": {
      "text/plain": [
       "                  공원명        면적   지역                공원주소          전화번호  \\\n",
       "공원번호                                                                     \n",
       "1378  용마도시자연공원(사가정공원)  109635㎡   중랑구  서울 중랑구 면목동 산 50-23  02-2094-2993   \n",
       "1379           문화비축기지   140022㎡  마포구       서울 마포구 증산로 87   02-376-8410   \n",
       "1380            경춘선숲길   211392㎡  노원구          서울 노원구 공릉동  02-2289-4012   \n",
       "1381             율현공원   157535㎡  강남구   서울 강남구 밤고개로24길 56   02-459-9452   \n",
       "1382          서울로7017         0   중구  서울 중구 봉래동2가 122-16   02-313-7017   \n",
       "\n",
       "     X좌표(WGS84) Y좌표(WGS84)        lat         lng  \n",
       "공원번호                                               \n",
       "1378    127.096    37.5798  37.579734  127.096202  \n",
       "1379    126.893    37.5717  37.571076  126.894237  \n",
       "1380    127.076    37.6271  37.620692  127.078706  \n",
       "1381    127.116    37.4723  37.472680  127.115483  \n",
       "1382          0          0  37.556621  126.970298  "
      ],
      "text/html": "<div>\n<style scoped>\n    .dataframe tbody tr th:only-of-type {\n        vertical-align: middle;\n    }\n\n    .dataframe tbody tr th {\n        vertical-align: top;\n    }\n\n    .dataframe thead th {\n        text-align: right;\n    }\n</style>\n<table border=\"1\" class=\"dataframe\">\n  <thead>\n    <tr style=\"text-align: right;\">\n      <th></th>\n      <th>공원명</th>\n      <th>면적</th>\n      <th>지역</th>\n      <th>공원주소</th>\n      <th>전화번호</th>\n      <th>X좌표(WGS84)</th>\n      <th>Y좌표(WGS84)</th>\n      <th>lat</th>\n      <th>lng</th>\n    </tr>\n    <tr>\n      <th>공원번호</th>\n      <th></th>\n      <th></th>\n      <th></th>\n      <th></th>\n      <th></th>\n      <th></th>\n      <th></th>\n      <th></th>\n      <th></th>\n    </tr>\n  </thead>\n  <tbody>\n    <tr>\n      <th>1378</th>\n      <td>용마도시자연공원(사가정공원)</td>\n      <td>109635㎡</td>\n      <td>중랑구</td>\n      <td>서울 중랑구 면목동 산 50-23</td>\n      <td>02-2094-2993</td>\n      <td>127.096</td>\n      <td>37.5798</td>\n      <td>37.579734</td>\n      <td>127.096202</td>\n    </tr>\n    <tr>\n      <th>1379</th>\n      <td>문화비축기지</td>\n      <td>140022㎡</td>\n      <td>마포구</td>\n      <td>서울 마포구 증산로 87</td>\n      <td>02-376-8410</td>\n      <td>126.893</td>\n      <td>37.5717</td>\n      <td>37.571076</td>\n      <td>126.894237</td>\n    </tr>\n    <tr>\n      <th>1380</th>\n      <td>경춘선숲길</td>\n      <td>211392㎡</td>\n      <td>노원구</td>\n      <td>서울 노원구 공릉동</td>\n      <td>02-2289-4012</td>\n      <td>127.076</td>\n      <td>37.6271</td>\n      <td>37.620692</td>\n      <td>127.078706</td>\n    </tr>\n    <tr>\n      <th>1381</th>\n      <td>율현공원</td>\n      <td>157535㎡</td>\n      <td>강남구</td>\n      <td>서울 강남구 밤고개로24길 56</td>\n      <td>02-459-9452</td>\n      <td>127.116</td>\n      <td>37.4723</td>\n      <td>37.472680</td>\n      <td>127.115483</td>\n    </tr>\n    <tr>\n      <th>1382</th>\n      <td>서울로7017</td>\n      <td>0</td>\n      <td>중구</td>\n      <td>서울 중구 봉래동2가 122-16</td>\n      <td>02-313-7017</td>\n      <td>0</td>\n      <td>0</td>\n      <td>37.556621</td>\n      <td>126.970298</td>\n    </tr>\n  </tbody>\n</table>\n</div>"
     },
     "metadata": {},
     "execution_count": 15
    }
   ],
   "source": [
    "park_seoul['lat']=lat_list; park_seoul['lng']=lng_list\n",
    "park_seoul.tail()"
   ]
  },
  {
   "cell_type": "code",
   "execution_count": 16,
   "metadata": {},
   "outputs": [
    {
     "output_type": "execute_result",
     "data": {
      "text/plain": [
       "                  공원명        면적   지역                공원주소          전화번호  \\\n",
       "공원번호                                                                     \n",
       "1378  용마도시자연공원(사가정공원)  109635㎡   중랑구  서울 중랑구 면목동 산 50-23  02-2094-2993   \n",
       "1379           문화비축기지   140022㎡  마포구       서울 마포구 증산로 87   02-376-8410   \n",
       "1380            경춘선숲길   211392㎡  노원구          서울 노원구 공릉동  02-2289-4012   \n",
       "1381             율현공원   157535㎡  강남구   서울 강남구 밤고개로24길 56   02-459-9452   \n",
       "1382          서울로7017         0   중구  서울 중구 봉래동2가 122-16   02-313-7017   \n",
       "\n",
       "            lat         lng  \n",
       "공원번호                         \n",
       "1378  37.579734  127.096202  \n",
       "1379  37.571076  126.894237  \n",
       "1380  37.620692  127.078706  \n",
       "1381  37.472680  127.115483  \n",
       "1382  37.556621  126.970298  "
      ],
      "text/html": "<div>\n<style scoped>\n    .dataframe tbody tr th:only-of-type {\n        vertical-align: middle;\n    }\n\n    .dataframe tbody tr th {\n        vertical-align: top;\n    }\n\n    .dataframe thead th {\n        text-align: right;\n    }\n</style>\n<table border=\"1\" class=\"dataframe\">\n  <thead>\n    <tr style=\"text-align: right;\">\n      <th></th>\n      <th>공원명</th>\n      <th>면적</th>\n      <th>지역</th>\n      <th>공원주소</th>\n      <th>전화번호</th>\n      <th>lat</th>\n      <th>lng</th>\n    </tr>\n    <tr>\n      <th>공원번호</th>\n      <th></th>\n      <th></th>\n      <th></th>\n      <th></th>\n      <th></th>\n      <th></th>\n      <th></th>\n    </tr>\n  </thead>\n  <tbody>\n    <tr>\n      <th>1378</th>\n      <td>용마도시자연공원(사가정공원)</td>\n      <td>109635㎡</td>\n      <td>중랑구</td>\n      <td>서울 중랑구 면목동 산 50-23</td>\n      <td>02-2094-2993</td>\n      <td>37.579734</td>\n      <td>127.096202</td>\n    </tr>\n    <tr>\n      <th>1379</th>\n      <td>문화비축기지</td>\n      <td>140022㎡</td>\n      <td>마포구</td>\n      <td>서울 마포구 증산로 87</td>\n      <td>02-376-8410</td>\n      <td>37.571076</td>\n      <td>126.894237</td>\n    </tr>\n    <tr>\n      <th>1380</th>\n      <td>경춘선숲길</td>\n      <td>211392㎡</td>\n      <td>노원구</td>\n      <td>서울 노원구 공릉동</td>\n      <td>02-2289-4012</td>\n      <td>37.620692</td>\n      <td>127.078706</td>\n    </tr>\n    <tr>\n      <th>1381</th>\n      <td>율현공원</td>\n      <td>157535㎡</td>\n      <td>강남구</td>\n      <td>서울 강남구 밤고개로24길 56</td>\n      <td>02-459-9452</td>\n      <td>37.472680</td>\n      <td>127.115483</td>\n    </tr>\n    <tr>\n      <th>1382</th>\n      <td>서울로7017</td>\n      <td>0</td>\n      <td>중구</td>\n      <td>서울 중구 봉래동2가 122-16</td>\n      <td>02-313-7017</td>\n      <td>37.556621</td>\n      <td>126.970298</td>\n    </tr>\n  </tbody>\n</table>\n</div>"
     },
     "metadata": {},
     "execution_count": 16
    }
   ],
   "source": [
    "del park_seoul['X좌표(WGS84)']\n",
    "del park_seoul['Y좌표(WGS84)']\n",
    "\n",
    "park_seoul.tail()"
   ]
  },
  {
   "cell_type": "code",
   "execution_count": 17,
   "metadata": {},
   "outputs": [
    {
     "output_type": "execute_result",
     "data": {
      "text/plain": [
       "'용마도시자연공원(사가정공원)'"
      ]
     },
     "metadata": {},
     "execution_count": 17
    }
   ],
   "source": [
    "park_seoul['공원명'][1378]"
   ]
  },
  {
   "cell_type": "code",
   "execution_count": 18,
   "metadata": {},
   "outputs": [
    {
     "output_type": "execute_result",
     "data": {
      "text/plain": [
       "           공원명                                   면적   지역               공원주소  \\\n",
       "공원번호                                                                          \n",
       "1     남산도시자연공원  2896887㎡임야:2454140㎡녹지대및기타시설:442747㎡   중구     서울 중구 삼일대로 231   \n",
       "3       길동생태공원                               80683㎡  강동구   서울 강동구 천호대로 1291   \n",
       "4        서울대공원                            9132690m²  과천시  경기 과천시 대공원광장로 102   \n",
       "5          서울숲                              480994㎡  성동구     서울 성동구 뚝섬로 273   \n",
       "6        월드컵공원                             2284085㎡  마포구    서울 마포구 하늘공원로 84   \n",
       "\n",
       "              전화번호        lat         lng  \n",
       "공원번호                                       \n",
       "1     02-3783-5900  37.552498  126.989317  \n",
       "3      02-489-2770  37.540820  127.155420  \n",
       "4      02-500-7032  37.426932  127.019902  \n",
       "5     02-460-2905   37.544322  127.037618  \n",
       "6      02-300-5500  37.563194  126.897635  "
      ],
      "text/html": "<div>\n<style scoped>\n    .dataframe tbody tr th:only-of-type {\n        vertical-align: middle;\n    }\n\n    .dataframe tbody tr th {\n        vertical-align: top;\n    }\n\n    .dataframe thead th {\n        text-align: right;\n    }\n</style>\n<table border=\"1\" class=\"dataframe\">\n  <thead>\n    <tr style=\"text-align: right;\">\n      <th></th>\n      <th>공원명</th>\n      <th>면적</th>\n      <th>지역</th>\n      <th>공원주소</th>\n      <th>전화번호</th>\n      <th>lat</th>\n      <th>lng</th>\n    </tr>\n    <tr>\n      <th>공원번호</th>\n      <th></th>\n      <th></th>\n      <th></th>\n      <th></th>\n      <th></th>\n      <th></th>\n      <th></th>\n    </tr>\n  </thead>\n  <tbody>\n    <tr>\n      <th>1</th>\n      <td>남산도시자연공원</td>\n      <td>2896887㎡임야:2454140㎡녹지대및기타시설:442747㎡</td>\n      <td>중구</td>\n      <td>서울 중구 삼일대로 231</td>\n      <td>02-3783-5900</td>\n      <td>37.552498</td>\n      <td>126.989317</td>\n    </tr>\n    <tr>\n      <th>3</th>\n      <td>길동생태공원</td>\n      <td>80683㎡</td>\n      <td>강동구</td>\n      <td>서울 강동구 천호대로 1291</td>\n      <td>02-489-2770</td>\n      <td>37.540820</td>\n      <td>127.155420</td>\n    </tr>\n    <tr>\n      <th>4</th>\n      <td>서울대공원</td>\n      <td>9132690m²</td>\n      <td>과천시</td>\n      <td>경기 과천시 대공원광장로 102</td>\n      <td>02-500-7032</td>\n      <td>37.426932</td>\n      <td>127.019902</td>\n    </tr>\n    <tr>\n      <th>5</th>\n      <td>서울숲</td>\n      <td>480994㎡</td>\n      <td>성동구</td>\n      <td>서울 성동구 뚝섬로 273</td>\n      <td>02-460-2905</td>\n      <td>37.544322</td>\n      <td>127.037618</td>\n    </tr>\n    <tr>\n      <th>6</th>\n      <td>월드컵공원</td>\n      <td>2284085㎡</td>\n      <td>마포구</td>\n      <td>서울 마포구 하늘공원로 84</td>\n      <td>02-300-5500</td>\n      <td>37.563194</td>\n      <td>126.897635</td>\n    </tr>\n  </tbody>\n</table>\n</div>"
     },
     "metadata": {},
     "execution_count": 18
    }
   ],
   "source": [
    "# 면적바꾸기 = 면적이 제대로 적혀있지않은것은 0처리\n",
    "park_seoul['면적'] = park_seoul['면적'].str.replace(' ', '')\n",
    "park_seoul['면적'] = park_seoul['면적'].str.replace('총', '')\n",
    "park_seoul.head()"
   ]
  },
  {
   "cell_type": "code",
   "execution_count": 19,
   "metadata": {},
   "outputs": [
    {
     "output_type": "execute_result",
     "data": {
      "text/plain": [
       "           공원명                                   면적   지역               공원주소  \\\n",
       "공원번호                                                                          \n",
       "1     남산도시자연공원  2896887 임야:2454140 녹지대및기타시설:442747    중구     서울 중구 삼일대로 231   \n",
       "3       길동생태공원                               80683   강동구   서울 강동구 천호대로 1291   \n",
       "4        서울대공원                             9132690   과천시  경기 과천시 대공원광장로 102   \n",
       "5          서울숲                              480994   성동구     서울 성동구 뚝섬로 273   \n",
       "6        월드컵공원                             2284085   마포구    서울 마포구 하늘공원로 84   \n",
       "\n",
       "              전화번호        lat         lng  \n",
       "공원번호                                       \n",
       "1     02-3783-5900  37.552498  126.989317  \n",
       "3      02-489-2770  37.540820  127.155420  \n",
       "4      02-500-7032  37.426932  127.019902  \n",
       "5     02-460-2905   37.544322  127.037618  \n",
       "6      02-300-5500  37.563194  126.897635  "
      ],
      "text/html": "<div>\n<style scoped>\n    .dataframe tbody tr th:only-of-type {\n        vertical-align: middle;\n    }\n\n    .dataframe tbody tr th {\n        vertical-align: top;\n    }\n\n    .dataframe thead th {\n        text-align: right;\n    }\n</style>\n<table border=\"1\" class=\"dataframe\">\n  <thead>\n    <tr style=\"text-align: right;\">\n      <th></th>\n      <th>공원명</th>\n      <th>면적</th>\n      <th>지역</th>\n      <th>공원주소</th>\n      <th>전화번호</th>\n      <th>lat</th>\n      <th>lng</th>\n    </tr>\n    <tr>\n      <th>공원번호</th>\n      <th></th>\n      <th></th>\n      <th></th>\n      <th></th>\n      <th></th>\n      <th></th>\n      <th></th>\n    </tr>\n  </thead>\n  <tbody>\n    <tr>\n      <th>1</th>\n      <td>남산도시자연공원</td>\n      <td>2896887 임야:2454140 녹지대및기타시설:442747</td>\n      <td>중구</td>\n      <td>서울 중구 삼일대로 231</td>\n      <td>02-3783-5900</td>\n      <td>37.552498</td>\n      <td>126.989317</td>\n    </tr>\n    <tr>\n      <th>3</th>\n      <td>길동생태공원</td>\n      <td>80683</td>\n      <td>강동구</td>\n      <td>서울 강동구 천호대로 1291</td>\n      <td>02-489-2770</td>\n      <td>37.540820</td>\n      <td>127.155420</td>\n    </tr>\n    <tr>\n      <th>4</th>\n      <td>서울대공원</td>\n      <td>9132690</td>\n      <td>과천시</td>\n      <td>경기 과천시 대공원광장로 102</td>\n      <td>02-500-7032</td>\n      <td>37.426932</td>\n      <td>127.019902</td>\n    </tr>\n    <tr>\n      <th>5</th>\n      <td>서울숲</td>\n      <td>480994</td>\n      <td>성동구</td>\n      <td>서울 성동구 뚝섬로 273</td>\n      <td>02-460-2905</td>\n      <td>37.544322</td>\n      <td>127.037618</td>\n    </tr>\n    <tr>\n      <th>6</th>\n      <td>월드컵공원</td>\n      <td>2284085</td>\n      <td>마포구</td>\n      <td>서울 마포구 하늘공원로 84</td>\n      <td>02-300-5500</td>\n      <td>37.563194</td>\n      <td>126.897635</td>\n    </tr>\n  </tbody>\n</table>\n</div>"
     },
     "metadata": {},
     "execution_count": 19
    }
   ],
   "source": [
    "park_seoul['면적'] = park_seoul['면적'].str.replace('㎡', ' ')\n",
    "park_seoul['면적'] = park_seoul['면적'].str.replace('m²', ' ')\n",
    "park_seoul['면적'] = park_seoul['면적'].str.replace('㎥', ' ')\n",
    "park_seoul['면적'] = park_seoul['면적'].str.replace('m2', ' ')\n",
    "park_seoul.head()"
   ]
  },
  {
   "cell_type": "code",
   "execution_count": 20,
   "metadata": {},
   "outputs": [
    {
     "output_type": "stream",
     "name": "stdout",
     "text": [
      "['2896887 임야:2454140 녹지대및기타시설:442747 ', '80683 ', '9132690 ', '480994 ', '2284085 ', '8948.1 ', '휴양및편익시설:평의자7개화장실23.18 조경시설-은하폭포(높이12m×폭10m발원지로부터17.3m폭1.5~10m수조255 담수량140t)-산성폭포(높이5m×폭12m수조90 담수량75t)-명속의벽1개소(높이5.4m)교양시설:야외공연무대102 관리시설:관리실8.55 전기실51.03 기계실83.36 안내판1개공원등18본휴양시설:벤취12개', '6456 ', '80309 배수지시설용량:201.000 송수펌프용량:직송급수계통30000 /일금호배수지계통16400 /일', '1980.4 ', '5197.7 ', '11467 ', '229539 ', '15179.7 ', '16734.60 ', '61544 녹지대:40792 광장:6600 기타:14152 ', '424106 ', '560552 ', '26696.8 ', '75900 ', '113021.7 ', '201779 ', '258991 ', '10420819.08 ', '171294.1 ', '15000 ', '297926 ', '411972 ', '98470 ', '2038741.3 ', '603715.2 ', '108120 ', '29619.3 ', '29843.8 ', '126026 ', '135002.7 ', '384026 ', '180000 ', '416031 ', '160720 ', '2277252 ', '19599.70 ', '138596 ', '185295 ', '254648 ', '29816.5 ', '762642 ', '664905 ', '99599.9 ', '5802 ', '16500 ', '585652 ', '649709.6 ', '72132 ', '66027.8 ', '265582 ', '2088704.9 ', '112070 ', '993724 ', '219167 곰두리체육센터:7370 (지하2층지상3층)송파도서관:8259 (지하1층지상4층)', '1349556.4 ', '1511198 ', '1097565 ', '328018 ', '1447122 ', '207790 ', '1018689 ', '954553 ', '1667848 ', '13224 ', '130345 ', '5332422 ', '5107964 ', '47832 ', '213552 ', '168099.87 ', '359435.2 ', '36660 ', '380735 ', '1807420.9 ', '359342.8 ', '632733 ', '328018 ', '6691885.3 ', '285757 ', '110407 ', '29682.2 ', '137759 ', '917190 ', '51470 ', '662543 ', '217946 ', '179666 ', '34955 ', '18083 ', '4835 ', '19650 ', '7000 ', '10712 ', '17182 ', '160349.3 ', '87432.4 ', '13467 ', '46871 ', '49972 ', '74385 ', '8868 ', '10634 ', '22113 ', '0', '1082847 ', '3692455 ', '386500 ', '23450 ', '2400833 ', '2752421 ', '4180551 ', '147859 ', '111650 ', '0', '519782 ', '59347 ', '25500 ', '2560 ', '32000 ', '45615 ', '631021 ', '109635 ', '140022 ', '211392 ', '157535 ', '0']\n"
     ]
    }
   ],
   "source": [
    "area_list = []\n",
    "for i in park_seoul.index:\n",
    "    area = park_seoul['면적'][i]\n",
    "    area_list.append(area)\n",
    "print(area_list)"
   ]
  },
  {
   "cell_type": "code",
   "execution_count": 21,
   "metadata": {},
   "outputs": [
    {
     "output_type": "execute_result",
     "data": {
      "text/plain": [
       "'80683'"
      ]
     },
     "metadata": {},
     "execution_count": 21
    }
   ],
   "source": [
    "area_list[1].split()[0]"
   ]
  },
  {
   "cell_type": "code",
   "execution_count": 22,
   "metadata": {},
   "outputs": [
    {
     "output_type": "stream",
     "name": "stdout",
     "text": [
      "['2896887', '80683', '9132690', '480994', '2284085', '8948.1', '휴양및편익시설:평의자7개화장실23.18', '6456', '80309', '1980.4', '5197.7', '11467', '229539', '15179.7', '16734.60', '61544', '424106', '560552', '26696.8', '75900', '113021.7', '201779', '258991', '10420819.08', '171294.1', '15000', '297926', '411972', '98470', '2038741.3', '603715.2', '108120', '29619.3', '29843.8', '126026', '135002.7', '384026', '180000', '416031', '160720', '2277252', '19599.70', '138596', '185295', '254648', '29816.5', '762642', '664905', '99599.9', '5802', '16500', '585652', '649709.6', '72132', '66027.8', '265582', '2088704.9', '112070', '993724', '219167', '1349556.4', '1511198', '1097565', '328018', '1447122', '207790', '1018689', '954553', '1667848', '13224', '130345', '5332422', '5107964', '47832', '213552', '168099.87', '359435.2', '36660', '380735', '1807420.9', '359342.8', '632733', '328018', '6691885.3', '285757', '110407', '29682.2', '137759', '917190', '51470', '662543', '217946', '179666', '34955', '18083', '4835', '19650', '7000', '10712', '17182', '160349.3', '87432.4', '13467', '46871', '49972', '74385', '8868', '10634', '22113', '0', '1082847', '3692455', '386500', '23450', '2400833', '2752421', '4180551', '147859', '111650', '0', '519782', '59347', '25500', '2560', '32000', '45615', '631021', '109635', '140022', '211392', '157535', '0']\n"
     ]
    }
   ],
   "source": [
    "n_area_list = []\n",
    "for i in range(len(area_list)):\n",
    "    n_area_list.append(area_list[i].split()[0])\n",
    "print(n_area_list)"
   ]
  },
  {
   "cell_type": "code",
   "execution_count": 23,
   "metadata": {},
   "outputs": [
    {
     "output_type": "stream",
     "name": "stdout",
     "text": [
      "['2896887', '80683', '9132690', '480994', '2284085', '8948.1', '0', '6456', '80309', '1980.4', '5197.7', '11467', '229539', '15179.7', '16734.60', '61544', '424106', '560552', '26696.8', '75900', '113021.7', '201779', '258991', '10420819.08', '171294.1', '15000', '297926', '411972', '98470', '2038741.3', '603715.2', '108120', '29619.3', '29843.8', '126026', '135002.7', '384026', '180000', '416031', '160720', '2277252', '19599.70', '138596', '185295', '254648', '29816.5', '762642', '664905', '99599.9', '5802', '16500', '585652', '649709.6', '72132', '66027.8', '265582', '2088704.9', '112070', '993724', '219167', '1349556.4', '1511198', '1097565', '328018', '1447122', '207790', '1018689', '954553', '1667848', '13224', '130345', '5332422', '5107964', '47832', '213552', '168099.87', '359435.2', '36660', '380735', '1807420.9', '359342.8', '632733', '328018', '6691885.3', '285757', '110407', '29682.2', '137759', '917190', '51470', '662543', '217946', '179666', '34955', '18083', '4835', '19650', '7000', '10712', '17182', '160349.3', '87432.4', '13467', '46871', '49972', '74385', '8868', '10634', '22113', '0', '1082847', '3692455', '386500', '23450', '2400833', '2752421', '4180551', '147859', '111650', '0', '519782', '59347', '25500', '2560', '32000', '45615', '631021', '109635', '140022', '211392', '157535', '0']\n"
     ]
    }
   ],
   "source": [
    "n2_area_list=[]\n",
    "for n in range(len(n_area_list)):\n",
    "    if len(n_area_list[n]) > 15:\n",
    "        n2_area_list.append('0')\n",
    "    else:\n",
    "        n2_area_list.append(n_area_list[n])\n",
    "print(n2_area_list)"
   ]
  },
  {
   "cell_type": "code",
   "execution_count": 24,
   "metadata": {},
   "outputs": [
    {
     "output_type": "execute_result",
     "data": {
      "text/plain": [
       "           공원명       면적   지역               공원주소          전화번호        lat  \\\n",
       "공원번호                                                                       \n",
       "1     남산도시자연공원  2896887   중구     서울 중구 삼일대로 231  02-3783-5900  37.552498   \n",
       "3       길동생태공원    80683  강동구   서울 강동구 천호대로 1291   02-489-2770  37.540820   \n",
       "4        서울대공원  9132690  과천시  경기 과천시 대공원광장로 102   02-500-7032  37.426932   \n",
       "5          서울숲   480994  성동구     서울 성동구 뚝섬로 273  02-460-2905   37.544322   \n",
       "6        월드컵공원  2284085  마포구    서울 마포구 하늘공원로 84   02-300-5500  37.563194   \n",
       "\n",
       "             lng  \n",
       "공원번호              \n",
       "1     126.989317  \n",
       "3     127.155420  \n",
       "4     127.019902  \n",
       "5     127.037618  \n",
       "6     126.897635  "
      ],
      "text/html": "<div>\n<style scoped>\n    .dataframe tbody tr th:only-of-type {\n        vertical-align: middle;\n    }\n\n    .dataframe tbody tr th {\n        vertical-align: top;\n    }\n\n    .dataframe thead th {\n        text-align: right;\n    }\n</style>\n<table border=\"1\" class=\"dataframe\">\n  <thead>\n    <tr style=\"text-align: right;\">\n      <th></th>\n      <th>공원명</th>\n      <th>면적</th>\n      <th>지역</th>\n      <th>공원주소</th>\n      <th>전화번호</th>\n      <th>lat</th>\n      <th>lng</th>\n    </tr>\n    <tr>\n      <th>공원번호</th>\n      <th></th>\n      <th></th>\n      <th></th>\n      <th></th>\n      <th></th>\n      <th></th>\n      <th></th>\n    </tr>\n  </thead>\n  <tbody>\n    <tr>\n      <th>1</th>\n      <td>남산도시자연공원</td>\n      <td>2896887</td>\n      <td>중구</td>\n      <td>서울 중구 삼일대로 231</td>\n      <td>02-3783-5900</td>\n      <td>37.552498</td>\n      <td>126.989317</td>\n    </tr>\n    <tr>\n      <th>3</th>\n      <td>길동생태공원</td>\n      <td>80683</td>\n      <td>강동구</td>\n      <td>서울 강동구 천호대로 1291</td>\n      <td>02-489-2770</td>\n      <td>37.540820</td>\n      <td>127.155420</td>\n    </tr>\n    <tr>\n      <th>4</th>\n      <td>서울대공원</td>\n      <td>9132690</td>\n      <td>과천시</td>\n      <td>경기 과천시 대공원광장로 102</td>\n      <td>02-500-7032</td>\n      <td>37.426932</td>\n      <td>127.019902</td>\n    </tr>\n    <tr>\n      <th>5</th>\n      <td>서울숲</td>\n      <td>480994</td>\n      <td>성동구</td>\n      <td>서울 성동구 뚝섬로 273</td>\n      <td>02-460-2905</td>\n      <td>37.544322</td>\n      <td>127.037618</td>\n    </tr>\n    <tr>\n      <th>6</th>\n      <td>월드컵공원</td>\n      <td>2284085</td>\n      <td>마포구</td>\n      <td>서울 마포구 하늘공원로 84</td>\n      <td>02-300-5500</td>\n      <td>37.563194</td>\n      <td>126.897635</td>\n    </tr>\n  </tbody>\n</table>\n</div>"
     },
     "metadata": {},
     "execution_count": 24
    }
   ],
   "source": [
    "park_seoul['면적'] = n2_area_list\n",
    "park_seoul.head()"
   ]
  },
  {
   "cell_type": "code",
   "execution_count": 27,
   "metadata": {},
   "outputs": [
    {
     "output_type": "stream",
     "name": "stdout",
     "text": [
      "<class 'pandas.core.frame.DataFrame'>\nInt64Index: 132 entries, 1 to 1382\nData columns (total 7 columns):\n #   Column  Non-Null Count  Dtype  \n---  ------  --------------  -----  \n 0   공원명     132 non-null    object \n 1   면적      132 non-null    float64\n 2   지역      132 non-null    object \n 3   공원주소    132 non-null    object \n 4   전화번호    132 non-null    object \n 5   lat     132 non-null    float64\n 6   lng     132 non-null    float64\ndtypes: float64(3), object(4)\nmemory usage: 8.2+ KB\n"
     ]
    }
   ],
   "source": [
    "park_seoul = park_seoul.astype({'면적':'float'})\n",
    "park_seoul.info()"
   ]
  },
  {
   "source": [
    "#### 1. 지역별 공원수"
   ],
   "cell_type": "markdown",
   "metadata": {}
  },
  {
   "cell_type": "code",
   "execution_count": 48,
   "metadata": {},
   "outputs": [
    {
     "output_type": "execute_result",
     "data": {
      "text/plain": [
       "     공원명  면적  공원주소  전화번호  lat  lng\n",
       "지역                                \n",
       "강남구    7   7     7     7    7    7\n",
       "강동구    7   7     7     7    7    7\n",
       "강북구    3   3     3     3    3    3\n",
       "강서구    9   9     9     9    9    9\n",
       "고양시    1   1     1     1    1    1"
      ],
      "text/html": "<div>\n<style scoped>\n    .dataframe tbody tr th:only-of-type {\n        vertical-align: middle;\n    }\n\n    .dataframe tbody tr th {\n        vertical-align: top;\n    }\n\n    .dataframe thead th {\n        text-align: right;\n    }\n</style>\n<table border=\"1\" class=\"dataframe\">\n  <thead>\n    <tr style=\"text-align: right;\">\n      <th></th>\n      <th>공원명</th>\n      <th>면적</th>\n      <th>공원주소</th>\n      <th>전화번호</th>\n      <th>lat</th>\n      <th>lng</th>\n    </tr>\n    <tr>\n      <th>지역</th>\n      <th></th>\n      <th></th>\n      <th></th>\n      <th></th>\n      <th></th>\n      <th></th>\n    </tr>\n  </thead>\n  <tbody>\n    <tr>\n      <th>강남구</th>\n      <td>7</td>\n      <td>7</td>\n      <td>7</td>\n      <td>7</td>\n      <td>7</td>\n      <td>7</td>\n    </tr>\n    <tr>\n      <th>강동구</th>\n      <td>7</td>\n      <td>7</td>\n      <td>7</td>\n      <td>7</td>\n      <td>7</td>\n      <td>7</td>\n    </tr>\n    <tr>\n      <th>강북구</th>\n      <td>3</td>\n      <td>3</td>\n      <td>3</td>\n      <td>3</td>\n      <td>3</td>\n      <td>3</td>\n    </tr>\n    <tr>\n      <th>강서구</th>\n      <td>9</td>\n      <td>9</td>\n      <td>9</td>\n      <td>9</td>\n      <td>9</td>\n      <td>9</td>\n    </tr>\n    <tr>\n      <th>고양시</th>\n      <td>1</td>\n      <td>1</td>\n      <td>1</td>\n      <td>1</td>\n      <td>1</td>\n      <td>1</td>\n    </tr>\n  </tbody>\n</table>\n</div>"
     },
     "metadata": {},
     "execution_count": 48
    }
   ],
   "source": [
    "num_one = park_seoul.groupby(park_seoul['지역']).count()\n",
    "num_one.head()"
   ]
  },
  {
   "cell_type": "code",
   "execution_count": 47,
   "metadata": {},
   "outputs": [
    {
     "output_type": "display_data",
     "data": {
      "text/plain": "<Figure size 1080x720 with 1 Axes>",
      "image/svg+xml": "<?xml version=\"1.0\" encoding=\"utf-8\" standalone=\"no\"?>\r\n<!DOCTYPE svg PUBLIC \"-//W3C//DTD SVG 1.1//EN\"\r\n  \"http://www.w3.org/Graphics/SVG/1.1/DTD/svg11.dtd\">\r\n<!-- Created with matplotlib (https://matplotlib.org/) -->\r\n<svg height=\"578.451875pt\" version=\"1.1\" viewBox=\"0 0 920.8475 578.451875\" width=\"920.8475pt\" xmlns=\"http://www.w3.org/2000/svg\" xmlns:xlink=\"http://www.w3.org/1999/xlink\">\r\n <defs>\r\n  <style type=\"text/css\">\r\n*{stroke-linecap:butt;stroke-linejoin:round;}\r\n  </style>\r\n </defs>\r\n <g id=\"figure_1\">\r\n  <g id=\"patch_1\">\r\n   <path d=\"M 0 578.451875 \r\nL 920.8475 578.451875 \r\nL 920.8475 0 \r\nL 0 0 \r\nz\r\n\" style=\"fill:#ffffff;\"/>\r\n  </g>\r\n  <g id=\"axes_1\">\r\n   <g id=\"patch_2\">\r\n    <path d=\"M 76.6475 550.8 \r\nL 913.6475 550.8 \r\nL 913.6475 7.2 \r\nL 76.6475 7.2 \r\nz\r\n\" style=\"fill:#eaeaf2;\"/>\r\n   </g>\r\n   <g id=\"matplotlib.axis_1\">\r\n    <g id=\"xtick_1\">\r\n     <g id=\"line2d_1\">\r\n      <path clip-path=\"url(#p4ca67dab75)\" d=\"M 76.6475 550.8 \r\nL 76.6475 7.2 \r\n\" style=\"fill:none;stroke:#ffffff;stroke-linecap:round;\"/>\r\n     </g>\r\n     <g id=\"text_1\">\r\n      <!-- 0 -->\r\n      <defs>\r\n       <path d=\"M 4.34375 34.46875 \r\nQ 4.34375 53.515625 10.546875 63.28125 \r\nQ 16.75 73.046875 28.421875 73.046875 \r\nQ 50.828125 73.046875 50.828125 36.234375 \r\nQ 50.828125 18.0625 44.59375 8.421875 \r\nQ 38.375 -1.21875 26.8125 -1.21875 \r\nQ 15.875 -1.21875 10.109375 8.125 \r\nQ 4.34375 17.484375 4.34375 34.46875 \r\nz\r\nM 12.25 34.859375 \r\nQ 12.25 5.375 27.640625 5.375 \r\nQ 42.921875 5.375 42.921875 35.296875 \r\nQ 42.921875 66.40625 28.03125 66.40625 \r\nQ 12.25 66.40625 12.25 34.859375 \r\nz\r\n\" id=\"MalgunGothic-48\"/>\r\n      </defs>\r\n      <g style=\"fill:#262626;\" transform=\"translate(73.618203 568.651406)scale(0.11 -0.11)\">\r\n       <use xlink:href=\"#MalgunGothic-48\"/>\r\n      </g>\r\n     </g>\r\n    </g>\r\n    <g id=\"xtick_2\">\r\n     <g id=\"line2d_2\">\r\n      <path clip-path=\"url(#p4ca67dab75)\" d=\"M 209.504643 550.8 \r\nL 209.504643 7.2 \r\n\" style=\"fill:none;stroke:#ffffff;stroke-linecap:round;\"/>\r\n     </g>\r\n     <g id=\"text_2\">\r\n      <!-- 2 -->\r\n      <defs>\r\n       <path d=\"M 39.359375 52.6875 \r\nQ 39.359375 59.125 35.546875 62.78125 \r\nQ 31.734375 66.453125 25.4375 66.453125 \r\nQ 20.953125 66.453125 16.453125 64.125 \r\nQ 11.96875 61.8125 8.34375 57.765625 \r\nL 8.34375 66.15625 \r\nQ 15.328125 73.046875 26.421875 73.046875 \r\nQ 35.640625 73.046875 41.28125 67.71875 \r\nQ 46.921875 62.40625 46.921875 53.375 \r\nQ 46.921875 45.609375 43.3125 39.765625 \r\nQ 39.703125 33.9375 31 27.734375 \r\nQ 22.796875 21.96875 19.59375 18.984375 \r\nQ 16.40625 16.015625 15.109375 13.34375 \r\nQ 13.8125 10.6875 13.8125 7.03125 \r\nL 48.6875 7.03125 \r\nL 48.6875 0 \r\nL 5.5625 0 \r\nL 5.5625 3.515625 \r\nQ 5.5625 9.421875 7.203125 13.59375 \r\nQ 8.84375 17.78125 12.671875 21.75 \r\nQ 16.5 25.734375 24.953125 31.59375 \r\nQ 32.671875 36.921875 36.015625 41.71875 \r\nQ 39.359375 46.53125 39.359375 52.6875 \r\nz\r\n\" id=\"MalgunGothic-50\"/>\r\n      </defs>\r\n      <g style=\"fill:#262626;\" transform=\"translate(206.475346 568.651406)scale(0.11 -0.11)\">\r\n       <use xlink:href=\"#MalgunGothic-50\"/>\r\n      </g>\r\n     </g>\r\n    </g>\r\n    <g id=\"xtick_3\">\r\n     <g id=\"line2d_3\">\r\n      <path clip-path=\"url(#p4ca67dab75)\" d=\"M 342.361786 550.8 \r\nL 342.361786 7.2 \r\n\" style=\"fill:none;stroke:#ffffff;stroke-linecap:round;\"/>\r\n     </g>\r\n     <g id=\"text_3\">\r\n      <!-- 4 -->\r\n      <defs>\r\n       <path d=\"M 42.234375 71.875 \r\nL 42.234375 24.421875 \r\nL 51.703125 24.421875 \r\nL 51.703125 17.390625 \r\nL 42.234375 17.390625 \r\nL 42.234375 0 \r\nL 34.578125 0 \r\nL 34.578125 17.390625 \r\nL 0.78125 17.390625 \r\nL 0.78125 23.96875 \r\nQ 11.375 35.890625 20.234375 48.578125 \r\nQ 29.109375 61.28125 33.9375 71.875 \r\nz\r\nM 9.765625 24.421875 \r\nL 34.578125 24.421875 \r\nL 34.578125 59.859375 \r\nQ 25.203125 43.5625 14.984375 30.953125 \r\nz\r\n\" id=\"MalgunGothic-52\"/>\r\n      </defs>\r\n      <g style=\"fill:#262626;\" transform=\"translate(339.332489 568.651406)scale(0.11 -0.11)\">\r\n       <use xlink:href=\"#MalgunGothic-52\"/>\r\n      </g>\r\n     </g>\r\n    </g>\r\n    <g id=\"xtick_4\">\r\n     <g id=\"line2d_4\">\r\n      <path clip-path=\"url(#p4ca67dab75)\" d=\"M 475.218929 550.8 \r\nL 475.218929 7.2 \r\n\" style=\"fill:none;stroke:#ffffff;stroke-linecap:round;\"/>\r\n     </g>\r\n     <g id=\"text_4\">\r\n      <!-- 6 -->\r\n      <defs>\r\n       <path d=\"M 46.578125 63.578125 \r\nQ 40.921875 66.40625 34.8125 66.40625 \r\nQ 24.859375 66.40625 19.1875 57.640625 \r\nQ 13.53125 48.875 13.578125 34.578125 \r\nL 13.8125 34.578125 \r\nQ 18.796875 44.875 30.28125 44.875 \r\nQ 39.796875 44.875 45.359375 38.71875 \r\nQ 50.921875 32.5625 50.921875 22.65625 \r\nQ 50.921875 12.453125 44.640625 5.609375 \r\nQ 38.375 -1.21875 28.515625 -1.21875 \r\nQ 17.4375 -1.21875 11.5 7.46875 \r\nQ 5.5625 16.15625 5.5625 31.546875 \r\nQ 5.5625 49.703125 13.234375 61.375 \r\nQ 20.90625 73.046875 34.71875 73.046875 \r\nQ 42.1875 73.046875 46.578125 71 \r\nz\r\nM 14.15625 23.53125 \r\nQ 14.15625 15.96875 18.203125 10.671875 \r\nQ 22.265625 5.375 28.8125 5.375 \r\nQ 35.109375 5.375 39.03125 10.078125 \r\nQ 42.96875 14.796875 42.96875 21.6875 \r\nQ 42.96875 29.5 39.203125 33.859375 \r\nQ 35.453125 38.234375 28.71875 38.234375 \r\nQ 22.5625 38.234375 18.359375 33.953125 \r\nQ 14.15625 29.6875 14.15625 23.53125 \r\nz\r\n\" id=\"MalgunGothic-54\"/>\r\n      </defs>\r\n      <g style=\"fill:#262626;\" transform=\"translate(472.189632 568.651406)scale(0.11 -0.11)\">\r\n       <use xlink:href=\"#MalgunGothic-54\"/>\r\n      </g>\r\n     </g>\r\n    </g>\r\n    <g id=\"xtick_5\">\r\n     <g id=\"line2d_5\">\r\n      <path clip-path=\"url(#p4ca67dab75)\" d=\"M 608.076071 550.8 \r\nL 608.076071 7.2 \r\n\" style=\"fill:none;stroke:#ffffff;stroke-linecap:round;\"/>\r\n     </g>\r\n     <g id=\"text_5\">\r\n      <!-- 8 -->\r\n      <defs>\r\n       <path d=\"M 4.734375 20.015625 \r\nQ 4.734375 26.078125 8.421875 31.421875 \r\nQ 12.109375 36.765625 18.015625 38.96875 \r\nQ 13.375 41.359375 10.546875 45.546875 \r\nQ 7.71875 49.75 7.71875 54.6875 \r\nQ 7.71875 59.8125 10.296875 64.03125 \r\nQ 12.890625 68.265625 17.53125 70.65625 \r\nQ 22.171875 73.046875 27.78125 73.046875 \r\nQ 36.46875 73.046875 42.1875 67.84375 \r\nQ 47.90625 62.640625 47.90625 54.6875 \r\nQ 47.90625 49.703125 45.015625 45.53125 \r\nQ 42.140625 41.359375 37.703125 38.96875 \r\nQ 43.5625 36.71875 47.21875 31.390625 \r\nQ 50.875 26.078125 50.875 20.015625 \r\nQ 50.875 10.5 44.421875 4.640625 \r\nQ 37.984375 -1.21875 27.78125 -1.21875 \r\nQ 17.671875 -1.21875 11.203125 4.703125 \r\nQ 4.734375 10.640625 4.734375 20.015625 \r\nz\r\nM 12.640625 20.75 \r\nQ 12.640625 13.71875 16.890625 9.546875 \r\nQ 21.140625 5.375 27.828125 5.375 \r\nQ 34.46875 5.375 38.78125 9.671875 \r\nQ 43.109375 13.96875 43.109375 20.75 \r\nQ 43.109375 27.046875 38.78125 31.421875 \r\nQ 34.46875 35.796875 27.828125 35.796875 \r\nQ 21.4375 35.796875 17.03125 31.5625 \r\nQ 12.640625 27.34375 12.640625 20.75 \r\nz\r\nM 15.671875 54.046875 \r\nQ 15.671875 48.828125 19.28125 45.3125 \r\nQ 22.90625 41.796875 27.828125 41.796875 \r\nQ 32.765625 41.796875 36.40625 45.3125 \r\nQ 40.046875 48.828125 40.046875 54.046875 \r\nQ 40.046875 59.421875 36.578125 62.90625 \r\nQ 33.109375 66.40625 27.828125 66.40625 \r\nQ 22.65625 66.40625 19.15625 62.953125 \r\nQ 15.671875 59.515625 15.671875 54.046875 \r\nz\r\n\" id=\"MalgunGothic-56\"/>\r\n      </defs>\r\n      <g style=\"fill:#262626;\" transform=\"translate(605.046775 568.651406)scale(0.11 -0.11)\">\r\n       <use xlink:href=\"#MalgunGothic-56\"/>\r\n      </g>\r\n     </g>\r\n    </g>\r\n    <g id=\"xtick_6\">\r\n     <g id=\"line2d_6\">\r\n      <path clip-path=\"url(#p4ca67dab75)\" d=\"M 740.933214 550.8 \r\nL 740.933214 7.2 \r\n\" style=\"fill:none;stroke:#ffffff;stroke-linecap:round;\"/>\r\n     </g>\r\n     <g id=\"text_6\">\r\n      <!-- 10 -->\r\n      <defs>\r\n       <path d=\"M 34.859375 0 \r\nL 27.09375 0 \r\nL 27.09375 62.0625 \r\nQ 24.859375 59.8125 19.78125 57.203125 \r\nQ 14.703125 54.59375 10.5 53.5625 \r\nL 10.5 61.859375 \r\nQ 15.875 63.375 22.015625 66.796875 \r\nQ 28.171875 70.21875 31.734375 73.4375 \r\nL 34.859375 73.4375 \r\nz\r\n\" id=\"MalgunGothic-49\"/>\r\n      </defs>\r\n      <g style=\"fill:#262626;\" transform=\"translate(734.874621 568.651406)scale(0.11 -0.11)\">\r\n       <use xlink:href=\"#MalgunGothic-49\"/>\r\n       <use x=\"55.078125\" xlink:href=\"#MalgunGothic-48\"/>\r\n      </g>\r\n     </g>\r\n    </g>\r\n    <g id=\"xtick_7\">\r\n     <g id=\"line2d_7\">\r\n      <path clip-path=\"url(#p4ca67dab75)\" d=\"M 873.790357 550.8 \r\nL 873.790357 7.2 \r\n\" style=\"fill:none;stroke:#ffffff;stroke-linecap:round;\"/>\r\n     </g>\r\n     <g id=\"text_7\">\r\n      <!-- 12 -->\r\n      <g style=\"fill:#262626;\" transform=\"translate(867.731763 568.651406)scale(0.11 -0.11)\">\r\n       <use xlink:href=\"#MalgunGothic-49\"/>\r\n       <use x=\"55.078125\" xlink:href=\"#MalgunGothic-50\"/>\r\n      </g>\r\n     </g>\r\n    </g>\r\n   </g>\r\n   <g id=\"matplotlib.axis_2\">\r\n    <g id=\"ytick_1\">\r\n     <g id=\"line2d_8\">\r\n      <path clip-path=\"url(#p4ca67dab75)\" d=\"M 76.6475 541.092857 \r\nL 913.6475 541.092857 \r\n\" style=\"fill:none;stroke:#ffffff;stroke-linecap:round;\"/>\r\n     </g>\r\n     <g id=\"text_8\">\r\n      <!-- 강남구 -->\r\n      <defs>\r\n       <path d=\"M 80.078125 52.6875 \r\nL 80.078125 31.390625 \r\nL 72.796875 31.390625 \r\nL 72.796875 85.40625 \r\nL 80.078125 85.40625 \r\nL 80.078125 59.515625 \r\nL 94.28125 59.515625 \r\nL 94.28125 52.6875 \r\nz\r\nM 54.890625 79.890625 \r\nQ 53.078125 60.15625 39.859375 47.484375 \r\nQ 26.65625 34.8125 12.40625 29.203125 \r\nL 7.171875 35.109375 \r\nQ 21.6875 39.703125 32.9375 50.390625 \r\nQ 44.1875 61.078125 46.296875 73.390625 \r\nL 12.984375 73.390625 \r\nL 12.984375 79.890625 \r\nz\r\nM 50.984375 -7.078125 \r\nQ 36.328125 -7.078125 28.21875 -2 \r\nQ 20.125 3.078125 20.125 11.1875 \r\nQ 20.125 19.234375 28.171875 24.3125 \r\nQ 36.234375 29.390625 50.984375 29.390625 \r\nQ 65.875 29.390625 73.921875 24.328125 \r\nQ 81.984375 19.28125 81.984375 11.1875 \r\nQ 81.984375 3.078125 73.84375 -2 \r\nQ 65.71875 -7.078125 50.984375 -7.078125 \r\nz\r\nM 50.984375 23.09375 \r\nQ 39.984375 23.09375 33.875 19.765625 \r\nQ 27.78125 16.453125 27.78125 11.1875 \r\nQ 27.78125 5.90625 33.78125 2.5625 \r\nQ 39.796875 -0.78125 50.984375 -0.78125 \r\nQ 62.203125 -0.78125 68.203125 2.5625 \r\nQ 74.21875 5.90625 74.21875 11.1875 \r\nQ 74.21875 16.453125 68.109375 19.765625 \r\nQ 62.015625 23.09375 50.984375 23.09375 \r\nz\r\n\" id=\"MalgunGothic-44053\"/>\r\n       <path d=\"M 80.078125 55.90625 \r\nL 80.078125 33.109375 \r\nL 72.796875 33.109375 \r\nL 72.796875 85.40625 \r\nL 80.078125 85.40625 \r\nL 80.078125 62.5 \r\nL 94.28125 62.5 \r\nL 94.28125 55.90625 \r\nz\r\nM 66.609375 44.28125 \r\nQ 58.453125 42.09375 14.3125 42.09375 \r\nL 14.3125 81.59375 \r\nL 21.578125 81.59375 \r\nL 21.578125 48.578125 \r\nL 28.03125 48.578125 \r\nQ 55.515625 48.578125 65.71875 50.59375 \r\nz\r\nM 22.90625 -6.59375 \r\nL 22.90625 27.875 \r\nL 80.078125 27.875 \r\nL 80.078125 -6.59375 \r\nz\r\nM 72.90625 21.390625 \r\nL 30.078125 21.390625 \r\nL 30.078125 -0.09375 \r\nL 72.90625 -0.09375 \r\nz\r\n\" id=\"MalgunGothic-45224\"/>\r\n       <path d=\"M 45.515625 -8.796875 \r\nL 45.515625 34.8125 \r\nL 6.296875 34.8125 \r\nL 6.296875 41.40625 \r\nL 71.78125 41.40625 \r\nQ 72.90625 52.984375 72.90625 74.8125 \r\nL 20.515625 74.8125 \r\nL 20.515625 81.296875 \r\nL 80.171875 81.296875 \r\nQ 80.171875 57.125 78.8125 41.40625 \r\nL 93.703125 41.40625 \r\nL 93.703125 34.8125 \r\nL 52.78125 34.8125 \r\nL 52.78125 -8.796875 \r\nz\r\n\" id=\"MalgunGothic-44396\"/>\r\n      </defs>\r\n      <g style=\"fill:#262626;\" transform=\"translate(34.1475 545.26856)scale(0.11 -0.11)\">\r\n       <use xlink:href=\"#MalgunGothic-44053\"/>\r\n       <use x=\"100\" xlink:href=\"#MalgunGothic-45224\"/>\r\n       <use x=\"200\" xlink:href=\"#MalgunGothic-44396\"/>\r\n      </g>\r\n     </g>\r\n    </g>\r\n    <g id=\"ytick_2\">\r\n     <g id=\"line2d_9\">\r\n      <path clip-path=\"url(#p4ca67dab75)\" d=\"M 76.6475 521.678571 \r\nL 913.6475 521.678571 \r\n\" style=\"fill:none;stroke:#ffffff;stroke-linecap:round;\"/>\r\n     </g>\r\n     <g id=\"text_9\">\r\n      <!-- 강동구 -->\r\n      <defs>\r\n       <path d=\"M 6.296875 33.109375 \r\nL 6.296875 39.59375 \r\nL 46.296875 39.59375 \r\nL 46.296875 51.8125 \r\nL 20.90625 51.8125 \r\nL 20.90625 83.203125 \r\nL 79.390625 83.203125 \r\nL 79.390625 76.703125 \r\nL 28.328125 76.703125 \r\nL 28.328125 58.296875 \r\nL 80.515625 58.296875 \r\nL 80.515625 51.8125 \r\nL 53.71875 51.8125 \r\nL 53.71875 39.59375 \r\nL 93.703125 39.59375 \r\nL 93.703125 33.109375 \r\nz\r\nM 50 -8.015625 \r\nQ 35.109375 -8.015625 27.1875 -3.296875 \r\nQ 19.28125 1.421875 19.28125 9.421875 \r\nQ 19.28125 17.4375 27.21875 22.125 \r\nQ 35.15625 26.8125 50 26.8125 \r\nQ 64.84375 26.8125 72.78125 22.125 \r\nQ 80.71875 17.4375 80.71875 9.421875 \r\nQ 80.71875 1.421875 72.796875 -3.296875 \r\nQ 64.890625 -8.015625 50 -8.015625 \r\nz\r\nM 50 20.609375 \r\nQ 38.71875 20.609375 32.859375 17.59375 \r\nQ 27 14.59375 27 9.421875 \r\nQ 27 4.25 32.875 1.21875 \r\nQ 38.765625 -1.8125 50 -1.8125 \r\nQ 61.234375 -1.8125 67.109375 1.21875 \r\nQ 73 4.25 73 9.421875 \r\nQ 73 14.59375 67.109375 17.59375 \r\nQ 61.234375 20.609375 50 20.609375 \r\nz\r\n\" id=\"MalgunGothic-46041\"/>\r\n      </defs>\r\n      <g style=\"fill:#262626;\" transform=\"translate(34.1475 525.854275)scale(0.11 -0.11)\">\r\n       <use xlink:href=\"#MalgunGothic-44053\"/>\r\n       <use x=\"100\" xlink:href=\"#MalgunGothic-46041\"/>\r\n       <use x=\"200\" xlink:href=\"#MalgunGothic-44396\"/>\r\n      </g>\r\n     </g>\r\n    </g>\r\n    <g id=\"ytick_3\">\r\n     <g id=\"line2d_10\">\r\n      <path clip-path=\"url(#p4ca67dab75)\" d=\"M 76.6475 502.264286 \r\nL 913.6475 502.264286 \r\n\" style=\"fill:none;stroke:#ffffff;stroke-linecap:round;\"/>\r\n     </g>\r\n     <g id=\"text_10\">\r\n      <!-- 강북구 -->\r\n      <defs>\r\n       <path d=\"M 20.90625 49.609375 \r\nL 20.90625 83.890625 \r\nL 28.21875 83.890625 \r\nL 28.21875 72.515625 \r\nL 71.78125 72.515625 \r\nL 71.78125 83.890625 \r\nL 79 83.890625 \r\nL 79 49.609375 \r\nz\r\nM 71.78125 66.015625 \r\nL 28.21875 66.015625 \r\nL 28.21875 56 \r\nL 71.78125 56 \r\nz\r\nM 72.21875 -8.796875 \r\nL 72.21875 15.828125 \r\nL 18.890625 15.828125 \r\nL 18.890625 22.3125 \r\nL 46.296875 22.3125 \r\nL 46.296875 33.59375 \r\nL 6.296875 33.59375 \r\nL 6.296875 40.1875 \r\nL 93.703125 40.1875 \r\nL 93.703125 33.59375 \r\nL 53.71875 33.59375 \r\nL 53.71875 22.3125 \r\nL 79.5 22.3125 \r\nL 79.5 -8.796875 \r\nz\r\n\" id=\"MalgunGothic-48513\"/>\r\n      </defs>\r\n      <g style=\"fill:#262626;\" transform=\"translate(34.1475 506.439989)scale(0.11 -0.11)\">\r\n       <use xlink:href=\"#MalgunGothic-44053\"/>\r\n       <use x=\"100\" xlink:href=\"#MalgunGothic-48513\"/>\r\n       <use x=\"200\" xlink:href=\"#MalgunGothic-44396\"/>\r\n      </g>\r\n     </g>\r\n    </g>\r\n    <g id=\"ytick_4\">\r\n     <g id=\"line2d_11\">\r\n      <path clip-path=\"url(#p4ca67dab75)\" d=\"M 76.6475 482.85 \r\nL 913.6475 482.85 \r\n\" style=\"fill:none;stroke:#ffffff;stroke-linecap:round;\"/>\r\n     </g>\r\n     <g id=\"text_11\">\r\n      <!-- 강서구 -->\r\n      <defs>\r\n       <path d=\"M 77.296875 -8.796875 \r\nL 77.296875 48 \r\nL 55.328125 48 \r\nL 55.328125 54.5 \r\nL 77.296875 54.5 \r\nL 77.296875 85.40625 \r\nL 84.625 85.40625 \r\nL 84.625 -8.796875 \r\nz\r\nM 58.984375 15.09375 \r\nQ 51.078125 21.140625 44.15625 30.296875 \r\nQ 37.25 39.453125 35.40625 46.09375 \r\nQ 33.15625 38.484375 26.46875 29.25 \r\nQ 19.78125 20.015625 11.921875 13.921875 \r\nL 6.296875 18.796875 \r\nQ 17.921875 26.609375 24.796875 38.734375 \r\nQ 31.6875 50.875 31.6875 63.484375 \r\nL 31.6875 78.90625 \r\nL 38.921875 78.90625 \r\nL 38.921875 63.8125 \r\nQ 38.921875 51.609375 45.734375 39.9375 \r\nQ 52.546875 28.265625 64.109375 20.796875 \r\nz\r\n\" id=\"MalgunGothic-49436\"/>\r\n      </defs>\r\n      <g style=\"fill:#262626;\" transform=\"translate(34.1475 487.025703)scale(0.11 -0.11)\">\r\n       <use xlink:href=\"#MalgunGothic-44053\"/>\r\n       <use x=\"100\" xlink:href=\"#MalgunGothic-49436\"/>\r\n       <use x=\"200\" xlink:href=\"#MalgunGothic-44396\"/>\r\n      </g>\r\n     </g>\r\n    </g>\r\n    <g id=\"ytick_5\">\r\n     <g id=\"line2d_12\">\r\n      <path clip-path=\"url(#p4ca67dab75)\" d=\"M 76.6475 463.435714 \r\nL 913.6475 463.435714 \r\n\" style=\"fill:none;stroke:#ffffff;stroke-linecap:round;\"/>\r\n     </g>\r\n     <g id=\"text_12\">\r\n      <!-- 고양시 -->\r\n      <defs>\r\n       <path d=\"M 77.484375 25.875 \r\nL 70.40625 26.515625 \r\nQ 72.125 42.09375 72.125 55.21875 \r\nL 72.125 69.921875 \r\nL 19 69.921875 \r\nL 19 76.515625 \r\nL 79.390625 76.515625 \r\nL 79.390625 55.078125 \r\nQ 79.390625 40.828125 77.484375 25.875 \r\nz\r\nM 6.296875 8.015625 \r\nL 6.296875 14.59375 \r\nL 41.015625 14.59375 \r\nL 41.015625 45.3125 \r\nL 48.296875 45.3125 \r\nL 48.296875 14.59375 \r\nL 93.703125 14.59375 \r\nL 93.703125 8.015625 \r\nz\r\n\" id=\"MalgunGothic-44256\"/>\r\n       <path d=\"M 80.078125 43.890625 \r\nL 80.078125 31 \r\nL 72.796875 31 \r\nL 72.796875 85.40625 \r\nL 80.078125 85.40625 \r\nL 80.078125 71.390625 \r\nL 94.28125 71.390625 \r\nL 94.28125 64.984375 \r\nL 80.078125 64.984375 \r\nL 80.078125 50.296875 \r\nL 94.28125 50.296875 \r\nL 94.28125 43.890625 \r\nz\r\nM 33.59375 37.5 \r\nQ 23.046875 37.5 16.375 43.921875 \r\nQ 9.71875 50.34375 9.71875 60.109375 \r\nQ 9.71875 69.828125 16.328125 76.21875 \r\nQ 22.953125 82.625 33.59375 82.625 \r\nQ 44.234375 82.625 50.921875 76.25 \r\nQ 57.625 69.875 57.625 60.109375 \r\nQ 57.625 50.25 50.90625 43.875 \r\nQ 44.1875 37.5 33.59375 37.5 \r\nz\r\nM 33.59375 76.421875 \r\nQ 26.171875 76.421875 21.578125 71.84375 \r\nQ 17 67.28125 17 60.109375 \r\nQ 17 52.828125 21.578125 48.265625 \r\nQ 26.171875 43.703125 33.59375 43.703125 \r\nQ 41.0625 43.703125 45.671875 48.28125 \r\nQ 50.296875 52.875 50.296875 60.109375 \r\nQ 50.296875 67.1875 45.671875 71.796875 \r\nQ 41.0625 76.421875 33.59375 76.421875 \r\nz\r\nM 51.125 -7.71875 \r\nQ 36.46875 -7.71875 28.625 -2.65625 \r\nQ 20.796875 2.390625 20.796875 10.984375 \r\nQ 20.796875 19.53125 28.609375 24.5625 \r\nQ 36.421875 29.59375 51.125 29.59375 \r\nQ 65.96875 29.59375 73.734375 24.5625 \r\nQ 81.5 19.53125 81.5 10.984375 \r\nQ 81.5 2.4375 73.703125 -2.640625 \r\nQ 65.921875 -7.71875 51.125 -7.71875 \r\nz\r\nM 51.125 23.390625 \r\nQ 40.140625 23.390625 34.375 20.046875 \r\nQ 28.609375 16.703125 28.609375 10.984375 \r\nQ 28.609375 5.21875 34.34375 1.84375 \r\nQ 40.09375 -1.515625 51.125 -1.515625 \r\nQ 62.203125 -1.515625 67.984375 1.875 \r\nQ 73.78125 5.28125 73.78125 10.984375 \r\nQ 73.78125 16.65625 67.96875 20.015625 \r\nQ 62.15625 23.390625 51.125 23.390625 \r\nz\r\n\" id=\"MalgunGothic-50577\"/>\r\n       <path d=\"M 77.296875 -8.796875 \r\nL 77.296875 85.40625 \r\nL 84.625 85.40625 \r\nL 84.625 -8.796875 \r\nz\r\nM 58.890625 15.09375 \r\nQ 50.984375 21.140625 44.0625 30.296875 \r\nQ 37.15625 39.453125 35.296875 46.09375 \r\nQ 33.0625 38.484375 26.359375 29.25 \r\nQ 19.671875 20.015625 11.8125 13.921875 \r\nL 6.203125 18.796875 \r\nQ 17.828125 26.609375 24.703125 38.734375 \r\nQ 31.59375 50.875 31.59375 63.484375 \r\nL 31.59375 78.90625 \r\nL 38.8125 78.90625 \r\nL 38.8125 63.8125 \r\nQ 38.8125 51.609375 45.625 39.9375 \r\nQ 52.4375 28.265625 64.015625 20.796875 \r\nz\r\n\" id=\"MalgunGothic-49884\"/>\r\n      </defs>\r\n      <g style=\"fill:#262626;\" transform=\"translate(34.1475 467.611417)scale(0.11 -0.11)\">\r\n       <use xlink:href=\"#MalgunGothic-44256\"/>\r\n       <use x=\"100\" xlink:href=\"#MalgunGothic-50577\"/>\r\n       <use x=\"200\" xlink:href=\"#MalgunGothic-49884\"/>\r\n      </g>\r\n     </g>\r\n    </g>\r\n    <g id=\"ytick_6\">\r\n     <g id=\"line2d_13\">\r\n      <path clip-path=\"url(#p4ca67dab75)\" d=\"M 76.6475 444.021429 \r\nL 913.6475 444.021429 \r\n\" style=\"fill:none;stroke:#ffffff;stroke-linecap:round;\"/>\r\n     </g>\r\n     <g id=\"text_13\">\r\n      <!-- 과천시 -->\r\n      <defs>\r\n       <path d=\"M 96.6875 41.609375 \r\nL 81.296875 41.609375 \r\nL 81.296875 -8.796875 \r\nL 73.875 -8.796875 \r\nL 73.875 85.40625 \r\nL 81.203125 85.40625 \r\nL 81.203125 48.09375 \r\nL 96.6875 48.09375 \r\nz\r\nM 59.8125 76.515625 \r\nQ 59.8125 49.125 58.015625 28.125 \r\nL 50.875 28.609375 \r\nQ 51.46875 33.796875 51.96875 48.078125 \r\nQ 52.484375 62.359375 52.484375 70.015625 \r\nL 12.5 70.015625 \r\nL 12.5 76.515625 \r\nz\r\nM 67.484375 10.40625 \r\nQ 42 8.984375 4.390625 8.984375 \r\nL 3.71875 15.375 \r\nQ 8.734375 15.375 27.296875 15.625 \r\nL 27.296875 48.1875 \r\nL 34.625 48.1875 \r\nL 34.625 15.71875 \r\nL 67 16.703125 \r\nz\r\n\" id=\"MalgunGothic-44284\"/>\r\n       <path d=\"M 76.3125 16.5 \r\nL 76.3125 51.21875 \r\nL 55.328125 51.21875 \r\nL 55.328125 57.71875 \r\nL 76.3125 57.71875 \r\nL 76.3125 85.40625 \r\nL 83.59375 85.40625 \r\nL 83.59375 16.5 \r\nz\r\nM 58.6875 29.390625 \r\nQ 51.65625 32.671875 45.1875 38.59375 \r\nQ 38.71875 44.53125 35.890625 50 \r\nQ 32.953125 43.703125 26.34375 37.1875 \r\nQ 19.734375 30.671875 12.984375 27.296875 \r\nL 7.625 32.90625 \r\nQ 17.1875 36.234375 24.625 44.9375 \r\nQ 32.078125 53.65625 32.078125 61.1875 \r\nL 32.078125 67.921875 \r\nL 10.59375 67.921875 \r\nL 10.59375 74.421875 \r\nL 32.171875 74.421875 \r\nL 32.171875 85.296875 \r\nL 39.5 85.296875 \r\nL 39.5 74.421875 \r\nL 60.890625 74.421875 \r\nL 60.890625 67.921875 \r\nL 39.5 67.921875 \r\nL 39.5 61.28125 \r\nQ 39.5 54 46.96875 46.0625 \r\nQ 54.4375 38.140625 63.625 35.40625 \r\nz\r\nM 25.59375 -5.71875 \r\nL 25.59375 24.703125 \r\nL 33.015625 24.703125 \r\nL 33.015625 0.6875 \r\nL 86.078125 0.6875 \r\nL 86.078125 -5.71875 \r\nz\r\n\" id=\"MalgunGothic-52380\"/>\r\n      </defs>\r\n      <g style=\"fill:#262626;\" transform=\"translate(34.1475 448.197132)scale(0.11 -0.11)\">\r\n       <use xlink:href=\"#MalgunGothic-44284\"/>\r\n       <use x=\"100\" xlink:href=\"#MalgunGothic-52380\"/>\r\n       <use x=\"200\" xlink:href=\"#MalgunGothic-49884\"/>\r\n      </g>\r\n     </g>\r\n    </g>\r\n    <g id=\"ytick_7\">\r\n     <g id=\"line2d_14\">\r\n      <path clip-path=\"url(#p4ca67dab75)\" d=\"M 76.6475 424.607143 \r\nL 913.6475 424.607143 \r\n\" style=\"fill:none;stroke:#ffffff;stroke-linecap:round;\"/>\r\n     </g>\r\n     <g id=\"text_14\">\r\n      <!-- 관악구 -->\r\n      <defs>\r\n       <path d=\"M 81.109375 44 \r\nL 81.109375 15.1875 \r\nL 73.78125 15.1875 \r\nL 73.78125 85.40625 \r\nL 81.109375 85.40625 \r\nL 81.109375 50.59375 \r\nL 95.21875 50.59375 \r\nL 95.21875 44 \r\nz\r\nM 60.5 79 \r\nQ 60.5 59.8125 58.984375 46.09375 \r\nL 51.90625 46.578125 \r\nQ 53.21875 59.71875 53.21875 72.515625 \r\nL 13.625 72.515625 \r\nL 13.625 79 \r\nz\r\nM 66.890625 32.328125 \r\nQ 60.296875 31.78125 39.078125 31.25 \r\nQ 17.875 30.71875 6.390625 30.71875 \r\nL 5.71875 37.203125 \r\nQ 18.21875 37.203125 28.90625 37.5 \r\nL 28.90625 58.40625 \r\nL 36.1875 58.40625 \r\nL 36.1875 37.59375 \r\nQ 54.390625 37.84375 66.5 38.625 \r\nz\r\nM 22.3125 -5.609375 \r\nL 22.3125 21.578125 \r\nL 29.59375 21.578125 \r\nL 29.59375 0.875 \r\nL 83.59375 0.875 \r\nL 83.59375 -5.609375 \r\nz\r\n\" id=\"MalgunGothic-44288\"/>\r\n       <path d=\"M 80.078125 53.71875 \r\nL 80.078125 32.8125 \r\nL 72.796875 32.8125 \r\nL 72.796875 85.40625 \r\nL 80.078125 85.40625 \r\nL 80.078125 60.296875 \r\nL 94.28125 60.296875 \r\nL 94.28125 53.71875 \r\nz\r\nM 33.59375 37.40625 \r\nQ 23.09375 37.40625 16.40625 43.875 \r\nQ 9.71875 50.34375 9.71875 60.109375 \r\nQ 9.71875 69.828125 16.359375 76.265625 \r\nQ 23 82.71875 33.59375 82.71875 \r\nQ 44.1875 82.71875 50.90625 76.296875 \r\nQ 57.625 69.875 57.625 60.109375 \r\nQ 57.625 50.25 50.875 43.828125 \r\nQ 44.140625 37.40625 33.59375 37.40625 \r\nz\r\nM 33.59375 76.515625 \r\nQ 26.21875 76.515625 21.609375 71.890625 \r\nQ 17 67.28125 17 60.109375 \r\nQ 17 52.828125 21.578125 48.265625 \r\nQ 26.171875 43.703125 33.59375 43.703125 \r\nQ 41.0625 43.703125 45.671875 48.28125 \r\nQ 50.296875 52.875 50.296875 60.109375 \r\nQ 50.296875 67.1875 45.671875 71.84375 \r\nQ 41.0625 76.515625 33.59375 76.515625 \r\nz\r\nM 72.796875 -8.796875 \r\nL 72.796875 21.09375 \r\nL 19.671875 21.09375 \r\nL 19.671875 27.59375 \r\nL 80.078125 27.59375 \r\nL 80.078125 -8.796875 \r\nz\r\n\" id=\"MalgunGothic-50501\"/>\r\n      </defs>\r\n      <g style=\"fill:#262626;\" transform=\"translate(34.1475 428.782846)scale(0.11 -0.11)\">\r\n       <use xlink:href=\"#MalgunGothic-44288\"/>\r\n       <use x=\"100\" xlink:href=\"#MalgunGothic-50501\"/>\r\n       <use x=\"200\" xlink:href=\"#MalgunGothic-44396\"/>\r\n      </g>\r\n     </g>\r\n    </g>\r\n    <g id=\"ytick_8\">\r\n     <g id=\"line2d_15\">\r\n      <path clip-path=\"url(#p4ca67dab75)\" d=\"M 76.6475 405.192857 \r\nL 913.6475 405.192857 \r\n\" style=\"fill:none;stroke:#ffffff;stroke-linecap:round;\"/>\r\n     </g>\r\n     <g id=\"text_15\">\r\n      <!-- 광진구 -->\r\n      <defs>\r\n       <path d=\"M 81.109375 50.09375 \r\nL 81.109375 28.125 \r\nL 73.78125 28.125 \r\nL 73.78125 85.40625 \r\nL 81.109375 85.40625 \r\nL 81.109375 56.59375 \r\nL 95.3125 56.59375 \r\nL 95.3125 50.09375 \r\nz\r\nM 60.5 81.296875 \r\nQ 60.5 62.703125 59.078125 49.609375 \r\nL 52 50.203125 \r\nQ 53.21875 62.15625 53.21875 74.8125 \r\nL 14.3125 74.8125 \r\nL 14.3125 81.296875 \r\nz\r\nM 66.890625 36.921875 \r\nQ 60.296875 36.375 39.078125 35.828125 \r\nQ 17.875 35.296875 6.390625 35.296875 \r\nL 5.71875 41.796875 \r\nL 28.8125 42 \r\nL 28.8125 60.984375 \r\nL 36.078125 60.984375 \r\nL 36.078125 42.1875 \r\nQ 57.859375 42.53125 66.5 43.21875 \r\nz\r\nM 50.390625 -7.515625 \r\nQ 35.40625 -7.515625 27.296875 -2.703125 \r\nQ 19.1875 2.09375 19.1875 10.015625 \r\nQ 19.1875 17.875 27.296875 22.671875 \r\nQ 35.40625 27.484375 50.390625 27.484375 \r\nQ 65.28125 27.484375 73.390625 22.703125 \r\nQ 81.5 17.921875 81.5 10.015625 \r\nQ 81.5 2.046875 73.390625 -2.734375 \r\nQ 65.28125 -7.515625 50.390625 -7.515625 \r\nz\r\nM 50.390625 21.1875 \r\nQ 38.96875 21.1875 32.984375 18.15625 \r\nQ 27 15.140625 27 10.015625 \r\nQ 27 4.890625 33.046875 1.828125 \r\nQ 39.109375 -1.21875 50.390625 -1.21875 \r\nQ 61.625 -1.21875 67.703125 1.796875 \r\nQ 73.78125 4.828125 73.78125 10.015625 \r\nQ 73.78125 15.140625 67.796875 18.15625 \r\nQ 61.8125 21.1875 50.390625 21.1875 \r\nz\r\n\" id=\"MalgunGothic-44305\"/>\r\n       <path d=\"M 76.703125 18.40625 \r\nL 76.703125 85.40625 \r\nL 83.984375 85.40625 \r\nL 83.984375 18.40625 \r\nz\r\nM 60.296875 32.328125 \r\nQ 53.46875 36.46875 46.921875 43.296875 \r\nQ 40.375 50.140625 37.796875 55.71875 \r\nQ 35.109375 49.265625 28.21875 41.453125 \r\nQ 21.34375 33.640625 14.703125 29.890625 \r\nL 9.515625 34.90625 \r\nQ 19.78125 40.140625 26.875 50.09375 \r\nQ 33.984375 60.0625 33.984375 70.21875 \r\nL 33.984375 73.6875 \r\nL 12.59375 73.6875 \r\nL 12.59375 80.328125 \r\nL 62.203125 80.328125 \r\nL 62.203125 73.6875 \r\nL 41.109375 73.6875 \r\nL 41.109375 70.21875 \r\nQ 41.109375 60.890625 48.53125 51.40625 \r\nQ 55.953125 41.9375 65.1875 37.59375 \r\nz\r\nM 25.984375 -5.71875 \r\nL 25.984375 25.09375 \r\nL 33.296875 25.09375 \r\nL 33.296875 0.6875 \r\nL 86.53125 0.6875 \r\nL 86.53125 -5.71875 \r\nz\r\n\" id=\"MalgunGothic-51652\"/>\r\n      </defs>\r\n      <g style=\"fill:#262626;\" transform=\"translate(34.1475 409.36856)scale(0.11 -0.11)\">\r\n       <use xlink:href=\"#MalgunGothic-44305\"/>\r\n       <use x=\"100\" xlink:href=\"#MalgunGothic-51652\"/>\r\n       <use x=\"200\" xlink:href=\"#MalgunGothic-44396\"/>\r\n      </g>\r\n     </g>\r\n    </g>\r\n    <g id=\"ytick_9\">\r\n     <g id=\"line2d_16\">\r\n      <path clip-path=\"url(#p4ca67dab75)\" d=\"M 76.6475 385.778571 \r\nL 913.6475 385.778571 \r\n\" style=\"fill:none;stroke:#ffffff;stroke-linecap:round;\"/>\r\n     </g>\r\n     <g id=\"text_16\">\r\n      <!-- 구로구 -->\r\n      <defs>\r\n       <path d=\"M 19.484375 56.890625 \r\nL 72.796875 56.890625 \r\nL 72.796875 70.796875 \r\nL 19.671875 70.796875 \r\nL 19.671875 77.203125 \r\nL 80.078125 77.203125 \r\nL 80.078125 50.59375 \r\nL 26.90625 50.59375 \r\nL 26.90625 35.015625 \r\nL 82.8125 35.015625 \r\nL 82.8125 28.515625 \r\nL 53.71875 28.515625 \r\nL 53.71875 11.375 \r\nL 93.703125 11.375 \r\nL 93.703125 4.890625 \r\nL 6.296875 4.890625 \r\nL 6.296875 11.375 \r\nL 46.390625 11.375 \r\nL 46.390625 28.515625 \r\nL 19.484375 28.515625 \r\nz\r\n\" id=\"MalgunGothic-47196\"/>\r\n      </defs>\r\n      <g style=\"fill:#262626;\" transform=\"translate(34.1475 389.954275)scale(0.11 -0.11)\">\r\n       <use xlink:href=\"#MalgunGothic-44396\"/>\r\n       <use x=\"100\" xlink:href=\"#MalgunGothic-47196\"/>\r\n       <use x=\"200\" xlink:href=\"#MalgunGothic-44396\"/>\r\n      </g>\r\n     </g>\r\n    </g>\r\n    <g id=\"ytick_10\">\r\n     <g id=\"line2d_17\">\r\n      <path clip-path=\"url(#p4ca67dab75)\" d=\"M 76.6475 366.364286 \r\nL 913.6475 366.364286 \r\n\" style=\"fill:none;stroke:#ffffff;stroke-linecap:round;\"/>\r\n     </g>\r\n     <g id=\"text_17\">\r\n      <!-- 금천구 -->\r\n      <defs>\r\n       <path d=\"M 6.296875 41.609375 \r\nL 6.296875 48.1875 \r\nL 71.296875 48.1875 \r\nQ 72.40625 59.421875 72.40625 75.296875 \r\nL 20.90625 75.296875 \r\nL 20.90625 81.78125 \r\nL 79.6875 81.78125 \r\nQ 79.6875 63.765625 78.421875 48.1875 \r\nL 93.703125 48.1875 \r\nL 93.703125 41.609375 \r\nz\r\nM 21.09375 -6.5 \r\nL 21.09375 29 \r\nL 79.296875 29 \r\nL 79.296875 -6.5 \r\nz\r\nM 72.125 22.609375 \r\nL 28.328125 22.609375 \r\nL 28.328125 0 \r\nL 72.125 0 \r\nz\r\n\" id=\"MalgunGothic-44552\"/>\r\n      </defs>\r\n      <g style=\"fill:#262626;\" transform=\"translate(34.1475 370.539989)scale(0.11 -0.11)\">\r\n       <use xlink:href=\"#MalgunGothic-44552\"/>\r\n       <use x=\"100\" xlink:href=\"#MalgunGothic-52380\"/>\r\n       <use x=\"200\" xlink:href=\"#MalgunGothic-44396\"/>\r\n      </g>\r\n     </g>\r\n    </g>\r\n    <g id=\"ytick_11\">\r\n     <g id=\"line2d_18\">\r\n      <path clip-path=\"url(#p4ca67dab75)\" d=\"M 76.6475 346.95 \r\nL 913.6475 346.95 \r\n\" style=\"fill:none;stroke:#ffffff;stroke-linecap:round;\"/>\r\n     </g>\r\n     <g id=\"text_18\">\r\n      <!-- 노원구 -->\r\n      <defs>\r\n       <path d=\"M 20.015625 77.09375 \r\nL 27.296875 77.09375 \r\nL 27.296875 44.28125 \r\nL 81.890625 44.28125 \r\nL 81.890625 37.703125 \r\nL 53.71875 37.703125 \r\nL 53.71875 12.984375 \r\nL 93.703125 12.984375 \r\nL 93.703125 6.390625 \r\nL 6.296875 6.390625 \r\nL 6.296875 12.984375 \r\nL 46.296875 12.984375 \r\nL 46.296875 37.703125 \r\nL 20.015625 37.703125 \r\nz\r\n\" id=\"MalgunGothic-45432\"/>\r\n       <path d=\"M 77.78125 10.890625 \r\nL 77.78125 21 \r\nL 57.171875 21 \r\nL 57.171875 27.484375 \r\nL 77.78125 27.484375 \r\nL 77.78125 85.40625 \r\nL 85.203125 85.40625 \r\nL 85.203125 10.890625 \r\nz\r\nM 41.015625 47.796875 \r\nQ 30.71875 47.796875 24.1875 52.96875 \r\nQ 17.671875 58.15625 17.671875 65.828125 \r\nQ 17.671875 73.390625 24.140625 78.53125 \r\nQ 30.609375 83.6875 41.015625 83.6875 \r\nQ 51.375 83.6875 57.84375 78.578125 \r\nQ 64.3125 73.484375 64.3125 65.828125 \r\nQ 64.3125 58.109375 57.8125 52.953125 \r\nQ 51.3125 47.796875 41.015625 47.796875 \r\nz\r\nM 41.015625 77.484375 \r\nQ 33.796875 77.484375 29.390625 73.96875 \r\nQ 25 70.453125 25 65.828125 \r\nQ 25 61.078125 29.390625 57.53125 \r\nQ 33.796875 54 41.015625 54 \r\nQ 48.25 54 52.65625 57.53125 \r\nQ 57.078125 61.078125 57.078125 65.828125 \r\nQ 57.078125 70.453125 52.65625 73.96875 \r\nQ 48.25 77.484375 41.015625 77.484375 \r\nz\r\nM 71.1875 35.796875 \r\nQ 64.0625 35.296875 45.015625 34.515625 \r\nL 45.015625 14.203125 \r\nL 37.796875 14.203125 \r\nL 37.796875 34.1875 \r\nQ 18.890625 33.5 10.015625 33.5 \r\nL 8.984375 40.28125 \r\nQ 44.578125 40.28125 70.703125 42.09375 \r\nz\r\nM 23.578125 -6.296875 \r\nL 23.578125 21.921875 \r\nL 30.90625 21.921875 \r\nL 30.90625 0.203125 \r\nL 87.5 0.203125 \r\nL 87.5 -6.296875 \r\nz\r\n\" id=\"MalgunGothic-50896\"/>\r\n      </defs>\r\n      <g style=\"fill:#262626;\" transform=\"translate(34.1475 351.125703)scale(0.11 -0.11)\">\r\n       <use xlink:href=\"#MalgunGothic-45432\"/>\r\n       <use x=\"100\" xlink:href=\"#MalgunGothic-50896\"/>\r\n       <use x=\"200\" xlink:href=\"#MalgunGothic-44396\"/>\r\n      </g>\r\n     </g>\r\n    </g>\r\n    <g id=\"ytick_12\">\r\n     <g id=\"line2d_19\">\r\n      <path clip-path=\"url(#p4ca67dab75)\" d=\"M 76.6475 327.535714 \r\nL 913.6475 327.535714 \r\n\" style=\"fill:none;stroke:#ffffff;stroke-linecap:round;\"/>\r\n     </g>\r\n     <g id=\"text_19\">\r\n      <!-- 도봉구 -->\r\n      <defs>\r\n       <path d=\"M 6.296875 5.8125 \r\nL 6.296875 12.3125 \r\nL 46.296875 12.3125 \r\nL 46.296875 34.078125 \r\nL 21.09375 34.078125 \r\nL 21.09375 76.515625 \r\nL 78.90625 76.515625 \r\nL 78.90625 70.015625 \r\nL 28.421875 70.015625 \r\nL 28.421875 40.625 \r\nL 80.421875 40.625 \r\nL 80.421875 34.078125 \r\nL 53.71875 34.078125 \r\nL 53.71875 12.3125 \r\nL 93.703125 12.3125 \r\nL 93.703125 5.8125 \r\nz\r\n\" id=\"MalgunGothic-46020\"/>\r\n       <path d=\"M 6.296875 32.8125 \r\nL 6.296875 39.40625 \r\nL 46.296875 39.40625 \r\nL 46.296875 49.515625 \r\nL 21.1875 49.515625 \r\nL 21.1875 84.078125 \r\nL 28.421875 84.078125 \r\nL 28.421875 72.796875 \r\nL 71.578125 72.796875 \r\nL 71.578125 84.078125 \r\nL 78.8125 84.078125 \r\nL 78.8125 49.515625 \r\nL 53.71875 49.515625 \r\nL 53.71875 39.40625 \r\nL 93.703125 39.40625 \r\nL 93.703125 32.8125 \r\nz\r\nM 71.578125 66.40625 \r\nL 28.421875 66.40625 \r\nL 28.421875 55.90625 \r\nL 71.578125 55.90625 \r\nz\r\nM 50 -8.296875 \r\nQ 35.25 -8.296875 27.53125 -3.796875 \r\nQ 19.828125 0.6875 19.828125 8.796875 \r\nQ 19.828125 16.796875 27.484375 21.28125 \r\nQ 35.15625 25.78125 50 25.78125 \r\nQ 64.84375 25.78125 72.5 21.28125 \r\nQ 80.171875 16.796875 80.171875 8.796875 \r\nQ 80.171875 0.6875 72.453125 -3.796875 \r\nQ 64.75 -8.296875 50 -8.296875 \r\nz\r\nM 50 19.578125 \r\nQ 27.390625 19.578125 27.390625 8.796875 \r\nQ 27.390625 -2.09375 50 -2.09375 \r\nQ 72.609375 -2.09375 72.609375 8.796875 \r\nQ 72.609375 19.578125 50 19.578125 \r\nz\r\n\" id=\"MalgunGothic-48393\"/>\r\n      </defs>\r\n      <g style=\"fill:#262626;\" transform=\"translate(34.1475 331.711417)scale(0.11 -0.11)\">\r\n       <use xlink:href=\"#MalgunGothic-46020\"/>\r\n       <use x=\"100\" xlink:href=\"#MalgunGothic-48393\"/>\r\n       <use x=\"200\" xlink:href=\"#MalgunGothic-44396\"/>\r\n      </g>\r\n     </g>\r\n    </g>\r\n    <g id=\"ytick_13\">\r\n     <g id=\"line2d_20\">\r\n      <path clip-path=\"url(#p4ca67dab75)\" d=\"M 76.6475 308.121429 \r\nL 913.6475 308.121429 \r\n\" style=\"fill:none;stroke:#ffffff;stroke-linecap:round;\"/>\r\n     </g>\r\n     <g id=\"text_20\">\r\n      <!-- 동대문구 -->\r\n      <defs>\r\n       <path d=\"M 79.203125 -8.796875 \r\nL 79.203125 40.1875 \r\nL 67.09375 40.1875 \r\nL 67.09375 -5.90625 \r\nL 59.90625 -5.90625 \r\nL 59.90625 83.5 \r\nL 67.09375 83.5 \r\nL 67.09375 46.6875 \r\nL 79.203125 46.6875 \r\nL 79.203125 85.40625 \r\nL 86.53125 85.40625 \r\nL 86.53125 -8.796875 \r\nz\r\nM 52.984375 18.015625 \r\nQ 39.3125 16.609375 12.890625 16.609375 \r\nL 12.890625 77.09375 \r\nL 49.03125 77.09375 \r\nL 49.03125 70.609375 \r\nL 20.125 70.609375 \r\nL 20.125 23.09375 \r\nL 28.8125 23.09375 \r\nQ 43.609375 23.09375 52.484375 24.21875 \r\nz\r\n\" id=\"MalgunGothic-45824\"/>\r\n       <path d=\"M 21 48.390625 \r\nL 21 81.984375 \r\nL 79 81.984375 \r\nL 79 48.390625 \r\nz\r\nM 71.78125 75.484375 \r\nL 28.21875 75.484375 \r\nL 28.21875 54.78125 \r\nL 71.78125 54.78125 \r\nz\r\nM 47.015625 11.625 \r\nL 47.015625 31 \r\nL 6.296875 31 \r\nL 6.296875 37.5 \r\nL 93.703125 37.5 \r\nL 93.703125 31 \r\nL 54.203125 31 \r\nL 54.203125 11.625 \r\nz\r\nM 20.125 -5.8125 \r\nL 20.125 22.40625 \r\nL 27.390625 22.40625 \r\nL 27.390625 0.6875 \r\nL 81.296875 0.6875 \r\nL 81.296875 -5.8125 \r\nz\r\n\" id=\"MalgunGothic-47928\"/>\r\n      </defs>\r\n      <g style=\"fill:#262626;\" transform=\"translate(23.1475 312.297132)scale(0.11 -0.11)\">\r\n       <use xlink:href=\"#MalgunGothic-46041\"/>\r\n       <use x=\"100\" xlink:href=\"#MalgunGothic-45824\"/>\r\n       <use x=\"200\" xlink:href=\"#MalgunGothic-47928\"/>\r\n       <use x=\"300\" xlink:href=\"#MalgunGothic-44396\"/>\r\n      </g>\r\n     </g>\r\n    </g>\r\n    <g id=\"ytick_14\">\r\n     <g id=\"line2d_21\">\r\n      <path clip-path=\"url(#p4ca67dab75)\" d=\"M 76.6475 288.707143 \r\nL 913.6475 288.707143 \r\n\" style=\"fill:none;stroke:#ffffff;stroke-linecap:round;\"/>\r\n     </g>\r\n     <g id=\"text_21\">\r\n      <!-- 동작구 -->\r\n      <defs>\r\n       <path d=\"M 80.078125 52.984375 \r\nL 80.078125 30.90625 \r\nL 72.796875 30.90625 \r\nL 72.796875 85.40625 \r\nL 80.078125 85.40625 \r\nL 80.078125 59.625 \r\nL 94.28125 59.625 \r\nL 94.28125 52.984375 \r\nz\r\nM 56.109375 36.625 \r\nQ 40.4375 45.171875 34.1875 58.015625 \r\nQ 31.59375 52 25.1875 45.140625 \r\nQ 18.796875 38.28125 11.71875 34.28125 \r\nL 6.5 39.203125 \r\nQ 17.140625 44.53125 23.828125 53.421875 \r\nQ 30.515625 62.3125 30.515625 71.921875 \r\nL 30.515625 74.703125 \r\nL 9.71875 74.703125 \r\nL 9.71875 81.203125 \r\nL 58.296875 81.203125 \r\nL 58.296875 74.703125 \r\nL 37.5 74.703125 \r\nL 37.5 71.921875 \r\nQ 37.5 62.59375 44.3125 54.4375 \r\nQ 51.125 46.296875 61.078125 42.09375 \r\nz\r\nM 72.796875 -8.796875 \r\nL 72.796875 19.09375 \r\nL 19.671875 19.09375 \r\nL 19.671875 25.6875 \r\nL 80.078125 25.6875 \r\nL 80.078125 -8.796875 \r\nz\r\n\" id=\"MalgunGothic-51089\"/>\r\n      </defs>\r\n      <g style=\"fill:#262626;\" transform=\"translate(34.1475 292.882846)scale(0.11 -0.11)\">\r\n       <use xlink:href=\"#MalgunGothic-46041\"/>\r\n       <use x=\"100\" xlink:href=\"#MalgunGothic-51089\"/>\r\n       <use x=\"200\" xlink:href=\"#MalgunGothic-44396\"/>\r\n      </g>\r\n     </g>\r\n    </g>\r\n    <g id=\"ytick_15\">\r\n     <g id=\"line2d_22\">\r\n      <path clip-path=\"url(#p4ca67dab75)\" d=\"M 76.6475 269.292857 \r\nL 913.6475 269.292857 \r\n\" style=\"fill:none;stroke:#ffffff;stroke-linecap:round;\"/>\r\n     </g>\r\n     <g id=\"text_22\">\r\n      <!-- 마포구 -->\r\n      <defs>\r\n       <path d=\"M 79.59375 41.109375 \r\nL 79.59375 -8.796875 \r\nL 72.3125 -8.796875 \r\nL 72.3125 85.40625 \r\nL 79.59375 85.40625 \r\nL 79.59375 47.609375 \r\nL 95.90625 47.609375 \r\nL 95.90625 41.109375 \r\nz\r\nM 12.5 18.890625 \r\nL 12.5 77.09375 \r\nL 56.984375 77.09375 \r\nL 56.984375 18.890625 \r\nz\r\nM 49.8125 70.703125 \r\nL 19.828125 70.703125 \r\nL 19.828125 25.296875 \r\nL 49.8125 25.296875 \r\nz\r\n\" id=\"MalgunGothic-47560\"/>\r\n       <path d=\"M 15.578125 76.515625 \r\nL 84.421875 76.515625 \r\nL 84.421875 70.125 \r\nL 15.578125 70.125 \r\nz\r\nM 70.21875 38.71875 \r\nL 85.59375 38.71875 \r\nL 85.59375 32.171875 \r\nL 53.71875 32.171875 \r\nL 53.71875 11.8125 \r\nL 93.703125 11.8125 \r\nL 93.703125 5.328125 \r\nL 6.296875 5.328125 \r\nL 6.296875 11.8125 \r\nL 46.296875 11.8125 \r\nL 46.296875 32.171875 \r\nL 14.40625 32.171875 \r\nL 14.40625 38.71875 \r\nL 29.78125 38.71875 \r\nL 28.609375 65.1875 \r\nL 35.796875 65.1875 \r\nL 37.109375 38.71875 \r\nL 62.890625 38.71875 \r\nL 64.203125 65.1875 \r\nL 71.390625 65.1875 \r\nz\r\n\" id=\"MalgunGothic-54252\"/>\r\n      </defs>\r\n      <g style=\"fill:#262626;\" transform=\"translate(34.1475 273.46856)scale(0.11 -0.11)\">\r\n       <use xlink:href=\"#MalgunGothic-47560\"/>\r\n       <use x=\"100\" xlink:href=\"#MalgunGothic-54252\"/>\r\n       <use x=\"200\" xlink:href=\"#MalgunGothic-44396\"/>\r\n      </g>\r\n     </g>\r\n    </g>\r\n    <g id=\"ytick_16\">\r\n     <g id=\"line2d_23\">\r\n      <path clip-path=\"url(#p4ca67dab75)\" d=\"M 76.6475 249.878571 \r\nL 913.6475 249.878571 \r\n\" style=\"fill:none;stroke:#ffffff;stroke-linecap:round;\"/>\r\n     </g>\r\n     <g id=\"text_23\">\r\n      <!-- 목포시 -->\r\n      <defs>\r\n       <path d=\"M 6.296875 33.015625 \r\nL 6.296875 39.5 \r\nL 46.296875 39.5 \r\nL 46.296875 50.296875 \r\nL 21 50.296875 \r\nL 21 83.109375 \r\nL 79 83.109375 \r\nL 79 50.296875 \r\nL 53.71875 50.296875 \r\nL 53.71875 39.59375 \r\nL 93.703125 39.59375 \r\nL 93.703125 33.015625 \r\nz\r\nM 71.78125 76.703125 \r\nL 28.21875 76.703125 \r\nL 28.21875 56.6875 \r\nL 71.78125 56.6875 \r\nz\r\nM 72.015625 -8.796875 \r\nL 72.015625 17.28125 \r\nL 18.703125 17.28125 \r\nL 18.703125 23.78125 \r\nL 79.296875 23.78125 \r\nL 79.296875 -8.796875 \r\nz\r\n\" id=\"MalgunGothic-47785\"/>\r\n      </defs>\r\n      <g style=\"fill:#262626;\" transform=\"translate(34.1475 254.054275)scale(0.11 -0.11)\">\r\n       <use xlink:href=\"#MalgunGothic-47785\"/>\r\n       <use x=\"100\" xlink:href=\"#MalgunGothic-54252\"/>\r\n       <use x=\"200\" xlink:href=\"#MalgunGothic-49884\"/>\r\n      </g>\r\n     </g>\r\n    </g>\r\n    <g id=\"ytick_17\">\r\n     <g id=\"line2d_24\">\r\n      <path clip-path=\"url(#p4ca67dab75)\" d=\"M 76.6475 230.464286 \r\nL 913.6475 230.464286 \r\n\" style=\"fill:none;stroke:#ffffff;stroke-linecap:round;\"/>\r\n     </g>\r\n     <g id=\"text_24\">\r\n      <!-- 서대문구 -->\r\n      <g style=\"fill:#262626;\" transform=\"translate(23.1475 234.639989)scale(0.11 -0.11)\">\r\n       <use xlink:href=\"#MalgunGothic-49436\"/>\r\n       <use x=\"100\" xlink:href=\"#MalgunGothic-45824\"/>\r\n       <use x=\"200\" xlink:href=\"#MalgunGothic-47928\"/>\r\n       <use x=\"300\" xlink:href=\"#MalgunGothic-44396\"/>\r\n      </g>\r\n     </g>\r\n    </g>\r\n    <g id=\"ytick_18\">\r\n     <g id=\"line2d_25\">\r\n      <path clip-path=\"url(#p4ca67dab75)\" d=\"M 76.6475 211.05 \r\nL 913.6475 211.05 \r\n\" style=\"fill:none;stroke:#ffffff;stroke-linecap:round;\"/>\r\n     </g>\r\n     <g id=\"text_25\">\r\n      <!-- 서초구 -->\r\n      <defs>\r\n       <path d=\"M 53.71875 66.5 \r\nQ 54.34375 57.8125 64.6875 49.828125 \r\nQ 75.046875 41.84375 89.59375 39.40625 \r\nL 84.90625 33.015625 \r\nQ 74.359375 35.59375 64.109375 42.3125 \r\nQ 53.859375 49.03125 49.90625 55.90625 \r\nQ 45.609375 48.78125 36.03125 42.328125 \r\nQ 26.46875 35.890625 15.578125 32.90625 \r\nL 10.5 39.203125 \r\nQ 24.21875 41.21875 34.828125 49.46875 \r\nQ 45.453125 57.71875 46.1875 66.5 \r\nL 16.015625 66.5 \r\nL 16.015625 73 \r\nL 46.390625 73 \r\nL 46.390625 83.6875 \r\nL 53.8125 83.6875 \r\nL 53.8125 73 \r\nL 83.984375 73 \r\nL 83.984375 66.5 \r\nz\r\nM 6.296875 6.109375 \r\nL 6.296875 12.59375 \r\nL 46.1875 12.59375 \r\nL 46.1875 34.515625 \r\nL 53.609375 34.515625 \r\nL 53.609375 12.59375 \r\nL 93.703125 12.59375 \r\nL 93.703125 6.109375 \r\nz\r\n\" id=\"MalgunGothic-52488\"/>\r\n      </defs>\r\n      <g style=\"fill:#262626;\" transform=\"translate(34.1475 215.225703)scale(0.11 -0.11)\">\r\n       <use xlink:href=\"#MalgunGothic-49436\"/>\r\n       <use x=\"100\" xlink:href=\"#MalgunGothic-52488\"/>\r\n       <use x=\"200\" xlink:href=\"#MalgunGothic-44396\"/>\r\n      </g>\r\n     </g>\r\n    </g>\r\n    <g id=\"ytick_19\">\r\n     <g id=\"line2d_26\">\r\n      <path clip-path=\"url(#p4ca67dab75)\" d=\"M 76.6475 191.635714 \r\nL 913.6475 191.635714 \r\n\" style=\"fill:none;stroke:#ffffff;stroke-linecap:round;\"/>\r\n     </g>\r\n     <g id=\"text_26\">\r\n      <!-- 성동구 -->\r\n      <defs>\r\n       <path d=\"M 77.296875 31 \r\nL 77.296875 59.078125 \r\nL 55.328125 59.078125 \r\nL 55.328125 65.625 \r\nL 77.296875 65.625 \r\nL 77.296875 85.40625 \r\nL 84.625 85.40625 \r\nL 84.625 31 \r\nz\r\nM 57.078125 36.375 \r\nQ 50.6875 39.84375 44.234375 46.09375 \r\nQ 37.796875 52.34375 35.203125 57.8125 \r\nQ 32.421875 51.609375 25.921875 44.65625 \r\nQ 19.4375 37.703125 12.796875 33.984375 \r\nL 7.625 39.015625 \r\nQ 17.71875 43.84375 24.546875 53.015625 \r\nQ 31.390625 62.203125 31.390625 72.3125 \r\nL 31.390625 82.328125 \r\nL 38.484375 82.328125 \r\nL 38.484375 72.3125 \r\nQ 38.484375 62.890625 45.5625 54.25 \r\nQ 52.640625 45.609375 62.015625 41.703125 \r\nz\r\nM 55.71875 -7.421875 \r\nQ 40.96875 -7.421875 32.9375 -2.3125 \r\nQ 24.90625 2.78125 24.90625 10.890625 \r\nQ 24.90625 19 32.90625 24.046875 \r\nQ 40.921875 29.109375 55.71875 29.109375 \r\nQ 70.515625 29.109375 78.515625 24.046875 \r\nQ 86.53125 19 86.53125 10.890625 \r\nQ 86.53125 2.78125 78.484375 -2.3125 \r\nQ 70.453125 -7.421875 55.71875 -7.421875 \r\nz\r\nM 55.71875 22.90625 \r\nQ 44.53125 22.90625 38.625 19.5 \r\nQ 32.71875 16.109375 32.71875 10.890625 \r\nQ 32.71875 5.609375 38.640625 2.234375 \r\nQ 44.578125 -1.125 55.71875 -1.125 \r\nQ 66.796875 -1.125 72.75 2.21875 \r\nQ 78.71875 5.5625 78.71875 10.890625 \r\nQ 78.71875 16.15625 72.796875 19.53125 \r\nQ 66.890625 22.90625 55.71875 22.90625 \r\nz\r\n\" id=\"MalgunGothic-49457\"/>\r\n      </defs>\r\n      <g style=\"fill:#262626;\" transform=\"translate(34.1475 195.811417)scale(0.11 -0.11)\">\r\n       <use xlink:href=\"#MalgunGothic-49457\"/>\r\n       <use x=\"100\" xlink:href=\"#MalgunGothic-46041\"/>\r\n       <use x=\"200\" xlink:href=\"#MalgunGothic-44396\"/>\r\n      </g>\r\n     </g>\r\n    </g>\r\n    <g id=\"ytick_20\">\r\n     <g id=\"line2d_27\">\r\n      <path clip-path=\"url(#p4ca67dab75)\" d=\"M 76.6475 172.221429 \r\nL 913.6475 172.221429 \r\n\" style=\"fill:none;stroke:#ffffff;stroke-linecap:round;\"/>\r\n     </g>\r\n     <g id=\"text_27\">\r\n      <!-- 성북구 -->\r\n      <g style=\"fill:#262626;\" transform=\"translate(34.1475 176.397132)scale(0.11 -0.11)\">\r\n       <use xlink:href=\"#MalgunGothic-49457\"/>\r\n       <use x=\"100\" xlink:href=\"#MalgunGothic-48513\"/>\r\n       <use x=\"200\" xlink:href=\"#MalgunGothic-44396\"/>\r\n      </g>\r\n     </g>\r\n    </g>\r\n    <g id=\"ytick_21\">\r\n     <g id=\"line2d_28\">\r\n      <path clip-path=\"url(#p4ca67dab75)\" d=\"M 76.6475 152.807143 \r\nL 913.6475 152.807143 \r\n\" style=\"fill:none;stroke:#ffffff;stroke-linecap:round;\"/>\r\n     </g>\r\n     <g id=\"text_28\">\r\n      <!-- 송파구 -->\r\n      <defs>\r\n       <path d=\"M 85.296875 51.609375 \r\nQ 73.96875 53.265625 64 58.921875 \r\nQ 54.046875 64.59375 50.09375 70.796875 \r\nQ 46.4375 65.046875 36.296875 59.15625 \r\nQ 26.171875 53.265625 15.1875 51.703125 \r\nL 10.890625 57.625 \r\nQ 25.78125 58.890625 36.078125 66.203125 \r\nQ 46.390625 73.53125 46.390625 80.515625 \r\nL 46.390625 83.296875 \r\nL 53.609375 83.296875 \r\nL 53.609375 80.515625 \r\nQ 53.609375 73.390625 63.90625 66.03125 \r\nQ 74.21875 58.6875 89.109375 57.515625 \r\nz\r\nM 6.296875 34.90625 \r\nL 6.296875 41.5 \r\nL 46.296875 41.5 \r\nL 46.296875 55.328125 \r\nL 53.71875 55.328125 \r\nL 53.71875 41.5 \r\nL 93.703125 41.5 \r\nL 93.703125 34.90625 \r\nz\r\nM 50 -7.8125 \r\nQ 35.359375 -7.8125 27.59375 -3.125 \r\nQ 19.828125 1.5625 19.828125 9.8125 \r\nQ 19.828125 17.875 27.609375 22.53125 \r\nQ 35.40625 27.203125 50 27.203125 \r\nQ 64.59375 27.203125 72.375 22.53125 \r\nQ 80.171875 17.875 80.171875 9.8125 \r\nQ 80.171875 1.5625 72.40625 -3.125 \r\nQ 64.65625 -7.8125 50 -7.8125 \r\nz\r\nM 50 21 \r\nQ 38.765625 21 33.078125 18.046875 \r\nQ 27.390625 15.09375 27.390625 9.8125 \r\nQ 27.390625 4.4375 33.171875 1.40625 \r\nQ 38.96875 -1.609375 50 -1.609375 \r\nQ 60.984375 -1.609375 66.796875 1.40625 \r\nQ 72.609375 4.4375 72.609375 9.8125 \r\nQ 72.609375 15.09375 66.890625 18.046875 \r\nQ 61.1875 21 50 21 \r\nz\r\n\" id=\"MalgunGothic-49569\"/>\r\n       <path d=\"M 80.328125 41.609375 \r\nL 80.171875 -8.796875 \r\nL 72.90625 -8.796875 \r\nL 72.90625 85.40625 \r\nL 80.328125 85.40625 \r\nL 80.328125 48.09375 \r\nL 96.09375 48.09375 \r\nL 96.09375 41.609375 \r\nz\r\nM 8.40625 70.796875 \r\nL 8.40625 77.203125 \r\nL 62.5 77.203125 \r\nL 62.5 70.796875 \r\nz\r\nM 67.578125 17.828125 \r\nQ 60.59375 16.40625 52.390625 16.40625 \r\nL 4.984375 16.40625 \r\nL 4.984375 22.90625 \r\nL 19.578125 22.90625 \r\nL 18.703125 63.921875 \r\nL 25.875 63.921875 \r\nL 26.90625 22.90625 \r\nL 44.1875 22.90625 \r\nL 45.125 63.921875 \r\nL 52.296875 63.921875 \r\nL 51.3125 22.90625 \r\nQ 62.5 22.90625 66.890625 24.03125 \r\nz\r\n\" id=\"MalgunGothic-54028\"/>\r\n      </defs>\r\n      <g style=\"fill:#262626;\" transform=\"translate(34.1475 156.982846)scale(0.11 -0.11)\">\r\n       <use xlink:href=\"#MalgunGothic-49569\"/>\r\n       <use x=\"100\" xlink:href=\"#MalgunGothic-54028\"/>\r\n       <use x=\"200\" xlink:href=\"#MalgunGothic-44396\"/>\r\n      </g>\r\n     </g>\r\n    </g>\r\n    <g id=\"ytick_22\">\r\n     <g id=\"line2d_29\">\r\n      <path clip-path=\"url(#p4ca67dab75)\" d=\"M 76.6475 133.392857 \r\nL 913.6475 133.392857 \r\n\" style=\"fill:none;stroke:#ffffff;stroke-linecap:round;\"/>\r\n     </g>\r\n     <g id=\"text_29\">\r\n      <!-- 양천구 -->\r\n      <g style=\"fill:#262626;\" transform=\"translate(34.1475 137.56856)scale(0.11 -0.11)\">\r\n       <use xlink:href=\"#MalgunGothic-50577\"/>\r\n       <use x=\"100\" xlink:href=\"#MalgunGothic-52380\"/>\r\n       <use x=\"200\" xlink:href=\"#MalgunGothic-44396\"/>\r\n      </g>\r\n     </g>\r\n    </g>\r\n    <g id=\"ytick_23\">\r\n     <g id=\"line2d_30\">\r\n      <path clip-path=\"url(#p4ca67dab75)\" d=\"M 76.6475 113.978571 \r\nL 913.6475 113.978571 \r\n\" style=\"fill:none;stroke:#ffffff;stroke-linecap:round;\"/>\r\n     </g>\r\n     <g id=\"text_30\">\r\n      <!-- 영등포구 -->\r\n      <defs>\r\n       <path d=\"M 57.328125 44 \r\nQ 50.140625 35.109375 37.59375 35.109375 \r\nQ 27.046875 35.109375 20.0625 41.8125 \r\nQ 13.09375 48.53125 13.09375 59.078125 \r\nQ 13.09375 69.671875 20.0625 76.484375 \r\nQ 27.046875 83.296875 37.59375 83.296875 \r\nQ 50.484375 83.296875 57.71875 73.78125 \r\nL 77.484375 73.78125 \r\nL 77.484375 85.40625 \r\nL 84.8125 85.40625 \r\nL 84.8125 29.890625 \r\nL 77.484375 29.890625 \r\nL 77.484375 44 \r\nz\r\nM 37.59375 76.90625 \r\nQ 29.984375 76.90625 25.140625 71.96875 \r\nQ 20.3125 67.046875 20.3125 59.078125 \r\nQ 20.3125 51.171875 25.140625 46.328125 \r\nQ 29.984375 41.5 37.59375 41.5 \r\nQ 45.21875 41.5 50.09375 46.265625 \r\nQ 54.984375 51.03125 54.984375 59.078125 \r\nQ 54.984375 67.1875 50.09375 72.046875 \r\nQ 45.21875 76.90625 37.59375 76.90625 \r\nz\r\nM 60.796875 50.390625 \r\nL 77.484375 50.390625 \r\nL 77.484375 67.390625 \r\nL 60.984375 67.390625 \r\nQ 62.3125 63.53125 62.3125 59.078125 \r\nQ 62.3125 54.9375 60.796875 50.390625 \r\nz\r\nM 56.5 -7.90625 \r\nQ 41.703125 -7.90625 33.6875 -2.84375 \r\nQ 25.6875 2.203125 25.6875 10.296875 \r\nQ 25.6875 18.40625 33.6875 23.453125 \r\nQ 41.703125 28.515625 56.5 28.515625 \r\nQ 71.296875 28.515625 79.296875 23.4375 \r\nQ 87.3125 18.359375 87.3125 10.296875 \r\nQ 87.3125 2.25 79.296875 -2.828125 \r\nQ 71.296875 -7.90625 56.5 -7.90625 \r\nz\r\nM 56.5 22.3125 \r\nQ 45.453125 22.3125 39.421875 18.96875 \r\nQ 33.40625 15.625 33.40625 10.296875 \r\nQ 33.40625 4.984375 39.421875 1.640625 \r\nQ 45.453125 -1.703125 56.5 -1.703125 \r\nQ 67.578125 -1.703125 73.53125 1.640625 \r\nQ 79.5 4.984375 79.5 10.296875 \r\nQ 79.5 15.625 73.53125 18.96875 \r\nQ 67.578125 22.3125 56.5 22.3125 \r\nz\r\n\" id=\"MalgunGothic-50689\"/>\r\n       <path d=\"M 21 50.984375 \r\nL 21 82.71875 \r\nL 79.109375 82.71875 \r\nL 79.109375 76.21875 \r\nL 28.328125 76.21875 \r\nL 28.328125 57.515625 \r\nL 80.078125 57.515625 \r\nL 80.078125 50.984375 \r\nz\r\nM 6.296875 34.28125 \r\nL 6.296875 40.828125 \r\nL 93.703125 40.828125 \r\nL 93.703125 34.28125 \r\nz\r\nM 50 -8.015625 \r\nQ 35.203125 -8.015625 27.234375 -3.421875 \r\nQ 19.28125 1.171875 19.28125 9.1875 \r\nQ 19.28125 17.1875 27.21875 21.796875 \r\nQ 35.15625 26.421875 50 26.421875 \r\nQ 64.84375 26.421875 72.78125 21.796875 \r\nQ 80.71875 17.1875 80.71875 9.1875 \r\nQ 80.71875 1.171875 72.75 -3.421875 \r\nQ 64.796875 -8.015625 50 -8.015625 \r\nz\r\nM 50 20.21875 \r\nQ 38.53125 20.21875 32.765625 17.234375 \r\nQ 27 14.265625 27 9.1875 \r\nQ 27 4.109375 32.78125 1.140625 \r\nQ 38.578125 -1.8125 50 -1.8125 \r\nQ 61.421875 -1.8125 67.203125 1.140625 \r\nQ 73 4.109375 73 9.1875 \r\nQ 73 14.265625 67.234375 17.234375 \r\nQ 61.46875 20.21875 50 20.21875 \r\nz\r\n\" id=\"MalgunGothic-46321\"/>\r\n      </defs>\r\n      <g style=\"fill:#262626;\" transform=\"translate(23.1475 118.154275)scale(0.11 -0.11)\">\r\n       <use xlink:href=\"#MalgunGothic-50689\"/>\r\n       <use x=\"100\" xlink:href=\"#MalgunGothic-46321\"/>\r\n       <use x=\"200\" xlink:href=\"#MalgunGothic-54252\"/>\r\n       <use x=\"300\" xlink:href=\"#MalgunGothic-44396\"/>\r\n      </g>\r\n     </g>\r\n    </g>\r\n    <g id=\"ytick_24\">\r\n     <g id=\"line2d_31\">\r\n      <path clip-path=\"url(#p4ca67dab75)\" d=\"M 76.6475 94.564286 \r\nL 913.6475 94.564286 \r\n\" style=\"fill:none;stroke:#ffffff;stroke-linecap:round;\"/>\r\n     </g>\r\n     <g id=\"text_31\">\r\n      <!-- 용산구 -->\r\n      <defs>\r\n       <path d=\"M 29.6875 52.78125 \r\nQ 20.125 57.46875 20.125 66.703125 \r\nQ 20.125 75.046875 27.875 79.609375 \r\nQ 35.640625 84.1875 50 84.1875 \r\nQ 64.359375 84.1875 72.125 79.609375 \r\nQ 79.890625 75.046875 79.890625 66.703125 \r\nQ 79.890625 57.328125 70.21875 52.78125 \r\nL 70.21875 39.40625 \r\nL 93.703125 39.40625 \r\nL 93.703125 32.90625 \r\nL 6.296875 32.90625 \r\nL 6.296875 39.40625 \r\nL 29.6875 39.40625 \r\nz\r\nM 50 77.984375 \r\nQ 27.6875 77.984375 27.6875 66.703125 \r\nQ 27.6875 61.375 33.21875 58.390625 \r\nQ 38.765625 55.421875 50 55.421875 \r\nQ 61.234375 55.421875 66.765625 58.390625 \r\nQ 72.3125 61.375 72.3125 66.703125 \r\nQ 72.3125 77.984375 50 77.984375 \r\nz\r\nM 37.015625 39.40625 \r\nL 62.890625 39.40625 \r\nL 62.890625 50.390625 \r\nQ 57.46875 49.21875 50 49.21875 \r\nQ 43.0625 49.21875 37.015625 50.484375 \r\nz\r\nM 50 -8.296875 \r\nQ 35.296875 -8.296875 27.5625 -3.65625 \r\nQ 19.828125 0.984375 19.828125 9.078125 \r\nQ 19.828125 17.28125 27.609375 21.9375 \r\nQ 35.40625 26.609375 50 26.609375 \r\nQ 64.59375 26.609375 72.375 21.9375 \r\nQ 80.171875 17.28125 80.171875 9.078125 \r\nQ 80.171875 0.984375 72.4375 -3.65625 \r\nQ 64.703125 -8.296875 50 -8.296875 \r\nz\r\nM 50 20.40625 \r\nQ 38.8125 20.40625 33.09375 17.375 \r\nQ 27.390625 14.359375 27.390625 9.078125 \r\nQ 27.390625 3.8125 33.078125 0.859375 \r\nQ 38.765625 -2.09375 50 -2.09375 \r\nQ 61.1875 -2.09375 66.890625 0.859375 \r\nQ 72.609375 3.8125 72.609375 9.078125 \r\nQ 72.609375 14.40625 66.875 17.40625 \r\nQ 61.140625 20.40625 50 20.40625 \r\nz\r\n\" id=\"MalgunGothic-50857\"/>\r\n       <path d=\"M 80.078125 49.515625 \r\nL 80.078125 16.890625 \r\nL 72.796875 16.890625 \r\nL 72.796875 85.40625 \r\nL 80.078125 85.40625 \r\nL 80.078125 56 \r\nL 94.28125 56 \r\nL 94.28125 49.515625 \r\nz\r\nM 56.203125 32.515625 \r\nQ 50.09375 35.84375 43.40625 42.671875 \r\nQ 36.71875 49.515625 34.1875 55.078125 \r\nQ 31.84375 48.828125 25.046875 41.28125 \r\nQ 18.265625 33.734375 11.71875 30.078125 \r\nL 6.390625 35.109375 \r\nQ 16.265625 39.890625 23.3125 49.578125 \r\nQ 30.375 59.28125 30.515625 69.578125 \r\nL 30.515625 81.6875 \r\nL 37.5 81.6875 \r\nL 37.5 69.578125 \r\nQ 37.5 60.015625 44.578125 50.921875 \r\nQ 51.65625 41.84375 61.078125 37.796875 \r\nz\r\nM 23.09375 -5.515625 \r\nL 23.09375 23.875 \r\nL 30.515625 23.875 \r\nL 30.515625 1.125 \r\nL 83.203125 1.125 \r\nL 83.203125 -5.515625 \r\nz\r\n\" id=\"MalgunGothic-49328\"/>\r\n      </defs>\r\n      <g style=\"fill:#262626;\" transform=\"translate(34.1475 98.739989)scale(0.11 -0.11)\">\r\n       <use xlink:href=\"#MalgunGothic-50857\"/>\r\n       <use x=\"100\" xlink:href=\"#MalgunGothic-49328\"/>\r\n       <use x=\"200\" xlink:href=\"#MalgunGothic-44396\"/>\r\n      </g>\r\n     </g>\r\n    </g>\r\n    <g id=\"ytick_25\">\r\n     <g id=\"line2d_32\">\r\n      <path clip-path=\"url(#p4ca67dab75)\" d=\"M 76.6475 75.15 \r\nL 913.6475 75.15 \r\n\" style=\"fill:none;stroke:#ffffff;stroke-linecap:round;\"/>\r\n     </g>\r\n     <g id=\"text_32\">\r\n      <!-- 은평구 -->\r\n      <defs>\r\n       <path d=\"M 50 46.09375 \r\nQ 36.078125 46.09375 28.390625 51.359375 \r\nQ 20.703125 56.640625 20.703125 64.984375 \r\nQ 20.703125 73.34375 28.359375 78.5625 \r\nQ 36.03125 83.796875 50 83.796875 \r\nQ 63.96875 83.796875 71.671875 78.5625 \r\nQ 79.390625 73.34375 79.390625 64.984375 \r\nQ 79.390625 56.640625 71.625 51.359375 \r\nQ 63.875 46.09375 50 46.09375 \r\nz\r\nM 50 77.59375 \r\nQ 39.703125 77.59375 34.015625 74.171875 \r\nQ 28.328125 70.75 28.328125 64.984375 \r\nQ 28.328125 59.234375 34.015625 55.8125 \r\nQ 39.703125 52.390625 50 52.390625 \r\nQ 60.296875 52.390625 65.984375 55.8125 \r\nQ 71.6875 59.234375 71.6875 64.984375 \r\nQ 71.6875 70.75 65.984375 74.171875 \r\nQ 60.296875 77.59375 50 77.59375 \r\nz\r\nM 6.296875 29.984375 \r\nL 6.296875 36.625 \r\nL 93.703125 36.625 \r\nL 93.703125 29.984375 \r\nz\r\nM 20.90625 -5.609375 \r\nL 20.90625 20.796875 \r\nL 28.328125 20.796875 \r\nL 28.328125 0.875 \r\nL 81.296875 0.875 \r\nL 81.296875 -5.609375 \r\nz\r\n\" id=\"MalgunGothic-51008\"/>\r\n       <path d=\"M 60.6875 46.78125 \r\nL 60.6875 52.984375 \r\nL 77.296875 52.984375 \r\nL 77.296875 62.015625 \r\nL 60.6875 62.015625 \r\nL 60.6875 68.21875 \r\nL 77.296875 68.21875 \r\nL 77.296875 85.40625 \r\nL 84.625 85.40625 \r\nL 84.625 29.390625 \r\nL 77.296875 29.390625 \r\nL 77.296875 46.78125 \r\nz\r\nM 12.40625 74.21875 \r\nL 12.40625 80.609375 \r\nL 63.375 80.609375 \r\nL 63.375 74.21875 \r\nz\r\nM 67.28125 35.109375 \r\nQ 61.140625 33.890625 50.484375 33.890625 \r\nL 10.109375 33.890625 \r\nL 10.109375 40.28125 \r\nL 22.90625 40.28125 \r\nL 21.78125 69.921875 \r\nL 28.90625 69.921875 \r\nL 29.78125 40.28125 \r\nL 45.3125 40.28125 \r\nL 46.1875 69.921875 \r\nL 53.328125 69.921875 \r\nL 52.09375 40.375 \r\nQ 60.890625 40.375 66.796875 41.40625 \r\nz\r\nM 55.421875 -8.40625 \r\nQ 40.53125 -8.40625 32.515625 -3.546875 \r\nQ 24.515625 1.3125 24.515625 9.28125 \r\nQ 24.515625 17.1875 32.4375 22.046875 \r\nQ 40.375 26.90625 55.421875 26.90625 \r\nQ 70.40625 26.90625 78.390625 22.046875 \r\nQ 86.375 17.1875 86.375 9.28125 \r\nQ 86.375 1.3125 78.3125 -3.546875 \r\nQ 70.265625 -8.40625 55.421875 -8.40625 \r\nz\r\nM 55.421875 20.703125 \r\nQ 44.28125 20.703125 38.296875 17.625 \r\nQ 32.328125 14.546875 32.328125 9.28125 \r\nQ 32.328125 4.046875 38.328125 0.96875 \r\nQ 44.34375 -2.09375 55.421875 -2.09375 \r\nQ 66.5 -2.09375 72.609375 0.96875 \r\nQ 78.71875 4.046875 78.71875 9.28125 \r\nQ 78.71875 14.546875 72.625 17.625 \r\nQ 66.546875 20.703125 55.421875 20.703125 \r\nz\r\n\" id=\"MalgunGothic-54217\"/>\r\n      </defs>\r\n      <g style=\"fill:#262626;\" transform=\"translate(34.1475 79.325703)scale(0.11 -0.11)\">\r\n       <use xlink:href=\"#MalgunGothic-51008\"/>\r\n       <use x=\"100\" xlink:href=\"#MalgunGothic-54217\"/>\r\n       <use x=\"200\" xlink:href=\"#MalgunGothic-44396\"/>\r\n      </g>\r\n     </g>\r\n    </g>\r\n    <g id=\"ytick_26\">\r\n     <g id=\"line2d_33\">\r\n      <path clip-path=\"url(#p4ca67dab75)\" d=\"M 76.6475 55.735714 \r\nL 913.6475 55.735714 \r\n\" style=\"fill:none;stroke:#ffffff;stroke-linecap:round;\"/>\r\n     </g>\r\n     <g id=\"text_33\">\r\n      <!-- 종로구 -->\r\n      <defs>\r\n       <path d=\"M 85.296875 51.125 \r\nQ 73.6875 52.984375 63.75 58.15625 \r\nQ 53.8125 63.328125 50.09375 68.890625 \r\nQ 46.578125 63.921875 36.765625 58.59375 \r\nQ 26.953125 53.265625 15.1875 51.21875 \r\nL 10.890625 57.078125 \r\nQ 23.09375 58.015625 33.421875 63.796875 \r\nQ 43.75 69.578125 46.09375 76.21875 \r\nL 16.015625 76.21875 \r\nL 16.015625 82.8125 \r\nL 83.984375 82.8125 \r\nL 83.984375 76.21875 \r\nL 54 76.21875 \r\nQ 56.203125 69.625 66.421875 63.90625 \r\nQ 76.65625 58.203125 89.109375 57.078125 \r\nz\r\nM 6.296875 34.421875 \r\nL 6.296875 41.015625 \r\nL 46.296875 41.015625 \r\nL 46.296875 54.78125 \r\nL 53.71875 54.78125 \r\nL 53.71875 41.015625 \r\nL 93.703125 41.015625 \r\nL 93.703125 34.421875 \r\nz\r\nM 50 -7.8125 \r\nQ 35.359375 -7.8125 27.59375 -3.125 \r\nQ 19.828125 1.5625 19.828125 9.8125 \r\nQ 19.828125 17.875 27.609375 22.53125 \r\nQ 35.40625 27.203125 50 27.203125 \r\nQ 64.59375 27.203125 72.375 22.53125 \r\nQ 80.171875 17.875 80.171875 9.8125 \r\nQ 80.171875 1.5625 72.40625 -3.125 \r\nQ 64.65625 -7.8125 50 -7.8125 \r\nz\r\nM 50 21 \r\nQ 38.765625 21 33.078125 18.046875 \r\nQ 27.390625 15.09375 27.390625 9.8125 \r\nQ 27.390625 4.4375 33.171875 1.40625 \r\nQ 38.96875 -1.609375 50 -1.609375 \r\nQ 60.984375 -1.609375 66.796875 1.40625 \r\nQ 72.609375 4.4375 72.609375 9.8125 \r\nQ 72.609375 15.09375 66.890625 18.046875 \r\nQ 61.1875 21 50 21 \r\nz\r\n\" id=\"MalgunGothic-51333\"/>\r\n      </defs>\r\n      <g style=\"fill:#262626;\" transform=\"translate(34.1475 59.911417)scale(0.11 -0.11)\">\r\n       <use xlink:href=\"#MalgunGothic-51333\"/>\r\n       <use x=\"100\" xlink:href=\"#MalgunGothic-47196\"/>\r\n       <use x=\"200\" xlink:href=\"#MalgunGothic-44396\"/>\r\n      </g>\r\n     </g>\r\n    </g>\r\n    <g id=\"ytick_27\">\r\n     <g id=\"line2d_34\">\r\n      <path clip-path=\"url(#p4ca67dab75)\" d=\"M 76.6475 36.321429 \r\nL 913.6475 36.321429 \r\n\" style=\"fill:none;stroke:#ffffff;stroke-linecap:round;\"/>\r\n     </g>\r\n     <g id=\"text_34\">\r\n      <!-- 중구 -->\r\n      <defs>\r\n       <path d=\"M 85.296875 51.125 \r\nQ 74.21875 52.6875 64.015625 58.03125 \r\nQ 53.8125 63.375 50.09375 69.09375 \r\nQ 46.625 63.96875 36.375 58.375 \r\nQ 26.125 52.78125 15.1875 51.21875 \r\nL 10.890625 57.078125 \r\nQ 23.09375 58.015625 33.421875 63.796875 \r\nQ 43.75 69.578125 46.09375 76.21875 \r\nL 16.015625 76.21875 \r\nL 16.015625 82.8125 \r\nL 83.984375 82.8125 \r\nL 83.984375 76.21875 \r\nL 54 76.21875 \r\nQ 56.203125 69.625 66.421875 63.90625 \r\nQ 76.65625 58.203125 89.109375 57.078125 \r\nz\r\nM 46.296875 27.09375 \r\nL 46.296875 37.984375 \r\nL 6.296875 37.984375 \r\nL 6.296875 44.578125 \r\nL 93.703125 44.578125 \r\nL 93.703125 37.984375 \r\nL 53.71875 37.984375 \r\nL 53.71875 27.09375 \r\nQ 66.703125 26.515625 73.4375 21.875 \r\nQ 80.171875 17.234375 80.171875 9.8125 \r\nQ 80.171875 1.5625 72.40625 -3.125 \r\nQ 64.65625 -7.8125 50 -7.8125 \r\nQ 35.359375 -7.8125 27.59375 -3.125 \r\nQ 19.828125 1.5625 19.828125 9.8125 \r\nQ 19.828125 17.234375 26.5625 21.875 \r\nQ 33.296875 26.515625 46.296875 27.09375 \r\nz\r\nM 50 21 \r\nQ 38.765625 21 33.078125 18.046875 \r\nQ 27.390625 15.09375 27.390625 9.8125 \r\nQ 27.390625 4.4375 33.171875 1.40625 \r\nQ 38.96875 -1.609375 50 -1.609375 \r\nQ 60.984375 -1.609375 66.796875 1.40625 \r\nQ 72.609375 4.4375 72.609375 9.8125 \r\nQ 72.609375 15.09375 66.890625 18.046875 \r\nQ 61.1875 21 50 21 \r\nz\r\n\" id=\"MalgunGothic-51473\"/>\r\n      </defs>\r\n      <g style=\"fill:#262626;\" transform=\"translate(45.1475 40.497132)scale(0.11 -0.11)\">\r\n       <use xlink:href=\"#MalgunGothic-51473\"/>\r\n       <use x=\"100\" xlink:href=\"#MalgunGothic-44396\"/>\r\n      </g>\r\n     </g>\r\n    </g>\r\n    <g id=\"ytick_28\">\r\n     <g id=\"line2d_35\">\r\n      <path clip-path=\"url(#p4ca67dab75)\" d=\"M 76.6475 16.907143 \r\nL 913.6475 16.907143 \r\n\" style=\"fill:none;stroke:#ffffff;stroke-linecap:round;\"/>\r\n     </g>\r\n     <g id=\"text_35\">\r\n      <!-- 중랑구 -->\r\n      <defs>\r\n       <path d=\"M 80.078125 53.90625 \r\nL 80.078125 30.21875 \r\nL 72.796875 30.21875 \r\nL 72.796875 85.40625 \r\nL 80.078125 85.40625 \r\nL 80.078125 60.40625 \r\nL 94.28125 60.40625 \r\nL 94.28125 53.90625 \r\nz\r\nM 63.71875 36.71875 \r\nQ 56.0625 35.453125 48.171875 35.171875 \r\nQ 40.28125 34.90625 12.890625 34.90625 \r\nL 12.890625 62.203125 \r\nL 47.703125 62.203125 \r\nL 47.703125 74.90625 \r\nL 12.890625 74.90625 \r\nL 12.890625 81.296875 \r\nL 54.984375 81.296875 \r\nL 54.984375 55.90625 \r\nL 20.21875 55.90625 \r\nL 20.21875 41.3125 \r\nQ 42.828125 41.3125 49.96875 41.59375 \r\nQ 57.125 41.890625 62.5 42.921875 \r\nz\r\nM 50.984375 -7.515625 \r\nQ 36.03125 -7.515625 28.171875 -2.875 \r\nQ 20.3125 1.765625 20.3125 9.625 \r\nQ 20.3125 17.53125 28.25 22.171875 \r\nQ 36.1875 26.8125 50.984375 26.8125 \r\nQ 65.765625 26.8125 73.71875 22.21875 \r\nQ 81.6875 17.625 81.6875 9.625 \r\nQ 81.6875 1.65625 73.828125 -2.921875 \r\nQ 65.96875 -7.515625 50.984375 -7.515625 \r\nz\r\nM 50.984375 20.609375 \r\nQ 39.796875 20.609375 33.9375 17.71875 \r\nQ 28.078125 14.84375 28.078125 9.625 \r\nQ 28.078125 4.34375 33.984375 1.515625 \r\nQ 39.890625 -1.3125 50.984375 -1.3125 \r\nQ 62.203125 -1.3125 68.109375 1.53125 \r\nQ 74.03125 4.390625 74.03125 9.625 \r\nQ 74.03125 14.796875 68.171875 17.703125 \r\nQ 62.3125 20.609375 50.984375 20.609375 \r\nz\r\n\" id=\"MalgunGothic-46993\"/>\r\n      </defs>\r\n      <g style=\"fill:#262626;\" transform=\"translate(34.1475 21.082846)scale(0.11 -0.11)\">\r\n       <use xlink:href=\"#MalgunGothic-51473\"/>\r\n       <use x=\"100\" xlink:href=\"#MalgunGothic-46993\"/>\r\n       <use x=\"200\" xlink:href=\"#MalgunGothic-44396\"/>\r\n      </g>\r\n     </g>\r\n    </g>\r\n    <g id=\"text_36\">\r\n     <!-- 지역 -->\r\n     <defs>\r\n      <path d=\"M 76.3125 -8.796875 \r\nL 76.3125 85.40625 \r\nL 83.59375 85.40625 \r\nL 83.59375 -8.796875 \r\nz\r\nM 58.984375 14.203125 \r\nQ 50.4375 20.90625 44.09375 29.390625 \r\nQ 37.75 37.890625 35.890625 44.671875 \r\nQ 34.03125 37.453125 27.4375 28.34375 \r\nQ 20.84375 19.234375 12.890625 12.890625 \r\nL 7.421875 17.921875 \r\nQ 18.609375 25.59375 25.390625 37.890625 \r\nQ 32.171875 50.203125 32.171875 62.796875 \r\nL 32.171875 70.703125 \r\nL 11.1875 70.703125 \r\nL 11.1875 77.203125 \r\nL 60.6875 77.203125 \r\nL 60.6875 70.703125 \r\nL 39.5 70.703125 \r\nL 39.5 63.09375 \r\nQ 39.5 50.59375 46.375 38.421875 \r\nQ 53.265625 26.265625 64.015625 19.828125 \r\nz\r\n\" id=\"MalgunGothic-51648\"/>\r\n      <path d=\"M 57.328125 44.390625 \r\nQ 50.140625 35.296875 37.5 35.296875 \r\nQ 26.953125 35.296875 20.0625 41.9375 \r\nQ 13.1875 48.578125 13.1875 59.1875 \r\nQ 13.1875 69.828125 20.0625 76.515625 \r\nQ 26.953125 83.203125 37.5 83.203125 \r\nQ 50.734375 83.203125 57.90625 73.1875 \r\nL 77.296875 73.1875 \r\nL 77.296875 85.40625 \r\nL 84.625 85.40625 \r\nL 84.625 31.984375 \r\nL 77.296875 31.984375 \r\nL 77.296875 44.390625 \r\nz\r\nM 37.5 76.8125 \r\nQ 29.984375 76.8125 25.25 72.046875 \r\nQ 20.515625 67.28125 20.515625 59.1875 \r\nQ 20.515625 51.078125 25.203125 46.34375 \r\nQ 29.890625 41.609375 37.5 41.609375 \r\nQ 45.21875 41.609375 49.90625 46.34375 \r\nQ 54.59375 51.078125 54.59375 59.1875 \r\nQ 54.59375 67.28125 49.859375 72.046875 \r\nQ 45.125 76.8125 37.5 76.8125 \r\nz\r\nM 60.59375 50.78125 \r\nL 77.296875 50.78125 \r\nL 77.296875 66.703125 \r\nL 60.890625 66.703125 \r\nQ 61.921875 63.484375 61.921875 59.1875 \r\nQ 61.921875 54.59375 60.59375 50.78125 \r\nz\r\nM 77.296875 -7.8125 \r\nL 77.296875 20.3125 \r\nL 23.78125 20.3125 \r\nL 23.78125 26.8125 \r\nL 84.625 26.8125 \r\nL 84.625 -7.8125 \r\nz\r\n\" id=\"MalgunGothic-50669\"/>\r\n     </defs>\r\n     <g style=\"fill:#262626;\" transform=\"translate(16.310625 291)rotate(-90)scale(0.12 -0.12)\">\r\n      <use xlink:href=\"#MalgunGothic-51648\"/>\r\n      <use x=\"100\" xlink:href=\"#MalgunGothic-50669\"/>\r\n     </g>\r\n    </g>\r\n   </g>\r\n   <g id=\"patch_3\">\r\n    <path clip-path=\"url(#p4ca67dab75)\" d=\"M 76.6475 545.946429 \r\nL 541.6475 545.946429 \r\nL 541.6475 536.239286 \r\nL 76.6475 536.239286 \r\nz\r\n\" style=\"fill:#4c72b0;stroke:#ffffff;stroke-linejoin:miter;\"/>\r\n   </g>\r\n   <g id=\"patch_4\">\r\n    <path clip-path=\"url(#p4ca67dab75)\" d=\"M 76.6475 526.532143 \r\nL 541.6475 526.532143 \r\nL 541.6475 516.825 \r\nL 76.6475 516.825 \r\nz\r\n\" style=\"fill:#4c72b0;stroke:#ffffff;stroke-linejoin:miter;\"/>\r\n   </g>\r\n   <g id=\"patch_5\">\r\n    <path clip-path=\"url(#p4ca67dab75)\" d=\"M 76.6475 507.117857 \r\nL 275.933214 507.117857 \r\nL 275.933214 497.410714 \r\nL 76.6475 497.410714 \r\nz\r\n\" style=\"fill:#4c72b0;stroke:#ffffff;stroke-linejoin:miter;\"/>\r\n   </g>\r\n   <g id=\"patch_6\">\r\n    <path clip-path=\"url(#p4ca67dab75)\" d=\"M 76.6475 487.703571 \r\nL 674.504643 487.703571 \r\nL 674.504643 477.996429 \r\nL 76.6475 477.996429 \r\nz\r\n\" style=\"fill:#4c72b0;stroke:#ffffff;stroke-linejoin:miter;\"/>\r\n   </g>\r\n   <g id=\"patch_7\">\r\n    <path clip-path=\"url(#p4ca67dab75)\" d=\"M 76.6475 468.289286 \r\nL 143.076071 468.289286 \r\nL 143.076071 458.582143 \r\nL 76.6475 458.582143 \r\nz\r\n\" style=\"fill:#4c72b0;stroke:#ffffff;stroke-linejoin:miter;\"/>\r\n   </g>\r\n   <g id=\"patch_8\">\r\n    <path clip-path=\"url(#p4ca67dab75)\" d=\"M 76.6475 448.875 \r\nL 143.076071 448.875 \r\nL 143.076071 439.167857 \r\nL 76.6475 439.167857 \r\nz\r\n\" style=\"fill:#4c72b0;stroke:#ffffff;stroke-linejoin:miter;\"/>\r\n   </g>\r\n   <g id=\"patch_9\">\r\n    <path clip-path=\"url(#p4ca67dab75)\" d=\"M 76.6475 429.460714 \r\nL 209.504643 429.460714 \r\nL 209.504643 419.753571 \r\nL 76.6475 419.753571 \r\nz\r\n\" style=\"fill:#4c72b0;stroke:#ffffff;stroke-linejoin:miter;\"/>\r\n   </g>\r\n   <g id=\"patch_10\">\r\n    <path clip-path=\"url(#p4ca67dab75)\" d=\"M 76.6475 410.046429 \r\nL 209.504643 410.046429 \r\nL 209.504643 400.339286 \r\nL 76.6475 400.339286 \r\nz\r\n\" style=\"fill:#4c72b0;stroke:#ffffff;stroke-linejoin:miter;\"/>\r\n   </g>\r\n   <g id=\"patch_11\">\r\n    <path clip-path=\"url(#p4ca67dab75)\" d=\"M 76.6475 390.632143 \r\nL 342.361786 390.632143 \r\nL 342.361786 380.925 \r\nL 76.6475 380.925 \r\nz\r\n\" style=\"fill:#4c72b0;stroke:#ffffff;stroke-linejoin:miter;\"/>\r\n   </g>\r\n   <g id=\"patch_12\">\r\n    <path clip-path=\"url(#p4ca67dab75)\" d=\"M 76.6475 371.217857 \r\nL 342.361786 371.217857 \r\nL 342.361786 361.510714 \r\nL 76.6475 361.510714 \r\nz\r\n\" style=\"fill:#4c72b0;stroke:#ffffff;stroke-linejoin:miter;\"/>\r\n   </g>\r\n   <g id=\"patch_13\">\r\n    <path clip-path=\"url(#p4ca67dab75)\" d=\"M 76.6475 351.803571 \r\nL 275.933214 351.803571 \r\nL 275.933214 342.096429 \r\nL 76.6475 342.096429 \r\nz\r\n\" style=\"fill:#4c72b0;stroke:#ffffff;stroke-linejoin:miter;\"/>\r\n   </g>\r\n   <g id=\"patch_14\">\r\n    <path clip-path=\"url(#p4ca67dab75)\" d=\"M 76.6475 332.389286 \r\nL 475.218929 332.389286 \r\nL 475.218929 322.682143 \r\nL 76.6475 322.682143 \r\nz\r\n\" style=\"fill:#4c72b0;stroke:#ffffff;stroke-linejoin:miter;\"/>\r\n   </g>\r\n   <g id=\"patch_15\">\r\n    <path clip-path=\"url(#p4ca67dab75)\" d=\"M 76.6475 312.975 \r\nL 342.361786 312.975 \r\nL 342.361786 303.267857 \r\nL 76.6475 303.267857 \r\nz\r\n\" style=\"fill:#4c72b0;stroke:#ffffff;stroke-linejoin:miter;\"/>\r\n   </g>\r\n   <g id=\"patch_16\">\r\n    <path clip-path=\"url(#p4ca67dab75)\" d=\"M 76.6475 293.560714 \r\nL 541.6475 293.560714 \r\nL 541.6475 283.853571 \r\nL 76.6475 283.853571 \r\nz\r\n\" style=\"fill:#4c72b0;stroke:#ffffff;stroke-linejoin:miter;\"/>\r\n   </g>\r\n   <g id=\"patch_17\">\r\n    <path clip-path=\"url(#p4ca67dab75)\" d=\"M 76.6475 274.146429 \r\nL 408.790357 274.146429 \r\nL 408.790357 264.439286 \r\nL 76.6475 264.439286 \r\nz\r\n\" style=\"fill:#4c72b0;stroke:#ffffff;stroke-linejoin:miter;\"/>\r\n   </g>\r\n   <g id=\"patch_18\">\r\n    <path clip-path=\"url(#p4ca67dab75)\" d=\"M 76.6475 254.732143 \r\nL 143.076071 254.732143 \r\nL 143.076071 245.025 \r\nL 76.6475 245.025 \r\nz\r\n\" style=\"fill:#4c72b0;stroke:#ffffff;stroke-linejoin:miter;\"/>\r\n   </g>\r\n   <g id=\"patch_19\">\r\n    <path clip-path=\"url(#p4ca67dab75)\" d=\"M 76.6475 235.317857 \r\nL 275.933214 235.317857 \r\nL 275.933214 225.610714 \r\nL 76.6475 225.610714 \r\nz\r\n\" style=\"fill:#4c72b0;stroke:#ffffff;stroke-linejoin:miter;\"/>\r\n   </g>\r\n   <g id=\"patch_20\">\r\n    <path clip-path=\"url(#p4ca67dab75)\" d=\"M 76.6475 215.903571 \r\nL 475.218929 215.903571 \r\nL 475.218929 206.196429 \r\nL 76.6475 206.196429 \r\nz\r\n\" style=\"fill:#4c72b0;stroke:#ffffff;stroke-linejoin:miter;\"/>\r\n   </g>\r\n   <g id=\"patch_21\">\r\n    <path clip-path=\"url(#p4ca67dab75)\" d=\"M 76.6475 196.489286 \r\nL 408.790357 196.489286 \r\nL 408.790357 186.782143 \r\nL 76.6475 186.782143 \r\nz\r\n\" style=\"fill:#4c72b0;stroke:#ffffff;stroke-linejoin:miter;\"/>\r\n   </g>\r\n   <g id=\"patch_22\">\r\n    <path clip-path=\"url(#p4ca67dab75)\" d=\"M 76.6475 177.075 \r\nL 275.933214 177.075 \r\nL 275.933214 167.367857 \r\nL 76.6475 167.367857 \r\nz\r\n\" style=\"fill:#4c72b0;stroke:#ffffff;stroke-linejoin:miter;\"/>\r\n   </g>\r\n   <g id=\"patch_23\">\r\n    <path clip-path=\"url(#p4ca67dab75)\" d=\"M 76.6475 157.660714 \r\nL 541.6475 157.660714 \r\nL 541.6475 147.953571 \r\nL 76.6475 147.953571 \r\nz\r\n\" style=\"fill:#4c72b0;stroke:#ffffff;stroke-linejoin:miter;\"/>\r\n   </g>\r\n   <g id=\"patch_24\">\r\n    <path clip-path=\"url(#p4ca67dab75)\" d=\"M 76.6475 138.246429 \r\nL 408.790357 138.246429 \r\nL 408.790357 128.539286 \r\nL 76.6475 128.539286 \r\nz\r\n\" style=\"fill:#4c72b0;stroke:#ffffff;stroke-linejoin:miter;\"/>\r\n   </g>\r\n   <g id=\"patch_25\">\r\n    <path clip-path=\"url(#p4ca67dab75)\" d=\"M 76.6475 118.832143 \r\nL 408.790357 118.832143 \r\nL 408.790357 109.125 \r\nL 76.6475 109.125 \r\nz\r\n\" style=\"fill:#4c72b0;stroke:#ffffff;stroke-linejoin:miter;\"/>\r\n   </g>\r\n   <g id=\"patch_26\">\r\n    <path clip-path=\"url(#p4ca67dab75)\" d=\"M 76.6475 99.417857 \r\nL 209.504643 99.417857 \r\nL 209.504643 89.710714 \r\nL 76.6475 89.710714 \r\nz\r\n\" style=\"fill:#4c72b0;stroke:#ffffff;stroke-linejoin:miter;\"/>\r\n   </g>\r\n   <g id=\"patch_27\">\r\n    <path clip-path=\"url(#p4ca67dab75)\" d=\"M 76.6475 80.003571 \r\nL 541.6475 80.003571 \r\nL 541.6475 70.296429 \r\nL 76.6475 70.296429 \r\nz\r\n\" style=\"fill:#4c72b0;stroke:#ffffff;stroke-linejoin:miter;\"/>\r\n   </g>\r\n   <g id=\"patch_28\">\r\n    <path clip-path=\"url(#p4ca67dab75)\" d=\"M 76.6475 60.589286 \r\nL 873.790357 60.589286 \r\nL 873.790357 50.882143 \r\nL 76.6475 50.882143 \r\nz\r\n\" style=\"fill:#4c72b0;stroke:#ffffff;stroke-linejoin:miter;\"/>\r\n   </g>\r\n   <g id=\"patch_29\">\r\n    <path clip-path=\"url(#p4ca67dab75)\" d=\"M 76.6475 41.175 \r\nL 408.790357 41.175 \r\nL 408.790357 31.467857 \r\nL 76.6475 31.467857 \r\nz\r\n\" style=\"fill:#4c72b0;stroke:#ffffff;stroke-linejoin:miter;\"/>\r\n   </g>\r\n   <g id=\"patch_30\">\r\n    <path clip-path=\"url(#p4ca67dab75)\" d=\"M 76.6475 21.760714 \r\nL 475.218929 21.760714 \r\nL 475.218929 12.053571 \r\nL 76.6475 12.053571 \r\nz\r\n\" style=\"fill:#4c72b0;stroke:#ffffff;stroke-linejoin:miter;\"/>\r\n   </g>\r\n   <g id=\"patch_31\">\r\n    <path d=\"M 76.6475 550.8 \r\nL 76.6475 7.2 \r\n\" style=\"fill:none;stroke:#ffffff;stroke-linecap:square;stroke-linejoin:miter;stroke-width:1.25;\"/>\r\n   </g>\r\n   <g id=\"patch_32\">\r\n    <path d=\"M 913.6475 550.8 \r\nL 913.6475 7.2 \r\n\" style=\"fill:none;stroke:#ffffff;stroke-linecap:square;stroke-linejoin:miter;stroke-width:1.25;\"/>\r\n   </g>\r\n   <g id=\"patch_33\">\r\n    <path d=\"M 76.6475 550.8 \r\nL 913.6475 550.8 \r\n\" style=\"fill:none;stroke:#ffffff;stroke-linecap:square;stroke-linejoin:miter;stroke-width:1.25;\"/>\r\n   </g>\r\n   <g id=\"patch_34\">\r\n    <path d=\"M 76.6475 7.2 \r\nL 913.6475 7.2 \r\n\" style=\"fill:none;stroke:#ffffff;stroke-linecap:square;stroke-linejoin:miter;stroke-width:1.25;\"/>\r\n   </g>\r\n  </g>\r\n </g>\r\n <defs>\r\n  <clipPath id=\"p4ca67dab75\">\r\n   <rect height=\"543.6\" width=\"837\" x=\"76.6475\" y=\"7.2\"/>\r\n  </clipPath>\r\n </defs>\r\n</svg>\r\n",
      "image/png": "[encoded data removed]"
     },
     "metadata": {}
    }
   ],
   "source": [
    "num_one['공원명'].plot(kind='barh', grid=True, figsize=(15,10))\n",
    "plt.show()"
   ]
  },
  {
   "source": [
    "#### 2. 구 인구별 공원 면적"
   ],
   "cell_type": "markdown",
   "metadata": {}
  },
  {
   "cell_type": "code",
   "execution_count": 50,
   "metadata": {},
   "outputs": [
    {
     "output_type": "execute_result",
     "data": {
      "text/plain": [
       "         기간  자치구         세대          계         남자         여자        계.1  \\\n",
       "0  2020.3/4   합계  4,405,833  9,953,009  4,840,912  5,112,097  9,699,232   \n",
       "1  2020.3/4  종로구     74,861    159,842     77,391     82,451    149,952   \n",
       "2  2020.3/4   중구     63,594    135,321     66,193     69,128    125,800   \n",
       "3  2020.3/4  용산구    112,451    244,953    119,074    125,879    229,786   \n",
       "4  2020.3/4  성동구    136,096    302,695    147,582    155,113    295,591   \n",
       "\n",
       "        남자.1       여자.1      계.2     남자.2     여자.2  세대당인구   65세이상고령자  \n",
       "0  4,719,170  4,980,062  253,777  121,742  132,035   2.20  1,552,356  \n",
       "1     73,024     76,928    9,890    4,367    5,523   2.00     28,396  \n",
       "2     61,526     64,274    9,521    4,667    4,854   1.98     24,265  \n",
       "3    110,604    119,182   15,167    8,470    6,697   2.04     39,995  \n",
       "4    144,444    151,147    7,104    3,138    3,966   2.17     45,372  "
      ],
      "text/html": "<div>\n<style scoped>\n    .dataframe tbody tr th:only-of-type {\n        vertical-align: middle;\n    }\n\n    .dataframe tbody tr th {\n        vertical-align: top;\n    }\n\n    .dataframe thead th {\n        text-align: right;\n    }\n</style>\n<table border=\"1\" class=\"dataframe\">\n  <thead>\n    <tr style=\"text-align: right;\">\n      <th></th>\n      <th>기간</th>\n      <th>자치구</th>\n      <th>세대</th>\n      <th>계</th>\n      <th>남자</th>\n      <th>여자</th>\n      <th>계.1</th>\n      <th>남자.1</th>\n      <th>여자.1</th>\n      <th>계.2</th>\n      <th>남자.2</th>\n      <th>여자.2</th>\n      <th>세대당인구</th>\n      <th>65세이상고령자</th>\n    </tr>\n  </thead>\n  <tbody>\n    <tr>\n      <th>0</th>\n      <td>2020.3/4</td>\n      <td>합계</td>\n      <td>4,405,833</td>\n      <td>9,953,009</td>\n      <td>4,840,912</td>\n      <td>5,112,097</td>\n      <td>9,699,232</td>\n      <td>4,719,170</td>\n      <td>4,980,062</td>\n      <td>253,777</td>\n      <td>121,742</td>\n      <td>132,035</td>\n      <td>2.20</td>\n      <td>1,552,356</td>\n    </tr>\n    <tr>\n      <th>1</th>\n      <td>2020.3/4</td>\n      <td>종로구</td>\n      <td>74,861</td>\n      <td>159,842</td>\n      <td>77,391</td>\n      <td>82,451</td>\n      <td>149,952</td>\n      <td>73,024</td>\n      <td>76,928</td>\n      <td>9,890</td>\n      <td>4,367</td>\n      <td>5,523</td>\n      <td>2.00</td>\n      <td>28,396</td>\n    </tr>\n    <tr>\n      <th>2</th>\n      <td>2020.3/4</td>\n      <td>중구</td>\n      <td>63,594</td>\n      <td>135,321</td>\n      <td>66,193</td>\n      <td>69,128</td>\n      <td>125,800</td>\n      <td>61,526</td>\n      <td>64,274</td>\n      <td>9,521</td>\n      <td>4,667</td>\n      <td>4,854</td>\n      <td>1.98</td>\n      <td>24,265</td>\n    </tr>\n    <tr>\n      <th>3</th>\n      <td>2020.3/4</td>\n      <td>용산구</td>\n      <td>112,451</td>\n      <td>244,953</td>\n      <td>119,074</td>\n      <td>125,879</td>\n      <td>229,786</td>\n      <td>110,604</td>\n      <td>119,182</td>\n      <td>15,167</td>\n      <td>8,470</td>\n      <td>6,697</td>\n      <td>2.04</td>\n      <td>39,995</td>\n    </tr>\n    <tr>\n      <th>4</th>\n      <td>2020.3/4</td>\n      <td>성동구</td>\n      <td>136,096</td>\n      <td>302,695</td>\n      <td>147,582</td>\n      <td>155,113</td>\n      <td>295,591</td>\n      <td>144,444</td>\n      <td>151,147</td>\n      <td>7,104</td>\n      <td>3,138</td>\n      <td>3,966</td>\n      <td>2.17</td>\n      <td>45,372</td>\n    </tr>\n  </tbody>\n</table>\n</div>"
     },
     "metadata": {},
     "execution_count": 50
    }
   ],
   "source": [
    "pop_seoul = pd.read_csv('./data/서울시 인구현황.txt', sep='\\t', encoding='utf8', header=2)\n",
    "pop_seoul.head()"
   ]
  },
  {
   "source": [
    "#### 3. 공원 면적 vs 구 면적"
   ],
   "cell_type": "markdown",
   "metadata": {}
  },
  {
   "source": [
    "#### 4. 공원 지도에 표시하기(공원 크기가 차이가 나도록)"
   ],
   "cell_type": "markdown",
   "metadata": {}
  },
  {
   "source": [
    "#### 5.강서구 지도에 공원 자세히 표시하기"
   ],
   "cell_type": "markdown",
   "metadata": {}
  },
  {
   "cell_type": "code",
   "execution_count": null,
   "metadata": {},
   "outputs": [],
   "source": []
  }
 ]
}