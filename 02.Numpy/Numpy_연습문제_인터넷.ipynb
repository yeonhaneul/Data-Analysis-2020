{
 "metadata": {
  "language_info": {
   "codemirror_mode": {
    "name": "ipython",
    "version": 3
   },
   "file_extension": ".py",
   "mimetype": "text/x-python",
   "name": "python",
   "nbconvert_exporter": "python",
   "pygments_lexer": "ipython3",
   "version": "3.8.3-final"
  },
  "orig_nbformat": 2,
  "kernelspec": {
   "name": "Python 3.8.3 64-bit ('base': conda)",
   "display_name": "Python 3.8.3 64-bit ('base': conda)",
   "metadata": {
    "interpreter": {
     "hash": "b3ba2566441a7c06988d0923437866b63cedc61552a5af99d1f4fb67d367b25f"
    }
   }
  }
 },
 "nbformat": 4,
 "nbformat_minor": 2,
 "cells": [
  {
   "cell_type": "code",
   "execution_count": 12,
   "metadata": {},
   "outputs": [],
   "source": [
    "import numpy as np\n",
    "import pandas as pd"
   ]
  },
  {
   "cell_type": "code",
   "execution_count": 20,
   "metadata": {},
   "outputs": [
    {
     "output_type": "execute_result",
     "data": {
      "text/plain": [
       "0    94\n",
       "1    79\n",
       "2    11\n",
       "3    58\n",
       "4    43\n",
       "dtype: int32"
      ]
     },
     "metadata": {},
     "execution_count": 20
    }
   ],
   "source": [
    "#1. 랜덤으로 5개의정수를 만들어 시리즈로 생성하기\n",
    "a = np.random.randint(100, size=5)\n",
    "s = pd.Series(data=a)\n",
    "s"
   ]
  },
  {
   "cell_type": "code",
   "execution_count": 23,
   "metadata": {},
   "outputs": [
    {
     "output_type": "execute_result",
     "data": {
      "text/plain": [
       "0    0.418890\n",
       "1    0.379692\n",
       "2    0.946745\n",
       "3    0.162012\n",
       "4    0.166766\n",
       "dtype: float64"
      ]
     },
     "metadata": {},
     "execution_count": 23
    }
   ],
   "source": [
    "#2. 랜덤으로 5개의 실수를 만들어 시리즈로 생성하기\n",
    "b = np.random.rand(5)\n",
    "z = pd.Series(b)\n",
    "z"
   ]
  },
  {
   "cell_type": "code",
   "execution_count": 25,
   "metadata": {},
   "outputs": [
    {
     "output_type": "execute_result",
     "data": {
      "text/plain": [
       "O형     28\n",
       "A형     34\n",
       "B형     27\n",
       "AB형    11\n",
       "dtype: int64"
      ]
     },
     "metadata": {},
     "execution_count": 25
    }
   ],
   "source": [
    "#3. 혈액형 통계 수치를 이용하여 인덱스를 가지는 시리즈 생성하기\n",
    "blood_pct = [28, 34, 27, 11]\n",
    "blood = ['O형', 'A형', 'B형', 'AB형']\n",
    "s_blood = pd.Series(blood_pct, index=blood)\n",
    "s_blood"
   ]
  },
  {
   "cell_type": "code",
   "execution_count": 28,
   "metadata": {},
   "outputs": [
    {
     "output_type": "execute_result",
     "data": {
      "text/plain": [
       "    0   1   2   3   4\n",
       "0   1   2   3   4   5\n",
       "1   6   7   8   9  10\n",
       "2  11  12  13  14  15\n",
       "3  16  17  18  19  20\n",
       "4  21  22  23  24  25"
      ],
      "text/html": "<div>\n<style scoped>\n    .dataframe tbody tr th:only-of-type {\n        vertical-align: middle;\n    }\n\n    .dataframe tbody tr th {\n        vertical-align: top;\n    }\n\n    .dataframe thead th {\n        text-align: right;\n    }\n</style>\n<table border=\"1\" class=\"dataframe\">\n  <thead>\n    <tr style=\"text-align: right;\">\n      <th></th>\n      <th>0</th>\n      <th>1</th>\n      <th>2</th>\n      <th>3</th>\n      <th>4</th>\n    </tr>\n  </thead>\n  <tbody>\n    <tr>\n      <th>0</th>\n      <td>1</td>\n      <td>2</td>\n      <td>3</td>\n      <td>4</td>\n      <td>5</td>\n    </tr>\n    <tr>\n      <th>1</th>\n      <td>6</td>\n      <td>7</td>\n      <td>8</td>\n      <td>9</td>\n      <td>10</td>\n    </tr>\n    <tr>\n      <th>2</th>\n      <td>11</td>\n      <td>12</td>\n      <td>13</td>\n      <td>14</td>\n      <td>15</td>\n    </tr>\n    <tr>\n      <th>3</th>\n      <td>16</td>\n      <td>17</td>\n      <td>18</td>\n      <td>19</td>\n      <td>20</td>\n    </tr>\n    <tr>\n      <th>4</th>\n      <td>21</td>\n      <td>22</td>\n      <td>23</td>\n      <td>24</td>\n      <td>25</td>\n    </tr>\n  </tbody>\n</table>\n</div>"
     },
     "metadata": {},
     "execution_count": 28
    }
   ],
   "source": [
    "#4. 1 ~ 25숫자를 가지는 DataFrame만들기\n",
    "k = pd.DataFrame(np.arange(1,26).reshape(5, 5))\n",
    "k"
   ]
  },
  {
   "cell_type": "code",
   "execution_count": 30,
   "metadata": {},
   "outputs": [
    {
     "output_type": "execute_result",
     "data": {
      "text/plain": [
       "   나이  번호 이름   점수\n",
       "0  15   1  a  100\n",
       "1  16   2  b   90\n",
       "2  15   3  c   80\n",
       "3  14   4  d   70"
      ],
      "text/html": "<div>\n<style scoped>\n    .dataframe tbody tr th:only-of-type {\n        vertical-align: middle;\n    }\n\n    .dataframe tbody tr th {\n        vertical-align: top;\n    }\n\n    .dataframe thead th {\n        text-align: right;\n    }\n</style>\n<table border=\"1\" class=\"dataframe\">\n  <thead>\n    <tr style=\"text-align: right;\">\n      <th></th>\n      <th>나이</th>\n      <th>번호</th>\n      <th>이름</th>\n      <th>점수</th>\n    </tr>\n  </thead>\n  <tbody>\n    <tr>\n      <th>0</th>\n      <td>15</td>\n      <td>1</td>\n      <td>a</td>\n      <td>100</td>\n    </tr>\n    <tr>\n      <th>1</th>\n      <td>16</td>\n      <td>2</td>\n      <td>b</td>\n      <td>90</td>\n    </tr>\n    <tr>\n      <th>2</th>\n      <td>15</td>\n      <td>3</td>\n      <td>c</td>\n      <td>80</td>\n    </tr>\n    <tr>\n      <th>3</th>\n      <td>14</td>\n      <td>4</td>\n      <td>d</td>\n      <td>70</td>\n    </tr>\n  </tbody>\n</table>\n</div>"
     },
     "metadata": {},
     "execution_count": 30
    }
   ],
   "source": [
    "#5. 아래와 같은 모습의 DataFrame만들기\n",
    "data = (15, 1, 'a', 100), (16, 2, 'b', 90), (15, 3, 'c', 80), (14, 4, 'd', 70)\n",
    "column = ['나이', '번호', '이름', '점수']\n",
    "\n",
    "l = pd.DataFrame(data=data, columns=column)\n",
    "l"
   ]
  },
  {
   "cell_type": "code",
   "execution_count": 31,
   "metadata": {},
   "outputs": [],
   "source": [
    "## http://blog.daum.net/revisioncrm/460\n",
    "\n",
    "cust = pd.DataFrame({'age' : np.arange(30,51), 'sales' : np.repeat([65,60,80],7)})\n",
    "freq = np.repeat([3,7,4,2,1,1,2],3)\n",
    "# sales는 각 고객별 총판매금액이며 freq는 구매횟수이다."
   ]
  },
  {
   "cell_type": "code",
   "execution_count": null,
   "metadata": {},
   "outputs": [],
   "source": [
    "# 문제1: 고객의 수를 계산하라\n"
   ]
  }
 ]
}