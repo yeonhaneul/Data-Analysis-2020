{
 "metadata": {
  "language_info": {
   "codemirror_mode": {
    "name": "ipython",
    "version": 3
   },
   "file_extension": ".py",
   "mimetype": "text/x-python",
   "name": "python",
   "nbconvert_exporter": "python",
   "pygments_lexer": "ipython3",
   "version": "3.8.3-final"
  },
  "orig_nbformat": 2,
  "kernelspec": {
   "name": "Python 3.8.3 64-bit ('base': conda)",
   "display_name": "Python 3.8.3 64-bit ('base': conda)",
   "metadata": {
    "interpreter": {
     "hash": "b3ba2566441a7c06988d0923437866b63cedc61552a5af99d1f4fb67d367b25f"
    }
   }
  }
 },
 "nbformat": 4,
 "nbformat_minor": 2,
 "cells": [
  {
   "cell_type": "markdown",
   "metadata": {},
   "source": [
    "# 데이터프레임 합성"
   ]
  },
  {
   "cell_type": "code",
   "execution_count": 1,
   "metadata": {},
   "outputs": [],
   "source": [
    "import numpy as np\n",
    "import pandas as pd"
   ]
  },
  {
   "cell_type": "markdown",
   "metadata": {},
   "source": [
    "### merge 함수를 사용한 데이터프레임 병합"
   ]
  },
  {
   "cell_type": "code",
   "execution_count": 4,
   "metadata": {},
   "outputs": [
    {
     "output_type": "execute_result",
     "data": {
      "text/plain": [
       "   고객번호   이름\n",
       "0  1001   둘리\n",
       "1  1002  도우너\n",
       "2  1003   또치\n",
       "3  1004   길동\n",
       "4  1005   희동\n",
       "5  1006  마이콜\n",
       "6  1007   영희"
      ],
      "text/html": "<div>\n<style scoped>\n    .dataframe tbody tr th:only-of-type {\n        vertical-align: middle;\n    }\n\n    .dataframe tbody tr th {\n        vertical-align: top;\n    }\n\n    .dataframe thead th {\n        text-align: right;\n    }\n</style>\n<table border=\"1\" class=\"dataframe\">\n  <thead>\n    <tr style=\"text-align: right;\">\n      <th></th>\n      <th>고객번호</th>\n      <th>이름</th>\n    </tr>\n  </thead>\n  <tbody>\n    <tr>\n      <th>0</th>\n      <td>1001</td>\n      <td>둘리</td>\n    </tr>\n    <tr>\n      <th>1</th>\n      <td>1002</td>\n      <td>도우너</td>\n    </tr>\n    <tr>\n      <th>2</th>\n      <td>1003</td>\n      <td>또치</td>\n    </tr>\n    <tr>\n      <th>3</th>\n      <td>1004</td>\n      <td>길동</td>\n    </tr>\n    <tr>\n      <th>4</th>\n      <td>1005</td>\n      <td>희동</td>\n    </tr>\n    <tr>\n      <th>5</th>\n      <td>1006</td>\n      <td>마이콜</td>\n    </tr>\n    <tr>\n      <th>6</th>\n      <td>1007</td>\n      <td>영희</td>\n    </tr>\n  </tbody>\n</table>\n</div>"
     },
     "metadata": {},
     "execution_count": 4
    }
   ],
   "source": [
    "df1 = pd.DataFrame({\n",
    "    '고객번호': [1001, 1002, 1003, 1004, 1005, 1006, 1007],\n",
    "    '이름': ['둘리', '도우너', '또치', '길동', '희동', '마이콜', '영희']\n",
    "}, columns=['고객번호', '이름'])\n",
    "df1"
   ]
  },
  {
   "cell_type": "code",
   "execution_count": 5,
   "metadata": {},
   "outputs": [
    {
     "output_type": "execute_result",
     "data": {
      "text/plain": [
       "   고객번호      금액\n",
       "0  1001   10000\n",
       "1  1001   20000\n",
       "2  1005   15000\n",
       "3  1006    5000\n",
       "4  1008  100000\n",
       "5  1001   30000"
      ],
      "text/html": "<div>\n<style scoped>\n    .dataframe tbody tr th:only-of-type {\n        vertical-align: middle;\n    }\n\n    .dataframe tbody tr th {\n        vertical-align: top;\n    }\n\n    .dataframe thead th {\n        text-align: right;\n    }\n</style>\n<table border=\"1\" class=\"dataframe\">\n  <thead>\n    <tr style=\"text-align: right;\">\n      <th></th>\n      <th>고객번호</th>\n      <th>금액</th>\n    </tr>\n  </thead>\n  <tbody>\n    <tr>\n      <th>0</th>\n      <td>1001</td>\n      <td>10000</td>\n    </tr>\n    <tr>\n      <th>1</th>\n      <td>1001</td>\n      <td>20000</td>\n    </tr>\n    <tr>\n      <th>2</th>\n      <td>1005</td>\n      <td>15000</td>\n    </tr>\n    <tr>\n      <th>3</th>\n      <td>1006</td>\n      <td>5000</td>\n    </tr>\n    <tr>\n      <th>4</th>\n      <td>1008</td>\n      <td>100000</td>\n    </tr>\n    <tr>\n      <th>5</th>\n      <td>1001</td>\n      <td>30000</td>\n    </tr>\n  </tbody>\n</table>\n</div>"
     },
     "metadata": {},
     "execution_count": 5
    }
   ],
   "source": [
    "df2 = pd.DataFrame({\n",
    "    '고객번호': [1001, 1001, 1005, 1006, 1008, 1001],\n",
    "    '금액': [10000, 20000, 15000, 5000, 100000, 30000]\n",
    "}, columns=['고객번호', '금액'])\n",
    "df2"
   ]
  },
  {
   "cell_type": "code",
   "execution_count": 6,
   "metadata": {},
   "outputs": [
    {
     "output_type": "execute_result",
     "data": {
      "text/plain": [
       "   고객번호   이름     금액\n",
       "0  1001   둘리  10000\n",
       "1  1001   둘리  20000\n",
       "2  1001   둘리  30000\n",
       "3  1005   희동  15000\n",
       "4  1006  마이콜   5000"
      ],
      "text/html": "<div>\n<style scoped>\n    .dataframe tbody tr th:only-of-type {\n        vertical-align: middle;\n    }\n\n    .dataframe tbody tr th {\n        vertical-align: top;\n    }\n\n    .dataframe thead th {\n        text-align: right;\n    }\n</style>\n<table border=\"1\" class=\"dataframe\">\n  <thead>\n    <tr style=\"text-align: right;\">\n      <th></th>\n      <th>고객번호</th>\n      <th>이름</th>\n      <th>금액</th>\n    </tr>\n  </thead>\n  <tbody>\n    <tr>\n      <th>0</th>\n      <td>1001</td>\n      <td>둘리</td>\n      <td>10000</td>\n    </tr>\n    <tr>\n      <th>1</th>\n      <td>1001</td>\n      <td>둘리</td>\n      <td>20000</td>\n    </tr>\n    <tr>\n      <th>2</th>\n      <td>1001</td>\n      <td>둘리</td>\n      <td>30000</td>\n    </tr>\n    <tr>\n      <th>3</th>\n      <td>1005</td>\n      <td>희동</td>\n      <td>15000</td>\n    </tr>\n    <tr>\n      <th>4</th>\n      <td>1006</td>\n      <td>마이콜</td>\n      <td>5000</td>\n    </tr>\n  </tbody>\n</table>\n</div>"
     },
     "metadata": {},
     "execution_count": 6
    }
   ],
   "source": [
    "# sql의 join과 비슷한 역할을 한다.\n",
    "# inner join\n",
    "# column명이 같은것을 기준으로 join이된다.\n",
    "pd.merge(df1, df2)"
   ]
  },
  {
   "cell_type": "code",
   "execution_count": 7,
   "metadata": {},
   "outputs": [
    {
     "output_type": "execute_result",
     "data": {
      "text/plain": [
       "   고객번호   이름        금액\n",
       "0  1001   둘리   10000.0\n",
       "1  1001   둘리   20000.0\n",
       "2  1001   둘리   30000.0\n",
       "3  1002  도우너       NaN\n",
       "4  1003   또치       NaN\n",
       "5  1004   길동       NaN\n",
       "6  1005   희동   15000.0\n",
       "7  1006  마이콜    5000.0\n",
       "8  1007   영희       NaN\n",
       "9  1008  NaN  100000.0"
      ],
      "text/html": "<div>\n<style scoped>\n    .dataframe tbody tr th:only-of-type {\n        vertical-align: middle;\n    }\n\n    .dataframe tbody tr th {\n        vertical-align: top;\n    }\n\n    .dataframe thead th {\n        text-align: right;\n    }\n</style>\n<table border=\"1\" class=\"dataframe\">\n  <thead>\n    <tr style=\"text-align: right;\">\n      <th></th>\n      <th>고객번호</th>\n      <th>이름</th>\n      <th>금액</th>\n    </tr>\n  </thead>\n  <tbody>\n    <tr>\n      <th>0</th>\n      <td>1001</td>\n      <td>둘리</td>\n      <td>10000.0</td>\n    </tr>\n    <tr>\n      <th>1</th>\n      <td>1001</td>\n      <td>둘리</td>\n      <td>20000.0</td>\n    </tr>\n    <tr>\n      <th>2</th>\n      <td>1001</td>\n      <td>둘리</td>\n      <td>30000.0</td>\n    </tr>\n    <tr>\n      <th>3</th>\n      <td>1002</td>\n      <td>도우너</td>\n      <td>NaN</td>\n    </tr>\n    <tr>\n      <th>4</th>\n      <td>1003</td>\n      <td>또치</td>\n      <td>NaN</td>\n    </tr>\n    <tr>\n      <th>5</th>\n      <td>1004</td>\n      <td>길동</td>\n      <td>NaN</td>\n    </tr>\n    <tr>\n      <th>6</th>\n      <td>1005</td>\n      <td>희동</td>\n      <td>15000.0</td>\n    </tr>\n    <tr>\n      <th>7</th>\n      <td>1006</td>\n      <td>마이콜</td>\n      <td>5000.0</td>\n    </tr>\n    <tr>\n      <th>8</th>\n      <td>1007</td>\n      <td>영희</td>\n      <td>NaN</td>\n    </tr>\n    <tr>\n      <th>9</th>\n      <td>1008</td>\n      <td>NaN</td>\n      <td>100000.0</td>\n    </tr>\n  </tbody>\n</table>\n</div>"
     },
     "metadata": {},
     "execution_count": 7
    }
   ],
   "source": [
    "# full-outer join (how='outer')\n",
    "pd.merge(df1, df2, how='outer')"
   ]
  },
  {
   "cell_type": "code",
   "execution_count": 8,
   "metadata": {},
   "outputs": [
    {
     "output_type": "execute_result",
     "data": {
      "text/plain": [
       "   고객번호   이름       금액\n",
       "0  1001   둘리  10000.0\n",
       "1  1001   둘리  20000.0\n",
       "2  1001   둘리  30000.0\n",
       "3  1002  도우너      NaN\n",
       "4  1003   또치      NaN\n",
       "5  1004   길동      NaN\n",
       "6  1005   희동  15000.0\n",
       "7  1006  마이콜   5000.0\n",
       "8  1007   영희      NaN"
      ],
      "text/html": "<div>\n<style scoped>\n    .dataframe tbody tr th:only-of-type {\n        vertical-align: middle;\n    }\n\n    .dataframe tbody tr th {\n        vertical-align: top;\n    }\n\n    .dataframe thead th {\n        text-align: right;\n    }\n</style>\n<table border=\"1\" class=\"dataframe\">\n  <thead>\n    <tr style=\"text-align: right;\">\n      <th></th>\n      <th>고객번호</th>\n      <th>이름</th>\n      <th>금액</th>\n    </tr>\n  </thead>\n  <tbody>\n    <tr>\n      <th>0</th>\n      <td>1001</td>\n      <td>둘리</td>\n      <td>10000.0</td>\n    </tr>\n    <tr>\n      <th>1</th>\n      <td>1001</td>\n      <td>둘리</td>\n      <td>20000.0</td>\n    </tr>\n    <tr>\n      <th>2</th>\n      <td>1001</td>\n      <td>둘리</td>\n      <td>30000.0</td>\n    </tr>\n    <tr>\n      <th>3</th>\n      <td>1002</td>\n      <td>도우너</td>\n      <td>NaN</td>\n    </tr>\n    <tr>\n      <th>4</th>\n      <td>1003</td>\n      <td>또치</td>\n      <td>NaN</td>\n    </tr>\n    <tr>\n      <th>5</th>\n      <td>1004</td>\n      <td>길동</td>\n      <td>NaN</td>\n    </tr>\n    <tr>\n      <th>6</th>\n      <td>1005</td>\n      <td>희동</td>\n      <td>15000.0</td>\n    </tr>\n    <tr>\n      <th>7</th>\n      <td>1006</td>\n      <td>마이콜</td>\n      <td>5000.0</td>\n    </tr>\n    <tr>\n      <th>8</th>\n      <td>1007</td>\n      <td>영희</td>\n      <td>NaN</td>\n    </tr>\n  </tbody>\n</table>\n</div>"
     },
     "metadata": {},
     "execution_count": 8
    }
   ],
   "source": [
    "# left-outer join\n",
    "pd.merge(df1, df2, how='left')"
   ]
  },
  {
   "cell_type": "code",
   "execution_count": 9,
   "metadata": {},
   "outputs": [
    {
     "output_type": "execute_result",
     "data": {
      "text/plain": [
       "   고객번호   이름      금액\n",
       "0  1001   둘리   10000\n",
       "1  1001   둘리   20000\n",
       "2  1001   둘리   30000\n",
       "3  1005   희동   15000\n",
       "4  1006  마이콜    5000\n",
       "5  1008  NaN  100000"
      ],
      "text/html": "<div>\n<style scoped>\n    .dataframe tbody tr th:only-of-type {\n        vertical-align: middle;\n    }\n\n    .dataframe tbody tr th {\n        vertical-align: top;\n    }\n\n    .dataframe thead th {\n        text-align: right;\n    }\n</style>\n<table border=\"1\" class=\"dataframe\">\n  <thead>\n    <tr style=\"text-align: right;\">\n      <th></th>\n      <th>고객번호</th>\n      <th>이름</th>\n      <th>금액</th>\n    </tr>\n  </thead>\n  <tbody>\n    <tr>\n      <th>0</th>\n      <td>1001</td>\n      <td>둘리</td>\n      <td>10000</td>\n    </tr>\n    <tr>\n      <th>1</th>\n      <td>1001</td>\n      <td>둘리</td>\n      <td>20000</td>\n    </tr>\n    <tr>\n      <th>2</th>\n      <td>1001</td>\n      <td>둘리</td>\n      <td>30000</td>\n    </tr>\n    <tr>\n      <th>3</th>\n      <td>1005</td>\n      <td>희동</td>\n      <td>15000</td>\n    </tr>\n    <tr>\n      <th>4</th>\n      <td>1006</td>\n      <td>마이콜</td>\n      <td>5000</td>\n    </tr>\n    <tr>\n      <th>5</th>\n      <td>1008</td>\n      <td>NaN</td>\n      <td>100000</td>\n    </tr>\n  </tbody>\n</table>\n</div>"
     },
     "metadata": {},
     "execution_count": 9
    }
   ],
   "source": [
    "# right-outer join\n",
    "pd.merge(df1, df2, how='right')"
   ]
  },
  {
   "cell_type": "code",
   "execution_count": 10,
   "metadata": {},
   "outputs": [
    {
     "output_type": "execute_result",
     "data": {
      "text/plain": [
       "          품종  꽃잎길이\n",
       "0     setosa   1.4\n",
       "1     setosa   1.3\n",
       "2  virginica   1.5\n",
       "3  virginica   1.3"
      ],
      "text/html": "<div>\n<style scoped>\n    .dataframe tbody tr th:only-of-type {\n        vertical-align: middle;\n    }\n\n    .dataframe tbody tr th {\n        vertical-align: top;\n    }\n\n    .dataframe thead th {\n        text-align: right;\n    }\n</style>\n<table border=\"1\" class=\"dataframe\">\n  <thead>\n    <tr style=\"text-align: right;\">\n      <th></th>\n      <th>품종</th>\n      <th>꽃잎길이</th>\n    </tr>\n  </thead>\n  <tbody>\n    <tr>\n      <th>0</th>\n      <td>setosa</td>\n      <td>1.4</td>\n    </tr>\n    <tr>\n      <th>1</th>\n      <td>setosa</td>\n      <td>1.3</td>\n    </tr>\n    <tr>\n      <th>2</th>\n      <td>virginica</td>\n      <td>1.5</td>\n    </tr>\n    <tr>\n      <th>3</th>\n      <td>virginica</td>\n      <td>1.3</td>\n    </tr>\n  </tbody>\n</table>\n</div>"
     },
     "metadata": {},
     "execution_count": 10
    }
   ],
   "source": [
    "df1 = pd.DataFrame({\n",
    "    '품종': ['setosa', 'setosa', 'virginica', 'virginica'],\n",
    "    '꽃잎길이': [1.4, 1.3, 1.5, 1.3]},\n",
    "    columns=['품종', '꽃잎길이'])\n",
    "df1"
   ]
  },
  {
   "cell_type": "code",
   "execution_count": 11,
   "metadata": {},
   "outputs": [
    {
     "output_type": "execute_result",
     "data": {
      "text/plain": [
       "           품종  꽃잎너비\n",
       "0      setosa   0.4\n",
       "1   virginica   0.3\n",
       "2   virginica   0.5\n",
       "3  versicolor   0.3"
      ],
      "text/html": "<div>\n<style scoped>\n    .dataframe tbody tr th:only-of-type {\n        vertical-align: middle;\n    }\n\n    .dataframe tbody tr th {\n        vertical-align: top;\n    }\n\n    .dataframe thead th {\n        text-align: right;\n    }\n</style>\n<table border=\"1\" class=\"dataframe\">\n  <thead>\n    <tr style=\"text-align: right;\">\n      <th></th>\n      <th>품종</th>\n      <th>꽃잎너비</th>\n    </tr>\n  </thead>\n  <tbody>\n    <tr>\n      <th>0</th>\n      <td>setosa</td>\n      <td>0.4</td>\n    </tr>\n    <tr>\n      <th>1</th>\n      <td>virginica</td>\n      <td>0.3</td>\n    </tr>\n    <tr>\n      <th>2</th>\n      <td>virginica</td>\n      <td>0.5</td>\n    </tr>\n    <tr>\n      <th>3</th>\n      <td>versicolor</td>\n      <td>0.3</td>\n    </tr>\n  </tbody>\n</table>\n</div>"
     },
     "metadata": {},
     "execution_count": 11
    }
   ],
   "source": [
    "df2 = pd.DataFrame({\n",
    "    '품종': ['setosa', 'virginica', 'virginica', 'versicolor'],\n",
    "    '꽃잎너비': [0.4, 0.3, 0.5, 0.3]},\n",
    "    columns=['품종', '꽃잎너비'])\n",
    "df2"
   ]
  },
  {
   "cell_type": "code",
   "execution_count": 12,
   "metadata": {},
   "outputs": [
    {
     "output_type": "execute_result",
     "data": {
      "text/plain": [
       "          품종  꽃잎길이  꽃잎너비\n",
       "0     setosa   1.4   0.4\n",
       "1     setosa   1.3   0.4\n",
       "2  virginica   1.5   0.3\n",
       "3  virginica   1.5   0.5\n",
       "4  virginica   1.3   0.3\n",
       "5  virginica   1.3   0.5"
      ],
      "text/html": "<div>\n<style scoped>\n    .dataframe tbody tr th:only-of-type {\n        vertical-align: middle;\n    }\n\n    .dataframe tbody tr th {\n        vertical-align: top;\n    }\n\n    .dataframe thead th {\n        text-align: right;\n    }\n</style>\n<table border=\"1\" class=\"dataframe\">\n  <thead>\n    <tr style=\"text-align: right;\">\n      <th></th>\n      <th>품종</th>\n      <th>꽃잎길이</th>\n      <th>꽃잎너비</th>\n    </tr>\n  </thead>\n  <tbody>\n    <tr>\n      <th>0</th>\n      <td>setosa</td>\n      <td>1.4</td>\n      <td>0.4</td>\n    </tr>\n    <tr>\n      <th>1</th>\n      <td>setosa</td>\n      <td>1.3</td>\n      <td>0.4</td>\n    </tr>\n    <tr>\n      <th>2</th>\n      <td>virginica</td>\n      <td>1.5</td>\n      <td>0.3</td>\n    </tr>\n    <tr>\n      <th>3</th>\n      <td>virginica</td>\n      <td>1.5</td>\n      <td>0.5</td>\n    </tr>\n    <tr>\n      <th>4</th>\n      <td>virginica</td>\n      <td>1.3</td>\n      <td>0.3</td>\n    </tr>\n    <tr>\n      <th>5</th>\n      <td>virginica</td>\n      <td>1.3</td>\n      <td>0.5</td>\n    </tr>\n  </tbody>\n</table>\n</div>"
     },
     "metadata": {},
     "execution_count": 12
    }
   ],
   "source": [
    "# 각 테이블에 동일한 column의 조건이 중복되어있는경우, 조건으로 인하여 발생하는 경우의수를 모두 함께 join해서 보여준다.\n",
    "pd.merge(df1, df2)"
   ]
  },
  {
   "cell_type": "markdown",
   "metadata": {},
   "source": [
    "### 컬럼명이 같은 경우"
   ]
  },
  {
   "cell_type": "code",
   "execution_count": 13,
   "metadata": {},
   "outputs": [
    {
     "output_type": "execute_result",
     "data": {
      "text/plain": [
       "  고객명          날짜     데이터\n",
       "0  춘향  2018-01-01   20000\n",
       "1  춘향  2018-01-02   30000\n",
       "2  몽룡  2018-01-01  100000"
      ],
      "text/html": "<div>\n<style scoped>\n    .dataframe tbody tr th:only-of-type {\n        vertical-align: middle;\n    }\n\n    .dataframe tbody tr th {\n        vertical-align: top;\n    }\n\n    .dataframe thead th {\n        text-align: right;\n    }\n</style>\n<table border=\"1\" class=\"dataframe\">\n  <thead>\n    <tr style=\"text-align: right;\">\n      <th></th>\n      <th>고객명</th>\n      <th>날짜</th>\n      <th>데이터</th>\n    </tr>\n  </thead>\n  <tbody>\n    <tr>\n      <th>0</th>\n      <td>춘향</td>\n      <td>2018-01-01</td>\n      <td>20000</td>\n    </tr>\n    <tr>\n      <th>1</th>\n      <td>춘향</td>\n      <td>2018-01-02</td>\n      <td>30000</td>\n    </tr>\n    <tr>\n      <th>2</th>\n      <td>몽룡</td>\n      <td>2018-01-01</td>\n      <td>100000</td>\n    </tr>\n  </tbody>\n</table>\n</div>"
     },
     "metadata": {},
     "execution_count": 13
    }
   ],
   "source": [
    "df1 = pd.DataFrame({\n",
    "    '고객명': ['춘향', '춘향', '몽룡'],\n",
    "    '날짜': ['2018-01-01', '2018-01-02', '2018-01-01'],\n",
    "    '데이터': ['20000', '30000', '100000']})\n",
    "df1"
   ]
  },
  {
   "cell_type": "code",
   "execution_count": 14,
   "metadata": {},
   "outputs": [
    {
     "output_type": "execute_result",
     "data": {
      "text/plain": [
       "  고객명 데이터\n",
       "0  춘향  여자\n",
       "1  몽룡  남자"
      ],
      "text/html": "<div>\n<style scoped>\n    .dataframe tbody tr th:only-of-type {\n        vertical-align: middle;\n    }\n\n    .dataframe tbody tr th {\n        vertical-align: top;\n    }\n\n    .dataframe thead th {\n        text-align: right;\n    }\n</style>\n<table border=\"1\" class=\"dataframe\">\n  <thead>\n    <tr style=\"text-align: right;\">\n      <th></th>\n      <th>고객명</th>\n      <th>데이터</th>\n    </tr>\n  </thead>\n  <tbody>\n    <tr>\n      <th>0</th>\n      <td>춘향</td>\n      <td>여자</td>\n    </tr>\n    <tr>\n      <th>1</th>\n      <td>몽룡</td>\n      <td>남자</td>\n    </tr>\n  </tbody>\n</table>\n</div>"
     },
     "metadata": {},
     "execution_count": 14
    }
   ],
   "source": [
    "df2 = pd.DataFrame({\n",
    "    '고객명': ['춘향', '몽룡'],\n",
    "    '데이터': ['여자', '남자']})\n",
    "df2"
   ]
  },
  {
   "cell_type": "code",
   "execution_count": 15,
   "metadata": {},
   "outputs": [
    {
     "output_type": "execute_result",
     "data": {
      "text/plain": [
       "Empty DataFrame\n",
       "Columns: [고객명, 날짜, 데이터]\n",
       "Index: []"
      ],
      "text/html": "<div>\n<style scoped>\n    .dataframe tbody tr th:only-of-type {\n        vertical-align: middle;\n    }\n\n    .dataframe tbody tr th {\n        vertical-align: top;\n    }\n\n    .dataframe thead th {\n        text-align: right;\n    }\n</style>\n<table border=\"1\" class=\"dataframe\">\n  <thead>\n    <tr style=\"text-align: right;\">\n      <th></th>\n      <th>고객명</th>\n      <th>날짜</th>\n      <th>데이터</th>\n    </tr>\n  </thead>\n  <tbody>\n  </tbody>\n</table>\n</div>"
     },
     "metadata": {},
     "execution_count": 15
    }
   ],
   "source": [
    "# 동일한 컬럼명이 2개라, join을 자동적으로 할 수 없다.\n",
    "pd.merge(df1, df2)"
   ]
  },
  {
   "cell_type": "code",
   "execution_count": 16,
   "metadata": {},
   "outputs": [
    {
     "output_type": "execute_result",
     "data": {
      "text/plain": [
       "  고객명          날짜   데이터_x 데이터_y\n",
       "0  춘향  2018-01-01   20000    여자\n",
       "1  춘향  2018-01-02   30000    여자\n",
       "2  몽룡  2018-01-01  100000    남자"
      ],
      "text/html": "<div>\n<style scoped>\n    .dataframe tbody tr th:only-of-type {\n        vertical-align: middle;\n    }\n\n    .dataframe tbody tr th {\n        vertical-align: top;\n    }\n\n    .dataframe thead th {\n        text-align: right;\n    }\n</style>\n<table border=\"1\" class=\"dataframe\">\n  <thead>\n    <tr style=\"text-align: right;\">\n      <th></th>\n      <th>고객명</th>\n      <th>날짜</th>\n      <th>데이터_x</th>\n      <th>데이터_y</th>\n    </tr>\n  </thead>\n  <tbody>\n    <tr>\n      <th>0</th>\n      <td>춘향</td>\n      <td>2018-01-01</td>\n      <td>20000</td>\n      <td>여자</td>\n    </tr>\n    <tr>\n      <th>1</th>\n      <td>춘향</td>\n      <td>2018-01-02</td>\n      <td>30000</td>\n      <td>여자</td>\n    </tr>\n    <tr>\n      <th>2</th>\n      <td>몽룡</td>\n      <td>2018-01-01</td>\n      <td>100000</td>\n      <td>남자</td>\n    </tr>\n  </tbody>\n</table>\n</div>"
     },
     "metadata": {},
     "execution_count": 16
    }
   ],
   "source": [
    "# on을 통하여 join의 기준이 되는 컬럼명을 정해주면된다.\n",
    "pd.merge(df1, df2, on='고객명')"
   ]
  },
  {
   "cell_type": "markdown",
   "metadata": {},
   "source": [
    "### 동일한 컬럼내용이지만 컬러명이 다를 때"
   ]
  },
  {
   "cell_type": "code",
   "execution_count": 18,
   "metadata": {},
   "outputs": [
    {
     "output_type": "execute_result",
     "data": {
      "text/plain": [
       "   이름  성적\n",
       "0  영희   1\n",
       "1  철수   2\n",
       "2  철수   3"
      ],
      "text/html": "<div>\n<style scoped>\n    .dataframe tbody tr th:only-of-type {\n        vertical-align: middle;\n    }\n\n    .dataframe tbody tr th {\n        vertical-align: top;\n    }\n\n    .dataframe thead th {\n        text-align: right;\n    }\n</style>\n<table border=\"1\" class=\"dataframe\">\n  <thead>\n    <tr style=\"text-align: right;\">\n      <th></th>\n      <th>이름</th>\n      <th>성적</th>\n    </tr>\n  </thead>\n  <tbody>\n    <tr>\n      <th>0</th>\n      <td>영희</td>\n      <td>1</td>\n    </tr>\n    <tr>\n      <th>1</th>\n      <td>철수</td>\n      <td>2</td>\n    </tr>\n    <tr>\n      <th>2</th>\n      <td>철수</td>\n      <td>3</td>\n    </tr>\n  </tbody>\n</table>\n</div>"
     },
     "metadata": {},
     "execution_count": 18
    }
   ],
   "source": [
    "df1 = pd.DataFrame({\n",
    "    '이름': ['영희', '철수', '철수'],\n",
    "    '성적': [1, 2, 3]})\n",
    "df1"
   ]
  },
  {
   "cell_type": "code",
   "execution_count": 19,
   "metadata": {},
   "outputs": [
    {
     "output_type": "execute_result",
     "data": {
      "text/plain": [
       "   성명  성적2\n",
       "0  영희    4\n",
       "1  영희    5\n",
       "2  철수    6"
      ],
      "text/html": "<div>\n<style scoped>\n    .dataframe tbody tr th:only-of-type {\n        vertical-align: middle;\n    }\n\n    .dataframe tbody tr th {\n        vertical-align: top;\n    }\n\n    .dataframe thead th {\n        text-align: right;\n    }\n</style>\n<table border=\"1\" class=\"dataframe\">\n  <thead>\n    <tr style=\"text-align: right;\">\n      <th></th>\n      <th>성명</th>\n      <th>성적2</th>\n    </tr>\n  </thead>\n  <tbody>\n    <tr>\n      <th>0</th>\n      <td>영희</td>\n      <td>4</td>\n    </tr>\n    <tr>\n      <th>1</th>\n      <td>영희</td>\n      <td>5</td>\n    </tr>\n    <tr>\n      <th>2</th>\n      <td>철수</td>\n      <td>6</td>\n    </tr>\n  </tbody>\n</table>\n</div>"
     },
     "metadata": {},
     "execution_count": 19
    }
   ],
   "source": [
    "df2 = pd.DataFrame({\n",
    "    '성명': ['영희', '영희', '철수'],\n",
    "    '성적2': [4, 5, 6]})\n",
    "df2"
   ]
  },
  {
   "cell_type": "code",
   "execution_count": 20,
   "metadata": {},
   "outputs": [
    {
     "output_type": "execute_result",
     "data": {
      "text/plain": [
       "   이름  성적  성명  성적2\n",
       "0  영희   1  영희    4\n",
       "1  영희   1  영희    5\n",
       "2  철수   2  철수    6\n",
       "3  철수   3  철수    6"
      ],
      "text/html": "<div>\n<style scoped>\n    .dataframe tbody tr th:only-of-type {\n        vertical-align: middle;\n    }\n\n    .dataframe tbody tr th {\n        vertical-align: top;\n    }\n\n    .dataframe thead th {\n        text-align: right;\n    }\n</style>\n<table border=\"1\" class=\"dataframe\">\n  <thead>\n    <tr style=\"text-align: right;\">\n      <th></th>\n      <th>이름</th>\n      <th>성적</th>\n      <th>성명</th>\n      <th>성적2</th>\n    </tr>\n  </thead>\n  <tbody>\n    <tr>\n      <th>0</th>\n      <td>영희</td>\n      <td>1</td>\n      <td>영희</td>\n      <td>4</td>\n    </tr>\n    <tr>\n      <th>1</th>\n      <td>영희</td>\n      <td>1</td>\n      <td>영희</td>\n      <td>5</td>\n    </tr>\n    <tr>\n      <th>2</th>\n      <td>철수</td>\n      <td>2</td>\n      <td>철수</td>\n      <td>6</td>\n    </tr>\n    <tr>\n      <th>3</th>\n      <td>철수</td>\n      <td>3</td>\n      <td>철수</td>\n      <td>6</td>\n    </tr>\n  </tbody>\n</table>\n</div>"
     },
     "metadata": {},
     "execution_count": 20
    }
   ],
   "source": [
    "# 각각 on을 지정해준다.\n",
    "pd.merge(df1, df2, left_on='이름', right_on=\"성명\")"
   ]
  },
  {
   "cell_type": "markdown",
   "metadata": {},
   "source": [
    "### 인덱스를 기준열로 사용"
   ]
  },
  {
   "cell_type": "code",
   "execution_count": 21,
   "metadata": {},
   "outputs": [
    {
     "output_type": "execute_result",
     "data": {
      "text/plain": [
       "   도시    연도       인구\n",
       "0  서울  2000  9853972\n",
       "1  서울  2005  9762546\n",
       "2  서울  2010  9631482\n",
       "3  부산  2000  3655437\n",
       "4  부산  2005  3512547"
      ],
      "text/html": "<div>\n<style scoped>\n    .dataframe tbody tr th:only-of-type {\n        vertical-align: middle;\n    }\n\n    .dataframe tbody tr th {\n        vertical-align: top;\n    }\n\n    .dataframe thead th {\n        text-align: right;\n    }\n</style>\n<table border=\"1\" class=\"dataframe\">\n  <thead>\n    <tr style=\"text-align: right;\">\n      <th></th>\n      <th>도시</th>\n      <th>연도</th>\n      <th>인구</th>\n    </tr>\n  </thead>\n  <tbody>\n    <tr>\n      <th>0</th>\n      <td>서울</td>\n      <td>2000</td>\n      <td>9853972</td>\n    </tr>\n    <tr>\n      <th>1</th>\n      <td>서울</td>\n      <td>2005</td>\n      <td>9762546</td>\n    </tr>\n    <tr>\n      <th>2</th>\n      <td>서울</td>\n      <td>2010</td>\n      <td>9631482</td>\n    </tr>\n    <tr>\n      <th>3</th>\n      <td>부산</td>\n      <td>2000</td>\n      <td>3655437</td>\n    </tr>\n    <tr>\n      <th>4</th>\n      <td>부산</td>\n      <td>2005</td>\n      <td>3512547</td>\n    </tr>\n  </tbody>\n</table>\n</div>"
     },
     "metadata": {},
     "execution_count": 21
    }
   ],
   "source": [
    "df1 = pd.DataFrame({\n",
    "    '도시': ['서울', '서울', '서울', '부산', '부산'],\n",
    "    '연도': [2000, 2005, 2010, 2000, 2005],\n",
    "    '인구': [9853972, 9762546, 9631482, 3655437, 3512547]})\n",
    "df1"
   ]
  },
  {
   "cell_type": "code",
   "execution_count": 22,
   "metadata": {},
   "outputs": [
    {
     "output_type": "execute_result",
     "data": {
      "text/plain": [
       "         데이터1  데이터2\n",
       "부산 2000     0     1\n",
       "   2005     2     3\n",
       "서울 2000     4     5\n",
       "   2005     6     7\n",
       "   2010     8     9\n",
       "   2015    10    11"
      ],
      "text/html": "<div>\n<style scoped>\n    .dataframe tbody tr th:only-of-type {\n        vertical-align: middle;\n    }\n\n    .dataframe tbody tr th {\n        vertical-align: top;\n    }\n\n    .dataframe thead th {\n        text-align: right;\n    }\n</style>\n<table border=\"1\" class=\"dataframe\">\n  <thead>\n    <tr style=\"text-align: right;\">\n      <th></th>\n      <th></th>\n      <th>데이터1</th>\n      <th>데이터2</th>\n    </tr>\n  </thead>\n  <tbody>\n    <tr>\n      <th rowspan=\"2\" valign=\"top\">부산</th>\n      <th>2000</th>\n      <td>0</td>\n      <td>1</td>\n    </tr>\n    <tr>\n      <th>2005</th>\n      <td>2</td>\n      <td>3</td>\n    </tr>\n    <tr>\n      <th rowspan=\"4\" valign=\"top\">서울</th>\n      <th>2000</th>\n      <td>4</td>\n      <td>5</td>\n    </tr>\n    <tr>\n      <th>2005</th>\n      <td>6</td>\n      <td>7</td>\n    </tr>\n    <tr>\n      <th>2010</th>\n      <td>8</td>\n      <td>9</td>\n    </tr>\n    <tr>\n      <th>2015</th>\n      <td>10</td>\n      <td>11</td>\n    </tr>\n  </tbody>\n</table>\n</div>"
     },
     "metadata": {},
     "execution_count": 22
    }
   ],
   "source": [
    "df2 = pd.DataFrame(\n",
    "    np.arange(12).reshape((6, 2)),\n",
    "    index=[['부산', '부산', '서울', '서울', '서울', '서울'],\n",
    "           [2000, 2005, 2000, 2005, 2010, 2015]],\n",
    "    columns=['데이터1', '데이터2'])\n",
    "df2"
   ]
  },
  {
   "cell_type": "code",
   "execution_count": 24,
   "metadata": {},
   "outputs": [
    {
     "output_type": "execute_result",
     "data": {
      "text/plain": [
       "   도시    연도       인구  데이터1  데이터2\n",
       "0  서울  2000  9853972     4     5\n",
       "1  서울  2005  9762546     6     7\n",
       "2  서울  2010  9631482     8     9\n",
       "3  부산  2000  3655437     0     1\n",
       "4  부산  2005  3512547     2     3"
      ],
      "text/html": "<div>\n<style scoped>\n    .dataframe tbody tr th:only-of-type {\n        vertical-align: middle;\n    }\n\n    .dataframe tbody tr th {\n        vertical-align: top;\n    }\n\n    .dataframe thead th {\n        text-align: right;\n    }\n</style>\n<table border=\"1\" class=\"dataframe\">\n  <thead>\n    <tr style=\"text-align: right;\">\n      <th></th>\n      <th>도시</th>\n      <th>연도</th>\n      <th>인구</th>\n      <th>데이터1</th>\n      <th>데이터2</th>\n    </tr>\n  </thead>\n  <tbody>\n    <tr>\n      <th>0</th>\n      <td>서울</td>\n      <td>2000</td>\n      <td>9853972</td>\n      <td>4</td>\n      <td>5</td>\n    </tr>\n    <tr>\n      <th>1</th>\n      <td>서울</td>\n      <td>2005</td>\n      <td>9762546</td>\n      <td>6</td>\n      <td>7</td>\n    </tr>\n    <tr>\n      <th>2</th>\n      <td>서울</td>\n      <td>2010</td>\n      <td>9631482</td>\n      <td>8</td>\n      <td>9</td>\n    </tr>\n    <tr>\n      <th>3</th>\n      <td>부산</td>\n      <td>2000</td>\n      <td>3655437</td>\n      <td>0</td>\n      <td>1</td>\n    </tr>\n    <tr>\n      <th>4</th>\n      <td>부산</td>\n      <td>2005</td>\n      <td>3512547</td>\n      <td>2</td>\n      <td>3</td>\n    </tr>\n  </tbody>\n</table>\n</div>"
     },
     "metadata": {},
     "execution_count": 24
    }
   ],
   "source": [
    "# on에 2개의 데이터를 줄 때에는 [](리스트)로 줘도 가능하고, ()(튜플)로 줘도 가능하다.\n",
    "pd.merge(df1, df2, left_on=('도시', '연도'), right_index=True)"
   ]
  },
  {
   "cell_type": "markdown",
   "metadata": {},
   "source": [
    "### join 메서드"
   ]
  },
  {
   "cell_type": "code",
   "execution_count": 30,
   "metadata": {},
   "outputs": [
    {
     "output_type": "execute_result",
     "data": {
      "text/plain": [
       "          품종  꽃잎길이\n",
       "0     setosa   1.4\n",
       "1     setosa   1.3\n",
       "2  virginica   1.5\n",
       "3  virginica   1.3"
      ],
      "text/html": "<div>\n<style scoped>\n    .dataframe tbody tr th:only-of-type {\n        vertical-align: middle;\n    }\n\n    .dataframe tbody tr th {\n        vertical-align: top;\n    }\n\n    .dataframe thead th {\n        text-align: right;\n    }\n</style>\n<table border=\"1\" class=\"dataframe\">\n  <thead>\n    <tr style=\"text-align: right;\">\n      <th></th>\n      <th>품종</th>\n      <th>꽃잎길이</th>\n    </tr>\n  </thead>\n  <tbody>\n    <tr>\n      <th>0</th>\n      <td>setosa</td>\n      <td>1.4</td>\n    </tr>\n    <tr>\n      <th>1</th>\n      <td>setosa</td>\n      <td>1.3</td>\n    </tr>\n    <tr>\n      <th>2</th>\n      <td>virginica</td>\n      <td>1.5</td>\n    </tr>\n    <tr>\n      <th>3</th>\n      <td>virginica</td>\n      <td>1.3</td>\n    </tr>\n  </tbody>\n</table>\n</div>"
     },
     "metadata": {},
     "execution_count": 30
    }
   ],
   "source": [
    "df1 = pd.DataFrame({\n",
    "    '품종': ['setosa', 'setosa', 'virginica', 'virginica'],\n",
    "    '꽃잎길이': [1.4, 1.3, 1.5, 1.3]},\n",
    "    columns=['품종', '꽃잎길이'])\n",
    "df1"
   ]
  },
  {
   "cell_type": "code",
   "execution_count": 31,
   "metadata": {},
   "outputs": [
    {
     "output_type": "execute_result",
     "data": {
      "text/plain": [
       "           품종  꽃잎너비\n",
       "0      setosa   0.4\n",
       "1   virginica   0.3\n",
       "2   virginica   0.5\n",
       "3  versicolor   0.3"
      ],
      "text/html": "<div>\n<style scoped>\n    .dataframe tbody tr th:only-of-type {\n        vertical-align: middle;\n    }\n\n    .dataframe tbody tr th {\n        vertical-align: top;\n    }\n\n    .dataframe thead th {\n        text-align: right;\n    }\n</style>\n<table border=\"1\" class=\"dataframe\">\n  <thead>\n    <tr style=\"text-align: right;\">\n      <th></th>\n      <th>품종</th>\n      <th>꽃잎너비</th>\n    </tr>\n  </thead>\n  <tbody>\n    <tr>\n      <th>0</th>\n      <td>setosa</td>\n      <td>0.4</td>\n    </tr>\n    <tr>\n      <th>1</th>\n      <td>virginica</td>\n      <td>0.3</td>\n    </tr>\n    <tr>\n      <th>2</th>\n      <td>virginica</td>\n      <td>0.5</td>\n    </tr>\n    <tr>\n      <th>3</th>\n      <td>versicolor</td>\n      <td>0.3</td>\n    </tr>\n  </tbody>\n</table>\n</div>"
     },
     "metadata": {},
     "execution_count": 31
    }
   ],
   "source": [
    "df2 = pd.DataFrame({\n",
    "    '품종': ['setosa', 'virginica', 'virginica', 'versicolor'],\n",
    "    '꽃잎너비': [0.4, 0.3, 0.5, 0.3]},\n",
    "    columns=['품종', '꽃잎너비'])\n",
    "df2"
   ]
  },
  {
   "cell_type": "code",
   "execution_count": 33,
   "metadata": {},
   "outputs": [
    {
     "output_type": "error",
     "ename": "ValueError",
     "evalue": "columns overlap but no suffix specified: Index(['품종'], dtype='object')",
     "traceback": [
      "\u001b[1;31m---------------------------------------------------------------------------\u001b[0m",
      "\u001b[1;31mValueError\u001b[0m                                Traceback (most recent call last)",
      "\u001b[1;32m<ipython-input-33-89d8ae060784>\u001b[0m in \u001b[0;36m<module>\u001b[1;34m\u001b[0m\n\u001b[0;32m      1\u001b[0m \u001b[1;31m# join은 index로 합쳐진다.\u001b[0m\u001b[1;33m\u001b[0m\u001b[1;33m\u001b[0m\u001b[1;33m\u001b[0m\u001b[0m\n\u001b[1;32m----> 2\u001b[1;33m \u001b[0mdf1\u001b[0m\u001b[1;33m.\u001b[0m\u001b[0mjoin\u001b[0m\u001b[1;33m(\u001b[0m\u001b[0mdf2\u001b[0m\u001b[1;33m)\u001b[0m\u001b[1;33m\u001b[0m\u001b[1;33m\u001b[0m\u001b[0m\n\u001b[0m",
      "\u001b[1;32mC:\\ProgramData\\Anaconda3\\lib\\site-packages\\pandas\\core\\frame.py\u001b[0m in \u001b[0;36mjoin\u001b[1;34m(self, other, on, how, lsuffix, rsuffix, sort)\u001b[0m\n\u001b[0;32m   7206\u001b[0m         \u001b[1;36m5\u001b[0m  \u001b[0mK5\u001b[0m  \u001b[0mA5\u001b[0m  \u001b[0mNaN\u001b[0m\u001b[1;33m\u001b[0m\u001b[1;33m\u001b[0m\u001b[0m\n\u001b[0;32m   7207\u001b[0m         \"\"\"\n\u001b[1;32m-> 7208\u001b[1;33m         return self._join_compat(\n\u001b[0m\u001b[0;32m   7209\u001b[0m             \u001b[0mother\u001b[0m\u001b[1;33m,\u001b[0m \u001b[0mon\u001b[0m\u001b[1;33m=\u001b[0m\u001b[0mon\u001b[0m\u001b[1;33m,\u001b[0m \u001b[0mhow\u001b[0m\u001b[1;33m=\u001b[0m\u001b[0mhow\u001b[0m\u001b[1;33m,\u001b[0m \u001b[0mlsuffix\u001b[0m\u001b[1;33m=\u001b[0m\u001b[0mlsuffix\u001b[0m\u001b[1;33m,\u001b[0m \u001b[0mrsuffix\u001b[0m\u001b[1;33m=\u001b[0m\u001b[0mrsuffix\u001b[0m\u001b[1;33m,\u001b[0m \u001b[0msort\u001b[0m\u001b[1;33m=\u001b[0m\u001b[0msort\u001b[0m\u001b[1;33m\u001b[0m\u001b[1;33m\u001b[0m\u001b[0m\n\u001b[0;32m   7210\u001b[0m         )\n",
      "\u001b[1;32mC:\\ProgramData\\Anaconda3\\lib\\site-packages\\pandas\\core\\frame.py\u001b[0m in \u001b[0;36m_join_compat\u001b[1;34m(self, other, on, how, lsuffix, rsuffix, sort)\u001b[0m\n\u001b[0;32m   7222\u001b[0m \u001b[1;33m\u001b[0m\u001b[0m\n\u001b[0;32m   7223\u001b[0m         \u001b[1;32mif\u001b[0m \u001b[0misinstance\u001b[0m\u001b[1;33m(\u001b[0m\u001b[0mother\u001b[0m\u001b[1;33m,\u001b[0m \u001b[0mDataFrame\u001b[0m\u001b[1;33m)\u001b[0m\u001b[1;33m:\u001b[0m\u001b[1;33m\u001b[0m\u001b[1;33m\u001b[0m\u001b[0m\n\u001b[1;32m-> 7224\u001b[1;33m             return merge(\n\u001b[0m\u001b[0;32m   7225\u001b[0m                 \u001b[0mself\u001b[0m\u001b[1;33m,\u001b[0m\u001b[1;33m\u001b[0m\u001b[1;33m\u001b[0m\u001b[0m\n\u001b[0;32m   7226\u001b[0m                 \u001b[0mother\u001b[0m\u001b[1;33m,\u001b[0m\u001b[1;33m\u001b[0m\u001b[1;33m\u001b[0m\u001b[0m\n",
      "\u001b[1;32mC:\\ProgramData\\Anaconda3\\lib\\site-packages\\pandas\\core\\reshape\\merge.py\u001b[0m in \u001b[0;36mmerge\u001b[1;34m(left, right, how, on, left_on, right_on, left_index, right_index, sort, suffixes, copy, indicator, validate)\u001b[0m\n\u001b[0;32m     86\u001b[0m         \u001b[0mvalidate\u001b[0m\u001b[1;33m=\u001b[0m\u001b[0mvalidate\u001b[0m\u001b[1;33m,\u001b[0m\u001b[1;33m\u001b[0m\u001b[1;33m\u001b[0m\u001b[0m\n\u001b[0;32m     87\u001b[0m     )\n\u001b[1;32m---> 88\u001b[1;33m     \u001b[1;32mreturn\u001b[0m \u001b[0mop\u001b[0m\u001b[1;33m.\u001b[0m\u001b[0mget_result\u001b[0m\u001b[1;33m(\u001b[0m\u001b[1;33m)\u001b[0m\u001b[1;33m\u001b[0m\u001b[1;33m\u001b[0m\u001b[0m\n\u001b[0m\u001b[0;32m     89\u001b[0m \u001b[1;33m\u001b[0m\u001b[0m\n\u001b[0;32m     90\u001b[0m \u001b[1;33m\u001b[0m\u001b[0m\n",
      "\u001b[1;32mC:\\ProgramData\\Anaconda3\\lib\\site-packages\\pandas\\core\\reshape\\merge.py\u001b[0m in \u001b[0;36mget_result\u001b[1;34m(self)\u001b[0m\n\u001b[0;32m    646\u001b[0m         \u001b[0mlsuf\u001b[0m\u001b[1;33m,\u001b[0m \u001b[0mrsuf\u001b[0m \u001b[1;33m=\u001b[0m \u001b[0mself\u001b[0m\u001b[1;33m.\u001b[0m\u001b[0msuffixes\u001b[0m\u001b[1;33m\u001b[0m\u001b[1;33m\u001b[0m\u001b[0m\n\u001b[0;32m    647\u001b[0m \u001b[1;33m\u001b[0m\u001b[0m\n\u001b[1;32m--> 648\u001b[1;33m         llabels, rlabels = _items_overlap_with_suffix(\n\u001b[0m\u001b[0;32m    649\u001b[0m             \u001b[0mldata\u001b[0m\u001b[1;33m.\u001b[0m\u001b[0mitems\u001b[0m\u001b[1;33m,\u001b[0m \u001b[0mlsuf\u001b[0m\u001b[1;33m,\u001b[0m \u001b[0mrdata\u001b[0m\u001b[1;33m.\u001b[0m\u001b[0mitems\u001b[0m\u001b[1;33m,\u001b[0m \u001b[0mrsuf\u001b[0m\u001b[1;33m\u001b[0m\u001b[1;33m\u001b[0m\u001b[0m\n\u001b[0;32m    650\u001b[0m         )\n",
      "\u001b[1;32mC:\\ProgramData\\Anaconda3\\lib\\site-packages\\pandas\\core\\reshape\\merge.py\u001b[0m in \u001b[0;36m_items_overlap_with_suffix\u001b[1;34m(left, lsuffix, right, rsuffix)\u001b[0m\n\u001b[0;32m   2022\u001b[0m \u001b[1;33m\u001b[0m\u001b[0m\n\u001b[0;32m   2023\u001b[0m     \u001b[1;32mif\u001b[0m \u001b[1;32mnot\u001b[0m \u001b[0mlsuffix\u001b[0m \u001b[1;32mand\u001b[0m \u001b[1;32mnot\u001b[0m \u001b[0mrsuffix\u001b[0m\u001b[1;33m:\u001b[0m\u001b[1;33m\u001b[0m\u001b[1;33m\u001b[0m\u001b[0m\n\u001b[1;32m-> 2024\u001b[1;33m         raise ValueError(\n\u001b[0m\u001b[0;32m   2025\u001b[0m             \u001b[1;34m\"columns overlap but no suffix specified: \"\u001b[0m\u001b[1;33m\u001b[0m\u001b[1;33m\u001b[0m\u001b[0m\n\u001b[0;32m   2026\u001b[0m             \u001b[1;34m\"{rename}\"\u001b[0m\u001b[1;33m.\u001b[0m\u001b[0mformat\u001b[0m\u001b[1;33m(\u001b[0m\u001b[0mrename\u001b[0m\u001b[1;33m=\u001b[0m\u001b[0mto_rename\u001b[0m\u001b[1;33m)\u001b[0m\u001b[1;33m\u001b[0m\u001b[1;33m\u001b[0m\u001b[0m\n",
      "\u001b[1;31mValueError\u001b[0m: columns overlap but no suffix specified: Index(['품종'], dtype='object')"
     ]
    }
   ],
   "source": [
    "# join은 index로 합쳐진다.\n",
    "df1.join(df2)"
   ]
  },
  {
   "cell_type": "markdown",
   "metadata": {},
   "source": [
    "### concat 함수를 사용한 데이터 연결"
   ]
  },
  {
   "cell_type": "code",
   "execution_count": 26,
   "metadata": {},
   "outputs": [],
   "source": [
    "s1 = pd.Series([0, 1], index=['A', 'B'])\n",
    "s2 = pd.Series([2, 3, 4], index=['A', 'B', 'C'])"
   ]
  },
  {
   "cell_type": "code",
   "execution_count": 27,
   "metadata": {},
   "outputs": [
    {
     "output_type": "execute_result",
     "data": {
      "text/plain": [
       "A    0\n",
       "B    1\n",
       "dtype: int64"
      ]
     },
     "metadata": {},
     "execution_count": 27
    }
   ],
   "source": [
    "s1"
   ]
  },
  {
   "cell_type": "code",
   "execution_count": 28,
   "metadata": {},
   "outputs": [
    {
     "output_type": "execute_result",
     "data": {
      "text/plain": [
       "A    2\n",
       "B    3\n",
       "C    4\n",
       "dtype: int64"
      ]
     },
     "metadata": {},
     "execution_count": 28
    }
   ],
   "source": [
    "s2"
   ]
  },
  {
   "cell_type": "code",
   "execution_count": 29,
   "metadata": {},
   "outputs": [
    {
     "output_type": "execute_result",
     "data": {
      "text/plain": [
       "A    0\n",
       "B    1\n",
       "A    2\n",
       "B    3\n",
       "C    4\n",
       "dtype: int64"
      ]
     },
     "metadata": {},
     "execution_count": 29
    }
   ],
   "source": [
    "pd.concat([s1, s2])"
   ]
  },
  {
   "cell_type": "code",
   "execution_count": 35,
   "metadata": {},
   "outputs": [
    {
     "output_type": "execute_result",
     "data": {
      "text/plain": [
       "   데이터1  데이터2\n",
       "a     0     1\n",
       "b     2     3\n",
       "c     4     5"
      ],
      "text/html": "<div>\n<style scoped>\n    .dataframe tbody tr th:only-of-type {\n        vertical-align: middle;\n    }\n\n    .dataframe tbody tr th {\n        vertical-align: top;\n    }\n\n    .dataframe thead th {\n        text-align: right;\n    }\n</style>\n<table border=\"1\" class=\"dataframe\">\n  <thead>\n    <tr style=\"text-align: right;\">\n      <th></th>\n      <th>데이터1</th>\n      <th>데이터2</th>\n    </tr>\n  </thead>\n  <tbody>\n    <tr>\n      <th>a</th>\n      <td>0</td>\n      <td>1</td>\n    </tr>\n    <tr>\n      <th>b</th>\n      <td>2</td>\n      <td>3</td>\n    </tr>\n    <tr>\n      <th>c</th>\n      <td>4</td>\n      <td>5</td>\n    </tr>\n  </tbody>\n</table>\n</div>"
     },
     "metadata": {},
     "execution_count": 35
    }
   ],
   "source": [
    "df1 = pd.DataFrame(\n",
    "    np.arange(6).reshape(3, 2),\n",
    "    index=['a', 'b', 'c'],\n",
    "    columns=['데이터1', '데이터2'])\n",
    "df1"
   ]
  },
  {
   "cell_type": "code",
   "execution_count": 36,
   "metadata": {},
   "outputs": [
    {
     "output_type": "execute_result",
     "data": {
      "text/plain": [
       "   데이터3  데이터4\n",
       "a     5     6\n",
       "c     7     8"
      ],
      "text/html": "<div>\n<style scoped>\n    .dataframe tbody tr th:only-of-type {\n        vertical-align: middle;\n    }\n\n    .dataframe tbody tr th {\n        vertical-align: top;\n    }\n\n    .dataframe thead th {\n        text-align: right;\n    }\n</style>\n<table border=\"1\" class=\"dataframe\">\n  <thead>\n    <tr style=\"text-align: right;\">\n      <th></th>\n      <th>데이터3</th>\n      <th>데이터4</th>\n    </tr>\n  </thead>\n  <tbody>\n    <tr>\n      <th>a</th>\n      <td>5</td>\n      <td>6</td>\n    </tr>\n    <tr>\n      <th>c</th>\n      <td>7</td>\n      <td>8</td>\n    </tr>\n  </tbody>\n</table>\n</div>"
     },
     "metadata": {},
     "execution_count": 36
    }
   ],
   "source": [
    "df2 = pd.DataFrame(\n",
    "    5 + np.arange(4).reshape(2, 2),\n",
    "    index=['a', 'c'],\n",
    "    columns=['데이터3', '데이터4'])\n",
    "df2"
   ]
  },
  {
   "cell_type": "code",
   "execution_count": 42,
   "metadata": {},
   "outputs": [
    {
     "output_type": "execute_result",
     "data": {
      "text/plain": [
       "   데이터1  데이터2  데이터3  데이터4\n",
       "a     0     1   5.0   6.0\n",
       "b     2     3   NaN   NaN\n",
       "c     4     5   7.0   8.0"
      ],
      "text/html": "<div>\n<style scoped>\n    .dataframe tbody tr th:only-of-type {\n        vertical-align: middle;\n    }\n\n    .dataframe tbody tr th {\n        vertical-align: top;\n    }\n\n    .dataframe thead th {\n        text-align: right;\n    }\n</style>\n<table border=\"1\" class=\"dataframe\">\n  <thead>\n    <tr style=\"text-align: right;\">\n      <th></th>\n      <th>데이터1</th>\n      <th>데이터2</th>\n      <th>데이터3</th>\n      <th>데이터4</th>\n    </tr>\n  </thead>\n  <tbody>\n    <tr>\n      <th>a</th>\n      <td>0</td>\n      <td>1</td>\n      <td>5.0</td>\n      <td>6.0</td>\n    </tr>\n    <tr>\n      <th>b</th>\n      <td>2</td>\n      <td>3</td>\n      <td>NaN</td>\n      <td>NaN</td>\n    </tr>\n    <tr>\n      <th>c</th>\n      <td>4</td>\n      <td>5</td>\n      <td>7.0</td>\n      <td>8.0</td>\n    </tr>\n  </tbody>\n</table>\n</div>"
     },
     "metadata": {},
     "execution_count": 42
    }
   ],
   "source": [
    "# 데이터프레임끼리의 연결\n",
    "pd.concat([df1, df2], axis=1)"
   ]
  },
  {
   "cell_type": "code",
   "execution_count": 55,
   "metadata": {},
   "outputs": [
    {
     "output_type": "execute_result",
     "data": {
      "text/plain": [
       "      매출    비용    이익\n",
       "1월  1000   500   500\n",
       "2월   500   250   250\n",
       "3월  4000  2000  2000\n",
       "4월  3000  1500  1500\n",
       "5월  2000  1000  1000\n",
       "6월  1000   500   500"
      ],
      "text/html": "<div>\n<style scoped>\n    .dataframe tbody tr th:only-of-type {\n        vertical-align: middle;\n    }\n\n    .dataframe tbody tr th {\n        vertical-align: top;\n    }\n\n    .dataframe thead th {\n        text-align: right;\n    }\n</style>\n<table border=\"1\" class=\"dataframe\">\n  <thead>\n    <tr style=\"text-align: right;\">\n      <th></th>\n      <th>매출</th>\n      <th>비용</th>\n      <th>이익</th>\n    </tr>\n  </thead>\n  <tbody>\n    <tr>\n      <th>1월</th>\n      <td>1000</td>\n      <td>500</td>\n      <td>500</td>\n    </tr>\n    <tr>\n      <th>2월</th>\n      <td>500</td>\n      <td>250</td>\n      <td>250</td>\n    </tr>\n    <tr>\n      <th>3월</th>\n      <td>4000</td>\n      <td>2000</td>\n      <td>2000</td>\n    </tr>\n    <tr>\n      <th>4월</th>\n      <td>3000</td>\n      <td>1500</td>\n      <td>1500</td>\n    </tr>\n    <tr>\n      <th>5월</th>\n      <td>2000</td>\n      <td>1000</td>\n      <td>1000</td>\n    </tr>\n    <tr>\n      <th>6월</th>\n      <td>1000</td>\n      <td>500</td>\n      <td>500</td>\n    </tr>\n  </tbody>\n</table>\n</div>"
     },
     "metadata": {},
     "execution_count": 55
    }
   ],
   "source": [
    "# 연습 문제 2\n",
    "# 어느 회사의 전반기(1월 ~ 6월) 실적을 나타내는 데이터프레임과 후반기(7월 ~ 12월) 실적을 나타내는 데이터프레임을 만든 뒤 합친다. 실적 정보는 “매출”, “비용”, “이익” 으로 이루어진다. (이익 = 매출 - 비용).\n",
    "# 또한 1년간의 총 실적을 마지막 행으로 덧붙인다.\n",
    "oneSix = pd.DataFrame({'매출':[1000, 500, 4000, 3000, 2000, 1000], '비용':[500, 250, 2000, 1500, 1000, 500]}, index=['1월', '2월', '3월', '4월', '5월', '6월'])\n",
    "oneSix['이익'] = oneSix['매출']-oneSix['비용']\n",
    "oneSix"
   ]
  },
  {
   "cell_type": "code",
   "execution_count": 60,
   "metadata": {},
   "outputs": [
    {
     "output_type": "execute_result",
     "data": {
      "text/plain": [
       "       매출    비용    이익\n",
       "7월   3000  1500  1500\n",
       "8월   1000   500   500\n",
       "9월   2000  1000  1000\n",
       "10월  2000  1000  1000\n",
       "11월  3500  1750  1750\n",
       "12월  4000  2000  2000"
      ],
      "text/html": "<div>\n<style scoped>\n    .dataframe tbody tr th:only-of-type {\n        vertical-align: middle;\n    }\n\n    .dataframe tbody tr th {\n        vertical-align: top;\n    }\n\n    .dataframe thead th {\n        text-align: right;\n    }\n</style>\n<table border=\"1\" class=\"dataframe\">\n  <thead>\n    <tr style=\"text-align: right;\">\n      <th></th>\n      <th>매출</th>\n      <th>비용</th>\n      <th>이익</th>\n    </tr>\n  </thead>\n  <tbody>\n    <tr>\n      <th>7월</th>\n      <td>3000</td>\n      <td>1500</td>\n      <td>1500</td>\n    </tr>\n    <tr>\n      <th>8월</th>\n      <td>1000</td>\n      <td>500</td>\n      <td>500</td>\n    </tr>\n    <tr>\n      <th>9월</th>\n      <td>2000</td>\n      <td>1000</td>\n      <td>1000</td>\n    </tr>\n    <tr>\n      <th>10월</th>\n      <td>2000</td>\n      <td>1000</td>\n      <td>1000</td>\n    </tr>\n    <tr>\n      <th>11월</th>\n      <td>3500</td>\n      <td>1750</td>\n      <td>1750</td>\n    </tr>\n    <tr>\n      <th>12월</th>\n      <td>4000</td>\n      <td>2000</td>\n      <td>2000</td>\n    </tr>\n  </tbody>\n</table>\n</div>"
     },
     "metadata": {},
     "execution_count": 60
    }
   ],
   "source": [
    "sevenTwo = pd.DataFrame({'매출':[3000, 1000, 2000, 2000, 3500, 4000], '비용':[1500, 500, 1000, 1000, 1750, 2000]}, index=['7월', '8월', '9월', '10월', '11월', '12월'])\n",
    "sevenTwo['이익'] = sevenTwo['매출']-sevenTwo['비용']\n",
    "sevenTwo"
   ]
  },
  {
   "cell_type": "code",
   "execution_count": 61,
   "metadata": {},
   "outputs": [
    {
     "output_type": "execute_result",
     "data": {
      "text/plain": [
       "     매출    비용    이익\n",
       "0  1000   500   500\n",
       "1  1000   500   500\n",
       "2   500   250   250\n",
       "3  4000  2000  2000\n",
       "4  3000  1500  1500\n",
       "5  2000  1000  1000\n",
       "6  2000  1000  1000\n",
       "7  3500  1750  1750"
      ],
      "text/html": "<div>\n<style scoped>\n    .dataframe tbody tr th:only-of-type {\n        vertical-align: middle;\n    }\n\n    .dataframe tbody tr th {\n        vertical-align: top;\n    }\n\n    .dataframe thead th {\n        text-align: right;\n    }\n</style>\n<table border=\"1\" class=\"dataframe\">\n  <thead>\n    <tr style=\"text-align: right;\">\n      <th></th>\n      <th>매출</th>\n      <th>비용</th>\n      <th>이익</th>\n    </tr>\n  </thead>\n  <tbody>\n    <tr>\n      <th>0</th>\n      <td>1000</td>\n      <td>500</td>\n      <td>500</td>\n    </tr>\n    <tr>\n      <th>1</th>\n      <td>1000</td>\n      <td>500</td>\n      <td>500</td>\n    </tr>\n    <tr>\n      <th>2</th>\n      <td>500</td>\n      <td>250</td>\n      <td>250</td>\n    </tr>\n    <tr>\n      <th>3</th>\n      <td>4000</td>\n      <td>2000</td>\n      <td>2000</td>\n    </tr>\n    <tr>\n      <th>4</th>\n      <td>3000</td>\n      <td>1500</td>\n      <td>1500</td>\n    </tr>\n    <tr>\n      <th>5</th>\n      <td>2000</td>\n      <td>1000</td>\n      <td>1000</td>\n    </tr>\n    <tr>\n      <th>6</th>\n      <td>2000</td>\n      <td>1000</td>\n      <td>1000</td>\n    </tr>\n    <tr>\n      <th>7</th>\n      <td>3500</td>\n      <td>1750</td>\n      <td>1750</td>\n    </tr>\n  </tbody>\n</table>\n</div>"
     },
     "metadata": {},
     "execution_count": 61
    }
   ],
   "source": [
    "allY = pd.merge(oneSix, sevenTwo, how='outer')\n",
    "allY"
   ]
  },
  {
   "cell_type": "code",
   "execution_count": null,
   "metadata": {},
   "outputs": [],
   "source": [
    "allY.loc['총 실적'] "
   ]
  }
 ]
}