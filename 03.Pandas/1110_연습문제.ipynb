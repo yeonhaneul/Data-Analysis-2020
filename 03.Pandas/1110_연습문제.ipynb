{
 "metadata": {
  "language_info": {
   "codemirror_mode": {
    "name": "ipython",
    "version": 3
   },
   "file_extension": ".py",
   "mimetype": "text/x-python",
   "name": "python",
   "nbconvert_exporter": "python",
   "pygments_lexer": "ipython3",
   "version": "3.8.3-final"
  },
  "orig_nbformat": 2,
  "kernelspec": {
   "name": "Python 3.8.3 64-bit ('base': conda)",
   "display_name": "Python 3.8.3 64-bit ('base': conda)",
   "metadata": {
    "interpreter": {
     "hash": "b3ba2566441a7c06988d0923437866b63cedc61552a5af99d1f4fb67d367b25f"
    }
   }
  }
 },
 "nbformat": 4,
 "nbformat_minor": 2,
 "cells": [
  {
   "cell_type": "code",
   "execution_count": 1,
   "metadata": {},
   "outputs": [],
   "source": [
    "import numpy as np\n",
    "import pandas as pd"
   ]
  },
  {
   "cell_type": "markdown",
   "metadata": {},
   "source": [
    "### 책"
   ]
  },
  {
   "cell_type": "code",
   "execution_count": 11,
   "metadata": {},
   "outputs": [
    {
     "output_type": "stream",
     "name": "stdout",
     "text": [
      "[['서울', 9736962, 658355, 813563, 1455903, 1505729, 1563968, 1539385, 1200518, 688818, 263939, 40404, 6380], ['부산', 3410925, 241624, 281120, 434692, 431911, 518321, 580966, 511174, 285602, 109312, 14396, 1807], ['대구', 2432883, 186623, 234528, 321487, 303397, 391997, 428622, 311274, 171217, 74227, 8817, 694], ['인천', 2954955, 239941, 281097, 405835, 417708, 490716, 515758, 344843, 172269, 74306, 11574, 908], ['광주', 1456121, 125396, 162728, 207554, 191432, 244903, 234048, 155056, 91020, 38050, 5529, 405], ['대전', 1473125, 120476, 151861, 212143, 199106, 242381, 243526, 170291, 88289, 39190, 5523, 339], ['울산', 1145710, 103399, 115623, 147745, 158271, 190698, 211255, 136520, 57438, 21610, 2991, 160], ['세종', 343788, 47454, 40574, 36273, 61442, 65714, 42907, 27813, 13609, 6863, 1084, 55], ['경기도', 13265377, 1178548, 1347854, 1769080, 1917785, 2299179, 2205106, 1422638, 742296, 330231, 48650, 4010], ['강원도', 1539521, 108694, 141975, 179813, 169694, 227950, 269666, 226444, 135668, 68321, 10493, 803], ['충청북도', 1598599, 128290, 153119, 198910, 198768, 243982, 273857, 209926, 119037, 63513, 8656, 541], ['충청남도', 2120995, 179808, 206578, 243748, 276553, 329789, 340568, 264305, 167339, 97941, 13481, 885], ['전라북도', 1815112, 135297, 180675, 212339, 195971, 274471, 303074, 244901, 165445, 89352, 12770, 817], ['전라남도', 1861894, 137868, 172888, 202760, 193083, 265366, 317226, 259385, 191719, 105793, 14984, 822], ['경상북도', 2658956, 198214, 233506, 291097, 303472, 390995, 464427, 389498, 238482, 130716, 17589, 960], ['경상남도', 3358828, 282751, 331566, 384750, 418383, 543911, 585186, 435315, 240111, 119977, 16139, 739], ['제주도', 670876, 62086, 71539, 81968, 84145, 113076, 111221, 75172, 44621, 22963, 3819, 266]]\n"
     ]
    }
   ],
   "source": [
    "# 1번\n",
    "cs = pd.read_csv('samples/population_age_2020.csv')\n",
    "print(cs.values.tolist())"
   ]
  },
  {
   "cell_type": "code",
   "execution_count": 12,
   "metadata": {},
   "outputs": [
    {
     "output_type": "stream",
     "name": "stdout",
     "text": [
      "[['서울', '부산', '대구', '인천', '광주', '대전', '울산', '세종', '경기도', '강원도', '충청북도', '충청남도', '전라북도', '전라남도', '경상북도', '경상남도', '제주도'], [9736962, 3410925, 2432883, 2954955, 1456121, 1473125, 1145710, 343788, 13265377, 1539521, 1598599, 2120995, 1815112, 1861894, 2658956, 3358828, 670876], [658355, 241624, 186623, 239941, 125396, 120476, 103399, 47454, 1178548, 108694, 128290, 179808, 135297, 137868, 198214, 282751, 62086], [813563, 281120, 234528, 281097, 162728, 151861, 115623, 40574, 1347854, 141975, 153119, 206578, 180675, 172888, 233506, 331566, 71539], [1455903, 434692, 321487, 405835, 207554, 212143, 147745, 36273, 1769080, 179813, 198910, 243748, 212339, 202760, 291097, 384750, 81968], [1505729, 431911, 303397, 417708, 191432, 199106, 158271, 61442, 1917785, 169694, 198768, 276553, 195971, 193083, 303472, 418383, 84145], [1563968, 518321, 391997, 490716, 244903, 242381, 190698, 65714, 2299179, 227950, 243982, 329789, 274471, 265366, 390995, 543911, 113076], [1539385, 580966, 428622, 515758, 234048, 243526, 211255, 42907, 2205106, 269666, 273857, 340568, 303074, 317226, 464427, 585186, 111221], [1200518, 511174, 311274, 344843, 155056, 170291, 136520, 27813, 1422638, 226444, 209926, 264305, 244901, 259385, 389498, 435315, 75172], [688818, 285602, 171217, 172269, 91020, 88289, 57438, 13609, 742296, 135668, 119037, 167339, 165445, 191719, 238482, 240111, 44621], [263939, 109312, 74227, 74306, 38050, 39190, 21610, 6863, 330231, 68321, 63513, 97941, 89352, 105793, 130716, 119977, 22963], [40404, 14396, 8817, 11574, 5529, 5523, 2991, 1084, 48650, 10493, 8656, 13481, 12770, 14984, 17589, 16139, 3819], [6380, 1807, 694, 908, 405, 339, 160, 55, 4010, 803, 541, 885, 817, 822, 960, 739, 266]]\n"
     ]
    }
   ],
   "source": [
    "#2\n",
    "print(cs.T.values.tolist())"
   ]
  },
  {
   "cell_type": "code",
   "execution_count": 13,
   "metadata": {},
   "outputs": [
    {
     "output_type": "stream",
     "name": "stdout",
     "text": [
      "{'지역': ['서울', '부산', '대구', '인천', '광주', '대전', '울산', '세종', '경기도', '강원도', '충청북도', '충청남도', '전라북도', '전라남도', '경상북도', '경상남도', '제주도'], '총인구수': [9736962, 3410925, 2432883, 2954955, 1456121, 1473125, 1145710, 343788, 13265377, 1539521, 1598599, 2120995, 1815112, 1861894, 2658956, 3358828, 670876], '0~9세': [658355, 241624, 186623, 239941, 125396, 120476, 103399, 47454, 1178548, 108694, 128290, 179808, 135297, 137868, 198214, 282751, 62086], '10~19세': [813563, 281120, 234528, 281097, 162728, 151861, 115623, 40574, 1347854, 141975, 153119, 206578, 180675, 172888, 233506, 331566, 71539], '20~29세': [1455903, 434692, 321487, 405835, 207554, 212143, 147745, 36273, 1769080, 179813, 198910, 243748, 212339, 202760, 291097, 384750, 81968], '30~39세': [1505729, 431911, 303397, 417708, 191432, 199106, 158271, 61442, 1917785, 169694, 198768, 276553, 195971, 193083, 303472, 418383, 84145], '40~49세': [1563968, 518321, 391997, 490716, 244903, 242381, 190698, 65714, 2299179, 227950, 243982, 329789, 274471, 265366, 390995, 543911, 113076], '50~59세': [1539385, 580966, 428622, 515758, 234048, 243526, 211255, 42907, 2205106, 269666, 273857, 340568, 303074, 317226, 464427, 585186, 111221], '60~69세': [1200518, 511174, 311274, 344843, 155056, 170291, 136520, 27813, 1422638, 226444, 209926, 264305, 244901, 259385, 389498, 435315, 75172], '70~79세': [688818, 285602, 171217, 172269, 91020, 88289, 57438, 13609, 742296, 135668, 119037, 167339, 165445, 191719, 238482, 240111, 44621], '80~89세': [263939, 109312, 74227, 74306, 38050, 39190, 21610, 6863, 330231, 68321, 63513, 97941, 89352, 105793, 130716, 119977, 22963], '90~99세': [40404, 14396, 8817, 11574, 5529, 5523, 2991, 1084, 48650, 10493, 8656, 13481, 12770, 14984, 17589, 16139, 3819], '100세 이상': [6380, 1807, 694, 908, 405, 339, 160, 55, 4010, 803, 541, 885, 817, 822, 960, 739, 266]}\n"
     ]
    }
   ],
   "source": [
    "#3\n",
    "cs2 = pd.read_csv('samples/population_age_2020.csv')\n",
    "keys = cs2.columns\n",
    "keyList = []\n",
    "for key in keys:\n",
    "    keyList.append(key)\n",
    "values = cs.T.values.tolist()\n",
    "pop = dict(zip(keyList, values))\n",
    "print(pop)"
   ]
  },
  {
   "cell_type": "code",
   "execution_count": 15,
   "metadata": {},
   "outputs": [
    {
     "output_type": "execute_result",
     "data": {
      "text/plain": [
       "      지역      총인구수   60~69세  70~79세  80~89세  90~99세  100세 이상\n",
       "0     서울   9736962  1200518  688818  263939   40404     6380\n",
       "1     부산   3410925   511174  285602  109312   14396     1807\n",
       "2     대구   2432883   311274  171217   74227    8817      694\n",
       "3     인천   2954955   344843  172269   74306   11574      908\n",
       "4     광주   1456121   155056   91020   38050    5529      405\n",
       "5     대전   1473125   170291   88289   39190    5523      339\n",
       "6     울산   1145710   136520   57438   21610    2991      160\n",
       "7     세종    343788    27813   13609    6863    1084       55\n",
       "8    경기도  13265377  1422638  742296  330231   48650     4010\n",
       "9    강원도   1539521   226444  135668   68321   10493      803\n",
       "10  충청북도   1598599   209926  119037   63513    8656      541\n",
       "11  충청남도   2120995   264305  167339   97941   13481      885\n",
       "12  전라북도   1815112   244901  165445   89352   12770      817\n",
       "13  전라남도   1861894   259385  191719  105793   14984      822\n",
       "14  경상북도   2658956   389498  238482  130716   17589      960\n",
       "15  경상남도   3358828   435315  240111  119977   16139      739\n",
       "16   제주도    670876    75172   44621   22963    3819      266"
      ],
      "text/html": "<div>\n<style scoped>\n    .dataframe tbody tr th:only-of-type {\n        vertical-align: middle;\n    }\n\n    .dataframe tbody tr th {\n        vertical-align: top;\n    }\n\n    .dataframe thead th {\n        text-align: right;\n    }\n</style>\n<table border=\"1\" class=\"dataframe\">\n  <thead>\n    <tr style=\"text-align: right;\">\n      <th></th>\n      <th>지역</th>\n      <th>총인구수</th>\n      <th>60~69세</th>\n      <th>70~79세</th>\n      <th>80~89세</th>\n      <th>90~99세</th>\n      <th>100세 이상</th>\n    </tr>\n  </thead>\n  <tbody>\n    <tr>\n      <th>0</th>\n      <td>서울</td>\n      <td>9736962</td>\n      <td>1200518</td>\n      <td>688818</td>\n      <td>263939</td>\n      <td>40404</td>\n      <td>6380</td>\n    </tr>\n    <tr>\n      <th>1</th>\n      <td>부산</td>\n      <td>3410925</td>\n      <td>511174</td>\n      <td>285602</td>\n      <td>109312</td>\n      <td>14396</td>\n      <td>1807</td>\n    </tr>\n    <tr>\n      <th>2</th>\n      <td>대구</td>\n      <td>2432883</td>\n      <td>311274</td>\n      <td>171217</td>\n      <td>74227</td>\n      <td>8817</td>\n      <td>694</td>\n    </tr>\n    <tr>\n      <th>3</th>\n      <td>인천</td>\n      <td>2954955</td>\n      <td>344843</td>\n      <td>172269</td>\n      <td>74306</td>\n      <td>11574</td>\n      <td>908</td>\n    </tr>\n    <tr>\n      <th>4</th>\n      <td>광주</td>\n      <td>1456121</td>\n      <td>155056</td>\n      <td>91020</td>\n      <td>38050</td>\n      <td>5529</td>\n      <td>405</td>\n    </tr>\n    <tr>\n      <th>5</th>\n      <td>대전</td>\n      <td>1473125</td>\n      <td>170291</td>\n      <td>88289</td>\n      <td>39190</td>\n      <td>5523</td>\n      <td>339</td>\n    </tr>\n    <tr>\n      <th>6</th>\n      <td>울산</td>\n      <td>1145710</td>\n      <td>136520</td>\n      <td>57438</td>\n      <td>21610</td>\n      <td>2991</td>\n      <td>160</td>\n    </tr>\n    <tr>\n      <th>7</th>\n      <td>세종</td>\n      <td>343788</td>\n      <td>27813</td>\n      <td>13609</td>\n      <td>6863</td>\n      <td>1084</td>\n      <td>55</td>\n    </tr>\n    <tr>\n      <th>8</th>\n      <td>경기도</td>\n      <td>13265377</td>\n      <td>1422638</td>\n      <td>742296</td>\n      <td>330231</td>\n      <td>48650</td>\n      <td>4010</td>\n    </tr>\n    <tr>\n      <th>9</th>\n      <td>강원도</td>\n      <td>1539521</td>\n      <td>226444</td>\n      <td>135668</td>\n      <td>68321</td>\n      <td>10493</td>\n      <td>803</td>\n    </tr>\n    <tr>\n      <th>10</th>\n      <td>충청북도</td>\n      <td>1598599</td>\n      <td>209926</td>\n      <td>119037</td>\n      <td>63513</td>\n      <td>8656</td>\n      <td>541</td>\n    </tr>\n    <tr>\n      <th>11</th>\n      <td>충청남도</td>\n      <td>2120995</td>\n      <td>264305</td>\n      <td>167339</td>\n      <td>97941</td>\n      <td>13481</td>\n      <td>885</td>\n    </tr>\n    <tr>\n      <th>12</th>\n      <td>전라북도</td>\n      <td>1815112</td>\n      <td>244901</td>\n      <td>165445</td>\n      <td>89352</td>\n      <td>12770</td>\n      <td>817</td>\n    </tr>\n    <tr>\n      <th>13</th>\n      <td>전라남도</td>\n      <td>1861894</td>\n      <td>259385</td>\n      <td>191719</td>\n      <td>105793</td>\n      <td>14984</td>\n      <td>822</td>\n    </tr>\n    <tr>\n      <th>14</th>\n      <td>경상북도</td>\n      <td>2658956</td>\n      <td>389498</td>\n      <td>238482</td>\n      <td>130716</td>\n      <td>17589</td>\n      <td>960</td>\n    </tr>\n    <tr>\n      <th>15</th>\n      <td>경상남도</td>\n      <td>3358828</td>\n      <td>435315</td>\n      <td>240111</td>\n      <td>119977</td>\n      <td>16139</td>\n      <td>739</td>\n    </tr>\n    <tr>\n      <th>16</th>\n      <td>제주도</td>\n      <td>670876</td>\n      <td>75172</td>\n      <td>44621</td>\n      <td>22963</td>\n      <td>3819</td>\n      <td>266</td>\n    </tr>\n  </tbody>\n</table>\n</div>"
     },
     "metadata": {},
     "execution_count": 15
    }
   ],
   "source": [
    "# 4\n",
    "df = pd.DataFrame(pop)\n",
    "df2 = df[['지역', '총인구수', '60~69세', '70~79세',\t'80~89세', '90~99세', '100세 이상']]\n",
    "df2"
   ]
  },
  {
   "cell_type": "code",
   "execution_count": 16,
   "metadata": {},
   "outputs": [
    {
     "output_type": "execute_result",
     "data": {
      "text/plain": [
       "      지역  100세 이상      총인구수\n",
       "0     서울     6380   9736962\n",
       "8    경기도     4010  13265377\n",
       "1     부산     1807   3410925\n",
       "14  경상북도      960   2658956\n",
       "3     인천      908   2954955\n",
       "11  충청남도      885   2120995\n",
       "13  전라남도      822   1861894\n",
       "12  전라북도      817   1815112\n",
       "9    강원도      803   1539521\n",
       "15  경상남도      739   3358828\n",
       "2     대구      694   2432883\n",
       "10  충청북도      541   1598599\n",
       "4     광주      405   1456121\n",
       "5     대전      339   1473125\n",
       "16   제주도      266    670876\n",
       "6     울산      160   1145710\n",
       "7     세종       55    343788"
      ],
      "text/html": "<div>\n<style scoped>\n    .dataframe tbody tr th:only-of-type {\n        vertical-align: middle;\n    }\n\n    .dataframe tbody tr th {\n        vertical-align: top;\n    }\n\n    .dataframe thead th {\n        text-align: right;\n    }\n</style>\n<table border=\"1\" class=\"dataframe\">\n  <thead>\n    <tr style=\"text-align: right;\">\n      <th></th>\n      <th>지역</th>\n      <th>100세 이상</th>\n      <th>총인구수</th>\n    </tr>\n  </thead>\n  <tbody>\n    <tr>\n      <th>0</th>\n      <td>서울</td>\n      <td>6380</td>\n      <td>9736962</td>\n    </tr>\n    <tr>\n      <th>8</th>\n      <td>경기도</td>\n      <td>4010</td>\n      <td>13265377</td>\n    </tr>\n    <tr>\n      <th>1</th>\n      <td>부산</td>\n      <td>1807</td>\n      <td>3410925</td>\n    </tr>\n    <tr>\n      <th>14</th>\n      <td>경상북도</td>\n      <td>960</td>\n      <td>2658956</td>\n    </tr>\n    <tr>\n      <th>3</th>\n      <td>인천</td>\n      <td>908</td>\n      <td>2954955</td>\n    </tr>\n    <tr>\n      <th>11</th>\n      <td>충청남도</td>\n      <td>885</td>\n      <td>2120995</td>\n    </tr>\n    <tr>\n      <th>13</th>\n      <td>전라남도</td>\n      <td>822</td>\n      <td>1861894</td>\n    </tr>\n    <tr>\n      <th>12</th>\n      <td>전라북도</td>\n      <td>817</td>\n      <td>1815112</td>\n    </tr>\n    <tr>\n      <th>9</th>\n      <td>강원도</td>\n      <td>803</td>\n      <td>1539521</td>\n    </tr>\n    <tr>\n      <th>15</th>\n      <td>경상남도</td>\n      <td>739</td>\n      <td>3358828</td>\n    </tr>\n    <tr>\n      <th>2</th>\n      <td>대구</td>\n      <td>694</td>\n      <td>2432883</td>\n    </tr>\n    <tr>\n      <th>10</th>\n      <td>충청북도</td>\n      <td>541</td>\n      <td>1598599</td>\n    </tr>\n    <tr>\n      <th>4</th>\n      <td>광주</td>\n      <td>405</td>\n      <td>1456121</td>\n    </tr>\n    <tr>\n      <th>5</th>\n      <td>대전</td>\n      <td>339</td>\n      <td>1473125</td>\n    </tr>\n    <tr>\n      <th>16</th>\n      <td>제주도</td>\n      <td>266</td>\n      <td>670876</td>\n    </tr>\n    <tr>\n      <th>6</th>\n      <td>울산</td>\n      <td>160</td>\n      <td>1145710</td>\n    </tr>\n    <tr>\n      <th>7</th>\n      <td>세종</td>\n      <td>55</td>\n      <td>343788</td>\n    </tr>\n  </tbody>\n</table>\n</div>"
     },
     "metadata": {},
     "execution_count": 16
    }
   ],
   "source": [
    "# 5\n",
    "df3 = df2[['지역', '100세 이상', '총인구수']].sort_values(by=['100세 이상'], ascending=False)\n",
    "df3"
   ]
  },
  {
   "cell_type": "markdown",
   "metadata": {},
   "source": [
    "### 데이터사이언스"
   ]
  },
  {
   "cell_type": "code",
   "execution_count": 7,
   "metadata": {},
   "outputs": [],
   "source": [
    "import seaborn as sns\n",
    "titanic = sns.load_dataset(\"titanic\")"
   ]
  },
  {
   "cell_type": "code",
   "execution_count": 8,
   "metadata": {},
   "outputs": [
    {
     "output_type": "stream",
     "name": "stdout",
     "text": [
      "age\n미성년자    165\n청년      230\n중년      241\n장년       59\n노년        5\ndtype: int64 \n 승객비율 : [0.24, 0.33, 0.34, 0.08, 0.01]\n"
     ]
    }
   ],
   "source": [
    "# 연습 문제 4.4.7\n",
    "# 타이타닉호 승객을 ‘미성년자’, ‘청년’, ‘중년’, ‘장년’, ‘노년’ 나이 그룹으로 나눈다.\n",
    "# 그리고 각 나이 그룹의 승객 비율을 구한다. 비율의 전체 합은 1이 되어야 한다.\n",
    "\n",
    "bins = [1, 20, 30, 50, 70, 100]\n",
    "labels = [\"미성년자\", \"청년\", \"중년\", \"장년\", \"노년\"]\n",
    "t2 = titanic.groupby(pd.cut(titanic.age, bins, labels=labels)).size()\n",
    "mavgs=[]\n",
    "for i in t2:    \n",
    "    mavgs.append(round(i / sum(t2)*1,2))\n",
    "print(t2,'\\n','승객비율 :',mavgs)"
   ]
  },
  {
   "cell_type": "code",
   "execution_count": 9,
   "metadata": {},
   "outputs": [
    {
     "output_type": "execute_result",
     "data": {
      "text/plain": [
       "     survived  pclass     sex   age  sibsp  parch     fare embarked   class  \\\n",
       "0           0       3    male  22.0      1      0   7.2500        S   Third   \n",
       "1           1       1  female  38.0      1      0  71.2833        C   First   \n",
       "2           1       3  female  26.0      0      0   7.9250        S   Third   \n",
       "3           1       1  female  35.0      1      0  53.1000        S   First   \n",
       "4           0       3    male  35.0      0      0   8.0500        S   Third   \n",
       "..        ...     ...     ...   ...    ...    ...      ...      ...     ...   \n",
       "886         0       2    male  27.0      0      0  13.0000        S  Second   \n",
       "887         1       1  female  19.0      0      0  30.0000        S   First   \n",
       "888         0       3  female   NaN      1      2  23.4500        S   Third   \n",
       "889         1       1    male  26.0      0      0  30.0000        C   First   \n",
       "890         0       3    male  32.0      0      0   7.7500        Q   Third   \n",
       "\n",
       "       who  adult_male deck  embark_town alive  alone category3  \n",
       "0      man        True  NaN  Southampton    no  False      청년남성  \n",
       "1    woman       False    C    Cherbourg   yes  False      중년여성  \n",
       "2    woman       False  NaN  Southampton   yes   True      청년여성  \n",
       "3    woman       False    C  Southampton   yes  False      중년여성  \n",
       "4      man        True  NaN  Southampton    no   True      중년남성  \n",
       "..     ...         ...  ...          ...   ...    ...       ...  \n",
       "886    man        True  NaN  Southampton    no   True      청년남성  \n",
       "887  woman       False    B  Southampton   yes   True      미성년자  \n",
       "888  woman       False  NaN  Southampton    no  False     nan여성  \n",
       "889    man        True    C    Cherbourg   yes   True      청년남성  \n",
       "890    man        True  NaN   Queenstown    no   True      중년남성  \n",
       "\n",
       "[891 rows x 16 columns]"
      ],
      "text/html": "<div>\n<style scoped>\n    .dataframe tbody tr th:only-of-type {\n        vertical-align: middle;\n    }\n\n    .dataframe tbody tr th {\n        vertical-align: top;\n    }\n\n    .dataframe thead th {\n        text-align: right;\n    }\n</style>\n<table border=\"1\" class=\"dataframe\">\n  <thead>\n    <tr style=\"text-align: right;\">\n      <th></th>\n      <th>survived</th>\n      <th>pclass</th>\n      <th>sex</th>\n      <th>age</th>\n      <th>sibsp</th>\n      <th>parch</th>\n      <th>fare</th>\n      <th>embarked</th>\n      <th>class</th>\n      <th>who</th>\n      <th>adult_male</th>\n      <th>deck</th>\n      <th>embark_town</th>\n      <th>alive</th>\n      <th>alone</th>\n      <th>category3</th>\n    </tr>\n  </thead>\n  <tbody>\n    <tr>\n      <th>0</th>\n      <td>0</td>\n      <td>3</td>\n      <td>male</td>\n      <td>22.0</td>\n      <td>1</td>\n      <td>0</td>\n      <td>7.2500</td>\n      <td>S</td>\n      <td>Third</td>\n      <td>man</td>\n      <td>True</td>\n      <td>NaN</td>\n      <td>Southampton</td>\n      <td>no</td>\n      <td>False</td>\n      <td>청년남성</td>\n    </tr>\n    <tr>\n      <th>1</th>\n      <td>1</td>\n      <td>1</td>\n      <td>female</td>\n      <td>38.0</td>\n      <td>1</td>\n      <td>0</td>\n      <td>71.2833</td>\n      <td>C</td>\n      <td>First</td>\n      <td>woman</td>\n      <td>False</td>\n      <td>C</td>\n      <td>Cherbourg</td>\n      <td>yes</td>\n      <td>False</td>\n      <td>중년여성</td>\n    </tr>\n    <tr>\n      <th>2</th>\n      <td>1</td>\n      <td>3</td>\n      <td>female</td>\n      <td>26.0</td>\n      <td>0</td>\n      <td>0</td>\n      <td>7.9250</td>\n      <td>S</td>\n      <td>Third</td>\n      <td>woman</td>\n      <td>False</td>\n      <td>NaN</td>\n      <td>Southampton</td>\n      <td>yes</td>\n      <td>True</td>\n      <td>청년여성</td>\n    </tr>\n    <tr>\n      <th>3</th>\n      <td>1</td>\n      <td>1</td>\n      <td>female</td>\n      <td>35.0</td>\n      <td>1</td>\n      <td>0</td>\n      <td>53.1000</td>\n      <td>S</td>\n      <td>First</td>\n      <td>woman</td>\n      <td>False</td>\n      <td>C</td>\n      <td>Southampton</td>\n      <td>yes</td>\n      <td>False</td>\n      <td>중년여성</td>\n    </tr>\n    <tr>\n      <th>4</th>\n      <td>0</td>\n      <td>3</td>\n      <td>male</td>\n      <td>35.0</td>\n      <td>0</td>\n      <td>0</td>\n      <td>8.0500</td>\n      <td>S</td>\n      <td>Third</td>\n      <td>man</td>\n      <td>True</td>\n      <td>NaN</td>\n      <td>Southampton</td>\n      <td>no</td>\n      <td>True</td>\n      <td>중년남성</td>\n    </tr>\n    <tr>\n      <th>...</th>\n      <td>...</td>\n      <td>...</td>\n      <td>...</td>\n      <td>...</td>\n      <td>...</td>\n      <td>...</td>\n      <td>...</td>\n      <td>...</td>\n      <td>...</td>\n      <td>...</td>\n      <td>...</td>\n      <td>...</td>\n      <td>...</td>\n      <td>...</td>\n      <td>...</td>\n      <td>...</td>\n    </tr>\n    <tr>\n      <th>886</th>\n      <td>0</td>\n      <td>2</td>\n      <td>male</td>\n      <td>27.0</td>\n      <td>0</td>\n      <td>0</td>\n      <td>13.0000</td>\n      <td>S</td>\n      <td>Second</td>\n      <td>man</td>\n      <td>True</td>\n      <td>NaN</td>\n      <td>Southampton</td>\n      <td>no</td>\n      <td>True</td>\n      <td>청년남성</td>\n    </tr>\n    <tr>\n      <th>887</th>\n      <td>1</td>\n      <td>1</td>\n      <td>female</td>\n      <td>19.0</td>\n      <td>0</td>\n      <td>0</td>\n      <td>30.0000</td>\n      <td>S</td>\n      <td>First</td>\n      <td>woman</td>\n      <td>False</td>\n      <td>B</td>\n      <td>Southampton</td>\n      <td>yes</td>\n      <td>True</td>\n      <td>미성년자</td>\n    </tr>\n    <tr>\n      <th>888</th>\n      <td>0</td>\n      <td>3</td>\n      <td>female</td>\n      <td>NaN</td>\n      <td>1</td>\n      <td>2</td>\n      <td>23.4500</td>\n      <td>S</td>\n      <td>Third</td>\n      <td>woman</td>\n      <td>False</td>\n      <td>NaN</td>\n      <td>Southampton</td>\n      <td>no</td>\n      <td>False</td>\n      <td>nan여성</td>\n    </tr>\n    <tr>\n      <th>889</th>\n      <td>1</td>\n      <td>1</td>\n      <td>male</td>\n      <td>26.0</td>\n      <td>0</td>\n      <td>0</td>\n      <td>30.0000</td>\n      <td>C</td>\n      <td>First</td>\n      <td>man</td>\n      <td>True</td>\n      <td>C</td>\n      <td>Cherbourg</td>\n      <td>yes</td>\n      <td>True</td>\n      <td>청년남성</td>\n    </tr>\n    <tr>\n      <th>890</th>\n      <td>0</td>\n      <td>3</td>\n      <td>male</td>\n      <td>32.0</td>\n      <td>0</td>\n      <td>0</td>\n      <td>7.7500</td>\n      <td>Q</td>\n      <td>Third</td>\n      <td>man</td>\n      <td>True</td>\n      <td>NaN</td>\n      <td>Queenstown</td>\n      <td>no</td>\n      <td>True</td>\n      <td>중년남성</td>\n    </tr>\n  </tbody>\n</table>\n<p>891 rows × 16 columns</p>\n</div>"
     },
     "metadata": {},
     "execution_count": 9
    }
   ],
   "source": [
    "# 연습 문제 4.4.8\n",
    "# 타이타닉호의 승객에 대해 나이와 성별에 의한 카테고리 열인 category3 열을 만들어라. category3 카테고리는 다음과 같이 정의된다.\n",
    "# 1. 20살 미만이면 성별에 관계없이 “미성년자”라고 한다.\n",
    "# 2. 20살 이상이면 나이에 따라 “청년”, “중년”, “장년”, “노년”을 구분하고 그 뒤에 성별을 나타내는 “남성”, “여성”을 붙인다.\n",
    "titanic = sns.load_dataset(\"titanic\")\n",
    "bins = [19, 30, 50, 70, 100]\n",
    "labels = [\"청년\", \"중년\", \"장년\", \"노년\"]\n",
    "titanic[\"category3\"] = pd.cut(titanic['age'], bins, labels=labels)\n",
    "titanic[\"category3\"] = titanic.apply(lambda r: \"미성년자\" if r.age<20 else str(r.category3)+\"남성\" if r.sex == 'male' else str(r.category3)+\"여성\", axis=1)\n",
    "titanic"
   ]
  },
  {
   "cell_type": "code",
   "execution_count": null,
   "metadata": {},
   "outputs": [],
   "source": []
  }
 ]
}