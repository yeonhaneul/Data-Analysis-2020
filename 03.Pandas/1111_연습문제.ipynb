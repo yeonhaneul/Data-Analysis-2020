{
 "metadata": {
  "language_info": {
   "codemirror_mode": {
    "name": "ipython",
    "version": 3
   },
   "file_extension": ".py",
   "mimetype": "text/x-python",
   "name": "python",
   "nbconvert_exporter": "python",
   "pygments_lexer": "ipython3",
   "version": "3.8.3-final"
  },
  "orig_nbformat": 2,
  "kernelspec": {
   "name": "Python 3.8.3 64-bit ('base': conda)",
   "display_name": "Python 3.8.3 64-bit ('base': conda)",
   "metadata": {
    "interpreter": {
     "hash": "b3ba2566441a7c06988d0923437866b63cedc61552a5af99d1f4fb67d367b25f"
    }
   }
  }
 },
 "nbformat": 4,
 "nbformat_minor": 2,
 "cells": [
  {
   "cell_type": "code",
   "execution_count": 1,
   "metadata": {},
   "outputs": [],
   "source": [
    "import seaborn as sns\n",
    "import numpy as np\n",
    "import pandas as pd"
   ]
  },
  {
   "cell_type": "markdown",
   "metadata": {},
   "source": [
    "### 1. IRIS"
   ]
  },
  {
   "cell_type": "markdown",
   "metadata": {},
   "source": [
    "#### a. 붓꽃 종(species)별로 꽃잎길이(sepal_length), 꽃잎폭(sepal_width), 꽃받침길이(petal_length), 꽃받침폭(petal_width)의 평균, 표준편차 등 기초통계량(describe())을 구하시오."
   ]
  },
  {
   "cell_type": "code",
   "execution_count": 2,
   "metadata": {},
   "outputs": [],
   "source": [
    "iris = sns.load_dataset(\"iris\")"
   ]
  },
  {
   "cell_type": "code",
   "execution_count": 3,
   "metadata": {},
   "outputs": [
    {
     "output_type": "execute_result",
     "data": {
      "text/plain": [
       "           sepal_length                                              \\\n",
       "                  count   mean       std  min    25%  50%  75%  max   \n",
       "species                                                               \n",
       "setosa             50.0  5.006  0.352490  4.3  4.800  5.0  5.2  5.8   \n",
       "versicolor         50.0  5.936  0.516171  4.9  5.600  5.9  6.3  7.0   \n",
       "virginica          50.0  6.588  0.635880  4.9  6.225  6.5  6.9  7.9   \n",
       "\n",
       "           sepal_width         ... petal_length      petal_width         \\\n",
       "                 count   mean  ...          75%  max       count   mean   \n",
       "species                        ...                                        \n",
       "setosa            50.0  3.428  ...        1.575  1.9        50.0  0.246   \n",
       "versicolor        50.0  2.770  ...        4.600  5.1        50.0  1.326   \n",
       "virginica         50.0  2.974  ...        5.875  6.9        50.0  2.026   \n",
       "\n",
       "                                               \n",
       "                 std  min  25%  50%  75%  max  \n",
       "species                                        \n",
       "setosa      0.105386  0.1  0.2  0.2  0.3  0.6  \n",
       "versicolor  0.197753  1.0  1.2  1.3  1.5  1.8  \n",
       "virginica   0.274650  1.4  1.8  2.0  2.3  2.5  \n",
       "\n",
       "[3 rows x 32 columns]"
      ],
      "text/html": "<div>\n<style scoped>\n    .dataframe tbody tr th:only-of-type {\n        vertical-align: middle;\n    }\n\n    .dataframe tbody tr th {\n        vertical-align: top;\n    }\n\n    .dataframe thead tr th {\n        text-align: left;\n    }\n\n    .dataframe thead tr:last-of-type th {\n        text-align: right;\n    }\n</style>\n<table border=\"1\" class=\"dataframe\">\n  <thead>\n    <tr>\n      <th></th>\n      <th colspan=\"8\" halign=\"left\">sepal_length</th>\n      <th colspan=\"2\" halign=\"left\">sepal_width</th>\n      <th>...</th>\n      <th colspan=\"2\" halign=\"left\">petal_length</th>\n      <th colspan=\"8\" halign=\"left\">petal_width</th>\n    </tr>\n    <tr>\n      <th></th>\n      <th>count</th>\n      <th>mean</th>\n      <th>std</th>\n      <th>min</th>\n      <th>25%</th>\n      <th>50%</th>\n      <th>75%</th>\n      <th>max</th>\n      <th>count</th>\n      <th>mean</th>\n      <th>...</th>\n      <th>75%</th>\n      <th>max</th>\n      <th>count</th>\n      <th>mean</th>\n      <th>std</th>\n      <th>min</th>\n      <th>25%</th>\n      <th>50%</th>\n      <th>75%</th>\n      <th>max</th>\n    </tr>\n    <tr>\n      <th>species</th>\n      <th></th>\n      <th></th>\n      <th></th>\n      <th></th>\n      <th></th>\n      <th></th>\n      <th></th>\n      <th></th>\n      <th></th>\n      <th></th>\n      <th></th>\n      <th></th>\n      <th></th>\n      <th></th>\n      <th></th>\n      <th></th>\n      <th></th>\n      <th></th>\n      <th></th>\n      <th></th>\n      <th></th>\n    </tr>\n  </thead>\n  <tbody>\n    <tr>\n      <th>setosa</th>\n      <td>50.0</td>\n      <td>5.006</td>\n      <td>0.352490</td>\n      <td>4.3</td>\n      <td>4.800</td>\n      <td>5.0</td>\n      <td>5.2</td>\n      <td>5.8</td>\n      <td>50.0</td>\n      <td>3.428</td>\n      <td>...</td>\n      <td>1.575</td>\n      <td>1.9</td>\n      <td>50.0</td>\n      <td>0.246</td>\n      <td>0.105386</td>\n      <td>0.1</td>\n      <td>0.2</td>\n      <td>0.2</td>\n      <td>0.3</td>\n      <td>0.6</td>\n    </tr>\n    <tr>\n      <th>versicolor</th>\n      <td>50.0</td>\n      <td>5.936</td>\n      <td>0.516171</td>\n      <td>4.9</td>\n      <td>5.600</td>\n      <td>5.9</td>\n      <td>6.3</td>\n      <td>7.0</td>\n      <td>50.0</td>\n      <td>2.770</td>\n      <td>...</td>\n      <td>4.600</td>\n      <td>5.1</td>\n      <td>50.0</td>\n      <td>1.326</td>\n      <td>0.197753</td>\n      <td>1.0</td>\n      <td>1.2</td>\n      <td>1.3</td>\n      <td>1.5</td>\n      <td>1.8</td>\n    </tr>\n    <tr>\n      <th>virginica</th>\n      <td>50.0</td>\n      <td>6.588</td>\n      <td>0.635880</td>\n      <td>4.9</td>\n      <td>6.225</td>\n      <td>6.5</td>\n      <td>6.9</td>\n      <td>7.9</td>\n      <td>50.0</td>\n      <td>2.974</td>\n      <td>...</td>\n      <td>5.875</td>\n      <td>6.9</td>\n      <td>50.0</td>\n      <td>2.026</td>\n      <td>0.274650</td>\n      <td>1.4</td>\n      <td>1.8</td>\n      <td>2.0</td>\n      <td>2.3</td>\n      <td>2.5</td>\n    </tr>\n  </tbody>\n</table>\n<p>3 rows × 32 columns</p>\n</div>"
     },
     "metadata": {},
     "execution_count": 3
    }
   ],
   "source": [
    "# .agg(['mean', 'std'])를 통해 원하는것만 뽑아 낼 수도 있다.\n",
    "iris.groupby(iris.species).describe()"
   ]
  },
  {
   "cell_type": "markdown",
   "metadata": {},
   "source": [
    "##### b. 이상치에 관한 표준편차와 평균 구하기"
   ]
  },
  {
   "cell_type": "code",
   "execution_count": 28,
   "metadata": {},
   "outputs": [],
   "source": [
    "def get_outlier(x):\n",
    "    q1 = x.quantile(.25)\n",
    "    q3 = x.quantile(.75)\n",
    "    iqr = q3-q1\n",
    "    lower = q1-1.5*iqr\n",
    "    upper = q3+1.5*iqr\n",
    "    x[(x<lower) | (x>upper)] = np.nan\n",
    "    #outlier = x.value_counts().sum() != 50\n",
    "    outiler = x.isnull().sum() != 0 #코드의 재사용을 위해서는 isnull쪽이 좋다.\n",
    "    return outlier, x.mean(), x.std()"
   ]
  },
  {
   "cell_type": "code",
   "execution_count": 29,
   "metadata": {},
   "outputs": [],
   "source": [
    "species = []\n",
    "columns = []\n",
    "o_mean_list = []\n",
    "o_std_list = []\n",
    "outlier_list = []\n",
    "n_mean_list = []\n",
    "n_std_list = []\n",
    "for spec in ['setosa', 'versicolor', 'virginica']:\n",
    "    for sp in ['sepal_length', 'sepal_width', 'petal_length', 'petal_width']:\n",
    "        s = iris[iris.species == spec][sp]\n",
    "        outlier, new_mean, new_std = get_outlier(s)\n",
    "\n",
    "        species.append(spec)\n",
    "        columns.append(sp)\n",
    "        o_mean_list.append(s.mean())\n",
    "        o_std_list.append(s.std())\n",
    "        outlier_list.append(outlier)\n",
    "        n_mean_list.append(new_mean)\n",
    "        n_std_list.append(new_std)"
   ]
  },
  {
   "cell_type": "code",
   "execution_count": 30,
   "metadata": {},
   "outputs": [
    {
     "output_type": "execute_result",
     "data": {
      "text/plain": [
       "                         old_mean  old_std  outlier  new_mean  new_std\n",
       "species    columns                                                    \n",
       "setosa     sepal_length      5.01     0.35    False      5.01     0.35\n",
       "           sepal_width       3.43     0.32    False      3.43     0.32\n",
       "           petal_length      1.46     0.13    False      1.46     0.13\n",
       "           petal_width       0.23     0.09    False      0.23     0.09\n",
       "versicolor sepal_length      5.94     0.52    False      5.94     0.52\n",
       "           sepal_width       2.77     0.31    False      2.77     0.31\n",
       "           petal_length      4.29     0.44    False      4.29     0.44\n",
       "           petal_width       1.33     0.20    False      1.33     0.20\n",
       "virginica  sepal_length      6.62     0.59    False      6.62     0.59\n",
       "           sepal_width       2.96     0.26    False      2.96     0.26\n",
       "           petal_length      5.55     0.55    False      5.55     0.55\n",
       "           petal_width       2.03     0.27    False      2.03     0.27"
      ],
      "text/html": "<div>\n<style scoped>\n    .dataframe tbody tr th:only-of-type {\n        vertical-align: middle;\n    }\n\n    .dataframe tbody tr th {\n        vertical-align: top;\n    }\n\n    .dataframe thead th {\n        text-align: right;\n    }\n</style>\n<table border=\"1\" class=\"dataframe\">\n  <thead>\n    <tr style=\"text-align: right;\">\n      <th></th>\n      <th></th>\n      <th>old_mean</th>\n      <th>old_std</th>\n      <th>outlier</th>\n      <th>new_mean</th>\n      <th>new_std</th>\n    </tr>\n    <tr>\n      <th>species</th>\n      <th>columns</th>\n      <th></th>\n      <th></th>\n      <th></th>\n      <th></th>\n      <th></th>\n    </tr>\n  </thead>\n  <tbody>\n    <tr>\n      <th rowspan=\"4\" valign=\"top\">setosa</th>\n      <th>sepal_length</th>\n      <td>5.01</td>\n      <td>0.35</td>\n      <td>False</td>\n      <td>5.01</td>\n      <td>0.35</td>\n    </tr>\n    <tr>\n      <th>sepal_width</th>\n      <td>3.43</td>\n      <td>0.32</td>\n      <td>False</td>\n      <td>3.43</td>\n      <td>0.32</td>\n    </tr>\n    <tr>\n      <th>petal_length</th>\n      <td>1.46</td>\n      <td>0.13</td>\n      <td>False</td>\n      <td>1.46</td>\n      <td>0.13</td>\n    </tr>\n    <tr>\n      <th>petal_width</th>\n      <td>0.23</td>\n      <td>0.09</td>\n      <td>False</td>\n      <td>0.23</td>\n      <td>0.09</td>\n    </tr>\n    <tr>\n      <th rowspan=\"4\" valign=\"top\">versicolor</th>\n      <th>sepal_length</th>\n      <td>5.94</td>\n      <td>0.52</td>\n      <td>False</td>\n      <td>5.94</td>\n      <td>0.52</td>\n    </tr>\n    <tr>\n      <th>sepal_width</th>\n      <td>2.77</td>\n      <td>0.31</td>\n      <td>False</td>\n      <td>2.77</td>\n      <td>0.31</td>\n    </tr>\n    <tr>\n      <th>petal_length</th>\n      <td>4.29</td>\n      <td>0.44</td>\n      <td>False</td>\n      <td>4.29</td>\n      <td>0.44</td>\n    </tr>\n    <tr>\n      <th>petal_width</th>\n      <td>1.33</td>\n      <td>0.20</td>\n      <td>False</td>\n      <td>1.33</td>\n      <td>0.20</td>\n    </tr>\n    <tr>\n      <th rowspan=\"4\" valign=\"top\">virginica</th>\n      <th>sepal_length</th>\n      <td>6.62</td>\n      <td>0.59</td>\n      <td>False</td>\n      <td>6.62</td>\n      <td>0.59</td>\n    </tr>\n    <tr>\n      <th>sepal_width</th>\n      <td>2.96</td>\n      <td>0.26</td>\n      <td>False</td>\n      <td>2.96</td>\n      <td>0.26</td>\n    </tr>\n    <tr>\n      <th>petal_length</th>\n      <td>5.55</td>\n      <td>0.55</td>\n      <td>False</td>\n      <td>5.55</td>\n      <td>0.55</td>\n    </tr>\n    <tr>\n      <th>petal_width</th>\n      <td>2.03</td>\n      <td>0.27</td>\n      <td>False</td>\n      <td>2.03</td>\n      <td>0.27</td>\n    </tr>\n  </tbody>\n</table>\n</div>"
     },
     "metadata": {},
     "execution_count": 30
    }
   ],
   "source": [
    "pd.options.display.float_format = lambda iris2: f'{iris2:.2f}'\n",
    "iris2 = pd.DataFrame({\n",
    "    \"species\" : species,\n",
    "    \"columns\" : columns,\n",
    "    \"old_mean\" : o_mean_list,\n",
    "    \"old_std\" : o_std_list,\n",
    "    \"outlier\" : outlier_list,\n",
    "    \"new_mean\" : n_mean_list,\n",
    "    \"new_std\" : n_std_list\n",
    "})\n",
    "n_iris = iris2.set_index(['species', 'columns'])\n",
    "n_iris"
   ]
  },
  {
   "cell_type": "markdown",
   "metadata": {},
   "source": [
    "### 2. titanic"
   ]
  },
  {
   "cell_type": "markdown",
   "metadata": {},
   "source": [
    "##### a. 타이타닉호의 승객에 대해 나이와 성별에 의한 카테고리 열인 category1 열을 만드시오."
   ]
  },
  {
   "cell_type": "code",
   "execution_count": 7,
   "metadata": {},
   "outputs": [],
   "source": [
    "titanic = sns.load_dataset('titanic')"
   ]
  },
  {
   "cell_type": "code",
   "execution_count": 8,
   "metadata": {},
   "outputs": [
    {
     "output_type": "execute_result",
     "data": {
      "text/plain": [
       "       survived  pclass    age  sibsp  parch   fare\n",
       "count    891.00  891.00 714.00 891.00 891.00 891.00\n",
       "mean       0.38    2.31  29.70   0.52   0.38  32.20\n",
       "std        0.49    0.84  14.53   1.10   0.81  49.69\n",
       "min        0.00    1.00   0.42   0.00   0.00   0.00\n",
       "25%        0.00    2.00  20.12   0.00   0.00   7.91\n",
       "50%        0.00    3.00  28.00   0.00   0.00  14.45\n",
       "75%        1.00    3.00  38.00   1.00   0.00  31.00\n",
       "max        1.00    3.00  80.00   8.00   6.00 512.33"
      ],
      "text/html": "<div>\n<style scoped>\n    .dataframe tbody tr th:only-of-type {\n        vertical-align: middle;\n    }\n\n    .dataframe tbody tr th {\n        vertical-align: top;\n    }\n\n    .dataframe thead th {\n        text-align: right;\n    }\n</style>\n<table border=\"1\" class=\"dataframe\">\n  <thead>\n    <tr style=\"text-align: right;\">\n      <th></th>\n      <th>survived</th>\n      <th>pclass</th>\n      <th>age</th>\n      <th>sibsp</th>\n      <th>parch</th>\n      <th>fare</th>\n    </tr>\n  </thead>\n  <tbody>\n    <tr>\n      <th>count</th>\n      <td>891.00</td>\n      <td>891.00</td>\n      <td>714.00</td>\n      <td>891.00</td>\n      <td>891.00</td>\n      <td>891.00</td>\n    </tr>\n    <tr>\n      <th>mean</th>\n      <td>0.38</td>\n      <td>2.31</td>\n      <td>29.70</td>\n      <td>0.52</td>\n      <td>0.38</td>\n      <td>32.20</td>\n    </tr>\n    <tr>\n      <th>std</th>\n      <td>0.49</td>\n      <td>0.84</td>\n      <td>14.53</td>\n      <td>1.10</td>\n      <td>0.81</td>\n      <td>49.69</td>\n    </tr>\n    <tr>\n      <th>min</th>\n      <td>0.00</td>\n      <td>1.00</td>\n      <td>0.42</td>\n      <td>0.00</td>\n      <td>0.00</td>\n      <td>0.00</td>\n    </tr>\n    <tr>\n      <th>25%</th>\n      <td>0.00</td>\n      <td>2.00</td>\n      <td>20.12</td>\n      <td>0.00</td>\n      <td>0.00</td>\n      <td>7.91</td>\n    </tr>\n    <tr>\n      <th>50%</th>\n      <td>0.00</td>\n      <td>3.00</td>\n      <td>28.00</td>\n      <td>0.00</td>\n      <td>0.00</td>\n      <td>14.45</td>\n    </tr>\n    <tr>\n      <th>75%</th>\n      <td>1.00</td>\n      <td>3.00</td>\n      <td>38.00</td>\n      <td>1.00</td>\n      <td>0.00</td>\n      <td>31.00</td>\n    </tr>\n    <tr>\n      <th>max</th>\n      <td>1.00</td>\n      <td>3.00</td>\n      <td>80.00</td>\n      <td>8.00</td>\n      <td>6.00</td>\n      <td>512.33</td>\n    </tr>\n  </tbody>\n</table>\n</div>"
     },
     "metadata": {},
     "execution_count": 8
    }
   ],
   "source": [
    "titanic.describe()"
   ]
  },
  {
   "cell_type": "code",
   "execution_count": 9,
   "metadata": {},
   "outputs": [
    {
     "output_type": "execute_result",
     "data": {
      "text/plain": [
       "     survived  pclass     sex   age  sibsp  parch  fare embarked   class  \\\n",
       "886         0       2    male 27.00      0      0 13.00        S  Second   \n",
       "887         1       1  female 19.00      0      0 30.00        S   First   \n",
       "888         0       3  female   nan      1      2 23.45        S   Third   \n",
       "889         1       1    male 26.00      0      0 30.00        C   First   \n",
       "890         0       3    male 32.00      0      0  7.75        Q   Third   \n",
       "\n",
       "       who  adult_male deck  embark_town alive  alone category1  \n",
       "886    man        True  NaN  Southampton    no   True      male  \n",
       "887  woman       False    B  Southampton   yes   True     child  \n",
       "888  woman       False  NaN  Southampton    no  False     child  \n",
       "889    man        True    C    Cherbourg   yes   True      male  \n",
       "890    man        True  NaN   Queenstown    no   True      male  "
      ],
      "text/html": "<div>\n<style scoped>\n    .dataframe tbody tr th:only-of-type {\n        vertical-align: middle;\n    }\n\n    .dataframe tbody tr th {\n        vertical-align: top;\n    }\n\n    .dataframe thead th {\n        text-align: right;\n    }\n</style>\n<table border=\"1\" class=\"dataframe\">\n  <thead>\n    <tr style=\"text-align: right;\">\n      <th></th>\n      <th>survived</th>\n      <th>pclass</th>\n      <th>sex</th>\n      <th>age</th>\n      <th>sibsp</th>\n      <th>parch</th>\n      <th>fare</th>\n      <th>embarked</th>\n      <th>class</th>\n      <th>who</th>\n      <th>adult_male</th>\n      <th>deck</th>\n      <th>embark_town</th>\n      <th>alive</th>\n      <th>alone</th>\n      <th>category1</th>\n    </tr>\n  </thead>\n  <tbody>\n    <tr>\n      <th>886</th>\n      <td>0</td>\n      <td>2</td>\n      <td>male</td>\n      <td>27.00</td>\n      <td>0</td>\n      <td>0</td>\n      <td>13.00</td>\n      <td>S</td>\n      <td>Second</td>\n      <td>man</td>\n      <td>True</td>\n      <td>NaN</td>\n      <td>Southampton</td>\n      <td>no</td>\n      <td>True</td>\n      <td>male</td>\n    </tr>\n    <tr>\n      <th>887</th>\n      <td>1</td>\n      <td>1</td>\n      <td>female</td>\n      <td>19.00</td>\n      <td>0</td>\n      <td>0</td>\n      <td>30.00</td>\n      <td>S</td>\n      <td>First</td>\n      <td>woman</td>\n      <td>False</td>\n      <td>B</td>\n      <td>Southampton</td>\n      <td>yes</td>\n      <td>True</td>\n      <td>child</td>\n    </tr>\n    <tr>\n      <th>888</th>\n      <td>0</td>\n      <td>3</td>\n      <td>female</td>\n      <td>nan</td>\n      <td>1</td>\n      <td>2</td>\n      <td>23.45</td>\n      <td>S</td>\n      <td>Third</td>\n      <td>woman</td>\n      <td>False</td>\n      <td>NaN</td>\n      <td>Southampton</td>\n      <td>no</td>\n      <td>False</td>\n      <td>child</td>\n    </tr>\n    <tr>\n      <th>889</th>\n      <td>1</td>\n      <td>1</td>\n      <td>male</td>\n      <td>26.00</td>\n      <td>0</td>\n      <td>0</td>\n      <td>30.00</td>\n      <td>C</td>\n      <td>First</td>\n      <td>man</td>\n      <td>True</td>\n      <td>C</td>\n      <td>Cherbourg</td>\n      <td>yes</td>\n      <td>True</td>\n      <td>male</td>\n    </tr>\n    <tr>\n      <th>890</th>\n      <td>0</td>\n      <td>3</td>\n      <td>male</td>\n      <td>32.00</td>\n      <td>0</td>\n      <td>0</td>\n      <td>7.75</td>\n      <td>Q</td>\n      <td>Third</td>\n      <td>man</td>\n      <td>True</td>\n      <td>NaN</td>\n      <td>Queenstown</td>\n      <td>no</td>\n      <td>True</td>\n      <td>male</td>\n    </tr>\n  </tbody>\n</table>\n</div>"
     },
     "metadata": {},
     "execution_count": 9
    }
   ],
   "source": [
    "titanic[\"category1\"] = titanic.apply(lambda r: r.sex if r.age>=20 else \"child\", axis=1)\n",
    "titanic.tail()"
   ]
  },
  {
   "cell_type": "markdown",
   "metadata": {},
   "source": [
    "##### b. 타이타닉호의 승객 중 나이를 명시하지 않은 고객은 나이를 명시한 고객의 평균 나이 값이 되도록 titanic 데이터프레임을 고치시오."
   ]
  },
  {
   "cell_type": "code",
   "execution_count": 10,
   "metadata": {},
   "outputs": [
    {
     "output_type": "execute_result",
     "data": {
      "text/plain": [
       "     survived  pclass     sex   age  sibsp  parch  fare embarked   class  \\\n",
       "886         0       2    male 27.00      0      0 13.00        S  Second   \n",
       "887         1       1  female 19.00      0      0 30.00        S   First   \n",
       "888         0       3  female 29.70      1      2 23.45        S   Third   \n",
       "889         1       1    male 26.00      0      0 30.00        C   First   \n",
       "890         0       3    male 32.00      0      0  7.75        Q   Third   \n",
       "\n",
       "       who  adult_male deck  embark_town alive  alone category1  \n",
       "886    man        True  NaN  Southampton    no   True      male  \n",
       "887  woman       False    B  Southampton   yes   True     child  \n",
       "888  woman       False  NaN  Southampton    no  False     child  \n",
       "889    man        True    C    Cherbourg   yes   True      male  \n",
       "890    man        True  NaN   Queenstown    no   True      male  "
      ],
      "text/html": "<div>\n<style scoped>\n    .dataframe tbody tr th:only-of-type {\n        vertical-align: middle;\n    }\n\n    .dataframe tbody tr th {\n        vertical-align: top;\n    }\n\n    .dataframe thead th {\n        text-align: right;\n    }\n</style>\n<table border=\"1\" class=\"dataframe\">\n  <thead>\n    <tr style=\"text-align: right;\">\n      <th></th>\n      <th>survived</th>\n      <th>pclass</th>\n      <th>sex</th>\n      <th>age</th>\n      <th>sibsp</th>\n      <th>parch</th>\n      <th>fare</th>\n      <th>embarked</th>\n      <th>class</th>\n      <th>who</th>\n      <th>adult_male</th>\n      <th>deck</th>\n      <th>embark_town</th>\n      <th>alive</th>\n      <th>alone</th>\n      <th>category1</th>\n    </tr>\n  </thead>\n  <tbody>\n    <tr>\n      <th>886</th>\n      <td>0</td>\n      <td>2</td>\n      <td>male</td>\n      <td>27.00</td>\n      <td>0</td>\n      <td>0</td>\n      <td>13.00</td>\n      <td>S</td>\n      <td>Second</td>\n      <td>man</td>\n      <td>True</td>\n      <td>NaN</td>\n      <td>Southampton</td>\n      <td>no</td>\n      <td>True</td>\n      <td>male</td>\n    </tr>\n    <tr>\n      <th>887</th>\n      <td>1</td>\n      <td>1</td>\n      <td>female</td>\n      <td>19.00</td>\n      <td>0</td>\n      <td>0</td>\n      <td>30.00</td>\n      <td>S</td>\n      <td>First</td>\n      <td>woman</td>\n      <td>False</td>\n      <td>B</td>\n      <td>Southampton</td>\n      <td>yes</td>\n      <td>True</td>\n      <td>child</td>\n    </tr>\n    <tr>\n      <th>888</th>\n      <td>0</td>\n      <td>3</td>\n      <td>female</td>\n      <td>29.70</td>\n      <td>1</td>\n      <td>2</td>\n      <td>23.45</td>\n      <td>S</td>\n      <td>Third</td>\n      <td>woman</td>\n      <td>False</td>\n      <td>NaN</td>\n      <td>Southampton</td>\n      <td>no</td>\n      <td>False</td>\n      <td>child</td>\n    </tr>\n    <tr>\n      <th>889</th>\n      <td>1</td>\n      <td>1</td>\n      <td>male</td>\n      <td>26.00</td>\n      <td>0</td>\n      <td>0</td>\n      <td>30.00</td>\n      <td>C</td>\n      <td>First</td>\n      <td>man</td>\n      <td>True</td>\n      <td>C</td>\n      <td>Cherbourg</td>\n      <td>yes</td>\n      <td>True</td>\n      <td>male</td>\n    </tr>\n    <tr>\n      <th>890</th>\n      <td>0</td>\n      <td>3</td>\n      <td>male</td>\n      <td>32.00</td>\n      <td>0</td>\n      <td>0</td>\n      <td>7.75</td>\n      <td>Q</td>\n      <td>Third</td>\n      <td>man</td>\n      <td>True</td>\n      <td>NaN</td>\n      <td>Queenstown</td>\n      <td>no</td>\n      <td>True</td>\n      <td>male</td>\n    </tr>\n  </tbody>\n</table>\n</div>"
     },
     "metadata": {},
     "execution_count": 10
    }
   ],
   "source": [
    "pd.options.display.float_format = lambda titanic: f'{titanic:.2f}'\n",
    "titanic['age'] = titanic['age'].fillna(titanic['age'].mean())\n",
    "titanic.tail()"
   ]
  },
  {
   "cell_type": "markdown",
   "metadata": {},
   "source": [
    "#### c. 성별, 선실(class)별, 출발지(embark_town)별 생존율을 구하시오."
   ]
  },
  {
   "cell_type": "code",
   "execution_count": 11,
   "metadata": {},
   "outputs": [
    {
     "output_type": "execute_result",
     "data": {
      "text/plain": [
       "        survived\n",
       "sex             \n",
       "female      0.74\n",
       "male        0.19"
      ],
      "text/html": "<div>\n<style scoped>\n    .dataframe tbody tr th:only-of-type {\n        vertical-align: middle;\n    }\n\n    .dataframe tbody tr th {\n        vertical-align: top;\n    }\n\n    .dataframe thead th {\n        text-align: right;\n    }\n</style>\n<table border=\"1\" class=\"dataframe\">\n  <thead>\n    <tr style=\"text-align: right;\">\n      <th></th>\n      <th>survived</th>\n    </tr>\n    <tr>\n      <th>sex</th>\n      <th></th>\n    </tr>\n  </thead>\n  <tbody>\n    <tr>\n      <th>female</th>\n      <td>0.74</td>\n    </tr>\n    <tr>\n      <th>male</th>\n      <td>0.19</td>\n    </tr>\n  </tbody>\n</table>\n</div>"
     },
     "metadata": {},
     "execution_count": 11
    }
   ],
   "source": [
    "# 성별별 생존률\n",
    "titanic.pivot_table('survived', 'sex')"
   ]
  },
  {
   "cell_type": "code",
   "execution_count": 12,
   "metadata": {},
   "outputs": [
    {
     "output_type": "execute_result",
     "data": {
      "text/plain": [
       "        survived\n",
       "class           \n",
       "First       0.63\n",
       "Second      0.47\n",
       "Third       0.24"
      ],
      "text/html": "<div>\n<style scoped>\n    .dataframe tbody tr th:only-of-type {\n        vertical-align: middle;\n    }\n\n    .dataframe tbody tr th {\n        vertical-align: top;\n    }\n\n    .dataframe thead th {\n        text-align: right;\n    }\n</style>\n<table border=\"1\" class=\"dataframe\">\n  <thead>\n    <tr style=\"text-align: right;\">\n      <th></th>\n      <th>survived</th>\n    </tr>\n    <tr>\n      <th>class</th>\n      <th></th>\n    </tr>\n  </thead>\n  <tbody>\n    <tr>\n      <th>First</th>\n      <td>0.63</td>\n    </tr>\n    <tr>\n      <th>Second</th>\n      <td>0.47</td>\n    </tr>\n    <tr>\n      <th>Third</th>\n      <td>0.24</td>\n    </tr>\n  </tbody>\n</table>\n</div>"
     },
     "metadata": {},
     "execution_count": 12
    }
   ],
   "source": [
    "# 선실별 생존률\n",
    "titanic.pivot_table('survived', 'class')"
   ]
  },
  {
   "cell_type": "code",
   "execution_count": 13,
   "metadata": {},
   "outputs": [
    {
     "output_type": "execute_result",
     "data": {
      "text/plain": [
       "             survived\n",
       "embark_town          \n",
       "Cherbourg        0.55\n",
       "Queenstown       0.39\n",
       "Southampton      0.34"
      ],
      "text/html": "<div>\n<style scoped>\n    .dataframe tbody tr th:only-of-type {\n        vertical-align: middle;\n    }\n\n    .dataframe tbody tr th {\n        vertical-align: top;\n    }\n\n    .dataframe thead th {\n        text-align: right;\n    }\n</style>\n<table border=\"1\" class=\"dataframe\">\n  <thead>\n    <tr style=\"text-align: right;\">\n      <th></th>\n      <th>survived</th>\n    </tr>\n    <tr>\n      <th>embark_town</th>\n      <th></th>\n    </tr>\n  </thead>\n  <tbody>\n    <tr>\n      <th>Cherbourg</th>\n      <td>0.55</td>\n    </tr>\n    <tr>\n      <th>Queenstown</th>\n      <td>0.39</td>\n    </tr>\n    <tr>\n      <th>Southampton</th>\n      <td>0.34</td>\n    </tr>\n  </tbody>\n</table>\n</div>"
     },
     "metadata": {},
     "execution_count": 13
    }
   ],
   "source": [
    "# 출발지별 생존률\n",
    "titanic.pivot_table('survived', 'embark_town')"
   ]
  },
  {
   "cell_type": "markdown",
   "metadata": {},
   "source": [
    "##### d. 타이타닉호 승객을 ‘미성년자’, ‘청년’, ‘중년’, ‘장년’, ‘노년’ 나이 그룹으로 나누고, 각 그룹별 생존율을 구하시오."
   ]
  },
  {
   "cell_type": "code",
   "execution_count": 14,
   "metadata": {},
   "outputs": [
    {
     "output_type": "execute_result",
     "data": {
      "text/plain": [
       "     survived  pclass     sex   age  sibsp  parch  fare embarked   class  \\\n",
       "0           0       3    male 22.00      1      0  7.25        S   Third   \n",
       "1           1       1  female 38.00      1      0 71.28        C   First   \n",
       "2           1       3  female 26.00      0      0  7.92        S   Third   \n",
       "3           1       1  female 35.00      1      0 53.10        S   First   \n",
       "4           0       3    male 35.00      0      0  8.05        S   Third   \n",
       "..        ...     ...     ...   ...    ...    ...   ...      ...     ...   \n",
       "886         0       2    male 27.00      0      0 13.00        S  Second   \n",
       "887         1       1  female 19.00      0      0 30.00        S   First   \n",
       "888         0       3  female 29.70      1      2 23.45        S   Third   \n",
       "889         1       1    male 26.00      0      0 30.00        C   First   \n",
       "890         0       3    male 32.00      0      0  7.75        Q   Third   \n",
       "\n",
       "       who  adult_male deck  embark_town alive  alone category1 age_cat  \n",
       "0      man        True  NaN  Southampton    no  False      male      청년  \n",
       "1    woman       False    C    Cherbourg   yes  False    female      중년  \n",
       "2    woman       False  NaN  Southampton   yes   True    female      청년  \n",
       "3    woman       False    C  Southampton   yes  False    female      중년  \n",
       "4      man        True  NaN  Southampton    no   True      male      중년  \n",
       "..     ...         ...  ...          ...   ...    ...       ...     ...  \n",
       "886    man        True  NaN  Southampton    no   True      male      청년  \n",
       "887  woman       False    B  Southampton   yes   True     child    미성년자  \n",
       "888  woman       False  NaN  Southampton    no  False     child      청년  \n",
       "889    man        True    C    Cherbourg   yes   True      male      청년  \n",
       "890    man        True  NaN   Queenstown    no   True      male      중년  \n",
       "\n",
       "[891 rows x 17 columns]"
      ],
      "text/html": "<div>\n<style scoped>\n    .dataframe tbody tr th:only-of-type {\n        vertical-align: middle;\n    }\n\n    .dataframe tbody tr th {\n        vertical-align: top;\n    }\n\n    .dataframe thead th {\n        text-align: right;\n    }\n</style>\n<table border=\"1\" class=\"dataframe\">\n  <thead>\n    <tr style=\"text-align: right;\">\n      <th></th>\n      <th>survived</th>\n      <th>pclass</th>\n      <th>sex</th>\n      <th>age</th>\n      <th>sibsp</th>\n      <th>parch</th>\n      <th>fare</th>\n      <th>embarked</th>\n      <th>class</th>\n      <th>who</th>\n      <th>adult_male</th>\n      <th>deck</th>\n      <th>embark_town</th>\n      <th>alive</th>\n      <th>alone</th>\n      <th>category1</th>\n      <th>age_cat</th>\n    </tr>\n  </thead>\n  <tbody>\n    <tr>\n      <th>0</th>\n      <td>0</td>\n      <td>3</td>\n      <td>male</td>\n      <td>22.00</td>\n      <td>1</td>\n      <td>0</td>\n      <td>7.25</td>\n      <td>S</td>\n      <td>Third</td>\n      <td>man</td>\n      <td>True</td>\n      <td>NaN</td>\n      <td>Southampton</td>\n      <td>no</td>\n      <td>False</td>\n      <td>male</td>\n      <td>청년</td>\n    </tr>\n    <tr>\n      <th>1</th>\n      <td>1</td>\n      <td>1</td>\n      <td>female</td>\n      <td>38.00</td>\n      <td>1</td>\n      <td>0</td>\n      <td>71.28</td>\n      <td>C</td>\n      <td>First</td>\n      <td>woman</td>\n      <td>False</td>\n      <td>C</td>\n      <td>Cherbourg</td>\n      <td>yes</td>\n      <td>False</td>\n      <td>female</td>\n      <td>중년</td>\n    </tr>\n    <tr>\n      <th>2</th>\n      <td>1</td>\n      <td>3</td>\n      <td>female</td>\n      <td>26.00</td>\n      <td>0</td>\n      <td>0</td>\n      <td>7.92</td>\n      <td>S</td>\n      <td>Third</td>\n      <td>woman</td>\n      <td>False</td>\n      <td>NaN</td>\n      <td>Southampton</td>\n      <td>yes</td>\n      <td>True</td>\n      <td>female</td>\n      <td>청년</td>\n    </tr>\n    <tr>\n      <th>3</th>\n      <td>1</td>\n      <td>1</td>\n      <td>female</td>\n      <td>35.00</td>\n      <td>1</td>\n      <td>0</td>\n      <td>53.10</td>\n      <td>S</td>\n      <td>First</td>\n      <td>woman</td>\n      <td>False</td>\n      <td>C</td>\n      <td>Southampton</td>\n      <td>yes</td>\n      <td>False</td>\n      <td>female</td>\n      <td>중년</td>\n    </tr>\n    <tr>\n      <th>4</th>\n      <td>0</td>\n      <td>3</td>\n      <td>male</td>\n      <td>35.00</td>\n      <td>0</td>\n      <td>0</td>\n      <td>8.05</td>\n      <td>S</td>\n      <td>Third</td>\n      <td>man</td>\n      <td>True</td>\n      <td>NaN</td>\n      <td>Southampton</td>\n      <td>no</td>\n      <td>True</td>\n      <td>male</td>\n      <td>중년</td>\n    </tr>\n    <tr>\n      <th>...</th>\n      <td>...</td>\n      <td>...</td>\n      <td>...</td>\n      <td>...</td>\n      <td>...</td>\n      <td>...</td>\n      <td>...</td>\n      <td>...</td>\n      <td>...</td>\n      <td>...</td>\n      <td>...</td>\n      <td>...</td>\n      <td>...</td>\n      <td>...</td>\n      <td>...</td>\n      <td>...</td>\n      <td>...</td>\n    </tr>\n    <tr>\n      <th>886</th>\n      <td>0</td>\n      <td>2</td>\n      <td>male</td>\n      <td>27.00</td>\n      <td>0</td>\n      <td>0</td>\n      <td>13.00</td>\n      <td>S</td>\n      <td>Second</td>\n      <td>man</td>\n      <td>True</td>\n      <td>NaN</td>\n      <td>Southampton</td>\n      <td>no</td>\n      <td>True</td>\n      <td>male</td>\n      <td>청년</td>\n    </tr>\n    <tr>\n      <th>887</th>\n      <td>1</td>\n      <td>1</td>\n      <td>female</td>\n      <td>19.00</td>\n      <td>0</td>\n      <td>0</td>\n      <td>30.00</td>\n      <td>S</td>\n      <td>First</td>\n      <td>woman</td>\n      <td>False</td>\n      <td>B</td>\n      <td>Southampton</td>\n      <td>yes</td>\n      <td>True</td>\n      <td>child</td>\n      <td>미성년자</td>\n    </tr>\n    <tr>\n      <th>888</th>\n      <td>0</td>\n      <td>3</td>\n      <td>female</td>\n      <td>29.70</td>\n      <td>1</td>\n      <td>2</td>\n      <td>23.45</td>\n      <td>S</td>\n      <td>Third</td>\n      <td>woman</td>\n      <td>False</td>\n      <td>NaN</td>\n      <td>Southampton</td>\n      <td>no</td>\n      <td>False</td>\n      <td>child</td>\n      <td>청년</td>\n    </tr>\n    <tr>\n      <th>889</th>\n      <td>1</td>\n      <td>1</td>\n      <td>male</td>\n      <td>26.00</td>\n      <td>0</td>\n      <td>0</td>\n      <td>30.00</td>\n      <td>C</td>\n      <td>First</td>\n      <td>man</td>\n      <td>True</td>\n      <td>C</td>\n      <td>Cherbourg</td>\n      <td>yes</td>\n      <td>True</td>\n      <td>male</td>\n      <td>청년</td>\n    </tr>\n    <tr>\n      <th>890</th>\n      <td>0</td>\n      <td>3</td>\n      <td>male</td>\n      <td>32.00</td>\n      <td>0</td>\n      <td>0</td>\n      <td>7.75</td>\n      <td>Q</td>\n      <td>Third</td>\n      <td>man</td>\n      <td>True</td>\n      <td>NaN</td>\n      <td>Queenstown</td>\n      <td>no</td>\n      <td>True</td>\n      <td>male</td>\n      <td>중년</td>\n    </tr>\n  </tbody>\n</table>\n<p>891 rows × 17 columns</p>\n</div>"
     },
     "metadata": {},
     "execution_count": 14
    }
   ],
   "source": [
    "bins = [1, 20, 30, 50, 70, 100]\n",
    "labels = [\"미성년자\", \"청년\", \"중년\", \"장년\", \"노년\"]\n",
    "titanic['age_cat'] = pd.cut(titanic[\"age\"], bins, labels=labels)\n",
    "titanic"
   ]
  },
  {
   "cell_type": "code",
   "execution_count": 15,
   "metadata": {},
   "outputs": [
    {
     "output_type": "execute_result",
     "data": {
      "text/plain": [
       "         survived\n",
       "age_cat          \n",
       "미성년자         0.42\n",
       "청년           0.33\n",
       "중년           0.42\n",
       "장년           0.36\n",
       "노년           0.20"
      ],
      "text/html": "<div>\n<style scoped>\n    .dataframe tbody tr th:only-of-type {\n        vertical-align: middle;\n    }\n\n    .dataframe tbody tr th {\n        vertical-align: top;\n    }\n\n    .dataframe thead th {\n        text-align: right;\n    }\n</style>\n<table border=\"1\" class=\"dataframe\">\n  <thead>\n    <tr style=\"text-align: right;\">\n      <th></th>\n      <th>survived</th>\n    </tr>\n    <tr>\n      <th>age_cat</th>\n      <th></th>\n    </tr>\n  </thead>\n  <tbody>\n    <tr>\n      <th>미성년자</th>\n      <td>0.42</td>\n    </tr>\n    <tr>\n      <th>청년</th>\n      <td>0.33</td>\n    </tr>\n    <tr>\n      <th>중년</th>\n      <td>0.42</td>\n    </tr>\n    <tr>\n      <th>장년</th>\n      <td>0.36</td>\n    </tr>\n    <tr>\n      <th>노년</th>\n      <td>0.20</td>\n    </tr>\n  </tbody>\n</table>\n</div>"
     },
     "metadata": {},
     "execution_count": 15
    }
   ],
   "source": [
    "titanic.pivot_table('survived', 'age_cat')"
   ]
  },
  {
   "cell_type": "markdown",
   "metadata": {},
   "source": [
    "#### e. qcut 명령으로 세 개의 나이 그룹을 만들고, 나이 그룹별 남녀 성비와 생존율을 구하시오"
   ]
  },
  {
   "cell_type": "code",
   "execution_count": 16,
   "metadata": {},
   "outputs": [
    {
     "output_type": "execute_result",
     "data": {
      "text/plain": [
       "     survived  pclass     sex   age  sibsp  parch  fare embarked   class  \\\n",
       "886         0       2    male 27.00      0      0 13.00        S  Second   \n",
       "887         1       1  female 19.00      0      0 30.00        S   First   \n",
       "888         0       3  female 29.70      1      2 23.45        S   Third   \n",
       "889         1       1    male 26.00      0      0 30.00        C   First   \n",
       "890         0       3    male 32.00      0      0  7.75        Q   Third   \n",
       "\n",
       "       who  adult_male deck  embark_town alive  alone category1 age_cat  q_age  \n",
       "886    man        True  NaN  Southampton    no   True      male      청년    two  \n",
       "887  woman       False    B  Southampton   yes   True     child    미성년자    one  \n",
       "888  woman       False  NaN  Southampton    no  False     child      청년    two  \n",
       "889    man        True    C    Cherbourg   yes   True      male      청년    two  \n",
       "890    man        True  NaN   Queenstown    no   True      male      중년  three  "
      ],
      "text/html": "<div>\n<style scoped>\n    .dataframe tbody tr th:only-of-type {\n        vertical-align: middle;\n    }\n\n    .dataframe tbody tr th {\n        vertical-align: top;\n    }\n\n    .dataframe thead th {\n        text-align: right;\n    }\n</style>\n<table border=\"1\" class=\"dataframe\">\n  <thead>\n    <tr style=\"text-align: right;\">\n      <th></th>\n      <th>survived</th>\n      <th>pclass</th>\n      <th>sex</th>\n      <th>age</th>\n      <th>sibsp</th>\n      <th>parch</th>\n      <th>fare</th>\n      <th>embarked</th>\n      <th>class</th>\n      <th>who</th>\n      <th>adult_male</th>\n      <th>deck</th>\n      <th>embark_town</th>\n      <th>alive</th>\n      <th>alone</th>\n      <th>category1</th>\n      <th>age_cat</th>\n      <th>q_age</th>\n    </tr>\n  </thead>\n  <tbody>\n    <tr>\n      <th>886</th>\n      <td>0</td>\n      <td>2</td>\n      <td>male</td>\n      <td>27.00</td>\n      <td>0</td>\n      <td>0</td>\n      <td>13.00</td>\n      <td>S</td>\n      <td>Second</td>\n      <td>man</td>\n      <td>True</td>\n      <td>NaN</td>\n      <td>Southampton</td>\n      <td>no</td>\n      <td>True</td>\n      <td>male</td>\n      <td>청년</td>\n      <td>two</td>\n    </tr>\n    <tr>\n      <th>887</th>\n      <td>1</td>\n      <td>1</td>\n      <td>female</td>\n      <td>19.00</td>\n      <td>0</td>\n      <td>0</td>\n      <td>30.00</td>\n      <td>S</td>\n      <td>First</td>\n      <td>woman</td>\n      <td>False</td>\n      <td>B</td>\n      <td>Southampton</td>\n      <td>yes</td>\n      <td>True</td>\n      <td>child</td>\n      <td>미성년자</td>\n      <td>one</td>\n    </tr>\n    <tr>\n      <th>888</th>\n      <td>0</td>\n      <td>3</td>\n      <td>female</td>\n      <td>29.70</td>\n      <td>1</td>\n      <td>2</td>\n      <td>23.45</td>\n      <td>S</td>\n      <td>Third</td>\n      <td>woman</td>\n      <td>False</td>\n      <td>NaN</td>\n      <td>Southampton</td>\n      <td>no</td>\n      <td>False</td>\n      <td>child</td>\n      <td>청년</td>\n      <td>two</td>\n    </tr>\n    <tr>\n      <th>889</th>\n      <td>1</td>\n      <td>1</td>\n      <td>male</td>\n      <td>26.00</td>\n      <td>0</td>\n      <td>0</td>\n      <td>30.00</td>\n      <td>C</td>\n      <td>First</td>\n      <td>man</td>\n      <td>True</td>\n      <td>C</td>\n      <td>Cherbourg</td>\n      <td>yes</td>\n      <td>True</td>\n      <td>male</td>\n      <td>청년</td>\n      <td>two</td>\n    </tr>\n    <tr>\n      <th>890</th>\n      <td>0</td>\n      <td>3</td>\n      <td>male</td>\n      <td>32.00</td>\n      <td>0</td>\n      <td>0</td>\n      <td>7.75</td>\n      <td>Q</td>\n      <td>Third</td>\n      <td>man</td>\n      <td>True</td>\n      <td>NaN</td>\n      <td>Queenstown</td>\n      <td>no</td>\n      <td>True</td>\n      <td>male</td>\n      <td>중년</td>\n      <td>three</td>\n    </tr>\n  </tbody>\n</table>\n</div>"
     },
     "metadata": {},
     "execution_count": 16
    }
   ],
   "source": [
    "titanic[\"q_age\"] = pd.qcut(titanic[\"age\"], 3, labels=['one', 'two', 'three'])\n",
    "titanic.tail()"
   ]
  },
  {
   "cell_type": "code",
   "execution_count": 17,
   "metadata": {},
   "outputs": [
    {
     "output_type": "execute_result",
     "data": {
      "text/plain": [
       "       num_sex\n",
       "q_age         \n",
       "one       0.59\n",
       "two       0.68\n",
       "three     0.67"
      ],
      "text/html": "<div>\n<style scoped>\n    .dataframe tbody tr th:only-of-type {\n        vertical-align: middle;\n    }\n\n    .dataframe tbody tr th {\n        vertical-align: top;\n    }\n\n    .dataframe thead th {\n        text-align: right;\n    }\n</style>\n<table border=\"1\" class=\"dataframe\">\n  <thead>\n    <tr style=\"text-align: right;\">\n      <th></th>\n      <th>num_sex</th>\n    </tr>\n    <tr>\n      <th>q_age</th>\n      <th></th>\n    </tr>\n  </thead>\n  <tbody>\n    <tr>\n      <th>one</th>\n      <td>0.59</td>\n    </tr>\n    <tr>\n      <th>two</th>\n      <td>0.68</td>\n    </tr>\n    <tr>\n      <th>three</th>\n      <td>0.67</td>\n    </tr>\n  </tbody>\n</table>\n</div>"
     },
     "metadata": {},
     "execution_count": 17
    }
   ],
   "source": [
    "# 나이 그룹별 남녀 성비\n",
    "# 남자를 1로, 여자를 0으로\n",
    "titanic['num_sex'] = titanic.apply(lambda x: 1 if x.sex == 'male' else 0, axis=1)\n",
    "# pivot테이블 만들기\n",
    "titanic.pivot_table('num_sex','q_age')"
   ]
  },
  {
   "cell_type": "code",
   "execution_count": 18,
   "metadata": {},
   "outputs": [
    {
     "output_type": "execute_result",
     "data": {
      "text/plain": [
       "              survived\n",
       "q_age sex             \n",
       "one   female      0.71\n",
       "      male        0.21\n",
       "two   female      0.70\n",
       "      male        0.16\n",
       "three female      0.82\n",
       "      male        0.20"
      ],
      "text/html": "<div>\n<style scoped>\n    .dataframe tbody tr th:only-of-type {\n        vertical-align: middle;\n    }\n\n    .dataframe tbody tr th {\n        vertical-align: top;\n    }\n\n    .dataframe thead th {\n        text-align: right;\n    }\n</style>\n<table border=\"1\" class=\"dataframe\">\n  <thead>\n    <tr style=\"text-align: right;\">\n      <th></th>\n      <th></th>\n      <th>survived</th>\n    </tr>\n    <tr>\n      <th>q_age</th>\n      <th>sex</th>\n      <th></th>\n    </tr>\n  </thead>\n  <tbody>\n    <tr>\n      <th rowspan=\"2\" valign=\"top\">one</th>\n      <th>female</th>\n      <td>0.71</td>\n    </tr>\n    <tr>\n      <th>male</th>\n      <td>0.21</td>\n    </tr>\n    <tr>\n      <th rowspan=\"2\" valign=\"top\">two</th>\n      <th>female</th>\n      <td>0.70</td>\n    </tr>\n    <tr>\n      <th>male</th>\n      <td>0.16</td>\n    </tr>\n    <tr>\n      <th rowspan=\"2\" valign=\"top\">three</th>\n      <th>female</th>\n      <td>0.82</td>\n    </tr>\n    <tr>\n      <th>male</th>\n      <td>0.20</td>\n    </tr>\n  </tbody>\n</table>\n</div>"
     },
     "metadata": {},
     "execution_count": 18
    }
   ],
   "source": [
    "# 나이 그룹별 남녀 생존률\n",
    "titanic.pivot_table('survived', ['q_age', 'sex'])"
   ]
  },
  {
   "cell_type": "markdown",
   "metadata": {},
   "source": [
    "### mpg"
   ]
  },
  {
   "cell_type": "code",
   "execution_count": 19,
   "metadata": {},
   "outputs": [],
   "source": [
    "mpg = sns.load_dataset('mpg')\n",
    "pd.options.display.float_format = lambda x: f'{x:.2f}'"
   ]
  },
  {
   "cell_type": "markdown",
   "metadata": {},
   "source": [
    "#### a. 배기량(displacement) 대비 마력(horsepower) 열(hp_per_cc)을 추가하시오"
   ]
  },
  {
   "cell_type": "code",
   "execution_count": 20,
   "metadata": {},
   "outputs": [
    {
     "output_type": "execute_result",
     "data": {
      "text/plain": [
       "         mpg  cylinders  displacement  horsepower  weight  acceleration  \\\n",
       "count 398.00     398.00        398.00      392.00  398.00        398.00   \n",
       "mean   23.51       5.45        193.43      104.47 2970.42         15.57   \n",
       "std     7.82       1.70        104.27       38.49  846.84          2.76   \n",
       "min     9.00       3.00         68.00       46.00 1613.00          8.00   \n",
       "25%    17.50       4.00        104.25       75.00 2223.75         13.83   \n",
       "50%    23.00       4.00        148.50       93.50 2803.50         15.50   \n",
       "75%    29.00       8.00        262.00      126.00 3608.00         17.17   \n",
       "max    46.60       8.00        455.00      230.00 5140.00         24.80   \n",
       "\n",
       "       model_year  \n",
       "count      398.00  \n",
       "mean        76.01  \n",
       "std          3.70  \n",
       "min         70.00  \n",
       "25%         73.00  \n",
       "50%         76.00  \n",
       "75%         79.00  \n",
       "max         82.00  "
      ],
      "text/html": "<div>\n<style scoped>\n    .dataframe tbody tr th:only-of-type {\n        vertical-align: middle;\n    }\n\n    .dataframe tbody tr th {\n        vertical-align: top;\n    }\n\n    .dataframe thead th {\n        text-align: right;\n    }\n</style>\n<table border=\"1\" class=\"dataframe\">\n  <thead>\n    <tr style=\"text-align: right;\">\n      <th></th>\n      <th>mpg</th>\n      <th>cylinders</th>\n      <th>displacement</th>\n      <th>horsepower</th>\n      <th>weight</th>\n      <th>acceleration</th>\n      <th>model_year</th>\n    </tr>\n  </thead>\n  <tbody>\n    <tr>\n      <th>count</th>\n      <td>398.00</td>\n      <td>398.00</td>\n      <td>398.00</td>\n      <td>392.00</td>\n      <td>398.00</td>\n      <td>398.00</td>\n      <td>398.00</td>\n    </tr>\n    <tr>\n      <th>mean</th>\n      <td>23.51</td>\n      <td>5.45</td>\n      <td>193.43</td>\n      <td>104.47</td>\n      <td>2970.42</td>\n      <td>15.57</td>\n      <td>76.01</td>\n    </tr>\n    <tr>\n      <th>std</th>\n      <td>7.82</td>\n      <td>1.70</td>\n      <td>104.27</td>\n      <td>38.49</td>\n      <td>846.84</td>\n      <td>2.76</td>\n      <td>3.70</td>\n    </tr>\n    <tr>\n      <th>min</th>\n      <td>9.00</td>\n      <td>3.00</td>\n      <td>68.00</td>\n      <td>46.00</td>\n      <td>1613.00</td>\n      <td>8.00</td>\n      <td>70.00</td>\n    </tr>\n    <tr>\n      <th>25%</th>\n      <td>17.50</td>\n      <td>4.00</td>\n      <td>104.25</td>\n      <td>75.00</td>\n      <td>2223.75</td>\n      <td>13.83</td>\n      <td>73.00</td>\n    </tr>\n    <tr>\n      <th>50%</th>\n      <td>23.00</td>\n      <td>4.00</td>\n      <td>148.50</td>\n      <td>93.50</td>\n      <td>2803.50</td>\n      <td>15.50</td>\n      <td>76.00</td>\n    </tr>\n    <tr>\n      <th>75%</th>\n      <td>29.00</td>\n      <td>8.00</td>\n      <td>262.00</td>\n      <td>126.00</td>\n      <td>3608.00</td>\n      <td>17.17</td>\n      <td>79.00</td>\n    </tr>\n    <tr>\n      <th>max</th>\n      <td>46.60</td>\n      <td>8.00</td>\n      <td>455.00</td>\n      <td>230.00</td>\n      <td>5140.00</td>\n      <td>24.80</td>\n      <td>82.00</td>\n    </tr>\n  </tbody>\n</table>\n</div>"
     },
     "metadata": {},
     "execution_count": 20
    }
   ],
   "source": [
    "mpg.describe()"
   ]
  },
  {
   "cell_type": "code",
   "execution_count": 21,
   "metadata": {},
   "outputs": [
    {
     "output_type": "execute_result",
     "data": {
      "text/plain": [
       "      mpg  cylinders  displacement  horsepower  weight  acceleration  \\\n",
       "393 27.00          4        140.00       86.00    2790         15.60   \n",
       "394 44.00          4         97.00       52.00    2130         24.60   \n",
       "395 32.00          4        135.00       84.00    2295         11.60   \n",
       "396 28.00          4        120.00       79.00    2625         18.60   \n",
       "397 31.00          4        119.00       82.00    2720         19.40   \n",
       "\n",
       "     model_year  origin             name  hp_per_cc  \n",
       "393          82     usa  ford mustang gl       0.61  \n",
       "394          82  europe        vw pickup       0.54  \n",
       "395          82     usa    dodge rampage       0.62  \n",
       "396          82     usa      ford ranger       0.66  \n",
       "397          82     usa       chevy s-10       0.69  "
      ],
      "text/html": "<div>\n<style scoped>\n    .dataframe tbody tr th:only-of-type {\n        vertical-align: middle;\n    }\n\n    .dataframe tbody tr th {\n        vertical-align: top;\n    }\n\n    .dataframe thead th {\n        text-align: right;\n    }\n</style>\n<table border=\"1\" class=\"dataframe\">\n  <thead>\n    <tr style=\"text-align: right;\">\n      <th></th>\n      <th>mpg</th>\n      <th>cylinders</th>\n      <th>displacement</th>\n      <th>horsepower</th>\n      <th>weight</th>\n      <th>acceleration</th>\n      <th>model_year</th>\n      <th>origin</th>\n      <th>name</th>\n      <th>hp_per_cc</th>\n    </tr>\n  </thead>\n  <tbody>\n    <tr>\n      <th>393</th>\n      <td>27.00</td>\n      <td>4</td>\n      <td>140.00</td>\n      <td>86.00</td>\n      <td>2790</td>\n      <td>15.60</td>\n      <td>82</td>\n      <td>usa</td>\n      <td>ford mustang gl</td>\n      <td>0.61</td>\n    </tr>\n    <tr>\n      <th>394</th>\n      <td>44.00</td>\n      <td>4</td>\n      <td>97.00</td>\n      <td>52.00</td>\n      <td>2130</td>\n      <td>24.60</td>\n      <td>82</td>\n      <td>europe</td>\n      <td>vw pickup</td>\n      <td>0.54</td>\n    </tr>\n    <tr>\n      <th>395</th>\n      <td>32.00</td>\n      <td>4</td>\n      <td>135.00</td>\n      <td>84.00</td>\n      <td>2295</td>\n      <td>11.60</td>\n      <td>82</td>\n      <td>usa</td>\n      <td>dodge rampage</td>\n      <td>0.62</td>\n    </tr>\n    <tr>\n      <th>396</th>\n      <td>28.00</td>\n      <td>4</td>\n      <td>120.00</td>\n      <td>79.00</td>\n      <td>2625</td>\n      <td>18.60</td>\n      <td>82</td>\n      <td>usa</td>\n      <td>ford ranger</td>\n      <td>0.66</td>\n    </tr>\n    <tr>\n      <th>397</th>\n      <td>31.00</td>\n      <td>4</td>\n      <td>119.00</td>\n      <td>82.00</td>\n      <td>2720</td>\n      <td>19.40</td>\n      <td>82</td>\n      <td>usa</td>\n      <td>chevy s-10</td>\n      <td>0.69</td>\n    </tr>\n  </tbody>\n</table>\n</div>"
     },
     "metadata": {},
     "execution_count": 21
    }
   ],
   "source": [
    "mpg[\"hp_per_cc\"] = mpg.horsepower / mpg.displacement\n",
    "mpg.tail()"
   ]
  },
  {
   "cell_type": "markdown",
   "metadata": {},
   "source": [
    "#### b. name으로부터 manufacturer(제조사)와 모델을 추출하여 새로운 열 manufacturer와 model을 추가하고, name 열은 삭제하시오."
   ]
  },
  {
   "cell_type": "code",
   "execution_count": 22,
   "metadata": {},
   "outputs": [
    {
     "output_type": "execute_result",
     "data": {
      "text/plain": [
       "      mpg  cylinders  displacement  horsepower  weight  acceleration  \\\n",
       "0   18.00          8        307.00      130.00    3504         12.00   \n",
       "1   15.00          8        350.00      165.00    3693         11.50   \n",
       "2   18.00          8        318.00      150.00    3436         11.00   \n",
       "3   16.00          8        304.00      150.00    3433         12.00   \n",
       "4   17.00          8        302.00      140.00    3449         10.50   \n",
       "..    ...        ...           ...         ...     ...           ...   \n",
       "393 27.00          4        140.00       86.00    2790         15.60   \n",
       "394 44.00          4         97.00       52.00    2130         24.60   \n",
       "395 32.00          4        135.00       84.00    2295         11.60   \n",
       "396 28.00          4        120.00       79.00    2625         18.60   \n",
       "397 31.00          4        119.00       82.00    2720         19.40   \n",
       "\n",
       "     model_year  origin  hp_per_cc manufacturer            model  \n",
       "0            70     usa       0.42    chevrolet  chevelle malibu  \n",
       "1            70     usa       0.47        buick      skylark 320  \n",
       "2            70     usa       0.47     plymouth       satellite   \n",
       "3            70     usa       0.49          amc        rebel sst  \n",
       "4            70     usa       0.46         ford          torino   \n",
       "..          ...     ...        ...          ...              ...  \n",
       "393          82     usa       0.61         ford       mustang gl  \n",
       "394          82  europe       0.54           vw          pickup   \n",
       "395          82     usa       0.62        dodge         rampage   \n",
       "396          82     usa       0.66         ford          ranger   \n",
       "397          82     usa       0.69        chevy            s-10   \n",
       "\n",
       "[398 rows x 11 columns]"
      ],
      "text/html": "<div>\n<style scoped>\n    .dataframe tbody tr th:only-of-type {\n        vertical-align: middle;\n    }\n\n    .dataframe tbody tr th {\n        vertical-align: top;\n    }\n\n    .dataframe thead th {\n        text-align: right;\n    }\n</style>\n<table border=\"1\" class=\"dataframe\">\n  <thead>\n    <tr style=\"text-align: right;\">\n      <th></th>\n      <th>mpg</th>\n      <th>cylinders</th>\n      <th>displacement</th>\n      <th>horsepower</th>\n      <th>weight</th>\n      <th>acceleration</th>\n      <th>model_year</th>\n      <th>origin</th>\n      <th>hp_per_cc</th>\n      <th>manufacturer</th>\n      <th>model</th>\n    </tr>\n  </thead>\n  <tbody>\n    <tr>\n      <th>0</th>\n      <td>18.00</td>\n      <td>8</td>\n      <td>307.00</td>\n      <td>130.00</td>\n      <td>3504</td>\n      <td>12.00</td>\n      <td>70</td>\n      <td>usa</td>\n      <td>0.42</td>\n      <td>chevrolet</td>\n      <td>chevelle malibu</td>\n    </tr>\n    <tr>\n      <th>1</th>\n      <td>15.00</td>\n      <td>8</td>\n      <td>350.00</td>\n      <td>165.00</td>\n      <td>3693</td>\n      <td>11.50</td>\n      <td>70</td>\n      <td>usa</td>\n      <td>0.47</td>\n      <td>buick</td>\n      <td>skylark 320</td>\n    </tr>\n    <tr>\n      <th>2</th>\n      <td>18.00</td>\n      <td>8</td>\n      <td>318.00</td>\n      <td>150.00</td>\n      <td>3436</td>\n      <td>11.00</td>\n      <td>70</td>\n      <td>usa</td>\n      <td>0.47</td>\n      <td>plymouth</td>\n      <td>satellite</td>\n    </tr>\n    <tr>\n      <th>3</th>\n      <td>16.00</td>\n      <td>8</td>\n      <td>304.00</td>\n      <td>150.00</td>\n      <td>3433</td>\n      <td>12.00</td>\n      <td>70</td>\n      <td>usa</td>\n      <td>0.49</td>\n      <td>amc</td>\n      <td>rebel sst</td>\n    </tr>\n    <tr>\n      <th>4</th>\n      <td>17.00</td>\n      <td>8</td>\n      <td>302.00</td>\n      <td>140.00</td>\n      <td>3449</td>\n      <td>10.50</td>\n      <td>70</td>\n      <td>usa</td>\n      <td>0.46</td>\n      <td>ford</td>\n      <td>torino</td>\n    </tr>\n    <tr>\n      <th>...</th>\n      <td>...</td>\n      <td>...</td>\n      <td>...</td>\n      <td>...</td>\n      <td>...</td>\n      <td>...</td>\n      <td>...</td>\n      <td>...</td>\n      <td>...</td>\n      <td>...</td>\n      <td>...</td>\n    </tr>\n    <tr>\n      <th>393</th>\n      <td>27.00</td>\n      <td>4</td>\n      <td>140.00</td>\n      <td>86.00</td>\n      <td>2790</td>\n      <td>15.60</td>\n      <td>82</td>\n      <td>usa</td>\n      <td>0.61</td>\n      <td>ford</td>\n      <td>mustang gl</td>\n    </tr>\n    <tr>\n      <th>394</th>\n      <td>44.00</td>\n      <td>4</td>\n      <td>97.00</td>\n      <td>52.00</td>\n      <td>2130</td>\n      <td>24.60</td>\n      <td>82</td>\n      <td>europe</td>\n      <td>0.54</td>\n      <td>vw</td>\n      <td>pickup</td>\n    </tr>\n    <tr>\n      <th>395</th>\n      <td>32.00</td>\n      <td>4</td>\n      <td>135.00</td>\n      <td>84.00</td>\n      <td>2295</td>\n      <td>11.60</td>\n      <td>82</td>\n      <td>usa</td>\n      <td>0.62</td>\n      <td>dodge</td>\n      <td>rampage</td>\n    </tr>\n    <tr>\n      <th>396</th>\n      <td>28.00</td>\n      <td>4</td>\n      <td>120.00</td>\n      <td>79.00</td>\n      <td>2625</td>\n      <td>18.60</td>\n      <td>82</td>\n      <td>usa</td>\n      <td>0.66</td>\n      <td>ford</td>\n      <td>ranger</td>\n    </tr>\n    <tr>\n      <th>397</th>\n      <td>31.00</td>\n      <td>4</td>\n      <td>119.00</td>\n      <td>82.00</td>\n      <td>2720</td>\n      <td>19.40</td>\n      <td>82</td>\n      <td>usa</td>\n      <td>0.69</td>\n      <td>chevy</td>\n      <td>s-10</td>\n    </tr>\n  </tbody>\n</table>\n<p>398 rows × 11 columns</p>\n</div>"
     },
     "metadata": {},
     "execution_count": 22
    }
   ],
   "source": [
    "name_split = mpg['name'].str.split(' ')\n",
    "\n",
    "manufacturer = name_split.str[0]\n",
    "model = name_split.str[1] + ' ' + name_split.str[2].fillna('')\n",
    "\n",
    "mpg['manufacturer'] = manufacturer\n",
    "mpg['model'] = model\n",
    "\n",
    "mpg.drop(['name'], axis='columns', inplace=True)\n",
    "\n",
    "mpg"
   ]
  },
  {
   "cell_type": "markdown",
   "metadata": {},
   "source": [
    "#### c. 엔진의 실린더(cylinders) 갯수별 연비(mpg)의 평균을 구하시오"
   ]
  },
  {
   "cell_type": "code",
   "execution_count": 23,
   "metadata": {},
   "outputs": [
    {
     "output_type": "execute_result",
     "data": {
      "text/plain": [
       "            mpg\n",
       "cylinders      \n",
       "3         20.55\n",
       "4         29.29\n",
       "5         27.37\n",
       "6         19.99\n",
       "8         14.96"
      ],
      "text/html": "<div>\n<style scoped>\n    .dataframe tbody tr th:only-of-type {\n        vertical-align: middle;\n    }\n\n    .dataframe tbody tr th {\n        vertical-align: top;\n    }\n\n    .dataframe thead th {\n        text-align: right;\n    }\n</style>\n<table border=\"1\" class=\"dataframe\">\n  <thead>\n    <tr style=\"text-align: right;\">\n      <th></th>\n      <th>mpg</th>\n    </tr>\n    <tr>\n      <th>cylinders</th>\n      <th></th>\n    </tr>\n  </thead>\n  <tbody>\n    <tr>\n      <th>3</th>\n      <td>20.55</td>\n    </tr>\n    <tr>\n      <th>4</th>\n      <td>29.29</td>\n    </tr>\n    <tr>\n      <th>5</th>\n      <td>27.37</td>\n    </tr>\n    <tr>\n      <th>6</th>\n      <td>19.99</td>\n    </tr>\n    <tr>\n      <th>8</th>\n      <td>14.96</td>\n    </tr>\n  </tbody>\n</table>\n</div>"
     },
     "metadata": {},
     "execution_count": 23
    }
   ],
   "source": [
    "mpg.pivot_table('mpg', 'cylinders')"
   ]
  },
  {
   "cell_type": "markdown",
   "metadata": {},
   "source": [
    "#### d. 생산지(origin)별 배기량 대비 마력(hp_per_cc)의 평균을 구하시오."
   ]
  },
  {
   "cell_type": "code",
   "execution_count": 24,
   "metadata": {},
   "outputs": [
    {
     "output_type": "execute_result",
     "data": {
      "text/plain": [
       "        hp_per_cc\n",
       "origin           \n",
       "europe       0.74\n",
       "japan        0.79\n",
       "usa          0.51"
      ],
      "text/html": "<div>\n<style scoped>\n    .dataframe tbody tr th:only-of-type {\n        vertical-align: middle;\n    }\n\n    .dataframe tbody tr th {\n        vertical-align: top;\n    }\n\n    .dataframe thead th {\n        text-align: right;\n    }\n</style>\n<table border=\"1\" class=\"dataframe\">\n  <thead>\n    <tr style=\"text-align: right;\">\n      <th></th>\n      <th>hp_per_cc</th>\n    </tr>\n    <tr>\n      <th>origin</th>\n      <th></th>\n    </tr>\n  </thead>\n  <tbody>\n    <tr>\n      <th>europe</th>\n      <td>0.74</td>\n    </tr>\n    <tr>\n      <th>japan</th>\n      <td>0.79</td>\n    </tr>\n    <tr>\n      <th>usa</th>\n      <td>0.51</td>\n    </tr>\n  </tbody>\n</table>\n</div>"
     },
     "metadata": {},
     "execution_count": 24
    }
   ],
   "source": [
    "mpg[['origin', 'hp_per_cc']].groupby('origin').mean()"
   ]
  },
  {
   "cell_type": "markdown",
   "metadata": {},
   "source": [
    "#### e. 모델이 5개 이상인 제조사에 대하여 연비(mpg)의 평균이 가장 좋은 제조사 Top 5를 구하시오"
   ]
  },
  {
   "cell_type": "code",
   "execution_count": 25,
   "metadata": {},
   "outputs": [],
   "source": [
    "# 모델이 5개인 회사\n",
    "a = mpg.manufacturer.value_counts()\n",
    "over_five = a[a>=5].index.tolist()"
   ]
  },
  {
   "cell_type": "code",
   "execution_count": 26,
   "metadata": {},
   "outputs": [
    {
     "output_type": "execute_result",
     "data": {
      "text/plain": [
       "               mpg\n",
       "manufacturer      \n",
       "vw           39.02\n",
       "honda        33.76\n",
       "renault      32.88\n",
       "datsun       31.11\n",
       "mazda        30.86"
      ],
      "text/html": "<div>\n<style scoped>\n    .dataframe tbody tr th:only-of-type {\n        vertical-align: middle;\n    }\n\n    .dataframe tbody tr th {\n        vertical-align: top;\n    }\n\n    .dataframe thead th {\n        text-align: right;\n    }\n</style>\n<table border=\"1\" class=\"dataframe\">\n  <thead>\n    <tr style=\"text-align: right;\">\n      <th></th>\n      <th>mpg</th>\n    </tr>\n    <tr>\n      <th>manufacturer</th>\n      <th></th>\n    </tr>\n  </thead>\n  <tbody>\n    <tr>\n      <th>vw</th>\n      <td>39.02</td>\n    </tr>\n    <tr>\n      <th>honda</th>\n      <td>33.76</td>\n    </tr>\n    <tr>\n      <th>renault</th>\n      <td>32.88</td>\n    </tr>\n    <tr>\n      <th>datsun</th>\n      <td>31.11</td>\n    </tr>\n    <tr>\n      <th>mazda</th>\n      <td>30.86</td>\n    </tr>\n  </tbody>\n</table>\n</div>"
     },
     "metadata": {},
     "execution_count": 26
    }
   ],
   "source": [
    "mpg[mpg['manufacturer'].isin(over_five)][['manufacturer','mpg']].groupby('manufacturer').mean().sort_values(by='mpg', ascending=False)[:5]"
   ]
  },
  {
   "cell_type": "code",
   "execution_count": null,
   "metadata": {},
   "outputs": [],
   "source": []
  }
 ]
}